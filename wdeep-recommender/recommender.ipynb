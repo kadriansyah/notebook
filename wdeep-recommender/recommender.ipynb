{
 "cells": [
  {
   "cell_type": "code",
   "execution_count": 1,
   "metadata": {},
   "outputs": [],
   "source": [
    "from __future__ import absolute_import\n",
    "from __future__ import division\n",
    "from __future__ import print_function\n",
    "\n",
    "\"\"\" run this on shell\n",
    "    % export PYTHONPATH=$PYTHONPATH:/Users/kadriansyah/Projects/python/notebook/wdeep-recommender/models-2.1.0\n",
    "    % jupyter notebook --no-browser\n",
    "\"\"\"\n",
    "\"\"\"Download and clean the Census Income Dataset.\"\"\"\n",
    "\n",
    "import os\n",
    "import sys\n",
    "\n",
    "from absl import app as absl_app\n",
    "from absl import flags\n",
    "from six.moves import urllib\n",
    "from six.moves import zip\n",
    "import tensorflow as tf\n",
    "\n",
    "from official.utils.flags import core as flags_core\n",
    "\n",
    "DATA_URL = 'https://archive.ics.uci.edu/ml/machine-learning-databases/adult'\n",
    "TRAINING_FILE = 'adult.data'\n",
    "TRAINING_URL = '%s/%s' % (DATA_URL, TRAINING_FILE)\n",
    "EVAL_FILE = 'adult.test'\n",
    "EVAL_URL = '%s/%s' % (DATA_URL, EVAL_FILE)\n",
    "\n",
    "_CSV_COLUMNS = [\n",
    "    'age', 'workclass', 'fnlwgt', 'education', 'education_num',\n",
    "    'marital_status', 'occupation', 'relationship', 'race', 'gender',\n",
    "    'capital_gain', 'capital_loss', 'hours_per_week', 'native_country',\n",
    "    'income_bracket'\n",
    "]\n",
    "\n",
    "_CSV_COLUMN_DEFAULTS = [[0], [''], [0], [''], [0], [''], [''], [''], [''], [''], [0], [0], [0], [''], ['']]\n",
    "\n",
    "_HASH_BUCKET_SIZE = 1000\n",
    "_NUM_EXAMPLES = { 'train': 32561, 'validation': 16281 }"
   ]
  },
  {
   "cell_type": "code",
   "execution_count": 2,
   "metadata": {},
   "outputs": [],
   "source": [
    "def _download_and_clean_file(filename, url):\n",
    "    \"\"\"Downloads data from url, and makes changes to match the CSV format.\"\"\"\n",
    "    temp_file, _ = urllib.request.urlretrieve(url)\n",
    "    with tf.compat.v1.gfile.Open(temp_file, 'r') as temp_eval_file:\n",
    "        with tf.compat.v1.gfile.Open(filename, 'w') as eval_file:\n",
    "            for line in temp_eval_file:\n",
    "                line = line.strip()\n",
    "                line = line.replace(', ', ',')\n",
    "                if not line or ',' not in line:\n",
    "                    continue\n",
    "                if line[-1] == '.':\n",
    "                    line = line[:-1]\n",
    "                line += '\\n'\n",
    "                eval_file.write(line)\n",
    "    tf.compat.v1.gfile.Remove(temp_file)"
   ]
  },
  {
   "cell_type": "code",
   "execution_count": 3,
   "metadata": {},
   "outputs": [],
   "source": [
    "def download(data_dir):\n",
    "    \"\"\"Download census data if it is not already present.\"\"\"\n",
    "    tf.io.gfile.makedirs(data_dir)\n",
    "\n",
    "    training_file_path = os.path.join(data_dir, TRAINING_FILE)\n",
    "    if not tf.io.gfile.exists(training_file_path):\n",
    "        _download_and_clean_file(training_file_path, TRAINING_URL)\n",
    "\n",
    "    eval_file_path = os.path.join(data_dir, EVAL_FILE)\n",
    "    if not tf.io.gfile.exists(eval_file_path):\n",
    "        _download_and_clean_file(eval_file_path, EVAL_URL)"
   ]
  },
  {
   "cell_type": "code",
   "execution_count": 4,
   "metadata": {},
   "outputs": [],
   "source": [
    "def build_model_columns():\n",
    "    \"\"\"Builds a set of wide and deep feature columns.\"\"\"\n",
    "    # Continuous variable columns\n",
    "    age = tf.feature_column.numeric_column('age')\n",
    "    education_num = tf.feature_column.numeric_column('education_num')\n",
    "    capital_gain = tf.feature_column.numeric_column('capital_gain')\n",
    "    capital_loss = tf.feature_column.numeric_column('capital_loss')\n",
    "    hours_per_week = tf.feature_column.numeric_column('hours_per_week')\n",
    "    \n",
    "    education = tf.feature_column.categorical_column_with_vocabulary_list(\n",
    "        'education', [\n",
    "            'Bachelors', 'HS-grad', '11th', 'Masters', '9th', 'Some-college',\n",
    "            'Assoc-acdm', 'Assoc-voc', '7th-8th', 'Doctorate', 'Prof-school',\n",
    "            '5th-6th', '10th', '1st-4th', 'Preschool', '12th'])\n",
    "    \n",
    "    marital_status = tf.feature_column.categorical_column_with_vocabulary_list(\n",
    "        'marital_status', [\n",
    "            'Married-civ-spouse', 'Divorced', 'Married-spouse-absent',\n",
    "            'Never-married', 'Separated', 'Married-AF-spouse', 'Widowed'])\n",
    "    \n",
    "    relationship = tf.feature_column.categorical_column_with_vocabulary_list(\n",
    "        'relationship', [\n",
    "            'Husband', 'Not-in-family', 'Wife', 'Own-child', 'Unmarried',\n",
    "            'Other-relative'])\n",
    "    \n",
    "    workclass = tf.feature_column.categorical_column_with_vocabulary_list(\n",
    "        'workclass', [\n",
    "            'Self-emp-not-inc', 'Private', 'State-gov', 'Federal-gov',\n",
    "            'Local-gov', '?', 'Self-emp-inc', 'Without-pay', 'Never-worked'])\n",
    "    \n",
    "    # To show an example of hashing:\n",
    "    occupation = tf.feature_column.categorical_column_with_hash_bucket(\n",
    "        'occupation', hash_bucket_size=_HASH_BUCKET_SIZE)\n",
    "    \n",
    "    # Transformations.\n",
    "    age_buckets = tf.feature_column.bucketized_column(\n",
    "        age, boundaries=[18, 25, 30, 35, 40, 45, 50, 55, 60, 65])\n",
    "    \n",
    "    # Wide columns and deep columns.\n",
    "    base_columns = [\n",
    "        education, marital_status, relationship, workclass, occupation,\n",
    "        age_buckets,\n",
    "    ]\n",
    "    \n",
    "    crossed_columns = [\n",
    "        tf.feature_column.crossed_column(\n",
    "            ['education', 'occupation'], hash_bucket_size=_HASH_BUCKET_SIZE),\n",
    "        tf.feature_column.crossed_column(\n",
    "            [age_buckets, 'education', 'occupation'],\n",
    "            hash_bucket_size=_HASH_BUCKET_SIZE),\n",
    "    ]\n",
    "    \n",
    "    wide_columns = base_columns + crossed_columns\n",
    "    \n",
    "    deep_columns = [\n",
    "        age,\n",
    "        education_num,\n",
    "        capital_gain,\n",
    "        capital_loss,\n",
    "        hours_per_week,\n",
    "        tf.feature_column.indicator_column(workclass),\n",
    "        tf.feature_column.indicator_column(education),\n",
    "        tf.feature_column.indicator_column(marital_status),\n",
    "        tf.feature_column.indicator_column(relationship),\n",
    "        # To show an example of embedding\n",
    "        tf.feature_column.embedding_column(occupation, dimension=8),\n",
    "    ]\n",
    "    \n",
    "    return wide_columns, deep_columns"
   ]
  },
  {
   "cell_type": "code",
   "execution_count": 5,
   "metadata": {},
   "outputs": [],
   "source": [
    "def input_fn(data_file, num_epochs, shuffle, batch_size):\n",
    "    \"\"\"Generate an input function for the Estimator.\"\"\"\n",
    "    assert tf.compat.v1.gfile.Exists(data_file), (\n",
    "        '%s not found. Please make sure you already download the data and '\n",
    "        'set the --data_dir argument to the correct path.' % data_file)\n",
    "    \n",
    "    def parse_csv(value):\n",
    "        tf.compat.v1.logging.info('Parsing {}'.format(data_file))\n",
    "        columns = tf.io.decode_csv(value, record_defaults=_CSV_COLUMN_DEFAULTS)\n",
    "        features = dict(list(zip(_CSV_COLUMNS, columns)))\n",
    "        labels = features.pop('income_bracket')\n",
    "        classes = tf.equal(labels, '>50K')  # binary classification\n",
    "        return features, classes\n",
    "    \n",
    "    # Extract lines from input files using the Dataset API.\n",
    "    dataset = tf.data.TextLineDataset(data_file)\n",
    "    \n",
    "    if shuffle:\n",
    "        dataset = dataset.shuffle(buffer_size=_NUM_EXAMPLES['train'])\n",
    "    \n",
    "    dataset = dataset.map(parse_csv, num_parallel_calls=5)\n",
    "    \n",
    "    # We call repeat after shuffling, rather than before, to prevent separate epochs from blending together.\n",
    "    dataset = dataset.repeat(num_epochs)\n",
    "    dataset = dataset.batch(batch_size)\n",
    "    return dataset"
   ]
  },
  {
   "cell_type": "code",
   "execution_count": 6,
   "metadata": {},
   "outputs": [],
   "source": [
    "\"\"\"Train DNN on census income dataset.\"\"\"\n",
    "\n",
    "import os\n",
    "\n",
    "from absl import app as absl_app\n",
    "from absl import flags\n",
    "import tensorflow as tf\n",
    "\n",
    "from official.utils.flags import core as flags_core\n",
    "from official.utils.logs import logger\n",
    "from official.r1.wide_deep import census_dataset\n",
    "from official.r1.wide_deep import wide_deep_run_loop\n",
    "\n",
    "def build_estimator(model_dir, model_type, model_column_fn, inter_op, intra_op):\n",
    "    \"\"\"Build an estimator appropriate for the given model type.\"\"\"\n",
    "    wide_columns, deep_columns = model_column_fn()\n",
    "    hidden_units = [100, 75, 50, 25]\n",
    "    \n",
    "    # Create a tf.estimator.RunConfig to ensure the model is run on CPU, which trains faster than GPU for this model.\n",
    "    run_config = tf.estimator.RunConfig().replace(\n",
    "        session_config=tf.compat.v1.ConfigProto(device_count={'GPU': 0},\n",
    "                                      inter_op_parallelism_threads=inter_op,\n",
    "                                      intra_op_parallelism_threads=intra_op))\n",
    "    \n",
    "    if model_type == 'wide':\n",
    "        return tf.estimator.LinearClassifier(\n",
    "            model_dir=model_dir,\n",
    "            feature_columns=wide_columns,\n",
    "            config=run_config)\n",
    "    elif model_type == 'deep':\n",
    "        return tf.estimator.DNNClassifier(\n",
    "            model_dir=model_dir,\n",
    "            feature_columns=deep_columns,\n",
    "            hidden_units=hidden_units,\n",
    "            config=run_config)\n",
    "    else:\n",
    "        return tf.estimator.DNNLinearCombinedClassifier(\n",
    "            model_dir=model_dir,\n",
    "            linear_feature_columns=wide_columns,\n",
    "            dnn_feature_columns=deep_columns,\n",
    "            dnn_hidden_units=hidden_units,\n",
    "            config=run_config)"
   ]
  },
  {
   "cell_type": "code",
   "execution_count": 7,
   "metadata": {},
   "outputs": [],
   "source": [
    "from __future__ import absolute_import\n",
    "from __future__ import division\n",
    "from __future__ import print_function\n",
    "\n",
    "\"\"\"Core run logic for TensorFlow Wide & Deep Tutorial using tf.estimator API.\"\"\"\n",
    "\n",
    "import os\n",
    "import shutil\n",
    "\n",
    "from absl import app as absl_app\n",
    "from absl import flags\n",
    "import tensorflow as tf  # pylint: disable=g-bad-import-order\n",
    "\n",
    "from official.utils.flags import core as flags_core\n",
    "from official.utils.logs import hooks_helper\n",
    "from official.utils.logs import logger\n",
    "from official.utils.misc import model_helpers\n",
    "\n",
    "LOSS_PREFIX = {'wide': 'linear/', 'deep': 'dnn/'}\n",
    "\n",
    "def export_model(model, model_type, export_dir, model_column_fn):\n",
    "    \"\"\"\n",
    "        Export to SavedModel format.\n",
    "        Args:\n",
    "        model: Estimator object\n",
    "        model_type: string indicating model type. \"wide\", \"deep\" or \"wide_deep\"\n",
    "        export_dir: directory to export the model.\n",
    "        model_column_fn: Function to generate model feature columns.\n",
    "    \"\"\"\n",
    "    wide_columns, deep_columns = model_column_fn()\n",
    "    if model_type == 'wide':\n",
    "        columns = wide_columns\n",
    "    elif model_type == 'deep':\n",
    "        columns = deep_columns\n",
    "    else:\n",
    "        columns = wide_columns + deep_columns\n",
    "    feature_spec = tf.feature_column.make_parse_example_spec(columns)\n",
    "    example_input_fn = (tf.estimator.export.build_parsing_serving_input_receiver_fn(feature_spec))\n",
    "    model.export_saved_model(export_dir, example_input_fn)\n",
    "\n",
    "def run_loop(name, train_input_fn, eval_input_fn, model_column_fn,\n",
    "             build_estimator_fn, flags_obj, early_stop=False):\n",
    "    \"\"\"Define training loop.\"\"\"\n",
    "    model_helpers.apply_clean(flags.FLAGS)\n",
    "    model = build_estimator_fn(\n",
    "        model_dir=flags_obj.model_dir, model_type=flags_obj.model_type,\n",
    "        model_column_fn=model_column_fn,\n",
    "        inter_op=flags_obj.inter_op_parallelism_threads,\n",
    "        intra_op=flags_obj.intra_op_parallelism_threads)\n",
    "    \n",
    "    run_params = {\n",
    "        'batch_size': flags_obj.batch_size,\n",
    "        'train_epochs': flags_obj.train_epochs,\n",
    "        'model_type': flags_obj.model_type,\n",
    "    }\n",
    "    \n",
    "    benchmark_logger = logger.get_benchmark_logger()\n",
    "    benchmark_logger.log_run_info('wide_deep', name, run_params, test_id=flags_obj.benchmark_test_id)\n",
    "    \n",
    "#     loss_prefix = LOSS_PREFIX.get(flags_obj.model_type, '')\n",
    "#     tensors_to_log = {k: v.format(loss_prefix=loss_prefix) for k, v in tensors_to_log.items()}\n",
    "    \n",
    "#     train_hooks = hooks_helper.get_train_hooks(\n",
    "#         flags_obj.hooks, model_dir=flags_obj.model_dir,\n",
    "#         batch_size=flags_obj.batch_size, tensors_to_log=tensors_to_log)\n",
    "    \n",
    "    # Train and evaluate the model every `flags.epochs_between_evals` epochs.\n",
    "    for n in range(flags_obj.train_epochs // flags_obj.epochs_between_evals):\n",
    "        model.train(input_fn=train_input_fn)\n",
    "\n",
    "        results = model.evaluate(input_fn=eval_input_fn)\n",
    "        \n",
    "        # Display evaluation metrics\n",
    "        tf.compat.v1.logging.info('Results at epoch %d / %d',\n",
    "                                  (n + 1) * flags_obj.epochs_between_evals,\n",
    "                                  flags_obj.train_epochs)\n",
    "        tf.compat.v1.logging.info('-' * 60)\n",
    "        \n",
    "        for key in sorted(results):\n",
    "            tf.compat.v1.logging.info('%s: %s' % (key, results[key]))\n",
    "        \n",
    "        benchmark_logger.log_evaluation_result(results)\n",
    "        \n",
    "        if early_stop and model_helpers.past_stop_threshold(\n",
    "            flags_obj.stop_threshold, results['accuracy']):\n",
    "            break\n",
    "    \n",
    "    # Export the model\n",
    "    if flags_obj.export_dir is not None:\n",
    "        export_model(model, flags_obj.model_type, flags_obj.export_dir, model_column_fn)"
   ]
  },
  {
   "cell_type": "code",
   "execution_count": 8,
   "metadata": {},
   "outputs": [],
   "source": [
    "def run_census(flags_obj):\n",
    "    \"\"\"\n",
    "        Construct all necessary functions and call run_loop.\n",
    "        Args:\n",
    "        flags_obj: Object containing user specified flags.\n",
    "    \"\"\"\n",
    "    if flags_obj.download_if_missing:\n",
    "        download(flags_obj.data_dir)\n",
    "\n",
    "    train_file = os.path.join(flags_obj.data_dir, TRAINING_FILE)\n",
    "    test_file = os.path.join(flags_obj.data_dir, EVAL_FILE)\n",
    "    \n",
    "    # Train and evaluate the model every `flags.epochs_between_evals` epochs.\n",
    "    def train_input_fn():\n",
    "        return input_fn(train_file, flags_obj.epochs_between_evals, True, flags_obj.batch_size)\n",
    "    \n",
    "    def eval_input_fn():\n",
    "        return input_fn(test_file, 1, False, flags_obj.batch_size)\n",
    "    \n",
    "#     tensors_to_log = {\n",
    "#         'average_loss': '{loss_prefix}head/truediv',\n",
    "#         'loss': '{loss_prefix}head/weighted_loss/Sum'\n",
    "#     }\n",
    "\n",
    "    run_loop(\n",
    "        name=\"Census Income\", train_input_fn=train_input_fn,\n",
    "        eval_input_fn=eval_input_fn,\n",
    "        model_column_fn=build_model_columns,\n",
    "        build_estimator_fn=build_estimator,\n",
    "        flags_obj=flags_obj,\n",
    "        early_stop=True)"
   ]
  },
  {
   "cell_type": "code",
   "execution_count": 9,
   "metadata": {},
   "outputs": [],
   "source": [
    "def define_data_download_flags():\n",
    "  \"\"\"Add flags specifying data download arguments.\"\"\"\n",
    "  flags.DEFINE_string(\n",
    "      name=\"data_dir\", default=\"data/\",\n",
    "      help=flags_core.help_wrap(\"Directory to download and extract data.\")\n",
    "  )\n",
    "\n",
    "def define_wide_deep_flags():\n",
    "    \"\"\"Add supervised learning flags, as well as wide-deep model type.\"\"\"\n",
    "    flags_core.define_base(clean=True, train_epochs=True,\n",
    "                           epochs_between_evals=True, stop_threshold=True,\n",
    "                           hooks=True, export_dir=True)\n",
    "    flags_core.define_benchmark()\n",
    "    flags_core.define_performance(\n",
    "        num_parallel_calls=False, inter_op=True, intra_op=True,\n",
    "        synthetic_data=False, max_train_steps=False, dtype=False,\n",
    "        all_reduce_alg=False)\n",
    "    \n",
    "    flags.adopt_module_key_flags(flags_core)\n",
    "\n",
    "    flags.DEFINE_enum(\n",
    "        name=\"model_type\", short_name=\"mt\", default=\"wide_deep\",\n",
    "        enum_values=['wide', 'deep', 'wide_deep'],\n",
    "        help=\"Select model topology.\")\n",
    "    \n",
    "    flags.DEFINE_boolean(\n",
    "        name=\"download_if_missing\", default=True,\n",
    "        help=flags_core.help_wrap(\"Download data to data_dir if it is not already present.\"))\n",
    "\n",
    "def define_census_flags():\n",
    "    define_wide_deep_flags()\n",
    "    flags.adopt_module_key_flags(wide_deep_run_loop)\n",
    "    flags_core.set_defaults(data_dir='data',\n",
    "                            model_dir='model',\n",
    "                            export_dir='saved_model',\n",
    "                            train_epochs=40,\n",
    "                            epochs_between_evals=2,\n",
    "                            inter_op_parallelism_threads=0,\n",
    "                            intra_op_parallelism_threads=0,\n",
    "                            batch_size=40)"
   ]
  },
  {
   "cell_type": "code",
   "execution_count": 10,
   "metadata": {},
   "outputs": [],
   "source": [
    "# def main(_):\n",
    "#     download(flags.FLAGS.data_dir)\n",
    "\n",
    "# try:\n",
    "#     # prevent from \"FATAL Flags parsing error: Unknown command line flag 'f'\"\n",
    "#     import sys\n",
    "#     sys.argv = sys.argv[:1]\n",
    "\n",
    "#     tf.compat.v1.logging.set_verbosity(tf.compat.v1.logging.INFO)\n",
    "#     define_data_download_flags()\n",
    "#     absl_app.run(main)\n",
    "# except SystemExit:\n",
    "#     print(\"It works!\")"
   ]
  },
  {
   "cell_type": "code",
   "execution_count": 11,
   "metadata": {},
   "outputs": [
    {
     "name": "stdout",
     "output_type": "stream",
     "text": [
      "INFO:tensorflow:Using config: {'_model_dir': 'model', '_tf_random_seed': None, '_save_summary_steps': 100, '_save_checkpoints_steps': None, '_save_checkpoints_secs': 600, '_session_config': device_count {\n",
      "  key: \"GPU\"\n",
      "  value: 0\n",
      "}\n",
      ", '_keep_checkpoint_max': 5, '_keep_checkpoint_every_n_hours': 10000, '_log_step_count_steps': 100, '_train_distribute': None, '_device_fn': None, '_protocol': None, '_eval_distribute': None, '_experimental_distribute': None, '_experimental_max_worker_delay_secs': None, '_session_creation_timeout_secs': 7200, '_service': None, '_cluster_spec': ClusterSpec({}), '_task_type': 'worker', '_task_id': 0, '_global_id_in_cluster': 0, '_master': '', '_evaluation_master': '', '_is_chief': True, '_num_ps_replicas': 0, '_num_worker_replicas': 1}\n"
     ]
    },
    {
     "name": "stderr",
     "output_type": "stream",
     "text": [
      "I0211 12:05:23.542042 4439444928 estimator.py:216] Using config: {'_model_dir': 'model', '_tf_random_seed': None, '_save_summary_steps': 100, '_save_checkpoints_steps': None, '_save_checkpoints_secs': 600, '_session_config': device_count {\n",
      "  key: \"GPU\"\n",
      "  value: 0\n",
      "}\n",
      ", '_keep_checkpoint_max': 5, '_keep_checkpoint_every_n_hours': 10000, '_log_step_count_steps': 100, '_train_distribute': None, '_device_fn': None, '_protocol': None, '_eval_distribute': None, '_experimental_distribute': None, '_experimental_max_worker_delay_secs': None, '_session_creation_timeout_secs': 7200, '_service': None, '_cluster_spec': ClusterSpec({}), '_task_type': 'worker', '_task_id': 0, '_global_id_in_cluster': 0, '_master': '', '_evaluation_master': '', '_is_chief': True, '_num_ps_replicas': 0, '_num_worker_replicas': 1}\n"
     ]
    },
    {
     "name": "stdout",
     "output_type": "stream",
     "text": [
      "INFO:tensorflow:Benchmark run: {'model_name': 'wide_deep', 'dataset': {'name': 'Census Income'}, 'machine_config': {'cpu_info': {'num_cores': 12, 'cpu_info': 'Intel(R) Core(TM) i7-9750H CPU @ 2.60GHz', 'mhz_per_cpu': 2600.0}, 'memory_total': 17179869184, 'memory_available': 7033278464}, 'test_id': None, 'run_date': '2020-02-11T05:05:23.543638Z', 'tensorflow_version': {'version': '2.1.0', 'git_hash': 'v2.1.0-rc2-17-ge5bf8de410'}, 'tensorflow_environment_variables': [], 'run_parameters': [{'name': 'batch_size', 'long_value': 40}, {'name': 'model_type', 'string_value': 'wide_deep'}, {'name': 'train_epochs', 'long_value': 40}]}\n"
     ]
    },
    {
     "name": "stderr",
     "output_type": "stream",
     "text": [
      "I0211 12:05:24.759156 4439444928 logger.py:152] Benchmark run: {'model_name': 'wide_deep', 'dataset': {'name': 'Census Income'}, 'machine_config': {'cpu_info': {'num_cores': 12, 'cpu_info': 'Intel(R) Core(TM) i7-9750H CPU @ 2.60GHz', 'mhz_per_cpu': 2600.0}, 'memory_total': 17179869184, 'memory_available': 7033278464}, 'test_id': None, 'run_date': '2020-02-11T05:05:23.543638Z', 'tensorflow_version': {'version': '2.1.0', 'git_hash': 'v2.1.0-rc2-17-ge5bf8de410'}, 'tensorflow_environment_variables': [], 'run_parameters': [{'name': 'batch_size', 'long_value': 40}, {'name': 'model_type', 'string_value': 'wide_deep'}, {'name': 'train_epochs', 'long_value': 40}]}\n"
     ]
    },
    {
     "name": "stdout",
     "output_type": "stream",
     "text": [
      "WARNING:tensorflow:From /Users/kadriansyah/anaconda3/envs/recommender/lib/python3.7/site-packages/tensorflow_core/python/ops/resource_variable_ops.py:1635: calling BaseResourceVariable.__init__ (from tensorflow.python.ops.resource_variable_ops) with constraint is deprecated and will be removed in a future version.\n",
      "Instructions for updating:\n",
      "If using Keras pass *_constraint arguments to layers.\n"
     ]
    },
    {
     "name": "stderr",
     "output_type": "stream",
     "text": [
      "W0211 12:05:24.766645 4439444928 deprecation.py:506] From /Users/kadriansyah/anaconda3/envs/recommender/lib/python3.7/site-packages/tensorflow_core/python/ops/resource_variable_ops.py:1635: calling BaseResourceVariable.__init__ (from tensorflow.python.ops.resource_variable_ops) with constraint is deprecated and will be removed in a future version.\n",
      "Instructions for updating:\n",
      "If using Keras pass *_constraint arguments to layers.\n"
     ]
    },
    {
     "name": "stdout",
     "output_type": "stream",
     "text": [
      "WARNING:tensorflow:From /Users/kadriansyah/anaconda3/envs/recommender/lib/python3.7/site-packages/tensorflow_core/python/training/training_util.py:236: Variable.initialized_value (from tensorflow.python.ops.variables) is deprecated and will be removed in a future version.\n",
      "Instructions for updating:\n",
      "Use Variable.read_value. Variables in 2.X are initialized automatically both in eager and graph (inside tf.defun) contexts.\n"
     ]
    },
    {
     "name": "stderr",
     "output_type": "stream",
     "text": [
      "W0211 12:05:24.767750 4439444928 deprecation.py:323] From /Users/kadriansyah/anaconda3/envs/recommender/lib/python3.7/site-packages/tensorflow_core/python/training/training_util.py:236: Variable.initialized_value (from tensorflow.python.ops.variables) is deprecated and will be removed in a future version.\n",
      "Instructions for updating:\n",
      "Use Variable.read_value. Variables in 2.X are initialized automatically both in eager and graph (inside tf.defun) contexts.\n"
     ]
    },
    {
     "name": "stdout",
     "output_type": "stream",
     "text": [
      "INFO:tensorflow:Parsing data/adult.data\n"
     ]
    },
    {
     "name": "stderr",
     "output_type": "stream",
     "text": [
      "I0211 12:05:24.929440 4439444928 api.py:332] Parsing data/adult.data\n"
     ]
    },
    {
     "name": "stdout",
     "output_type": "stream",
     "text": [
      "INFO:tensorflow:Calling model_fn.\n"
     ]
    },
    {
     "name": "stderr",
     "output_type": "stream",
     "text": [
      "I0211 12:05:24.949595 4439444928 estimator.py:1151] Calling model_fn.\n"
     ]
    },
    {
     "name": "stdout",
     "output_type": "stream",
     "text": [
      "WARNING:tensorflow:From /Users/kadriansyah/anaconda3/envs/recommender/lib/python3.7/site-packages/tensorflow_core/python/feature_column/feature_column_v2.py:4267: IndicatorColumn._variable_shape (from tensorflow.python.feature_column.feature_column_v2) is deprecated and will be removed in a future version.\n",
      "Instructions for updating:\n",
      "The old _FeatureColumn APIs are being deprecated. Please use the new FeatureColumn APIs instead.\n"
     ]
    },
    {
     "name": "stderr",
     "output_type": "stream",
     "text": [
      "W0211 12:05:25.217619 4439444928 deprecation.py:323] From /Users/kadriansyah/anaconda3/envs/recommender/lib/python3.7/site-packages/tensorflow_core/python/feature_column/feature_column_v2.py:4267: IndicatorColumn._variable_shape (from tensorflow.python.feature_column.feature_column_v2) is deprecated and will be removed in a future version.\n",
      "Instructions for updating:\n",
      "The old _FeatureColumn APIs are being deprecated. Please use the new FeatureColumn APIs instead.\n"
     ]
    },
    {
     "name": "stdout",
     "output_type": "stream",
     "text": [
      "WARNING:tensorflow:From /Users/kadriansyah/anaconda3/envs/recommender/lib/python3.7/site-packages/tensorflow_core/python/feature_column/feature_column_v2.py:4322: VocabularyListCategoricalColumn._num_buckets (from tensorflow.python.feature_column.feature_column_v2) is deprecated and will be removed in a future version.\n",
      "Instructions for updating:\n",
      "The old _FeatureColumn APIs are being deprecated. Please use the new FeatureColumn APIs instead.\n"
     ]
    },
    {
     "name": "stderr",
     "output_type": "stream",
     "text": [
      "W0211 12:05:25.218614 4439444928 deprecation.py:323] From /Users/kadriansyah/anaconda3/envs/recommender/lib/python3.7/site-packages/tensorflow_core/python/feature_column/feature_column_v2.py:4322: VocabularyListCategoricalColumn._num_buckets (from tensorflow.python.feature_column.feature_column_v2) is deprecated and will be removed in a future version.\n",
      "Instructions for updating:\n",
      "The old _FeatureColumn APIs are being deprecated. Please use the new FeatureColumn APIs instead.\n"
     ]
    },
    {
     "name": "stdout",
     "output_type": "stream",
     "text": [
      "WARNING:tensorflow:From /Users/kadriansyah/anaconda3/envs/recommender/lib/python3.7/site-packages/tensorflow_core/python/feature_column/feature_column_v2.py:518: Layer.add_variable (from tensorflow.python.keras.engine.base_layer) is deprecated and will be removed in a future version.\n",
      "Instructions for updating:\n",
      "Please use `layer.add_weight` method instead.\n"
     ]
    },
    {
     "name": "stderr",
     "output_type": "stream",
     "text": [
      "W0211 12:05:25.467994 4439444928 deprecation.py:323] From /Users/kadriansyah/anaconda3/envs/recommender/lib/python3.7/site-packages/tensorflow_core/python/feature_column/feature_column_v2.py:518: Layer.add_variable (from tensorflow.python.keras.engine.base_layer) is deprecated and will be removed in a future version.\n",
      "Instructions for updating:\n",
      "Please use `layer.add_weight` method instead.\n"
     ]
    },
    {
     "name": "stdout",
     "output_type": "stream",
     "text": [
      "WARNING:tensorflow:From /Users/kadriansyah/anaconda3/envs/recommender/lib/python3.7/site-packages/tensorflow_core/python/keras/optimizer_v2/adagrad.py:103: calling Constant.__init__ (from tensorflow.python.ops.init_ops) with dtype is deprecated and will be removed in a future version.\n",
      "Instructions for updating:\n",
      "Call initializer instance with the dtype argument instead of passing it to the constructor\n"
     ]
    },
    {
     "name": "stderr",
     "output_type": "stream",
     "text": [
      "W0211 12:05:25.852660 4439444928 deprecation.py:506] From /Users/kadriansyah/anaconda3/envs/recommender/lib/python3.7/site-packages/tensorflow_core/python/keras/optimizer_v2/adagrad.py:103: calling Constant.__init__ (from tensorflow.python.ops.init_ops) with dtype is deprecated and will be removed in a future version.\n",
      "Instructions for updating:\n",
      "Call initializer instance with the dtype argument instead of passing it to the constructor\n"
     ]
    },
    {
     "name": "stdout",
     "output_type": "stream",
     "text": [
      "INFO:tensorflow:Done calling model_fn.\n"
     ]
    },
    {
     "name": "stderr",
     "output_type": "stream",
     "text": [
      "I0211 12:05:26.056962 4439444928 estimator.py:1153] Done calling model_fn.\n"
     ]
    },
    {
     "name": "stdout",
     "output_type": "stream",
     "text": [
      "INFO:tensorflow:Create CheckpointSaverHook.\n"
     ]
    },
    {
     "name": "stderr",
     "output_type": "stream",
     "text": [
      "I0211 12:05:26.057950 4439444928 basic_session_run_hooks.py:546] Create CheckpointSaverHook.\n"
     ]
    },
    {
     "name": "stdout",
     "output_type": "stream",
     "text": [
      "INFO:tensorflow:Graph was finalized.\n"
     ]
    },
    {
     "name": "stderr",
     "output_type": "stream",
     "text": [
      "I0211 12:05:26.368505 4439444928 monitored_session.py:246] Graph was finalized.\n"
     ]
    },
    {
     "name": "stdout",
     "output_type": "stream",
     "text": [
      "INFO:tensorflow:Running local_init_op.\n"
     ]
    },
    {
     "name": "stderr",
     "output_type": "stream",
     "text": [
      "I0211 12:05:26.660022 4439444928 session_manager.py:504] Running local_init_op.\n"
     ]
    },
    {
     "name": "stdout",
     "output_type": "stream",
     "text": [
      "INFO:tensorflow:Done running local_init_op.\n"
     ]
    },
    {
     "name": "stderr",
     "output_type": "stream",
     "text": [
      "I0211 12:05:26.714663 4439444928 session_manager.py:507] Done running local_init_op.\n"
     ]
    },
    {
     "name": "stdout",
     "output_type": "stream",
     "text": [
      "INFO:tensorflow:Saving checkpoints for 0 into model/model.ckpt.\n"
     ]
    },
    {
     "name": "stderr",
     "output_type": "stream",
     "text": [
      "I0211 12:05:27.648215 4439444928 basic_session_run_hooks.py:613] Saving checkpoints for 0 into model/model.ckpt.\n"
     ]
    },
    {
     "name": "stdout",
     "output_type": "stream",
     "text": [
      "INFO:tensorflow:loss = 4.415785, step = 0\n"
     ]
    },
    {
     "name": "stderr",
     "output_type": "stream",
     "text": [
      "I0211 12:05:28.687117 4439444928 basic_session_run_hooks.py:262] loss = 4.415785, step = 0\n"
     ]
    },
    {
     "name": "stdout",
     "output_type": "stream",
     "text": [
      "INFO:tensorflow:global_step/sec: 148.527\n"
     ]
    },
    {
     "name": "stderr",
     "output_type": "stream",
     "text": [
      "I0211 12:05:29.360039 4439444928 basic_session_run_hooks.py:700] global_step/sec: 148.527\n"
     ]
    },
    {
     "name": "stdout",
     "output_type": "stream",
     "text": [
      "INFO:tensorflow:loss = 1.4812944, step = 100 (0.674 sec)\n"
     ]
    },
    {
     "name": "stderr",
     "output_type": "stream",
     "text": [
      "I0211 12:05:29.361449 4439444928 basic_session_run_hooks.py:260] loss = 1.4812944, step = 100 (0.674 sec)\n"
     ]
    },
    {
     "name": "stdout",
     "output_type": "stream",
     "text": [
      "INFO:tensorflow:global_step/sec: 472.834\n"
     ]
    },
    {
     "name": "stderr",
     "output_type": "stream",
     "text": [
      "I0211 12:05:29.571482 4439444928 basic_session_run_hooks.py:700] global_step/sec: 472.834\n"
     ]
    },
    {
     "name": "stdout",
     "output_type": "stream",
     "text": [
      "INFO:tensorflow:loss = 0.6995703, step = 200 (0.211 sec)\n"
     ]
    },
    {
     "name": "stderr",
     "output_type": "stream",
     "text": [
      "I0211 12:05:29.572716 4439444928 basic_session_run_hooks.py:260] loss = 0.6995703, step = 200 (0.211 sec)\n"
     ]
    },
    {
     "name": "stdout",
     "output_type": "stream",
     "text": [
      "INFO:tensorflow:global_step/sec: 510.958\n"
     ]
    },
    {
     "name": "stderr",
     "output_type": "stream",
     "text": [
      "I0211 12:05:29.767192 4439444928 basic_session_run_hooks.py:700] global_step/sec: 510.958\n"
     ]
    },
    {
     "name": "stdout",
     "output_type": "stream",
     "text": [
      "INFO:tensorflow:loss = 0.4134675, step = 300 (0.196 sec)\n"
     ]
    },
    {
     "name": "stderr",
     "output_type": "stream",
     "text": [
      "I0211 12:05:29.768462 4439444928 basic_session_run_hooks.py:260] loss = 0.4134675, step = 300 (0.196 sec)\n"
     ]
    },
    {
     "name": "stdout",
     "output_type": "stream",
     "text": [
      "INFO:tensorflow:global_step/sec: 511.92\n"
     ]
    },
    {
     "name": "stderr",
     "output_type": "stream",
     "text": [
      "I0211 12:05:29.962554 4439444928 basic_session_run_hooks.py:700] global_step/sec: 511.92\n"
     ]
    },
    {
     "name": "stdout",
     "output_type": "stream",
     "text": [
      "INFO:tensorflow:loss = 0.4299791, step = 400 (0.195 sec)\n"
     ]
    },
    {
     "name": "stderr",
     "output_type": "stream",
     "text": [
      "I0211 12:05:29.963891 4439444928 basic_session_run_hooks.py:260] loss = 0.4299791, step = 400 (0.195 sec)\n"
     ]
    },
    {
     "name": "stdout",
     "output_type": "stream",
     "text": [
      "INFO:tensorflow:global_step/sec: 523.777\n"
     ]
    },
    {
     "name": "stderr",
     "output_type": "stream",
     "text": [
      "I0211 12:05:30.153457 4439444928 basic_session_run_hooks.py:700] global_step/sec: 523.777\n"
     ]
    },
    {
     "name": "stdout",
     "output_type": "stream",
     "text": [
      "INFO:tensorflow:loss = 0.43775922, step = 500 (0.191 sec)\n"
     ]
    },
    {
     "name": "stderr",
     "output_type": "stream",
     "text": [
      "I0211 12:05:30.154745 4439444928 basic_session_run_hooks.py:260] loss = 0.43775922, step = 500 (0.191 sec)\n"
     ]
    },
    {
     "name": "stdout",
     "output_type": "stream",
     "text": [
      "INFO:tensorflow:global_step/sec: 522.493\n"
     ]
    },
    {
     "name": "stderr",
     "output_type": "stream",
     "text": [
      "I0211 12:05:30.344851 4439444928 basic_session_run_hooks.py:700] global_step/sec: 522.493\n"
     ]
    },
    {
     "name": "stdout",
     "output_type": "stream",
     "text": [
      "INFO:tensorflow:loss = 0.55726814, step = 600 (0.191 sec)\n"
     ]
    },
    {
     "name": "stderr",
     "output_type": "stream",
     "text": [
      "I0211 12:05:30.346122 4439444928 basic_session_run_hooks.py:260] loss = 0.55726814, step = 600 (0.191 sec)\n"
     ]
    },
    {
     "name": "stdout",
     "output_type": "stream",
     "text": [
      "INFO:tensorflow:global_step/sec: 522.701\n"
     ]
    },
    {
     "name": "stderr",
     "output_type": "stream",
     "text": [
      "I0211 12:05:30.536176 4439444928 basic_session_run_hooks.py:700] global_step/sec: 522.701\n"
     ]
    },
    {
     "name": "stdout",
     "output_type": "stream",
     "text": [
      "INFO:tensorflow:loss = 0.37613887, step = 700 (0.191 sec)\n"
     ]
    },
    {
     "name": "stderr",
     "output_type": "stream",
     "text": [
      "I0211 12:05:30.537446 4439444928 basic_session_run_hooks.py:260] loss = 0.37613887, step = 700 (0.191 sec)\n"
     ]
    },
    {
     "name": "stdout",
     "output_type": "stream",
     "text": [
      "INFO:tensorflow:global_step/sec: 486.634\n"
     ]
    },
    {
     "name": "stderr",
     "output_type": "stream",
     "text": [
      "I0211 12:05:30.741667 4439444928 basic_session_run_hooks.py:700] global_step/sec: 486.634\n"
     ]
    },
    {
     "name": "stdout",
     "output_type": "stream",
     "text": [
      "INFO:tensorflow:loss = 0.6170592, step = 800 (0.205 sec)\n"
     ]
    },
    {
     "name": "stderr",
     "output_type": "stream",
     "text": [
      "I0211 12:05:30.742905 4439444928 basic_session_run_hooks.py:260] loss = 0.6170592, step = 800 (0.205 sec)\n"
     ]
    },
    {
     "name": "stdout",
     "output_type": "stream",
     "text": [
      "INFO:tensorflow:global_step/sec: 398.159\n"
     ]
    },
    {
     "name": "stderr",
     "output_type": "stream",
     "text": [
      "I0211 12:05:30.992826 4439444928 basic_session_run_hooks.py:700] global_step/sec: 398.159\n"
     ]
    },
    {
     "name": "stdout",
     "output_type": "stream",
     "text": [
      "INFO:tensorflow:loss = 0.45522466, step = 900 (0.251 sec)\n"
     ]
    },
    {
     "name": "stderr",
     "output_type": "stream",
     "text": [
      "I0211 12:05:30.994095 4439444928 basic_session_run_hooks.py:260] loss = 0.45522466, step = 900 (0.251 sec)\n"
     ]
    },
    {
     "name": "stdout",
     "output_type": "stream",
     "text": [
      "INFO:tensorflow:global_step/sec: 515.552\n"
     ]
    },
    {
     "name": "stderr",
     "output_type": "stream",
     "text": [
      "I0211 12:05:31.186778 4439444928 basic_session_run_hooks.py:700] global_step/sec: 515.552\n"
     ]
    },
    {
     "name": "stdout",
     "output_type": "stream",
     "text": [
      "INFO:tensorflow:loss = 0.41573304, step = 1000 (0.194 sec)\n"
     ]
    },
    {
     "name": "stderr",
     "output_type": "stream",
     "text": [
      "I0211 12:05:31.188065 4439444928 basic_session_run_hooks.py:260] loss = 0.41573304, step = 1000 (0.194 sec)\n"
     ]
    },
    {
     "name": "stdout",
     "output_type": "stream",
     "text": [
      "INFO:tensorflow:global_step/sec: 501.278\n"
     ]
    },
    {
     "name": "stderr",
     "output_type": "stream",
     "text": [
      "I0211 12:05:31.386270 4439444928 basic_session_run_hooks.py:700] global_step/sec: 501.278\n"
     ]
    },
    {
     "name": "stdout",
     "output_type": "stream",
     "text": [
      "INFO:tensorflow:loss = 0.46631804, step = 1100 (0.199 sec)\n"
     ]
    },
    {
     "name": "stderr",
     "output_type": "stream",
     "text": [
      "I0211 12:05:31.387494 4439444928 basic_session_run_hooks.py:260] loss = 0.46631804, step = 1100 (0.199 sec)\n"
     ]
    },
    {
     "name": "stdout",
     "output_type": "stream",
     "text": [
      "INFO:tensorflow:global_step/sec: 521.208\n"
     ]
    },
    {
     "name": "stderr",
     "output_type": "stream",
     "text": [
      "I0211 12:05:31.578134 4439444928 basic_session_run_hooks.py:700] global_step/sec: 521.208\n"
     ]
    },
    {
     "name": "stdout",
     "output_type": "stream",
     "text": [
      "INFO:tensorflow:loss = 0.43400097, step = 1200 (0.192 sec)\n"
     ]
    },
    {
     "name": "stderr",
     "output_type": "stream",
     "text": [
      "I0211 12:05:31.579355 4439444928 basic_session_run_hooks.py:260] loss = 0.43400097, step = 1200 (0.192 sec)\n"
     ]
    },
    {
     "name": "stdout",
     "output_type": "stream",
     "text": [
      "INFO:tensorflow:global_step/sec: 518.212\n"
     ]
    },
    {
     "name": "stderr",
     "output_type": "stream",
     "text": [
      "I0211 12:05:31.771118 4439444928 basic_session_run_hooks.py:700] global_step/sec: 518.212\n"
     ]
    },
    {
     "name": "stdout",
     "output_type": "stream",
     "text": [
      "INFO:tensorflow:loss = 0.32009324, step = 1300 (0.193 sec)\n"
     ]
    },
    {
     "name": "stderr",
     "output_type": "stream",
     "text": [
      "I0211 12:05:31.772340 4439444928 basic_session_run_hooks.py:260] loss = 0.32009324, step = 1300 (0.193 sec)\n"
     ]
    },
    {
     "name": "stdout",
     "output_type": "stream",
     "text": [
      "INFO:tensorflow:global_step/sec: 497.083\n"
     ]
    },
    {
     "name": "stderr",
     "output_type": "stream",
     "text": [
      "I0211 12:05:31.972280 4439444928 basic_session_run_hooks.py:700] global_step/sec: 497.083\n"
     ]
    },
    {
     "name": "stdout",
     "output_type": "stream",
     "text": [
      "INFO:tensorflow:loss = 0.5540242, step = 1400 (0.201 sec)\n"
     ]
    },
    {
     "name": "stderr",
     "output_type": "stream",
     "text": [
      "I0211 12:05:31.973583 4439444928 basic_session_run_hooks.py:260] loss = 0.5540242, step = 1400 (0.201 sec)\n"
     ]
    },
    {
     "name": "stdout",
     "output_type": "stream",
     "text": [
      "INFO:tensorflow:global_step/sec: 515.567\n"
     ]
    },
    {
     "name": "stderr",
     "output_type": "stream",
     "text": [
      "I0211 12:05:32.166235 4439444928 basic_session_run_hooks.py:700] global_step/sec: 515.567\n"
     ]
    },
    {
     "name": "stdout",
     "output_type": "stream",
     "text": [
      "INFO:tensorflow:loss = 0.4512148, step = 1500 (0.194 sec)\n"
     ]
    },
    {
     "name": "stderr",
     "output_type": "stream",
     "text": [
      "I0211 12:05:32.167514 4439444928 basic_session_run_hooks.py:260] loss = 0.4512148, step = 1500 (0.194 sec)\n"
     ]
    },
    {
     "name": "stdout",
     "output_type": "stream",
     "text": [
      "INFO:tensorflow:global_step/sec: 466.696\n"
     ]
    },
    {
     "name": "stderr",
     "output_type": "stream",
     "text": [
      "I0211 12:05:32.380508 4439444928 basic_session_run_hooks.py:700] global_step/sec: 466.696\n"
     ]
    },
    {
     "name": "stdout",
     "output_type": "stream",
     "text": [
      "INFO:tensorflow:loss = 0.5207745, step = 1600 (0.214 sec)\n"
     ]
    },
    {
     "name": "stderr",
     "output_type": "stream",
     "text": [
      "I0211 12:05:32.381715 4439444928 basic_session_run_hooks.py:260] loss = 0.5207745, step = 1600 (0.214 sec)\n"
     ]
    },
    {
     "name": "stdout",
     "output_type": "stream",
     "text": [
      "INFO:tensorflow:Saving checkpoints for 1629 into model/model.ckpt.\n"
     ]
    },
    {
     "name": "stderr",
     "output_type": "stream",
     "text": [
      "I0211 12:05:32.535910 4439444928 basic_session_run_hooks.py:613] Saving checkpoints for 1629 into model/model.ckpt.\n"
     ]
    },
    {
     "name": "stdout",
     "output_type": "stream",
     "text": [
      "INFO:tensorflow:Loss for final step: 0.38879374.\n"
     ]
    },
    {
     "name": "stderr",
     "output_type": "stream",
     "text": [
      "I0211 12:05:32.704822 4439444928 estimator.py:375] Loss for final step: 0.38879374.\n"
     ]
    },
    {
     "name": "stdout",
     "output_type": "stream",
     "text": [
      "INFO:tensorflow:Parsing data/adult.test\n"
     ]
    },
    {
     "name": "stderr",
     "output_type": "stream",
     "text": [
      "I0211 12:05:32.717154 4439444928 api.py:332] Parsing data/adult.test\n"
     ]
    },
    {
     "name": "stdout",
     "output_type": "stream",
     "text": [
      "INFO:tensorflow:Calling model_fn.\n"
     ]
    },
    {
     "name": "stderr",
     "output_type": "stream",
     "text": [
      "I0211 12:05:32.738383 4439444928 estimator.py:1151] Calling model_fn.\n"
     ]
    },
    {
     "name": "stdout",
     "output_type": "stream",
     "text": [
      "INFO:tensorflow:Done calling model_fn.\n"
     ]
    },
    {
     "name": "stderr",
     "output_type": "stream",
     "text": [
      "I0211 12:05:33.785494 4439444928 estimator.py:1153] Done calling model_fn.\n"
     ]
    },
    {
     "name": "stdout",
     "output_type": "stream",
     "text": [
      "INFO:tensorflow:Starting evaluation at 2020-02-11T12:05:33Z\n"
     ]
    },
    {
     "name": "stderr",
     "output_type": "stream",
     "text": [
      "I0211 12:05:33.801912 4439444928 evaluation.py:255] Starting evaluation at 2020-02-11T12:05:33Z\n"
     ]
    },
    {
     "name": "stdout",
     "output_type": "stream",
     "text": [
      "INFO:tensorflow:Graph was finalized.\n"
     ]
    },
    {
     "name": "stderr",
     "output_type": "stream",
     "text": [
      "I0211 12:05:33.855978 4439444928 monitored_session.py:246] Graph was finalized.\n"
     ]
    },
    {
     "name": "stdout",
     "output_type": "stream",
     "text": [
      "INFO:tensorflow:Restoring parameters from model/model.ckpt-1629\n"
     ]
    },
    {
     "name": "stderr",
     "output_type": "stream",
     "text": [
      "I0211 12:05:33.857640 4439444928 saver.py:1284] Restoring parameters from model/model.ckpt-1629\n"
     ]
    },
    {
     "name": "stdout",
     "output_type": "stream",
     "text": [
      "INFO:tensorflow:Running local_init_op.\n"
     ]
    },
    {
     "name": "stderr",
     "output_type": "stream",
     "text": [
      "I0211 12:05:34.072773 4439444928 session_manager.py:504] Running local_init_op.\n"
     ]
    },
    {
     "name": "stdout",
     "output_type": "stream",
     "text": [
      "INFO:tensorflow:Done running local_init_op.\n"
     ]
    },
    {
     "name": "stderr",
     "output_type": "stream",
     "text": [
      "I0211 12:05:34.157432 4439444928 session_manager.py:507] Done running local_init_op.\n"
     ]
    },
    {
     "name": "stdout",
     "output_type": "stream",
     "text": [
      "INFO:tensorflow:Inference Time : 1.64047s\n"
     ]
    },
    {
     "name": "stderr",
     "output_type": "stream",
     "text": [
      "I0211 12:05:35.443229 4439444928 evaluation.py:273] Inference Time : 1.64047s\n"
     ]
    },
    {
     "name": "stdout",
     "output_type": "stream",
     "text": [
      "INFO:tensorflow:Finished evaluation at 2020-02-11-12:05:35\n"
     ]
    },
    {
     "name": "stderr",
     "output_type": "stream",
     "text": [
      "I0211 12:05:35.444225 4439444928 evaluation.py:276] Finished evaluation at 2020-02-11-12:05:35\n"
     ]
    },
    {
     "name": "stdout",
     "output_type": "stream",
     "text": [
      "INFO:tensorflow:Saving dict for global step 1629: accuracy = 0.8208955, accuracy_baseline = 0.76377374, auc = 0.8619464, auc_precision_recall = 0.686628, average_loss = 0.40036678, global_step = 1629, label/mean = 0.23622628, loss = 0.40136456, precision = 0.7399381, prediction/mean = 0.2795644, recall = 0.37285492\n"
     ]
    },
    {
     "name": "stderr",
     "output_type": "stream",
     "text": [
      "I0211 12:05:35.445178 4439444928 estimator.py:2053] Saving dict for global step 1629: accuracy = 0.8208955, accuracy_baseline = 0.76377374, auc = 0.8619464, auc_precision_recall = 0.686628, average_loss = 0.40036678, global_step = 1629, label/mean = 0.23622628, loss = 0.40136456, precision = 0.7399381, prediction/mean = 0.2795644, recall = 0.37285492\n"
     ]
    },
    {
     "name": "stdout",
     "output_type": "stream",
     "text": [
      "INFO:tensorflow:Saving 'checkpoint_path' summary for global step 1629: model/model.ckpt-1629\n"
     ]
    },
    {
     "name": "stderr",
     "output_type": "stream",
     "text": [
      "I0211 12:05:35.719038 4439444928 estimator.py:2113] Saving 'checkpoint_path' summary for global step 1629: model/model.ckpt-1629\n"
     ]
    },
    {
     "name": "stdout",
     "output_type": "stream",
     "text": [
      "INFO:tensorflow:Results at epoch 2 / 40\n"
     ]
    },
    {
     "name": "stderr",
     "output_type": "stream",
     "text": [
      "I0211 12:05:35.720332 4439444928 <ipython-input-7-b40c302cf839>:76] Results at epoch 2 / 40\n"
     ]
    },
    {
     "name": "stdout",
     "output_type": "stream",
     "text": [
      "INFO:tensorflow:------------------------------------------------------------\n"
     ]
    },
    {
     "name": "stderr",
     "output_type": "stream",
     "text": [
      "I0211 12:05:35.722012 4439444928 <ipython-input-7-b40c302cf839>:77] ------------------------------------------------------------\n"
     ]
    },
    {
     "name": "stdout",
     "output_type": "stream",
     "text": [
      "INFO:tensorflow:accuracy: 0.8208955\n"
     ]
    },
    {
     "name": "stderr",
     "output_type": "stream",
     "text": [
      "I0211 12:05:35.723503 4439444928 <ipython-input-7-b40c302cf839>:80] accuracy: 0.8208955\n"
     ]
    },
    {
     "name": "stdout",
     "output_type": "stream",
     "text": [
      "INFO:tensorflow:accuracy_baseline: 0.76377374\n"
     ]
    },
    {
     "name": "stderr",
     "output_type": "stream",
     "text": [
      "I0211 12:05:35.724850 4439444928 <ipython-input-7-b40c302cf839>:80] accuracy_baseline: 0.76377374\n"
     ]
    },
    {
     "name": "stdout",
     "output_type": "stream",
     "text": [
      "INFO:tensorflow:auc: 0.8619464\n"
     ]
    },
    {
     "name": "stderr",
     "output_type": "stream",
     "text": [
      "I0211 12:05:35.726519 4439444928 <ipython-input-7-b40c302cf839>:80] auc: 0.8619464\n"
     ]
    },
    {
     "name": "stdout",
     "output_type": "stream",
     "text": [
      "INFO:tensorflow:auc_precision_recall: 0.686628\n"
     ]
    },
    {
     "name": "stderr",
     "output_type": "stream",
     "text": [
      "I0211 12:05:35.727901 4439444928 <ipython-input-7-b40c302cf839>:80] auc_precision_recall: 0.686628\n"
     ]
    },
    {
     "name": "stdout",
     "output_type": "stream",
     "text": [
      "INFO:tensorflow:average_loss: 0.40036678\n"
     ]
    },
    {
     "name": "stderr",
     "output_type": "stream",
     "text": [
      "I0211 12:05:35.729444 4439444928 <ipython-input-7-b40c302cf839>:80] average_loss: 0.40036678\n"
     ]
    },
    {
     "name": "stdout",
     "output_type": "stream",
     "text": [
      "INFO:tensorflow:global_step: 1629\n"
     ]
    },
    {
     "name": "stderr",
     "output_type": "stream",
     "text": [
      "I0211 12:05:35.731028 4439444928 <ipython-input-7-b40c302cf839>:80] global_step: 1629\n"
     ]
    },
    {
     "name": "stdout",
     "output_type": "stream",
     "text": [
      "INFO:tensorflow:label/mean: 0.23622628\n"
     ]
    },
    {
     "name": "stderr",
     "output_type": "stream",
     "text": [
      "I0211 12:05:35.732033 4439444928 <ipython-input-7-b40c302cf839>:80] label/mean: 0.23622628\n"
     ]
    },
    {
     "name": "stdout",
     "output_type": "stream",
     "text": [
      "INFO:tensorflow:loss: 0.40136456\n"
     ]
    },
    {
     "name": "stderr",
     "output_type": "stream",
     "text": [
      "I0211 12:05:35.732847 4439444928 <ipython-input-7-b40c302cf839>:80] loss: 0.40136456\n"
     ]
    },
    {
     "name": "stdout",
     "output_type": "stream",
     "text": [
      "INFO:tensorflow:precision: 0.7399381\n"
     ]
    },
    {
     "name": "stderr",
     "output_type": "stream",
     "text": [
      "I0211 12:05:35.733526 4439444928 <ipython-input-7-b40c302cf839>:80] precision: 0.7399381\n"
     ]
    },
    {
     "name": "stdout",
     "output_type": "stream",
     "text": [
      "INFO:tensorflow:prediction/mean: 0.2795644\n"
     ]
    },
    {
     "name": "stderr",
     "output_type": "stream",
     "text": [
      "I0211 12:05:35.734400 4439444928 <ipython-input-7-b40c302cf839>:80] prediction/mean: 0.2795644\n"
     ]
    },
    {
     "name": "stdout",
     "output_type": "stream",
     "text": [
      "INFO:tensorflow:recall: 0.37285492\n"
     ]
    },
    {
     "name": "stderr",
     "output_type": "stream",
     "text": [
      "I0211 12:05:35.735205 4439444928 <ipython-input-7-b40c302cf839>:80] recall: 0.37285492\n"
     ]
    },
    {
     "name": "stdout",
     "output_type": "stream",
     "text": [
      "INFO:tensorflow:Benchmark metric: {'name': 'accuracy', 'value': 0.8208954930305481, 'unit': None, 'global_step': 1629, 'timestamp': '2020-02-11T05:05:35.735878Z', 'extras': []}\n"
     ]
    },
    {
     "name": "stderr",
     "output_type": "stream",
     "text": [
      "I0211 12:05:35.735907 4439444928 logger.py:147] Benchmark metric: {'name': 'accuracy', 'value': 0.8208954930305481, 'unit': None, 'global_step': 1629, 'timestamp': '2020-02-11T05:05:35.735878Z', 'extras': []}\n"
     ]
    },
    {
     "name": "stdout",
     "output_type": "stream",
     "text": [
      "INFO:tensorflow:Benchmark metric: {'name': 'accuracy_baseline', 'value': 0.7637737393379211, 'unit': None, 'global_step': 1629, 'timestamp': '2020-02-11T05:05:35.736643Z', 'extras': []}\n"
     ]
    },
    {
     "name": "stderr",
     "output_type": "stream",
     "text": [
      "I0211 12:05:35.736663 4439444928 logger.py:147] Benchmark metric: {'name': 'accuracy_baseline', 'value': 0.7637737393379211, 'unit': None, 'global_step': 1629, 'timestamp': '2020-02-11T05:05:35.736643Z', 'extras': []}\n"
     ]
    },
    {
     "name": "stdout",
     "output_type": "stream",
     "text": [
      "INFO:tensorflow:Benchmark metric: {'name': 'auc', 'value': 0.8619464039802551, 'unit': None, 'global_step': 1629, 'timestamp': '2020-02-11T05:05:35.737281Z', 'extras': []}\n"
     ]
    },
    {
     "name": "stderr",
     "output_type": "stream",
     "text": [
      "I0211 12:05:35.737298 4439444928 logger.py:147] Benchmark metric: {'name': 'auc', 'value': 0.8619464039802551, 'unit': None, 'global_step': 1629, 'timestamp': '2020-02-11T05:05:35.737281Z', 'extras': []}\n"
     ]
    },
    {
     "name": "stdout",
     "output_type": "stream",
     "text": [
      "INFO:tensorflow:Benchmark metric: {'name': 'auc_precision_recall', 'value': 0.686627984046936, 'unit': None, 'global_step': 1629, 'timestamp': '2020-02-11T05:05:35.737997Z', 'extras': []}\n"
     ]
    },
    {
     "name": "stderr",
     "output_type": "stream",
     "text": [
      "I0211 12:05:35.738013 4439444928 logger.py:147] Benchmark metric: {'name': 'auc_precision_recall', 'value': 0.686627984046936, 'unit': None, 'global_step': 1629, 'timestamp': '2020-02-11T05:05:35.737997Z', 'extras': []}\n"
     ]
    },
    {
     "name": "stdout",
     "output_type": "stream",
     "text": [
      "INFO:tensorflow:Benchmark metric: {'name': 'average_loss', 'value': 0.40036678314208984, 'unit': None, 'global_step': 1629, 'timestamp': '2020-02-11T05:05:35.738638Z', 'extras': []}\n"
     ]
    },
    {
     "name": "stderr",
     "output_type": "stream",
     "text": [
      "I0211 12:05:35.738659 4439444928 logger.py:147] Benchmark metric: {'name': 'average_loss', 'value': 0.40036678314208984, 'unit': None, 'global_step': 1629, 'timestamp': '2020-02-11T05:05:35.738638Z', 'extras': []}\n"
     ]
    },
    {
     "name": "stdout",
     "output_type": "stream",
     "text": [
      "INFO:tensorflow:Benchmark metric: {'name': 'label/mean', 'value': 0.23622627556324005, 'unit': None, 'global_step': 1629, 'timestamp': '2020-02-11T05:05:35.739369Z', 'extras': []}\n"
     ]
    },
    {
     "name": "stderr",
     "output_type": "stream",
     "text": [
      "I0211 12:05:35.739386 4439444928 logger.py:147] Benchmark metric: {'name': 'label/mean', 'value': 0.23622627556324005, 'unit': None, 'global_step': 1629, 'timestamp': '2020-02-11T05:05:35.739369Z', 'extras': []}\n"
     ]
    },
    {
     "name": "stdout",
     "output_type": "stream",
     "text": [
      "INFO:tensorflow:Benchmark metric: {'name': 'loss', 'value': 0.4013645648956299, 'unit': None, 'global_step': 1629, 'timestamp': '2020-02-11T05:05:35.739957Z', 'extras': []}\n"
     ]
    },
    {
     "name": "stderr",
     "output_type": "stream",
     "text": [
      "I0211 12:05:35.739974 4439444928 logger.py:147] Benchmark metric: {'name': 'loss', 'value': 0.4013645648956299, 'unit': None, 'global_step': 1629, 'timestamp': '2020-02-11T05:05:35.739957Z', 'extras': []}\n"
     ]
    },
    {
     "name": "stdout",
     "output_type": "stream",
     "text": [
      "INFO:tensorflow:Benchmark metric: {'name': 'precision', 'value': 0.7399380803108215, 'unit': None, 'global_step': 1629, 'timestamp': '2020-02-11T05:05:35.740708Z', 'extras': []}\n"
     ]
    },
    {
     "name": "stderr",
     "output_type": "stream",
     "text": [
      "I0211 12:05:35.740729 4439444928 logger.py:147] Benchmark metric: {'name': 'precision', 'value': 0.7399380803108215, 'unit': None, 'global_step': 1629, 'timestamp': '2020-02-11T05:05:35.740708Z', 'extras': []}\n"
     ]
    },
    {
     "name": "stdout",
     "output_type": "stream",
     "text": [
      "INFO:tensorflow:Benchmark metric: {'name': 'prediction/mean', 'value': 0.27956441044807434, 'unit': None, 'global_step': 1629, 'timestamp': '2020-02-11T05:05:35.741315Z', 'extras': []}\n"
     ]
    },
    {
     "name": "stderr",
     "output_type": "stream",
     "text": [
      "I0211 12:05:35.741333 4439444928 logger.py:147] Benchmark metric: {'name': 'prediction/mean', 'value': 0.27956441044807434, 'unit': None, 'global_step': 1629, 'timestamp': '2020-02-11T05:05:35.741315Z', 'extras': []}\n"
     ]
    },
    {
     "name": "stdout",
     "output_type": "stream",
     "text": [
      "INFO:tensorflow:Benchmark metric: {'name': 'recall', 'value': 0.37285491824150085, 'unit': None, 'global_step': 1629, 'timestamp': '2020-02-11T05:05:35.742014Z', 'extras': []}\n"
     ]
    },
    {
     "name": "stderr",
     "output_type": "stream",
     "text": [
      "I0211 12:05:35.742035 4439444928 logger.py:147] Benchmark metric: {'name': 'recall', 'value': 0.37285491824150085, 'unit': None, 'global_step': 1629, 'timestamp': '2020-02-11T05:05:35.742014Z', 'extras': []}\n"
     ]
    },
    {
     "name": "stdout",
     "output_type": "stream",
     "text": [
      "INFO:tensorflow:Parsing data/adult.data\n"
     ]
    },
    {
     "name": "stderr",
     "output_type": "stream",
     "text": [
      "I0211 12:05:35.766227 4439444928 api.py:332] Parsing data/adult.data\n"
     ]
    },
    {
     "name": "stdout",
     "output_type": "stream",
     "text": [
      "INFO:tensorflow:Calling model_fn.\n"
     ]
    },
    {
     "name": "stderr",
     "output_type": "stream",
     "text": [
      "I0211 12:05:35.792304 4439444928 estimator.py:1151] Calling model_fn.\n"
     ]
    },
    {
     "name": "stdout",
     "output_type": "stream",
     "text": [
      "INFO:tensorflow:Done calling model_fn.\n"
     ]
    },
    {
     "name": "stderr",
     "output_type": "stream",
     "text": [
      "I0211 12:05:36.563385 4439444928 estimator.py:1153] Done calling model_fn.\n"
     ]
    },
    {
     "name": "stdout",
     "output_type": "stream",
     "text": [
      "INFO:tensorflow:Create CheckpointSaverHook.\n"
     ]
    },
    {
     "name": "stderr",
     "output_type": "stream",
     "text": [
      "I0211 12:05:36.564414 4439444928 basic_session_run_hooks.py:546] Create CheckpointSaverHook.\n"
     ]
    },
    {
     "name": "stdout",
     "output_type": "stream",
     "text": [
      "INFO:tensorflow:Graph was finalized.\n"
     ]
    },
    {
     "name": "stderr",
     "output_type": "stream",
     "text": [
      "I0211 12:05:36.648520 4439444928 monitored_session.py:246] Graph was finalized.\n"
     ]
    },
    {
     "name": "stdout",
     "output_type": "stream",
     "text": [
      "INFO:tensorflow:Restoring parameters from model/model.ckpt-1629\n"
     ]
    },
    {
     "name": "stderr",
     "output_type": "stream",
     "text": [
      "I0211 12:05:36.651787 4439444928 saver.py:1284] Restoring parameters from model/model.ckpt-1629\n"
     ]
    },
    {
     "name": "stdout",
     "output_type": "stream",
     "text": [
      "WARNING:tensorflow:From /Users/kadriansyah/anaconda3/envs/recommender/lib/python3.7/site-packages/tensorflow_core/python/training/saver.py:1069: get_checkpoint_mtimes (from tensorflow.python.training.checkpoint_management) is deprecated and will be removed in a future version.\n",
      "Instructions for updating:\n",
      "Use standard file utilities to get mtimes.\n"
     ]
    },
    {
     "name": "stderr",
     "output_type": "stream",
     "text": [
      "W0211 12:05:36.783418 4439444928 deprecation.py:323] From /Users/kadriansyah/anaconda3/envs/recommender/lib/python3.7/site-packages/tensorflow_core/python/training/saver.py:1069: get_checkpoint_mtimes (from tensorflow.python.training.checkpoint_management) is deprecated and will be removed in a future version.\n",
      "Instructions for updating:\n",
      "Use standard file utilities to get mtimes.\n"
     ]
    },
    {
     "name": "stdout",
     "output_type": "stream",
     "text": [
      "INFO:tensorflow:Running local_init_op.\n"
     ]
    },
    {
     "name": "stderr",
     "output_type": "stream",
     "text": [
      "I0211 12:05:36.860718 4439444928 session_manager.py:504] Running local_init_op.\n"
     ]
    },
    {
     "name": "stdout",
     "output_type": "stream",
     "text": [
      "INFO:tensorflow:Done running local_init_op.\n"
     ]
    },
    {
     "name": "stderr",
     "output_type": "stream",
     "text": [
      "I0211 12:05:36.918733 4439444928 session_manager.py:507] Done running local_init_op.\n"
     ]
    },
    {
     "name": "stdout",
     "output_type": "stream",
     "text": [
      "INFO:tensorflow:Saving checkpoints for 1629 into model/model.ckpt.\n"
     ]
    },
    {
     "name": "stderr",
     "output_type": "stream",
     "text": [
      "I0211 12:05:37.779270 4439444928 basic_session_run_hooks.py:613] Saving checkpoints for 1629 into model/model.ckpt.\n"
     ]
    },
    {
     "name": "stdout",
     "output_type": "stream",
     "text": [
      "INFO:tensorflow:loss = 0.34182912, step = 1629\n"
     ]
    },
    {
     "name": "stderr",
     "output_type": "stream",
     "text": [
      "I0211 12:05:38.698990 4439444928 basic_session_run_hooks.py:262] loss = 0.34182912, step = 1629\n"
     ]
    },
    {
     "name": "stdout",
     "output_type": "stream",
     "text": [
      "INFO:tensorflow:global_step/sec: 152.504\n"
     ]
    },
    {
     "name": "stderr",
     "output_type": "stream",
     "text": [
      "I0211 12:05:39.354385 4439444928 basic_session_run_hooks.py:700] global_step/sec: 152.504\n"
     ]
    },
    {
     "name": "stdout",
     "output_type": "stream",
     "text": [
      "INFO:tensorflow:loss = 0.47436938, step = 1729 (0.657 sec)\n"
     ]
    },
    {
     "name": "stderr",
     "output_type": "stream",
     "text": [
      "I0211 12:05:39.355634 4439444928 basic_session_run_hooks.py:260] loss = 0.47436938, step = 1729 (0.657 sec)\n"
     ]
    },
    {
     "name": "stdout",
     "output_type": "stream",
     "text": [
      "INFO:tensorflow:global_step/sec: 503.86\n"
     ]
    },
    {
     "name": "stderr",
     "output_type": "stream",
     "text": [
      "I0211 12:05:39.552851 4439444928 basic_session_run_hooks.py:700] global_step/sec: 503.86\n"
     ]
    },
    {
     "name": "stdout",
     "output_type": "stream",
     "text": [
      "INFO:tensorflow:loss = 0.32804585, step = 1829 (0.198 sec)\n"
     ]
    },
    {
     "name": "stderr",
     "output_type": "stream",
     "text": [
      "I0211 12:05:39.554100 4439444928 basic_session_run_hooks.py:260] loss = 0.32804585, step = 1829 (0.198 sec)\n"
     ]
    },
    {
     "name": "stdout",
     "output_type": "stream",
     "text": [
      "INFO:tensorflow:global_step/sec: 508.704\n"
     ]
    },
    {
     "name": "stderr",
     "output_type": "stream",
     "text": [
      "I0211 12:05:39.749459 4439444928 basic_session_run_hooks.py:700] global_step/sec: 508.704\n"
     ]
    },
    {
     "name": "stdout",
     "output_type": "stream",
     "text": [
      "INFO:tensorflow:loss = 0.40914193, step = 1929 (0.197 sec)\n"
     ]
    },
    {
     "name": "stderr",
     "output_type": "stream",
     "text": [
      "I0211 12:05:39.750756 4439444928 basic_session_run_hooks.py:260] loss = 0.40914193, step = 1929 (0.197 sec)\n"
     ]
    },
    {
     "name": "stdout",
     "output_type": "stream",
     "text": [
      "INFO:tensorflow:global_step/sec: 507.604\n"
     ]
    },
    {
     "name": "stderr",
     "output_type": "stream",
     "text": [
      "I0211 12:05:39.946433 4439444928 basic_session_run_hooks.py:700] global_step/sec: 507.604\n"
     ]
    },
    {
     "name": "stdout",
     "output_type": "stream",
     "text": [
      "INFO:tensorflow:loss = 0.3204419, step = 2029 (0.197 sec)\n"
     ]
    },
    {
     "name": "stderr",
     "output_type": "stream",
     "text": [
      "I0211 12:05:39.947672 4439444928 basic_session_run_hooks.py:260] loss = 0.3204419, step = 2029 (0.197 sec)\n"
     ]
    },
    {
     "name": "stdout",
     "output_type": "stream",
     "text": [
      "INFO:tensorflow:global_step/sec: 506.994\n"
     ]
    },
    {
     "name": "stderr",
     "output_type": "stream",
     "text": [
      "I0211 12:05:40.143673 4439444928 basic_session_run_hooks.py:700] global_step/sec: 506.994\n"
     ]
    },
    {
     "name": "stdout",
     "output_type": "stream",
     "text": [
      "INFO:tensorflow:loss = 0.3420469, step = 2129 (0.197 sec)\n"
     ]
    },
    {
     "name": "stderr",
     "output_type": "stream",
     "text": [
      "I0211 12:05:40.144945 4439444928 basic_session_run_hooks.py:260] loss = 0.3420469, step = 2129 (0.197 sec)\n"
     ]
    },
    {
     "name": "stdout",
     "output_type": "stream",
     "text": [
      "INFO:tensorflow:global_step/sec: 506.234\n"
     ]
    },
    {
     "name": "stderr",
     "output_type": "stream",
     "text": [
      "I0211 12:05:40.341221 4439444928 basic_session_run_hooks.py:700] global_step/sec: 506.234\n"
     ]
    },
    {
     "name": "stdout",
     "output_type": "stream",
     "text": [
      "INFO:tensorflow:loss = 0.3943542, step = 2229 (0.198 sec)\n"
     ]
    },
    {
     "name": "stderr",
     "output_type": "stream",
     "text": [
      "I0211 12:05:40.342469 4439444928 basic_session_run_hooks.py:260] loss = 0.3943542, step = 2229 (0.198 sec)\n"
     ]
    },
    {
     "name": "stdout",
     "output_type": "stream",
     "text": [
      "INFO:tensorflow:global_step/sec: 506.349\n"
     ]
    },
    {
     "name": "stderr",
     "output_type": "stream",
     "text": [
      "I0211 12:05:40.538717 4439444928 basic_session_run_hooks.py:700] global_step/sec: 506.349\n"
     ]
    },
    {
     "name": "stdout",
     "output_type": "stream",
     "text": [
      "INFO:tensorflow:loss = 0.3376432, step = 2329 (0.198 sec)\n"
     ]
    },
    {
     "name": "stderr",
     "output_type": "stream",
     "text": [
      "I0211 12:05:40.539972 4439444928 basic_session_run_hooks.py:260] loss = 0.3376432, step = 2329 (0.198 sec)\n"
     ]
    },
    {
     "name": "stdout",
     "output_type": "stream",
     "text": [
      "INFO:tensorflow:global_step/sec: 496.712\n"
     ]
    },
    {
     "name": "stderr",
     "output_type": "stream",
     "text": [
      "I0211 12:05:40.740025 4439444928 basic_session_run_hooks.py:700] global_step/sec: 496.712\n"
     ]
    },
    {
     "name": "stdout",
     "output_type": "stream",
     "text": [
      "INFO:tensorflow:loss = 0.5747905, step = 2429 (0.201 sec)\n"
     ]
    },
    {
     "name": "stderr",
     "output_type": "stream",
     "text": [
      "I0211 12:05:40.741317 4439444928 basic_session_run_hooks.py:260] loss = 0.5747905, step = 2429 (0.201 sec)\n"
     ]
    },
    {
     "name": "stdout",
     "output_type": "stream",
     "text": [
      "INFO:tensorflow:global_step/sec: 391.172\n"
     ]
    },
    {
     "name": "stderr",
     "output_type": "stream",
     "text": [
      "I0211 12:05:40.995671 4439444928 basic_session_run_hooks.py:700] global_step/sec: 391.172\n"
     ]
    },
    {
     "name": "stdout",
     "output_type": "stream",
     "text": [
      "INFO:tensorflow:loss = 0.42087874, step = 2529 (0.256 sec)\n"
     ]
    },
    {
     "name": "stderr",
     "output_type": "stream",
     "text": [
      "I0211 12:05:40.996951 4439444928 basic_session_run_hooks.py:260] loss = 0.42087874, step = 2529 (0.256 sec)\n"
     ]
    },
    {
     "name": "stdout",
     "output_type": "stream",
     "text": [
      "INFO:tensorflow:global_step/sec: 510.001\n"
     ]
    },
    {
     "name": "stderr",
     "output_type": "stream",
     "text": [
      "I0211 12:05:41.191745 4439444928 basic_session_run_hooks.py:700] global_step/sec: 510.001\n"
     ]
    },
    {
     "name": "stdout",
     "output_type": "stream",
     "text": [
      "INFO:tensorflow:loss = 0.44259706, step = 2629 (0.196 sec)\n"
     ]
    },
    {
     "name": "stderr",
     "output_type": "stream",
     "text": [
      "I0211 12:05:41.192966 4439444928 basic_session_run_hooks.py:260] loss = 0.44259706, step = 2629 (0.196 sec)\n"
     ]
    },
    {
     "name": "stdout",
     "output_type": "stream",
     "text": [
      "INFO:tensorflow:global_step/sec: 495.84\n"
     ]
    },
    {
     "name": "stderr",
     "output_type": "stream",
     "text": [
      "I0211 12:05:41.393453 4439444928 basic_session_run_hooks.py:700] global_step/sec: 495.84\n"
     ]
    },
    {
     "name": "stdout",
     "output_type": "stream",
     "text": [
      "INFO:tensorflow:loss = 0.32741344, step = 2729 (0.202 sec)\n"
     ]
    },
    {
     "name": "stderr",
     "output_type": "stream",
     "text": [
      "I0211 12:05:41.394657 4439444928 basic_session_run_hooks.py:260] loss = 0.32741344, step = 2729 (0.202 sec)\n"
     ]
    },
    {
     "name": "stdout",
     "output_type": "stream",
     "text": [
      "INFO:tensorflow:global_step/sec: 496.904\n"
     ]
    },
    {
     "name": "stderr",
     "output_type": "stream",
     "text": [
      "I0211 12:05:41.594670 4439444928 basic_session_run_hooks.py:700] global_step/sec: 496.904\n"
     ]
    },
    {
     "name": "stdout",
     "output_type": "stream",
     "text": [
      "INFO:tensorflow:loss = 0.34933314, step = 2829 (0.201 sec)\n"
     ]
    },
    {
     "name": "stderr",
     "output_type": "stream",
     "text": [
      "I0211 12:05:41.595968 4439444928 basic_session_run_hooks.py:260] loss = 0.34933314, step = 2829 (0.201 sec)\n"
     ]
    },
    {
     "name": "stdout",
     "output_type": "stream",
     "text": [
      "INFO:tensorflow:global_step/sec: 499.359\n"
     ]
    },
    {
     "name": "stderr",
     "output_type": "stream",
     "text": [
      "I0211 12:05:41.794928 4439444928 basic_session_run_hooks.py:700] global_step/sec: 499.359\n"
     ]
    },
    {
     "name": "stdout",
     "output_type": "stream",
     "text": [
      "INFO:tensorflow:loss = 0.43559456, step = 2929 (0.200 sec)\n"
     ]
    },
    {
     "name": "stderr",
     "output_type": "stream",
     "text": [
      "I0211 12:05:41.796250 4439444928 basic_session_run_hooks.py:260] loss = 0.43559456, step = 2929 (0.200 sec)\n"
     ]
    },
    {
     "name": "stdout",
     "output_type": "stream",
     "text": [
      "INFO:tensorflow:global_step/sec: 501.613\n"
     ]
    },
    {
     "name": "stderr",
     "output_type": "stream",
     "text": [
      "I0211 12:05:41.994287 4439444928 basic_session_run_hooks.py:700] global_step/sec: 501.613\n"
     ]
    },
    {
     "name": "stdout",
     "output_type": "stream",
     "text": [
      "INFO:tensorflow:loss = 0.42279822, step = 3029 (0.199 sec)\n"
     ]
    },
    {
     "name": "stderr",
     "output_type": "stream",
     "text": [
      "I0211 12:05:41.995583 4439444928 basic_session_run_hooks.py:260] loss = 0.42279822, step = 3029 (0.199 sec)\n"
     ]
    },
    {
     "name": "stdout",
     "output_type": "stream",
     "text": [
      "INFO:tensorflow:global_step/sec: 503.231\n"
     ]
    },
    {
     "name": "stderr",
     "output_type": "stream",
     "text": [
      "I0211 12:05:42.193001 4439444928 basic_session_run_hooks.py:700] global_step/sec: 503.231\n"
     ]
    },
    {
     "name": "stdout",
     "output_type": "stream",
     "text": [
      "INFO:tensorflow:loss = 0.5739645, step = 3129 (0.199 sec)\n"
     ]
    },
    {
     "name": "stderr",
     "output_type": "stream",
     "text": [
      "I0211 12:05:42.194242 4439444928 basic_session_run_hooks.py:260] loss = 0.5739645, step = 3129 (0.199 sec)\n"
     ]
    },
    {
     "name": "stdout",
     "output_type": "stream",
     "text": [
      "INFO:tensorflow:global_step/sec: 480.92\n"
     ]
    },
    {
     "name": "stderr",
     "output_type": "stream",
     "text": [
      "I0211 12:05:42.400936 4439444928 basic_session_run_hooks.py:700] global_step/sec: 480.92\n"
     ]
    },
    {
     "name": "stdout",
     "output_type": "stream",
     "text": [
      "INFO:tensorflow:loss = 0.3295556, step = 3229 (0.208 sec)\n"
     ]
    },
    {
     "name": "stderr",
     "output_type": "stream",
     "text": [
      "I0211 12:05:42.402232 4439444928 basic_session_run_hooks.py:260] loss = 0.3295556, step = 3229 (0.208 sec)\n"
     ]
    },
    {
     "name": "stdout",
     "output_type": "stream",
     "text": [
      "INFO:tensorflow:Saving checkpoints for 3258 into model/model.ckpt.\n"
     ]
    },
    {
     "name": "stderr",
     "output_type": "stream",
     "text": [
      "I0211 12:05:42.470416 4439444928 basic_session_run_hooks.py:613] Saving checkpoints for 3258 into model/model.ckpt.\n"
     ]
    },
    {
     "name": "stdout",
     "output_type": "stream",
     "text": [
      "INFO:tensorflow:Loss for final step: 0.7885428.\n"
     ]
    },
    {
     "name": "stderr",
     "output_type": "stream",
     "text": [
      "I0211 12:05:42.640197 4439444928 estimator.py:375] Loss for final step: 0.7885428.\n"
     ]
    },
    {
     "name": "stdout",
     "output_type": "stream",
     "text": [
      "INFO:tensorflow:Parsing data/adult.test\n"
     ]
    },
    {
     "name": "stderr",
     "output_type": "stream",
     "text": [
      "I0211 12:05:42.652072 4439444928 api.py:332] Parsing data/adult.test\n"
     ]
    },
    {
     "name": "stdout",
     "output_type": "stream",
     "text": [
      "INFO:tensorflow:Calling model_fn.\n"
     ]
    },
    {
     "name": "stderr",
     "output_type": "stream",
     "text": [
      "I0211 12:05:42.673280 4439444928 estimator.py:1151] Calling model_fn.\n"
     ]
    },
    {
     "name": "stdout",
     "output_type": "stream",
     "text": [
      "INFO:tensorflow:Done calling model_fn.\n"
     ]
    },
    {
     "name": "stderr",
     "output_type": "stream",
     "text": [
      "I0211 12:05:43.753797 4439444928 estimator.py:1153] Done calling model_fn.\n"
     ]
    },
    {
     "name": "stdout",
     "output_type": "stream",
     "text": [
      "INFO:tensorflow:Starting evaluation at 2020-02-11T12:05:43Z\n"
     ]
    },
    {
     "name": "stderr",
     "output_type": "stream",
     "text": [
      "I0211 12:05:43.771510 4439444928 evaluation.py:255] Starting evaluation at 2020-02-11T12:05:43Z\n"
     ]
    },
    {
     "name": "stdout",
     "output_type": "stream",
     "text": [
      "INFO:tensorflow:Graph was finalized.\n"
     ]
    },
    {
     "name": "stderr",
     "output_type": "stream",
     "text": [
      "I0211 12:05:43.824202 4439444928 monitored_session.py:246] Graph was finalized.\n"
     ]
    },
    {
     "name": "stdout",
     "output_type": "stream",
     "text": [
      "INFO:tensorflow:Restoring parameters from model/model.ckpt-3258\n"
     ]
    },
    {
     "name": "stderr",
     "output_type": "stream",
     "text": [
      "I0211 12:05:43.826352 4439444928 saver.py:1284] Restoring parameters from model/model.ckpt-3258\n"
     ]
    },
    {
     "name": "stdout",
     "output_type": "stream",
     "text": [
      "INFO:tensorflow:Running local_init_op.\n"
     ]
    },
    {
     "name": "stderr",
     "output_type": "stream",
     "text": [
      "I0211 12:05:44.032090 4439444928 session_manager.py:504] Running local_init_op.\n"
     ]
    },
    {
     "name": "stdout",
     "output_type": "stream",
     "text": [
      "INFO:tensorflow:Done running local_init_op.\n"
     ]
    },
    {
     "name": "stderr",
     "output_type": "stream",
     "text": [
      "I0211 12:05:44.115061 4439444928 session_manager.py:507] Done running local_init_op.\n"
     ]
    },
    {
     "name": "stdout",
     "output_type": "stream",
     "text": [
      "INFO:tensorflow:Inference Time : 1.60221s\n"
     ]
    },
    {
     "name": "stderr",
     "output_type": "stream",
     "text": [
      "I0211 12:05:45.374683 4439444928 evaluation.py:273] Inference Time : 1.60221s\n"
     ]
    },
    {
     "name": "stdout",
     "output_type": "stream",
     "text": [
      "INFO:tensorflow:Finished evaluation at 2020-02-11-12:05:45\n"
     ]
    },
    {
     "name": "stderr",
     "output_type": "stream",
     "text": [
      "I0211 12:05:45.375774 4439444928 evaluation.py:276] Finished evaluation at 2020-02-11-12:05:45\n"
     ]
    },
    {
     "name": "stdout",
     "output_type": "stream",
     "text": [
      "INFO:tensorflow:Saving dict for global step 3258: accuracy = 0.84085745, accuracy_baseline = 0.76377374, auc = 0.88391525, auc_precision_recall = 0.7256877, average_loss = 0.37305382, global_step = 3258, label/mean = 0.23622628, loss = 0.37338936, precision = 0.7454048, prediction/mean = 0.28436476, recall = 0.4955798\n"
     ]
    },
    {
     "name": "stderr",
     "output_type": "stream",
     "text": [
      "I0211 12:05:45.376668 4439444928 estimator.py:2053] Saving dict for global step 3258: accuracy = 0.84085745, accuracy_baseline = 0.76377374, auc = 0.88391525, auc_precision_recall = 0.7256877, average_loss = 0.37305382, global_step = 3258, label/mean = 0.23622628, loss = 0.37338936, precision = 0.7454048, prediction/mean = 0.28436476, recall = 0.4955798\n"
     ]
    },
    {
     "name": "stdout",
     "output_type": "stream",
     "text": [
      "INFO:tensorflow:Saving 'checkpoint_path' summary for global step 3258: model/model.ckpt-3258\n"
     ]
    },
    {
     "name": "stderr",
     "output_type": "stream",
     "text": [
      "I0211 12:05:45.377626 4439444928 estimator.py:2113] Saving 'checkpoint_path' summary for global step 3258: model/model.ckpt-3258\n"
     ]
    },
    {
     "name": "stdout",
     "output_type": "stream",
     "text": [
      "INFO:tensorflow:Results at epoch 4 / 40\n"
     ]
    },
    {
     "name": "stderr",
     "output_type": "stream",
     "text": [
      "I0211 12:05:45.378674 4439444928 <ipython-input-7-b40c302cf839>:76] Results at epoch 4 / 40\n"
     ]
    },
    {
     "name": "stdout",
     "output_type": "stream",
     "text": [
      "INFO:tensorflow:------------------------------------------------------------\n"
     ]
    },
    {
     "name": "stderr",
     "output_type": "stream",
     "text": [
      "I0211 12:05:45.379514 4439444928 <ipython-input-7-b40c302cf839>:77] ------------------------------------------------------------\n"
     ]
    },
    {
     "name": "stdout",
     "output_type": "stream",
     "text": [
      "INFO:tensorflow:accuracy: 0.84085745\n"
     ]
    },
    {
     "name": "stderr",
     "output_type": "stream",
     "text": [
      "I0211 12:05:45.380213 4439444928 <ipython-input-7-b40c302cf839>:80] accuracy: 0.84085745\n"
     ]
    },
    {
     "name": "stdout",
     "output_type": "stream",
     "text": [
      "INFO:tensorflow:accuracy_baseline: 0.76377374\n"
     ]
    },
    {
     "name": "stderr",
     "output_type": "stream",
     "text": [
      "I0211 12:05:45.381101 4439444928 <ipython-input-7-b40c302cf839>:80] accuracy_baseline: 0.76377374\n"
     ]
    },
    {
     "name": "stdout",
     "output_type": "stream",
     "text": [
      "INFO:tensorflow:auc: 0.88391525\n"
     ]
    },
    {
     "name": "stderr",
     "output_type": "stream",
     "text": [
      "I0211 12:05:45.382275 4439444928 <ipython-input-7-b40c302cf839>:80] auc: 0.88391525\n"
     ]
    },
    {
     "name": "stdout",
     "output_type": "stream",
     "text": [
      "INFO:tensorflow:auc_precision_recall: 0.7256877\n"
     ]
    },
    {
     "name": "stderr",
     "output_type": "stream",
     "text": [
      "I0211 12:05:45.383081 4439444928 <ipython-input-7-b40c302cf839>:80] auc_precision_recall: 0.7256877\n"
     ]
    },
    {
     "name": "stdout",
     "output_type": "stream",
     "text": [
      "INFO:tensorflow:average_loss: 0.37305382\n"
     ]
    },
    {
     "name": "stderr",
     "output_type": "stream",
     "text": [
      "I0211 12:05:45.384035 4439444928 <ipython-input-7-b40c302cf839>:80] average_loss: 0.37305382\n"
     ]
    },
    {
     "name": "stdout",
     "output_type": "stream",
     "text": [
      "INFO:tensorflow:global_step: 3258\n"
     ]
    },
    {
     "name": "stderr",
     "output_type": "stream",
     "text": [
      "I0211 12:05:45.384999 4439444928 <ipython-input-7-b40c302cf839>:80] global_step: 3258\n"
     ]
    },
    {
     "name": "stdout",
     "output_type": "stream",
     "text": [
      "INFO:tensorflow:label/mean: 0.23622628\n"
     ]
    },
    {
     "name": "stderr",
     "output_type": "stream",
     "text": [
      "I0211 12:05:45.385652 4439444928 <ipython-input-7-b40c302cf839>:80] label/mean: 0.23622628\n"
     ]
    },
    {
     "name": "stdout",
     "output_type": "stream",
     "text": [
      "INFO:tensorflow:loss: 0.37338936\n"
     ]
    },
    {
     "name": "stderr",
     "output_type": "stream",
     "text": [
      "I0211 12:05:45.386362 4439444928 <ipython-input-7-b40c302cf839>:80] loss: 0.37338936\n"
     ]
    },
    {
     "name": "stdout",
     "output_type": "stream",
     "text": [
      "INFO:tensorflow:precision: 0.7454048\n"
     ]
    },
    {
     "name": "stderr",
     "output_type": "stream",
     "text": [
      "I0211 12:05:45.386975 4439444928 <ipython-input-7-b40c302cf839>:80] precision: 0.7454048\n"
     ]
    },
    {
     "name": "stdout",
     "output_type": "stream",
     "text": [
      "INFO:tensorflow:prediction/mean: 0.28436476\n"
     ]
    },
    {
     "name": "stderr",
     "output_type": "stream",
     "text": [
      "I0211 12:05:45.387696 4439444928 <ipython-input-7-b40c302cf839>:80] prediction/mean: 0.28436476\n"
     ]
    },
    {
     "name": "stdout",
     "output_type": "stream",
     "text": [
      "INFO:tensorflow:recall: 0.4955798\n"
     ]
    },
    {
     "name": "stderr",
     "output_type": "stream",
     "text": [
      "I0211 12:05:45.388382 4439444928 <ipython-input-7-b40c302cf839>:80] recall: 0.4955798\n"
     ]
    },
    {
     "name": "stdout",
     "output_type": "stream",
     "text": [
      "INFO:tensorflow:Benchmark metric: {'name': 'accuracy', 'value': 0.8408574461936951, 'unit': None, 'global_step': 3258, 'timestamp': '2020-02-11T05:05:45.389110Z', 'extras': []}\n"
     ]
    },
    {
     "name": "stderr",
     "output_type": "stream",
     "text": [
      "I0211 12:05:45.389135 4439444928 logger.py:147] Benchmark metric: {'name': 'accuracy', 'value': 0.8408574461936951, 'unit': None, 'global_step': 3258, 'timestamp': '2020-02-11T05:05:45.389110Z', 'extras': []}\n"
     ]
    },
    {
     "name": "stdout",
     "output_type": "stream",
     "text": [
      "INFO:tensorflow:Benchmark metric: {'name': 'accuracy_baseline', 'value': 0.7637737393379211, 'unit': None, 'global_step': 3258, 'timestamp': '2020-02-11T05:05:45.389742Z', 'extras': []}\n"
     ]
    },
    {
     "name": "stderr",
     "output_type": "stream",
     "text": [
      "I0211 12:05:45.389760 4439444928 logger.py:147] Benchmark metric: {'name': 'accuracy_baseline', 'value': 0.7637737393379211, 'unit': None, 'global_step': 3258, 'timestamp': '2020-02-11T05:05:45.389742Z', 'extras': []}\n"
     ]
    },
    {
     "name": "stdout",
     "output_type": "stream",
     "text": [
      "INFO:tensorflow:Benchmark metric: {'name': 'auc', 'value': 0.8839152455329895, 'unit': None, 'global_step': 3258, 'timestamp': '2020-02-11T05:05:45.390480Z', 'extras': []}\n"
     ]
    },
    {
     "name": "stderr",
     "output_type": "stream",
     "text": [
      "I0211 12:05:45.390501 4439444928 logger.py:147] Benchmark metric: {'name': 'auc', 'value': 0.8839152455329895, 'unit': None, 'global_step': 3258, 'timestamp': '2020-02-11T05:05:45.390480Z', 'extras': []}\n"
     ]
    },
    {
     "name": "stdout",
     "output_type": "stream",
     "text": [
      "INFO:tensorflow:Benchmark metric: {'name': 'auc_precision_recall', 'value': 0.7256876826286316, 'unit': None, 'global_step': 3258, 'timestamp': '2020-02-11T05:05:45.391273Z', 'extras': []}\n"
     ]
    },
    {
     "name": "stderr",
     "output_type": "stream",
     "text": [
      "I0211 12:05:45.391291 4439444928 logger.py:147] Benchmark metric: {'name': 'auc_precision_recall', 'value': 0.7256876826286316, 'unit': None, 'global_step': 3258, 'timestamp': '2020-02-11T05:05:45.391273Z', 'extras': []}\n"
     ]
    },
    {
     "name": "stdout",
     "output_type": "stream",
     "text": [
      "INFO:tensorflow:Benchmark metric: {'name': 'average_loss', 'value': 0.37305381894111633, 'unit': None, 'global_step': 3258, 'timestamp': '2020-02-11T05:05:45.392050Z', 'extras': []}\n"
     ]
    },
    {
     "name": "stderr",
     "output_type": "stream",
     "text": [
      "I0211 12:05:45.392068 4439444928 logger.py:147] Benchmark metric: {'name': 'average_loss', 'value': 0.37305381894111633, 'unit': None, 'global_step': 3258, 'timestamp': '2020-02-11T05:05:45.392050Z', 'extras': []}\n"
     ]
    },
    {
     "name": "stdout",
     "output_type": "stream",
     "text": [
      "INFO:tensorflow:Benchmark metric: {'name': 'label/mean', 'value': 0.23622627556324005, 'unit': None, 'global_step': 3258, 'timestamp': '2020-02-11T05:05:45.392664Z', 'extras': []}\n"
     ]
    },
    {
     "name": "stderr",
     "output_type": "stream",
     "text": [
      "I0211 12:05:45.392682 4439444928 logger.py:147] Benchmark metric: {'name': 'label/mean', 'value': 0.23622627556324005, 'unit': None, 'global_step': 3258, 'timestamp': '2020-02-11T05:05:45.392664Z', 'extras': []}\n"
     ]
    },
    {
     "name": "stdout",
     "output_type": "stream",
     "text": [
      "INFO:tensorflow:Benchmark metric: {'name': 'loss', 'value': 0.3733893632888794, 'unit': None, 'global_step': 3258, 'timestamp': '2020-02-11T05:05:45.393437Z', 'extras': []}\n"
     ]
    },
    {
     "name": "stderr",
     "output_type": "stream",
     "text": [
      "I0211 12:05:45.393457 4439444928 logger.py:147] Benchmark metric: {'name': 'loss', 'value': 0.3733893632888794, 'unit': None, 'global_step': 3258, 'timestamp': '2020-02-11T05:05:45.393437Z', 'extras': []}\n"
     ]
    },
    {
     "name": "stdout",
     "output_type": "stream",
     "text": [
      "INFO:tensorflow:Benchmark metric: {'name': 'precision', 'value': 0.7454047799110413, 'unit': None, 'global_step': 3258, 'timestamp': '2020-02-11T05:05:45.394107Z', 'extras': []}\n"
     ]
    },
    {
     "name": "stderr",
     "output_type": "stream",
     "text": [
      "I0211 12:05:45.394141 4439444928 logger.py:147] Benchmark metric: {'name': 'precision', 'value': 0.7454047799110413, 'unit': None, 'global_step': 3258, 'timestamp': '2020-02-11T05:05:45.394107Z', 'extras': []}\n"
     ]
    },
    {
     "name": "stdout",
     "output_type": "stream",
     "text": [
      "INFO:tensorflow:Benchmark metric: {'name': 'prediction/mean', 'value': 0.2843647599220276, 'unit': None, 'global_step': 3258, 'timestamp': '2020-02-11T05:05:45.395018Z', 'extras': []}\n"
     ]
    },
    {
     "name": "stderr",
     "output_type": "stream",
     "text": [
      "I0211 12:05:45.395036 4439444928 logger.py:147] Benchmark metric: {'name': 'prediction/mean', 'value': 0.2843647599220276, 'unit': None, 'global_step': 3258, 'timestamp': '2020-02-11T05:05:45.395018Z', 'extras': []}\n"
     ]
    },
    {
     "name": "stdout",
     "output_type": "stream",
     "text": [
      "INFO:tensorflow:Benchmark metric: {'name': 'recall', 'value': 0.4955798089504242, 'unit': None, 'global_step': 3258, 'timestamp': '2020-02-11T05:05:45.395751Z', 'extras': []}\n"
     ]
    },
    {
     "name": "stderr",
     "output_type": "stream",
     "text": [
      "I0211 12:05:45.395770 4439444928 logger.py:147] Benchmark metric: {'name': 'recall', 'value': 0.4955798089504242, 'unit': None, 'global_step': 3258, 'timestamp': '2020-02-11T05:05:45.395751Z', 'extras': []}\n"
     ]
    },
    {
     "name": "stdout",
     "output_type": "stream",
     "text": [
      "INFO:tensorflow:Parsing data/adult.data\n"
     ]
    },
    {
     "name": "stderr",
     "output_type": "stream",
     "text": [
      "I0211 12:05:45.419998 4439444928 api.py:332] Parsing data/adult.data\n"
     ]
    },
    {
     "name": "stdout",
     "output_type": "stream",
     "text": [
      "INFO:tensorflow:Calling model_fn.\n"
     ]
    },
    {
     "name": "stderr",
     "output_type": "stream",
     "text": [
      "I0211 12:05:45.449669 4439444928 estimator.py:1151] Calling model_fn.\n"
     ]
    },
    {
     "name": "stdout",
     "output_type": "stream",
     "text": [
      "INFO:tensorflow:Done calling model_fn.\n"
     ]
    },
    {
     "name": "stderr",
     "output_type": "stream",
     "text": [
      "I0211 12:05:46.206328 4439444928 estimator.py:1153] Done calling model_fn.\n"
     ]
    },
    {
     "name": "stdout",
     "output_type": "stream",
     "text": [
      "INFO:tensorflow:Create CheckpointSaverHook.\n"
     ]
    },
    {
     "name": "stderr",
     "output_type": "stream",
     "text": [
      "I0211 12:05:46.207418 4439444928 basic_session_run_hooks.py:546] Create CheckpointSaverHook.\n"
     ]
    },
    {
     "name": "stdout",
     "output_type": "stream",
     "text": [
      "INFO:tensorflow:Graph was finalized.\n"
     ]
    },
    {
     "name": "stderr",
     "output_type": "stream",
     "text": [
      "I0211 12:05:46.294202 4439444928 monitored_session.py:246] Graph was finalized.\n"
     ]
    },
    {
     "name": "stdout",
     "output_type": "stream",
     "text": [
      "INFO:tensorflow:Restoring parameters from model/model.ckpt-3258\n"
     ]
    },
    {
     "name": "stderr",
     "output_type": "stream",
     "text": [
      "I0211 12:05:46.297623 4439444928 saver.py:1284] Restoring parameters from model/model.ckpt-3258\n"
     ]
    },
    {
     "name": "stdout",
     "output_type": "stream",
     "text": [
      "INFO:tensorflow:Running local_init_op.\n"
     ]
    },
    {
     "name": "stderr",
     "output_type": "stream",
     "text": [
      "I0211 12:05:46.501394 4439444928 session_manager.py:504] Running local_init_op.\n"
     ]
    },
    {
     "name": "stdout",
     "output_type": "stream",
     "text": [
      "INFO:tensorflow:Done running local_init_op.\n"
     ]
    },
    {
     "name": "stderr",
     "output_type": "stream",
     "text": [
      "I0211 12:05:46.555458 4439444928 session_manager.py:507] Done running local_init_op.\n"
     ]
    },
    {
     "name": "stdout",
     "output_type": "stream",
     "text": [
      "INFO:tensorflow:Saving checkpoints for 3258 into model/model.ckpt.\n"
     ]
    },
    {
     "name": "stderr",
     "output_type": "stream",
     "text": [
      "I0211 12:05:47.405158 4439444928 basic_session_run_hooks.py:613] Saving checkpoints for 3258 into model/model.ckpt.\n"
     ]
    },
    {
     "name": "stdout",
     "output_type": "stream",
     "text": [
      "INFO:tensorflow:loss = 0.3000365, step = 3258\n"
     ]
    },
    {
     "name": "stderr",
     "output_type": "stream",
     "text": [
      "I0211 12:05:48.312577 4439444928 basic_session_run_hooks.py:262] loss = 0.3000365, step = 3258\n"
     ]
    },
    {
     "name": "stdout",
     "output_type": "stream",
     "text": [
      "INFO:tensorflow:global_step/sec: 141.533\n"
     ]
    },
    {
     "name": "stderr",
     "output_type": "stream",
     "text": [
      "I0211 12:05:49.018615 4439444928 basic_session_run_hooks.py:700] global_step/sec: 141.533\n"
     ]
    },
    {
     "name": "stdout",
     "output_type": "stream",
     "text": [
      "INFO:tensorflow:loss = 0.2656318, step = 3358 (0.708 sec)\n"
     ]
    },
    {
     "name": "stderr",
     "output_type": "stream",
     "text": [
      "I0211 12:05:49.020339 4439444928 basic_session_run_hooks.py:260] loss = 0.2656318, step = 3358 (0.708 sec)\n"
     ]
    },
    {
     "name": "stdout",
     "output_type": "stream",
     "text": [
      "INFO:tensorflow:global_step/sec: 476.174\n"
     ]
    },
    {
     "name": "stderr",
     "output_type": "stream",
     "text": [
      "I0211 12:05:49.228626 4439444928 basic_session_run_hooks.py:700] global_step/sec: 476.174\n"
     ]
    },
    {
     "name": "stdout",
     "output_type": "stream",
     "text": [
      "INFO:tensorflow:loss = 0.3760421, step = 3458 (0.210 sec)\n"
     ]
    },
    {
     "name": "stderr",
     "output_type": "stream",
     "text": [
      "I0211 12:05:49.229883 4439444928 basic_session_run_hooks.py:260] loss = 0.3760421, step = 3458 (0.210 sec)\n"
     ]
    },
    {
     "name": "stdout",
     "output_type": "stream",
     "text": [
      "INFO:tensorflow:global_step/sec: 513.725\n"
     ]
    },
    {
     "name": "stderr",
     "output_type": "stream",
     "text": [
      "I0211 12:05:49.423280 4439444928 basic_session_run_hooks.py:700] global_step/sec: 513.725\n"
     ]
    },
    {
     "name": "stdout",
     "output_type": "stream",
     "text": [
      "INFO:tensorflow:loss = 0.36419678, step = 3558 (0.195 sec)\n"
     ]
    },
    {
     "name": "stderr",
     "output_type": "stream",
     "text": [
      "I0211 12:05:49.424538 4439444928 basic_session_run_hooks.py:260] loss = 0.36419678, step = 3558 (0.195 sec)\n"
     ]
    },
    {
     "name": "stdout",
     "output_type": "stream",
     "text": [
      "INFO:tensorflow:global_step/sec: 509.887\n"
     ]
    },
    {
     "name": "stderr",
     "output_type": "stream",
     "text": [
      "I0211 12:05:49.619405 4439444928 basic_session_run_hooks.py:700] global_step/sec: 509.887\n"
     ]
    },
    {
     "name": "stdout",
     "output_type": "stream",
     "text": [
      "INFO:tensorflow:loss = 0.6485577, step = 3658 (0.196 sec)\n"
     ]
    },
    {
     "name": "stderr",
     "output_type": "stream",
     "text": [
      "I0211 12:05:49.620702 4439444928 basic_session_run_hooks.py:260] loss = 0.6485577, step = 3658 (0.196 sec)\n"
     ]
    },
    {
     "name": "stdout",
     "output_type": "stream",
     "text": [
      "INFO:tensorflow:global_step/sec: 509.518\n"
     ]
    },
    {
     "name": "stderr",
     "output_type": "stream",
     "text": [
      "I0211 12:05:49.815654 4439444928 basic_session_run_hooks.py:700] global_step/sec: 509.518\n"
     ]
    },
    {
     "name": "stdout",
     "output_type": "stream",
     "text": [
      "INFO:tensorflow:loss = 0.3959461, step = 3758 (0.196 sec)\n"
     ]
    },
    {
     "name": "stderr",
     "output_type": "stream",
     "text": [
      "I0211 12:05:49.816922 4439444928 basic_session_run_hooks.py:260] loss = 0.3959461, step = 3758 (0.196 sec)\n"
     ]
    },
    {
     "name": "stdout",
     "output_type": "stream",
     "text": [
      "INFO:tensorflow:global_step/sec: 505.331\n"
     ]
    },
    {
     "name": "stderr",
     "output_type": "stream",
     "text": [
      "I0211 12:05:50.013545 4439444928 basic_session_run_hooks.py:700] global_step/sec: 505.331\n"
     ]
    },
    {
     "name": "stdout",
     "output_type": "stream",
     "text": [
      "INFO:tensorflow:loss = 0.50562894, step = 3858 (0.198 sec)\n"
     ]
    },
    {
     "name": "stderr",
     "output_type": "stream",
     "text": [
      "I0211 12:05:50.014895 4439444928 basic_session_run_hooks.py:260] loss = 0.50562894, step = 3858 (0.198 sec)\n"
     ]
    },
    {
     "name": "stdout",
     "output_type": "stream",
     "text": [
      "INFO:tensorflow:global_step/sec: 498.914\n"
     ]
    },
    {
     "name": "stderr",
     "output_type": "stream",
     "text": [
      "I0211 12:05:50.213994 4439444928 basic_session_run_hooks.py:700] global_step/sec: 498.914\n"
     ]
    },
    {
     "name": "stdout",
     "output_type": "stream",
     "text": [
      "INFO:tensorflow:loss = 0.32893997, step = 3958 (0.200 sec)\n"
     ]
    },
    {
     "name": "stderr",
     "output_type": "stream",
     "text": [
      "I0211 12:05:50.215351 4439444928 basic_session_run_hooks.py:260] loss = 0.32893997, step = 3958 (0.200 sec)\n"
     ]
    },
    {
     "name": "stdout",
     "output_type": "stream",
     "text": [
      "INFO:tensorflow:global_step/sec: 490.103\n"
     ]
    },
    {
     "name": "stderr",
     "output_type": "stream",
     "text": [
      "I0211 12:05:50.418032 4439444928 basic_session_run_hooks.py:700] global_step/sec: 490.103\n"
     ]
    },
    {
     "name": "stdout",
     "output_type": "stream",
     "text": [
      "INFO:tensorflow:loss = 0.29207483, step = 4058 (0.204 sec)\n"
     ]
    },
    {
     "name": "stderr",
     "output_type": "stream",
     "text": [
      "I0211 12:05:50.419302 4439444928 basic_session_run_hooks.py:260] loss = 0.29207483, step = 4058 (0.204 sec)\n"
     ]
    },
    {
     "name": "stdout",
     "output_type": "stream",
     "text": [
      "INFO:tensorflow:global_step/sec: 400.57\n"
     ]
    },
    {
     "name": "stderr",
     "output_type": "stream",
     "text": [
      "I0211 12:05:50.667658 4439444928 basic_session_run_hooks.py:700] global_step/sec: 400.57\n"
     ]
    },
    {
     "name": "stdout",
     "output_type": "stream",
     "text": [
      "INFO:tensorflow:loss = 0.27652365, step = 4158 (0.250 sec)\n"
     ]
    },
    {
     "name": "stderr",
     "output_type": "stream",
     "text": [
      "I0211 12:05:50.668920 4439444928 basic_session_run_hooks.py:260] loss = 0.27652365, step = 4158 (0.250 sec)\n"
     ]
    },
    {
     "name": "stdout",
     "output_type": "stream",
     "text": [
      "INFO:tensorflow:global_step/sec: 501.083\n"
     ]
    },
    {
     "name": "stderr",
     "output_type": "stream",
     "text": [
      "I0211 12:05:50.867228 4439444928 basic_session_run_hooks.py:700] global_step/sec: 501.083\n"
     ]
    },
    {
     "name": "stdout",
     "output_type": "stream",
     "text": [
      "INFO:tensorflow:loss = 0.32434672, step = 4258 (0.200 sec)\n"
     ]
    },
    {
     "name": "stderr",
     "output_type": "stream",
     "text": [
      "I0211 12:05:50.868468 4439444928 basic_session_run_hooks.py:260] loss = 0.32434672, step = 4258 (0.200 sec)\n"
     ]
    },
    {
     "name": "stdout",
     "output_type": "stream",
     "text": [
      "INFO:tensorflow:global_step/sec: 498.005\n"
     ]
    },
    {
     "name": "stderr",
     "output_type": "stream",
     "text": [
      "I0211 12:05:51.068027 4439444928 basic_session_run_hooks.py:700] global_step/sec: 498.005\n"
     ]
    },
    {
     "name": "stdout",
     "output_type": "stream",
     "text": [
      "INFO:tensorflow:loss = 0.3601549, step = 4358 (0.201 sec)\n"
     ]
    },
    {
     "name": "stderr",
     "output_type": "stream",
     "text": [
      "I0211 12:05:51.069283 4439444928 basic_session_run_hooks.py:260] loss = 0.3601549, step = 4358 (0.201 sec)\n"
     ]
    },
    {
     "name": "stdout",
     "output_type": "stream",
     "text": [
      "INFO:tensorflow:global_step/sec: 501.326\n"
     ]
    },
    {
     "name": "stderr",
     "output_type": "stream",
     "text": [
      "I0211 12:05:51.267503 4439444928 basic_session_run_hooks.py:700] global_step/sec: 501.326\n"
     ]
    },
    {
     "name": "stdout",
     "output_type": "stream",
     "text": [
      "INFO:tensorflow:loss = 0.3685432, step = 4458 (0.199 sec)\n"
     ]
    },
    {
     "name": "stderr",
     "output_type": "stream",
     "text": [
      "I0211 12:05:51.268751 4439444928 basic_session_run_hooks.py:260] loss = 0.3685432, step = 4458 (0.199 sec)\n"
     ]
    },
    {
     "name": "stdout",
     "output_type": "stream",
     "text": [
      "INFO:tensorflow:global_step/sec: 498.001\n"
     ]
    },
    {
     "name": "stderr",
     "output_type": "stream",
     "text": [
      "I0211 12:05:51.468303 4439444928 basic_session_run_hooks.py:700] global_step/sec: 498.001\n"
     ]
    },
    {
     "name": "stdout",
     "output_type": "stream",
     "text": [
      "INFO:tensorflow:loss = 0.3365124, step = 4558 (0.201 sec)\n"
     ]
    },
    {
     "name": "stderr",
     "output_type": "stream",
     "text": [
      "I0211 12:05:51.469645 4439444928 basic_session_run_hooks.py:260] loss = 0.3365124, step = 4558 (0.201 sec)\n"
     ]
    },
    {
     "name": "stdout",
     "output_type": "stream",
     "text": [
      "INFO:tensorflow:global_step/sec: 493.944\n"
     ]
    },
    {
     "name": "stderr",
     "output_type": "stream",
     "text": [
      "I0211 12:05:51.670757 4439444928 basic_session_run_hooks.py:700] global_step/sec: 493.944\n"
     ]
    },
    {
     "name": "stdout",
     "output_type": "stream",
     "text": [
      "INFO:tensorflow:loss = 0.34994236, step = 4658 (0.202 sec)\n"
     ]
    },
    {
     "name": "stderr",
     "output_type": "stream",
     "text": [
      "I0211 12:05:51.672032 4439444928 basic_session_run_hooks.py:260] loss = 0.34994236, step = 4658 (0.202 sec)\n"
     ]
    },
    {
     "name": "stdout",
     "output_type": "stream",
     "text": [
      "INFO:tensorflow:global_step/sec: 493.459\n"
     ]
    },
    {
     "name": "stderr",
     "output_type": "stream",
     "text": [
      "I0211 12:05:51.873403 4439444928 basic_session_run_hooks.py:700] global_step/sec: 493.459\n"
     ]
    },
    {
     "name": "stdout",
     "output_type": "stream",
     "text": [
      "INFO:tensorflow:loss = 0.3481091, step = 4758 (0.203 sec)\n"
     ]
    },
    {
     "name": "stderr",
     "output_type": "stream",
     "text": [
      "I0211 12:05:51.874655 4439444928 basic_session_run_hooks.py:260] loss = 0.3481091, step = 4758 (0.203 sec)\n"
     ]
    },
    {
     "name": "stdout",
     "output_type": "stream",
     "text": [
      "INFO:tensorflow:global_step/sec: 494.79\n"
     ]
    },
    {
     "name": "stderr",
     "output_type": "stream",
     "text": [
      "I0211 12:05:52.075514 4439444928 basic_session_run_hooks.py:700] global_step/sec: 494.79\n"
     ]
    },
    {
     "name": "stdout",
     "output_type": "stream",
     "text": [
      "INFO:tensorflow:loss = 0.39441758, step = 4858 (0.202 sec)\n"
     ]
    },
    {
     "name": "stderr",
     "output_type": "stream",
     "text": [
      "I0211 12:05:52.076801 4439444928 basic_session_run_hooks.py:260] loss = 0.39441758, step = 4858 (0.202 sec)\n"
     ]
    },
    {
     "name": "stdout",
     "output_type": "stream",
     "text": [
      "INFO:tensorflow:Saving checkpoints for 4887 into model/model.ckpt.\n"
     ]
    },
    {
     "name": "stderr",
     "output_type": "stream",
     "text": [
      "I0211 12:05:52.142117 4439444928 basic_session_run_hooks.py:613] Saving checkpoints for 4887 into model/model.ckpt.\n"
     ]
    },
    {
     "name": "stdout",
     "output_type": "stream",
     "text": [
      "INFO:tensorflow:Loss for final step: 0.07639985.\n"
     ]
    },
    {
     "name": "stderr",
     "output_type": "stream",
     "text": [
      "I0211 12:05:52.314621 4439444928 estimator.py:375] Loss for final step: 0.07639985.\n"
     ]
    },
    {
     "name": "stdout",
     "output_type": "stream",
     "text": [
      "INFO:tensorflow:Parsing data/adult.test\n"
     ]
    },
    {
     "name": "stderr",
     "output_type": "stream",
     "text": [
      "I0211 12:05:52.326198 4439444928 api.py:332] Parsing data/adult.test\n"
     ]
    },
    {
     "name": "stdout",
     "output_type": "stream",
     "text": [
      "INFO:tensorflow:Calling model_fn.\n"
     ]
    },
    {
     "name": "stderr",
     "output_type": "stream",
     "text": [
      "I0211 12:05:52.347323 4439444928 estimator.py:1151] Calling model_fn.\n"
     ]
    },
    {
     "name": "stdout",
     "output_type": "stream",
     "text": [
      "INFO:tensorflow:Done calling model_fn.\n"
     ]
    },
    {
     "name": "stderr",
     "output_type": "stream",
     "text": [
      "I0211 12:05:53.426856 4439444928 estimator.py:1153] Done calling model_fn.\n"
     ]
    },
    {
     "name": "stdout",
     "output_type": "stream",
     "text": [
      "INFO:tensorflow:Starting evaluation at 2020-02-11T12:05:53Z\n"
     ]
    },
    {
     "name": "stderr",
     "output_type": "stream",
     "text": [
      "I0211 12:05:53.441596 4439444928 evaluation.py:255] Starting evaluation at 2020-02-11T12:05:53Z\n"
     ]
    },
    {
     "name": "stdout",
     "output_type": "stream",
     "text": [
      "INFO:tensorflow:Graph was finalized.\n"
     ]
    },
    {
     "name": "stderr",
     "output_type": "stream",
     "text": [
      "I0211 12:05:53.496052 4439444928 monitored_session.py:246] Graph was finalized.\n"
     ]
    },
    {
     "name": "stdout",
     "output_type": "stream",
     "text": [
      "INFO:tensorflow:Restoring parameters from model/model.ckpt-4887\n"
     ]
    },
    {
     "name": "stderr",
     "output_type": "stream",
     "text": [
      "I0211 12:05:53.498205 4439444928 saver.py:1284] Restoring parameters from model/model.ckpt-4887\n"
     ]
    },
    {
     "name": "stdout",
     "output_type": "stream",
     "text": [
      "INFO:tensorflow:Running local_init_op.\n"
     ]
    },
    {
     "name": "stderr",
     "output_type": "stream",
     "text": [
      "I0211 12:05:53.704048 4439444928 session_manager.py:504] Running local_init_op.\n"
     ]
    },
    {
     "name": "stdout",
     "output_type": "stream",
     "text": [
      "INFO:tensorflow:Done running local_init_op.\n"
     ]
    },
    {
     "name": "stderr",
     "output_type": "stream",
     "text": [
      "I0211 12:05:53.787535 4439444928 session_manager.py:507] Done running local_init_op.\n"
     ]
    },
    {
     "name": "stdout",
     "output_type": "stream",
     "text": [
      "INFO:tensorflow:Inference Time : 1.68886s\n"
     ]
    },
    {
     "name": "stderr",
     "output_type": "stream",
     "text": [
      "I0211 12:05:55.131714 4439444928 evaluation.py:273] Inference Time : 1.68886s\n"
     ]
    },
    {
     "name": "stdout",
     "output_type": "stream",
     "text": [
      "INFO:tensorflow:Finished evaluation at 2020-02-11-12:05:55\n"
     ]
    },
    {
     "name": "stderr",
     "output_type": "stream",
     "text": [
      "I0211 12:05:55.132680 4439444928 evaluation.py:276] Finished evaluation at 2020-02-11-12:05:55\n"
     ]
    },
    {
     "name": "stdout",
     "output_type": "stream",
     "text": [
      "INFO:tensorflow:Saving dict for global step 4887: accuracy = 0.8433143, accuracy_baseline = 0.76377374, auc = 0.8894912, auc_precision_recall = 0.73811173, average_loss = 0.3547592, global_step = 4887, label/mean = 0.23622628, loss = 0.35507715, precision = 0.7744807, prediction/mean = 0.25595576, recall = 0.475039\n"
     ]
    },
    {
     "name": "stderr",
     "output_type": "stream",
     "text": [
      "I0211 12:05:55.133509 4439444928 estimator.py:2053] Saving dict for global step 4887: accuracy = 0.8433143, accuracy_baseline = 0.76377374, auc = 0.8894912, auc_precision_recall = 0.73811173, average_loss = 0.3547592, global_step = 4887, label/mean = 0.23622628, loss = 0.35507715, precision = 0.7744807, prediction/mean = 0.25595576, recall = 0.475039\n"
     ]
    },
    {
     "name": "stdout",
     "output_type": "stream",
     "text": [
      "INFO:tensorflow:Saving 'checkpoint_path' summary for global step 4887: model/model.ckpt-4887\n"
     ]
    },
    {
     "name": "stderr",
     "output_type": "stream",
     "text": [
      "I0211 12:05:55.134588 4439444928 estimator.py:2113] Saving 'checkpoint_path' summary for global step 4887: model/model.ckpt-4887\n"
     ]
    },
    {
     "name": "stdout",
     "output_type": "stream",
     "text": [
      "INFO:tensorflow:Results at epoch 6 / 40\n"
     ]
    },
    {
     "name": "stderr",
     "output_type": "stream",
     "text": [
      "I0211 12:05:55.135770 4439444928 <ipython-input-7-b40c302cf839>:76] Results at epoch 6 / 40\n"
     ]
    },
    {
     "name": "stdout",
     "output_type": "stream",
     "text": [
      "INFO:tensorflow:------------------------------------------------------------\n"
     ]
    },
    {
     "name": "stderr",
     "output_type": "stream",
     "text": [
      "I0211 12:05:55.136528 4439444928 <ipython-input-7-b40c302cf839>:77] ------------------------------------------------------------\n"
     ]
    },
    {
     "name": "stdout",
     "output_type": "stream",
     "text": [
      "INFO:tensorflow:accuracy: 0.8433143\n"
     ]
    },
    {
     "name": "stderr",
     "output_type": "stream",
     "text": [
      "I0211 12:05:55.137172 4439444928 <ipython-input-7-b40c302cf839>:80] accuracy: 0.8433143\n"
     ]
    },
    {
     "name": "stdout",
     "output_type": "stream",
     "text": [
      "INFO:tensorflow:accuracy_baseline: 0.76377374\n"
     ]
    },
    {
     "name": "stderr",
     "output_type": "stream",
     "text": [
      "I0211 12:05:55.137964 4439444928 <ipython-input-7-b40c302cf839>:80] accuracy_baseline: 0.76377374\n"
     ]
    },
    {
     "name": "stdout",
     "output_type": "stream",
     "text": [
      "INFO:tensorflow:auc: 0.8894912\n"
     ]
    },
    {
     "name": "stderr",
     "output_type": "stream",
     "text": [
      "I0211 12:05:55.138633 4439444928 <ipython-input-7-b40c302cf839>:80] auc: 0.8894912\n"
     ]
    },
    {
     "name": "stdout",
     "output_type": "stream",
     "text": [
      "INFO:tensorflow:auc_precision_recall: 0.73811173\n"
     ]
    },
    {
     "name": "stderr",
     "output_type": "stream",
     "text": [
      "I0211 12:05:55.139569 4439444928 <ipython-input-7-b40c302cf839>:80] auc_precision_recall: 0.73811173\n"
     ]
    },
    {
     "name": "stdout",
     "output_type": "stream",
     "text": [
      "INFO:tensorflow:average_loss: 0.3547592\n"
     ]
    },
    {
     "name": "stderr",
     "output_type": "stream",
     "text": [
      "I0211 12:05:55.140619 4439444928 <ipython-input-7-b40c302cf839>:80] average_loss: 0.3547592\n"
     ]
    },
    {
     "name": "stdout",
     "output_type": "stream",
     "text": [
      "INFO:tensorflow:global_step: 4887\n"
     ]
    },
    {
     "name": "stderr",
     "output_type": "stream",
     "text": [
      "I0211 12:05:55.141358 4439444928 <ipython-input-7-b40c302cf839>:80] global_step: 4887\n"
     ]
    },
    {
     "name": "stdout",
     "output_type": "stream",
     "text": [
      "INFO:tensorflow:label/mean: 0.23622628\n"
     ]
    },
    {
     "name": "stderr",
     "output_type": "stream",
     "text": [
      "I0211 12:05:55.142258 4439444928 <ipython-input-7-b40c302cf839>:80] label/mean: 0.23622628\n"
     ]
    },
    {
     "name": "stdout",
     "output_type": "stream",
     "text": [
      "INFO:tensorflow:loss: 0.35507715\n"
     ]
    },
    {
     "name": "stderr",
     "output_type": "stream",
     "text": [
      "I0211 12:05:55.143183 4439444928 <ipython-input-7-b40c302cf839>:80] loss: 0.35507715\n"
     ]
    },
    {
     "name": "stdout",
     "output_type": "stream",
     "text": [
      "INFO:tensorflow:precision: 0.7744807\n"
     ]
    },
    {
     "name": "stderr",
     "output_type": "stream",
     "text": [
      "I0211 12:05:55.143918 4439444928 <ipython-input-7-b40c302cf839>:80] precision: 0.7744807\n"
     ]
    },
    {
     "name": "stdout",
     "output_type": "stream",
     "text": [
      "INFO:tensorflow:prediction/mean: 0.25595576\n"
     ]
    },
    {
     "name": "stderr",
     "output_type": "stream",
     "text": [
      "I0211 12:05:55.144761 4439444928 <ipython-input-7-b40c302cf839>:80] prediction/mean: 0.25595576\n"
     ]
    },
    {
     "name": "stdout",
     "output_type": "stream",
     "text": [
      "INFO:tensorflow:recall: 0.475039\n"
     ]
    },
    {
     "name": "stderr",
     "output_type": "stream",
     "text": [
      "I0211 12:05:55.145572 4439444928 <ipython-input-7-b40c302cf839>:80] recall: 0.475039\n"
     ]
    },
    {
     "name": "stdout",
     "output_type": "stream",
     "text": [
      "INFO:tensorflow:Benchmark metric: {'name': 'accuracy', 'value': 0.8433142900466919, 'unit': None, 'global_step': 4887, 'timestamp': '2020-02-11T05:05:55.146216Z', 'extras': []}\n"
     ]
    },
    {
     "name": "stderr",
     "output_type": "stream",
     "text": [
      "I0211 12:05:55.146243 4439444928 logger.py:147] Benchmark metric: {'name': 'accuracy', 'value': 0.8433142900466919, 'unit': None, 'global_step': 4887, 'timestamp': '2020-02-11T05:05:55.146216Z', 'extras': []}\n"
     ]
    },
    {
     "name": "stdout",
     "output_type": "stream",
     "text": [
      "INFO:tensorflow:Benchmark metric: {'name': 'accuracy_baseline', 'value': 0.7637737393379211, 'unit': None, 'global_step': 4887, 'timestamp': '2020-02-11T05:05:55.146949Z', 'extras': []}\n"
     ]
    },
    {
     "name": "stderr",
     "output_type": "stream",
     "text": [
      "I0211 12:05:55.146968 4439444928 logger.py:147] Benchmark metric: {'name': 'accuracy_baseline', 'value': 0.7637737393379211, 'unit': None, 'global_step': 4887, 'timestamp': '2020-02-11T05:05:55.146949Z', 'extras': []}\n"
     ]
    },
    {
     "name": "stdout",
     "output_type": "stream",
     "text": [
      "INFO:tensorflow:Benchmark metric: {'name': 'auc', 'value': 0.8894912004470825, 'unit': None, 'global_step': 4887, 'timestamp': '2020-02-11T05:05:55.147638Z', 'extras': []}\n"
     ]
    },
    {
     "name": "stderr",
     "output_type": "stream",
     "text": [
      "I0211 12:05:55.147657 4439444928 logger.py:147] Benchmark metric: {'name': 'auc', 'value': 0.8894912004470825, 'unit': None, 'global_step': 4887, 'timestamp': '2020-02-11T05:05:55.147638Z', 'extras': []}\n"
     ]
    },
    {
     "name": "stdout",
     "output_type": "stream",
     "text": [
      "INFO:tensorflow:Benchmark metric: {'name': 'auc_precision_recall', 'value': 0.7381117343902588, 'unit': None, 'global_step': 4887, 'timestamp': '2020-02-11T05:05:55.148516Z', 'extras': []}\n"
     ]
    },
    {
     "name": "stderr",
     "output_type": "stream",
     "text": [
      "I0211 12:05:55.148538 4439444928 logger.py:147] Benchmark metric: {'name': 'auc_precision_recall', 'value': 0.7381117343902588, 'unit': None, 'global_step': 4887, 'timestamp': '2020-02-11T05:05:55.148516Z', 'extras': []}\n"
     ]
    },
    {
     "name": "stdout",
     "output_type": "stream",
     "text": [
      "INFO:tensorflow:Benchmark metric: {'name': 'average_loss', 'value': 0.35475918650627136, 'unit': None, 'global_step': 4887, 'timestamp': '2020-02-11T05:05:55.149328Z', 'extras': []}\n"
     ]
    },
    {
     "name": "stderr",
     "output_type": "stream",
     "text": [
      "I0211 12:05:55.149349 4439444928 logger.py:147] Benchmark metric: {'name': 'average_loss', 'value': 0.35475918650627136, 'unit': None, 'global_step': 4887, 'timestamp': '2020-02-11T05:05:55.149328Z', 'extras': []}\n"
     ]
    },
    {
     "name": "stdout",
     "output_type": "stream",
     "text": [
      "INFO:tensorflow:Benchmark metric: {'name': 'label/mean', 'value': 0.23622627556324005, 'unit': None, 'global_step': 4887, 'timestamp': '2020-02-11T05:05:55.150002Z', 'extras': []}\n"
     ]
    },
    {
     "name": "stderr",
     "output_type": "stream",
     "text": [
      "I0211 12:05:55.150021 4439444928 logger.py:147] Benchmark metric: {'name': 'label/mean', 'value': 0.23622627556324005, 'unit': None, 'global_step': 4887, 'timestamp': '2020-02-11T05:05:55.150002Z', 'extras': []}\n"
     ]
    },
    {
     "name": "stdout",
     "output_type": "stream",
     "text": [
      "INFO:tensorflow:Benchmark metric: {'name': 'loss', 'value': 0.3550771474838257, 'unit': None, 'global_step': 4887, 'timestamp': '2020-02-11T05:05:55.150784Z', 'extras': []}\n"
     ]
    },
    {
     "name": "stderr",
     "output_type": "stream",
     "text": [
      "I0211 12:05:55.150802 4439444928 logger.py:147] Benchmark metric: {'name': 'loss', 'value': 0.3550771474838257, 'unit': None, 'global_step': 4887, 'timestamp': '2020-02-11T05:05:55.150784Z', 'extras': []}\n"
     ]
    },
    {
     "name": "stdout",
     "output_type": "stream",
     "text": [
      "INFO:tensorflow:Benchmark metric: {'name': 'precision', 'value': 0.7744807004928589, 'unit': None, 'global_step': 4887, 'timestamp': '2020-02-11T05:05:55.151506Z', 'extras': []}\n"
     ]
    },
    {
     "name": "stderr",
     "output_type": "stream",
     "text": [
      "I0211 12:05:55.151524 4439444928 logger.py:147] Benchmark metric: {'name': 'precision', 'value': 0.7744807004928589, 'unit': None, 'global_step': 4887, 'timestamp': '2020-02-11T05:05:55.151506Z', 'extras': []}\n"
     ]
    },
    {
     "name": "stdout",
     "output_type": "stream",
     "text": [
      "INFO:tensorflow:Benchmark metric: {'name': 'prediction/mean', 'value': 0.2559557557106018, 'unit': None, 'global_step': 4887, 'timestamp': '2020-02-11T05:05:55.152386Z', 'extras': []}\n"
     ]
    },
    {
     "name": "stderr",
     "output_type": "stream",
     "text": [
      "I0211 12:05:55.152404 4439444928 logger.py:147] Benchmark metric: {'name': 'prediction/mean', 'value': 0.2559557557106018, 'unit': None, 'global_step': 4887, 'timestamp': '2020-02-11T05:05:55.152386Z', 'extras': []}\n"
     ]
    },
    {
     "name": "stdout",
     "output_type": "stream",
     "text": [
      "INFO:tensorflow:Benchmark metric: {'name': 'recall', 'value': 0.475039005279541, 'unit': None, 'global_step': 4887, 'timestamp': '2020-02-11T05:05:55.153131Z', 'extras': []}\n"
     ]
    },
    {
     "name": "stderr",
     "output_type": "stream",
     "text": [
      "I0211 12:05:55.153151 4439444928 logger.py:147] Benchmark metric: {'name': 'recall', 'value': 0.475039005279541, 'unit': None, 'global_step': 4887, 'timestamp': '2020-02-11T05:05:55.153131Z', 'extras': []}\n"
     ]
    },
    {
     "name": "stdout",
     "output_type": "stream",
     "text": [
      "INFO:tensorflow:Parsing data/adult.data\n"
     ]
    },
    {
     "name": "stderr",
     "output_type": "stream",
     "text": [
      "I0211 12:05:55.179316 4439444928 api.py:332] Parsing data/adult.data\n"
     ]
    },
    {
     "name": "stdout",
     "output_type": "stream",
     "text": [
      "INFO:tensorflow:Calling model_fn.\n"
     ]
    },
    {
     "name": "stderr",
     "output_type": "stream",
     "text": [
      "I0211 12:05:55.206359 4439444928 estimator.py:1151] Calling model_fn.\n"
     ]
    },
    {
     "name": "stdout",
     "output_type": "stream",
     "text": [
      "INFO:tensorflow:Done calling model_fn.\n"
     ]
    },
    {
     "name": "stderr",
     "output_type": "stream",
     "text": [
      "I0211 12:05:55.969820 4439444928 estimator.py:1153] Done calling model_fn.\n"
     ]
    },
    {
     "name": "stdout",
     "output_type": "stream",
     "text": [
      "INFO:tensorflow:Create CheckpointSaverHook.\n"
     ]
    },
    {
     "name": "stderr",
     "output_type": "stream",
     "text": [
      "I0211 12:05:55.971132 4439444928 basic_session_run_hooks.py:546] Create CheckpointSaverHook.\n"
     ]
    },
    {
     "name": "stdout",
     "output_type": "stream",
     "text": [
      "INFO:tensorflow:Graph was finalized.\n"
     ]
    },
    {
     "name": "stderr",
     "output_type": "stream",
     "text": [
      "I0211 12:05:56.055735 4439444928 monitored_session.py:246] Graph was finalized.\n"
     ]
    },
    {
     "name": "stdout",
     "output_type": "stream",
     "text": [
      "INFO:tensorflow:Restoring parameters from model/model.ckpt-4887\n"
     ]
    },
    {
     "name": "stderr",
     "output_type": "stream",
     "text": [
      "I0211 12:05:56.059099 4439444928 saver.py:1284] Restoring parameters from model/model.ckpt-4887\n"
     ]
    },
    {
     "name": "stdout",
     "output_type": "stream",
     "text": [
      "INFO:tensorflow:Running local_init_op.\n"
     ]
    },
    {
     "name": "stderr",
     "output_type": "stream",
     "text": [
      "I0211 12:05:56.260374 4439444928 session_manager.py:504] Running local_init_op.\n"
     ]
    },
    {
     "name": "stdout",
     "output_type": "stream",
     "text": [
      "INFO:tensorflow:Done running local_init_op.\n"
     ]
    },
    {
     "name": "stderr",
     "output_type": "stream",
     "text": [
      "I0211 12:05:56.311199 4439444928 session_manager.py:507] Done running local_init_op.\n"
     ]
    },
    {
     "name": "stdout",
     "output_type": "stream",
     "text": [
      "INFO:tensorflow:Saving checkpoints for 4887 into model/model.ckpt.\n"
     ]
    },
    {
     "name": "stderr",
     "output_type": "stream",
     "text": [
      "I0211 12:05:57.284894 4439444928 basic_session_run_hooks.py:613] Saving checkpoints for 4887 into model/model.ckpt.\n"
     ]
    },
    {
     "name": "stdout",
     "output_type": "stream",
     "text": [
      "INFO:tensorflow:loss = 0.3336574, step = 4887\n"
     ]
    },
    {
     "name": "stderr",
     "output_type": "stream",
     "text": [
      "I0211 12:05:58.210544 4439444928 basic_session_run_hooks.py:262] loss = 0.3336574, step = 4887\n"
     ]
    },
    {
     "name": "stdout",
     "output_type": "stream",
     "text": [
      "INFO:tensorflow:global_step/sec: 154.129\n"
     ]
    },
    {
     "name": "stderr",
     "output_type": "stream",
     "text": [
      "I0211 12:05:58.859014 4439444928 basic_session_run_hooks.py:700] global_step/sec: 154.129\n"
     ]
    },
    {
     "name": "stdout",
     "output_type": "stream",
     "text": [
      "INFO:tensorflow:loss = 0.30317697, step = 4987 (0.650 sec)\n"
     ]
    },
    {
     "name": "stderr",
     "output_type": "stream",
     "text": [
      "I0211 12:05:58.860368 4439444928 basic_session_run_hooks.py:260] loss = 0.30317697, step = 4987 (0.650 sec)\n"
     ]
    },
    {
     "name": "stdout",
     "output_type": "stream",
     "text": [
      "INFO:tensorflow:global_step/sec: 482.996\n"
     ]
    },
    {
     "name": "stderr",
     "output_type": "stream",
     "text": [
      "I0211 12:05:59.066068 4439444928 basic_session_run_hooks.py:700] global_step/sec: 482.996\n"
     ]
    },
    {
     "name": "stdout",
     "output_type": "stream",
     "text": [
      "INFO:tensorflow:loss = 0.35827, step = 5087 (0.207 sec)\n"
     ]
    },
    {
     "name": "stderr",
     "output_type": "stream",
     "text": [
      "I0211 12:05:59.067327 4439444928 basic_session_run_hooks.py:260] loss = 0.35827, step = 5087 (0.207 sec)\n"
     ]
    },
    {
     "name": "stdout",
     "output_type": "stream",
     "text": [
      "INFO:tensorflow:global_step/sec: 507.88\n"
     ]
    },
    {
     "name": "stderr",
     "output_type": "stream",
     "text": [
      "I0211 12:05:59.262951 4439444928 basic_session_run_hooks.py:700] global_step/sec: 507.88\n"
     ]
    },
    {
     "name": "stdout",
     "output_type": "stream",
     "text": [
      "INFO:tensorflow:loss = 0.36540133, step = 5187 (0.197 sec)\n"
     ]
    },
    {
     "name": "stderr",
     "output_type": "stream",
     "text": [
      "I0211 12:05:59.264192 4439444928 basic_session_run_hooks.py:260] loss = 0.36540133, step = 5187 (0.197 sec)\n"
     ]
    },
    {
     "name": "stdout",
     "output_type": "stream",
     "text": [
      "INFO:tensorflow:global_step/sec: 501.087\n"
     ]
    },
    {
     "name": "stderr",
     "output_type": "stream",
     "text": [
      "I0211 12:05:59.462518 4439444928 basic_session_run_hooks.py:700] global_step/sec: 501.087\n"
     ]
    },
    {
     "name": "stdout",
     "output_type": "stream",
     "text": [
      "INFO:tensorflow:loss = 0.35205936, step = 5287 (0.200 sec)\n"
     ]
    },
    {
     "name": "stderr",
     "output_type": "stream",
     "text": [
      "I0211 12:05:59.463788 4439444928 basic_session_run_hooks.py:260] loss = 0.35205936, step = 5287 (0.200 sec)\n"
     ]
    },
    {
     "name": "stdout",
     "output_type": "stream",
     "text": [
      "INFO:tensorflow:global_step/sec: 494.255\n"
     ]
    },
    {
     "name": "stderr",
     "output_type": "stream",
     "text": [
      "I0211 12:05:59.664843 4439444928 basic_session_run_hooks.py:700] global_step/sec: 494.255\n"
     ]
    },
    {
     "name": "stdout",
     "output_type": "stream",
     "text": [
      "INFO:tensorflow:loss = 0.28648987, step = 5387 (0.202 sec)\n"
     ]
    },
    {
     "name": "stderr",
     "output_type": "stream",
     "text": [
      "I0211 12:05:59.666023 4439444928 basic_session_run_hooks.py:260] loss = 0.28648987, step = 5387 (0.202 sec)\n"
     ]
    },
    {
     "name": "stdout",
     "output_type": "stream",
     "text": [
      "INFO:tensorflow:global_step/sec: 507.313\n"
     ]
    },
    {
     "name": "stderr",
     "output_type": "stream",
     "text": [
      "I0211 12:05:59.861963 4439444928 basic_session_run_hooks.py:700] global_step/sec: 507.313\n"
     ]
    },
    {
     "name": "stdout",
     "output_type": "stream",
     "text": [
      "INFO:tensorflow:loss = 0.36478502, step = 5487 (0.197 sec)\n"
     ]
    },
    {
     "name": "stderr",
     "output_type": "stream",
     "text": [
      "I0211 12:05:59.863212 4439444928 basic_session_run_hooks.py:260] loss = 0.36478502, step = 5487 (0.197 sec)\n"
     ]
    },
    {
     "name": "stdout",
     "output_type": "stream",
     "text": [
      "INFO:tensorflow:global_step/sec: 489.218\n"
     ]
    },
    {
     "name": "stderr",
     "output_type": "stream",
     "text": [
      "I0211 12:06:00.066372 4439444928 basic_session_run_hooks.py:700] global_step/sec: 489.218\n"
     ]
    },
    {
     "name": "stdout",
     "output_type": "stream",
     "text": [
      "INFO:tensorflow:loss = 0.32442972, step = 5587 (0.204 sec)\n"
     ]
    },
    {
     "name": "stderr",
     "output_type": "stream",
     "text": [
      "I0211 12:06:00.067646 4439444928 basic_session_run_hooks.py:260] loss = 0.32442972, step = 5587 (0.204 sec)\n"
     ]
    },
    {
     "name": "stdout",
     "output_type": "stream",
     "text": [
      "INFO:tensorflow:global_step/sec: 474.484\n"
     ]
    },
    {
     "name": "stderr",
     "output_type": "stream",
     "text": [
      "I0211 12:06:00.277125 4439444928 basic_session_run_hooks.py:700] global_step/sec: 474.484\n"
     ]
    },
    {
     "name": "stdout",
     "output_type": "stream",
     "text": [
      "INFO:tensorflow:loss = 0.31770277, step = 5687 (0.211 sec)\n"
     ]
    },
    {
     "name": "stderr",
     "output_type": "stream",
     "text": [
      "I0211 12:06:00.278388 4439444928 basic_session_run_hooks.py:260] loss = 0.31770277, step = 5687 (0.211 sec)\n"
     ]
    },
    {
     "name": "stdout",
     "output_type": "stream",
     "text": [
      "INFO:tensorflow:global_step/sec: 402.297\n"
     ]
    },
    {
     "name": "stderr",
     "output_type": "stream",
     "text": [
      "I0211 12:06:00.525697 4439444928 basic_session_run_hooks.py:700] global_step/sec: 402.297\n"
     ]
    },
    {
     "name": "stdout",
     "output_type": "stream",
     "text": [
      "INFO:tensorflow:loss = 0.25465375, step = 5787 (0.249 sec)\n"
     ]
    },
    {
     "name": "stderr",
     "output_type": "stream",
     "text": [
      "I0211 12:06:00.526968 4439444928 basic_session_run_hooks.py:260] loss = 0.25465375, step = 5787 (0.249 sec)\n"
     ]
    },
    {
     "name": "stdout",
     "output_type": "stream",
     "text": [
      "INFO:tensorflow:global_step/sec: 498.159\n"
     ]
    },
    {
     "name": "stderr",
     "output_type": "stream",
     "text": [
      "I0211 12:06:00.726437 4439444928 basic_session_run_hooks.py:700] global_step/sec: 498.159\n"
     ]
    },
    {
     "name": "stdout",
     "output_type": "stream",
     "text": [
      "INFO:tensorflow:loss = 0.4911136, step = 5887 (0.201 sec)\n"
     ]
    },
    {
     "name": "stderr",
     "output_type": "stream",
     "text": [
      "I0211 12:06:00.727675 4439444928 basic_session_run_hooks.py:260] loss = 0.4911136, step = 5887 (0.201 sec)\n"
     ]
    },
    {
     "name": "stdout",
     "output_type": "stream",
     "text": [
      "INFO:tensorflow:global_step/sec: 500.949\n"
     ]
    },
    {
     "name": "stderr",
     "output_type": "stream",
     "text": [
      "I0211 12:06:00.926072 4439444928 basic_session_run_hooks.py:700] global_step/sec: 500.949\n"
     ]
    },
    {
     "name": "stdout",
     "output_type": "stream",
     "text": [
      "INFO:tensorflow:loss = 0.38704118, step = 5987 (0.200 sec)\n"
     ]
    },
    {
     "name": "stderr",
     "output_type": "stream",
     "text": [
      "I0211 12:06:00.927431 4439444928 basic_session_run_hooks.py:260] loss = 0.38704118, step = 5987 (0.200 sec)\n"
     ]
    },
    {
     "name": "stdout",
     "output_type": "stream",
     "text": [
      "INFO:tensorflow:global_step/sec: 490.627\n"
     ]
    },
    {
     "name": "stderr",
     "output_type": "stream",
     "text": [
      "I0211 12:06:01.129874 4439444928 basic_session_run_hooks.py:700] global_step/sec: 490.627\n"
     ]
    },
    {
     "name": "stdout",
     "output_type": "stream",
     "text": [
      "INFO:tensorflow:loss = 0.43787464, step = 6087 (0.204 sec)\n"
     ]
    },
    {
     "name": "stderr",
     "output_type": "stream",
     "text": [
      "I0211 12:06:01.131148 4439444928 basic_session_run_hooks.py:260] loss = 0.43787464, step = 6087 (0.204 sec)\n"
     ]
    },
    {
     "name": "stdout",
     "output_type": "stream",
     "text": [
      "INFO:tensorflow:global_step/sec: 492.528\n"
     ]
    },
    {
     "name": "stderr",
     "output_type": "stream",
     "text": [
      "I0211 12:06:01.332912 4439444928 basic_session_run_hooks.py:700] global_step/sec: 492.528\n"
     ]
    },
    {
     "name": "stdout",
     "output_type": "stream",
     "text": [
      "INFO:tensorflow:loss = 0.46304345, step = 6187 (0.203 sec)\n"
     ]
    },
    {
     "name": "stderr",
     "output_type": "stream",
     "text": [
      "I0211 12:06:01.334145 4439444928 basic_session_run_hooks.py:260] loss = 0.46304345, step = 6187 (0.203 sec)\n"
     ]
    },
    {
     "name": "stdout",
     "output_type": "stream",
     "text": [
      "INFO:tensorflow:global_step/sec: 491.048\n"
     ]
    },
    {
     "name": "stderr",
     "output_type": "stream",
     "text": [
      "I0211 12:06:01.536560 4439444928 basic_session_run_hooks.py:700] global_step/sec: 491.048\n"
     ]
    },
    {
     "name": "stdout",
     "output_type": "stream",
     "text": [
      "INFO:tensorflow:loss = 0.20891643, step = 6287 (0.204 sec)\n"
     ]
    },
    {
     "name": "stderr",
     "output_type": "stream",
     "text": [
      "I0211 12:06:01.537920 4439444928 basic_session_run_hooks.py:260] loss = 0.20891643, step = 6287 (0.204 sec)\n"
     ]
    },
    {
     "name": "stdout",
     "output_type": "stream",
     "text": [
      "INFO:tensorflow:global_step/sec: 491.408\n"
     ]
    },
    {
     "name": "stderr",
     "output_type": "stream",
     "text": [
      "I0211 12:06:01.740055 4439444928 basic_session_run_hooks.py:700] global_step/sec: 491.408\n"
     ]
    },
    {
     "name": "stdout",
     "output_type": "stream",
     "text": [
      "INFO:tensorflow:loss = 0.34216353, step = 6387 (0.203 sec)\n"
     ]
    },
    {
     "name": "stderr",
     "output_type": "stream",
     "text": [
      "I0211 12:06:01.741326 4439444928 basic_session_run_hooks.py:260] loss = 0.34216353, step = 6387 (0.203 sec)\n"
     ]
    },
    {
     "name": "stdout",
     "output_type": "stream",
     "text": [
      "INFO:tensorflow:global_step/sec: 488.539\n"
     ]
    },
    {
     "name": "stderr",
     "output_type": "stream",
     "text": [
      "I0211 12:06:01.944746 4439444928 basic_session_run_hooks.py:700] global_step/sec: 488.539\n"
     ]
    },
    {
     "name": "stdout",
     "output_type": "stream",
     "text": [
      "INFO:tensorflow:loss = 0.35913572, step = 6487 (0.205 sec)\n"
     ]
    },
    {
     "name": "stderr",
     "output_type": "stream",
     "text": [
      "I0211 12:06:01.946086 4439444928 basic_session_run_hooks.py:260] loss = 0.35913572, step = 6487 (0.205 sec)\n"
     ]
    },
    {
     "name": "stdout",
     "output_type": "stream",
     "text": [
      "INFO:tensorflow:Saving checkpoints for 6516 into model/model.ckpt.\n"
     ]
    },
    {
     "name": "stderr",
     "output_type": "stream",
     "text": [
      "I0211 12:06:02.009980 4439444928 basic_session_run_hooks.py:613] Saving checkpoints for 6516 into model/model.ckpt.\n"
     ]
    },
    {
     "name": "stdout",
     "output_type": "stream",
     "text": [
      "INFO:tensorflow:Loss for final step: 0.28410968.\n"
     ]
    },
    {
     "name": "stderr",
     "output_type": "stream",
     "text": [
      "I0211 12:06:02.190270 4439444928 estimator.py:375] Loss for final step: 0.28410968.\n"
     ]
    },
    {
     "name": "stdout",
     "output_type": "stream",
     "text": [
      "INFO:tensorflow:Parsing data/adult.test\n"
     ]
    },
    {
     "name": "stderr",
     "output_type": "stream",
     "text": [
      "I0211 12:06:02.201716 4439444928 api.py:332] Parsing data/adult.test\n"
     ]
    },
    {
     "name": "stdout",
     "output_type": "stream",
     "text": [
      "INFO:tensorflow:Calling model_fn.\n"
     ]
    },
    {
     "name": "stderr",
     "output_type": "stream",
     "text": [
      "I0211 12:06:02.222580 4439444928 estimator.py:1151] Calling model_fn.\n"
     ]
    },
    {
     "name": "stdout",
     "output_type": "stream",
     "text": [
      "INFO:tensorflow:Done calling model_fn.\n"
     ]
    },
    {
     "name": "stderr",
     "output_type": "stream",
     "text": [
      "I0211 12:06:03.129780 4439444928 estimator.py:1153] Done calling model_fn.\n"
     ]
    },
    {
     "name": "stdout",
     "output_type": "stream",
     "text": [
      "INFO:tensorflow:Starting evaluation at 2020-02-11T12:06:03Z\n"
     ]
    },
    {
     "name": "stderr",
     "output_type": "stream",
     "text": [
      "I0211 12:06:03.145027 4439444928 evaluation.py:255] Starting evaluation at 2020-02-11T12:06:03Z\n"
     ]
    },
    {
     "name": "stdout",
     "output_type": "stream",
     "text": [
      "INFO:tensorflow:Graph was finalized.\n"
     ]
    },
    {
     "name": "stderr",
     "output_type": "stream",
     "text": [
      "I0211 12:06:03.203819 4439444928 monitored_session.py:246] Graph was finalized.\n"
     ]
    },
    {
     "name": "stdout",
     "output_type": "stream",
     "text": [
      "INFO:tensorflow:Restoring parameters from model/model.ckpt-6516\n"
     ]
    },
    {
     "name": "stderr",
     "output_type": "stream",
     "text": [
      "I0211 12:06:03.205711 4439444928 saver.py:1284] Restoring parameters from model/model.ckpt-6516\n"
     ]
    },
    {
     "name": "stdout",
     "output_type": "stream",
     "text": [
      "INFO:tensorflow:Running local_init_op.\n"
     ]
    },
    {
     "name": "stderr",
     "output_type": "stream",
     "text": [
      "I0211 12:06:03.417908 4439444928 session_manager.py:504] Running local_init_op.\n"
     ]
    },
    {
     "name": "stdout",
     "output_type": "stream",
     "text": [
      "INFO:tensorflow:Done running local_init_op.\n"
     ]
    },
    {
     "name": "stderr",
     "output_type": "stream",
     "text": [
      "I0211 12:06:03.502190 4439444928 session_manager.py:507] Done running local_init_op.\n"
     ]
    },
    {
     "name": "stdout",
     "output_type": "stream",
     "text": [
      "INFO:tensorflow:Inference Time : 1.70046s\n"
     ]
    },
    {
     "name": "stderr",
     "output_type": "stream",
     "text": [
      "I0211 12:06:04.846810 4439444928 evaluation.py:273] Inference Time : 1.70046s\n"
     ]
    },
    {
     "name": "stdout",
     "output_type": "stream",
     "text": [
      "INFO:tensorflow:Finished evaluation at 2020-02-11-12:06:04\n"
     ]
    },
    {
     "name": "stderr",
     "output_type": "stream",
     "text": [
      "I0211 12:06:04.847937 4439444928 evaluation.py:276] Finished evaluation at 2020-02-11-12:06:04\n"
     ]
    },
    {
     "name": "stdout",
     "output_type": "stream",
     "text": [
      "INFO:tensorflow:Saving dict for global step 6516: accuracy = 0.84785944, accuracy_baseline = 0.76377374, auc = 0.8955111, auc_precision_recall = 0.75462216, average_loss = 0.34661958, global_step = 6516, label/mean = 0.23622628, loss = 0.3466211, precision = 0.75361246, prediction/mean = 0.26512593, recall = 0.52886117\n"
     ]
    },
    {
     "name": "stderr",
     "output_type": "stream",
     "text": [
      "I0211 12:06:04.848781 4439444928 estimator.py:2053] Saving dict for global step 6516: accuracy = 0.84785944, accuracy_baseline = 0.76377374, auc = 0.8955111, auc_precision_recall = 0.75462216, average_loss = 0.34661958, global_step = 6516, label/mean = 0.23622628, loss = 0.3466211, precision = 0.75361246, prediction/mean = 0.26512593, recall = 0.52886117\n"
     ]
    },
    {
     "name": "stdout",
     "output_type": "stream",
     "text": [
      "INFO:tensorflow:Saving 'checkpoint_path' summary for global step 6516: model/model.ckpt-6516\n"
     ]
    },
    {
     "name": "stderr",
     "output_type": "stream",
     "text": [
      "I0211 12:06:04.849701 4439444928 estimator.py:2113] Saving 'checkpoint_path' summary for global step 6516: model/model.ckpt-6516\n"
     ]
    },
    {
     "name": "stdout",
     "output_type": "stream",
     "text": [
      "INFO:tensorflow:Results at epoch 8 / 40\n"
     ]
    },
    {
     "name": "stderr",
     "output_type": "stream",
     "text": [
      "I0211 12:06:04.850895 4439444928 <ipython-input-7-b40c302cf839>:76] Results at epoch 8 / 40\n"
     ]
    },
    {
     "name": "stdout",
     "output_type": "stream",
     "text": [
      "INFO:tensorflow:------------------------------------------------------------\n"
     ]
    },
    {
     "name": "stderr",
     "output_type": "stream",
     "text": [
      "I0211 12:06:04.851676 4439444928 <ipython-input-7-b40c302cf839>:77] ------------------------------------------------------------\n"
     ]
    },
    {
     "name": "stdout",
     "output_type": "stream",
     "text": [
      "INFO:tensorflow:accuracy: 0.84785944\n"
     ]
    },
    {
     "name": "stderr",
     "output_type": "stream",
     "text": [
      "I0211 12:06:04.852377 4439444928 <ipython-input-7-b40c302cf839>:80] accuracy: 0.84785944\n"
     ]
    },
    {
     "name": "stdout",
     "output_type": "stream",
     "text": [
      "INFO:tensorflow:accuracy_baseline: 0.76377374\n"
     ]
    },
    {
     "name": "stderr",
     "output_type": "stream",
     "text": [
      "I0211 12:06:04.853117 4439444928 <ipython-input-7-b40c302cf839>:80] accuracy_baseline: 0.76377374\n"
     ]
    },
    {
     "name": "stdout",
     "output_type": "stream",
     "text": [
      "INFO:tensorflow:auc: 0.8955111\n"
     ]
    },
    {
     "name": "stderr",
     "output_type": "stream",
     "text": [
      "I0211 12:06:04.853735 4439444928 <ipython-input-7-b40c302cf839>:80] auc: 0.8955111\n"
     ]
    },
    {
     "name": "stdout",
     "output_type": "stream",
     "text": [
      "INFO:tensorflow:auc_precision_recall: 0.75462216\n"
     ]
    },
    {
     "name": "stderr",
     "output_type": "stream",
     "text": [
      "I0211 12:06:04.854511 4439444928 <ipython-input-7-b40c302cf839>:80] auc_precision_recall: 0.75462216\n"
     ]
    },
    {
     "name": "stdout",
     "output_type": "stream",
     "text": [
      "INFO:tensorflow:average_loss: 0.34661958\n"
     ]
    },
    {
     "name": "stderr",
     "output_type": "stream",
     "text": [
      "I0211 12:06:04.855623 4439444928 <ipython-input-7-b40c302cf839>:80] average_loss: 0.34661958\n"
     ]
    },
    {
     "name": "stdout",
     "output_type": "stream",
     "text": [
      "INFO:tensorflow:global_step: 6516\n"
     ]
    },
    {
     "name": "stderr",
     "output_type": "stream",
     "text": [
      "I0211 12:06:04.856290 4439444928 <ipython-input-7-b40c302cf839>:80] global_step: 6516\n"
     ]
    },
    {
     "name": "stdout",
     "output_type": "stream",
     "text": [
      "INFO:tensorflow:label/mean: 0.23622628\n"
     ]
    },
    {
     "name": "stderr",
     "output_type": "stream",
     "text": [
      "I0211 12:06:04.857119 4439444928 <ipython-input-7-b40c302cf839>:80] label/mean: 0.23622628\n"
     ]
    },
    {
     "name": "stdout",
     "output_type": "stream",
     "text": [
      "INFO:tensorflow:loss: 0.3466211\n"
     ]
    },
    {
     "name": "stderr",
     "output_type": "stream",
     "text": [
      "I0211 12:06:04.858006 4439444928 <ipython-input-7-b40c302cf839>:80] loss: 0.3466211\n"
     ]
    },
    {
     "name": "stdout",
     "output_type": "stream",
     "text": [
      "INFO:tensorflow:precision: 0.75361246\n"
     ]
    },
    {
     "name": "stderr",
     "output_type": "stream",
     "text": [
      "I0211 12:06:04.858783 4439444928 <ipython-input-7-b40c302cf839>:80] precision: 0.75361246\n"
     ]
    },
    {
     "name": "stdout",
     "output_type": "stream",
     "text": [
      "INFO:tensorflow:prediction/mean: 0.26512593\n"
     ]
    },
    {
     "name": "stderr",
     "output_type": "stream",
     "text": [
      "I0211 12:06:04.859636 4439444928 <ipython-input-7-b40c302cf839>:80] prediction/mean: 0.26512593\n"
     ]
    },
    {
     "name": "stdout",
     "output_type": "stream",
     "text": [
      "INFO:tensorflow:recall: 0.52886117\n"
     ]
    },
    {
     "name": "stderr",
     "output_type": "stream",
     "text": [
      "I0211 12:06:04.860383 4439444928 <ipython-input-7-b40c302cf839>:80] recall: 0.52886117\n"
     ]
    },
    {
     "name": "stdout",
     "output_type": "stream",
     "text": [
      "INFO:tensorflow:Benchmark metric: {'name': 'accuracy', 'value': 0.8478594422340393, 'unit': None, 'global_step': 6516, 'timestamp': '2020-02-11T05:06:04.861067Z', 'extras': []}\n"
     ]
    },
    {
     "name": "stderr",
     "output_type": "stream",
     "text": [
      "I0211 12:06:04.861093 4439444928 logger.py:147] Benchmark metric: {'name': 'accuracy', 'value': 0.8478594422340393, 'unit': None, 'global_step': 6516, 'timestamp': '2020-02-11T05:06:04.861067Z', 'extras': []}\n"
     ]
    },
    {
     "name": "stdout",
     "output_type": "stream",
     "text": [
      "INFO:tensorflow:Benchmark metric: {'name': 'accuracy_baseline', 'value': 0.7637737393379211, 'unit': None, 'global_step': 6516, 'timestamp': '2020-02-11T05:06:04.861753Z', 'extras': []}\n"
     ]
    },
    {
     "name": "stderr",
     "output_type": "stream",
     "text": [
      "I0211 12:06:04.861778 4439444928 logger.py:147] Benchmark metric: {'name': 'accuracy_baseline', 'value': 0.7637737393379211, 'unit': None, 'global_step': 6516, 'timestamp': '2020-02-11T05:06:04.861753Z', 'extras': []}\n"
     ]
    },
    {
     "name": "stdout",
     "output_type": "stream",
     "text": [
      "INFO:tensorflow:Benchmark metric: {'name': 'auc', 'value': 0.8955110907554626, 'unit': None, 'global_step': 6516, 'timestamp': '2020-02-11T05:06:04.862431Z', 'extras': []}\n"
     ]
    },
    {
     "name": "stderr",
     "output_type": "stream",
     "text": [
      "I0211 12:06:04.862452 4439444928 logger.py:147] Benchmark metric: {'name': 'auc', 'value': 0.8955110907554626, 'unit': None, 'global_step': 6516, 'timestamp': '2020-02-11T05:06:04.862431Z', 'extras': []}\n"
     ]
    },
    {
     "name": "stdout",
     "output_type": "stream",
     "text": [
      "INFO:tensorflow:Benchmark metric: {'name': 'auc_precision_recall', 'value': 0.7546221613883972, 'unit': None, 'global_step': 6516, 'timestamp': '2020-02-11T05:06:04.863281Z', 'extras': []}\n"
     ]
    },
    {
     "name": "stderr",
     "output_type": "stream",
     "text": [
      "I0211 12:06:04.863310 4439444928 logger.py:147] Benchmark metric: {'name': 'auc_precision_recall', 'value': 0.7546221613883972, 'unit': None, 'global_step': 6516, 'timestamp': '2020-02-11T05:06:04.863281Z', 'extras': []}\n"
     ]
    },
    {
     "name": "stdout",
     "output_type": "stream",
     "text": [
      "INFO:tensorflow:Benchmark metric: {'name': 'average_loss', 'value': 0.346619576215744, 'unit': None, 'global_step': 6516, 'timestamp': '2020-02-11T05:06:04.864172Z', 'extras': []}\n"
     ]
    },
    {
     "name": "stderr",
     "output_type": "stream",
     "text": [
      "I0211 12:06:04.864198 4439444928 logger.py:147] Benchmark metric: {'name': 'average_loss', 'value': 0.346619576215744, 'unit': None, 'global_step': 6516, 'timestamp': '2020-02-11T05:06:04.864172Z', 'extras': []}\n"
     ]
    },
    {
     "name": "stdout",
     "output_type": "stream",
     "text": [
      "INFO:tensorflow:Benchmark metric: {'name': 'label/mean', 'value': 0.23622627556324005, 'unit': None, 'global_step': 6516, 'timestamp': '2020-02-11T05:06:04.864870Z', 'extras': []}\n"
     ]
    },
    {
     "name": "stderr",
     "output_type": "stream",
     "text": [
      "I0211 12:06:04.864893 4439444928 logger.py:147] Benchmark metric: {'name': 'label/mean', 'value': 0.23622627556324005, 'unit': None, 'global_step': 6516, 'timestamp': '2020-02-11T05:06:04.864870Z', 'extras': []}\n"
     ]
    },
    {
     "name": "stdout",
     "output_type": "stream",
     "text": [
      "INFO:tensorflow:Benchmark metric: {'name': 'loss', 'value': 0.3466210961341858, 'unit': None, 'global_step': 6516, 'timestamp': '2020-02-11T05:06:04.865716Z', 'extras': []}\n"
     ]
    },
    {
     "name": "stderr",
     "output_type": "stream",
     "text": [
      "I0211 12:06:04.865740 4439444928 logger.py:147] Benchmark metric: {'name': 'loss', 'value': 0.3466210961341858, 'unit': None, 'global_step': 6516, 'timestamp': '2020-02-11T05:06:04.865716Z', 'extras': []}\n"
     ]
    },
    {
     "name": "stdout",
     "output_type": "stream",
     "text": [
      "INFO:tensorflow:Benchmark metric: {'name': 'precision', 'value': 0.7536124587059021, 'unit': None, 'global_step': 6516, 'timestamp': '2020-02-11T05:06:04.866694Z', 'extras': []}\n"
     ]
    },
    {
     "name": "stderr",
     "output_type": "stream",
     "text": [
      "I0211 12:06:04.866725 4439444928 logger.py:147] Benchmark metric: {'name': 'precision', 'value': 0.7536124587059021, 'unit': None, 'global_step': 6516, 'timestamp': '2020-02-11T05:06:04.866694Z', 'extras': []}\n"
     ]
    },
    {
     "name": "stdout",
     "output_type": "stream",
     "text": [
      "INFO:tensorflow:Benchmark metric: {'name': 'prediction/mean', 'value': 0.26512593030929565, 'unit': None, 'global_step': 6516, 'timestamp': '2020-02-11T05:06:04.867600Z', 'extras': []}\n"
     ]
    },
    {
     "name": "stderr",
     "output_type": "stream",
     "text": [
      "I0211 12:06:04.867626 4439444928 logger.py:147] Benchmark metric: {'name': 'prediction/mean', 'value': 0.26512593030929565, 'unit': None, 'global_step': 6516, 'timestamp': '2020-02-11T05:06:04.867600Z', 'extras': []}\n"
     ]
    },
    {
     "name": "stdout",
     "output_type": "stream",
     "text": [
      "INFO:tensorflow:Benchmark metric: {'name': 'recall', 'value': 0.5288611650466919, 'unit': None, 'global_step': 6516, 'timestamp': '2020-02-11T05:06:04.868505Z', 'extras': []}\n"
     ]
    },
    {
     "name": "stderr",
     "output_type": "stream",
     "text": [
      "I0211 12:06:04.868528 4439444928 logger.py:147] Benchmark metric: {'name': 'recall', 'value': 0.5288611650466919, 'unit': None, 'global_step': 6516, 'timestamp': '2020-02-11T05:06:04.868505Z', 'extras': []}\n"
     ]
    },
    {
     "name": "stdout",
     "output_type": "stream",
     "text": [
      "INFO:tensorflow:Parsing data/adult.data\n"
     ]
    },
    {
     "name": "stderr",
     "output_type": "stream",
     "text": [
      "I0211 12:06:04.893366 4439444928 api.py:332] Parsing data/adult.data\n"
     ]
    },
    {
     "name": "stdout",
     "output_type": "stream",
     "text": [
      "INFO:tensorflow:Calling model_fn.\n"
     ]
    },
    {
     "name": "stderr",
     "output_type": "stream",
     "text": [
      "I0211 12:06:04.924139 4439444928 estimator.py:1151] Calling model_fn.\n"
     ]
    },
    {
     "name": "stdout",
     "output_type": "stream",
     "text": [
      "INFO:tensorflow:Done calling model_fn.\n"
     ]
    },
    {
     "name": "stderr",
     "output_type": "stream",
     "text": [
      "I0211 12:06:05.868062 4439444928 estimator.py:1153] Done calling model_fn.\n"
     ]
    },
    {
     "name": "stdout",
     "output_type": "stream",
     "text": [
      "INFO:tensorflow:Create CheckpointSaverHook.\n"
     ]
    },
    {
     "name": "stderr",
     "output_type": "stream",
     "text": [
      "I0211 12:06:05.869319 4439444928 basic_session_run_hooks.py:546] Create CheckpointSaverHook.\n"
     ]
    },
    {
     "name": "stdout",
     "output_type": "stream",
     "text": [
      "INFO:tensorflow:Graph was finalized.\n"
     ]
    },
    {
     "name": "stderr",
     "output_type": "stream",
     "text": [
      "I0211 12:06:05.951379 4439444928 monitored_session.py:246] Graph was finalized.\n"
     ]
    },
    {
     "name": "stdout",
     "output_type": "stream",
     "text": [
      "INFO:tensorflow:Restoring parameters from model/model.ckpt-6516\n"
     ]
    },
    {
     "name": "stderr",
     "output_type": "stream",
     "text": [
      "I0211 12:06:05.954777 4439444928 saver.py:1284] Restoring parameters from model/model.ckpt-6516\n"
     ]
    },
    {
     "name": "stdout",
     "output_type": "stream",
     "text": [
      "INFO:tensorflow:Running local_init_op.\n"
     ]
    },
    {
     "name": "stderr",
     "output_type": "stream",
     "text": [
      "I0211 12:06:06.160606 4439444928 session_manager.py:504] Running local_init_op.\n"
     ]
    },
    {
     "name": "stdout",
     "output_type": "stream",
     "text": [
      "INFO:tensorflow:Done running local_init_op.\n"
     ]
    },
    {
     "name": "stderr",
     "output_type": "stream",
     "text": [
      "I0211 12:06:06.212837 4439444928 session_manager.py:507] Done running local_init_op.\n"
     ]
    },
    {
     "name": "stdout",
     "output_type": "stream",
     "text": [
      "INFO:tensorflow:Saving checkpoints for 6516 into model/model.ckpt.\n"
     ]
    },
    {
     "name": "stderr",
     "output_type": "stream",
     "text": [
      "I0211 12:06:07.063735 4439444928 basic_session_run_hooks.py:613] Saving checkpoints for 6516 into model/model.ckpt.\n"
     ]
    },
    {
     "name": "stdout",
     "output_type": "stream",
     "text": [
      "INFO:tensorflow:loss = 0.34282714, step = 6516\n"
     ]
    },
    {
     "name": "stderr",
     "output_type": "stream",
     "text": [
      "I0211 12:06:08.066185 4439444928 basic_session_run_hooks.py:262] loss = 0.34282714, step = 6516\n"
     ]
    },
    {
     "name": "stdout",
     "output_type": "stream",
     "text": [
      "INFO:tensorflow:global_step/sec: 138.474\n"
     ]
    },
    {
     "name": "stderr",
     "output_type": "stream",
     "text": [
      "I0211 12:06:08.788029 4439444928 basic_session_run_hooks.py:700] global_step/sec: 138.474\n"
     ]
    },
    {
     "name": "stdout",
     "output_type": "stream",
     "text": [
      "INFO:tensorflow:loss = 0.31734958, step = 6616 (0.723 sec)\n"
     ]
    },
    {
     "name": "stderr",
     "output_type": "stream",
     "text": [
      "I0211 12:06:08.789597 4439444928 basic_session_run_hooks.py:260] loss = 0.31734958, step = 6616 (0.723 sec)\n"
     ]
    },
    {
     "name": "stdout",
     "output_type": "stream",
     "text": [
      "INFO:tensorflow:global_step/sec: 457.997\n"
     ]
    },
    {
     "name": "stderr",
     "output_type": "stream",
     "text": [
      "I0211 12:06:09.006369 4439444928 basic_session_run_hooks.py:700] global_step/sec: 457.997\n"
     ]
    },
    {
     "name": "stdout",
     "output_type": "stream",
     "text": [
      "INFO:tensorflow:loss = 0.5708538, step = 6716 (0.218 sec)\n"
     ]
    },
    {
     "name": "stderr",
     "output_type": "stream",
     "text": [
      "I0211 12:06:09.007963 4439444928 basic_session_run_hooks.py:260] loss = 0.5708538, step = 6716 (0.218 sec)\n"
     ]
    },
    {
     "name": "stdout",
     "output_type": "stream",
     "text": [
      "INFO:tensorflow:global_step/sec: 446.351\n"
     ]
    },
    {
     "name": "stderr",
     "output_type": "stream",
     "text": [
      "I0211 12:06:09.230410 4439444928 basic_session_run_hooks.py:700] global_step/sec: 446.351\n"
     ]
    },
    {
     "name": "stdout",
     "output_type": "stream",
     "text": [
      "INFO:tensorflow:loss = 0.33998257, step = 6816 (0.224 sec)\n"
     ]
    },
    {
     "name": "stderr",
     "output_type": "stream",
     "text": [
      "I0211 12:06:09.231823 4439444928 basic_session_run_hooks.py:260] loss = 0.33998257, step = 6816 (0.224 sec)\n"
     ]
    },
    {
     "name": "stdout",
     "output_type": "stream",
     "text": [
      "INFO:tensorflow:global_step/sec: 452.151\n"
     ]
    },
    {
     "name": "stderr",
     "output_type": "stream",
     "text": [
      "I0211 12:06:09.451550 4439444928 basic_session_run_hooks.py:700] global_step/sec: 452.151\n"
     ]
    },
    {
     "name": "stdout",
     "output_type": "stream",
     "text": [
      "INFO:tensorflow:loss = 0.20895028, step = 6916 (0.221 sec)\n"
     ]
    },
    {
     "name": "stderr",
     "output_type": "stream",
     "text": [
      "I0211 12:06:09.452877 4439444928 basic_session_run_hooks.py:260] loss = 0.20895028, step = 6916 (0.221 sec)\n"
     ]
    },
    {
     "name": "stdout",
     "output_type": "stream",
     "text": [
      "INFO:tensorflow:global_step/sec: 504.742\n"
     ]
    },
    {
     "name": "stderr",
     "output_type": "stream",
     "text": [
      "I0211 12:06:09.649682 4439444928 basic_session_run_hooks.py:700] global_step/sec: 504.742\n"
     ]
    },
    {
     "name": "stdout",
     "output_type": "stream",
     "text": [
      "INFO:tensorflow:loss = 0.52663624, step = 7016 (0.198 sec)\n"
     ]
    },
    {
     "name": "stderr",
     "output_type": "stream",
     "text": [
      "I0211 12:06:09.651013 4439444928 basic_session_run_hooks.py:260] loss = 0.52663624, step = 7016 (0.198 sec)\n"
     ]
    },
    {
     "name": "stdout",
     "output_type": "stream",
     "text": [
      "INFO:tensorflow:global_step/sec: 487.052\n"
     ]
    },
    {
     "name": "stderr",
     "output_type": "stream",
     "text": [
      "I0211 12:06:09.854988 4439444928 basic_session_run_hooks.py:700] global_step/sec: 487.052\n"
     ]
    },
    {
     "name": "stdout",
     "output_type": "stream",
     "text": [
      "INFO:tensorflow:loss = 0.2625602, step = 7116 (0.205 sec)\n"
     ]
    },
    {
     "name": "stderr",
     "output_type": "stream",
     "text": [
      "I0211 12:06:09.856255 4439444928 basic_session_run_hooks.py:260] loss = 0.2625602, step = 7116 (0.205 sec)\n"
     ]
    },
    {
     "name": "stdout",
     "output_type": "stream",
     "text": [
      "INFO:tensorflow:global_step/sec: 500.417\n"
     ]
    },
    {
     "name": "stderr",
     "output_type": "stream",
     "text": [
      "I0211 12:06:10.054850 4439444928 basic_session_run_hooks.py:700] global_step/sec: 500.417\n"
     ]
    },
    {
     "name": "stdout",
     "output_type": "stream",
     "text": [
      "INFO:tensorflow:loss = 0.5060953, step = 7216 (0.200 sec)\n"
     ]
    },
    {
     "name": "stderr",
     "output_type": "stream",
     "text": [
      "I0211 12:06:10.056336 4439444928 basic_session_run_hooks.py:260] loss = 0.5060953, step = 7216 (0.200 sec)\n"
     ]
    },
    {
     "name": "stdout",
     "output_type": "stream",
     "text": [
      "INFO:tensorflow:global_step/sec: 490.476\n"
     ]
    },
    {
     "name": "stderr",
     "output_type": "stream",
     "text": [
      "I0211 12:06:10.258701 4439444928 basic_session_run_hooks.py:700] global_step/sec: 490.476\n"
     ]
    },
    {
     "name": "stdout",
     "output_type": "stream",
     "text": [
      "INFO:tensorflow:loss = 0.4123067, step = 7316 (0.204 sec)\n"
     ]
    },
    {
     "name": "stderr",
     "output_type": "stream",
     "text": [
      "I0211 12:06:10.260000 4439444928 basic_session_run_hooks.py:260] loss = 0.4123067, step = 7316 (0.204 sec)\n"
     ]
    },
    {
     "name": "stdout",
     "output_type": "stream",
     "text": [
      "INFO:tensorflow:global_step/sec: 349.528\n"
     ]
    },
    {
     "name": "stderr",
     "output_type": "stream",
     "text": [
      "I0211 12:06:10.544842 4439444928 basic_session_run_hooks.py:700] global_step/sec: 349.528\n"
     ]
    },
    {
     "name": "stdout",
     "output_type": "stream",
     "text": [
      "INFO:tensorflow:loss = 0.4063365, step = 7416 (0.286 sec)\n"
     ]
    },
    {
     "name": "stderr",
     "output_type": "stream",
     "text": [
      "I0211 12:06:10.546068 4439444928 basic_session_run_hooks.py:260] loss = 0.4063365, step = 7416 (0.286 sec)\n"
     ]
    },
    {
     "name": "stdout",
     "output_type": "stream",
     "text": [
      "INFO:tensorflow:global_step/sec: 451.674\n"
     ]
    },
    {
     "name": "stderr",
     "output_type": "stream",
     "text": [
      "I0211 12:06:10.766237 4439444928 basic_session_run_hooks.py:700] global_step/sec: 451.674\n"
     ]
    },
    {
     "name": "stdout",
     "output_type": "stream",
     "text": [
      "INFO:tensorflow:loss = 0.2823821, step = 7516 (0.222 sec)\n"
     ]
    },
    {
     "name": "stderr",
     "output_type": "stream",
     "text": [
      "I0211 12:06:10.767658 4439444928 basic_session_run_hooks.py:260] loss = 0.2823821, step = 7516 (0.222 sec)\n"
     ]
    },
    {
     "name": "stdout",
     "output_type": "stream",
     "text": [
      "INFO:tensorflow:global_step/sec: 497.76\n"
     ]
    },
    {
     "name": "stderr",
     "output_type": "stream",
     "text": [
      "I0211 12:06:10.967102 4439444928 basic_session_run_hooks.py:700] global_step/sec: 497.76\n"
     ]
    },
    {
     "name": "stdout",
     "output_type": "stream",
     "text": [
      "INFO:tensorflow:loss = 0.57976353, step = 7616 (0.201 sec)\n"
     ]
    },
    {
     "name": "stderr",
     "output_type": "stream",
     "text": [
      "I0211 12:06:10.968442 4439444928 basic_session_run_hooks.py:260] loss = 0.57976353, step = 7616 (0.201 sec)\n"
     ]
    },
    {
     "name": "stdout",
     "output_type": "stream",
     "text": [
      "INFO:tensorflow:global_step/sec: 485.623\n"
     ]
    },
    {
     "name": "stderr",
     "output_type": "stream",
     "text": [
      "I0211 12:06:11.173026 4439444928 basic_session_run_hooks.py:700] global_step/sec: 485.623\n"
     ]
    },
    {
     "name": "stdout",
     "output_type": "stream",
     "text": [
      "INFO:tensorflow:loss = 0.33497316, step = 7716 (0.206 sec)\n"
     ]
    },
    {
     "name": "stderr",
     "output_type": "stream",
     "text": [
      "I0211 12:06:11.174268 4439444928 basic_session_run_hooks.py:260] loss = 0.33497316, step = 7716 (0.206 sec)\n"
     ]
    },
    {
     "name": "stdout",
     "output_type": "stream",
     "text": [
      "INFO:tensorflow:global_step/sec: 493.146\n"
     ]
    },
    {
     "name": "stderr",
     "output_type": "stream",
     "text": [
      "I0211 12:06:11.375804 4439444928 basic_session_run_hooks.py:700] global_step/sec: 493.146\n"
     ]
    },
    {
     "name": "stdout",
     "output_type": "stream",
     "text": [
      "INFO:tensorflow:loss = 0.45136613, step = 7816 (0.203 sec)\n"
     ]
    },
    {
     "name": "stderr",
     "output_type": "stream",
     "text": [
      "I0211 12:06:11.377061 4439444928 basic_session_run_hooks.py:260] loss = 0.45136613, step = 7816 (0.203 sec)\n"
     ]
    },
    {
     "name": "stdout",
     "output_type": "stream",
     "text": [
      "INFO:tensorflow:global_step/sec: 477.726\n"
     ]
    },
    {
     "name": "stderr",
     "output_type": "stream",
     "text": [
      "I0211 12:06:11.585127 4439444928 basic_session_run_hooks.py:700] global_step/sec: 477.726\n"
     ]
    },
    {
     "name": "stdout",
     "output_type": "stream",
     "text": [
      "INFO:tensorflow:loss = 0.3381322, step = 7916 (0.209 sec)\n"
     ]
    },
    {
     "name": "stderr",
     "output_type": "stream",
     "text": [
      "I0211 12:06:11.586385 4439444928 basic_session_run_hooks.py:260] loss = 0.3381322, step = 7916 (0.209 sec)\n"
     ]
    },
    {
     "name": "stdout",
     "output_type": "stream",
     "text": [
      "INFO:tensorflow:global_step/sec: 464.097\n"
     ]
    },
    {
     "name": "stderr",
     "output_type": "stream",
     "text": [
      "I0211 12:06:11.800616 4439444928 basic_session_run_hooks.py:700] global_step/sec: 464.097\n"
     ]
    },
    {
     "name": "stdout",
     "output_type": "stream",
     "text": [
      "INFO:tensorflow:loss = 0.26261643, step = 8016 (0.216 sec)\n"
     ]
    },
    {
     "name": "stderr",
     "output_type": "stream",
     "text": [
      "I0211 12:06:11.802031 4439444928 basic_session_run_hooks.py:260] loss = 0.26261643, step = 8016 (0.216 sec)\n"
     ]
    },
    {
     "name": "stdout",
     "output_type": "stream",
     "text": [
      "INFO:tensorflow:global_step/sec: 455.293\n"
     ]
    },
    {
     "name": "stderr",
     "output_type": "stream",
     "text": [
      "I0211 12:06:12.020272 4439444928 basic_session_run_hooks.py:700] global_step/sec: 455.293\n"
     ]
    },
    {
     "name": "stdout",
     "output_type": "stream",
     "text": [
      "INFO:tensorflow:loss = 0.35327238, step = 8116 (0.220 sec)\n"
     ]
    },
    {
     "name": "stderr",
     "output_type": "stream",
     "text": [
      "I0211 12:06:12.021883 4439444928 basic_session_run_hooks.py:260] loss = 0.35327238, step = 8116 (0.220 sec)\n"
     ]
    },
    {
     "name": "stdout",
     "output_type": "stream",
     "text": [
      "INFO:tensorflow:Saving checkpoints for 8145 into model/model.ckpt.\n"
     ]
    },
    {
     "name": "stderr",
     "output_type": "stream",
     "text": [
      "I0211 12:06:12.091527 4439444928 basic_session_run_hooks.py:613] Saving checkpoints for 8145 into model/model.ckpt.\n"
     ]
    },
    {
     "name": "stdout",
     "output_type": "stream",
     "text": [
      "WARNING:tensorflow:From /Users/kadriansyah/anaconda3/envs/recommender/lib/python3.7/site-packages/tensorflow_core/python/training/saver.py:963: remove_checkpoint (from tensorflow.python.training.checkpoint_management) is deprecated and will be removed in a future version.\n",
      "Instructions for updating:\n",
      "Use standard file APIs to delete files with this prefix.\n"
     ]
    },
    {
     "name": "stderr",
     "output_type": "stream",
     "text": [
      "W0211 12:06:12.101248 4439444928 deprecation.py:323] From /Users/kadriansyah/anaconda3/envs/recommender/lib/python3.7/site-packages/tensorflow_core/python/training/saver.py:963: remove_checkpoint (from tensorflow.python.training.checkpoint_management) is deprecated and will be removed in a future version.\n",
      "Instructions for updating:\n",
      "Use standard file APIs to delete files with this prefix.\n"
     ]
    },
    {
     "name": "stdout",
     "output_type": "stream",
     "text": [
      "INFO:tensorflow:Loss for final step: 0.18657185.\n"
     ]
    },
    {
     "name": "stderr",
     "output_type": "stream",
     "text": [
      "I0211 12:06:12.292143 4439444928 estimator.py:375] Loss for final step: 0.18657185.\n"
     ]
    },
    {
     "name": "stdout",
     "output_type": "stream",
     "text": [
      "INFO:tensorflow:Parsing data/adult.test\n"
     ]
    },
    {
     "name": "stderr",
     "output_type": "stream",
     "text": [
      "I0211 12:06:12.307706 4439444928 api.py:332] Parsing data/adult.test\n"
     ]
    },
    {
     "name": "stdout",
     "output_type": "stream",
     "text": [
      "INFO:tensorflow:Calling model_fn.\n"
     ]
    },
    {
     "name": "stderr",
     "output_type": "stream",
     "text": [
      "I0211 12:06:12.334106 4439444928 estimator.py:1151] Calling model_fn.\n"
     ]
    },
    {
     "name": "stdout",
     "output_type": "stream",
     "text": [
      "INFO:tensorflow:Done calling model_fn.\n"
     ]
    },
    {
     "name": "stderr",
     "output_type": "stream",
     "text": [
      "I0211 12:06:13.409018 4439444928 estimator.py:1153] Done calling model_fn.\n"
     ]
    },
    {
     "name": "stdout",
     "output_type": "stream",
     "text": [
      "INFO:tensorflow:Starting evaluation at 2020-02-11T12:06:13Z\n"
     ]
    },
    {
     "name": "stderr",
     "output_type": "stream",
     "text": [
      "I0211 12:06:13.425189 4439444928 evaluation.py:255] Starting evaluation at 2020-02-11T12:06:13Z\n"
     ]
    },
    {
     "name": "stdout",
     "output_type": "stream",
     "text": [
      "INFO:tensorflow:Graph was finalized.\n"
     ]
    },
    {
     "name": "stderr",
     "output_type": "stream",
     "text": [
      "I0211 12:06:13.487963 4439444928 monitored_session.py:246] Graph was finalized.\n"
     ]
    },
    {
     "name": "stdout",
     "output_type": "stream",
     "text": [
      "INFO:tensorflow:Restoring parameters from model/model.ckpt-8145\n"
     ]
    },
    {
     "name": "stderr",
     "output_type": "stream",
     "text": [
      "I0211 12:06:13.489994 4439444928 saver.py:1284] Restoring parameters from model/model.ckpt-8145\n"
     ]
    },
    {
     "name": "stdout",
     "output_type": "stream",
     "text": [
      "INFO:tensorflow:Running local_init_op.\n"
     ]
    },
    {
     "name": "stderr",
     "output_type": "stream",
     "text": [
      "I0211 12:06:13.745251 4439444928 session_manager.py:504] Running local_init_op.\n"
     ]
    },
    {
     "name": "stdout",
     "output_type": "stream",
     "text": [
      "INFO:tensorflow:Done running local_init_op.\n"
     ]
    },
    {
     "name": "stderr",
     "output_type": "stream",
     "text": [
      "I0211 12:06:13.829423 4439444928 session_manager.py:507] Done running local_init_op.\n"
     ]
    },
    {
     "name": "stdout",
     "output_type": "stream",
     "text": [
      "INFO:tensorflow:Inference Time : 1.85464s\n"
     ]
    },
    {
     "name": "stderr",
     "output_type": "stream",
     "text": [
      "I0211 12:06:15.281002 4439444928 evaluation.py:273] Inference Time : 1.85464s\n"
     ]
    },
    {
     "name": "stdout",
     "output_type": "stream",
     "text": [
      "INFO:tensorflow:Finished evaluation at 2020-02-11-12:06:15\n"
     ]
    },
    {
     "name": "stderr",
     "output_type": "stream",
     "text": [
      "I0211 12:06:15.281957 4439444928 evaluation.py:276] Finished evaluation at 2020-02-11-12:06:15\n"
     ]
    },
    {
     "name": "stdout",
     "output_type": "stream",
     "text": [
      "INFO:tensorflow:Saving dict for global step 8145: accuracy = 0.84036607, accuracy_baseline = 0.76377374, auc = 0.8894769, auc_precision_recall = 0.7309814, average_loss = 0.3527992, global_step = 8145, label/mean = 0.23622628, loss = 0.35283586, precision = 0.7196196, prediction/mean = 0.2634673, recall = 0.53120124\n"
     ]
    },
    {
     "name": "stderr",
     "output_type": "stream",
     "text": [
      "I0211 12:06:15.282863 4439444928 estimator.py:2053] Saving dict for global step 8145: accuracy = 0.84036607, accuracy_baseline = 0.76377374, auc = 0.8894769, auc_precision_recall = 0.7309814, average_loss = 0.3527992, global_step = 8145, label/mean = 0.23622628, loss = 0.35283586, precision = 0.7196196, prediction/mean = 0.2634673, recall = 0.53120124\n"
     ]
    },
    {
     "name": "stdout",
     "output_type": "stream",
     "text": [
      "INFO:tensorflow:Saving 'checkpoint_path' summary for global step 8145: model/model.ckpt-8145\n"
     ]
    },
    {
     "name": "stderr",
     "output_type": "stream",
     "text": [
      "I0211 12:06:15.283787 4439444928 estimator.py:2113] Saving 'checkpoint_path' summary for global step 8145: model/model.ckpt-8145\n"
     ]
    },
    {
     "name": "stdout",
     "output_type": "stream",
     "text": [
      "INFO:tensorflow:Results at epoch 10 / 40\n"
     ]
    },
    {
     "name": "stderr",
     "output_type": "stream",
     "text": [
      "I0211 12:06:15.284997 4439444928 <ipython-input-7-b40c302cf839>:76] Results at epoch 10 / 40\n"
     ]
    },
    {
     "name": "stdout",
     "output_type": "stream",
     "text": [
      "INFO:tensorflow:------------------------------------------------------------\n"
     ]
    },
    {
     "name": "stderr",
     "output_type": "stream",
     "text": [
      "I0211 12:06:15.285938 4439444928 <ipython-input-7-b40c302cf839>:77] ------------------------------------------------------------\n"
     ]
    },
    {
     "name": "stdout",
     "output_type": "stream",
     "text": [
      "INFO:tensorflow:accuracy: 0.84036607\n"
     ]
    },
    {
     "name": "stderr",
     "output_type": "stream",
     "text": [
      "I0211 12:06:15.286778 4439444928 <ipython-input-7-b40c302cf839>:80] accuracy: 0.84036607\n"
     ]
    },
    {
     "name": "stdout",
     "output_type": "stream",
     "text": [
      "INFO:tensorflow:accuracy_baseline: 0.76377374\n"
     ]
    },
    {
     "name": "stderr",
     "output_type": "stream",
     "text": [
      "I0211 12:06:15.287411 4439444928 <ipython-input-7-b40c302cf839>:80] accuracy_baseline: 0.76377374\n"
     ]
    },
    {
     "name": "stdout",
     "output_type": "stream",
     "text": [
      "INFO:tensorflow:auc: 0.8894769\n"
     ]
    },
    {
     "name": "stderr",
     "output_type": "stream",
     "text": [
      "I0211 12:06:15.288207 4439444928 <ipython-input-7-b40c302cf839>:80] auc: 0.8894769\n"
     ]
    },
    {
     "name": "stdout",
     "output_type": "stream",
     "text": [
      "INFO:tensorflow:auc_precision_recall: 0.7309814\n"
     ]
    },
    {
     "name": "stderr",
     "output_type": "stream",
     "text": [
      "I0211 12:06:15.288863 4439444928 <ipython-input-7-b40c302cf839>:80] auc_precision_recall: 0.7309814\n"
     ]
    },
    {
     "name": "stdout",
     "output_type": "stream",
     "text": [
      "INFO:tensorflow:average_loss: 0.3527992\n"
     ]
    },
    {
     "name": "stderr",
     "output_type": "stream",
     "text": [
      "I0211 12:06:15.289680 4439444928 <ipython-input-7-b40c302cf839>:80] average_loss: 0.3527992\n"
     ]
    },
    {
     "name": "stdout",
     "output_type": "stream",
     "text": [
      "INFO:tensorflow:global_step: 8145\n"
     ]
    },
    {
     "name": "stderr",
     "output_type": "stream",
     "text": [
      "I0211 12:06:15.290344 4439444928 <ipython-input-7-b40c302cf839>:80] global_step: 8145\n"
     ]
    },
    {
     "name": "stdout",
     "output_type": "stream",
     "text": [
      "INFO:tensorflow:label/mean: 0.23622628\n"
     ]
    },
    {
     "name": "stderr",
     "output_type": "stream",
     "text": [
      "I0211 12:06:15.291002 4439444928 <ipython-input-7-b40c302cf839>:80] label/mean: 0.23622628\n"
     ]
    },
    {
     "name": "stdout",
     "output_type": "stream",
     "text": [
      "INFO:tensorflow:loss: 0.35283586\n"
     ]
    },
    {
     "name": "stderr",
     "output_type": "stream",
     "text": [
      "I0211 12:06:15.291616 4439444928 <ipython-input-7-b40c302cf839>:80] loss: 0.35283586\n"
     ]
    },
    {
     "name": "stdout",
     "output_type": "stream",
     "text": [
      "INFO:tensorflow:precision: 0.7196196\n"
     ]
    },
    {
     "name": "stderr",
     "output_type": "stream",
     "text": [
      "I0211 12:06:15.292365 4439444928 <ipython-input-7-b40c302cf839>:80] precision: 0.7196196\n"
     ]
    },
    {
     "name": "stdout",
     "output_type": "stream",
     "text": [
      "INFO:tensorflow:prediction/mean: 0.2634673\n"
     ]
    },
    {
     "name": "stderr",
     "output_type": "stream",
     "text": [
      "I0211 12:06:15.292987 4439444928 <ipython-input-7-b40c302cf839>:80] prediction/mean: 0.2634673\n"
     ]
    },
    {
     "name": "stdout",
     "output_type": "stream",
     "text": [
      "INFO:tensorflow:recall: 0.53120124\n"
     ]
    },
    {
     "name": "stderr",
     "output_type": "stream",
     "text": [
      "I0211 12:06:15.293809 4439444928 <ipython-input-7-b40c302cf839>:80] recall: 0.53120124\n"
     ]
    },
    {
     "name": "stdout",
     "output_type": "stream",
     "text": [
      "INFO:tensorflow:Benchmark metric: {'name': 'accuracy', 'value': 0.8403660655021667, 'unit': None, 'global_step': 8145, 'timestamp': '2020-02-11T05:06:15.294434Z', 'extras': []}\n"
     ]
    },
    {
     "name": "stderr",
     "output_type": "stream",
     "text": [
      "I0211 12:06:15.294458 4439444928 logger.py:147] Benchmark metric: {'name': 'accuracy', 'value': 0.8403660655021667, 'unit': None, 'global_step': 8145, 'timestamp': '2020-02-11T05:06:15.294434Z', 'extras': []}\n"
     ]
    },
    {
     "name": "stdout",
     "output_type": "stream",
     "text": [
      "INFO:tensorflow:Benchmark metric: {'name': 'accuracy_baseline', 'value': 0.7637737393379211, 'unit': None, 'global_step': 8145, 'timestamp': '2020-02-11T05:06:15.295208Z', 'extras': []}\n"
     ]
    },
    {
     "name": "stderr",
     "output_type": "stream",
     "text": [
      "I0211 12:06:15.295229 4439444928 logger.py:147] Benchmark metric: {'name': 'accuracy_baseline', 'value': 0.7637737393379211, 'unit': None, 'global_step': 8145, 'timestamp': '2020-02-11T05:06:15.295208Z', 'extras': []}\n"
     ]
    },
    {
     "name": "stdout",
     "output_type": "stream",
     "text": [
      "INFO:tensorflow:Benchmark metric: {'name': 'auc', 'value': 0.8894768953323364, 'unit': None, 'global_step': 8145, 'timestamp': '2020-02-11T05:06:15.295824Z', 'extras': []}\n"
     ]
    },
    {
     "name": "stderr",
     "output_type": "stream",
     "text": [
      "I0211 12:06:15.295843 4439444928 logger.py:147] Benchmark metric: {'name': 'auc', 'value': 0.8894768953323364, 'unit': None, 'global_step': 8145, 'timestamp': '2020-02-11T05:06:15.295824Z', 'extras': []}\n"
     ]
    },
    {
     "name": "stdout",
     "output_type": "stream",
     "text": [
      "INFO:tensorflow:Benchmark metric: {'name': 'auc_precision_recall', 'value': 0.7309814095497131, 'unit': None, 'global_step': 8145, 'timestamp': '2020-02-11T05:06:15.296587Z', 'extras': []}\n"
     ]
    },
    {
     "name": "stderr",
     "output_type": "stream",
     "text": [
      "I0211 12:06:15.296610 4439444928 logger.py:147] Benchmark metric: {'name': 'auc_precision_recall', 'value': 0.7309814095497131, 'unit': None, 'global_step': 8145, 'timestamp': '2020-02-11T05:06:15.296587Z', 'extras': []}\n"
     ]
    },
    {
     "name": "stdout",
     "output_type": "stream",
     "text": [
      "INFO:tensorflow:Benchmark metric: {'name': 'average_loss', 'value': 0.3527992069721222, 'unit': None, 'global_step': 8145, 'timestamp': '2020-02-11T05:06:15.297441Z', 'extras': []}\n"
     ]
    },
    {
     "name": "stderr",
     "output_type": "stream",
     "text": [
      "I0211 12:06:15.297462 4439444928 logger.py:147] Benchmark metric: {'name': 'average_loss', 'value': 0.3527992069721222, 'unit': None, 'global_step': 8145, 'timestamp': '2020-02-11T05:06:15.297441Z', 'extras': []}\n"
     ]
    },
    {
     "name": "stdout",
     "output_type": "stream",
     "text": [
      "INFO:tensorflow:Benchmark metric: {'name': 'label/mean', 'value': 0.23622627556324005, 'unit': None, 'global_step': 8145, 'timestamp': '2020-02-11T05:06:15.298075Z', 'extras': []}\n"
     ]
    },
    {
     "name": "stderr",
     "output_type": "stream",
     "text": [
      "I0211 12:06:15.298094 4439444928 logger.py:147] Benchmark metric: {'name': 'label/mean', 'value': 0.23622627556324005, 'unit': None, 'global_step': 8145, 'timestamp': '2020-02-11T05:06:15.298075Z', 'extras': []}\n"
     ]
    },
    {
     "name": "stdout",
     "output_type": "stream",
     "text": [
      "INFO:tensorflow:Benchmark metric: {'name': 'loss', 'value': 0.35283586382865906, 'unit': None, 'global_step': 8145, 'timestamp': '2020-02-11T05:06:15.298923Z', 'extras': []}\n"
     ]
    },
    {
     "name": "stderr",
     "output_type": "stream",
     "text": [
      "I0211 12:06:15.298943 4439444928 logger.py:147] Benchmark metric: {'name': 'loss', 'value': 0.35283586382865906, 'unit': None, 'global_step': 8145, 'timestamp': '2020-02-11T05:06:15.298923Z', 'extras': []}\n"
     ]
    },
    {
     "name": "stdout",
     "output_type": "stream",
     "text": [
      "INFO:tensorflow:Benchmark metric: {'name': 'precision', 'value': 0.7196195721626282, 'unit': None, 'global_step': 8145, 'timestamp': '2020-02-11T05:06:15.299615Z', 'extras': []}\n"
     ]
    },
    {
     "name": "stderr",
     "output_type": "stream",
     "text": [
      "I0211 12:06:15.299632 4439444928 logger.py:147] Benchmark metric: {'name': 'precision', 'value': 0.7196195721626282, 'unit': None, 'global_step': 8145, 'timestamp': '2020-02-11T05:06:15.299615Z', 'extras': []}\n"
     ]
    },
    {
     "name": "stdout",
     "output_type": "stream",
     "text": [
      "INFO:tensorflow:Benchmark metric: {'name': 'prediction/mean', 'value': 0.26346731185913086, 'unit': None, 'global_step': 8145, 'timestamp': '2020-02-11T05:06:15.300245Z', 'extras': []}\n"
     ]
    },
    {
     "name": "stderr",
     "output_type": "stream",
     "text": [
      "I0211 12:06:15.300266 4439444928 logger.py:147] Benchmark metric: {'name': 'prediction/mean', 'value': 0.26346731185913086, 'unit': None, 'global_step': 8145, 'timestamp': '2020-02-11T05:06:15.300245Z', 'extras': []}\n"
     ]
    },
    {
     "name": "stdout",
     "output_type": "stream",
     "text": [
      "INFO:tensorflow:Benchmark metric: {'name': 'recall', 'value': 0.5312012434005737, 'unit': None, 'global_step': 8145, 'timestamp': '2020-02-11T05:06:15.300896Z', 'extras': []}\n"
     ]
    },
    {
     "name": "stderr",
     "output_type": "stream",
     "text": [
      "I0211 12:06:15.300915 4439444928 logger.py:147] Benchmark metric: {'name': 'recall', 'value': 0.5312012434005737, 'unit': None, 'global_step': 8145, 'timestamp': '2020-02-11T05:06:15.300896Z', 'extras': []}\n"
     ]
    },
    {
     "name": "stdout",
     "output_type": "stream",
     "text": [
      "INFO:tensorflow:Parsing data/adult.data\n"
     ]
    },
    {
     "name": "stderr",
     "output_type": "stream",
     "text": [
      "I0211 12:06:15.323776 4439444928 api.py:332] Parsing data/adult.data\n"
     ]
    },
    {
     "name": "stdout",
     "output_type": "stream",
     "text": [
      "INFO:tensorflow:Calling model_fn.\n"
     ]
    },
    {
     "name": "stderr",
     "output_type": "stream",
     "text": [
      "I0211 12:06:15.348333 4439444928 estimator.py:1151] Calling model_fn.\n"
     ]
    },
    {
     "name": "stdout",
     "output_type": "stream",
     "text": [
      "INFO:tensorflow:Done calling model_fn.\n"
     ]
    },
    {
     "name": "stderr",
     "output_type": "stream",
     "text": [
      "I0211 12:06:16.340307 4439444928 estimator.py:1153] Done calling model_fn.\n"
     ]
    },
    {
     "name": "stdout",
     "output_type": "stream",
     "text": [
      "INFO:tensorflow:Create CheckpointSaverHook.\n"
     ]
    },
    {
     "name": "stderr",
     "output_type": "stream",
     "text": [
      "I0211 12:06:16.341570 4439444928 basic_session_run_hooks.py:546] Create CheckpointSaverHook.\n"
     ]
    },
    {
     "name": "stdout",
     "output_type": "stream",
     "text": [
      "INFO:tensorflow:Graph was finalized.\n"
     ]
    },
    {
     "name": "stderr",
     "output_type": "stream",
     "text": [
      "I0211 12:06:16.417685 4439444928 monitored_session.py:246] Graph was finalized.\n"
     ]
    },
    {
     "name": "stdout",
     "output_type": "stream",
     "text": [
      "INFO:tensorflow:Restoring parameters from model/model.ckpt-8145\n"
     ]
    },
    {
     "name": "stderr",
     "output_type": "stream",
     "text": [
      "I0211 12:06:16.420914 4439444928 saver.py:1284] Restoring parameters from model/model.ckpt-8145\n"
     ]
    },
    {
     "name": "stdout",
     "output_type": "stream",
     "text": [
      "INFO:tensorflow:Running local_init_op.\n"
     ]
    },
    {
     "name": "stderr",
     "output_type": "stream",
     "text": [
      "I0211 12:06:16.617178 4439444928 session_manager.py:504] Running local_init_op.\n"
     ]
    },
    {
     "name": "stdout",
     "output_type": "stream",
     "text": [
      "INFO:tensorflow:Done running local_init_op.\n"
     ]
    },
    {
     "name": "stderr",
     "output_type": "stream",
     "text": [
      "I0211 12:06:16.664551 4439444928 session_manager.py:507] Done running local_init_op.\n"
     ]
    },
    {
     "name": "stdout",
     "output_type": "stream",
     "text": [
      "INFO:tensorflow:Saving checkpoints for 8145 into model/model.ckpt.\n"
     ]
    },
    {
     "name": "stderr",
     "output_type": "stream",
     "text": [
      "I0211 12:06:17.558676 4439444928 basic_session_run_hooks.py:613] Saving checkpoints for 8145 into model/model.ckpt.\n"
     ]
    },
    {
     "name": "stdout",
     "output_type": "stream",
     "text": [
      "INFO:tensorflow:loss = 0.303309, step = 8145\n"
     ]
    },
    {
     "name": "stderr",
     "output_type": "stream",
     "text": [
      "I0211 12:06:18.558176 4439444928 basic_session_run_hooks.py:262] loss = 0.303309, step = 8145\n"
     ]
    },
    {
     "name": "stdout",
     "output_type": "stream",
     "text": [
      "INFO:tensorflow:global_step/sec: 146.53\n"
     ]
    },
    {
     "name": "stderr",
     "output_type": "stream",
     "text": [
      "I0211 12:06:19.240278 4439444928 basic_session_run_hooks.py:700] global_step/sec: 146.53\n"
     ]
    },
    {
     "name": "stdout",
     "output_type": "stream",
     "text": [
      "INFO:tensorflow:loss = 0.42352352, step = 8245 (0.683 sec)\n"
     ]
    },
    {
     "name": "stderr",
     "output_type": "stream",
     "text": [
      "I0211 12:06:19.241551 4439444928 basic_session_run_hooks.py:260] loss = 0.42352352, step = 8245 (0.683 sec)\n"
     ]
    },
    {
     "name": "stdout",
     "output_type": "stream",
     "text": [
      "INFO:tensorflow:global_step/sec: 513.782\n"
     ]
    },
    {
     "name": "stderr",
     "output_type": "stream",
     "text": [
      "I0211 12:06:19.434974 4439444928 basic_session_run_hooks.py:700] global_step/sec: 513.782\n"
     ]
    },
    {
     "name": "stdout",
     "output_type": "stream",
     "text": [
      "INFO:tensorflow:loss = 0.23283556, step = 8345 (0.195 sec)\n"
     ]
    },
    {
     "name": "stderr",
     "output_type": "stream",
     "text": [
      "I0211 12:06:19.436602 4439444928 basic_session_run_hooks.py:260] loss = 0.23283556, step = 8345 (0.195 sec)\n"
     ]
    },
    {
     "name": "stdout",
     "output_type": "stream",
     "text": [
      "INFO:tensorflow:global_step/sec: 498.92\n"
     ]
    },
    {
     "name": "stderr",
     "output_type": "stream",
     "text": [
      "I0211 12:06:19.635348 4439444928 basic_session_run_hooks.py:700] global_step/sec: 498.92\n"
     ]
    },
    {
     "name": "stdout",
     "output_type": "stream",
     "text": [
      "INFO:tensorflow:loss = 0.242261, step = 8445 (0.200 sec)\n"
     ]
    },
    {
     "name": "stderr",
     "output_type": "stream",
     "text": [
      "I0211 12:06:19.636713 4439444928 basic_session_run_hooks.py:260] loss = 0.242261, step = 8445 (0.200 sec)\n"
     ]
    },
    {
     "name": "stdout",
     "output_type": "stream",
     "text": [
      "INFO:tensorflow:global_step/sec: 498.875\n"
     ]
    },
    {
     "name": "stderr",
     "output_type": "stream",
     "text": [
      "I0211 12:06:19.835798 4439444928 basic_session_run_hooks.py:700] global_step/sec: 498.875\n"
     ]
    },
    {
     "name": "stdout",
     "output_type": "stream",
     "text": [
      "INFO:tensorflow:loss = 0.36652824, step = 8545 (0.200 sec)\n"
     ]
    },
    {
     "name": "stderr",
     "output_type": "stream",
     "text": [
      "I0211 12:06:19.837154 4439444928 basic_session_run_hooks.py:260] loss = 0.36652824, step = 8545 (0.200 sec)\n"
     ]
    },
    {
     "name": "stdout",
     "output_type": "stream",
     "text": [
      "INFO:tensorflow:global_step/sec: 511.681\n"
     ]
    },
    {
     "name": "stderr",
     "output_type": "stream",
     "text": [
      "I0211 12:06:20.031232 4439444928 basic_session_run_hooks.py:700] global_step/sec: 511.681\n"
     ]
    },
    {
     "name": "stdout",
     "output_type": "stream",
     "text": [
      "INFO:tensorflow:loss = 0.3593844, step = 8645 (0.195 sec)\n"
     ]
    },
    {
     "name": "stderr",
     "output_type": "stream",
     "text": [
      "I0211 12:06:20.032486 4439444928 basic_session_run_hooks.py:260] loss = 0.3593844, step = 8645 (0.195 sec)\n"
     ]
    },
    {
     "name": "stdout",
     "output_type": "stream",
     "text": [
      "INFO:tensorflow:global_step/sec: 465.077\n"
     ]
    },
    {
     "name": "stderr",
     "output_type": "stream",
     "text": [
      "I0211 12:06:20.246249 4439444928 basic_session_run_hooks.py:700] global_step/sec: 465.077\n"
     ]
    },
    {
     "name": "stdout",
     "output_type": "stream",
     "text": [
      "INFO:tensorflow:loss = 0.28962952, step = 8745 (0.215 sec)\n"
     ]
    },
    {
     "name": "stderr",
     "output_type": "stream",
     "text": [
      "I0211 12:06:20.247570 4439444928 basic_session_run_hooks.py:260] loss = 0.28962952, step = 8745 (0.215 sec)\n"
     ]
    },
    {
     "name": "stdout",
     "output_type": "stream",
     "text": [
      "INFO:tensorflow:global_step/sec: 490.035\n"
     ]
    },
    {
     "name": "stderr",
     "output_type": "stream",
     "text": [
      "I0211 12:06:20.450333 4439444928 basic_session_run_hooks.py:700] global_step/sec: 490.035\n"
     ]
    },
    {
     "name": "stdout",
     "output_type": "stream",
     "text": [
      "INFO:tensorflow:loss = 0.36971694, step = 8845 (0.204 sec)\n"
     ]
    },
    {
     "name": "stderr",
     "output_type": "stream",
     "text": [
      "I0211 12:06:20.451876 4439444928 basic_session_run_hooks.py:260] loss = 0.36971694, step = 8845 (0.204 sec)\n"
     ]
    },
    {
     "name": "stdout",
     "output_type": "stream",
     "text": [
      "INFO:tensorflow:global_step/sec: 501.888\n"
     ]
    },
    {
     "name": "stderr",
     "output_type": "stream",
     "text": [
      "I0211 12:06:20.649594 4439444928 basic_session_run_hooks.py:700] global_step/sec: 501.888\n"
     ]
    },
    {
     "name": "stdout",
     "output_type": "stream",
     "text": [
      "INFO:tensorflow:loss = 0.27823243, step = 8945 (0.199 sec)\n"
     ]
    },
    {
     "name": "stderr",
     "output_type": "stream",
     "text": [
      "I0211 12:06:20.650797 4439444928 basic_session_run_hooks.py:260] loss = 0.27823243, step = 8945 (0.199 sec)\n"
     ]
    },
    {
     "name": "stdout",
     "output_type": "stream",
     "text": [
      "INFO:tensorflow:global_step/sec: 380.945\n"
     ]
    },
    {
     "name": "stderr",
     "output_type": "stream",
     "text": [
      "I0211 12:06:20.912069 4439444928 basic_session_run_hooks.py:700] global_step/sec: 380.945\n"
     ]
    },
    {
     "name": "stdout",
     "output_type": "stream",
     "text": [
      "INFO:tensorflow:loss = 0.4164248, step = 9045 (0.263 sec)\n"
     ]
    },
    {
     "name": "stderr",
     "output_type": "stream",
     "text": [
      "I0211 12:06:20.913328 4439444928 basic_session_run_hooks.py:260] loss = 0.4164248, step = 9045 (0.263 sec)\n"
     ]
    },
    {
     "name": "stdout",
     "output_type": "stream",
     "text": [
      "INFO:tensorflow:global_step/sec: 504.158\n"
     ]
    },
    {
     "name": "stderr",
     "output_type": "stream",
     "text": [
      "I0211 12:06:21.110420 4439444928 basic_session_run_hooks.py:700] global_step/sec: 504.158\n"
     ]
    },
    {
     "name": "stdout",
     "output_type": "stream",
     "text": [
      "INFO:tensorflow:loss = 0.38510716, step = 9145 (0.198 sec)\n"
     ]
    },
    {
     "name": "stderr",
     "output_type": "stream",
     "text": [
      "I0211 12:06:21.111653 4439444928 basic_session_run_hooks.py:260] loss = 0.38510716, step = 9145 (0.198 sec)\n"
     ]
    },
    {
     "name": "stdout",
     "output_type": "stream",
     "text": [
      "INFO:tensorflow:global_step/sec: 452.562\n"
     ]
    },
    {
     "name": "stderr",
     "output_type": "stream",
     "text": [
      "I0211 12:06:21.331444 4439444928 basic_session_run_hooks.py:700] global_step/sec: 452.562\n"
     ]
    },
    {
     "name": "stdout",
     "output_type": "stream",
     "text": [
      "INFO:tensorflow:loss = 0.29777727, step = 9245 (0.221 sec)\n"
     ]
    },
    {
     "name": "stderr",
     "output_type": "stream",
     "text": [
      "I0211 12:06:21.333016 4439444928 basic_session_run_hooks.py:260] loss = 0.29777727, step = 9245 (0.221 sec)\n"
     ]
    },
    {
     "name": "stdout",
     "output_type": "stream",
     "text": [
      "INFO:tensorflow:global_step/sec: 460.291\n"
     ]
    },
    {
     "name": "stderr",
     "output_type": "stream",
     "text": [
      "I0211 12:06:21.548639 4439444928 basic_session_run_hooks.py:700] global_step/sec: 460.291\n"
     ]
    },
    {
     "name": "stdout",
     "output_type": "stream",
     "text": [
      "INFO:tensorflow:loss = 0.2761059, step = 9345 (0.217 sec)\n"
     ]
    },
    {
     "name": "stderr",
     "output_type": "stream",
     "text": [
      "I0211 12:06:21.549920 4439444928 basic_session_run_hooks.py:260] loss = 0.2761059, step = 9345 (0.217 sec)\n"
     ]
    },
    {
     "name": "stdout",
     "output_type": "stream",
     "text": [
      "INFO:tensorflow:global_step/sec: 430.701\n"
     ]
    },
    {
     "name": "stderr",
     "output_type": "stream",
     "text": [
      "I0211 12:06:21.780847 4439444928 basic_session_run_hooks.py:700] global_step/sec: 430.701\n"
     ]
    },
    {
     "name": "stdout",
     "output_type": "stream",
     "text": [
      "INFO:tensorflow:loss = 0.2555368, step = 9445 (0.232 sec)\n"
     ]
    },
    {
     "name": "stderr",
     "output_type": "stream",
     "text": [
      "I0211 12:06:21.782116 4439444928 basic_session_run_hooks.py:260] loss = 0.2555368, step = 9445 (0.232 sec)\n"
     ]
    },
    {
     "name": "stdout",
     "output_type": "stream",
     "text": [
      "INFO:tensorflow:global_step/sec: 449.166\n"
     ]
    },
    {
     "name": "stderr",
     "output_type": "stream",
     "text": [
      "I0211 12:06:22.003457 4439444928 basic_session_run_hooks.py:700] global_step/sec: 449.166\n"
     ]
    },
    {
     "name": "stdout",
     "output_type": "stream",
     "text": [
      "INFO:tensorflow:loss = 0.33491915, step = 9545 (0.223 sec)\n"
     ]
    },
    {
     "name": "stderr",
     "output_type": "stream",
     "text": [
      "I0211 12:06:22.004751 4439444928 basic_session_run_hooks.py:260] loss = 0.33491915, step = 9545 (0.223 sec)\n"
     ]
    },
    {
     "name": "stdout",
     "output_type": "stream",
     "text": [
      "INFO:tensorflow:global_step/sec: 436.433\n"
     ]
    },
    {
     "name": "stderr",
     "output_type": "stream",
     "text": [
      "I0211 12:06:22.232598 4439444928 basic_session_run_hooks.py:700] global_step/sec: 436.433\n"
     ]
    },
    {
     "name": "stdout",
     "output_type": "stream",
     "text": [
      "INFO:tensorflow:loss = 0.28799933, step = 9645 (0.229 sec)\n"
     ]
    },
    {
     "name": "stderr",
     "output_type": "stream",
     "text": [
      "I0211 12:06:22.233797 4439444928 basic_session_run_hooks.py:260] loss = 0.28799933, step = 9645 (0.229 sec)\n"
     ]
    },
    {
     "name": "stdout",
     "output_type": "stream",
     "text": [
      "INFO:tensorflow:global_step/sec: 490.778\n"
     ]
    },
    {
     "name": "stderr",
     "output_type": "stream",
     "text": [
      "I0211 12:06:22.436344 4439444928 basic_session_run_hooks.py:700] global_step/sec: 490.778\n"
     ]
    },
    {
     "name": "stdout",
     "output_type": "stream",
     "text": [
      "INFO:tensorflow:loss = 0.42747682, step = 9745 (0.204 sec)\n"
     ]
    },
    {
     "name": "stderr",
     "output_type": "stream",
     "text": [
      "I0211 12:06:22.437695 4439444928 basic_session_run_hooks.py:260] loss = 0.42747682, step = 9745 (0.204 sec)\n"
     ]
    },
    {
     "name": "stdout",
     "output_type": "stream",
     "text": [
      "INFO:tensorflow:Saving checkpoints for 9774 into model/model.ckpt.\n"
     ]
    },
    {
     "name": "stderr",
     "output_type": "stream",
     "text": [
      "I0211 12:06:22.504194 4439444928 basic_session_run_hooks.py:613] Saving checkpoints for 9774 into model/model.ckpt.\n"
     ]
    },
    {
     "name": "stdout",
     "output_type": "stream",
     "text": [
      "INFO:tensorflow:Loss for final step: 0.6263526.\n"
     ]
    },
    {
     "name": "stderr",
     "output_type": "stream",
     "text": [
      "I0211 12:06:22.703093 4439444928 estimator.py:375] Loss for final step: 0.6263526.\n"
     ]
    },
    {
     "name": "stdout",
     "output_type": "stream",
     "text": [
      "INFO:tensorflow:Parsing data/adult.test\n"
     ]
    },
    {
     "name": "stderr",
     "output_type": "stream",
     "text": [
      "I0211 12:06:22.716958 4439444928 api.py:332] Parsing data/adult.test\n"
     ]
    },
    {
     "name": "stdout",
     "output_type": "stream",
     "text": [
      "INFO:tensorflow:Calling model_fn.\n"
     ]
    },
    {
     "name": "stderr",
     "output_type": "stream",
     "text": [
      "I0211 12:06:22.741726 4439444928 estimator.py:1151] Calling model_fn.\n"
     ]
    },
    {
     "name": "stdout",
     "output_type": "stream",
     "text": [
      "INFO:tensorflow:Done calling model_fn.\n"
     ]
    },
    {
     "name": "stderr",
     "output_type": "stream",
     "text": [
      "I0211 12:06:23.866968 4439444928 estimator.py:1153] Done calling model_fn.\n"
     ]
    },
    {
     "name": "stdout",
     "output_type": "stream",
     "text": [
      "INFO:tensorflow:Starting evaluation at 2020-02-11T12:06:23Z\n"
     ]
    },
    {
     "name": "stderr",
     "output_type": "stream",
     "text": [
      "I0211 12:06:23.883777 4439444928 evaluation.py:255] Starting evaluation at 2020-02-11T12:06:23Z\n"
     ]
    },
    {
     "name": "stdout",
     "output_type": "stream",
     "text": [
      "INFO:tensorflow:Graph was finalized.\n"
     ]
    },
    {
     "name": "stderr",
     "output_type": "stream",
     "text": [
      "I0211 12:06:23.944136 4439444928 monitored_session.py:246] Graph was finalized.\n"
     ]
    },
    {
     "name": "stdout",
     "output_type": "stream",
     "text": [
      "INFO:tensorflow:Restoring parameters from model/model.ckpt-9774\n"
     ]
    },
    {
     "name": "stderr",
     "output_type": "stream",
     "text": [
      "I0211 12:06:23.946151 4439444928 saver.py:1284] Restoring parameters from model/model.ckpt-9774\n"
     ]
    },
    {
     "name": "stdout",
     "output_type": "stream",
     "text": [
      "INFO:tensorflow:Running local_init_op.\n"
     ]
    },
    {
     "name": "stderr",
     "output_type": "stream",
     "text": [
      "I0211 12:06:24.188138 4439444928 session_manager.py:504] Running local_init_op.\n"
     ]
    },
    {
     "name": "stdout",
     "output_type": "stream",
     "text": [
      "INFO:tensorflow:Done running local_init_op.\n"
     ]
    },
    {
     "name": "stderr",
     "output_type": "stream",
     "text": [
      "I0211 12:06:24.278002 4439444928 session_manager.py:507] Done running local_init_op.\n"
     ]
    },
    {
     "name": "stdout",
     "output_type": "stream",
     "text": [
      "INFO:tensorflow:Inference Time : 1.86746s\n"
     ]
    },
    {
     "name": "stderr",
     "output_type": "stream",
     "text": [
      "I0211 12:06:25.752161 4439444928 evaluation.py:273] Inference Time : 1.86746s\n"
     ]
    },
    {
     "name": "stdout",
     "output_type": "stream",
     "text": [
      "INFO:tensorflow:Finished evaluation at 2020-02-11-12:06:25\n"
     ]
    },
    {
     "name": "stderr",
     "output_type": "stream",
     "text": [
      "I0211 12:06:25.753226 4439444928 evaluation.py:276] Finished evaluation at 2020-02-11-12:06:25\n"
     ]
    },
    {
     "name": "stdout",
     "output_type": "stream",
     "text": [
      "INFO:tensorflow:Saving dict for global step 9774: accuracy = 0.8479823, accuracy_baseline = 0.76377374, auc = 0.8979266, auc_precision_recall = 0.75731325, average_loss = 0.33700976, global_step = 9774, label/mean = 0.23622628, loss = 0.3370168, precision = 0.7805976, prediction/mean = 0.24009724, recall = 0.49583983\n"
     ]
    },
    {
     "name": "stderr",
     "output_type": "stream",
     "text": [
      "I0211 12:06:25.753978 4439444928 estimator.py:2053] Saving dict for global step 9774: accuracy = 0.8479823, accuracy_baseline = 0.76377374, auc = 0.8979266, auc_precision_recall = 0.75731325, average_loss = 0.33700976, global_step = 9774, label/mean = 0.23622628, loss = 0.3370168, precision = 0.7805976, prediction/mean = 0.24009724, recall = 0.49583983\n"
     ]
    },
    {
     "name": "stdout",
     "output_type": "stream",
     "text": [
      "INFO:tensorflow:Saving 'checkpoint_path' summary for global step 9774: model/model.ckpt-9774\n"
     ]
    },
    {
     "name": "stderr",
     "output_type": "stream",
     "text": [
      "I0211 12:06:25.754857 4439444928 estimator.py:2113] Saving 'checkpoint_path' summary for global step 9774: model/model.ckpt-9774\n"
     ]
    },
    {
     "name": "stdout",
     "output_type": "stream",
     "text": [
      "INFO:tensorflow:Results at epoch 12 / 40\n"
     ]
    },
    {
     "name": "stderr",
     "output_type": "stream",
     "text": [
      "I0211 12:06:25.755955 4439444928 <ipython-input-7-b40c302cf839>:76] Results at epoch 12 / 40\n"
     ]
    },
    {
     "name": "stdout",
     "output_type": "stream",
     "text": [
      "INFO:tensorflow:------------------------------------------------------------\n"
     ]
    },
    {
     "name": "stderr",
     "output_type": "stream",
     "text": [
      "I0211 12:06:25.756761 4439444928 <ipython-input-7-b40c302cf839>:77] ------------------------------------------------------------\n"
     ]
    },
    {
     "name": "stdout",
     "output_type": "stream",
     "text": [
      "INFO:tensorflow:accuracy: 0.8479823\n"
     ]
    },
    {
     "name": "stderr",
     "output_type": "stream",
     "text": [
      "I0211 12:06:25.757465 4439444928 <ipython-input-7-b40c302cf839>:80] accuracy: 0.8479823\n"
     ]
    },
    {
     "name": "stdout",
     "output_type": "stream",
     "text": [
      "INFO:tensorflow:accuracy_baseline: 0.76377374\n"
     ]
    },
    {
     "name": "stderr",
     "output_type": "stream",
     "text": [
      "I0211 12:06:25.758202 4439444928 <ipython-input-7-b40c302cf839>:80] accuracy_baseline: 0.76377374\n"
     ]
    },
    {
     "name": "stdout",
     "output_type": "stream",
     "text": [
      "INFO:tensorflow:auc: 0.8979266\n"
     ]
    },
    {
     "name": "stderr",
     "output_type": "stream",
     "text": [
      "I0211 12:06:25.758802 4439444928 <ipython-input-7-b40c302cf839>:80] auc: 0.8979266\n"
     ]
    },
    {
     "name": "stdout",
     "output_type": "stream",
     "text": [
      "INFO:tensorflow:auc_precision_recall: 0.75731325\n"
     ]
    },
    {
     "name": "stderr",
     "output_type": "stream",
     "text": [
      "I0211 12:06:25.759516 4439444928 <ipython-input-7-b40c302cf839>:80] auc_precision_recall: 0.75731325\n"
     ]
    },
    {
     "name": "stdout",
     "output_type": "stream",
     "text": [
      "INFO:tensorflow:average_loss: 0.33700976\n"
     ]
    },
    {
     "name": "stderr",
     "output_type": "stream",
     "text": [
      "I0211 12:06:25.760133 4439444928 <ipython-input-7-b40c302cf839>:80] average_loss: 0.33700976\n"
     ]
    },
    {
     "name": "stdout",
     "output_type": "stream",
     "text": [
      "INFO:tensorflow:global_step: 9774\n"
     ]
    },
    {
     "name": "stderr",
     "output_type": "stream",
     "text": [
      "I0211 12:06:25.760808 4439444928 <ipython-input-7-b40c302cf839>:80] global_step: 9774\n"
     ]
    },
    {
     "name": "stdout",
     "output_type": "stream",
     "text": [
      "INFO:tensorflow:label/mean: 0.23622628\n"
     ]
    },
    {
     "name": "stderr",
     "output_type": "stream",
     "text": [
      "I0211 12:06:25.761419 4439444928 <ipython-input-7-b40c302cf839>:80] label/mean: 0.23622628\n"
     ]
    },
    {
     "name": "stdout",
     "output_type": "stream",
     "text": [
      "INFO:tensorflow:loss: 0.3370168\n"
     ]
    },
    {
     "name": "stderr",
     "output_type": "stream",
     "text": [
      "I0211 12:06:25.762357 4439444928 <ipython-input-7-b40c302cf839>:80] loss: 0.3370168\n"
     ]
    },
    {
     "name": "stdout",
     "output_type": "stream",
     "text": [
      "INFO:tensorflow:precision: 0.7805976\n"
     ]
    },
    {
     "name": "stderr",
     "output_type": "stream",
     "text": [
      "I0211 12:06:25.763267 4439444928 <ipython-input-7-b40c302cf839>:80] precision: 0.7805976\n"
     ]
    },
    {
     "name": "stdout",
     "output_type": "stream",
     "text": [
      "INFO:tensorflow:prediction/mean: 0.24009724\n"
     ]
    },
    {
     "name": "stderr",
     "output_type": "stream",
     "text": [
      "I0211 12:06:25.764163 4439444928 <ipython-input-7-b40c302cf839>:80] prediction/mean: 0.24009724\n"
     ]
    },
    {
     "name": "stdout",
     "output_type": "stream",
     "text": [
      "INFO:tensorflow:recall: 0.49583983\n"
     ]
    },
    {
     "name": "stderr",
     "output_type": "stream",
     "text": [
      "I0211 12:06:25.765148 4439444928 <ipython-input-7-b40c302cf839>:80] recall: 0.49583983\n"
     ]
    },
    {
     "name": "stdout",
     "output_type": "stream",
     "text": [
      "INFO:tensorflow:Benchmark metric: {'name': 'accuracy', 'value': 0.8479822874069214, 'unit': None, 'global_step': 9774, 'timestamp': '2020-02-11T05:06:25.765983Z', 'extras': []}\n"
     ]
    },
    {
     "name": "stderr",
     "output_type": "stream",
     "text": [
      "I0211 12:06:25.766011 4439444928 logger.py:147] Benchmark metric: {'name': 'accuracy', 'value': 0.8479822874069214, 'unit': None, 'global_step': 9774, 'timestamp': '2020-02-11T05:06:25.765983Z', 'extras': []}\n"
     ]
    },
    {
     "name": "stdout",
     "output_type": "stream",
     "text": [
      "INFO:tensorflow:Benchmark metric: {'name': 'accuracy_baseline', 'value': 0.7637737393379211, 'unit': None, 'global_step': 9774, 'timestamp': '2020-02-11T05:06:25.766759Z', 'extras': []}\n"
     ]
    },
    {
     "name": "stderr",
     "output_type": "stream",
     "text": [
      "I0211 12:06:25.766786 4439444928 logger.py:147] Benchmark metric: {'name': 'accuracy_baseline', 'value': 0.7637737393379211, 'unit': None, 'global_step': 9774, 'timestamp': '2020-02-11T05:06:25.766759Z', 'extras': []}\n"
     ]
    },
    {
     "name": "stdout",
     "output_type": "stream",
     "text": [
      "INFO:tensorflow:Benchmark metric: {'name': 'auc', 'value': 0.8979266285896301, 'unit': None, 'global_step': 9774, 'timestamp': '2020-02-11T05:06:25.767665Z', 'extras': []}\n"
     ]
    },
    {
     "name": "stderr",
     "output_type": "stream",
     "text": [
      "I0211 12:06:25.767688 4439444928 logger.py:147] Benchmark metric: {'name': 'auc', 'value': 0.8979266285896301, 'unit': None, 'global_step': 9774, 'timestamp': '2020-02-11T05:06:25.767665Z', 'extras': []}\n"
     ]
    },
    {
     "name": "stdout",
     "output_type": "stream",
     "text": [
      "INFO:tensorflow:Benchmark metric: {'name': 'auc_precision_recall', 'value': 0.7573132514953613, 'unit': None, 'global_step': 9774, 'timestamp': '2020-02-11T05:06:25.768451Z', 'extras': []}\n"
     ]
    },
    {
     "name": "stderr",
     "output_type": "stream",
     "text": [
      "I0211 12:06:25.768473 4439444928 logger.py:147] Benchmark metric: {'name': 'auc_precision_recall', 'value': 0.7573132514953613, 'unit': None, 'global_step': 9774, 'timestamp': '2020-02-11T05:06:25.768451Z', 'extras': []}\n"
     ]
    },
    {
     "name": "stdout",
     "output_type": "stream",
     "text": [
      "INFO:tensorflow:Benchmark metric: {'name': 'average_loss', 'value': 0.3370097577571869, 'unit': None, 'global_step': 9774, 'timestamp': '2020-02-11T05:06:25.769163Z', 'extras': []}\n"
     ]
    },
    {
     "name": "stderr",
     "output_type": "stream",
     "text": [
      "I0211 12:06:25.769182 4439444928 logger.py:147] Benchmark metric: {'name': 'average_loss', 'value': 0.3370097577571869, 'unit': None, 'global_step': 9774, 'timestamp': '2020-02-11T05:06:25.769163Z', 'extras': []}\n"
     ]
    },
    {
     "name": "stdout",
     "output_type": "stream",
     "text": [
      "INFO:tensorflow:Benchmark metric: {'name': 'label/mean', 'value': 0.23622627556324005, 'unit': None, 'global_step': 9774, 'timestamp': '2020-02-11T05:06:25.769955Z', 'extras': []}\n"
     ]
    },
    {
     "name": "stderr",
     "output_type": "stream",
     "text": [
      "I0211 12:06:25.769978 4439444928 logger.py:147] Benchmark metric: {'name': 'label/mean', 'value': 0.23622627556324005, 'unit': None, 'global_step': 9774, 'timestamp': '2020-02-11T05:06:25.769955Z', 'extras': []}\n"
     ]
    },
    {
     "name": "stdout",
     "output_type": "stream",
     "text": [
      "INFO:tensorflow:Benchmark metric: {'name': 'loss', 'value': 0.3370167911052704, 'unit': None, 'global_step': 9774, 'timestamp': '2020-02-11T05:06:25.770675Z', 'extras': []}\n"
     ]
    },
    {
     "name": "stderr",
     "output_type": "stream",
     "text": [
      "I0211 12:06:25.770693 4439444928 logger.py:147] Benchmark metric: {'name': 'loss', 'value': 0.3370167911052704, 'unit': None, 'global_step': 9774, 'timestamp': '2020-02-11T05:06:25.770675Z', 'extras': []}\n"
     ]
    },
    {
     "name": "stdout",
     "output_type": "stream",
     "text": [
      "INFO:tensorflow:Benchmark metric: {'name': 'precision', 'value': 0.7805976271629333, 'unit': None, 'global_step': 9774, 'timestamp': '2020-02-11T05:06:25.771525Z', 'extras': []}\n"
     ]
    },
    {
     "name": "stderr",
     "output_type": "stream",
     "text": [
      "I0211 12:06:25.771546 4439444928 logger.py:147] Benchmark metric: {'name': 'precision', 'value': 0.7805976271629333, 'unit': None, 'global_step': 9774, 'timestamp': '2020-02-11T05:06:25.771525Z', 'extras': []}\n"
     ]
    },
    {
     "name": "stdout",
     "output_type": "stream",
     "text": [
      "INFO:tensorflow:Benchmark metric: {'name': 'prediction/mean', 'value': 0.24009723961353302, 'unit': None, 'global_step': 9774, 'timestamp': '2020-02-11T05:06:25.772346Z', 'extras': []}\n"
     ]
    },
    {
     "name": "stderr",
     "output_type": "stream",
     "text": [
      "I0211 12:06:25.772367 4439444928 logger.py:147] Benchmark metric: {'name': 'prediction/mean', 'value': 0.24009723961353302, 'unit': None, 'global_step': 9774, 'timestamp': '2020-02-11T05:06:25.772346Z', 'extras': []}\n"
     ]
    },
    {
     "name": "stdout",
     "output_type": "stream",
     "text": [
      "INFO:tensorflow:Benchmark metric: {'name': 'recall', 'value': 0.49583983421325684, 'unit': None, 'global_step': 9774, 'timestamp': '2020-02-11T05:06:25.773081Z', 'extras': []}\n"
     ]
    },
    {
     "name": "stderr",
     "output_type": "stream",
     "text": [
      "I0211 12:06:25.773104 4439444928 logger.py:147] Benchmark metric: {'name': 'recall', 'value': 0.49583983421325684, 'unit': None, 'global_step': 9774, 'timestamp': '2020-02-11T05:06:25.773081Z', 'extras': []}\n"
     ]
    },
    {
     "name": "stdout",
     "output_type": "stream",
     "text": [
      "INFO:tensorflow:Parsing data/adult.data\n"
     ]
    },
    {
     "name": "stderr",
     "output_type": "stream",
     "text": [
      "I0211 12:06:25.803622 4439444928 api.py:332] Parsing data/adult.data\n"
     ]
    },
    {
     "name": "stdout",
     "output_type": "stream",
     "text": [
      "INFO:tensorflow:Calling model_fn.\n"
     ]
    },
    {
     "name": "stderr",
     "output_type": "stream",
     "text": [
      "I0211 12:06:25.834063 4439444928 estimator.py:1151] Calling model_fn.\n"
     ]
    },
    {
     "name": "stdout",
     "output_type": "stream",
     "text": [
      "INFO:tensorflow:Done calling model_fn.\n"
     ]
    },
    {
     "name": "stderr",
     "output_type": "stream",
     "text": [
      "I0211 12:06:26.774757 4439444928 estimator.py:1153] Done calling model_fn.\n"
     ]
    },
    {
     "name": "stdout",
     "output_type": "stream",
     "text": [
      "INFO:tensorflow:Create CheckpointSaverHook.\n"
     ]
    },
    {
     "name": "stderr",
     "output_type": "stream",
     "text": [
      "I0211 12:06:26.775951 4439444928 basic_session_run_hooks.py:546] Create CheckpointSaverHook.\n"
     ]
    },
    {
     "name": "stdout",
     "output_type": "stream",
     "text": [
      "INFO:tensorflow:Graph was finalized.\n"
     ]
    },
    {
     "name": "stderr",
     "output_type": "stream",
     "text": [
      "I0211 12:06:26.857098 4439444928 monitored_session.py:246] Graph was finalized.\n"
     ]
    },
    {
     "name": "stdout",
     "output_type": "stream",
     "text": [
      "INFO:tensorflow:Restoring parameters from model/model.ckpt-9774\n"
     ]
    },
    {
     "name": "stderr",
     "output_type": "stream",
     "text": [
      "I0211 12:06:26.860616 4439444928 saver.py:1284] Restoring parameters from model/model.ckpt-9774\n"
     ]
    },
    {
     "name": "stdout",
     "output_type": "stream",
     "text": [
      "INFO:tensorflow:Running local_init_op.\n"
     ]
    },
    {
     "name": "stderr",
     "output_type": "stream",
     "text": [
      "I0211 12:06:27.067333 4439444928 session_manager.py:504] Running local_init_op.\n"
     ]
    },
    {
     "name": "stdout",
     "output_type": "stream",
     "text": [
      "INFO:tensorflow:Done running local_init_op.\n"
     ]
    },
    {
     "name": "stderr",
     "output_type": "stream",
     "text": [
      "I0211 12:06:27.118268 4439444928 session_manager.py:507] Done running local_init_op.\n"
     ]
    },
    {
     "name": "stdout",
     "output_type": "stream",
     "text": [
      "INFO:tensorflow:Saving checkpoints for 9774 into model/model.ckpt.\n"
     ]
    },
    {
     "name": "stderr",
     "output_type": "stream",
     "text": [
      "I0211 12:06:27.968091 4439444928 basic_session_run_hooks.py:613] Saving checkpoints for 9774 into model/model.ckpt.\n"
     ]
    },
    {
     "name": "stdout",
     "output_type": "stream",
     "text": [
      "INFO:tensorflow:loss = 0.24996486, step = 9774\n"
     ]
    },
    {
     "name": "stderr",
     "output_type": "stream",
     "text": [
      "I0211 12:06:28.891050 4439444928 basic_session_run_hooks.py:262] loss = 0.24996486, step = 9774\n"
     ]
    },
    {
     "name": "stdout",
     "output_type": "stream",
     "text": [
      "INFO:tensorflow:global_step/sec: 155.379\n"
     ]
    },
    {
     "name": "stderr",
     "output_type": "stream",
     "text": [
      "I0211 12:06:29.534301 4439444928 basic_session_run_hooks.py:700] global_step/sec: 155.379\n"
     ]
    },
    {
     "name": "stdout",
     "output_type": "stream",
     "text": [
      "INFO:tensorflow:loss = 0.4032089, step = 9874 (0.644 sec)\n"
     ]
    },
    {
     "name": "stderr",
     "output_type": "stream",
     "text": [
      "I0211 12:06:29.535526 4439444928 basic_session_run_hooks.py:260] loss = 0.4032089, step = 9874 (0.644 sec)\n"
     ]
    },
    {
     "name": "stdout",
     "output_type": "stream",
     "text": [
      "INFO:tensorflow:global_step/sec: 498.041\n"
     ]
    },
    {
     "name": "stderr",
     "output_type": "stream",
     "text": [
      "I0211 12:06:29.735081 4439444928 basic_session_run_hooks.py:700] global_step/sec: 498.041\n"
     ]
    },
    {
     "name": "stdout",
     "output_type": "stream",
     "text": [
      "INFO:tensorflow:loss = 0.3473919, step = 9974 (0.201 sec)\n"
     ]
    },
    {
     "name": "stderr",
     "output_type": "stream",
     "text": [
      "I0211 12:06:29.736470 4439444928 basic_session_run_hooks.py:260] loss = 0.3473919, step = 9974 (0.201 sec)\n"
     ]
    },
    {
     "name": "stdout",
     "output_type": "stream",
     "text": [
      "INFO:tensorflow:global_step/sec: 496.85\n"
     ]
    },
    {
     "name": "stderr",
     "output_type": "stream",
     "text": [
      "I0211 12:06:29.936352 4439444928 basic_session_run_hooks.py:700] global_step/sec: 496.85\n"
     ]
    },
    {
     "name": "stdout",
     "output_type": "stream",
     "text": [
      "INFO:tensorflow:loss = 0.31729883, step = 10074 (0.201 sec)\n"
     ]
    },
    {
     "name": "stderr",
     "output_type": "stream",
     "text": [
      "I0211 12:06:29.937665 4439444928 basic_session_run_hooks.py:260] loss = 0.31729883, step = 10074 (0.201 sec)\n"
     ]
    },
    {
     "name": "stdout",
     "output_type": "stream",
     "text": [
      "INFO:tensorflow:global_step/sec: 499.166\n"
     ]
    },
    {
     "name": "stderr",
     "output_type": "stream",
     "text": [
      "I0211 12:06:30.136668 4439444928 basic_session_run_hooks.py:700] global_step/sec: 499.166\n"
     ]
    },
    {
     "name": "stdout",
     "output_type": "stream",
     "text": [
      "INFO:tensorflow:loss = 0.37133282, step = 10174 (0.200 sec)\n"
     ]
    },
    {
     "name": "stderr",
     "output_type": "stream",
     "text": [
      "I0211 12:06:30.137974 4439444928 basic_session_run_hooks.py:260] loss = 0.37133282, step = 10174 (0.200 sec)\n"
     ]
    },
    {
     "name": "stdout",
     "output_type": "stream",
     "text": [
      "INFO:tensorflow:global_step/sec: 492.572\n"
     ]
    },
    {
     "name": "stderr",
     "output_type": "stream",
     "text": [
      "I0211 12:06:30.339686 4439444928 basic_session_run_hooks.py:700] global_step/sec: 492.572\n"
     ]
    },
    {
     "name": "stdout",
     "output_type": "stream",
     "text": [
      "INFO:tensorflow:loss = 0.32778144, step = 10274 (0.203 sec)\n"
     ]
    },
    {
     "name": "stderr",
     "output_type": "stream",
     "text": [
      "I0211 12:06:30.340960 4439444928 basic_session_run_hooks.py:260] loss = 0.32778144, step = 10274 (0.203 sec)\n"
     ]
    },
    {
     "name": "stdout",
     "output_type": "stream",
     "text": [
      "INFO:tensorflow:global_step/sec: 498.564\n"
     ]
    },
    {
     "name": "stderr",
     "output_type": "stream",
     "text": [
      "I0211 12:06:30.540297 4439444928 basic_session_run_hooks.py:700] global_step/sec: 498.564\n"
     ]
    },
    {
     "name": "stdout",
     "output_type": "stream",
     "text": [
      "INFO:tensorflow:loss = 0.29620183, step = 10374 (0.201 sec)\n"
     ]
    },
    {
     "name": "stderr",
     "output_type": "stream",
     "text": [
      "I0211 12:06:30.541609 4439444928 basic_session_run_hooks.py:260] loss = 0.29620183, step = 10374 (0.201 sec)\n"
     ]
    },
    {
     "name": "stdout",
     "output_type": "stream",
     "text": [
      "INFO:tensorflow:global_step/sec: 493.986\n"
     ]
    },
    {
     "name": "stderr",
     "output_type": "stream",
     "text": [
      "I0211 12:06:30.742698 4439444928 basic_session_run_hooks.py:700] global_step/sec: 493.986\n"
     ]
    },
    {
     "name": "stdout",
     "output_type": "stream",
     "text": [
      "INFO:tensorflow:loss = 0.3563791, step = 10474 (0.202 sec)\n"
     ]
    },
    {
     "name": "stderr",
     "output_type": "stream",
     "text": [
      "I0211 12:06:30.744009 4439444928 basic_session_run_hooks.py:260] loss = 0.3563791, step = 10474 (0.202 sec)\n"
     ]
    },
    {
     "name": "stdout",
     "output_type": "stream",
     "text": [
      "INFO:tensorflow:global_step/sec: 489.153\n"
     ]
    },
    {
     "name": "stderr",
     "output_type": "stream",
     "text": [
      "I0211 12:06:30.947134 4439444928 basic_session_run_hooks.py:700] global_step/sec: 489.153\n"
     ]
    },
    {
     "name": "stdout",
     "output_type": "stream",
     "text": [
      "INFO:tensorflow:loss = 0.3849133, step = 10574 (0.204 sec)\n"
     ]
    },
    {
     "name": "stderr",
     "output_type": "stream",
     "text": [
      "I0211 12:06:30.948383 4439444928 basic_session_run_hooks.py:260] loss = 0.3849133, step = 10574 (0.204 sec)\n"
     ]
    },
    {
     "name": "stdout",
     "output_type": "stream",
     "text": [
      "INFO:tensorflow:global_step/sec: 396.31\n"
     ]
    },
    {
     "name": "stderr",
     "output_type": "stream",
     "text": [
      "I0211 12:06:31.199461 4439444928 basic_session_run_hooks.py:700] global_step/sec: 396.31\n"
     ]
    },
    {
     "name": "stdout",
     "output_type": "stream",
     "text": [
      "INFO:tensorflow:loss = 0.2569156, step = 10674 (0.252 sec)\n"
     ]
    },
    {
     "name": "stderr",
     "output_type": "stream",
     "text": [
      "I0211 12:06:31.200749 4439444928 basic_session_run_hooks.py:260] loss = 0.2569156, step = 10674 (0.252 sec)\n"
     ]
    },
    {
     "name": "stdout",
     "output_type": "stream",
     "text": [
      "INFO:tensorflow:global_step/sec: 444.521\n"
     ]
    },
    {
     "name": "stderr",
     "output_type": "stream",
     "text": [
      "I0211 12:06:31.424421 4439444928 basic_session_run_hooks.py:700] global_step/sec: 444.521\n"
     ]
    },
    {
     "name": "stdout",
     "output_type": "stream",
     "text": [
      "INFO:tensorflow:loss = 0.31422424, step = 10774 (0.225 sec)\n"
     ]
    },
    {
     "name": "stderr",
     "output_type": "stream",
     "text": [
      "I0211 12:06:31.425690 4439444928 basic_session_run_hooks.py:260] loss = 0.31422424, step = 10774 (0.225 sec)\n"
     ]
    },
    {
     "name": "stdout",
     "output_type": "stream",
     "text": [
      "INFO:tensorflow:global_step/sec: 492.196\n"
     ]
    },
    {
     "name": "stderr",
     "output_type": "stream",
     "text": [
      "I0211 12:06:31.627599 4439444928 basic_session_run_hooks.py:700] global_step/sec: 492.196\n"
     ]
    },
    {
     "name": "stdout",
     "output_type": "stream",
     "text": [
      "INFO:tensorflow:loss = 0.2914753, step = 10874 (0.203 sec)\n"
     ]
    },
    {
     "name": "stderr",
     "output_type": "stream",
     "text": [
      "I0211 12:06:31.628875 4439444928 basic_session_run_hooks.py:260] loss = 0.2914753, step = 10874 (0.203 sec)\n"
     ]
    },
    {
     "name": "stdout",
     "output_type": "stream",
     "text": [
      "INFO:tensorflow:global_step/sec: 499.463\n"
     ]
    },
    {
     "name": "stderr",
     "output_type": "stream",
     "text": [
      "I0211 12:06:31.827826 4439444928 basic_session_run_hooks.py:700] global_step/sec: 499.463\n"
     ]
    },
    {
     "name": "stdout",
     "output_type": "stream",
     "text": [
      "INFO:tensorflow:loss = 0.33959457, step = 10974 (0.200 sec)\n"
     ]
    },
    {
     "name": "stderr",
     "output_type": "stream",
     "text": [
      "I0211 12:06:31.829087 4439444928 basic_session_run_hooks.py:260] loss = 0.33959457, step = 10974 (0.200 sec)\n"
     ]
    },
    {
     "name": "stdout",
     "output_type": "stream",
     "text": [
      "INFO:tensorflow:global_step/sec: 421.028\n"
     ]
    },
    {
     "name": "stderr",
     "output_type": "stream",
     "text": [
      "I0211 12:06:32.065339 4439444928 basic_session_run_hooks.py:700] global_step/sec: 421.028\n"
     ]
    },
    {
     "name": "stdout",
     "output_type": "stream",
     "text": [
      "INFO:tensorflow:loss = 0.28668258, step = 11074 (0.238 sec)\n"
     ]
    },
    {
     "name": "stderr",
     "output_type": "stream",
     "text": [
      "I0211 12:06:32.066626 4439444928 basic_session_run_hooks.py:260] loss = 0.28668258, step = 11074 (0.238 sec)\n"
     ]
    },
    {
     "name": "stdout",
     "output_type": "stream",
     "text": [
      "INFO:tensorflow:global_step/sec: 446.128\n"
     ]
    },
    {
     "name": "stderr",
     "output_type": "stream",
     "text": [
      "I0211 12:06:32.289493 4439444928 basic_session_run_hooks.py:700] global_step/sec: 446.128\n"
     ]
    },
    {
     "name": "stdout",
     "output_type": "stream",
     "text": [
      "INFO:tensorflow:loss = 0.18499732, step = 11174 (0.224 sec)\n"
     ]
    },
    {
     "name": "stderr",
     "output_type": "stream",
     "text": [
      "I0211 12:06:32.291111 4439444928 basic_session_run_hooks.py:260] loss = 0.18499732, step = 11174 (0.224 sec)\n"
     ]
    },
    {
     "name": "stdout",
     "output_type": "stream",
     "text": [
      "INFO:tensorflow:global_step/sec: 435.816\n"
     ]
    },
    {
     "name": "stderr",
     "output_type": "stream",
     "text": [
      "I0211 12:06:32.518936 4439444928 basic_session_run_hooks.py:700] global_step/sec: 435.816\n"
     ]
    },
    {
     "name": "stdout",
     "output_type": "stream",
     "text": [
      "INFO:tensorflow:loss = 0.36133033, step = 11274 (0.229 sec)\n"
     ]
    },
    {
     "name": "stderr",
     "output_type": "stream",
     "text": [
      "I0211 12:06:32.520549 4439444928 basic_session_run_hooks.py:260] loss = 0.36133033, step = 11274 (0.229 sec)\n"
     ]
    },
    {
     "name": "stdout",
     "output_type": "stream",
     "text": [
      "INFO:tensorflow:global_step/sec: 438.987\n"
     ]
    },
    {
     "name": "stderr",
     "output_type": "stream",
     "text": [
      "I0211 12:06:32.746755 4439444928 basic_session_run_hooks.py:700] global_step/sec: 438.987\n"
     ]
    },
    {
     "name": "stdout",
     "output_type": "stream",
     "text": [
      "INFO:tensorflow:loss = 0.26943952, step = 11374 (0.228 sec)\n"
     ]
    },
    {
     "name": "stderr",
     "output_type": "stream",
     "text": [
      "I0211 12:06:32.748231 4439444928 basic_session_run_hooks.py:260] loss = 0.26943952, step = 11374 (0.228 sec)\n"
     ]
    },
    {
     "name": "stdout",
     "output_type": "stream",
     "text": [
      "INFO:tensorflow:Saving checkpoints for 11403 into model/model.ckpt.\n"
     ]
    },
    {
     "name": "stderr",
     "output_type": "stream",
     "text": [
      "I0211 12:06:32.814732 4439444928 basic_session_run_hooks.py:613] Saving checkpoints for 11403 into model/model.ckpt.\n"
     ]
    },
    {
     "name": "stdout",
     "output_type": "stream",
     "text": [
      "INFO:tensorflow:Loss for final step: 0.08095575.\n"
     ]
    },
    {
     "name": "stderr",
     "output_type": "stream",
     "text": [
      "I0211 12:06:33.011300 4439444928 estimator.py:375] Loss for final step: 0.08095575.\n"
     ]
    },
    {
     "name": "stdout",
     "output_type": "stream",
     "text": [
      "INFO:tensorflow:Parsing data/adult.test\n"
     ]
    },
    {
     "name": "stderr",
     "output_type": "stream",
     "text": [
      "I0211 12:06:33.023950 4439444928 api.py:332] Parsing data/adult.test\n"
     ]
    },
    {
     "name": "stdout",
     "output_type": "stream",
     "text": [
      "INFO:tensorflow:Calling model_fn.\n"
     ]
    },
    {
     "name": "stderr",
     "output_type": "stream",
     "text": [
      "I0211 12:06:33.045910 4439444928 estimator.py:1151] Calling model_fn.\n"
     ]
    },
    {
     "name": "stdout",
     "output_type": "stream",
     "text": [
      "INFO:tensorflow:Done calling model_fn.\n"
     ]
    },
    {
     "name": "stderr",
     "output_type": "stream",
     "text": [
      "I0211 12:06:34.046900 4439444928 estimator.py:1153] Done calling model_fn.\n"
     ]
    },
    {
     "name": "stdout",
     "output_type": "stream",
     "text": [
      "INFO:tensorflow:Starting evaluation at 2020-02-11T12:06:34Z\n"
     ]
    },
    {
     "name": "stderr",
     "output_type": "stream",
     "text": [
      "I0211 12:06:34.061282 4439444928 evaluation.py:255] Starting evaluation at 2020-02-11T12:06:34Z\n"
     ]
    },
    {
     "name": "stdout",
     "output_type": "stream",
     "text": [
      "INFO:tensorflow:Graph was finalized.\n"
     ]
    },
    {
     "name": "stderr",
     "output_type": "stream",
     "text": [
      "I0211 12:06:34.118501 4439444928 monitored_session.py:246] Graph was finalized.\n"
     ]
    },
    {
     "name": "stdout",
     "output_type": "stream",
     "text": [
      "INFO:tensorflow:Restoring parameters from model/model.ckpt-11403\n"
     ]
    },
    {
     "name": "stderr",
     "output_type": "stream",
     "text": [
      "I0211 12:06:34.120448 4439444928 saver.py:1284] Restoring parameters from model/model.ckpt-11403\n"
     ]
    },
    {
     "name": "stdout",
     "output_type": "stream",
     "text": [
      "INFO:tensorflow:Running local_init_op.\n"
     ]
    },
    {
     "name": "stderr",
     "output_type": "stream",
     "text": [
      "I0211 12:06:34.359345 4439444928 session_manager.py:504] Running local_init_op.\n"
     ]
    },
    {
     "name": "stdout",
     "output_type": "stream",
     "text": [
      "INFO:tensorflow:Done running local_init_op.\n"
     ]
    },
    {
     "name": "stderr",
     "output_type": "stream",
     "text": [
      "I0211 12:06:34.450956 4439444928 session_manager.py:507] Done running local_init_op.\n"
     ]
    },
    {
     "name": "stdout",
     "output_type": "stream",
     "text": [
      "INFO:tensorflow:Inference Time : 1.90232s\n"
     ]
    },
    {
     "name": "stderr",
     "output_type": "stream",
     "text": [
      "I0211 12:06:35.964448 4439444928 evaluation.py:273] Inference Time : 1.90232s\n"
     ]
    },
    {
     "name": "stdout",
     "output_type": "stream",
     "text": [
      "INFO:tensorflow:Finished evaluation at 2020-02-11-12:06:35\n"
     ]
    },
    {
     "name": "stderr",
     "output_type": "stream",
     "text": [
      "I0211 12:06:35.965479 4439444928 evaluation.py:276] Finished evaluation at 2020-02-11-12:06:35\n"
     ]
    },
    {
     "name": "stdout",
     "output_type": "stream",
     "text": [
      "INFO:tensorflow:Saving dict for global step 11403: accuracy = 0.8472453, accuracy_baseline = 0.76377374, auc = 0.89719033, auc_precision_recall = 0.75303376, average_loss = 0.335427, global_step = 11403, label/mean = 0.23622628, loss = 0.33536363, precision = 0.74592835, prediction/mean = 0.25038883, recall = 0.53588146\n"
     ]
    },
    {
     "name": "stderr",
     "output_type": "stream",
     "text": [
      "I0211 12:06:35.966495 4439444928 estimator.py:2053] Saving dict for global step 11403: accuracy = 0.8472453, accuracy_baseline = 0.76377374, auc = 0.89719033, auc_precision_recall = 0.75303376, average_loss = 0.335427, global_step = 11403, label/mean = 0.23622628, loss = 0.33536363, precision = 0.74592835, prediction/mean = 0.25038883, recall = 0.53588146\n"
     ]
    },
    {
     "name": "stdout",
     "output_type": "stream",
     "text": [
      "INFO:tensorflow:Saving 'checkpoint_path' summary for global step 11403: model/model.ckpt-11403\n"
     ]
    },
    {
     "name": "stderr",
     "output_type": "stream",
     "text": [
      "I0211 12:06:35.967467 4439444928 estimator.py:2113] Saving 'checkpoint_path' summary for global step 11403: model/model.ckpt-11403\n"
     ]
    },
    {
     "name": "stdout",
     "output_type": "stream",
     "text": [
      "INFO:tensorflow:Results at epoch 14 / 40\n"
     ]
    },
    {
     "name": "stderr",
     "output_type": "stream",
     "text": [
      "I0211 12:06:35.968569 4439444928 <ipython-input-7-b40c302cf839>:76] Results at epoch 14 / 40\n"
     ]
    },
    {
     "name": "stdout",
     "output_type": "stream",
     "text": [
      "INFO:tensorflow:------------------------------------------------------------\n"
     ]
    },
    {
     "name": "stderr",
     "output_type": "stream",
     "text": [
      "I0211 12:06:35.969408 4439444928 <ipython-input-7-b40c302cf839>:77] ------------------------------------------------------------\n"
     ]
    },
    {
     "name": "stdout",
     "output_type": "stream",
     "text": [
      "INFO:tensorflow:accuracy: 0.8472453\n"
     ]
    },
    {
     "name": "stderr",
     "output_type": "stream",
     "text": [
      "I0211 12:06:35.970124 4439444928 <ipython-input-7-b40c302cf839>:80] accuracy: 0.8472453\n"
     ]
    },
    {
     "name": "stdout",
     "output_type": "stream",
     "text": [
      "INFO:tensorflow:accuracy_baseline: 0.76377374\n"
     ]
    },
    {
     "name": "stderr",
     "output_type": "stream",
     "text": [
      "I0211 12:06:35.970999 4439444928 <ipython-input-7-b40c302cf839>:80] accuracy_baseline: 0.76377374\n"
     ]
    },
    {
     "name": "stdout",
     "output_type": "stream",
     "text": [
      "INFO:tensorflow:auc: 0.89719033\n"
     ]
    },
    {
     "name": "stderr",
     "output_type": "stream",
     "text": [
      "I0211 12:06:35.971786 4439444928 <ipython-input-7-b40c302cf839>:80] auc: 0.89719033\n"
     ]
    },
    {
     "name": "stdout",
     "output_type": "stream",
     "text": [
      "INFO:tensorflow:auc_precision_recall: 0.75303376\n"
     ]
    },
    {
     "name": "stderr",
     "output_type": "stream",
     "text": [
      "I0211 12:06:35.972469 4439444928 <ipython-input-7-b40c302cf839>:80] auc_precision_recall: 0.75303376\n"
     ]
    },
    {
     "name": "stdout",
     "output_type": "stream",
     "text": [
      "INFO:tensorflow:average_loss: 0.335427\n"
     ]
    },
    {
     "name": "stderr",
     "output_type": "stream",
     "text": [
      "I0211 12:06:35.973258 4439444928 <ipython-input-7-b40c302cf839>:80] average_loss: 0.335427\n"
     ]
    },
    {
     "name": "stdout",
     "output_type": "stream",
     "text": [
      "INFO:tensorflow:global_step: 11403\n"
     ]
    },
    {
     "name": "stderr",
     "output_type": "stream",
     "text": [
      "I0211 12:06:35.973891 4439444928 <ipython-input-7-b40c302cf839>:80] global_step: 11403\n"
     ]
    },
    {
     "name": "stdout",
     "output_type": "stream",
     "text": [
      "INFO:tensorflow:label/mean: 0.23622628\n"
     ]
    },
    {
     "name": "stderr",
     "output_type": "stream",
     "text": [
      "I0211 12:06:35.974673 4439444928 <ipython-input-7-b40c302cf839>:80] label/mean: 0.23622628\n"
     ]
    },
    {
     "name": "stdout",
     "output_type": "stream",
     "text": [
      "INFO:tensorflow:loss: 0.33536363\n"
     ]
    },
    {
     "name": "stderr",
     "output_type": "stream",
     "text": [
      "I0211 12:06:35.975286 4439444928 <ipython-input-7-b40c302cf839>:80] loss: 0.33536363\n"
     ]
    },
    {
     "name": "stdout",
     "output_type": "stream",
     "text": [
      "INFO:tensorflow:precision: 0.74592835\n"
     ]
    },
    {
     "name": "stderr",
     "output_type": "stream",
     "text": [
      "I0211 12:06:35.976016 4439444928 <ipython-input-7-b40c302cf839>:80] precision: 0.74592835\n"
     ]
    },
    {
     "name": "stdout",
     "output_type": "stream",
     "text": [
      "INFO:tensorflow:prediction/mean: 0.25038883\n"
     ]
    },
    {
     "name": "stderr",
     "output_type": "stream",
     "text": [
      "I0211 12:06:35.976646 4439444928 <ipython-input-7-b40c302cf839>:80] prediction/mean: 0.25038883\n"
     ]
    },
    {
     "name": "stdout",
     "output_type": "stream",
     "text": [
      "INFO:tensorflow:recall: 0.53588146\n"
     ]
    },
    {
     "name": "stderr",
     "output_type": "stream",
     "text": [
      "I0211 12:06:35.977366 4439444928 <ipython-input-7-b40c302cf839>:80] recall: 0.53588146\n"
     ]
    },
    {
     "name": "stdout",
     "output_type": "stream",
     "text": [
      "INFO:tensorflow:Benchmark metric: {'name': 'accuracy', 'value': 0.8472452759742737, 'unit': None, 'global_step': 11403, 'timestamp': '2020-02-11T05:06:35.977956Z', 'extras': []}\n"
     ]
    },
    {
     "name": "stderr",
     "output_type": "stream",
     "text": [
      "I0211 12:06:35.977978 4439444928 logger.py:147] Benchmark metric: {'name': 'accuracy', 'value': 0.8472452759742737, 'unit': None, 'global_step': 11403, 'timestamp': '2020-02-11T05:06:35.977956Z', 'extras': []}\n"
     ]
    },
    {
     "name": "stdout",
     "output_type": "stream",
     "text": [
      "INFO:tensorflow:Benchmark metric: {'name': 'accuracy_baseline', 'value': 0.7637737393379211, 'unit': None, 'global_step': 11403, 'timestamp': '2020-02-11T05:06:35.978695Z', 'extras': []}\n"
     ]
    },
    {
     "name": "stderr",
     "output_type": "stream",
     "text": [
      "I0211 12:06:35.978718 4439444928 logger.py:147] Benchmark metric: {'name': 'accuracy_baseline', 'value': 0.7637737393379211, 'unit': None, 'global_step': 11403, 'timestamp': '2020-02-11T05:06:35.978695Z', 'extras': []}\n"
     ]
    },
    {
     "name": "stdout",
     "output_type": "stream",
     "text": [
      "INFO:tensorflow:Benchmark metric: {'name': 'auc', 'value': 0.8971903324127197, 'unit': None, 'global_step': 11403, 'timestamp': '2020-02-11T05:06:35.979295Z', 'extras': []}\n"
     ]
    },
    {
     "name": "stderr",
     "output_type": "stream",
     "text": [
      "I0211 12:06:35.979312 4439444928 logger.py:147] Benchmark metric: {'name': 'auc', 'value': 0.8971903324127197, 'unit': None, 'global_step': 11403, 'timestamp': '2020-02-11T05:06:35.979295Z', 'extras': []}\n"
     ]
    },
    {
     "name": "stdout",
     "output_type": "stream",
     "text": [
      "INFO:tensorflow:Benchmark metric: {'name': 'auc_precision_recall', 'value': 0.7530337572097778, 'unit': None, 'global_step': 11403, 'timestamp': '2020-02-11T05:06:35.980089Z', 'extras': []}\n"
     ]
    },
    {
     "name": "stderr",
     "output_type": "stream",
     "text": [
      "I0211 12:06:35.980105 4439444928 logger.py:147] Benchmark metric: {'name': 'auc_precision_recall', 'value': 0.7530337572097778, 'unit': None, 'global_step': 11403, 'timestamp': '2020-02-11T05:06:35.980089Z', 'extras': []}\n"
     ]
    },
    {
     "name": "stdout",
     "output_type": "stream",
     "text": [
      "INFO:tensorflow:Benchmark metric: {'name': 'average_loss', 'value': 0.3354269862174988, 'unit': None, 'global_step': 11403, 'timestamp': '2020-02-11T05:06:35.980687Z', 'extras': []}\n"
     ]
    },
    {
     "name": "stderr",
     "output_type": "stream",
     "text": [
      "I0211 12:06:35.980705 4439444928 logger.py:147] Benchmark metric: {'name': 'average_loss', 'value': 0.3354269862174988, 'unit': None, 'global_step': 11403, 'timestamp': '2020-02-11T05:06:35.980687Z', 'extras': []}\n"
     ]
    },
    {
     "name": "stdout",
     "output_type": "stream",
     "text": [
      "INFO:tensorflow:Benchmark metric: {'name': 'label/mean', 'value': 0.23622627556324005, 'unit': None, 'global_step': 11403, 'timestamp': '2020-02-11T05:06:35.981418Z', 'extras': []}\n"
     ]
    },
    {
     "name": "stderr",
     "output_type": "stream",
     "text": [
      "I0211 12:06:35.981440 4439444928 logger.py:147] Benchmark metric: {'name': 'label/mean', 'value': 0.23622627556324005, 'unit': None, 'global_step': 11403, 'timestamp': '2020-02-11T05:06:35.981418Z', 'extras': []}\n"
     ]
    },
    {
     "name": "stdout",
     "output_type": "stream",
     "text": [
      "INFO:tensorflow:Benchmark metric: {'name': 'loss', 'value': 0.33536362648010254, 'unit': None, 'global_step': 11403, 'timestamp': '2020-02-11T05:06:35.982037Z', 'extras': []}\n"
     ]
    },
    {
     "name": "stderr",
     "output_type": "stream",
     "text": [
      "I0211 12:06:35.982054 4439444928 logger.py:147] Benchmark metric: {'name': 'loss', 'value': 0.33536362648010254, 'unit': None, 'global_step': 11403, 'timestamp': '2020-02-11T05:06:35.982037Z', 'extras': []}\n"
     ]
    },
    {
     "name": "stdout",
     "output_type": "stream",
     "text": [
      "INFO:tensorflow:Benchmark metric: {'name': 'precision', 'value': 0.7459283471107483, 'unit': None, 'global_step': 11403, 'timestamp': '2020-02-11T05:06:35.982854Z', 'extras': []}\n"
     ]
    },
    {
     "name": "stderr",
     "output_type": "stream",
     "text": [
      "I0211 12:06:35.982874 4439444928 logger.py:147] Benchmark metric: {'name': 'precision', 'value': 0.7459283471107483, 'unit': None, 'global_step': 11403, 'timestamp': '2020-02-11T05:06:35.982854Z', 'extras': []}\n"
     ]
    },
    {
     "name": "stdout",
     "output_type": "stream",
     "text": [
      "INFO:tensorflow:Benchmark metric: {'name': 'prediction/mean', 'value': 0.25038883090019226, 'unit': None, 'global_step': 11403, 'timestamp': '2020-02-11T05:06:35.983625Z', 'extras': []}\n"
     ]
    },
    {
     "name": "stderr",
     "output_type": "stream",
     "text": [
      "I0211 12:06:35.983645 4439444928 logger.py:147] Benchmark metric: {'name': 'prediction/mean', 'value': 0.25038883090019226, 'unit': None, 'global_step': 11403, 'timestamp': '2020-02-11T05:06:35.983625Z', 'extras': []}\n"
     ]
    },
    {
     "name": "stdout",
     "output_type": "stream",
     "text": [
      "INFO:tensorflow:Benchmark metric: {'name': 'recall', 'value': 0.5358814597129822, 'unit': None, 'global_step': 11403, 'timestamp': '2020-02-11T05:06:35.984354Z', 'extras': []}\n"
     ]
    },
    {
     "name": "stderr",
     "output_type": "stream",
     "text": [
      "I0211 12:06:35.984378 4439444928 logger.py:147] Benchmark metric: {'name': 'recall', 'value': 0.5358814597129822, 'unit': None, 'global_step': 11403, 'timestamp': '2020-02-11T05:06:35.984354Z', 'extras': []}\n"
     ]
    },
    {
     "name": "stdout",
     "output_type": "stream",
     "text": [
      "INFO:tensorflow:Parsing data/adult.data\n"
     ]
    },
    {
     "name": "stderr",
     "output_type": "stream",
     "text": [
      "I0211 12:06:36.010192 4439444928 api.py:332] Parsing data/adult.data\n"
     ]
    },
    {
     "name": "stdout",
     "output_type": "stream",
     "text": [
      "INFO:tensorflow:Calling model_fn.\n"
     ]
    },
    {
     "name": "stderr",
     "output_type": "stream",
     "text": [
      "I0211 12:06:36.038710 4439444928 estimator.py:1151] Calling model_fn.\n"
     ]
    },
    {
     "name": "stdout",
     "output_type": "stream",
     "text": [
      "INFO:tensorflow:Done calling model_fn.\n"
     ]
    },
    {
     "name": "stderr",
     "output_type": "stream",
     "text": [
      "I0211 12:06:37.084436 4439444928 estimator.py:1153] Done calling model_fn.\n"
     ]
    },
    {
     "name": "stdout",
     "output_type": "stream",
     "text": [
      "INFO:tensorflow:Create CheckpointSaverHook.\n"
     ]
    },
    {
     "name": "stderr",
     "output_type": "stream",
     "text": [
      "I0211 12:06:37.085583 4439444928 basic_session_run_hooks.py:546] Create CheckpointSaverHook.\n"
     ]
    },
    {
     "name": "stdout",
     "output_type": "stream",
     "text": [
      "INFO:tensorflow:Graph was finalized.\n"
     ]
    },
    {
     "name": "stderr",
     "output_type": "stream",
     "text": [
      "I0211 12:06:37.182789 4439444928 monitored_session.py:246] Graph was finalized.\n"
     ]
    },
    {
     "name": "stdout",
     "output_type": "stream",
     "text": [
      "INFO:tensorflow:Restoring parameters from model/model.ckpt-11403\n"
     ]
    },
    {
     "name": "stderr",
     "output_type": "stream",
     "text": [
      "I0211 12:06:37.185614 4439444928 saver.py:1284] Restoring parameters from model/model.ckpt-11403\n"
     ]
    },
    {
     "name": "stdout",
     "output_type": "stream",
     "text": [
      "INFO:tensorflow:Running local_init_op.\n"
     ]
    },
    {
     "name": "stderr",
     "output_type": "stream",
     "text": [
      "I0211 12:06:37.421552 4439444928 session_manager.py:504] Running local_init_op.\n"
     ]
    },
    {
     "name": "stdout",
     "output_type": "stream",
     "text": [
      "INFO:tensorflow:Done running local_init_op.\n"
     ]
    },
    {
     "name": "stderr",
     "output_type": "stream",
     "text": [
      "I0211 12:06:37.477812 4439444928 session_manager.py:507] Done running local_init_op.\n"
     ]
    },
    {
     "name": "stdout",
     "output_type": "stream",
     "text": [
      "INFO:tensorflow:Saving checkpoints for 11403 into model/model.ckpt.\n"
     ]
    },
    {
     "name": "stderr",
     "output_type": "stream",
     "text": [
      "I0211 12:06:38.409456 4439444928 basic_session_run_hooks.py:613] Saving checkpoints for 11403 into model/model.ckpt.\n"
     ]
    },
    {
     "name": "stdout",
     "output_type": "stream",
     "text": [
      "INFO:tensorflow:loss = 0.4475162, step = 11403\n"
     ]
    },
    {
     "name": "stderr",
     "output_type": "stream",
     "text": [
      "I0211 12:06:39.466864 4439444928 basic_session_run_hooks.py:262] loss = 0.4475162, step = 11403\n"
     ]
    },
    {
     "name": "stdout",
     "output_type": "stream",
     "text": [
      "INFO:tensorflow:global_step/sec: 134.59\n"
     ]
    },
    {
     "name": "stderr",
     "output_type": "stream",
     "text": [
      "I0211 12:06:40.209592 4439444928 basic_session_run_hooks.py:700] global_step/sec: 134.59\n"
     ]
    },
    {
     "name": "stdout",
     "output_type": "stream",
     "text": [
      "INFO:tensorflow:loss = 0.35648447, step = 11503 (0.744 sec)\n"
     ]
    },
    {
     "name": "stderr",
     "output_type": "stream",
     "text": [
      "I0211 12:06:40.211129 4439444928 basic_session_run_hooks.py:260] loss = 0.35648447, step = 11503 (0.744 sec)\n"
     ]
    },
    {
     "name": "stdout",
     "output_type": "stream",
     "text": [
      "INFO:tensorflow:global_step/sec: 487.529\n"
     ]
    },
    {
     "name": "stderr",
     "output_type": "stream",
     "text": [
      "I0211 12:06:40.414692 4439444928 basic_session_run_hooks.py:700] global_step/sec: 487.529\n"
     ]
    },
    {
     "name": "stdout",
     "output_type": "stream",
     "text": [
      "INFO:tensorflow:loss = 0.41511822, step = 11603 (0.205 sec)\n"
     ]
    },
    {
     "name": "stderr",
     "output_type": "stream",
     "text": [
      "I0211 12:06:40.415947 4439444928 basic_session_run_hooks.py:260] loss = 0.41511822, step = 11603 (0.205 sec)\n"
     ]
    },
    {
     "name": "stdout",
     "output_type": "stream",
     "text": [
      "INFO:tensorflow:global_step/sec: 495.412\n"
     ]
    },
    {
     "name": "stderr",
     "output_type": "stream",
     "text": [
      "I0211 12:06:40.616541 4439444928 basic_session_run_hooks.py:700] global_step/sec: 495.412\n"
     ]
    },
    {
     "name": "stdout",
     "output_type": "stream",
     "text": [
      "INFO:tensorflow:loss = 0.36323324, step = 11703 (0.202 sec)\n"
     ]
    },
    {
     "name": "stderr",
     "output_type": "stream",
     "text": [
      "I0211 12:06:40.617849 4439444928 basic_session_run_hooks.py:260] loss = 0.36323324, step = 11703 (0.202 sec)\n"
     ]
    },
    {
     "name": "stdout",
     "output_type": "stream",
     "text": [
      "INFO:tensorflow:global_step/sec: 486.547\n"
     ]
    },
    {
     "name": "stderr",
     "output_type": "stream",
     "text": [
      "I0211 12:06:40.822103 4439444928 basic_session_run_hooks.py:700] global_step/sec: 486.547\n"
     ]
    },
    {
     "name": "stdout",
     "output_type": "stream",
     "text": [
      "INFO:tensorflow:loss = 0.46269688, step = 11803 (0.206 sec)\n"
     ]
    },
    {
     "name": "stderr",
     "output_type": "stream",
     "text": [
      "I0211 12:06:40.823492 4439444928 basic_session_run_hooks.py:260] loss = 0.46269688, step = 11803 (0.206 sec)\n"
     ]
    },
    {
     "name": "stdout",
     "output_type": "stream",
     "text": [
      "INFO:tensorflow:global_step/sec: 485.162\n"
     ]
    },
    {
     "name": "stderr",
     "output_type": "stream",
     "text": [
      "I0211 12:06:41.028208 4439444928 basic_session_run_hooks.py:700] global_step/sec: 485.162\n"
     ]
    },
    {
     "name": "stdout",
     "output_type": "stream",
     "text": [
      "INFO:tensorflow:loss = 0.40111843, step = 11903 (0.206 sec)\n"
     ]
    },
    {
     "name": "stderr",
     "output_type": "stream",
     "text": [
      "I0211 12:06:41.029449 4439444928 basic_session_run_hooks.py:260] loss = 0.40111843, step = 11903 (0.206 sec)\n"
     ]
    },
    {
     "name": "stdout",
     "output_type": "stream",
     "text": [
      "INFO:tensorflow:global_step/sec: 478.95\n"
     ]
    },
    {
     "name": "stderr",
     "output_type": "stream",
     "text": [
      "I0211 12:06:41.237041 4439444928 basic_session_run_hooks.py:700] global_step/sec: 478.95\n"
     ]
    },
    {
     "name": "stdout",
     "output_type": "stream",
     "text": [
      "INFO:tensorflow:loss = 0.21642506, step = 12003 (0.210 sec)\n"
     ]
    },
    {
     "name": "stderr",
     "output_type": "stream",
     "text": [
      "I0211 12:06:41.238996 4439444928 basic_session_run_hooks.py:260] loss = 0.21642506, step = 12003 (0.210 sec)\n"
     ]
    },
    {
     "name": "stdout",
     "output_type": "stream",
     "text": [
      "INFO:tensorflow:global_step/sec: 437.6\n"
     ]
    },
    {
     "name": "stderr",
     "output_type": "stream",
     "text": [
      "I0211 12:06:41.465500 4439444928 basic_session_run_hooks.py:700] global_step/sec: 437.6\n"
     ]
    },
    {
     "name": "stdout",
     "output_type": "stream",
     "text": [
      "INFO:tensorflow:loss = 0.31019023, step = 12103 (0.228 sec)\n"
     ]
    },
    {
     "name": "stderr",
     "output_type": "stream",
     "text": [
      "I0211 12:06:41.466787 4439444928 basic_session_run_hooks.py:260] loss = 0.31019023, step = 12103 (0.228 sec)\n"
     ]
    },
    {
     "name": "stdout",
     "output_type": "stream",
     "text": [
      "INFO:tensorflow:global_step/sec: 470.706\n"
     ]
    },
    {
     "name": "stderr",
     "output_type": "stream",
     "text": [
      "I0211 12:06:41.677946 4439444928 basic_session_run_hooks.py:700] global_step/sec: 470.706\n"
     ]
    },
    {
     "name": "stdout",
     "output_type": "stream",
     "text": [
      "INFO:tensorflow:loss = 0.27290148, step = 12203 (0.212 sec)\n"
     ]
    },
    {
     "name": "stderr",
     "output_type": "stream",
     "text": [
      "I0211 12:06:41.679250 4439444928 basic_session_run_hooks.py:260] loss = 0.27290148, step = 12203 (0.212 sec)\n"
     ]
    },
    {
     "name": "stdout",
     "output_type": "stream",
     "text": [
      "INFO:tensorflow:global_step/sec: 404.567\n"
     ]
    },
    {
     "name": "stderr",
     "output_type": "stream",
     "text": [
      "I0211 12:06:41.925122 4439444928 basic_session_run_hooks.py:700] global_step/sec: 404.567\n"
     ]
    },
    {
     "name": "stdout",
     "output_type": "stream",
     "text": [
      "INFO:tensorflow:loss = 0.30905706, step = 12303 (0.247 sec)\n"
     ]
    },
    {
     "name": "stderr",
     "output_type": "stream",
     "text": [
      "I0211 12:06:41.926479 4439444928 basic_session_run_hooks.py:260] loss = 0.30905706, step = 12303 (0.247 sec)\n"
     ]
    },
    {
     "name": "stdout",
     "output_type": "stream",
     "text": [
      "INFO:tensorflow:global_step/sec: 502.874\n"
     ]
    },
    {
     "name": "stderr",
     "output_type": "stream",
     "text": [
      "I0211 12:06:42.123982 4439444928 basic_session_run_hooks.py:700] global_step/sec: 502.874\n"
     ]
    },
    {
     "name": "stdout",
     "output_type": "stream",
     "text": [
      "INFO:tensorflow:loss = 0.28951424, step = 12403 (0.199 sec)\n"
     ]
    },
    {
     "name": "stderr",
     "output_type": "stream",
     "text": [
      "I0211 12:06:42.125282 4439444928 basic_session_run_hooks.py:260] loss = 0.28951424, step = 12403 (0.199 sec)\n"
     ]
    },
    {
     "name": "stdout",
     "output_type": "stream",
     "text": [
      "INFO:tensorflow:global_step/sec: 491.369\n"
     ]
    },
    {
     "name": "stderr",
     "output_type": "stream",
     "text": [
      "I0211 12:06:42.327491 4439444928 basic_session_run_hooks.py:700] global_step/sec: 491.369\n"
     ]
    },
    {
     "name": "stdout",
     "output_type": "stream",
     "text": [
      "INFO:tensorflow:loss = 0.29409686, step = 12503 (0.203 sec)\n"
     ]
    },
    {
     "name": "stderr",
     "output_type": "stream",
     "text": [
      "I0211 12:06:42.328768 4439444928 basic_session_run_hooks.py:260] loss = 0.29409686, step = 12503 (0.203 sec)\n"
     ]
    },
    {
     "name": "stdout",
     "output_type": "stream",
     "text": [
      "INFO:tensorflow:global_step/sec: 504.251\n"
     ]
    },
    {
     "name": "stderr",
     "output_type": "stream",
     "text": [
      "I0211 12:06:42.525807 4439444928 basic_session_run_hooks.py:700] global_step/sec: 504.251\n"
     ]
    },
    {
     "name": "stdout",
     "output_type": "stream",
     "text": [
      "INFO:tensorflow:loss = 0.43323717, step = 12603 (0.198 sec)\n"
     ]
    },
    {
     "name": "stderr",
     "output_type": "stream",
     "text": [
      "I0211 12:06:42.527079 4439444928 basic_session_run_hooks.py:260] loss = 0.43323717, step = 12603 (0.198 sec)\n"
     ]
    },
    {
     "name": "stdout",
     "output_type": "stream",
     "text": [
      "INFO:tensorflow:global_step/sec: 502.657\n"
     ]
    },
    {
     "name": "stderr",
     "output_type": "stream",
     "text": [
      "I0211 12:06:42.724752 4439444928 basic_session_run_hooks.py:700] global_step/sec: 502.657\n"
     ]
    },
    {
     "name": "stdout",
     "output_type": "stream",
     "text": [
      "INFO:tensorflow:loss = 0.2949098, step = 12703 (0.199 sec)\n"
     ]
    },
    {
     "name": "stderr",
     "output_type": "stream",
     "text": [
      "I0211 12:06:42.726065 4439444928 basic_session_run_hooks.py:260] loss = 0.2949098, step = 12703 (0.199 sec)\n"
     ]
    },
    {
     "name": "stdout",
     "output_type": "stream",
     "text": [
      "INFO:tensorflow:global_step/sec: 501.1\n"
     ]
    },
    {
     "name": "stderr",
     "output_type": "stream",
     "text": [
      "I0211 12:06:42.924312 4439444928 basic_session_run_hooks.py:700] global_step/sec: 501.1\n"
     ]
    },
    {
     "name": "stdout",
     "output_type": "stream",
     "text": [
      "INFO:tensorflow:loss = 0.36833066, step = 12803 (0.200 sec)\n"
     ]
    },
    {
     "name": "stderr",
     "output_type": "stream",
     "text": [
      "I0211 12:06:42.925616 4439444928 basic_session_run_hooks.py:260] loss = 0.36833066, step = 12803 (0.200 sec)\n"
     ]
    },
    {
     "name": "stdout",
     "output_type": "stream",
     "text": [
      "INFO:tensorflow:global_step/sec: 502.961\n"
     ]
    },
    {
     "name": "stderr",
     "output_type": "stream",
     "text": [
      "I0211 12:06:43.123142 4439444928 basic_session_run_hooks.py:700] global_step/sec: 502.961\n"
     ]
    },
    {
     "name": "stdout",
     "output_type": "stream",
     "text": [
      "INFO:tensorflow:loss = 0.4864766, step = 12903 (0.199 sec)\n"
     ]
    },
    {
     "name": "stderr",
     "output_type": "stream",
     "text": [
      "I0211 12:06:43.124464 4439444928 basic_session_run_hooks.py:260] loss = 0.4864766, step = 12903 (0.199 sec)\n"
     ]
    },
    {
     "name": "stdout",
     "output_type": "stream",
     "text": [
      "INFO:tensorflow:global_step/sec: 487.783\n"
     ]
    },
    {
     "name": "stderr",
     "output_type": "stream",
     "text": [
      "I0211 12:06:43.328135 4439444928 basic_session_run_hooks.py:700] global_step/sec: 487.783\n"
     ]
    },
    {
     "name": "stdout",
     "output_type": "stream",
     "text": [
      "INFO:tensorflow:loss = 0.44155654, step = 13003 (0.205 sec)\n"
     ]
    },
    {
     "name": "stderr",
     "output_type": "stream",
     "text": [
      "I0211 12:06:43.329327 4439444928 basic_session_run_hooks.py:260] loss = 0.44155654, step = 13003 (0.205 sec)\n"
     ]
    },
    {
     "name": "stdout",
     "output_type": "stream",
     "text": [
      "INFO:tensorflow:Saving checkpoints for 13032 into model/model.ckpt.\n"
     ]
    },
    {
     "name": "stderr",
     "output_type": "stream",
     "text": [
      "I0211 12:06:43.407704 4439444928 basic_session_run_hooks.py:613] Saving checkpoints for 13032 into model/model.ckpt.\n"
     ]
    },
    {
     "name": "stdout",
     "output_type": "stream",
     "text": [
      "INFO:tensorflow:Loss for final step: 0.18665032.\n"
     ]
    },
    {
     "name": "stderr",
     "output_type": "stream",
     "text": [
      "I0211 12:06:43.588901 4439444928 estimator.py:375] Loss for final step: 0.18665032.\n"
     ]
    },
    {
     "name": "stdout",
     "output_type": "stream",
     "text": [
      "INFO:tensorflow:Parsing data/adult.test\n"
     ]
    },
    {
     "name": "stderr",
     "output_type": "stream",
     "text": [
      "I0211 12:06:43.600886 4439444928 api.py:332] Parsing data/adult.test\n"
     ]
    },
    {
     "name": "stdout",
     "output_type": "stream",
     "text": [
      "INFO:tensorflow:Calling model_fn.\n"
     ]
    },
    {
     "name": "stderr",
     "output_type": "stream",
     "text": [
      "I0211 12:06:43.621852 4439444928 estimator.py:1151] Calling model_fn.\n"
     ]
    },
    {
     "name": "stdout",
     "output_type": "stream",
     "text": [
      "INFO:tensorflow:Done calling model_fn.\n"
     ]
    },
    {
     "name": "stderr",
     "output_type": "stream",
     "text": [
      "I0211 12:06:44.599258 4439444928 estimator.py:1153] Done calling model_fn.\n"
     ]
    },
    {
     "name": "stdout",
     "output_type": "stream",
     "text": [
      "INFO:tensorflow:Starting evaluation at 2020-02-11T12:06:44Z\n"
     ]
    },
    {
     "name": "stderr",
     "output_type": "stream",
     "text": [
      "I0211 12:06:44.613028 4439444928 evaluation.py:255] Starting evaluation at 2020-02-11T12:06:44Z\n"
     ]
    },
    {
     "name": "stdout",
     "output_type": "stream",
     "text": [
      "INFO:tensorflow:Graph was finalized.\n"
     ]
    },
    {
     "name": "stderr",
     "output_type": "stream",
     "text": [
      "I0211 12:06:44.665846 4439444928 monitored_session.py:246] Graph was finalized.\n"
     ]
    },
    {
     "name": "stdout",
     "output_type": "stream",
     "text": [
      "INFO:tensorflow:Restoring parameters from model/model.ckpt-13032\n"
     ]
    },
    {
     "name": "stderr",
     "output_type": "stream",
     "text": [
      "I0211 12:06:44.667654 4439444928 saver.py:1284] Restoring parameters from model/model.ckpt-13032\n"
     ]
    },
    {
     "name": "stdout",
     "output_type": "stream",
     "text": [
      "INFO:tensorflow:Running local_init_op.\n"
     ]
    },
    {
     "name": "stderr",
     "output_type": "stream",
     "text": [
      "I0211 12:06:44.878499 4439444928 session_manager.py:504] Running local_init_op.\n"
     ]
    },
    {
     "name": "stdout",
     "output_type": "stream",
     "text": [
      "INFO:tensorflow:Done running local_init_op.\n"
     ]
    },
    {
     "name": "stderr",
     "output_type": "stream",
     "text": [
      "I0211 12:06:44.959789 4439444928 session_manager.py:507] Done running local_init_op.\n"
     ]
    },
    {
     "name": "stdout",
     "output_type": "stream",
     "text": [
      "INFO:tensorflow:Inference Time : 1.90217s\n"
     ]
    },
    {
     "name": "stderr",
     "output_type": "stream",
     "text": [
      "I0211 12:06:46.515990 4439444928 evaluation.py:273] Inference Time : 1.90217s\n"
     ]
    },
    {
     "name": "stdout",
     "output_type": "stream",
     "text": [
      "INFO:tensorflow:Finished evaluation at 2020-02-11-12:06:46\n"
     ]
    },
    {
     "name": "stderr",
     "output_type": "stream",
     "text": [
      "I0211 12:06:46.516901 4439444928 evaluation.py:276] Finished evaluation at 2020-02-11-12:06:46\n"
     ]
    },
    {
     "name": "stdout",
     "output_type": "stream",
     "text": [
      "INFO:tensorflow:Saving dict for global step 13032: accuracy = 0.8437442, accuracy_baseline = 0.76377374, auc = 0.89426816, auc_precision_recall = 0.7400015, average_loss = 0.34276673, global_step = 13032, label/mean = 0.23622628, loss = 0.34264356, precision = 0.78157437, prediction/mean = 0.22560653, recall = 0.4698388\n"
     ]
    },
    {
     "name": "stderr",
     "output_type": "stream",
     "text": [
      "I0211 12:06:46.517739 4439444928 estimator.py:2053] Saving dict for global step 13032: accuracy = 0.8437442, accuracy_baseline = 0.76377374, auc = 0.89426816, auc_precision_recall = 0.7400015, average_loss = 0.34276673, global_step = 13032, label/mean = 0.23622628, loss = 0.34264356, precision = 0.78157437, prediction/mean = 0.22560653, recall = 0.4698388\n"
     ]
    },
    {
     "name": "stdout",
     "output_type": "stream",
     "text": [
      "INFO:tensorflow:Saving 'checkpoint_path' summary for global step 13032: model/model.ckpt-13032\n"
     ]
    },
    {
     "name": "stderr",
     "output_type": "stream",
     "text": [
      "I0211 12:06:46.518799 4439444928 estimator.py:2113] Saving 'checkpoint_path' summary for global step 13032: model/model.ckpt-13032\n"
     ]
    },
    {
     "name": "stdout",
     "output_type": "stream",
     "text": [
      "INFO:tensorflow:Results at epoch 16 / 40\n"
     ]
    },
    {
     "name": "stderr",
     "output_type": "stream",
     "text": [
      "I0211 12:06:46.519946 4439444928 <ipython-input-7-b40c302cf839>:76] Results at epoch 16 / 40\n"
     ]
    },
    {
     "name": "stdout",
     "output_type": "stream",
     "text": [
      "INFO:tensorflow:------------------------------------------------------------\n"
     ]
    },
    {
     "name": "stderr",
     "output_type": "stream",
     "text": [
      "I0211 12:06:46.520699 4439444928 <ipython-input-7-b40c302cf839>:77] ------------------------------------------------------------\n"
     ]
    },
    {
     "name": "stdout",
     "output_type": "stream",
     "text": [
      "INFO:tensorflow:accuracy: 0.8437442\n"
     ]
    },
    {
     "name": "stderr",
     "output_type": "stream",
     "text": [
      "I0211 12:06:46.521682 4439444928 <ipython-input-7-b40c302cf839>:80] accuracy: 0.8437442\n"
     ]
    },
    {
     "name": "stdout",
     "output_type": "stream",
     "text": [
      "INFO:tensorflow:accuracy_baseline: 0.76377374\n"
     ]
    },
    {
     "name": "stderr",
     "output_type": "stream",
     "text": [
      "I0211 12:06:46.522548 4439444928 <ipython-input-7-b40c302cf839>:80] accuracy_baseline: 0.76377374\n"
     ]
    },
    {
     "name": "stdout",
     "output_type": "stream",
     "text": [
      "INFO:tensorflow:auc: 0.89426816\n"
     ]
    },
    {
     "name": "stderr",
     "output_type": "stream",
     "text": [
      "I0211 12:06:46.523475 4439444928 <ipython-input-7-b40c302cf839>:80] auc: 0.89426816\n"
     ]
    },
    {
     "name": "stdout",
     "output_type": "stream",
     "text": [
      "INFO:tensorflow:auc_precision_recall: 0.7400015\n"
     ]
    },
    {
     "name": "stderr",
     "output_type": "stream",
     "text": [
      "I0211 12:06:46.524322 4439444928 <ipython-input-7-b40c302cf839>:80] auc_precision_recall: 0.7400015\n"
     ]
    },
    {
     "name": "stdout",
     "output_type": "stream",
     "text": [
      "INFO:tensorflow:average_loss: 0.34276673\n"
     ]
    },
    {
     "name": "stderr",
     "output_type": "stream",
     "text": [
      "I0211 12:06:46.525033 4439444928 <ipython-input-7-b40c302cf839>:80] average_loss: 0.34276673\n"
     ]
    },
    {
     "name": "stdout",
     "output_type": "stream",
     "text": [
      "INFO:tensorflow:global_step: 13032\n"
     ]
    },
    {
     "name": "stderr",
     "output_type": "stream",
     "text": [
      "I0211 12:06:46.525911 4439444928 <ipython-input-7-b40c302cf839>:80] global_step: 13032\n"
     ]
    },
    {
     "name": "stdout",
     "output_type": "stream",
     "text": [
      "INFO:tensorflow:label/mean: 0.23622628\n"
     ]
    },
    {
     "name": "stderr",
     "output_type": "stream",
     "text": [
      "I0211 12:06:46.526949 4439444928 <ipython-input-7-b40c302cf839>:80] label/mean: 0.23622628\n"
     ]
    },
    {
     "name": "stdout",
     "output_type": "stream",
     "text": [
      "INFO:tensorflow:loss: 0.34264356\n"
     ]
    },
    {
     "name": "stderr",
     "output_type": "stream",
     "text": [
      "I0211 12:06:46.528396 4439444928 <ipython-input-7-b40c302cf839>:80] loss: 0.34264356\n"
     ]
    },
    {
     "name": "stdout",
     "output_type": "stream",
     "text": [
      "INFO:tensorflow:precision: 0.78157437\n"
     ]
    },
    {
     "name": "stderr",
     "output_type": "stream",
     "text": [
      "I0211 12:06:46.529433 4439444928 <ipython-input-7-b40c302cf839>:80] precision: 0.78157437\n"
     ]
    },
    {
     "name": "stdout",
     "output_type": "stream",
     "text": [
      "INFO:tensorflow:prediction/mean: 0.22560653\n"
     ]
    },
    {
     "name": "stderr",
     "output_type": "stream",
     "text": [
      "I0211 12:06:46.530277 4439444928 <ipython-input-7-b40c302cf839>:80] prediction/mean: 0.22560653\n"
     ]
    },
    {
     "name": "stdout",
     "output_type": "stream",
     "text": [
      "INFO:tensorflow:recall: 0.4698388\n"
     ]
    },
    {
     "name": "stderr",
     "output_type": "stream",
     "text": [
      "I0211 12:06:46.531173 4439444928 <ipython-input-7-b40c302cf839>:80] recall: 0.4698388\n"
     ]
    },
    {
     "name": "stdout",
     "output_type": "stream",
     "text": [
      "INFO:tensorflow:Benchmark metric: {'name': 'accuracy', 'value': 0.8437442183494568, 'unit': None, 'global_step': 13032, 'timestamp': '2020-02-11T05:06:46.532062Z', 'extras': []}\n"
     ]
    },
    {
     "name": "stderr",
     "output_type": "stream",
     "text": [
      "I0211 12:06:46.532090 4439444928 logger.py:147] Benchmark metric: {'name': 'accuracy', 'value': 0.8437442183494568, 'unit': None, 'global_step': 13032, 'timestamp': '2020-02-11T05:06:46.532062Z', 'extras': []}\n"
     ]
    },
    {
     "name": "stdout",
     "output_type": "stream",
     "text": [
      "INFO:tensorflow:Benchmark metric: {'name': 'accuracy_baseline', 'value': 0.7637737393379211, 'unit': None, 'global_step': 13032, 'timestamp': '2020-02-11T05:06:46.532815Z', 'extras': []}\n"
     ]
    },
    {
     "name": "stderr",
     "output_type": "stream",
     "text": [
      "I0211 12:06:46.532841 4439444928 logger.py:147] Benchmark metric: {'name': 'accuracy_baseline', 'value': 0.7637737393379211, 'unit': None, 'global_step': 13032, 'timestamp': '2020-02-11T05:06:46.532815Z', 'extras': []}\n"
     ]
    },
    {
     "name": "stdout",
     "output_type": "stream",
     "text": [
      "INFO:tensorflow:Benchmark metric: {'name': 'auc', 'value': 0.8942681550979614, 'unit': None, 'global_step': 13032, 'timestamp': '2020-02-11T05:06:46.533676Z', 'extras': []}\n"
     ]
    },
    {
     "name": "stderr",
     "output_type": "stream",
     "text": [
      "I0211 12:06:46.533701 4439444928 logger.py:147] Benchmark metric: {'name': 'auc', 'value': 0.8942681550979614, 'unit': None, 'global_step': 13032, 'timestamp': '2020-02-11T05:06:46.533676Z', 'extras': []}\n"
     ]
    },
    {
     "name": "stdout",
     "output_type": "stream",
     "text": [
      "INFO:tensorflow:Benchmark metric: {'name': 'auc_precision_recall', 'value': 0.7400014996528625, 'unit': None, 'global_step': 13032, 'timestamp': '2020-02-11T05:06:46.534441Z', 'extras': []}\n"
     ]
    },
    {
     "name": "stderr",
     "output_type": "stream",
     "text": [
      "I0211 12:06:46.534462 4439444928 logger.py:147] Benchmark metric: {'name': 'auc_precision_recall', 'value': 0.7400014996528625, 'unit': None, 'global_step': 13032, 'timestamp': '2020-02-11T05:06:46.534441Z', 'extras': []}\n"
     ]
    },
    {
     "name": "stdout",
     "output_type": "stream",
     "text": [
      "INFO:tensorflow:Benchmark metric: {'name': 'average_loss', 'value': 0.34276673197746277, 'unit': None, 'global_step': 13032, 'timestamp': '2020-02-11T05:06:46.535141Z', 'extras': []}\n"
     ]
    },
    {
     "name": "stderr",
     "output_type": "stream",
     "text": [
      "I0211 12:06:46.535160 4439444928 logger.py:147] Benchmark metric: {'name': 'average_loss', 'value': 0.34276673197746277, 'unit': None, 'global_step': 13032, 'timestamp': '2020-02-11T05:06:46.535141Z', 'extras': []}\n"
     ]
    },
    {
     "name": "stdout",
     "output_type": "stream",
     "text": [
      "INFO:tensorflow:Benchmark metric: {'name': 'label/mean', 'value': 0.23622627556324005, 'unit': None, 'global_step': 13032, 'timestamp': '2020-02-11T05:06:46.535923Z', 'extras': []}\n"
     ]
    },
    {
     "name": "stderr",
     "output_type": "stream",
     "text": [
      "I0211 12:06:46.535947 4439444928 logger.py:147] Benchmark metric: {'name': 'label/mean', 'value': 0.23622627556324005, 'unit': None, 'global_step': 13032, 'timestamp': '2020-02-11T05:06:46.535923Z', 'extras': []}\n"
     ]
    },
    {
     "name": "stdout",
     "output_type": "stream",
     "text": [
      "INFO:tensorflow:Benchmark metric: {'name': 'loss', 'value': 0.3426435589790344, 'unit': None, 'global_step': 13032, 'timestamp': '2020-02-11T05:06:46.536604Z', 'extras': []}\n"
     ]
    },
    {
     "name": "stderr",
     "output_type": "stream",
     "text": [
      "I0211 12:06:46.536624 4439444928 logger.py:147] Benchmark metric: {'name': 'loss', 'value': 0.3426435589790344, 'unit': None, 'global_step': 13032, 'timestamp': '2020-02-11T05:06:46.536604Z', 'extras': []}\n"
     ]
    },
    {
     "name": "stdout",
     "output_type": "stream",
     "text": [
      "INFO:tensorflow:Benchmark metric: {'name': 'precision', 'value': 0.7815743684768677, 'unit': None, 'global_step': 13032, 'timestamp': '2020-02-11T05:06:46.537446Z', 'extras': []}\n"
     ]
    },
    {
     "name": "stderr",
     "output_type": "stream",
     "text": [
      "I0211 12:06:46.537468 4439444928 logger.py:147] Benchmark metric: {'name': 'precision', 'value': 0.7815743684768677, 'unit': None, 'global_step': 13032, 'timestamp': '2020-02-11T05:06:46.537446Z', 'extras': []}\n"
     ]
    },
    {
     "name": "stdout",
     "output_type": "stream",
     "text": [
      "INFO:tensorflow:Benchmark metric: {'name': 'prediction/mean', 'value': 0.2256065309047699, 'unit': None, 'global_step': 13032, 'timestamp': '2020-02-11T05:06:46.538329Z', 'extras': []}\n"
     ]
    },
    {
     "name": "stderr",
     "output_type": "stream",
     "text": [
      "I0211 12:06:46.538354 4439444928 logger.py:147] Benchmark metric: {'name': 'prediction/mean', 'value': 0.2256065309047699, 'unit': None, 'global_step': 13032, 'timestamp': '2020-02-11T05:06:46.538329Z', 'extras': []}\n"
     ]
    },
    {
     "name": "stdout",
     "output_type": "stream",
     "text": [
      "INFO:tensorflow:Benchmark metric: {'name': 'recall', 'value': 0.46983879804611206, 'unit': None, 'global_step': 13032, 'timestamp': '2020-02-11T05:06:46.539930Z', 'extras': []}\n"
     ]
    },
    {
     "name": "stderr",
     "output_type": "stream",
     "text": [
      "I0211 12:06:46.539992 4439444928 logger.py:147] Benchmark metric: {'name': 'recall', 'value': 0.46983879804611206, 'unit': None, 'global_step': 13032, 'timestamp': '2020-02-11T05:06:46.539930Z', 'extras': []}\n"
     ]
    },
    {
     "name": "stdout",
     "output_type": "stream",
     "text": [
      "INFO:tensorflow:Parsing data/adult.data\n"
     ]
    },
    {
     "name": "stderr",
     "output_type": "stream",
     "text": [
      "I0211 12:06:46.565927 4439444928 api.py:332] Parsing data/adult.data\n"
     ]
    },
    {
     "name": "stdout",
     "output_type": "stream",
     "text": [
      "INFO:tensorflow:Calling model_fn.\n"
     ]
    },
    {
     "name": "stderr",
     "output_type": "stream",
     "text": [
      "I0211 12:06:46.590842 4439444928 estimator.py:1151] Calling model_fn.\n"
     ]
    },
    {
     "name": "stdout",
     "output_type": "stream",
     "text": [
      "INFO:tensorflow:Done calling model_fn.\n"
     ]
    },
    {
     "name": "stderr",
     "output_type": "stream",
     "text": [
      "I0211 12:06:47.537424 4439444928 estimator.py:1153] Done calling model_fn.\n"
     ]
    },
    {
     "name": "stdout",
     "output_type": "stream",
     "text": [
      "INFO:tensorflow:Create CheckpointSaverHook.\n"
     ]
    },
    {
     "name": "stderr",
     "output_type": "stream",
     "text": [
      "I0211 12:06:47.538565 4439444928 basic_session_run_hooks.py:546] Create CheckpointSaverHook.\n"
     ]
    },
    {
     "name": "stdout",
     "output_type": "stream",
     "text": [
      "INFO:tensorflow:Graph was finalized.\n"
     ]
    },
    {
     "name": "stderr",
     "output_type": "stream",
     "text": [
      "I0211 12:06:47.621258 4439444928 monitored_session.py:246] Graph was finalized.\n"
     ]
    },
    {
     "name": "stdout",
     "output_type": "stream",
     "text": [
      "INFO:tensorflow:Restoring parameters from model/model.ckpt-13032\n"
     ]
    },
    {
     "name": "stderr",
     "output_type": "stream",
     "text": [
      "I0211 12:06:47.624028 4439444928 saver.py:1284] Restoring parameters from model/model.ckpt-13032\n"
     ]
    },
    {
     "name": "stdout",
     "output_type": "stream",
     "text": [
      "INFO:tensorflow:Running local_init_op.\n"
     ]
    },
    {
     "name": "stderr",
     "output_type": "stream",
     "text": [
      "I0211 12:06:47.825677 4439444928 session_manager.py:504] Running local_init_op.\n"
     ]
    },
    {
     "name": "stdout",
     "output_type": "stream",
     "text": [
      "INFO:tensorflow:Done running local_init_op.\n"
     ]
    },
    {
     "name": "stderr",
     "output_type": "stream",
     "text": [
      "I0211 12:06:47.873575 4439444928 session_manager.py:507] Done running local_init_op.\n"
     ]
    },
    {
     "name": "stdout",
     "output_type": "stream",
     "text": [
      "INFO:tensorflow:Saving checkpoints for 13032 into model/model.ckpt.\n"
     ]
    },
    {
     "name": "stderr",
     "output_type": "stream",
     "text": [
      "I0211 12:06:48.747332 4439444928 basic_session_run_hooks.py:613] Saving checkpoints for 13032 into model/model.ckpt.\n"
     ]
    },
    {
     "name": "stdout",
     "output_type": "stream",
     "text": [
      "INFO:tensorflow:loss = 0.40340486, step = 13032\n"
     ]
    },
    {
     "name": "stderr",
     "output_type": "stream",
     "text": [
      "I0211 12:06:49.710173 4439444928 basic_session_run_hooks.py:262] loss = 0.40340486, step = 13032\n"
     ]
    },
    {
     "name": "stdout",
     "output_type": "stream",
     "text": [
      "INFO:tensorflow:global_step/sec: 150.269\n"
     ]
    },
    {
     "name": "stderr",
     "output_type": "stream",
     "text": [
      "I0211 12:06:50.375343 4439444928 basic_session_run_hooks.py:700] global_step/sec: 150.269\n"
     ]
    },
    {
     "name": "stdout",
     "output_type": "stream",
     "text": [
      "INFO:tensorflow:loss = 0.37352785, step = 13132 (0.666 sec)\n"
     ]
    },
    {
     "name": "stderr",
     "output_type": "stream",
     "text": [
      "I0211 12:06:50.376554 4439444928 basic_session_run_hooks.py:260] loss = 0.37352785, step = 13132 (0.666 sec)\n"
     ]
    },
    {
     "name": "stdout",
     "output_type": "stream",
     "text": [
      "INFO:tensorflow:global_step/sec: 520.391\n"
     ]
    },
    {
     "name": "stderr",
     "output_type": "stream",
     "text": [
      "I0211 12:06:50.567491 4439444928 basic_session_run_hooks.py:700] global_step/sec: 520.391\n"
     ]
    },
    {
     "name": "stdout",
     "output_type": "stream",
     "text": [
      "INFO:tensorflow:loss = 0.17779174, step = 13232 (0.192 sec)\n"
     ]
    },
    {
     "name": "stderr",
     "output_type": "stream",
     "text": [
      "I0211 12:06:50.568798 4439444928 basic_session_run_hooks.py:260] loss = 0.17779174, step = 13232 (0.192 sec)\n"
     ]
    },
    {
     "name": "stdout",
     "output_type": "stream",
     "text": [
      "INFO:tensorflow:global_step/sec: 523.41\n"
     ]
    },
    {
     "name": "stderr",
     "output_type": "stream",
     "text": [
      "I0211 12:06:50.758512 4439444928 basic_session_run_hooks.py:700] global_step/sec: 523.41\n"
     ]
    },
    {
     "name": "stdout",
     "output_type": "stream",
     "text": [
      "INFO:tensorflow:loss = 0.33645475, step = 13332 (0.191 sec)\n"
     ]
    },
    {
     "name": "stderr",
     "output_type": "stream",
     "text": [
      "I0211 12:06:50.759795 4439444928 basic_session_run_hooks.py:260] loss = 0.33645475, step = 13332 (0.191 sec)\n"
     ]
    },
    {
     "name": "stdout",
     "output_type": "stream",
     "text": [
      "INFO:tensorflow:global_step/sec: 512.311\n"
     ]
    },
    {
     "name": "stderr",
     "output_type": "stream",
     "text": [
      "I0211 12:06:50.953733 4439444928 basic_session_run_hooks.py:700] global_step/sec: 512.311\n"
     ]
    },
    {
     "name": "stdout",
     "output_type": "stream",
     "text": [
      "INFO:tensorflow:loss = 0.33829212, step = 13432 (0.195 sec)\n"
     ]
    },
    {
     "name": "stderr",
     "output_type": "stream",
     "text": [
      "I0211 12:06:50.955031 4439444928 basic_session_run_hooks.py:260] loss = 0.33829212, step = 13432 (0.195 sec)\n"
     ]
    },
    {
     "name": "stdout",
     "output_type": "stream",
     "text": [
      "INFO:tensorflow:global_step/sec: 519.896\n"
     ]
    },
    {
     "name": "stderr",
     "output_type": "stream",
     "text": [
      "I0211 12:06:51.146054 4439444928 basic_session_run_hooks.py:700] global_step/sec: 519.896\n"
     ]
    },
    {
     "name": "stdout",
     "output_type": "stream",
     "text": [
      "INFO:tensorflow:loss = 0.24629848, step = 13532 (0.192 sec)\n"
     ]
    },
    {
     "name": "stderr",
     "output_type": "stream",
     "text": [
      "I0211 12:06:51.147354 4439444928 basic_session_run_hooks.py:260] loss = 0.24629848, step = 13532 (0.192 sec)\n"
     ]
    },
    {
     "name": "stdout",
     "output_type": "stream",
     "text": [
      "INFO:tensorflow:global_step/sec: 513.394\n"
     ]
    },
    {
     "name": "stderr",
     "output_type": "stream",
     "text": [
      "I0211 12:06:51.340866 4439444928 basic_session_run_hooks.py:700] global_step/sec: 513.394\n"
     ]
    },
    {
     "name": "stdout",
     "output_type": "stream",
     "text": [
      "INFO:tensorflow:loss = 0.21099071, step = 13632 (0.195 sec)\n"
     ]
    },
    {
     "name": "stderr",
     "output_type": "stream",
     "text": [
      "I0211 12:06:51.342221 4439444928 basic_session_run_hooks.py:260] loss = 0.21099071, step = 13632 (0.195 sec)\n"
     ]
    },
    {
     "name": "stdout",
     "output_type": "stream",
     "text": [
      "INFO:tensorflow:global_step/sec: 504.127\n"
     ]
    },
    {
     "name": "stderr",
     "output_type": "stream",
     "text": [
      "I0211 12:06:51.539201 4439444928 basic_session_run_hooks.py:700] global_step/sec: 504.127\n"
     ]
    },
    {
     "name": "stdout",
     "output_type": "stream",
     "text": [
      "INFO:tensorflow:loss = 0.38315976, step = 13732 (0.198 sec)\n"
     ]
    },
    {
     "name": "stderr",
     "output_type": "stream",
     "text": [
      "I0211 12:06:51.540475 4439444928 basic_session_run_hooks.py:260] loss = 0.38315976, step = 13732 (0.198 sec)\n"
     ]
    },
    {
     "name": "stdout",
     "output_type": "stream",
     "text": [
      "INFO:tensorflow:global_step/sec: 497.697\n"
     ]
    },
    {
     "name": "stderr",
     "output_type": "stream",
     "text": [
      "I0211 12:06:51.740123 4439444928 basic_session_run_hooks.py:700] global_step/sec: 497.697\n"
     ]
    },
    {
     "name": "stdout",
     "output_type": "stream",
     "text": [
      "INFO:tensorflow:loss = 0.39522287, step = 13832 (0.201 sec)\n"
     ]
    },
    {
     "name": "stderr",
     "output_type": "stream",
     "text": [
      "I0211 12:06:51.741380 4439444928 basic_session_run_hooks.py:260] loss = 0.39522287, step = 13832 (0.201 sec)\n"
     ]
    },
    {
     "name": "stdout",
     "output_type": "stream",
     "text": [
      "INFO:tensorflow:global_step/sec: 391.274\n"
     ]
    },
    {
     "name": "stderr",
     "output_type": "stream",
     "text": [
      "I0211 12:06:51.995697 4439444928 basic_session_run_hooks.py:700] global_step/sec: 391.274\n"
     ]
    },
    {
     "name": "stdout",
     "output_type": "stream",
     "text": [
      "INFO:tensorflow:loss = 0.21831739, step = 13932 (0.256 sec)\n"
     ]
    },
    {
     "name": "stderr",
     "output_type": "stream",
     "text": [
      "I0211 12:06:51.996977 4439444928 basic_session_run_hooks.py:260] loss = 0.21831739, step = 13932 (0.256 sec)\n"
     ]
    },
    {
     "name": "stdout",
     "output_type": "stream",
     "text": [
      "INFO:tensorflow:global_step/sec: 440.482\n"
     ]
    },
    {
     "name": "stderr",
     "output_type": "stream",
     "text": [
      "I0211 12:06:52.222742 4439444928 basic_session_run_hooks.py:700] global_step/sec: 440.482\n"
     ]
    },
    {
     "name": "stdout",
     "output_type": "stream",
     "text": [
      "INFO:tensorflow:loss = 0.89218557, step = 14032 (0.227 sec)\n"
     ]
    },
    {
     "name": "stderr",
     "output_type": "stream",
     "text": [
      "I0211 12:06:52.224264 4439444928 basic_session_run_hooks.py:260] loss = 0.89218557, step = 14032 (0.227 sec)\n"
     ]
    },
    {
     "name": "stdout",
     "output_type": "stream",
     "text": [
      "INFO:tensorflow:global_step/sec: 452.298\n"
     ]
    },
    {
     "name": "stderr",
     "output_type": "stream",
     "text": [
      "I0211 12:06:52.443822 4439444928 basic_session_run_hooks.py:700] global_step/sec: 452.298\n"
     ]
    },
    {
     "name": "stdout",
     "output_type": "stream",
     "text": [
      "INFO:tensorflow:loss = 0.46340162, step = 14132 (0.221 sec)\n"
     ]
    },
    {
     "name": "stderr",
     "output_type": "stream",
     "text": [
      "I0211 12:06:52.445156 4439444928 basic_session_run_hooks.py:260] loss = 0.46340162, step = 14132 (0.221 sec)\n"
     ]
    },
    {
     "name": "stdout",
     "output_type": "stream",
     "text": [
      "INFO:tensorflow:global_step/sec: 509.99\n"
     ]
    },
    {
     "name": "stderr",
     "output_type": "stream",
     "text": [
      "I0211 12:06:52.639900 4439444928 basic_session_run_hooks.py:700] global_step/sec: 509.99\n"
     ]
    },
    {
     "name": "stdout",
     "output_type": "stream",
     "text": [
      "INFO:tensorflow:loss = 0.88158035, step = 14232 (0.196 sec)\n"
     ]
    },
    {
     "name": "stderr",
     "output_type": "stream",
     "text": [
      "I0211 12:06:52.641191 4439444928 basic_session_run_hooks.py:260] loss = 0.88158035, step = 14232 (0.196 sec)\n"
     ]
    },
    {
     "name": "stdout",
     "output_type": "stream",
     "text": [
      "INFO:tensorflow:global_step/sec: 506.145\n"
     ]
    },
    {
     "name": "stderr",
     "output_type": "stream",
     "text": [
      "I0211 12:06:52.837502 4439444928 basic_session_run_hooks.py:700] global_step/sec: 506.145\n"
     ]
    },
    {
     "name": "stdout",
     "output_type": "stream",
     "text": [
      "INFO:tensorflow:loss = 0.36743665, step = 14332 (0.198 sec)\n"
     ]
    },
    {
     "name": "stderr",
     "output_type": "stream",
     "text": [
      "I0211 12:06:52.838891 4439444928 basic_session_run_hooks.py:260] loss = 0.36743665, step = 14332 (0.198 sec)\n"
     ]
    },
    {
     "name": "stdout",
     "output_type": "stream",
     "text": [
      "INFO:tensorflow:global_step/sec: 504.121\n"
     ]
    },
    {
     "name": "stderr",
     "output_type": "stream",
     "text": [
      "I0211 12:06:53.035851 4439444928 basic_session_run_hooks.py:700] global_step/sec: 504.121\n"
     ]
    },
    {
     "name": "stdout",
     "output_type": "stream",
     "text": [
      "INFO:tensorflow:loss = 0.44157067, step = 14432 (0.198 sec)\n"
     ]
    },
    {
     "name": "stderr",
     "output_type": "stream",
     "text": [
      "I0211 12:06:53.037153 4439444928 basic_session_run_hooks.py:260] loss = 0.44157067, step = 14432 (0.198 sec)\n"
     ]
    },
    {
     "name": "stdout",
     "output_type": "stream",
     "text": [
      "INFO:tensorflow:global_step/sec: 506.114\n"
     ]
    },
    {
     "name": "stderr",
     "output_type": "stream",
     "text": [
      "I0211 12:06:53.233420 4439444928 basic_session_run_hooks.py:700] global_step/sec: 506.114\n"
     ]
    },
    {
     "name": "stdout",
     "output_type": "stream",
     "text": [
      "INFO:tensorflow:loss = 0.3565476, step = 14532 (0.198 sec)\n"
     ]
    },
    {
     "name": "stderr",
     "output_type": "stream",
     "text": [
      "I0211 12:06:53.234722 4439444928 basic_session_run_hooks.py:260] loss = 0.3565476, step = 14532 (0.198 sec)\n"
     ]
    },
    {
     "name": "stdout",
     "output_type": "stream",
     "text": [
      "INFO:tensorflow:global_step/sec: 490.314\n"
     ]
    },
    {
     "name": "stderr",
     "output_type": "stream",
     "text": [
      "I0211 12:06:53.437372 4439444928 basic_session_run_hooks.py:700] global_step/sec: 490.314\n"
     ]
    },
    {
     "name": "stdout",
     "output_type": "stream",
     "text": [
      "INFO:tensorflow:loss = 0.40066227, step = 14632 (0.204 sec)\n"
     ]
    },
    {
     "name": "stderr",
     "output_type": "stream",
     "text": [
      "I0211 12:06:53.438694 4439444928 basic_session_run_hooks.py:260] loss = 0.40066227, step = 14632 (0.204 sec)\n"
     ]
    },
    {
     "name": "stdout",
     "output_type": "stream",
     "text": [
      "INFO:tensorflow:Saving checkpoints for 14661 into model/model.ckpt.\n"
     ]
    },
    {
     "name": "stderr",
     "output_type": "stream",
     "text": [
      "I0211 12:06:53.499736 4439444928 basic_session_run_hooks.py:613] Saving checkpoints for 14661 into model/model.ckpt.\n"
     ]
    },
    {
     "name": "stdout",
     "output_type": "stream",
     "text": [
      "INFO:tensorflow:Loss for final step: 0.3974553.\n"
     ]
    },
    {
     "name": "stderr",
     "output_type": "stream",
     "text": [
      "I0211 12:06:53.666493 4439444928 estimator.py:375] Loss for final step: 0.3974553.\n"
     ]
    },
    {
     "name": "stdout",
     "output_type": "stream",
     "text": [
      "INFO:tensorflow:Parsing data/adult.test\n"
     ]
    },
    {
     "name": "stderr",
     "output_type": "stream",
     "text": [
      "I0211 12:06:53.676832 4439444928 api.py:332] Parsing data/adult.test\n"
     ]
    },
    {
     "name": "stdout",
     "output_type": "stream",
     "text": [
      "INFO:tensorflow:Calling model_fn.\n"
     ]
    },
    {
     "name": "stderr",
     "output_type": "stream",
     "text": [
      "I0211 12:06:53.695795 4439444928 estimator.py:1151] Calling model_fn.\n"
     ]
    },
    {
     "name": "stdout",
     "output_type": "stream",
     "text": [
      "INFO:tensorflow:Done calling model_fn.\n"
     ]
    },
    {
     "name": "stderr",
     "output_type": "stream",
     "text": [
      "I0211 12:06:54.780179 4439444928 estimator.py:1153] Done calling model_fn.\n"
     ]
    },
    {
     "name": "stdout",
     "output_type": "stream",
     "text": [
      "INFO:tensorflow:Starting evaluation at 2020-02-11T12:06:54Z\n"
     ]
    },
    {
     "name": "stderr",
     "output_type": "stream",
     "text": [
      "I0211 12:06:54.794649 4439444928 evaluation.py:255] Starting evaluation at 2020-02-11T12:06:54Z\n"
     ]
    },
    {
     "name": "stdout",
     "output_type": "stream",
     "text": [
      "INFO:tensorflow:Graph was finalized.\n"
     ]
    },
    {
     "name": "stderr",
     "output_type": "stream",
     "text": [
      "I0211 12:06:54.845026 4439444928 monitored_session.py:246] Graph was finalized.\n"
     ]
    },
    {
     "name": "stdout",
     "output_type": "stream",
     "text": [
      "INFO:tensorflow:Restoring parameters from model/model.ckpt-14661\n"
     ]
    },
    {
     "name": "stderr",
     "output_type": "stream",
     "text": [
      "I0211 12:06:54.847100 4439444928 saver.py:1284] Restoring parameters from model/model.ckpt-14661\n"
     ]
    },
    {
     "name": "stdout",
     "output_type": "stream",
     "text": [
      "INFO:tensorflow:Running local_init_op.\n"
     ]
    },
    {
     "name": "stderr",
     "output_type": "stream",
     "text": [
      "I0211 12:06:55.057070 4439444928 session_manager.py:504] Running local_init_op.\n"
     ]
    },
    {
     "name": "stdout",
     "output_type": "stream",
     "text": [
      "INFO:tensorflow:Done running local_init_op.\n"
     ]
    },
    {
     "name": "stderr",
     "output_type": "stream",
     "text": [
      "I0211 12:06:55.137449 4439444928 session_manager.py:507] Done running local_init_op.\n"
     ]
    },
    {
     "name": "stdout",
     "output_type": "stream",
     "text": [
      "INFO:tensorflow:Inference Time : 1.81553s\n"
     ]
    },
    {
     "name": "stderr",
     "output_type": "stream",
     "text": [
      "I0211 12:06:56.611176 4439444928 evaluation.py:273] Inference Time : 1.81553s\n"
     ]
    },
    {
     "name": "stdout",
     "output_type": "stream",
     "text": [
      "INFO:tensorflow:Finished evaluation at 2020-02-11-12:06:56\n"
     ]
    },
    {
     "name": "stderr",
     "output_type": "stream",
     "text": [
      "I0211 12:06:56.612101 4439444928 evaluation.py:276] Finished evaluation at 2020-02-11-12:06:56\n"
     ]
    },
    {
     "name": "stdout",
     "output_type": "stream",
     "text": [
      "INFO:tensorflow:Saving dict for global step 14661: accuracy = 0.8199742, accuracy_baseline = 0.76377374, auc = 0.8241689, auc_precision_recall = 0.6315515, average_loss = 0.41429132, global_step = 14661, label/mean = 0.23622628, loss = 0.4138713, precision = 0.70786005, prediction/mean = 0.21689261, recall = 0.4050962\n"
     ]
    },
    {
     "name": "stderr",
     "output_type": "stream",
     "text": [
      "I0211 12:06:56.612975 4439444928 estimator.py:2053] Saving dict for global step 14661: accuracy = 0.8199742, accuracy_baseline = 0.76377374, auc = 0.8241689, auc_precision_recall = 0.6315515, average_loss = 0.41429132, global_step = 14661, label/mean = 0.23622628, loss = 0.4138713, precision = 0.70786005, prediction/mean = 0.21689261, recall = 0.4050962\n"
     ]
    },
    {
     "name": "stdout",
     "output_type": "stream",
     "text": [
      "INFO:tensorflow:Saving 'checkpoint_path' summary for global step 14661: model/model.ckpt-14661\n"
     ]
    },
    {
     "name": "stderr",
     "output_type": "stream",
     "text": [
      "I0211 12:06:56.614059 4439444928 estimator.py:2113] Saving 'checkpoint_path' summary for global step 14661: model/model.ckpt-14661\n"
     ]
    },
    {
     "name": "stdout",
     "output_type": "stream",
     "text": [
      "INFO:tensorflow:Results at epoch 18 / 40\n"
     ]
    },
    {
     "name": "stderr",
     "output_type": "stream",
     "text": [
      "I0211 12:06:56.615180 4439444928 <ipython-input-7-b40c302cf839>:76] Results at epoch 18 / 40\n"
     ]
    },
    {
     "name": "stdout",
     "output_type": "stream",
     "text": [
      "INFO:tensorflow:------------------------------------------------------------\n"
     ]
    },
    {
     "name": "stderr",
     "output_type": "stream",
     "text": [
      "I0211 12:06:56.615998 4439444928 <ipython-input-7-b40c302cf839>:77] ------------------------------------------------------------\n"
     ]
    },
    {
     "name": "stdout",
     "output_type": "stream",
     "text": [
      "INFO:tensorflow:accuracy: 0.8199742\n"
     ]
    },
    {
     "name": "stderr",
     "output_type": "stream",
     "text": [
      "I0211 12:06:56.616638 4439444928 <ipython-input-7-b40c302cf839>:80] accuracy: 0.8199742\n"
     ]
    },
    {
     "name": "stdout",
     "output_type": "stream",
     "text": [
      "INFO:tensorflow:accuracy_baseline: 0.76377374\n"
     ]
    },
    {
     "name": "stderr",
     "output_type": "stream",
     "text": [
      "I0211 12:06:56.617439 4439444928 <ipython-input-7-b40c302cf839>:80] accuracy_baseline: 0.76377374\n"
     ]
    },
    {
     "name": "stdout",
     "output_type": "stream",
     "text": [
      "INFO:tensorflow:auc: 0.8241689\n"
     ]
    },
    {
     "name": "stderr",
     "output_type": "stream",
     "text": [
      "I0211 12:06:56.618083 4439444928 <ipython-input-7-b40c302cf839>:80] auc: 0.8241689\n"
     ]
    },
    {
     "name": "stdout",
     "output_type": "stream",
     "text": [
      "INFO:tensorflow:auc_precision_recall: 0.6315515\n"
     ]
    },
    {
     "name": "stderr",
     "output_type": "stream",
     "text": [
      "I0211 12:06:56.618895 4439444928 <ipython-input-7-b40c302cf839>:80] auc_precision_recall: 0.6315515\n"
     ]
    },
    {
     "name": "stdout",
     "output_type": "stream",
     "text": [
      "INFO:tensorflow:average_loss: 0.41429132\n"
     ]
    },
    {
     "name": "stderr",
     "output_type": "stream",
     "text": [
      "I0211 12:06:56.619804 4439444928 <ipython-input-7-b40c302cf839>:80] average_loss: 0.41429132\n"
     ]
    },
    {
     "name": "stdout",
     "output_type": "stream",
     "text": [
      "INFO:tensorflow:global_step: 14661\n"
     ]
    },
    {
     "name": "stderr",
     "output_type": "stream",
     "text": [
      "I0211 12:06:56.620484 4439444928 <ipython-input-7-b40c302cf839>:80] global_step: 14661\n"
     ]
    },
    {
     "name": "stdout",
     "output_type": "stream",
     "text": [
      "INFO:tensorflow:label/mean: 0.23622628\n"
     ]
    },
    {
     "name": "stderr",
     "output_type": "stream",
     "text": [
      "I0211 12:06:56.621032 4439444928 <ipython-input-7-b40c302cf839>:80] label/mean: 0.23622628\n"
     ]
    },
    {
     "name": "stdout",
     "output_type": "stream",
     "text": [
      "INFO:tensorflow:loss: 0.4138713\n"
     ]
    },
    {
     "name": "stderr",
     "output_type": "stream",
     "text": [
      "I0211 12:06:56.621601 4439444928 <ipython-input-7-b40c302cf839>:80] loss: 0.4138713\n"
     ]
    },
    {
     "name": "stdout",
     "output_type": "stream",
     "text": [
      "INFO:tensorflow:precision: 0.70786005\n"
     ]
    },
    {
     "name": "stderr",
     "output_type": "stream",
     "text": [
      "I0211 12:06:56.622299 4439444928 <ipython-input-7-b40c302cf839>:80] precision: 0.70786005\n"
     ]
    },
    {
     "name": "stdout",
     "output_type": "stream",
     "text": [
      "INFO:tensorflow:prediction/mean: 0.21689261\n"
     ]
    },
    {
     "name": "stderr",
     "output_type": "stream",
     "text": [
      "I0211 12:06:56.622917 4439444928 <ipython-input-7-b40c302cf839>:80] prediction/mean: 0.21689261\n"
     ]
    },
    {
     "name": "stdout",
     "output_type": "stream",
     "text": [
      "INFO:tensorflow:recall: 0.4050962\n"
     ]
    },
    {
     "name": "stderr",
     "output_type": "stream",
     "text": [
      "I0211 12:06:56.623605 4439444928 <ipython-input-7-b40c302cf839>:80] recall: 0.4050962\n"
     ]
    },
    {
     "name": "stdout",
     "output_type": "stream",
     "text": [
      "INFO:tensorflow:Benchmark metric: {'name': 'accuracy', 'value': 0.8199741840362549, 'unit': None, 'global_step': 14661, 'timestamp': '2020-02-11T05:06:56.624320Z', 'extras': []}\n"
     ]
    },
    {
     "name": "stderr",
     "output_type": "stream",
     "text": [
      "I0211 12:06:56.624345 4439444928 logger.py:147] Benchmark metric: {'name': 'accuracy', 'value': 0.8199741840362549, 'unit': None, 'global_step': 14661, 'timestamp': '2020-02-11T05:06:56.624320Z', 'extras': []}\n"
     ]
    },
    {
     "name": "stdout",
     "output_type": "stream",
     "text": [
      "INFO:tensorflow:Benchmark metric: {'name': 'accuracy_baseline', 'value': 0.7637737393379211, 'unit': None, 'global_step': 14661, 'timestamp': '2020-02-11T05:06:56.625116Z', 'extras': []}\n"
     ]
    },
    {
     "name": "stderr",
     "output_type": "stream",
     "text": [
      "I0211 12:06:56.625133 4439444928 logger.py:147] Benchmark metric: {'name': 'accuracy_baseline', 'value': 0.7637737393379211, 'unit': None, 'global_step': 14661, 'timestamp': '2020-02-11T05:06:56.625116Z', 'extras': []}\n"
     ]
    },
    {
     "name": "stdout",
     "output_type": "stream",
     "text": [
      "INFO:tensorflow:Benchmark metric: {'name': 'auc', 'value': 0.8241689205169678, 'unit': None, 'global_step': 14661, 'timestamp': '2020-02-11T05:06:56.625718Z', 'extras': []}\n"
     ]
    },
    {
     "name": "stderr",
     "output_type": "stream",
     "text": [
      "I0211 12:06:56.625735 4439444928 logger.py:147] Benchmark metric: {'name': 'auc', 'value': 0.8241689205169678, 'unit': None, 'global_step': 14661, 'timestamp': '2020-02-11T05:06:56.625718Z', 'extras': []}\n"
     ]
    },
    {
     "name": "stdout",
     "output_type": "stream",
     "text": [
      "INFO:tensorflow:Benchmark metric: {'name': 'auc_precision_recall', 'value': 0.6315515041351318, 'unit': None, 'global_step': 14661, 'timestamp': '2020-02-11T05:06:56.626493Z', 'extras': []}\n"
     ]
    },
    {
     "name": "stderr",
     "output_type": "stream",
     "text": [
      "I0211 12:06:56.626513 4439444928 logger.py:147] Benchmark metric: {'name': 'auc_precision_recall', 'value': 0.6315515041351318, 'unit': None, 'global_step': 14661, 'timestamp': '2020-02-11T05:06:56.626493Z', 'extras': []}\n"
     ]
    },
    {
     "name": "stdout",
     "output_type": "stream",
     "text": [
      "INFO:tensorflow:Benchmark metric: {'name': 'average_loss', 'value': 0.4142913222312927, 'unit': None, 'global_step': 14661, 'timestamp': '2020-02-11T05:06:56.627261Z', 'extras': []}\n"
     ]
    },
    {
     "name": "stderr",
     "output_type": "stream",
     "text": [
      "I0211 12:06:56.627279 4439444928 logger.py:147] Benchmark metric: {'name': 'average_loss', 'value': 0.4142913222312927, 'unit': None, 'global_step': 14661, 'timestamp': '2020-02-11T05:06:56.627261Z', 'extras': []}\n"
     ]
    },
    {
     "name": "stdout",
     "output_type": "stream",
     "text": [
      "INFO:tensorflow:Benchmark metric: {'name': 'label/mean', 'value': 0.23622627556324005, 'unit': None, 'global_step': 14661, 'timestamp': '2020-02-11T05:06:56.628103Z', 'extras': []}\n"
     ]
    },
    {
     "name": "stderr",
     "output_type": "stream",
     "text": [
      "I0211 12:06:56.628122 4439444928 logger.py:147] Benchmark metric: {'name': 'label/mean', 'value': 0.23622627556324005, 'unit': None, 'global_step': 14661, 'timestamp': '2020-02-11T05:06:56.628103Z', 'extras': []}\n"
     ]
    },
    {
     "name": "stdout",
     "output_type": "stream",
     "text": [
      "INFO:tensorflow:Benchmark metric: {'name': 'loss', 'value': 0.41387128829956055, 'unit': None, 'global_step': 14661, 'timestamp': '2020-02-11T05:06:56.628762Z', 'extras': []}\n"
     ]
    },
    {
     "name": "stderr",
     "output_type": "stream",
     "text": [
      "I0211 12:06:56.628782 4439444928 logger.py:147] Benchmark metric: {'name': 'loss', 'value': 0.41387128829956055, 'unit': None, 'global_step': 14661, 'timestamp': '2020-02-11T05:06:56.628762Z', 'extras': []}\n"
     ]
    },
    {
     "name": "stdout",
     "output_type": "stream",
     "text": [
      "INFO:tensorflow:Benchmark metric: {'name': 'precision', 'value': 0.7078600525856018, 'unit': None, 'global_step': 14661, 'timestamp': '2020-02-11T05:06:56.629521Z', 'extras': []}\n"
     ]
    },
    {
     "name": "stderr",
     "output_type": "stream",
     "text": [
      "I0211 12:06:56.629544 4439444928 logger.py:147] Benchmark metric: {'name': 'precision', 'value': 0.7078600525856018, 'unit': None, 'global_step': 14661, 'timestamp': '2020-02-11T05:06:56.629521Z', 'extras': []}\n"
     ]
    },
    {
     "name": "stdout",
     "output_type": "stream",
     "text": [
      "INFO:tensorflow:Benchmark metric: {'name': 'prediction/mean', 'value': 0.21689261496067047, 'unit': None, 'global_step': 14661, 'timestamp': '2020-02-11T05:06:56.630336Z', 'extras': []}\n"
     ]
    },
    {
     "name": "stderr",
     "output_type": "stream",
     "text": [
      "I0211 12:06:56.630357 4439444928 logger.py:147] Benchmark metric: {'name': 'prediction/mean', 'value': 0.21689261496067047, 'unit': None, 'global_step': 14661, 'timestamp': '2020-02-11T05:06:56.630336Z', 'extras': []}\n"
     ]
    },
    {
     "name": "stdout",
     "output_type": "stream",
     "text": [
      "INFO:tensorflow:Benchmark metric: {'name': 'recall', 'value': 0.4050962030887604, 'unit': None, 'global_step': 14661, 'timestamp': '2020-02-11T05:06:56.630961Z', 'extras': []}\n"
     ]
    },
    {
     "name": "stderr",
     "output_type": "stream",
     "text": [
      "I0211 12:06:56.630980 4439444928 logger.py:147] Benchmark metric: {'name': 'recall', 'value': 0.4050962030887604, 'unit': None, 'global_step': 14661, 'timestamp': '2020-02-11T05:06:56.630961Z', 'extras': []}\n"
     ]
    },
    {
     "name": "stdout",
     "output_type": "stream",
     "text": [
      "INFO:tensorflow:Parsing data/adult.data\n"
     ]
    },
    {
     "name": "stderr",
     "output_type": "stream",
     "text": [
      "I0211 12:06:56.653676 4439444928 api.py:332] Parsing data/adult.data\n"
     ]
    },
    {
     "name": "stdout",
     "output_type": "stream",
     "text": [
      "INFO:tensorflow:Calling model_fn.\n"
     ]
    },
    {
     "name": "stderr",
     "output_type": "stream",
     "text": [
      "I0211 12:06:56.679980 4439444928 estimator.py:1151] Calling model_fn.\n"
     ]
    },
    {
     "name": "stdout",
     "output_type": "stream",
     "text": [
      "INFO:tensorflow:Done calling model_fn.\n"
     ]
    },
    {
     "name": "stderr",
     "output_type": "stream",
     "text": [
      "I0211 12:06:57.468616 4439444928 estimator.py:1153] Done calling model_fn.\n"
     ]
    },
    {
     "name": "stdout",
     "output_type": "stream",
     "text": [
      "INFO:tensorflow:Create CheckpointSaverHook.\n"
     ]
    },
    {
     "name": "stderr",
     "output_type": "stream",
     "text": [
      "I0211 12:06:57.469794 4439444928 basic_session_run_hooks.py:546] Create CheckpointSaverHook.\n"
     ]
    },
    {
     "name": "stdout",
     "output_type": "stream",
     "text": [
      "INFO:tensorflow:Graph was finalized.\n"
     ]
    },
    {
     "name": "stderr",
     "output_type": "stream",
     "text": [
      "I0211 12:06:57.552420 4439444928 monitored_session.py:246] Graph was finalized.\n"
     ]
    },
    {
     "name": "stdout",
     "output_type": "stream",
     "text": [
      "INFO:tensorflow:Restoring parameters from model/model.ckpt-14661\n"
     ]
    },
    {
     "name": "stderr",
     "output_type": "stream",
     "text": [
      "I0211 12:06:57.555249 4439444928 saver.py:1284] Restoring parameters from model/model.ckpt-14661\n"
     ]
    },
    {
     "name": "stdout",
     "output_type": "stream",
     "text": [
      "INFO:tensorflow:Running local_init_op.\n"
     ]
    },
    {
     "name": "stderr",
     "output_type": "stream",
     "text": [
      "I0211 12:06:57.759963 4439444928 session_manager.py:504] Running local_init_op.\n"
     ]
    },
    {
     "name": "stdout",
     "output_type": "stream",
     "text": [
      "INFO:tensorflow:Done running local_init_op.\n"
     ]
    },
    {
     "name": "stderr",
     "output_type": "stream",
     "text": [
      "I0211 12:06:57.809354 4439444928 session_manager.py:507] Done running local_init_op.\n"
     ]
    },
    {
     "name": "stdout",
     "output_type": "stream",
     "text": [
      "INFO:tensorflow:Saving checkpoints for 14661 into model/model.ckpt.\n"
     ]
    },
    {
     "name": "stderr",
     "output_type": "stream",
     "text": [
      "I0211 12:06:58.691773 4439444928 basic_session_run_hooks.py:613] Saving checkpoints for 14661 into model/model.ckpt.\n"
     ]
    },
    {
     "name": "stdout",
     "output_type": "stream",
     "text": [
      "INFO:tensorflow:loss = 0.70912886, step = 14661\n"
     ]
    },
    {
     "name": "stderr",
     "output_type": "stream",
     "text": [
      "I0211 12:06:59.652690 4439444928 basic_session_run_hooks.py:262] loss = 0.70912886, step = 14661\n"
     ]
    },
    {
     "name": "stdout",
     "output_type": "stream",
     "text": [
      "INFO:tensorflow:global_step/sec: 147.185\n"
     ]
    },
    {
     "name": "stderr",
     "output_type": "stream",
     "text": [
      "I0211 12:07:00.331789 4439444928 basic_session_run_hooks.py:700] global_step/sec: 147.185\n"
     ]
    },
    {
     "name": "stdout",
     "output_type": "stream",
     "text": [
      "INFO:tensorflow:loss = 0.27248278, step = 14761 (0.681 sec)\n"
     ]
    },
    {
     "name": "stderr",
     "output_type": "stream",
     "text": [
      "I0211 12:07:00.333212 4439444928 basic_session_run_hooks.py:260] loss = 0.27248278, step = 14761 (0.681 sec)\n"
     ]
    },
    {
     "name": "stdout",
     "output_type": "stream",
     "text": [
      "INFO:tensorflow:global_step/sec: 497.495\n"
     ]
    },
    {
     "name": "stderr",
     "output_type": "stream",
     "text": [
      "I0211 12:07:00.532777 4439444928 basic_session_run_hooks.py:700] global_step/sec: 497.495\n"
     ]
    },
    {
     "name": "stdout",
     "output_type": "stream",
     "text": [
      "INFO:tensorflow:loss = 0.43015927, step = 14861 (0.201 sec)\n"
     ]
    },
    {
     "name": "stderr",
     "output_type": "stream",
     "text": [
      "I0211 12:07:00.534090 4439444928 basic_session_run_hooks.py:260] loss = 0.43015927, step = 14861 (0.201 sec)\n"
     ]
    },
    {
     "name": "stdout",
     "output_type": "stream",
     "text": [
      "INFO:tensorflow:global_step/sec: 513.018\n"
     ]
    },
    {
     "name": "stderr",
     "output_type": "stream",
     "text": [
      "I0211 12:07:00.727701 4439444928 basic_session_run_hooks.py:700] global_step/sec: 513.018\n"
     ]
    },
    {
     "name": "stdout",
     "output_type": "stream",
     "text": [
      "INFO:tensorflow:loss = 0.30291563, step = 14961 (0.195 sec)\n"
     ]
    },
    {
     "name": "stderr",
     "output_type": "stream",
     "text": [
      "I0211 12:07:00.728980 4439444928 basic_session_run_hooks.py:260] loss = 0.30291563, step = 14961 (0.195 sec)\n"
     ]
    },
    {
     "name": "stdout",
     "output_type": "stream",
     "text": [
      "INFO:tensorflow:global_step/sec: 513.291\n"
     ]
    },
    {
     "name": "stderr",
     "output_type": "stream",
     "text": [
      "I0211 12:07:00.922551 4439444928 basic_session_run_hooks.py:700] global_step/sec: 513.291\n"
     ]
    },
    {
     "name": "stdout",
     "output_type": "stream",
     "text": [
      "INFO:tensorflow:loss = 0.21579704, step = 15061 (0.195 sec)\n"
     ]
    },
    {
     "name": "stderr",
     "output_type": "stream",
     "text": [
      "I0211 12:07:00.924096 4439444928 basic_session_run_hooks.py:260] loss = 0.21579704, step = 15061 (0.195 sec)\n"
     ]
    },
    {
     "name": "stdout",
     "output_type": "stream",
     "text": [
      "INFO:tensorflow:global_step/sec: 509.638\n"
     ]
    },
    {
     "name": "stderr",
     "output_type": "stream",
     "text": [
      "I0211 12:07:01.118752 4439444928 basic_session_run_hooks.py:700] global_step/sec: 509.638\n"
     ]
    },
    {
     "name": "stdout",
     "output_type": "stream",
     "text": [
      "INFO:tensorflow:loss = 0.31459776, step = 15161 (0.196 sec)\n"
     ]
    },
    {
     "name": "stderr",
     "output_type": "stream",
     "text": [
      "I0211 12:07:01.120026 4439444928 basic_session_run_hooks.py:260] loss = 0.31459776, step = 15161 (0.196 sec)\n"
     ]
    },
    {
     "name": "stdout",
     "output_type": "stream",
     "text": [
      "INFO:tensorflow:global_step/sec: 516.921\n"
     ]
    },
    {
     "name": "stderr",
     "output_type": "stream",
     "text": [
      "I0211 12:07:01.312206 4439444928 basic_session_run_hooks.py:700] global_step/sec: 516.921\n"
     ]
    },
    {
     "name": "stdout",
     "output_type": "stream",
     "text": [
      "INFO:tensorflow:loss = 0.2535271, step = 15261 (0.193 sec)\n"
     ]
    },
    {
     "name": "stderr",
     "output_type": "stream",
     "text": [
      "I0211 12:07:01.313480 4439444928 basic_session_run_hooks.py:260] loss = 0.2535271, step = 15261 (0.193 sec)\n"
     ]
    },
    {
     "name": "stdout",
     "output_type": "stream",
     "text": [
      "INFO:tensorflow:global_step/sec: 515.132\n"
     ]
    },
    {
     "name": "stderr",
     "output_type": "stream",
     "text": [
      "I0211 12:07:01.506317 4439444928 basic_session_run_hooks.py:700] global_step/sec: 515.132\n"
     ]
    },
    {
     "name": "stdout",
     "output_type": "stream",
     "text": [
      "INFO:tensorflow:loss = 0.3831438, step = 15361 (0.194 sec)\n"
     ]
    },
    {
     "name": "stderr",
     "output_type": "stream",
     "text": [
      "I0211 12:07:01.507606 4439444928 basic_session_run_hooks.py:260] loss = 0.3831438, step = 15361 (0.194 sec)\n"
     ]
    },
    {
     "name": "stdout",
     "output_type": "stream",
     "text": [
      "INFO:tensorflow:global_step/sec: 514.464\n"
     ]
    },
    {
     "name": "stderr",
     "output_type": "stream",
     "text": [
      "I0211 12:07:01.700691 4439444928 basic_session_run_hooks.py:700] global_step/sec: 514.464\n"
     ]
    },
    {
     "name": "stdout",
     "output_type": "stream",
     "text": [
      "INFO:tensorflow:loss = 0.2339174, step = 15461 (0.194 sec)\n"
     ]
    },
    {
     "name": "stderr",
     "output_type": "stream",
     "text": [
      "I0211 12:07:01.701967 4439444928 basic_session_run_hooks.py:260] loss = 0.2339174, step = 15461 (0.194 sec)\n"
     ]
    },
    {
     "name": "stdout",
     "output_type": "stream",
     "text": [
      "INFO:tensorflow:global_step/sec: 387.324\n"
     ]
    },
    {
     "name": "stderr",
     "output_type": "stream",
     "text": [
      "I0211 12:07:01.958874 4439444928 basic_session_run_hooks.py:700] global_step/sec: 387.324\n"
     ]
    },
    {
     "name": "stdout",
     "output_type": "stream",
     "text": [
      "INFO:tensorflow:loss = 0.33969212, step = 15561 (0.258 sec)\n"
     ]
    },
    {
     "name": "stderr",
     "output_type": "stream",
     "text": [
      "I0211 12:07:01.960176 4439444928 basic_session_run_hooks.py:260] loss = 0.33969212, step = 15561 (0.258 sec)\n"
     ]
    },
    {
     "name": "stdout",
     "output_type": "stream",
     "text": [
      "INFO:tensorflow:global_step/sec: 501.578\n"
     ]
    },
    {
     "name": "stderr",
     "output_type": "stream",
     "text": [
      "I0211 12:07:02.158276 4439444928 basic_session_run_hooks.py:700] global_step/sec: 501.578\n"
     ]
    },
    {
     "name": "stdout",
     "output_type": "stream",
     "text": [
      "INFO:tensorflow:loss = 0.27334946, step = 15661 (0.200 sec)\n"
     ]
    },
    {
     "name": "stderr",
     "output_type": "stream",
     "text": [
      "I0211 12:07:02.160598 4439444928 basic_session_run_hooks.py:260] loss = 0.27334946, step = 15661 (0.200 sec)\n"
     ]
    },
    {
     "name": "stdout",
     "output_type": "stream",
     "text": [
      "INFO:tensorflow:global_step/sec: 478.773\n"
     ]
    },
    {
     "name": "stderr",
     "output_type": "stream",
     "text": [
      "I0211 12:07:02.367109 4439444928 basic_session_run_hooks.py:700] global_step/sec: 478.773\n"
     ]
    },
    {
     "name": "stdout",
     "output_type": "stream",
     "text": [
      "INFO:tensorflow:loss = 0.34633982, step = 15761 (0.208 sec)\n"
     ]
    },
    {
     "name": "stderr",
     "output_type": "stream",
     "text": [
      "I0211 12:07:02.368351 4439444928 basic_session_run_hooks.py:260] loss = 0.34633982, step = 15761 (0.208 sec)\n"
     ]
    },
    {
     "name": "stdout",
     "output_type": "stream",
     "text": [
      "INFO:tensorflow:global_step/sec: 506.599\n"
     ]
    },
    {
     "name": "stderr",
     "output_type": "stream",
     "text": [
      "I0211 12:07:02.564512 4439444928 basic_session_run_hooks.py:700] global_step/sec: 506.599\n"
     ]
    },
    {
     "name": "stdout",
     "output_type": "stream",
     "text": [
      "INFO:tensorflow:loss = 0.27289882, step = 15861 (0.197 sec)\n"
     ]
    },
    {
     "name": "stderr",
     "output_type": "stream",
     "text": [
      "I0211 12:07:02.565780 4439444928 basic_session_run_hooks.py:260] loss = 0.27289882, step = 15861 (0.197 sec)\n"
     ]
    },
    {
     "name": "stdout",
     "output_type": "stream",
     "text": [
      "INFO:tensorflow:global_step/sec: 512.946\n"
     ]
    },
    {
     "name": "stderr",
     "output_type": "stream",
     "text": [
      "I0211 12:07:02.759475 4439444928 basic_session_run_hooks.py:700] global_step/sec: 512.946\n"
     ]
    },
    {
     "name": "stdout",
     "output_type": "stream",
     "text": [
      "INFO:tensorflow:loss = 0.3073681, step = 15961 (0.195 sec)\n"
     ]
    },
    {
     "name": "stderr",
     "output_type": "stream",
     "text": [
      "I0211 12:07:02.760773 4439444928 basic_session_run_hooks.py:260] loss = 0.3073681, step = 15961 (0.195 sec)\n"
     ]
    },
    {
     "name": "stdout",
     "output_type": "stream",
     "text": [
      "INFO:tensorflow:global_step/sec: 516.959\n"
     ]
    },
    {
     "name": "stderr",
     "output_type": "stream",
     "text": [
      "I0211 12:07:02.952901 4439444928 basic_session_run_hooks.py:700] global_step/sec: 516.959\n"
     ]
    },
    {
     "name": "stdout",
     "output_type": "stream",
     "text": [
      "INFO:tensorflow:loss = 0.27194208, step = 16061 (0.193 sec)\n"
     ]
    },
    {
     "name": "stderr",
     "output_type": "stream",
     "text": [
      "I0211 12:07:02.954164 4439444928 basic_session_run_hooks.py:260] loss = 0.27194208, step = 16061 (0.193 sec)\n"
     ]
    },
    {
     "name": "stdout",
     "output_type": "stream",
     "text": [
      "INFO:tensorflow:global_step/sec: 513.029\n"
     ]
    },
    {
     "name": "stderr",
     "output_type": "stream",
     "text": [
      "I0211 12:07:03.147819 4439444928 basic_session_run_hooks.py:700] global_step/sec: 513.029\n"
     ]
    },
    {
     "name": "stdout",
     "output_type": "stream",
     "text": [
      "INFO:tensorflow:loss = 0.4107949, step = 16161 (0.195 sec)\n"
     ]
    },
    {
     "name": "stderr",
     "output_type": "stream",
     "text": [
      "I0211 12:07:03.149111 4439444928 basic_session_run_hooks.py:260] loss = 0.4107949, step = 16161 (0.195 sec)\n"
     ]
    },
    {
     "name": "stdout",
     "output_type": "stream",
     "text": [
      "INFO:tensorflow:global_step/sec: 498.95\n"
     ]
    },
    {
     "name": "stderr",
     "output_type": "stream",
     "text": [
      "I0211 12:07:03.348239 4439444928 basic_session_run_hooks.py:700] global_step/sec: 498.95\n"
     ]
    },
    {
     "name": "stdout",
     "output_type": "stream",
     "text": [
      "INFO:tensorflow:loss = 0.37541965, step = 16261 (0.200 sec)\n"
     ]
    },
    {
     "name": "stderr",
     "output_type": "stream",
     "text": [
      "I0211 12:07:03.349496 4439444928 basic_session_run_hooks.py:260] loss = 0.37541965, step = 16261 (0.200 sec)\n"
     ]
    },
    {
     "name": "stdout",
     "output_type": "stream",
     "text": [
      "INFO:tensorflow:Saving checkpoints for 16290 into model/model.ckpt.\n"
     ]
    },
    {
     "name": "stderr",
     "output_type": "stream",
     "text": [
      "I0211 12:07:03.409266 4439444928 basic_session_run_hooks.py:613] Saving checkpoints for 16290 into model/model.ckpt.\n"
     ]
    },
    {
     "name": "stdout",
     "output_type": "stream",
     "text": [
      "INFO:tensorflow:Loss for final step: 0.085789524.\n"
     ]
    },
    {
     "name": "stderr",
     "output_type": "stream",
     "text": [
      "I0211 12:07:03.578866 4439444928 estimator.py:375] Loss for final step: 0.085789524.\n"
     ]
    },
    {
     "name": "stdout",
     "output_type": "stream",
     "text": [
      "INFO:tensorflow:Parsing data/adult.test\n"
     ]
    },
    {
     "name": "stderr",
     "output_type": "stream",
     "text": [
      "I0211 12:07:03.590315 4439444928 api.py:332] Parsing data/adult.test\n"
     ]
    },
    {
     "name": "stdout",
     "output_type": "stream",
     "text": [
      "INFO:tensorflow:Calling model_fn.\n"
     ]
    },
    {
     "name": "stderr",
     "output_type": "stream",
     "text": [
      "I0211 12:07:03.610965 4439444928 estimator.py:1151] Calling model_fn.\n"
     ]
    },
    {
     "name": "stdout",
     "output_type": "stream",
     "text": [
      "INFO:tensorflow:Done calling model_fn.\n"
     ]
    },
    {
     "name": "stderr",
     "output_type": "stream",
     "text": [
      "I0211 12:07:04.770446 4439444928 estimator.py:1153] Done calling model_fn.\n"
     ]
    },
    {
     "name": "stdout",
     "output_type": "stream",
     "text": [
      "INFO:tensorflow:Starting evaluation at 2020-02-11T12:07:04Z\n"
     ]
    },
    {
     "name": "stderr",
     "output_type": "stream",
     "text": [
      "I0211 12:07:04.784659 4439444928 evaluation.py:255] Starting evaluation at 2020-02-11T12:07:04Z\n"
     ]
    },
    {
     "name": "stdout",
     "output_type": "stream",
     "text": [
      "INFO:tensorflow:Graph was finalized.\n"
     ]
    },
    {
     "name": "stderr",
     "output_type": "stream",
     "text": [
      "I0211 12:07:04.834323 4439444928 monitored_session.py:246] Graph was finalized.\n"
     ]
    },
    {
     "name": "stdout",
     "output_type": "stream",
     "text": [
      "INFO:tensorflow:Restoring parameters from model/model.ckpt-16290\n"
     ]
    },
    {
     "name": "stderr",
     "output_type": "stream",
     "text": [
      "I0211 12:07:04.836315 4439444928 saver.py:1284] Restoring parameters from model/model.ckpt-16290\n"
     ]
    },
    {
     "name": "stdout",
     "output_type": "stream",
     "text": [
      "INFO:tensorflow:Running local_init_op.\n"
     ]
    },
    {
     "name": "stderr",
     "output_type": "stream",
     "text": [
      "I0211 12:07:05.052712 4439444928 session_manager.py:504] Running local_init_op.\n"
     ]
    },
    {
     "name": "stdout",
     "output_type": "stream",
     "text": [
      "INFO:tensorflow:Done running local_init_op.\n"
     ]
    },
    {
     "name": "stderr",
     "output_type": "stream",
     "text": [
      "I0211 12:07:05.132259 4439444928 session_manager.py:507] Done running local_init_op.\n"
     ]
    },
    {
     "name": "stdout",
     "output_type": "stream",
     "text": [
      "INFO:tensorflow:Inference Time : 1.72875s\n"
     ]
    },
    {
     "name": "stderr",
     "output_type": "stream",
     "text": [
      "I0211 12:07:06.514292 4439444928 evaluation.py:273] Inference Time : 1.72875s\n"
     ]
    },
    {
     "name": "stdout",
     "output_type": "stream",
     "text": [
      "INFO:tensorflow:Finished evaluation at 2020-02-11-12:07:06\n"
     ]
    },
    {
     "name": "stderr",
     "output_type": "stream",
     "text": [
      "I0211 12:07:06.515250 4439444928 evaluation.py:276] Finished evaluation at 2020-02-11-12:07:06\n"
     ]
    },
    {
     "name": "stdout",
     "output_type": "stream",
     "text": [
      "INFO:tensorflow:Saving dict for global step 16290: accuracy = 0.8509305, accuracy_baseline = 0.76377374, auc = 0.89985675, auc_precision_recall = 0.75849926, average_loss = 0.3309957, global_step = 16290, label/mean = 0.23622628, loss = 0.33079055, precision = 0.732852, prediction/mean = 0.25803757, recall = 0.58060324\n"
     ]
    },
    {
     "name": "stderr",
     "output_type": "stream",
     "text": [
      "I0211 12:07:06.516034 4439444928 estimator.py:2053] Saving dict for global step 16290: accuracy = 0.8509305, accuracy_baseline = 0.76377374, auc = 0.89985675, auc_precision_recall = 0.75849926, average_loss = 0.3309957, global_step = 16290, label/mean = 0.23622628, loss = 0.33079055, precision = 0.732852, prediction/mean = 0.25803757, recall = 0.58060324\n"
     ]
    },
    {
     "name": "stdout",
     "output_type": "stream",
     "text": [
      "INFO:tensorflow:Saving 'checkpoint_path' summary for global step 16290: model/model.ckpt-16290\n"
     ]
    },
    {
     "name": "stderr",
     "output_type": "stream",
     "text": [
      "I0211 12:07:06.517050 4439444928 estimator.py:2113] Saving 'checkpoint_path' summary for global step 16290: model/model.ckpt-16290\n"
     ]
    },
    {
     "name": "stdout",
     "output_type": "stream",
     "text": [
      "INFO:tensorflow:Results at epoch 20 / 40\n"
     ]
    },
    {
     "name": "stderr",
     "output_type": "stream",
     "text": [
      "I0211 12:07:06.518392 4439444928 <ipython-input-7-b40c302cf839>:76] Results at epoch 20 / 40\n"
     ]
    },
    {
     "name": "stdout",
     "output_type": "stream",
     "text": [
      "INFO:tensorflow:------------------------------------------------------------\n"
     ]
    },
    {
     "name": "stderr",
     "output_type": "stream",
     "text": [
      "I0211 12:07:06.519077 4439444928 <ipython-input-7-b40c302cf839>:77] ------------------------------------------------------------\n"
     ]
    },
    {
     "name": "stdout",
     "output_type": "stream",
     "text": [
      "INFO:tensorflow:accuracy: 0.8509305\n"
     ]
    },
    {
     "name": "stderr",
     "output_type": "stream",
     "text": [
      "I0211 12:07:06.519759 4439444928 <ipython-input-7-b40c302cf839>:80] accuracy: 0.8509305\n"
     ]
    },
    {
     "name": "stdout",
     "output_type": "stream",
     "text": [
      "INFO:tensorflow:accuracy_baseline: 0.76377374\n"
     ]
    },
    {
     "name": "stderr",
     "output_type": "stream",
     "text": [
      "I0211 12:07:06.520533 4439444928 <ipython-input-7-b40c302cf839>:80] accuracy_baseline: 0.76377374\n"
     ]
    },
    {
     "name": "stdout",
     "output_type": "stream",
     "text": [
      "INFO:tensorflow:auc: 0.89985675\n"
     ]
    },
    {
     "name": "stderr",
     "output_type": "stream",
     "text": [
      "I0211 12:07:06.521246 4439444928 <ipython-input-7-b40c302cf839>:80] auc: 0.89985675\n"
     ]
    },
    {
     "name": "stdout",
     "output_type": "stream",
     "text": [
      "INFO:tensorflow:auc_precision_recall: 0.75849926\n"
     ]
    },
    {
     "name": "stderr",
     "output_type": "stream",
     "text": [
      "I0211 12:07:06.522012 4439444928 <ipython-input-7-b40c302cf839>:80] auc_precision_recall: 0.75849926\n"
     ]
    },
    {
     "name": "stdout",
     "output_type": "stream",
     "text": [
      "INFO:tensorflow:average_loss: 0.3309957\n"
     ]
    },
    {
     "name": "stderr",
     "output_type": "stream",
     "text": [
      "I0211 12:07:06.522635 4439444928 <ipython-input-7-b40c302cf839>:80] average_loss: 0.3309957\n"
     ]
    },
    {
     "name": "stdout",
     "output_type": "stream",
     "text": [
      "INFO:tensorflow:global_step: 16290\n"
     ]
    },
    {
     "name": "stderr",
     "output_type": "stream",
     "text": [
      "I0211 12:07:06.523319 4439444928 <ipython-input-7-b40c302cf839>:80] global_step: 16290\n"
     ]
    },
    {
     "name": "stdout",
     "output_type": "stream",
     "text": [
      "INFO:tensorflow:label/mean: 0.23622628\n"
     ]
    },
    {
     "name": "stderr",
     "output_type": "stream",
     "text": [
      "I0211 12:07:06.524114 4439444928 <ipython-input-7-b40c302cf839>:80] label/mean: 0.23622628\n"
     ]
    },
    {
     "name": "stdout",
     "output_type": "stream",
     "text": [
      "INFO:tensorflow:loss: 0.33079055\n"
     ]
    },
    {
     "name": "stderr",
     "output_type": "stream",
     "text": [
      "I0211 12:07:06.524918 4439444928 <ipython-input-7-b40c302cf839>:80] loss: 0.33079055\n"
     ]
    },
    {
     "name": "stdout",
     "output_type": "stream",
     "text": [
      "INFO:tensorflow:precision: 0.732852\n"
     ]
    },
    {
     "name": "stderr",
     "output_type": "stream",
     "text": [
      "I0211 12:07:06.525537 4439444928 <ipython-input-7-b40c302cf839>:80] precision: 0.732852\n"
     ]
    },
    {
     "name": "stdout",
     "output_type": "stream",
     "text": [
      "INFO:tensorflow:prediction/mean: 0.25803757\n"
     ]
    },
    {
     "name": "stderr",
     "output_type": "stream",
     "text": [
      "I0211 12:07:06.526293 4439444928 <ipython-input-7-b40c302cf839>:80] prediction/mean: 0.25803757\n"
     ]
    },
    {
     "name": "stdout",
     "output_type": "stream",
     "text": [
      "INFO:tensorflow:recall: 0.58060324\n"
     ]
    },
    {
     "name": "stderr",
     "output_type": "stream",
     "text": [
      "I0211 12:07:06.526929 4439444928 <ipython-input-7-b40c302cf839>:80] recall: 0.58060324\n"
     ]
    },
    {
     "name": "stdout",
     "output_type": "stream",
     "text": [
      "INFO:tensorflow:Benchmark metric: {'name': 'accuracy', 'value': 0.8509305119514465, 'unit': None, 'global_step': 16290, 'timestamp': '2020-02-11T05:07:06.527600Z', 'extras': []}\n"
     ]
    },
    {
     "name": "stderr",
     "output_type": "stream",
     "text": [
      "I0211 12:07:06.527626 4439444928 logger.py:147] Benchmark metric: {'name': 'accuracy', 'value': 0.8509305119514465, 'unit': None, 'global_step': 16290, 'timestamp': '2020-02-11T05:07:06.527600Z', 'extras': []}\n"
     ]
    },
    {
     "name": "stdout",
     "output_type": "stream",
     "text": [
      "INFO:tensorflow:Benchmark metric: {'name': 'accuracy_baseline', 'value': 0.7637737393379211, 'unit': None, 'global_step': 16290, 'timestamp': '2020-02-11T05:07:06.528275Z', 'extras': []}\n"
     ]
    },
    {
     "name": "stderr",
     "output_type": "stream",
     "text": [
      "I0211 12:07:06.528293 4439444928 logger.py:147] Benchmark metric: {'name': 'accuracy_baseline', 'value': 0.7637737393379211, 'unit': None, 'global_step': 16290, 'timestamp': '2020-02-11T05:07:06.528275Z', 'extras': []}\n"
     ]
    },
    {
     "name": "stdout",
     "output_type": "stream",
     "text": [
      "INFO:tensorflow:Benchmark metric: {'name': 'auc', 'value': 0.8998567461967468, 'unit': None, 'global_step': 16290, 'timestamp': '2020-02-11T05:07:06.529181Z', 'extras': []}\n"
     ]
    },
    {
     "name": "stderr",
     "output_type": "stream",
     "text": [
      "I0211 12:07:06.529205 4439444928 logger.py:147] Benchmark metric: {'name': 'auc', 'value': 0.8998567461967468, 'unit': None, 'global_step': 16290, 'timestamp': '2020-02-11T05:07:06.529181Z', 'extras': []}\n"
     ]
    },
    {
     "name": "stdout",
     "output_type": "stream",
     "text": [
      "INFO:tensorflow:Benchmark metric: {'name': 'auc_precision_recall', 'value': 0.758499264717102, 'unit': None, 'global_step': 16290, 'timestamp': '2020-02-11T05:07:06.530046Z', 'extras': []}\n"
     ]
    },
    {
     "name": "stderr",
     "output_type": "stream",
     "text": [
      "I0211 12:07:06.530070 4439444928 logger.py:147] Benchmark metric: {'name': 'auc_precision_recall', 'value': 0.758499264717102, 'unit': None, 'global_step': 16290, 'timestamp': '2020-02-11T05:07:06.530046Z', 'extras': []}\n"
     ]
    },
    {
     "name": "stdout",
     "output_type": "stream",
     "text": [
      "INFO:tensorflow:Benchmark metric: {'name': 'average_loss', 'value': 0.33099570870399475, 'unit': None, 'global_step': 16290, 'timestamp': '2020-02-11T05:07:06.530713Z', 'extras': []}\n"
     ]
    },
    {
     "name": "stderr",
     "output_type": "stream",
     "text": [
      "I0211 12:07:06.530735 4439444928 logger.py:147] Benchmark metric: {'name': 'average_loss', 'value': 0.33099570870399475, 'unit': None, 'global_step': 16290, 'timestamp': '2020-02-11T05:07:06.530713Z', 'extras': []}\n"
     ]
    },
    {
     "name": "stdout",
     "output_type": "stream",
     "text": [
      "INFO:tensorflow:Benchmark metric: {'name': 'label/mean', 'value': 0.23622627556324005, 'unit': None, 'global_step': 16290, 'timestamp': '2020-02-11T05:07:06.531513Z', 'extras': []}\n"
     ]
    },
    {
     "name": "stderr",
     "output_type": "stream",
     "text": [
      "I0211 12:07:06.531532 4439444928 logger.py:147] Benchmark metric: {'name': 'label/mean', 'value': 0.23622627556324005, 'unit': None, 'global_step': 16290, 'timestamp': '2020-02-11T05:07:06.531513Z', 'extras': []}\n"
     ]
    },
    {
     "name": "stdout",
     "output_type": "stream",
     "text": [
      "INFO:tensorflow:Benchmark metric: {'name': 'loss', 'value': 0.33079054951667786, 'unit': None, 'global_step': 16290, 'timestamp': '2020-02-11T05:07:06.532151Z', 'extras': []}\n"
     ]
    },
    {
     "name": "stderr",
     "output_type": "stream",
     "text": [
      "I0211 12:07:06.532171 4439444928 logger.py:147] Benchmark metric: {'name': 'loss', 'value': 0.33079054951667786, 'unit': None, 'global_step': 16290, 'timestamp': '2020-02-11T05:07:06.532151Z', 'extras': []}\n"
     ]
    },
    {
     "name": "stdout",
     "output_type": "stream",
     "text": [
      "INFO:tensorflow:Benchmark metric: {'name': 'precision', 'value': 0.7328519821166992, 'unit': None, 'global_step': 16290, 'timestamp': '2020-02-11T05:07:06.532902Z', 'extras': []}\n"
     ]
    },
    {
     "name": "stderr",
     "output_type": "stream",
     "text": [
      "I0211 12:07:06.532922 4439444928 logger.py:147] Benchmark metric: {'name': 'precision', 'value': 0.7328519821166992, 'unit': None, 'global_step': 16290, 'timestamp': '2020-02-11T05:07:06.532902Z', 'extras': []}\n"
     ]
    },
    {
     "name": "stdout",
     "output_type": "stream",
     "text": [
      "INFO:tensorflow:Benchmark metric: {'name': 'prediction/mean', 'value': 0.2580375671386719, 'unit': None, 'global_step': 16290, 'timestamp': '2020-02-11T05:07:06.533575Z', 'extras': []}\n"
     ]
    },
    {
     "name": "stderr",
     "output_type": "stream",
     "text": [
      "I0211 12:07:06.533595 4439444928 logger.py:147] Benchmark metric: {'name': 'prediction/mean', 'value': 0.2580375671386719, 'unit': None, 'global_step': 16290, 'timestamp': '2020-02-11T05:07:06.533575Z', 'extras': []}\n"
     ]
    },
    {
     "name": "stdout",
     "output_type": "stream",
     "text": [
      "INFO:tensorflow:Benchmark metric: {'name': 'recall', 'value': 0.5806032419204712, 'unit': None, 'global_step': 16290, 'timestamp': '2020-02-11T05:07:06.534501Z', 'extras': []}\n"
     ]
    },
    {
     "name": "stderr",
     "output_type": "stream",
     "text": [
      "I0211 12:07:06.534522 4439444928 logger.py:147] Benchmark metric: {'name': 'recall', 'value': 0.5806032419204712, 'unit': None, 'global_step': 16290, 'timestamp': '2020-02-11T05:07:06.534501Z', 'extras': []}\n"
     ]
    },
    {
     "name": "stdout",
     "output_type": "stream",
     "text": [
      "INFO:tensorflow:Parsing data/adult.data\n"
     ]
    },
    {
     "name": "stderr",
     "output_type": "stream",
     "text": [
      "I0211 12:07:06.558045 4439444928 api.py:332] Parsing data/adult.data\n"
     ]
    },
    {
     "name": "stdout",
     "output_type": "stream",
     "text": [
      "INFO:tensorflow:Calling model_fn.\n"
     ]
    },
    {
     "name": "stderr",
     "output_type": "stream",
     "text": [
      "I0211 12:07:06.580395 4439444928 estimator.py:1151] Calling model_fn.\n"
     ]
    },
    {
     "name": "stdout",
     "output_type": "stream",
     "text": [
      "INFO:tensorflow:Done calling model_fn.\n"
     ]
    },
    {
     "name": "stderr",
     "output_type": "stream",
     "text": [
      "I0211 12:07:07.389680 4439444928 estimator.py:1153] Done calling model_fn.\n"
     ]
    },
    {
     "name": "stdout",
     "output_type": "stream",
     "text": [
      "INFO:tensorflow:Create CheckpointSaverHook.\n"
     ]
    },
    {
     "name": "stderr",
     "output_type": "stream",
     "text": [
      "I0211 12:07:07.390768 4439444928 basic_session_run_hooks.py:546] Create CheckpointSaverHook.\n"
     ]
    },
    {
     "name": "stdout",
     "output_type": "stream",
     "text": [
      "INFO:tensorflow:Graph was finalized.\n"
     ]
    },
    {
     "name": "stderr",
     "output_type": "stream",
     "text": [
      "I0211 12:07:07.469439 4439444928 monitored_session.py:246] Graph was finalized.\n"
     ]
    },
    {
     "name": "stdout",
     "output_type": "stream",
     "text": [
      "INFO:tensorflow:Restoring parameters from model/model.ckpt-16290\n"
     ]
    },
    {
     "name": "stderr",
     "output_type": "stream",
     "text": [
      "I0211 12:07:07.473073 4439444928 saver.py:1284] Restoring parameters from model/model.ckpt-16290\n"
     ]
    },
    {
     "name": "stdout",
     "output_type": "stream",
     "text": [
      "INFO:tensorflow:Running local_init_op.\n"
     ]
    },
    {
     "name": "stderr",
     "output_type": "stream",
     "text": [
      "I0211 12:07:07.679682 4439444928 session_manager.py:504] Running local_init_op.\n"
     ]
    },
    {
     "name": "stdout",
     "output_type": "stream",
     "text": [
      "INFO:tensorflow:Done running local_init_op.\n"
     ]
    },
    {
     "name": "stderr",
     "output_type": "stream",
     "text": [
      "I0211 12:07:07.727985 4439444928 session_manager.py:507] Done running local_init_op.\n"
     ]
    },
    {
     "name": "stdout",
     "output_type": "stream",
     "text": [
      "INFO:tensorflow:Saving checkpoints for 16290 into model/model.ckpt.\n"
     ]
    },
    {
     "name": "stderr",
     "output_type": "stream",
     "text": [
      "I0211 12:07:08.598775 4439444928 basic_session_run_hooks.py:613] Saving checkpoints for 16290 into model/model.ckpt.\n"
     ]
    },
    {
     "name": "stdout",
     "output_type": "stream",
     "text": [
      "INFO:tensorflow:loss = 0.2948846, step = 16290\n"
     ]
    },
    {
     "name": "stderr",
     "output_type": "stream",
     "text": [
      "I0211 12:07:09.556898 4439444928 basic_session_run_hooks.py:262] loss = 0.2948846, step = 16290\n"
     ]
    },
    {
     "name": "stdout",
     "output_type": "stream",
     "text": [
      "INFO:tensorflow:global_step/sec: 143.354\n"
     ]
    },
    {
     "name": "stderr",
     "output_type": "stream",
     "text": [
      "I0211 12:07:10.254055 4439444928 basic_session_run_hooks.py:700] global_step/sec: 143.354\n"
     ]
    },
    {
     "name": "stdout",
     "output_type": "stream",
     "text": [
      "INFO:tensorflow:loss = 0.33171254, step = 16390 (0.699 sec)\n"
     ]
    },
    {
     "name": "stderr",
     "output_type": "stream",
     "text": [
      "I0211 12:07:10.255386 4439444928 basic_session_run_hooks.py:260] loss = 0.33171254, step = 16390 (0.699 sec)\n"
     ]
    },
    {
     "name": "stdout",
     "output_type": "stream",
     "text": [
      "INFO:tensorflow:global_step/sec: 512.161\n"
     ]
    },
    {
     "name": "stderr",
     "output_type": "stream",
     "text": [
      "I0211 12:07:10.449290 4439444928 basic_session_run_hooks.py:700] global_step/sec: 512.161\n"
     ]
    },
    {
     "name": "stdout",
     "output_type": "stream",
     "text": [
      "INFO:tensorflow:loss = 0.33601516, step = 16490 (0.195 sec)\n"
     ]
    },
    {
     "name": "stderr",
     "output_type": "stream",
     "text": [
      "I0211 12:07:10.450541 4439444928 basic_session_run_hooks.py:260] loss = 0.33601516, step = 16490 (0.195 sec)\n"
     ]
    },
    {
     "name": "stdout",
     "output_type": "stream",
     "text": [
      "INFO:tensorflow:global_step/sec: 511.91\n"
     ]
    },
    {
     "name": "stderr",
     "output_type": "stream",
     "text": [
      "I0211 12:07:10.644634 4439444928 basic_session_run_hooks.py:700] global_step/sec: 511.91\n"
     ]
    },
    {
     "name": "stdout",
     "output_type": "stream",
     "text": [
      "INFO:tensorflow:loss = 0.23781118, step = 16590 (0.195 sec)\n"
     ]
    },
    {
     "name": "stderr",
     "output_type": "stream",
     "text": [
      "I0211 12:07:10.645893 4439444928 basic_session_run_hooks.py:260] loss = 0.23781118, step = 16590 (0.195 sec)\n"
     ]
    },
    {
     "name": "stdout",
     "output_type": "stream",
     "text": [
      "INFO:tensorflow:global_step/sec: 512.62\n"
     ]
    },
    {
     "name": "stderr",
     "output_type": "stream",
     "text": [
      "I0211 12:07:10.839717 4439444928 basic_session_run_hooks.py:700] global_step/sec: 512.62\n"
     ]
    },
    {
     "name": "stdout",
     "output_type": "stream",
     "text": [
      "INFO:tensorflow:loss = 0.3384543, step = 16690 (0.195 sec)\n"
     ]
    },
    {
     "name": "stderr",
     "output_type": "stream",
     "text": [
      "I0211 12:07:10.840992 4439444928 basic_session_run_hooks.py:260] loss = 0.3384543, step = 16690 (0.195 sec)\n"
     ]
    },
    {
     "name": "stdout",
     "output_type": "stream",
     "text": [
      "INFO:tensorflow:global_step/sec: 512.532\n"
     ]
    },
    {
     "name": "stderr",
     "output_type": "stream",
     "text": [
      "I0211 12:07:11.034821 4439444928 basic_session_run_hooks.py:700] global_step/sec: 512.532\n"
     ]
    },
    {
     "name": "stdout",
     "output_type": "stream",
     "text": [
      "INFO:tensorflow:loss = 0.3184666, step = 16790 (0.195 sec)\n"
     ]
    },
    {
     "name": "stderr",
     "output_type": "stream",
     "text": [
      "I0211 12:07:11.036120 4439444928 basic_session_run_hooks.py:260] loss = 0.3184666, step = 16790 (0.195 sec)\n"
     ]
    },
    {
     "name": "stdout",
     "output_type": "stream",
     "text": [
      "INFO:tensorflow:global_step/sec: 515.392\n"
     ]
    },
    {
     "name": "stderr",
     "output_type": "stream",
     "text": [
      "I0211 12:07:11.228853 4439444928 basic_session_run_hooks.py:700] global_step/sec: 515.392\n"
     ]
    },
    {
     "name": "stdout",
     "output_type": "stream",
     "text": [
      "INFO:tensorflow:loss = 0.38648117, step = 16890 (0.194 sec)\n"
     ]
    },
    {
     "name": "stderr",
     "output_type": "stream",
     "text": [
      "I0211 12:07:11.230108 4439444928 basic_session_run_hooks.py:260] loss = 0.38648117, step = 16890 (0.194 sec)\n"
     ]
    },
    {
     "name": "stdout",
     "output_type": "stream",
     "text": [
      "INFO:tensorflow:global_step/sec: 498.065\n"
     ]
    },
    {
     "name": "stderr",
     "output_type": "stream",
     "text": [
      "I0211 12:07:11.429630 4439444928 basic_session_run_hooks.py:700] global_step/sec: 498.065\n"
     ]
    },
    {
     "name": "stdout",
     "output_type": "stream",
     "text": [
      "INFO:tensorflow:loss = 0.4662982, step = 16990 (0.201 sec)\n"
     ]
    },
    {
     "name": "stderr",
     "output_type": "stream",
     "text": [
      "I0211 12:07:11.431035 4439444928 basic_session_run_hooks.py:260] loss = 0.4662982, step = 16990 (0.201 sec)\n"
     ]
    },
    {
     "name": "stdout",
     "output_type": "stream",
     "text": [
      "INFO:tensorflow:global_step/sec: 495.835\n"
     ]
    },
    {
     "name": "stderr",
     "output_type": "stream",
     "text": [
      "I0211 12:07:11.631309 4439444928 basic_session_run_hooks.py:700] global_step/sec: 495.835\n"
     ]
    },
    {
     "name": "stdout",
     "output_type": "stream",
     "text": [
      "INFO:tensorflow:loss = 0.3380836, step = 17090 (0.202 sec)\n"
     ]
    },
    {
     "name": "stderr",
     "output_type": "stream",
     "text": [
      "I0211 12:07:11.632621 4439444928 basic_session_run_hooks.py:260] loss = 0.3380836, step = 17090 (0.202 sec)\n"
     ]
    },
    {
     "name": "stdout",
     "output_type": "stream",
     "text": [
      "INFO:tensorflow:global_step/sec: 399.955\n"
     ]
    },
    {
     "name": "stderr",
     "output_type": "stream",
     "text": [
      "I0211 12:07:11.881351 4439444928 basic_session_run_hooks.py:700] global_step/sec: 399.955\n"
     ]
    },
    {
     "name": "stdout",
     "output_type": "stream",
     "text": [
      "INFO:tensorflow:loss = 0.35275683, step = 17190 (0.250 sec)\n"
     ]
    },
    {
     "name": "stderr",
     "output_type": "stream",
     "text": [
      "I0211 12:07:11.882713 4439444928 basic_session_run_hooks.py:260] loss = 0.35275683, step = 17190 (0.250 sec)\n"
     ]
    },
    {
     "name": "stdout",
     "output_type": "stream",
     "text": [
      "INFO:tensorflow:global_step/sec: 508.95\n"
     ]
    },
    {
     "name": "stderr",
     "output_type": "stream",
     "text": [
      "I0211 12:07:12.077821 4439444928 basic_session_run_hooks.py:700] global_step/sec: 508.95\n"
     ]
    },
    {
     "name": "stdout",
     "output_type": "stream",
     "text": [
      "INFO:tensorflow:loss = 0.25429818, step = 17290 (0.196 sec)\n"
     ]
    },
    {
     "name": "stderr",
     "output_type": "stream",
     "text": [
      "I0211 12:07:12.079075 4439444928 basic_session_run_hooks.py:260] loss = 0.25429818, step = 17290 (0.196 sec)\n"
     ]
    },
    {
     "name": "stdout",
     "output_type": "stream",
     "text": [
      "INFO:tensorflow:global_step/sec: 509.752\n"
     ]
    },
    {
     "name": "stderr",
     "output_type": "stream",
     "text": [
      "I0211 12:07:12.273996 4439444928 basic_session_run_hooks.py:700] global_step/sec: 509.752\n"
     ]
    },
    {
     "name": "stdout",
     "output_type": "stream",
     "text": [
      "INFO:tensorflow:loss = 0.26976544, step = 17390 (0.196 sec)\n"
     ]
    },
    {
     "name": "stderr",
     "output_type": "stream",
     "text": [
      "I0211 12:07:12.275263 4439444928 basic_session_run_hooks.py:260] loss = 0.26976544, step = 17390 (0.196 sec)\n"
     ]
    },
    {
     "name": "stdout",
     "output_type": "stream",
     "text": [
      "INFO:tensorflow:global_step/sec: 508.552\n"
     ]
    },
    {
     "name": "stderr",
     "output_type": "stream",
     "text": [
      "I0211 12:07:12.470629 4439444928 basic_session_run_hooks.py:700] global_step/sec: 508.552\n"
     ]
    },
    {
     "name": "stdout",
     "output_type": "stream",
     "text": [
      "INFO:tensorflow:loss = 0.37426043, step = 17490 (0.197 sec)\n"
     ]
    },
    {
     "name": "stderr",
     "output_type": "stream",
     "text": [
      "I0211 12:07:12.471896 4439444928 basic_session_run_hooks.py:260] loss = 0.37426043, step = 17490 (0.197 sec)\n"
     ]
    },
    {
     "name": "stdout",
     "output_type": "stream",
     "text": [
      "INFO:tensorflow:global_step/sec: 514.368\n"
     ]
    },
    {
     "name": "stderr",
     "output_type": "stream",
     "text": [
      "I0211 12:07:12.665042 4439444928 basic_session_run_hooks.py:700] global_step/sec: 514.368\n"
     ]
    },
    {
     "name": "stdout",
     "output_type": "stream",
     "text": [
      "INFO:tensorflow:loss = 0.29748917, step = 17590 (0.194 sec)\n"
     ]
    },
    {
     "name": "stderr",
     "output_type": "stream",
     "text": [
      "I0211 12:07:12.666368 4439444928 basic_session_run_hooks.py:260] loss = 0.29748917, step = 17590 (0.194 sec)\n"
     ]
    },
    {
     "name": "stdout",
     "output_type": "stream",
     "text": [
      "INFO:tensorflow:global_step/sec: 465.656\n"
     ]
    },
    {
     "name": "stderr",
     "output_type": "stream",
     "text": [
      "I0211 12:07:12.879796 4439444928 basic_session_run_hooks.py:700] global_step/sec: 465.656\n"
     ]
    },
    {
     "name": "stdout",
     "output_type": "stream",
     "text": [
      "INFO:tensorflow:loss = 0.3949286, step = 17690 (0.215 sec)\n"
     ]
    },
    {
     "name": "stderr",
     "output_type": "stream",
     "text": [
      "I0211 12:07:12.881091 4439444928 basic_session_run_hooks.py:260] loss = 0.3949286, step = 17690 (0.215 sec)\n"
     ]
    },
    {
     "name": "stdout",
     "output_type": "stream",
     "text": [
      "INFO:tensorflow:global_step/sec: 510.952\n"
     ]
    },
    {
     "name": "stderr",
     "output_type": "stream",
     "text": [
      "I0211 12:07:13.075506 4439444928 basic_session_run_hooks.py:700] global_step/sec: 510.952\n"
     ]
    },
    {
     "name": "stdout",
     "output_type": "stream",
     "text": [
      "INFO:tensorflow:loss = 0.3225645, step = 17790 (0.196 sec)\n"
     ]
    },
    {
     "name": "stderr",
     "output_type": "stream",
     "text": [
      "I0211 12:07:13.076802 4439444928 basic_session_run_hooks.py:260] loss = 0.3225645, step = 17790 (0.196 sec)\n"
     ]
    },
    {
     "name": "stdout",
     "output_type": "stream",
     "text": [
      "INFO:tensorflow:global_step/sec: 505.046\n"
     ]
    },
    {
     "name": "stderr",
     "output_type": "stream",
     "text": [
      "I0211 12:07:13.273509 4439444928 basic_session_run_hooks.py:700] global_step/sec: 505.046\n"
     ]
    },
    {
     "name": "stdout",
     "output_type": "stream",
     "text": [
      "INFO:tensorflow:loss = 0.39440316, step = 17890 (0.198 sec)\n"
     ]
    },
    {
     "name": "stderr",
     "output_type": "stream",
     "text": [
      "I0211 12:07:13.274827 4439444928 basic_session_run_hooks.py:260] loss = 0.39440316, step = 17890 (0.198 sec)\n"
     ]
    },
    {
     "name": "stdout",
     "output_type": "stream",
     "text": [
      "INFO:tensorflow:Saving checkpoints for 17919 into model/model.ckpt.\n"
     ]
    },
    {
     "name": "stderr",
     "output_type": "stream",
     "text": [
      "I0211 12:07:13.333992 4439444928 basic_session_run_hooks.py:613] Saving checkpoints for 17919 into model/model.ckpt.\n"
     ]
    },
    {
     "name": "stdout",
     "output_type": "stream",
     "text": [
      "INFO:tensorflow:Loss for final step: 0.11452958.\n"
     ]
    },
    {
     "name": "stderr",
     "output_type": "stream",
     "text": [
      "I0211 12:07:13.505980 4439444928 estimator.py:375] Loss for final step: 0.11452958.\n"
     ]
    },
    {
     "name": "stdout",
     "output_type": "stream",
     "text": [
      "INFO:tensorflow:Parsing data/adult.test\n"
     ]
    },
    {
     "name": "stderr",
     "output_type": "stream",
     "text": [
      "I0211 12:07:13.517417 4439444928 api.py:332] Parsing data/adult.test\n"
     ]
    },
    {
     "name": "stdout",
     "output_type": "stream",
     "text": [
      "INFO:tensorflow:Calling model_fn.\n"
     ]
    },
    {
     "name": "stderr",
     "output_type": "stream",
     "text": [
      "I0211 12:07:13.538661 4439444928 estimator.py:1151] Calling model_fn.\n"
     ]
    },
    {
     "name": "stdout",
     "output_type": "stream",
     "text": [
      "INFO:tensorflow:Done calling model_fn.\n"
     ]
    },
    {
     "name": "stderr",
     "output_type": "stream",
     "text": [
      "I0211 12:07:14.626066 4439444928 estimator.py:1153] Done calling model_fn.\n"
     ]
    },
    {
     "name": "stdout",
     "output_type": "stream",
     "text": [
      "INFO:tensorflow:Starting evaluation at 2020-02-11T12:07:14Z\n"
     ]
    },
    {
     "name": "stderr",
     "output_type": "stream",
     "text": [
      "I0211 12:07:14.640057 4439444928 evaluation.py:255] Starting evaluation at 2020-02-11T12:07:14Z\n"
     ]
    },
    {
     "name": "stdout",
     "output_type": "stream",
     "text": [
      "INFO:tensorflow:Graph was finalized.\n"
     ]
    },
    {
     "name": "stderr",
     "output_type": "stream",
     "text": [
      "I0211 12:07:14.690124 4439444928 monitored_session.py:246] Graph was finalized.\n"
     ]
    },
    {
     "name": "stdout",
     "output_type": "stream",
     "text": [
      "INFO:tensorflow:Restoring parameters from model/model.ckpt-17919\n"
     ]
    },
    {
     "name": "stderr",
     "output_type": "stream",
     "text": [
      "I0211 12:07:14.692739 4439444928 saver.py:1284] Restoring parameters from model/model.ckpt-17919\n"
     ]
    },
    {
     "name": "stdout",
     "output_type": "stream",
     "text": [
      "INFO:tensorflow:Running local_init_op.\n"
     ]
    },
    {
     "name": "stderr",
     "output_type": "stream",
     "text": [
      "I0211 12:07:14.891993 4439444928 session_manager.py:504] Running local_init_op.\n"
     ]
    },
    {
     "name": "stdout",
     "output_type": "stream",
     "text": [
      "INFO:tensorflow:Done running local_init_op.\n"
     ]
    },
    {
     "name": "stderr",
     "output_type": "stream",
     "text": [
      "I0211 12:07:14.970623 4439444928 session_manager.py:507] Done running local_init_op.\n"
     ]
    },
    {
     "name": "stdout",
     "output_type": "stream",
     "text": [
      "INFO:tensorflow:Inference Time : 1.65667s\n"
     ]
    },
    {
     "name": "stderr",
     "output_type": "stream",
     "text": [
      "I0211 12:07:16.297571 4439444928 evaluation.py:273] Inference Time : 1.65667s\n"
     ]
    },
    {
     "name": "stdout",
     "output_type": "stream",
     "text": [
      "INFO:tensorflow:Finished evaluation at 2020-02-11-12:07:16\n"
     ]
    },
    {
     "name": "stderr",
     "output_type": "stream",
     "text": [
      "I0211 12:07:16.298495 4439444928 evaluation.py:276] Finished evaluation at 2020-02-11-12:07:16\n"
     ]
    },
    {
     "name": "stdout",
     "output_type": "stream",
     "text": [
      "INFO:tensorflow:Saving dict for global step 17919: accuracy = 0.8488422, accuracy_baseline = 0.76377374, auc = 0.89676684, auc_precision_recall = 0.74624205, average_loss = 0.33654317, global_step = 17919, label/mean = 0.23622628, loss = 0.33631033, precision = 0.77146214, prediction/mean = 0.23144206, recall = 0.51170045\n"
     ]
    },
    {
     "name": "stderr",
     "output_type": "stream",
     "text": [
      "I0211 12:07:16.299326 4439444928 estimator.py:2053] Saving dict for global step 17919: accuracy = 0.8488422, accuracy_baseline = 0.76377374, auc = 0.89676684, auc_precision_recall = 0.74624205, average_loss = 0.33654317, global_step = 17919, label/mean = 0.23622628, loss = 0.33631033, precision = 0.77146214, prediction/mean = 0.23144206, recall = 0.51170045\n"
     ]
    },
    {
     "name": "stdout",
     "output_type": "stream",
     "text": [
      "INFO:tensorflow:Saving 'checkpoint_path' summary for global step 17919: model/model.ckpt-17919\n"
     ]
    },
    {
     "name": "stderr",
     "output_type": "stream",
     "text": [
      "I0211 12:07:16.300189 4439444928 estimator.py:2113] Saving 'checkpoint_path' summary for global step 17919: model/model.ckpt-17919\n"
     ]
    },
    {
     "name": "stdout",
     "output_type": "stream",
     "text": [
      "INFO:tensorflow:Results at epoch 22 / 40\n"
     ]
    },
    {
     "name": "stderr",
     "output_type": "stream",
     "text": [
      "I0211 12:07:16.301347 4439444928 <ipython-input-7-b40c302cf839>:76] Results at epoch 22 / 40\n"
     ]
    },
    {
     "name": "stdout",
     "output_type": "stream",
     "text": [
      "INFO:tensorflow:------------------------------------------------------------\n"
     ]
    },
    {
     "name": "stderr",
     "output_type": "stream",
     "text": [
      "I0211 12:07:16.302179 4439444928 <ipython-input-7-b40c302cf839>:77] ------------------------------------------------------------\n"
     ]
    },
    {
     "name": "stdout",
     "output_type": "stream",
     "text": [
      "INFO:tensorflow:accuracy: 0.8488422\n"
     ]
    },
    {
     "name": "stderr",
     "output_type": "stream",
     "text": [
      "I0211 12:07:16.302949 4439444928 <ipython-input-7-b40c302cf839>:80] accuracy: 0.8488422\n"
     ]
    },
    {
     "name": "stdout",
     "output_type": "stream",
     "text": [
      "INFO:tensorflow:accuracy_baseline: 0.76377374\n"
     ]
    },
    {
     "name": "stderr",
     "output_type": "stream",
     "text": [
      "I0211 12:07:16.303596 4439444928 <ipython-input-7-b40c302cf839>:80] accuracy_baseline: 0.76377374\n"
     ]
    },
    {
     "name": "stdout",
     "output_type": "stream",
     "text": [
      "INFO:tensorflow:auc: 0.89676684\n"
     ]
    },
    {
     "name": "stderr",
     "output_type": "stream",
     "text": [
      "I0211 12:07:16.304334 4439444928 <ipython-input-7-b40c302cf839>:80] auc: 0.89676684\n"
     ]
    },
    {
     "name": "stdout",
     "output_type": "stream",
     "text": [
      "INFO:tensorflow:auc_precision_recall: 0.74624205\n"
     ]
    },
    {
     "name": "stderr",
     "output_type": "stream",
     "text": [
      "I0211 12:07:16.305001 4439444928 <ipython-input-7-b40c302cf839>:80] auc_precision_recall: 0.74624205\n"
     ]
    },
    {
     "name": "stdout",
     "output_type": "stream",
     "text": [
      "INFO:tensorflow:average_loss: 0.33654317\n"
     ]
    },
    {
     "name": "stderr",
     "output_type": "stream",
     "text": [
      "I0211 12:07:16.305699 4439444928 <ipython-input-7-b40c302cf839>:80] average_loss: 0.33654317\n"
     ]
    },
    {
     "name": "stdout",
     "output_type": "stream",
     "text": [
      "INFO:tensorflow:global_step: 17919\n"
     ]
    },
    {
     "name": "stderr",
     "output_type": "stream",
     "text": [
      "I0211 12:07:16.306318 4439444928 <ipython-input-7-b40c302cf839>:80] global_step: 17919\n"
     ]
    },
    {
     "name": "stdout",
     "output_type": "stream",
     "text": [
      "INFO:tensorflow:label/mean: 0.23622628\n"
     ]
    },
    {
     "name": "stderr",
     "output_type": "stream",
     "text": [
      "I0211 12:07:16.307032 4439444928 <ipython-input-7-b40c302cf839>:80] label/mean: 0.23622628\n"
     ]
    },
    {
     "name": "stdout",
     "output_type": "stream",
     "text": [
      "INFO:tensorflow:loss: 0.33631033\n"
     ]
    },
    {
     "name": "stderr",
     "output_type": "stream",
     "text": [
      "I0211 12:07:16.307736 4439444928 <ipython-input-7-b40c302cf839>:80] loss: 0.33631033\n"
     ]
    },
    {
     "name": "stdout",
     "output_type": "stream",
     "text": [
      "INFO:tensorflow:precision: 0.77146214\n"
     ]
    },
    {
     "name": "stderr",
     "output_type": "stream",
     "text": [
      "I0211 12:07:16.308454 4439444928 <ipython-input-7-b40c302cf839>:80] precision: 0.77146214\n"
     ]
    },
    {
     "name": "stdout",
     "output_type": "stream",
     "text": [
      "INFO:tensorflow:prediction/mean: 0.23144206\n"
     ]
    },
    {
     "name": "stderr",
     "output_type": "stream",
     "text": [
      "I0211 12:07:16.309113 4439444928 <ipython-input-7-b40c302cf839>:80] prediction/mean: 0.23144206\n"
     ]
    },
    {
     "name": "stdout",
     "output_type": "stream",
     "text": [
      "INFO:tensorflow:recall: 0.51170045\n"
     ]
    },
    {
     "name": "stderr",
     "output_type": "stream",
     "text": [
      "I0211 12:07:16.309823 4439444928 <ipython-input-7-b40c302cf839>:80] recall: 0.51170045\n"
     ]
    },
    {
     "name": "stdout",
     "output_type": "stream",
     "text": [
      "INFO:tensorflow:Benchmark metric: {'name': 'accuracy', 'value': 0.848842203617096, 'unit': None, 'global_step': 17919, 'timestamp': '2020-02-11T05:07:16.310425Z', 'extras': []}\n"
     ]
    },
    {
     "name": "stderr",
     "output_type": "stream",
     "text": [
      "I0211 12:07:16.310449 4439444928 logger.py:147] Benchmark metric: {'name': 'accuracy', 'value': 0.848842203617096, 'unit': None, 'global_step': 17919, 'timestamp': '2020-02-11T05:07:16.310425Z', 'extras': []}\n"
     ]
    },
    {
     "name": "stdout",
     "output_type": "stream",
     "text": [
      "INFO:tensorflow:Benchmark metric: {'name': 'accuracy_baseline', 'value': 0.7637737393379211, 'unit': None, 'global_step': 17919, 'timestamp': '2020-02-11T05:07:16.311270Z', 'extras': []}\n"
     ]
    },
    {
     "name": "stderr",
     "output_type": "stream",
     "text": [
      "I0211 12:07:16.311290 4439444928 logger.py:147] Benchmark metric: {'name': 'accuracy_baseline', 'value': 0.7637737393379211, 'unit': None, 'global_step': 17919, 'timestamp': '2020-02-11T05:07:16.311270Z', 'extras': []}\n"
     ]
    },
    {
     "name": "stdout",
     "output_type": "stream",
     "text": [
      "INFO:tensorflow:Benchmark metric: {'name': 'auc', 'value': 0.8967668414115906, 'unit': None, 'global_step': 17919, 'timestamp': '2020-02-11T05:07:16.311909Z', 'extras': []}\n"
     ]
    },
    {
     "name": "stderr",
     "output_type": "stream",
     "text": [
      "I0211 12:07:16.311930 4439444928 logger.py:147] Benchmark metric: {'name': 'auc', 'value': 0.8967668414115906, 'unit': None, 'global_step': 17919, 'timestamp': '2020-02-11T05:07:16.311909Z', 'extras': []}\n"
     ]
    },
    {
     "name": "stdout",
     "output_type": "stream",
     "text": [
      "INFO:tensorflow:Benchmark metric: {'name': 'auc_precision_recall', 'value': 0.7462420463562012, 'unit': None, 'global_step': 17919, 'timestamp': '2020-02-11T05:07:16.312644Z', 'extras': []}\n"
     ]
    },
    {
     "name": "stderr",
     "output_type": "stream",
     "text": [
      "I0211 12:07:16.312664 4439444928 logger.py:147] Benchmark metric: {'name': 'auc_precision_recall', 'value': 0.7462420463562012, 'unit': None, 'global_step': 17919, 'timestamp': '2020-02-11T05:07:16.312644Z', 'extras': []}\n"
     ]
    },
    {
     "name": "stdout",
     "output_type": "stream",
     "text": [
      "INFO:tensorflow:Benchmark metric: {'name': 'average_loss', 'value': 0.33654317259788513, 'unit': None, 'global_step': 17919, 'timestamp': '2020-02-11T05:07:16.313263Z', 'extras': []}\n"
     ]
    },
    {
     "name": "stderr",
     "output_type": "stream",
     "text": [
      "I0211 12:07:16.313282 4439444928 logger.py:147] Benchmark metric: {'name': 'average_loss', 'value': 0.33654317259788513, 'unit': None, 'global_step': 17919, 'timestamp': '2020-02-11T05:07:16.313263Z', 'extras': []}\n"
     ]
    },
    {
     "name": "stdout",
     "output_type": "stream",
     "text": [
      "INFO:tensorflow:Benchmark metric: {'name': 'label/mean', 'value': 0.23622627556324005, 'unit': None, 'global_step': 17919, 'timestamp': '2020-02-11T05:07:16.314054Z', 'extras': []}\n"
     ]
    },
    {
     "name": "stderr",
     "output_type": "stream",
     "text": [
      "I0211 12:07:16.314074 4439444928 logger.py:147] Benchmark metric: {'name': 'label/mean', 'value': 0.23622627556324005, 'unit': None, 'global_step': 17919, 'timestamp': '2020-02-11T05:07:16.314054Z', 'extras': []}\n"
     ]
    },
    {
     "name": "stdout",
     "output_type": "stream",
     "text": [
      "INFO:tensorflow:Benchmark metric: {'name': 'loss', 'value': 0.33631032705307007, 'unit': None, 'global_step': 17919, 'timestamp': '2020-02-11T05:07:16.314711Z', 'extras': []}\n"
     ]
    },
    {
     "name": "stderr",
     "output_type": "stream",
     "text": [
      "I0211 12:07:16.314728 4439444928 logger.py:147] Benchmark metric: {'name': 'loss', 'value': 0.33631032705307007, 'unit': None, 'global_step': 17919, 'timestamp': '2020-02-11T05:07:16.314711Z', 'extras': []}\n"
     ]
    },
    {
     "name": "stdout",
     "output_type": "stream",
     "text": [
      "INFO:tensorflow:Benchmark metric: {'name': 'precision', 'value': 0.7714621424674988, 'unit': None, 'global_step': 17919, 'timestamp': '2020-02-11T05:07:16.315448Z', 'extras': []}\n"
     ]
    },
    {
     "name": "stderr",
     "output_type": "stream",
     "text": [
      "I0211 12:07:16.315469 4439444928 logger.py:147] Benchmark metric: {'name': 'precision', 'value': 0.7714621424674988, 'unit': None, 'global_step': 17919, 'timestamp': '2020-02-11T05:07:16.315448Z', 'extras': []}\n"
     ]
    },
    {
     "name": "stdout",
     "output_type": "stream",
     "text": [
      "INFO:tensorflow:Benchmark metric: {'name': 'prediction/mean', 'value': 0.23144206404685974, 'unit': None, 'global_step': 17919, 'timestamp': '2020-02-11T05:07:16.316100Z', 'extras': []}\n"
     ]
    },
    {
     "name": "stderr",
     "output_type": "stream",
     "text": [
      "I0211 12:07:16.316118 4439444928 logger.py:147] Benchmark metric: {'name': 'prediction/mean', 'value': 0.23144206404685974, 'unit': None, 'global_step': 17919, 'timestamp': '2020-02-11T05:07:16.316100Z', 'extras': []}\n"
     ]
    },
    {
     "name": "stdout",
     "output_type": "stream",
     "text": [
      "INFO:tensorflow:Benchmark metric: {'name': 'recall', 'value': 0.511700451374054, 'unit': None, 'global_step': 17919, 'timestamp': '2020-02-11T05:07:16.316889Z', 'extras': []}\n"
     ]
    },
    {
     "name": "stderr",
     "output_type": "stream",
     "text": [
      "I0211 12:07:16.316908 4439444928 logger.py:147] Benchmark metric: {'name': 'recall', 'value': 0.511700451374054, 'unit': None, 'global_step': 17919, 'timestamp': '2020-02-11T05:07:16.316889Z', 'extras': []}\n"
     ]
    },
    {
     "name": "stdout",
     "output_type": "stream",
     "text": [
      "INFO:tensorflow:Parsing data/adult.data\n"
     ]
    },
    {
     "name": "stderr",
     "output_type": "stream",
     "text": [
      "I0211 12:07:16.338589 4439444928 api.py:332] Parsing data/adult.data\n"
     ]
    },
    {
     "name": "stdout",
     "output_type": "stream",
     "text": [
      "INFO:tensorflow:Calling model_fn.\n"
     ]
    },
    {
     "name": "stderr",
     "output_type": "stream",
     "text": [
      "I0211 12:07:16.363090 4439444928 estimator.py:1151] Calling model_fn.\n"
     ]
    },
    {
     "name": "stdout",
     "output_type": "stream",
     "text": [
      "INFO:tensorflow:Done calling model_fn.\n"
     ]
    },
    {
     "name": "stderr",
     "output_type": "stream",
     "text": [
      "I0211 12:07:17.111205 4439444928 estimator.py:1153] Done calling model_fn.\n"
     ]
    },
    {
     "name": "stdout",
     "output_type": "stream",
     "text": [
      "INFO:tensorflow:Create CheckpointSaverHook.\n"
     ]
    },
    {
     "name": "stderr",
     "output_type": "stream",
     "text": [
      "I0211 12:07:17.112172 4439444928 basic_session_run_hooks.py:546] Create CheckpointSaverHook.\n"
     ]
    },
    {
     "name": "stdout",
     "output_type": "stream",
     "text": [
      "INFO:tensorflow:Graph was finalized.\n"
     ]
    },
    {
     "name": "stderr",
     "output_type": "stream",
     "text": [
      "I0211 12:07:17.191009 4439444928 monitored_session.py:246] Graph was finalized.\n"
     ]
    },
    {
     "name": "stdout",
     "output_type": "stream",
     "text": [
      "INFO:tensorflow:Restoring parameters from model/model.ckpt-17919\n"
     ]
    },
    {
     "name": "stderr",
     "output_type": "stream",
     "text": [
      "I0211 12:07:17.194251 4439444928 saver.py:1284] Restoring parameters from model/model.ckpt-17919\n"
     ]
    },
    {
     "name": "stdout",
     "output_type": "stream",
     "text": [
      "INFO:tensorflow:Running local_init_op.\n"
     ]
    },
    {
     "name": "stderr",
     "output_type": "stream",
     "text": [
      "I0211 12:07:17.395075 4439444928 session_manager.py:504] Running local_init_op.\n"
     ]
    },
    {
     "name": "stdout",
     "output_type": "stream",
     "text": [
      "INFO:tensorflow:Done running local_init_op.\n"
     ]
    },
    {
     "name": "stderr",
     "output_type": "stream",
     "text": [
      "I0211 12:07:17.440762 4439444928 session_manager.py:507] Done running local_init_op.\n"
     ]
    },
    {
     "name": "stdout",
     "output_type": "stream",
     "text": [
      "INFO:tensorflow:Saving checkpoints for 17919 into model/model.ckpt.\n"
     ]
    },
    {
     "name": "stderr",
     "output_type": "stream",
     "text": [
      "I0211 12:07:18.340902 4439444928 basic_session_run_hooks.py:613] Saving checkpoints for 17919 into model/model.ckpt.\n"
     ]
    },
    {
     "name": "stdout",
     "output_type": "stream",
     "text": [
      "INFO:tensorflow:loss = 0.2910579, step = 17919\n"
     ]
    },
    {
     "name": "stderr",
     "output_type": "stream",
     "text": [
      "I0211 12:07:19.271241 4439444928 basic_session_run_hooks.py:262] loss = 0.2910579, step = 17919\n"
     ]
    },
    {
     "name": "stdout",
     "output_type": "stream",
     "text": [
      "INFO:tensorflow:global_step/sec: 143.927\n"
     ]
    },
    {
     "name": "stderr",
     "output_type": "stream",
     "text": [
      "I0211 12:07:19.965770 4439444928 basic_session_run_hooks.py:700] global_step/sec: 143.927\n"
     ]
    },
    {
     "name": "stdout",
     "output_type": "stream",
     "text": [
      "INFO:tensorflow:loss = 0.3897827, step = 18019 (0.696 sec)\n"
     ]
    },
    {
     "name": "stderr",
     "output_type": "stream",
     "text": [
      "I0211 12:07:19.967149 4439444928 basic_session_run_hooks.py:260] loss = 0.3897827, step = 18019 (0.696 sec)\n"
     ]
    },
    {
     "name": "stdout",
     "output_type": "stream",
     "text": [
      "INFO:tensorflow:global_step/sec: 511.52\n"
     ]
    },
    {
     "name": "stderr",
     "output_type": "stream",
     "text": [
      "I0211 12:07:20.161248 4439444928 basic_session_run_hooks.py:700] global_step/sec: 511.52\n"
     ]
    },
    {
     "name": "stdout",
     "output_type": "stream",
     "text": [
      "INFO:tensorflow:loss = 0.2738025, step = 18119 (0.195 sec)\n"
     ]
    },
    {
     "name": "stderr",
     "output_type": "stream",
     "text": [
      "I0211 12:07:20.162549 4439444928 basic_session_run_hooks.py:260] loss = 0.2738025, step = 18119 (0.195 sec)\n"
     ]
    },
    {
     "name": "stdout",
     "output_type": "stream",
     "text": [
      "INFO:tensorflow:global_step/sec: 511.666\n"
     ]
    },
    {
     "name": "stderr",
     "output_type": "stream",
     "text": [
      "I0211 12:07:20.356690 4439444928 basic_session_run_hooks.py:700] global_step/sec: 511.666\n"
     ]
    },
    {
     "name": "stdout",
     "output_type": "stream",
     "text": [
      "INFO:tensorflow:loss = 0.29529324, step = 18219 (0.195 sec)\n"
     ]
    },
    {
     "name": "stderr",
     "output_type": "stream",
     "text": [
      "I0211 12:07:20.357947 4439444928 basic_session_run_hooks.py:260] loss = 0.29529324, step = 18219 (0.195 sec)\n"
     ]
    },
    {
     "name": "stdout",
     "output_type": "stream",
     "text": [
      "INFO:tensorflow:global_step/sec: 515.948\n"
     ]
    },
    {
     "name": "stderr",
     "output_type": "stream",
     "text": [
      "I0211 12:07:20.550504 4439444928 basic_session_run_hooks.py:700] global_step/sec: 515.948\n"
     ]
    },
    {
     "name": "stdout",
     "output_type": "stream",
     "text": [
      "INFO:tensorflow:loss = 0.25204107, step = 18319 (0.194 sec)\n"
     ]
    },
    {
     "name": "stderr",
     "output_type": "stream",
     "text": [
      "I0211 12:07:20.551695 4439444928 basic_session_run_hooks.py:260] loss = 0.25204107, step = 18319 (0.194 sec)\n"
     ]
    },
    {
     "name": "stdout",
     "output_type": "stream",
     "text": [
      "INFO:tensorflow:global_step/sec: 515.201\n"
     ]
    },
    {
     "name": "stderr",
     "output_type": "stream",
     "text": [
      "I0211 12:07:20.744606 4439444928 basic_session_run_hooks.py:700] global_step/sec: 515.201\n"
     ]
    },
    {
     "name": "stdout",
     "output_type": "stream",
     "text": [
      "INFO:tensorflow:loss = 0.3496057, step = 18419 (0.194 sec)\n"
     ]
    },
    {
     "name": "stderr",
     "output_type": "stream",
     "text": [
      "I0211 12:07:20.745881 4439444928 basic_session_run_hooks.py:260] loss = 0.3496057, step = 18419 (0.194 sec)\n"
     ]
    },
    {
     "name": "stdout",
     "output_type": "stream",
     "text": [
      "INFO:tensorflow:global_step/sec: 519.316\n"
     ]
    },
    {
     "name": "stderr",
     "output_type": "stream",
     "text": [
      "I0211 12:07:20.937167 4439444928 basic_session_run_hooks.py:700] global_step/sec: 519.316\n"
     ]
    },
    {
     "name": "stdout",
     "output_type": "stream",
     "text": [
      "INFO:tensorflow:loss = 0.33673042, step = 18519 (0.193 sec)\n"
     ]
    },
    {
     "name": "stderr",
     "output_type": "stream",
     "text": [
      "I0211 12:07:20.938415 4439444928 basic_session_run_hooks.py:260] loss = 0.33673042, step = 18519 (0.193 sec)\n"
     ]
    },
    {
     "name": "stdout",
     "output_type": "stream",
     "text": [
      "INFO:tensorflow:global_step/sec: 517.047\n"
     ]
    },
    {
     "name": "stderr",
     "output_type": "stream",
     "text": [
      "I0211 12:07:21.130573 4439444928 basic_session_run_hooks.py:700] global_step/sec: 517.047\n"
     ]
    },
    {
     "name": "stdout",
     "output_type": "stream",
     "text": [
      "INFO:tensorflow:loss = 0.50710744, step = 18619 (0.193 sec)\n"
     ]
    },
    {
     "name": "stderr",
     "output_type": "stream",
     "text": [
      "I0211 12:07:21.131807 4439444928 basic_session_run_hooks.py:260] loss = 0.50710744, step = 18619 (0.193 sec)\n"
     ]
    },
    {
     "name": "stdout",
     "output_type": "stream",
     "text": [
      "INFO:tensorflow:global_step/sec: 426.536\n"
     ]
    },
    {
     "name": "stderr",
     "output_type": "stream",
     "text": [
      "I0211 12:07:21.365033 4439444928 basic_session_run_hooks.py:700] global_step/sec: 426.536\n"
     ]
    },
    {
     "name": "stdout",
     "output_type": "stream",
     "text": [
      "INFO:tensorflow:loss = 0.25914097, step = 18719 (0.235 sec)\n"
     ]
    },
    {
     "name": "stderr",
     "output_type": "stream",
     "text": [
      "I0211 12:07:21.366503 4439444928 basic_session_run_hooks.py:260] loss = 0.25914097, step = 18719 (0.235 sec)\n"
     ]
    },
    {
     "name": "stdout",
     "output_type": "stream",
     "text": [
      "INFO:tensorflow:global_step/sec: 395.921\n"
     ]
    },
    {
     "name": "stderr",
     "output_type": "stream",
     "text": [
      "I0211 12:07:21.617599 4439444928 basic_session_run_hooks.py:700] global_step/sec: 395.921\n"
     ]
    },
    {
     "name": "stdout",
     "output_type": "stream",
     "text": [
      "INFO:tensorflow:loss = 0.4496398, step = 18819 (0.252 sec)\n"
     ]
    },
    {
     "name": "stderr",
     "output_type": "stream",
     "text": [
      "I0211 12:07:21.618866 4439444928 basic_session_run_hooks.py:260] loss = 0.4496398, step = 18819 (0.252 sec)\n"
     ]
    },
    {
     "name": "stdout",
     "output_type": "stream",
     "text": [
      "INFO:tensorflow:global_step/sec: 509.004\n"
     ]
    },
    {
     "name": "stderr",
     "output_type": "stream",
     "text": [
      "I0211 12:07:21.814062 4439444928 basic_session_run_hooks.py:700] global_step/sec: 509.004\n"
     ]
    },
    {
     "name": "stdout",
     "output_type": "stream",
     "text": [
      "INFO:tensorflow:loss = 0.21425891, step = 18919 (0.197 sec)\n"
     ]
    },
    {
     "name": "stderr",
     "output_type": "stream",
     "text": [
      "I0211 12:07:21.815405 4439444928 basic_session_run_hooks.py:260] loss = 0.21425891, step = 18919 (0.197 sec)\n"
     ]
    },
    {
     "name": "stdout",
     "output_type": "stream",
     "text": [
      "INFO:tensorflow:global_step/sec: 516.305\n"
     ]
    },
    {
     "name": "stderr",
     "output_type": "stream",
     "text": [
      "I0211 12:07:22.007745 4439444928 basic_session_run_hooks.py:700] global_step/sec: 516.305\n"
     ]
    },
    {
     "name": "stdout",
     "output_type": "stream",
     "text": [
      "INFO:tensorflow:loss = 0.32405084, step = 19019 (0.194 sec)\n"
     ]
    },
    {
     "name": "stderr",
     "output_type": "stream",
     "text": [
      "I0211 12:07:22.009150 4439444928 basic_session_run_hooks.py:260] loss = 0.32405084, step = 19019 (0.194 sec)\n"
     ]
    },
    {
     "name": "stdout",
     "output_type": "stream",
     "text": [
      "INFO:tensorflow:global_step/sec: 520.41\n"
     ]
    },
    {
     "name": "stderr",
     "output_type": "stream",
     "text": [
      "I0211 12:07:22.199898 4439444928 basic_session_run_hooks.py:700] global_step/sec: 520.41\n"
     ]
    },
    {
     "name": "stdout",
     "output_type": "stream",
     "text": [
      "INFO:tensorflow:loss = 0.3662623, step = 19119 (0.192 sec)\n"
     ]
    },
    {
     "name": "stderr",
     "output_type": "stream",
     "text": [
      "I0211 12:07:22.201225 4439444928 basic_session_run_hooks.py:260] loss = 0.3662623, step = 19119 (0.192 sec)\n"
     ]
    },
    {
     "name": "stdout",
     "output_type": "stream",
     "text": [
      "INFO:tensorflow:global_step/sec: 526.189\n"
     ]
    },
    {
     "name": "stderr",
     "output_type": "stream",
     "text": [
      "I0211 12:07:22.389960 4439444928 basic_session_run_hooks.py:700] global_step/sec: 526.189\n"
     ]
    },
    {
     "name": "stdout",
     "output_type": "stream",
     "text": [
      "INFO:tensorflow:loss = 0.22297625, step = 19219 (0.190 sec)\n"
     ]
    },
    {
     "name": "stderr",
     "output_type": "stream",
     "text": [
      "I0211 12:07:22.391212 4439444928 basic_session_run_hooks.py:260] loss = 0.22297625, step = 19219 (0.190 sec)\n"
     ]
    },
    {
     "name": "stdout",
     "output_type": "stream",
     "text": [
      "INFO:tensorflow:global_step/sec: 525.351\n"
     ]
    },
    {
     "name": "stderr",
     "output_type": "stream",
     "text": [
      "I0211 12:07:22.580294 4439444928 basic_session_run_hooks.py:700] global_step/sec: 525.351\n"
     ]
    },
    {
     "name": "stdout",
     "output_type": "stream",
     "text": [
      "INFO:tensorflow:loss = 0.29711413, step = 19319 (0.190 sec)\n"
     ]
    },
    {
     "name": "stderr",
     "output_type": "stream",
     "text": [
      "I0211 12:07:22.581594 4439444928 basic_session_run_hooks.py:260] loss = 0.29711413, step = 19319 (0.190 sec)\n"
     ]
    },
    {
     "name": "stdout",
     "output_type": "stream",
     "text": [
      "INFO:tensorflow:global_step/sec: 520.866\n"
     ]
    },
    {
     "name": "stderr",
     "output_type": "stream",
     "text": [
      "I0211 12:07:22.772294 4439444928 basic_session_run_hooks.py:700] global_step/sec: 520.866\n"
     ]
    },
    {
     "name": "stdout",
     "output_type": "stream",
     "text": [
      "INFO:tensorflow:loss = 0.3109807, step = 19419 (0.192 sec)\n"
     ]
    },
    {
     "name": "stderr",
     "output_type": "stream",
     "text": [
      "I0211 12:07:22.773571 4439444928 basic_session_run_hooks.py:260] loss = 0.3109807, step = 19419 (0.192 sec)\n"
     ]
    },
    {
     "name": "stdout",
     "output_type": "stream",
     "text": [
      "INFO:tensorflow:global_step/sec: 520.858\n"
     ]
    },
    {
     "name": "stderr",
     "output_type": "stream",
     "text": [
      "I0211 12:07:22.964272 4439444928 basic_session_run_hooks.py:700] global_step/sec: 520.858\n"
     ]
    },
    {
     "name": "stdout",
     "output_type": "stream",
     "text": [
      "INFO:tensorflow:loss = 0.33639723, step = 19519 (0.192 sec)\n"
     ]
    },
    {
     "name": "stderr",
     "output_type": "stream",
     "text": [
      "I0211 12:07:22.965564 4439444928 basic_session_run_hooks.py:260] loss = 0.33639723, step = 19519 (0.192 sec)\n"
     ]
    },
    {
     "name": "stdout",
     "output_type": "stream",
     "text": [
      "INFO:tensorflow:Saving checkpoints for 19548 into model/model.ckpt.\n"
     ]
    },
    {
     "name": "stderr",
     "output_type": "stream",
     "text": [
      "I0211 12:07:23.022763 4439444928 basic_session_run_hooks.py:613] Saving checkpoints for 19548 into model/model.ckpt.\n"
     ]
    },
    {
     "name": "stdout",
     "output_type": "stream",
     "text": [
      "INFO:tensorflow:Loss for final step: 1.2981309.\n"
     ]
    },
    {
     "name": "stderr",
     "output_type": "stream",
     "text": [
      "I0211 12:07:23.208109 4439444928 estimator.py:375] Loss for final step: 1.2981309.\n"
     ]
    },
    {
     "name": "stdout",
     "output_type": "stream",
     "text": [
      "INFO:tensorflow:Parsing data/adult.test\n"
     ]
    },
    {
     "name": "stderr",
     "output_type": "stream",
     "text": [
      "I0211 12:07:23.221017 4439444928 api.py:332] Parsing data/adult.test\n"
     ]
    },
    {
     "name": "stdout",
     "output_type": "stream",
     "text": [
      "INFO:tensorflow:Calling model_fn.\n"
     ]
    },
    {
     "name": "stderr",
     "output_type": "stream",
     "text": [
      "I0211 12:07:23.244776 4439444928 estimator.py:1151] Calling model_fn.\n"
     ]
    },
    {
     "name": "stdout",
     "output_type": "stream",
     "text": [
      "INFO:tensorflow:Done calling model_fn.\n"
     ]
    },
    {
     "name": "stderr",
     "output_type": "stream",
     "text": [
      "I0211 12:07:24.402778 4439444928 estimator.py:1153] Done calling model_fn.\n"
     ]
    },
    {
     "name": "stdout",
     "output_type": "stream",
     "text": [
      "INFO:tensorflow:Starting evaluation at 2020-02-11T12:07:24Z\n"
     ]
    },
    {
     "name": "stderr",
     "output_type": "stream",
     "text": [
      "I0211 12:07:24.420834 4439444928 evaluation.py:255] Starting evaluation at 2020-02-11T12:07:24Z\n"
     ]
    },
    {
     "name": "stdout",
     "output_type": "stream",
     "text": [
      "INFO:tensorflow:Graph was finalized.\n"
     ]
    },
    {
     "name": "stderr",
     "output_type": "stream",
     "text": [
      "I0211 12:07:24.476238 4439444928 monitored_session.py:246] Graph was finalized.\n"
     ]
    },
    {
     "name": "stdout",
     "output_type": "stream",
     "text": [
      "INFO:tensorflow:Restoring parameters from model/model.ckpt-19548\n"
     ]
    },
    {
     "name": "stderr",
     "output_type": "stream",
     "text": [
      "I0211 12:07:24.477930 4439444928 saver.py:1284] Restoring parameters from model/model.ckpt-19548\n"
     ]
    },
    {
     "name": "stdout",
     "output_type": "stream",
     "text": [
      "INFO:tensorflow:Running local_init_op.\n"
     ]
    },
    {
     "name": "stderr",
     "output_type": "stream",
     "text": [
      "I0211 12:07:24.681209 4439444928 session_manager.py:504] Running local_init_op.\n"
     ]
    },
    {
     "name": "stdout",
     "output_type": "stream",
     "text": [
      "INFO:tensorflow:Done running local_init_op.\n"
     ]
    },
    {
     "name": "stderr",
     "output_type": "stream",
     "text": [
      "I0211 12:07:24.757946 4439444928 session_manager.py:507] Done running local_init_op.\n"
     ]
    },
    {
     "name": "stdout",
     "output_type": "stream",
     "text": [
      "INFO:tensorflow:Inference Time : 1.79792s\n"
     ]
    },
    {
     "name": "stderr",
     "output_type": "stream",
     "text": [
      "I0211 12:07:26.219877 4439444928 evaluation.py:273] Inference Time : 1.79792s\n"
     ]
    },
    {
     "name": "stdout",
     "output_type": "stream",
     "text": [
      "INFO:tensorflow:Finished evaluation at 2020-02-11-12:07:26\n"
     ]
    },
    {
     "name": "stderr",
     "output_type": "stream",
     "text": [
      "I0211 12:07:26.220997 4439444928 evaluation.py:276] Finished evaluation at 2020-02-11-12:07:26\n"
     ]
    },
    {
     "name": "stdout",
     "output_type": "stream",
     "text": [
      "INFO:tensorflow:Saving dict for global step 19548: accuracy = 0.84982497, accuracy_baseline = 0.76377374, auc = 0.896508, auc_precision_recall = 0.74526405, average_loss = 0.33545983, global_step = 19548, label/mean = 0.23622628, loss = 0.335179, precision = 0.75725305, prediction/mean = 0.23843497, recall = 0.53614146\n"
     ]
    },
    {
     "name": "stderr",
     "output_type": "stream",
     "text": [
      "I0211 12:07:26.221974 4439444928 estimator.py:2053] Saving dict for global step 19548: accuracy = 0.84982497, accuracy_baseline = 0.76377374, auc = 0.896508, auc_precision_recall = 0.74526405, average_loss = 0.33545983, global_step = 19548, label/mean = 0.23622628, loss = 0.335179, precision = 0.75725305, prediction/mean = 0.23843497, recall = 0.53614146\n"
     ]
    },
    {
     "name": "stdout",
     "output_type": "stream",
     "text": [
      "INFO:tensorflow:Saving 'checkpoint_path' summary for global step 19548: model/model.ckpt-19548\n"
     ]
    },
    {
     "name": "stderr",
     "output_type": "stream",
     "text": [
      "I0211 12:07:26.223042 4439444928 estimator.py:2113] Saving 'checkpoint_path' summary for global step 19548: model/model.ckpt-19548\n"
     ]
    },
    {
     "name": "stdout",
     "output_type": "stream",
     "text": [
      "INFO:tensorflow:Results at epoch 24 / 40\n"
     ]
    },
    {
     "name": "stderr",
     "output_type": "stream",
     "text": [
      "I0211 12:07:26.224190 4439444928 <ipython-input-7-b40c302cf839>:76] Results at epoch 24 / 40\n"
     ]
    },
    {
     "name": "stdout",
     "output_type": "stream",
     "text": [
      "INFO:tensorflow:------------------------------------------------------------\n"
     ]
    },
    {
     "name": "stderr",
     "output_type": "stream",
     "text": [
      "I0211 12:07:26.225155 4439444928 <ipython-input-7-b40c302cf839>:77] ------------------------------------------------------------\n"
     ]
    },
    {
     "name": "stdout",
     "output_type": "stream",
     "text": [
      "INFO:tensorflow:accuracy: 0.84982497\n"
     ]
    },
    {
     "name": "stderr",
     "output_type": "stream",
     "text": [
      "I0211 12:07:26.226010 4439444928 <ipython-input-7-b40c302cf839>:80] accuracy: 0.84982497\n"
     ]
    },
    {
     "name": "stdout",
     "output_type": "stream",
     "text": [
      "INFO:tensorflow:accuracy_baseline: 0.76377374\n"
     ]
    },
    {
     "name": "stderr",
     "output_type": "stream",
     "text": [
      "I0211 12:07:26.226727 4439444928 <ipython-input-7-b40c302cf839>:80] accuracy_baseline: 0.76377374\n"
     ]
    },
    {
     "name": "stdout",
     "output_type": "stream",
     "text": [
      "INFO:tensorflow:auc: 0.896508\n"
     ]
    },
    {
     "name": "stderr",
     "output_type": "stream",
     "text": [
      "I0211 12:07:26.227710 4439444928 <ipython-input-7-b40c302cf839>:80] auc: 0.896508\n"
     ]
    },
    {
     "name": "stdout",
     "output_type": "stream",
     "text": [
      "INFO:tensorflow:auc_precision_recall: 0.74526405\n"
     ]
    },
    {
     "name": "stderr",
     "output_type": "stream",
     "text": [
      "I0211 12:07:26.228461 4439444928 <ipython-input-7-b40c302cf839>:80] auc_precision_recall: 0.74526405\n"
     ]
    },
    {
     "name": "stdout",
     "output_type": "stream",
     "text": [
      "INFO:tensorflow:average_loss: 0.33545983\n"
     ]
    },
    {
     "name": "stderr",
     "output_type": "stream",
     "text": [
      "I0211 12:07:26.229107 4439444928 <ipython-input-7-b40c302cf839>:80] average_loss: 0.33545983\n"
     ]
    },
    {
     "name": "stdout",
     "output_type": "stream",
     "text": [
      "INFO:tensorflow:global_step: 19548\n"
     ]
    },
    {
     "name": "stderr",
     "output_type": "stream",
     "text": [
      "I0211 12:07:26.229888 4439444928 <ipython-input-7-b40c302cf839>:80] global_step: 19548\n"
     ]
    },
    {
     "name": "stdout",
     "output_type": "stream",
     "text": [
      "INFO:tensorflow:label/mean: 0.23622628\n"
     ]
    },
    {
     "name": "stderr",
     "output_type": "stream",
     "text": [
      "I0211 12:07:26.230515 4439444928 <ipython-input-7-b40c302cf839>:80] label/mean: 0.23622628\n"
     ]
    },
    {
     "name": "stdout",
     "output_type": "stream",
     "text": [
      "INFO:tensorflow:loss: 0.335179\n"
     ]
    },
    {
     "name": "stderr",
     "output_type": "stream",
     "text": [
      "I0211 12:07:26.231247 4439444928 <ipython-input-7-b40c302cf839>:80] loss: 0.335179\n"
     ]
    },
    {
     "name": "stdout",
     "output_type": "stream",
     "text": [
      "INFO:tensorflow:precision: 0.75725305\n"
     ]
    },
    {
     "name": "stderr",
     "output_type": "stream",
     "text": [
      "I0211 12:07:26.231917 4439444928 <ipython-input-7-b40c302cf839>:80] precision: 0.75725305\n"
     ]
    },
    {
     "name": "stdout",
     "output_type": "stream",
     "text": [
      "INFO:tensorflow:prediction/mean: 0.23843497\n"
     ]
    },
    {
     "name": "stderr",
     "output_type": "stream",
     "text": [
      "I0211 12:07:26.232722 4439444928 <ipython-input-7-b40c302cf839>:80] prediction/mean: 0.23843497\n"
     ]
    },
    {
     "name": "stdout",
     "output_type": "stream",
     "text": [
      "INFO:tensorflow:recall: 0.53614146\n"
     ]
    },
    {
     "name": "stderr",
     "output_type": "stream",
     "text": [
      "I0211 12:07:26.233389 4439444928 <ipython-input-7-b40c302cf839>:80] recall: 0.53614146\n"
     ]
    },
    {
     "name": "stdout",
     "output_type": "stream",
     "text": [
      "INFO:tensorflow:Benchmark metric: {'name': 'accuracy', 'value': 0.8498249650001526, 'unit': None, 'global_step': 19548, 'timestamp': '2020-02-11T05:07:26.234070Z', 'extras': []}\n"
     ]
    },
    {
     "name": "stderr",
     "output_type": "stream",
     "text": [
      "I0211 12:07:26.234096 4439444928 logger.py:147] Benchmark metric: {'name': 'accuracy', 'value': 0.8498249650001526, 'unit': None, 'global_step': 19548, 'timestamp': '2020-02-11T05:07:26.234070Z', 'extras': []}\n"
     ]
    },
    {
     "name": "stdout",
     "output_type": "stream",
     "text": [
      "INFO:tensorflow:Benchmark metric: {'name': 'accuracy_baseline', 'value': 0.7637737393379211, 'unit': None, 'global_step': 19548, 'timestamp': '2020-02-11T05:07:26.234773Z', 'extras': []}\n"
     ]
    },
    {
     "name": "stderr",
     "output_type": "stream",
     "text": [
      "I0211 12:07:26.234793 4439444928 logger.py:147] Benchmark metric: {'name': 'accuracy_baseline', 'value': 0.7637737393379211, 'unit': None, 'global_step': 19548, 'timestamp': '2020-02-11T05:07:26.234773Z', 'extras': []}\n"
     ]
    },
    {
     "name": "stdout",
     "output_type": "stream",
     "text": [
      "INFO:tensorflow:Benchmark metric: {'name': 'auc', 'value': 0.896507978439331, 'unit': None, 'global_step': 19548, 'timestamp': '2020-02-11T05:07:26.235565Z', 'extras': []}\n"
     ]
    },
    {
     "name": "stderr",
     "output_type": "stream",
     "text": [
      "I0211 12:07:26.235589 4439444928 logger.py:147] Benchmark metric: {'name': 'auc', 'value': 0.896507978439331, 'unit': None, 'global_step': 19548, 'timestamp': '2020-02-11T05:07:26.235565Z', 'extras': []}\n"
     ]
    },
    {
     "name": "stdout",
     "output_type": "stream",
     "text": [
      "INFO:tensorflow:Benchmark metric: {'name': 'auc_precision_recall', 'value': 0.7452640533447266, 'unit': None, 'global_step': 19548, 'timestamp': '2020-02-11T05:07:26.236404Z', 'extras': []}\n"
     ]
    },
    {
     "name": "stderr",
     "output_type": "stream",
     "text": [
      "I0211 12:07:26.236425 4439444928 logger.py:147] Benchmark metric: {'name': 'auc_precision_recall', 'value': 0.7452640533447266, 'unit': None, 'global_step': 19548, 'timestamp': '2020-02-11T05:07:26.236404Z', 'extras': []}\n"
     ]
    },
    {
     "name": "stdout",
     "output_type": "stream",
     "text": [
      "INFO:tensorflow:Benchmark metric: {'name': 'average_loss', 'value': 0.33545982837677, 'unit': None, 'global_step': 19548, 'timestamp': '2020-02-11T05:07:26.237047Z', 'extras': []}\n"
     ]
    },
    {
     "name": "stderr",
     "output_type": "stream",
     "text": [
      "I0211 12:07:26.237070 4439444928 logger.py:147] Benchmark metric: {'name': 'average_loss', 'value': 0.33545982837677, 'unit': None, 'global_step': 19548, 'timestamp': '2020-02-11T05:07:26.237047Z', 'extras': []}\n"
     ]
    },
    {
     "name": "stdout",
     "output_type": "stream",
     "text": [
      "INFO:tensorflow:Benchmark metric: {'name': 'label/mean', 'value': 0.23622627556324005, 'unit': None, 'global_step': 19548, 'timestamp': '2020-02-11T05:07:26.237844Z', 'extras': []}\n"
     ]
    },
    {
     "name": "stderr",
     "output_type": "stream",
     "text": [
      "I0211 12:07:26.237864 4439444928 logger.py:147] Benchmark metric: {'name': 'label/mean', 'value': 0.23622627556324005, 'unit': None, 'global_step': 19548, 'timestamp': '2020-02-11T05:07:26.237844Z', 'extras': []}\n"
     ]
    },
    {
     "name": "stdout",
     "output_type": "stream",
     "text": [
      "INFO:tensorflow:Benchmark metric: {'name': 'loss', 'value': 0.33517900109291077, 'unit': None, 'global_step': 19548, 'timestamp': '2020-02-11T05:07:26.238445Z', 'extras': []}\n"
     ]
    },
    {
     "name": "stderr",
     "output_type": "stream",
     "text": [
      "I0211 12:07:26.238464 4439444928 logger.py:147] Benchmark metric: {'name': 'loss', 'value': 0.33517900109291077, 'unit': None, 'global_step': 19548, 'timestamp': '2020-02-11T05:07:26.238445Z', 'extras': []}\n"
     ]
    },
    {
     "name": "stdout",
     "output_type": "stream",
     "text": [
      "INFO:tensorflow:Benchmark metric: {'name': 'precision', 'value': 0.7572530508041382, 'unit': None, 'global_step': 19548, 'timestamp': '2020-02-11T05:07:26.239069Z', 'extras': []}\n"
     ]
    },
    {
     "name": "stderr",
     "output_type": "stream",
     "text": [
      "I0211 12:07:26.239086 4439444928 logger.py:147] Benchmark metric: {'name': 'precision', 'value': 0.7572530508041382, 'unit': None, 'global_step': 19548, 'timestamp': '2020-02-11T05:07:26.239069Z', 'extras': []}\n"
     ]
    },
    {
     "name": "stdout",
     "output_type": "stream",
     "text": [
      "INFO:tensorflow:Benchmark metric: {'name': 'prediction/mean', 'value': 0.23843497037887573, 'unit': None, 'global_step': 19548, 'timestamp': '2020-02-11T05:07:26.239731Z', 'extras': []}\n"
     ]
    },
    {
     "name": "stderr",
     "output_type": "stream",
     "text": [
      "I0211 12:07:26.239752 4439444928 logger.py:147] Benchmark metric: {'name': 'prediction/mean', 'value': 0.23843497037887573, 'unit': None, 'global_step': 19548, 'timestamp': '2020-02-11T05:07:26.239731Z', 'extras': []}\n"
     ]
    },
    {
     "name": "stdout",
     "output_type": "stream",
     "text": [
      "INFO:tensorflow:Benchmark metric: {'name': 'recall', 'value': 0.5361414551734924, 'unit': None, 'global_step': 19548, 'timestamp': '2020-02-11T05:07:26.240512Z', 'extras': []}\n"
     ]
    },
    {
     "name": "stderr",
     "output_type": "stream",
     "text": [
      "I0211 12:07:26.240534 4439444928 logger.py:147] Benchmark metric: {'name': 'recall', 'value': 0.5361414551734924, 'unit': None, 'global_step': 19548, 'timestamp': '2020-02-11T05:07:26.240512Z', 'extras': []}\n"
     ]
    },
    {
     "name": "stdout",
     "output_type": "stream",
     "text": [
      "INFO:tensorflow:Parsing data/adult.data\n"
     ]
    },
    {
     "name": "stderr",
     "output_type": "stream",
     "text": [
      "I0211 12:07:26.268030 4439444928 api.py:332] Parsing data/adult.data\n"
     ]
    },
    {
     "name": "stdout",
     "output_type": "stream",
     "text": [
      "INFO:tensorflow:Calling model_fn.\n"
     ]
    },
    {
     "name": "stderr",
     "output_type": "stream",
     "text": [
      "I0211 12:07:26.296665 4439444928 estimator.py:1151] Calling model_fn.\n"
     ]
    },
    {
     "name": "stdout",
     "output_type": "stream",
     "text": [
      "INFO:tensorflow:Done calling model_fn.\n"
     ]
    },
    {
     "name": "stderr",
     "output_type": "stream",
     "text": [
      "I0211 12:07:27.191797 4439444928 estimator.py:1153] Done calling model_fn.\n"
     ]
    },
    {
     "name": "stdout",
     "output_type": "stream",
     "text": [
      "INFO:tensorflow:Create CheckpointSaverHook.\n"
     ]
    },
    {
     "name": "stderr",
     "output_type": "stream",
     "text": [
      "I0211 12:07:27.193005 4439444928 basic_session_run_hooks.py:546] Create CheckpointSaverHook.\n"
     ]
    },
    {
     "name": "stdout",
     "output_type": "stream",
     "text": [
      "INFO:tensorflow:Graph was finalized.\n"
     ]
    },
    {
     "name": "stderr",
     "output_type": "stream",
     "text": [
      "I0211 12:07:27.289531 4439444928 monitored_session.py:246] Graph was finalized.\n"
     ]
    },
    {
     "name": "stdout",
     "output_type": "stream",
     "text": [
      "INFO:tensorflow:Restoring parameters from model/model.ckpt-19548\n"
     ]
    },
    {
     "name": "stderr",
     "output_type": "stream",
     "text": [
      "I0211 12:07:27.293063 4439444928 saver.py:1284] Restoring parameters from model/model.ckpt-19548\n"
     ]
    },
    {
     "name": "stdout",
     "output_type": "stream",
     "text": [
      "INFO:tensorflow:Running local_init_op.\n"
     ]
    },
    {
     "name": "stderr",
     "output_type": "stream",
     "text": [
      "I0211 12:07:27.534251 4439444928 session_manager.py:504] Running local_init_op.\n"
     ]
    },
    {
     "name": "stdout",
     "output_type": "stream",
     "text": [
      "INFO:tensorflow:Done running local_init_op.\n"
     ]
    },
    {
     "name": "stderr",
     "output_type": "stream",
     "text": [
      "I0211 12:07:27.591563 4439444928 session_manager.py:507] Done running local_init_op.\n"
     ]
    },
    {
     "name": "stdout",
     "output_type": "stream",
     "text": [
      "INFO:tensorflow:Saving checkpoints for 19548 into model/model.ckpt.\n"
     ]
    },
    {
     "name": "stderr",
     "output_type": "stream",
     "text": [
      "I0211 12:07:28.574305 4439444928 basic_session_run_hooks.py:613] Saving checkpoints for 19548 into model/model.ckpt.\n"
     ]
    },
    {
     "name": "stdout",
     "output_type": "stream",
     "text": [
      "INFO:tensorflow:loss = 0.32523775, step = 19548\n"
     ]
    },
    {
     "name": "stderr",
     "output_type": "stream",
     "text": [
      "I0211 12:07:29.708297 4439444928 basic_session_run_hooks.py:262] loss = 0.32523775, step = 19548\n"
     ]
    },
    {
     "name": "stdout",
     "output_type": "stream",
     "text": [
      "INFO:tensorflow:global_step/sec: 125.873\n"
     ]
    },
    {
     "name": "stderr",
     "output_type": "stream",
     "text": [
      "I0211 12:07:30.502425 4439444928 basic_session_run_hooks.py:700] global_step/sec: 125.873\n"
     ]
    },
    {
     "name": "stdout",
     "output_type": "stream",
     "text": [
      "INFO:tensorflow:loss = 0.2980871, step = 19648 (0.796 sec)\n"
     ]
    },
    {
     "name": "stderr",
     "output_type": "stream",
     "text": [
      "I0211 12:07:30.503845 4439444928 basic_session_run_hooks.py:260] loss = 0.2980871, step = 19648 (0.796 sec)\n"
     ]
    },
    {
     "name": "stdout",
     "output_type": "stream",
     "text": [
      "INFO:tensorflow:global_step/sec: 428.627\n"
     ]
    },
    {
     "name": "stderr",
     "output_type": "stream",
     "text": [
      "I0211 12:07:30.735737 4439444928 basic_session_run_hooks.py:700] global_step/sec: 428.627\n"
     ]
    },
    {
     "name": "stdout",
     "output_type": "stream",
     "text": [
      "INFO:tensorflow:loss = 0.400072, step = 19748 (0.233 sec)\n"
     ]
    },
    {
     "name": "stderr",
     "output_type": "stream",
     "text": [
      "I0211 12:07:30.737072 4439444928 basic_session_run_hooks.py:260] loss = 0.400072, step = 19748 (0.233 sec)\n"
     ]
    },
    {
     "name": "stdout",
     "output_type": "stream",
     "text": [
      "INFO:tensorflow:global_step/sec: 446.742\n"
     ]
    },
    {
     "name": "stderr",
     "output_type": "stream",
     "text": [
      "I0211 12:07:30.959572 4439444928 basic_session_run_hooks.py:700] global_step/sec: 446.742\n"
     ]
    },
    {
     "name": "stdout",
     "output_type": "stream",
     "text": [
      "INFO:tensorflow:loss = 0.3225828, step = 19848 (0.224 sec)\n"
     ]
    },
    {
     "name": "stderr",
     "output_type": "stream",
     "text": [
      "I0211 12:07:30.961299 4439444928 basic_session_run_hooks.py:260] loss = 0.3225828, step = 19848 (0.224 sec)\n"
     ]
    },
    {
     "name": "stdout",
     "output_type": "stream",
     "text": [
      "INFO:tensorflow:global_step/sec: 438.124\n"
     ]
    },
    {
     "name": "stderr",
     "output_type": "stream",
     "text": [
      "I0211 12:07:31.187852 4439444928 basic_session_run_hooks.py:700] global_step/sec: 438.124\n"
     ]
    },
    {
     "name": "stdout",
     "output_type": "stream",
     "text": [
      "INFO:tensorflow:loss = 0.39479217, step = 19948 (0.228 sec)\n"
     ]
    },
    {
     "name": "stderr",
     "output_type": "stream",
     "text": [
      "I0211 12:07:31.189509 4439444928 basic_session_run_hooks.py:260] loss = 0.39479217, step = 19948 (0.228 sec)\n"
     ]
    },
    {
     "name": "stdout",
     "output_type": "stream",
     "text": [
      "INFO:tensorflow:global_step/sec: 443.791\n"
     ]
    },
    {
     "name": "stderr",
     "output_type": "stream",
     "text": [
      "I0211 12:07:31.413164 4439444928 basic_session_run_hooks.py:700] global_step/sec: 443.791\n"
     ]
    },
    {
     "name": "stdout",
     "output_type": "stream",
     "text": [
      "INFO:tensorflow:loss = 0.3342018, step = 20048 (0.225 sec)\n"
     ]
    },
    {
     "name": "stderr",
     "output_type": "stream",
     "text": [
      "I0211 12:07:31.414532 4439444928 basic_session_run_hooks.py:260] loss = 0.3342018, step = 20048 (0.225 sec)\n"
     ]
    },
    {
     "name": "stdout",
     "output_type": "stream",
     "text": [
      "INFO:tensorflow:global_step/sec: 447.089\n"
     ]
    },
    {
     "name": "stderr",
     "output_type": "stream",
     "text": [
      "I0211 12:07:31.636826 4439444928 basic_session_run_hooks.py:700] global_step/sec: 447.089\n"
     ]
    },
    {
     "name": "stdout",
     "output_type": "stream",
     "text": [
      "INFO:tensorflow:loss = 0.38360465, step = 20148 (0.224 sec)\n"
     ]
    },
    {
     "name": "stderr",
     "output_type": "stream",
     "text": [
      "I0211 12:07:31.638421 4439444928 basic_session_run_hooks.py:260] loss = 0.38360465, step = 20148 (0.224 sec)\n"
     ]
    },
    {
     "name": "stdout",
     "output_type": "stream",
     "text": [
      "INFO:tensorflow:global_step/sec: 462.757\n"
     ]
    },
    {
     "name": "stderr",
     "output_type": "stream",
     "text": [
      "I0211 12:07:31.852917 4439444928 basic_session_run_hooks.py:700] global_step/sec: 462.757\n"
     ]
    },
    {
     "name": "stdout",
     "output_type": "stream",
     "text": [
      "INFO:tensorflow:loss = 0.31118262, step = 20248 (0.216 sec)\n"
     ]
    },
    {
     "name": "stderr",
     "output_type": "stream",
     "text": [
      "I0211 12:07:31.854153 4439444928 basic_session_run_hooks.py:260] loss = 0.31118262, step = 20248 (0.216 sec)\n"
     ]
    },
    {
     "name": "stdout",
     "output_type": "stream",
     "text": [
      "INFO:tensorflow:global_step/sec: 485.154\n"
     ]
    },
    {
     "name": "stderr",
     "output_type": "stream",
     "text": [
      "I0211 12:07:32.059037 4439444928 basic_session_run_hooks.py:700] global_step/sec: 485.154\n"
     ]
    },
    {
     "name": "stdout",
     "output_type": "stream",
     "text": [
      "INFO:tensorflow:loss = 0.313336, step = 20348 (0.206 sec)\n"
     ]
    },
    {
     "name": "stderr",
     "output_type": "stream",
     "text": [
      "I0211 12:07:32.060307 4439444928 basic_session_run_hooks.py:260] loss = 0.313336, step = 20348 (0.206 sec)\n"
     ]
    },
    {
     "name": "stdout",
     "output_type": "stream",
     "text": [
      "INFO:tensorflow:global_step/sec: 388.129\n"
     ]
    },
    {
     "name": "stderr",
     "output_type": "stream",
     "text": [
      "I0211 12:07:32.316676 4439444928 basic_session_run_hooks.py:700] global_step/sec: 388.129\n"
     ]
    },
    {
     "name": "stdout",
     "output_type": "stream",
     "text": [
      "INFO:tensorflow:loss = 0.39903697, step = 20448 (0.258 sec)\n"
     ]
    },
    {
     "name": "stderr",
     "output_type": "stream",
     "text": [
      "I0211 12:07:32.317940 4439444928 basic_session_run_hooks.py:260] loss = 0.39903697, step = 20448 (0.258 sec)\n"
     ]
    },
    {
     "name": "stdout",
     "output_type": "stream",
     "text": [
      "INFO:tensorflow:global_step/sec: 499.638\n"
     ]
    },
    {
     "name": "stderr",
     "output_type": "stream",
     "text": [
      "I0211 12:07:32.516826 4439444928 basic_session_run_hooks.py:700] global_step/sec: 499.638\n"
     ]
    },
    {
     "name": "stdout",
     "output_type": "stream",
     "text": [
      "INFO:tensorflow:loss = 0.37474903, step = 20548 (0.200 sec)\n"
     ]
    },
    {
     "name": "stderr",
     "output_type": "stream",
     "text": [
      "I0211 12:07:32.518142 4439444928 basic_session_run_hooks.py:260] loss = 0.37474903, step = 20548 (0.200 sec)\n"
     ]
    },
    {
     "name": "stdout",
     "output_type": "stream",
     "text": [
      "INFO:tensorflow:global_step/sec: 489.539\n"
     ]
    },
    {
     "name": "stderr",
     "output_type": "stream",
     "text": [
      "I0211 12:07:32.721101 4439444928 basic_session_run_hooks.py:700] global_step/sec: 489.539\n"
     ]
    },
    {
     "name": "stdout",
     "output_type": "stream",
     "text": [
      "INFO:tensorflow:loss = 0.26668218, step = 20648 (0.204 sec)\n"
     ]
    },
    {
     "name": "stderr",
     "output_type": "stream",
     "text": [
      "I0211 12:07:32.722516 4439444928 basic_session_run_hooks.py:260] loss = 0.26668218, step = 20648 (0.204 sec)\n"
     ]
    },
    {
     "name": "stdout",
     "output_type": "stream",
     "text": [
      "INFO:tensorflow:global_step/sec: 513.22\n"
     ]
    },
    {
     "name": "stderr",
     "output_type": "stream",
     "text": [
      "I0211 12:07:32.915946 4439444928 basic_session_run_hooks.py:700] global_step/sec: 513.22\n"
     ]
    },
    {
     "name": "stdout",
     "output_type": "stream",
     "text": [
      "INFO:tensorflow:loss = 0.2683039, step = 20748 (0.195 sec)\n"
     ]
    },
    {
     "name": "stderr",
     "output_type": "stream",
     "text": [
      "I0211 12:07:32.917203 4439444928 basic_session_run_hooks.py:260] loss = 0.2683039, step = 20748 (0.195 sec)\n"
     ]
    },
    {
     "name": "stdout",
     "output_type": "stream",
     "text": [
      "INFO:tensorflow:global_step/sec: 500.158\n"
     ]
    },
    {
     "name": "stderr",
     "output_type": "stream",
     "text": [
      "I0211 12:07:33.115881 4439444928 basic_session_run_hooks.py:700] global_step/sec: 500.158\n"
     ]
    },
    {
     "name": "stdout",
     "output_type": "stream",
     "text": [
      "INFO:tensorflow:loss = 0.2686403, step = 20848 (0.200 sec)\n"
     ]
    },
    {
     "name": "stderr",
     "output_type": "stream",
     "text": [
      "I0211 12:07:33.117140 4439444928 basic_session_run_hooks.py:260] loss = 0.2686403, step = 20848 (0.200 sec)\n"
     ]
    },
    {
     "name": "stdout",
     "output_type": "stream",
     "text": [
      "INFO:tensorflow:global_step/sec: 498.715\n"
     ]
    },
    {
     "name": "stderr",
     "output_type": "stream",
     "text": [
      "I0211 12:07:33.316395 4439444928 basic_session_run_hooks.py:700] global_step/sec: 498.715\n"
     ]
    },
    {
     "name": "stdout",
     "output_type": "stream",
     "text": [
      "INFO:tensorflow:loss = 0.28229028, step = 20948 (0.201 sec)\n"
     ]
    },
    {
     "name": "stderr",
     "output_type": "stream",
     "text": [
      "I0211 12:07:33.317679 4439444928 basic_session_run_hooks.py:260] loss = 0.28229028, step = 20948 (0.201 sec)\n"
     ]
    },
    {
     "name": "stdout",
     "output_type": "stream",
     "text": [
      "INFO:tensorflow:global_step/sec: 502.052\n"
     ]
    },
    {
     "name": "stderr",
     "output_type": "stream",
     "text": [
      "I0211 12:07:33.515598 4439444928 basic_session_run_hooks.py:700] global_step/sec: 502.052\n"
     ]
    },
    {
     "name": "stdout",
     "output_type": "stream",
     "text": [
      "INFO:tensorflow:loss = 0.5098897, step = 21048 (0.200 sec)\n"
     ]
    },
    {
     "name": "stderr",
     "output_type": "stream",
     "text": [
      "I0211 12:07:33.517237 4439444928 basic_session_run_hooks.py:260] loss = 0.5098897, step = 21048 (0.200 sec)\n"
     ]
    },
    {
     "name": "stdout",
     "output_type": "stream",
     "text": [
      "INFO:tensorflow:global_step/sec: 434.316\n"
     ]
    },
    {
     "name": "stderr",
     "output_type": "stream",
     "text": [
      "I0211 12:07:33.745826 4439444928 basic_session_run_hooks.py:700] global_step/sec: 434.316\n"
     ]
    },
    {
     "name": "stdout",
     "output_type": "stream",
     "text": [
      "INFO:tensorflow:loss = 0.21263857, step = 21148 (0.230 sec)\n"
     ]
    },
    {
     "name": "stderr",
     "output_type": "stream",
     "text": [
      "I0211 12:07:33.747121 4439444928 basic_session_run_hooks.py:260] loss = 0.21263857, step = 21148 (0.230 sec)\n"
     ]
    },
    {
     "name": "stdout",
     "output_type": "stream",
     "text": [
      "INFO:tensorflow:Saving checkpoints for 21177 into model/model.ckpt.\n"
     ]
    },
    {
     "name": "stderr",
     "output_type": "stream",
     "text": [
      "I0211 12:07:33.806906 4439444928 basic_session_run_hooks.py:613] Saving checkpoints for 21177 into model/model.ckpt.\n"
     ]
    },
    {
     "name": "stdout",
     "output_type": "stream",
     "text": [
      "INFO:tensorflow:Loss for final step: 0.2156437.\n"
     ]
    },
    {
     "name": "stderr",
     "output_type": "stream",
     "text": [
      "I0211 12:07:33.979782 4439444928 estimator.py:375] Loss for final step: 0.2156437.\n"
     ]
    },
    {
     "name": "stdout",
     "output_type": "stream",
     "text": [
      "INFO:tensorflow:Parsing data/adult.test\n"
     ]
    },
    {
     "name": "stderr",
     "output_type": "stream",
     "text": [
      "I0211 12:07:33.991539 4439444928 api.py:332] Parsing data/adult.test\n"
     ]
    },
    {
     "name": "stdout",
     "output_type": "stream",
     "text": [
      "INFO:tensorflow:Calling model_fn.\n"
     ]
    },
    {
     "name": "stderr",
     "output_type": "stream",
     "text": [
      "I0211 12:07:34.014489 4439444928 estimator.py:1151] Calling model_fn.\n"
     ]
    },
    {
     "name": "stdout",
     "output_type": "stream",
     "text": [
      "INFO:tensorflow:Done calling model_fn.\n"
     ]
    },
    {
     "name": "stderr",
     "output_type": "stream",
     "text": [
      "I0211 12:07:35.143284 4439444928 estimator.py:1153] Done calling model_fn.\n"
     ]
    },
    {
     "name": "stdout",
     "output_type": "stream",
     "text": [
      "INFO:tensorflow:Starting evaluation at 2020-02-11T12:07:35Z\n"
     ]
    },
    {
     "name": "stderr",
     "output_type": "stream",
     "text": [
      "I0211 12:07:35.161648 4439444928 evaluation.py:255] Starting evaluation at 2020-02-11T12:07:35Z\n"
     ]
    },
    {
     "name": "stdout",
     "output_type": "stream",
     "text": [
      "INFO:tensorflow:Graph was finalized.\n"
     ]
    },
    {
     "name": "stderr",
     "output_type": "stream",
     "text": [
      "I0211 12:07:35.221690 4439444928 monitored_session.py:246] Graph was finalized.\n"
     ]
    },
    {
     "name": "stdout",
     "output_type": "stream",
     "text": [
      "INFO:tensorflow:Restoring parameters from model/model.ckpt-21177\n"
     ]
    },
    {
     "name": "stderr",
     "output_type": "stream",
     "text": [
      "I0211 12:07:35.223610 4439444928 saver.py:1284] Restoring parameters from model/model.ckpt-21177\n"
     ]
    },
    {
     "name": "stdout",
     "output_type": "stream",
     "text": [
      "INFO:tensorflow:Running local_init_op.\n"
     ]
    },
    {
     "name": "stderr",
     "output_type": "stream",
     "text": [
      "I0211 12:07:35.481058 4439444928 session_manager.py:504] Running local_init_op.\n"
     ]
    },
    {
     "name": "stdout",
     "output_type": "stream",
     "text": [
      "INFO:tensorflow:Done running local_init_op.\n"
     ]
    },
    {
     "name": "stderr",
     "output_type": "stream",
     "text": [
      "I0211 12:07:35.569354 4439444928 session_manager.py:507] Done running local_init_op.\n"
     ]
    },
    {
     "name": "stdout",
     "output_type": "stream",
     "text": [
      "INFO:tensorflow:Inference Time : 1.87428s\n"
     ]
    },
    {
     "name": "stderr",
     "output_type": "stream",
     "text": [
      "I0211 12:07:37.036933 4439444928 evaluation.py:273] Inference Time : 1.87428s\n"
     ]
    },
    {
     "name": "stdout",
     "output_type": "stream",
     "text": [
      "INFO:tensorflow:Finished evaluation at 2020-02-11-12:07:37\n"
     ]
    },
    {
     "name": "stderr",
     "output_type": "stream",
     "text": [
      "I0211 12:07:37.037913 4439444928 evaluation.py:276] Finished evaluation at 2020-02-11-12:07:37\n"
     ]
    },
    {
     "name": "stdout",
     "output_type": "stream",
     "text": [
      "INFO:tensorflow:Saving dict for global step 21177: accuracy = 0.8543087, accuracy_baseline = 0.76377374, auc = 0.9038238, auc_precision_recall = 0.76912785, average_loss = 0.32333127, global_step = 21177, label/mean = 0.23622628, loss = 0.3231299, precision = 0.7630264, prediction/mean = 0.24117017, recall = 0.55590224\n"
     ]
    },
    {
     "name": "stderr",
     "output_type": "stream",
     "text": [
      "I0211 12:07:37.038892 4439444928 estimator.py:2053] Saving dict for global step 21177: accuracy = 0.8543087, accuracy_baseline = 0.76377374, auc = 0.9038238, auc_precision_recall = 0.76912785, average_loss = 0.32333127, global_step = 21177, label/mean = 0.23622628, loss = 0.3231299, precision = 0.7630264, prediction/mean = 0.24117017, recall = 0.55590224\n"
     ]
    },
    {
     "name": "stdout",
     "output_type": "stream",
     "text": [
      "INFO:tensorflow:Saving 'checkpoint_path' summary for global step 21177: model/model.ckpt-21177\n"
     ]
    },
    {
     "name": "stderr",
     "output_type": "stream",
     "text": [
      "I0211 12:07:37.039930 4439444928 estimator.py:2113] Saving 'checkpoint_path' summary for global step 21177: model/model.ckpt-21177\n"
     ]
    },
    {
     "name": "stdout",
     "output_type": "stream",
     "text": [
      "INFO:tensorflow:Results at epoch 26 / 40\n"
     ]
    },
    {
     "name": "stderr",
     "output_type": "stream",
     "text": [
      "I0211 12:07:37.041118 4439444928 <ipython-input-7-b40c302cf839>:76] Results at epoch 26 / 40\n"
     ]
    },
    {
     "name": "stdout",
     "output_type": "stream",
     "text": [
      "INFO:tensorflow:------------------------------------------------------------\n"
     ]
    },
    {
     "name": "stderr",
     "output_type": "stream",
     "text": [
      "I0211 12:07:37.041958 4439444928 <ipython-input-7-b40c302cf839>:77] ------------------------------------------------------------\n"
     ]
    },
    {
     "name": "stdout",
     "output_type": "stream",
     "text": [
      "INFO:tensorflow:accuracy: 0.8543087\n"
     ]
    },
    {
     "name": "stderr",
     "output_type": "stream",
     "text": [
      "I0211 12:07:37.042572 4439444928 <ipython-input-7-b40c302cf839>:80] accuracy: 0.8543087\n"
     ]
    },
    {
     "name": "stdout",
     "output_type": "stream",
     "text": [
      "INFO:tensorflow:accuracy_baseline: 0.76377374\n"
     ]
    },
    {
     "name": "stderr",
     "output_type": "stream",
     "text": [
      "I0211 12:07:37.043336 4439444928 <ipython-input-7-b40c302cf839>:80] accuracy_baseline: 0.76377374\n"
     ]
    },
    {
     "name": "stdout",
     "output_type": "stream",
     "text": [
      "INFO:tensorflow:auc: 0.9038238\n"
     ]
    },
    {
     "name": "stderr",
     "output_type": "stream",
     "text": [
      "I0211 12:07:37.044331 4439444928 <ipython-input-7-b40c302cf839>:80] auc: 0.9038238\n"
     ]
    },
    {
     "name": "stdout",
     "output_type": "stream",
     "text": [
      "INFO:tensorflow:auc_precision_recall: 0.76912785\n"
     ]
    },
    {
     "name": "stderr",
     "output_type": "stream",
     "text": [
      "I0211 12:07:37.044933 4439444928 <ipython-input-7-b40c302cf839>:80] auc_precision_recall: 0.76912785\n"
     ]
    },
    {
     "name": "stdout",
     "output_type": "stream",
     "text": [
      "INFO:tensorflow:average_loss: 0.32333127\n"
     ]
    },
    {
     "name": "stderr",
     "output_type": "stream",
     "text": [
      "I0211 12:07:37.045647 4439444928 <ipython-input-7-b40c302cf839>:80] average_loss: 0.32333127\n"
     ]
    },
    {
     "name": "stdout",
     "output_type": "stream",
     "text": [
      "INFO:tensorflow:global_step: 21177\n"
     ]
    },
    {
     "name": "stderr",
     "output_type": "stream",
     "text": [
      "I0211 12:07:37.046268 4439444928 <ipython-input-7-b40c302cf839>:80] global_step: 21177\n"
     ]
    },
    {
     "name": "stdout",
     "output_type": "stream",
     "text": [
      "INFO:tensorflow:label/mean: 0.23622628\n"
     ]
    },
    {
     "name": "stderr",
     "output_type": "stream",
     "text": [
      "I0211 12:07:37.047088 4439444928 <ipython-input-7-b40c302cf839>:80] label/mean: 0.23622628\n"
     ]
    },
    {
     "name": "stdout",
     "output_type": "stream",
     "text": [
      "INFO:tensorflow:loss: 0.3231299\n"
     ]
    },
    {
     "name": "stderr",
     "output_type": "stream",
     "text": [
      "I0211 12:07:37.047862 4439444928 <ipython-input-7-b40c302cf839>:80] loss: 0.3231299\n"
     ]
    },
    {
     "name": "stdout",
     "output_type": "stream",
     "text": [
      "INFO:tensorflow:precision: 0.7630264\n"
     ]
    },
    {
     "name": "stderr",
     "output_type": "stream",
     "text": [
      "I0211 12:07:37.048512 4439444928 <ipython-input-7-b40c302cf839>:80] precision: 0.7630264\n"
     ]
    },
    {
     "name": "stdout",
     "output_type": "stream",
     "text": [
      "INFO:tensorflow:prediction/mean: 0.24117017\n"
     ]
    },
    {
     "name": "stderr",
     "output_type": "stream",
     "text": [
      "I0211 12:07:37.049292 4439444928 <ipython-input-7-b40c302cf839>:80] prediction/mean: 0.24117017\n"
     ]
    },
    {
     "name": "stdout",
     "output_type": "stream",
     "text": [
      "INFO:tensorflow:recall: 0.55590224\n"
     ]
    },
    {
     "name": "stderr",
     "output_type": "stream",
     "text": [
      "I0211 12:07:37.049875 4439444928 <ipython-input-7-b40c302cf839>:80] recall: 0.55590224\n"
     ]
    },
    {
     "name": "stdout",
     "output_type": "stream",
     "text": [
      "INFO:tensorflow:Benchmark metric: {'name': 'accuracy', 'value': 0.8543087244033813, 'unit': None, 'global_step': 21177, 'timestamp': '2020-02-11T05:07:37.050599Z', 'extras': []}\n"
     ]
    },
    {
     "name": "stderr",
     "output_type": "stream",
     "text": [
      "I0211 12:07:37.050623 4439444928 logger.py:147] Benchmark metric: {'name': 'accuracy', 'value': 0.8543087244033813, 'unit': None, 'global_step': 21177, 'timestamp': '2020-02-11T05:07:37.050599Z', 'extras': []}\n"
     ]
    },
    {
     "name": "stdout",
     "output_type": "stream",
     "text": [
      "INFO:tensorflow:Benchmark metric: {'name': 'accuracy_baseline', 'value': 0.7637737393379211, 'unit': None, 'global_step': 21177, 'timestamp': '2020-02-11T05:07:37.051275Z', 'extras': []}\n"
     ]
    },
    {
     "name": "stderr",
     "output_type": "stream",
     "text": [
      "I0211 12:07:37.051295 4439444928 logger.py:147] Benchmark metric: {'name': 'accuracy_baseline', 'value': 0.7637737393379211, 'unit': None, 'global_step': 21177, 'timestamp': '2020-02-11T05:07:37.051275Z', 'extras': []}\n"
     ]
    },
    {
     "name": "stdout",
     "output_type": "stream",
     "text": [
      "INFO:tensorflow:Benchmark metric: {'name': 'auc', 'value': 0.9038237929344177, 'unit': None, 'global_step': 21177, 'timestamp': '2020-02-11T05:07:37.052060Z', 'extras': []}\n"
     ]
    },
    {
     "name": "stderr",
     "output_type": "stream",
     "text": [
      "I0211 12:07:37.052079 4439444928 logger.py:147] Benchmark metric: {'name': 'auc', 'value': 0.9038237929344177, 'unit': None, 'global_step': 21177, 'timestamp': '2020-02-11T05:07:37.052060Z', 'extras': []}\n"
     ]
    },
    {
     "name": "stdout",
     "output_type": "stream",
     "text": [
      "INFO:tensorflow:Benchmark metric: {'name': 'auc_precision_recall', 'value': 0.7691278457641602, 'unit': None, 'global_step': 21177, 'timestamp': '2020-02-11T05:07:37.052721Z', 'extras': []}\n"
     ]
    },
    {
     "name": "stderr",
     "output_type": "stream",
     "text": [
      "I0211 12:07:37.052740 4439444928 logger.py:147] Benchmark metric: {'name': 'auc_precision_recall', 'value': 0.7691278457641602, 'unit': None, 'global_step': 21177, 'timestamp': '2020-02-11T05:07:37.052721Z', 'extras': []}\n"
     ]
    },
    {
     "name": "stdout",
     "output_type": "stream",
     "text": [
      "INFO:tensorflow:Benchmark metric: {'name': 'average_loss', 'value': 0.3233312666416168, 'unit': None, 'global_step': 21177, 'timestamp': '2020-02-11T05:07:37.053545Z', 'extras': []}\n"
     ]
    },
    {
     "name": "stderr",
     "output_type": "stream",
     "text": [
      "I0211 12:07:37.053579 4439444928 logger.py:147] Benchmark metric: {'name': 'average_loss', 'value': 0.3233312666416168, 'unit': None, 'global_step': 21177, 'timestamp': '2020-02-11T05:07:37.053545Z', 'extras': []}\n"
     ]
    },
    {
     "name": "stdout",
     "output_type": "stream",
     "text": [
      "INFO:tensorflow:Benchmark metric: {'name': 'label/mean', 'value': 0.23622627556324005, 'unit': None, 'global_step': 21177, 'timestamp': '2020-02-11T05:07:37.054297Z', 'extras': []}\n"
     ]
    },
    {
     "name": "stderr",
     "output_type": "stream",
     "text": [
      "I0211 12:07:37.054316 4439444928 logger.py:147] Benchmark metric: {'name': 'label/mean', 'value': 0.23622627556324005, 'unit': None, 'global_step': 21177, 'timestamp': '2020-02-11T05:07:37.054297Z', 'extras': []}\n"
     ]
    },
    {
     "name": "stdout",
     "output_type": "stream",
     "text": [
      "INFO:tensorflow:Benchmark metric: {'name': 'loss', 'value': 0.32312989234924316, 'unit': None, 'global_step': 21177, 'timestamp': '2020-02-11T05:07:37.055376Z', 'extras': []}\n"
     ]
    },
    {
     "name": "stderr",
     "output_type": "stream",
     "text": [
      "I0211 12:07:37.055397 4439444928 logger.py:147] Benchmark metric: {'name': 'loss', 'value': 0.32312989234924316, 'unit': None, 'global_step': 21177, 'timestamp': '2020-02-11T05:07:37.055376Z', 'extras': []}\n"
     ]
    },
    {
     "name": "stdout",
     "output_type": "stream",
     "text": [
      "INFO:tensorflow:Benchmark metric: {'name': 'precision', 'value': 0.7630264163017273, 'unit': None, 'global_step': 21177, 'timestamp': '2020-02-11T05:07:37.056292Z', 'extras': []}\n"
     ]
    },
    {
     "name": "stderr",
     "output_type": "stream",
     "text": [
      "I0211 12:07:37.056314 4439444928 logger.py:147] Benchmark metric: {'name': 'precision', 'value': 0.7630264163017273, 'unit': None, 'global_step': 21177, 'timestamp': '2020-02-11T05:07:37.056292Z', 'extras': []}\n"
     ]
    },
    {
     "name": "stdout",
     "output_type": "stream",
     "text": [
      "INFO:tensorflow:Benchmark metric: {'name': 'prediction/mean', 'value': 0.24117016792297363, 'unit': None, 'global_step': 21177, 'timestamp': '2020-02-11T05:07:37.057084Z', 'extras': []}\n"
     ]
    },
    {
     "name": "stderr",
     "output_type": "stream",
     "text": [
      "I0211 12:07:37.057104 4439444928 logger.py:147] Benchmark metric: {'name': 'prediction/mean', 'value': 0.24117016792297363, 'unit': None, 'global_step': 21177, 'timestamp': '2020-02-11T05:07:37.057084Z', 'extras': []}\n"
     ]
    },
    {
     "name": "stdout",
     "output_type": "stream",
     "text": [
      "INFO:tensorflow:Benchmark metric: {'name': 'recall', 'value': 0.5559022426605225, 'unit': None, 'global_step': 21177, 'timestamp': '2020-02-11T05:07:37.057731Z', 'extras': []}\n"
     ]
    },
    {
     "name": "stderr",
     "output_type": "stream",
     "text": [
      "I0211 12:07:37.057752 4439444928 logger.py:147] Benchmark metric: {'name': 'recall', 'value': 0.5559022426605225, 'unit': None, 'global_step': 21177, 'timestamp': '2020-02-11T05:07:37.057731Z', 'extras': []}\n"
     ]
    },
    {
     "name": "stdout",
     "output_type": "stream",
     "text": [
      "INFO:tensorflow:Parsing data/adult.data\n"
     ]
    },
    {
     "name": "stderr",
     "output_type": "stream",
     "text": [
      "I0211 12:07:37.081365 4439444928 api.py:332] Parsing data/adult.data\n"
     ]
    },
    {
     "name": "stdout",
     "output_type": "stream",
     "text": [
      "INFO:tensorflow:Calling model_fn.\n"
     ]
    },
    {
     "name": "stderr",
     "output_type": "stream",
     "text": [
      "I0211 12:07:37.110933 4439444928 estimator.py:1151] Calling model_fn.\n"
     ]
    },
    {
     "name": "stdout",
     "output_type": "stream",
     "text": [
      "INFO:tensorflow:Done calling model_fn.\n"
     ]
    },
    {
     "name": "stderr",
     "output_type": "stream",
     "text": [
      "I0211 12:07:37.906629 4439444928 estimator.py:1153] Done calling model_fn.\n"
     ]
    },
    {
     "name": "stdout",
     "output_type": "stream",
     "text": [
      "INFO:tensorflow:Create CheckpointSaverHook.\n"
     ]
    },
    {
     "name": "stderr",
     "output_type": "stream",
     "text": [
      "I0211 12:07:37.907608 4439444928 basic_session_run_hooks.py:546] Create CheckpointSaverHook.\n"
     ]
    },
    {
     "name": "stdout",
     "output_type": "stream",
     "text": [
      "INFO:tensorflow:Graph was finalized.\n"
     ]
    },
    {
     "name": "stderr",
     "output_type": "stream",
     "text": [
      "I0211 12:07:37.991792 4439444928 monitored_session.py:246] Graph was finalized.\n"
     ]
    },
    {
     "name": "stdout",
     "output_type": "stream",
     "text": [
      "INFO:tensorflow:Restoring parameters from model/model.ckpt-21177\n"
     ]
    },
    {
     "name": "stderr",
     "output_type": "stream",
     "text": [
      "I0211 12:07:37.995548 4439444928 saver.py:1284] Restoring parameters from model/model.ckpt-21177\n"
     ]
    },
    {
     "name": "stdout",
     "output_type": "stream",
     "text": [
      "INFO:tensorflow:Running local_init_op.\n"
     ]
    },
    {
     "name": "stderr",
     "output_type": "stream",
     "text": [
      "I0211 12:07:38.205917 4439444928 session_manager.py:504] Running local_init_op.\n"
     ]
    },
    {
     "name": "stdout",
     "output_type": "stream",
     "text": [
      "INFO:tensorflow:Done running local_init_op.\n"
     ]
    },
    {
     "name": "stderr",
     "output_type": "stream",
     "text": [
      "I0211 12:07:38.255268 4439444928 session_manager.py:507] Done running local_init_op.\n"
     ]
    },
    {
     "name": "stdout",
     "output_type": "stream",
     "text": [
      "INFO:tensorflow:Saving checkpoints for 21177 into model/model.ckpt.\n"
     ]
    },
    {
     "name": "stderr",
     "output_type": "stream",
     "text": [
      "I0211 12:07:39.132395 4439444928 basic_session_run_hooks.py:613] Saving checkpoints for 21177 into model/model.ckpt.\n"
     ]
    },
    {
     "name": "stdout",
     "output_type": "stream",
     "text": [
      "INFO:tensorflow:loss = 0.3874403, step = 21177\n"
     ]
    },
    {
     "name": "stderr",
     "output_type": "stream",
     "text": [
      "I0211 12:07:40.090604 4439444928 basic_session_run_hooks.py:262] loss = 0.3874403, step = 21177\n"
     ]
    },
    {
     "name": "stdout",
     "output_type": "stream",
     "text": [
      "INFO:tensorflow:global_step/sec: 138.164\n"
     ]
    },
    {
     "name": "stderr",
     "output_type": "stream",
     "text": [
      "I0211 12:07:40.814135 4439444928 basic_session_run_hooks.py:700] global_step/sec: 138.164\n"
     ]
    },
    {
     "name": "stdout",
     "output_type": "stream",
     "text": [
      "INFO:tensorflow:loss = 0.29937592, step = 21277 (0.725 sec)\n"
     ]
    },
    {
     "name": "stderr",
     "output_type": "stream",
     "text": [
      "I0211 12:07:40.815738 4439444928 basic_session_run_hooks.py:260] loss = 0.29937592, step = 21277 (0.725 sec)\n"
     ]
    },
    {
     "name": "stdout",
     "output_type": "stream",
     "text": [
      "INFO:tensorflow:global_step/sec: 441.979\n"
     ]
    },
    {
     "name": "stderr",
     "output_type": "stream",
     "text": [
      "I0211 12:07:41.040363 4439444928 basic_session_run_hooks.py:700] global_step/sec: 441.979\n"
     ]
    },
    {
     "name": "stdout",
     "output_type": "stream",
     "text": [
      "INFO:tensorflow:loss = 0.33652633, step = 21377 (0.226 sec)\n"
     ]
    },
    {
     "name": "stderr",
     "output_type": "stream",
     "text": [
      "I0211 12:07:41.041686 4439444928 basic_session_run_hooks.py:260] loss = 0.33652633, step = 21377 (0.226 sec)\n"
     ]
    },
    {
     "name": "stdout",
     "output_type": "stream",
     "text": [
      "INFO:tensorflow:global_step/sec: 468.634\n"
     ]
    },
    {
     "name": "stderr",
     "output_type": "stream",
     "text": [
      "I0211 12:07:41.253767 4439444928 basic_session_run_hooks.py:700] global_step/sec: 468.634\n"
     ]
    },
    {
     "name": "stdout",
     "output_type": "stream",
     "text": [
      "INFO:tensorflow:loss = 0.33399987, step = 21477 (0.214 sec)\n"
     ]
    },
    {
     "name": "stderr",
     "output_type": "stream",
     "text": [
      "I0211 12:07:41.255334 4439444928 basic_session_run_hooks.py:260] loss = 0.33399987, step = 21477 (0.214 sec)\n"
     ]
    },
    {
     "name": "stdout",
     "output_type": "stream",
     "text": [
      "INFO:tensorflow:global_step/sec: 425.256\n"
     ]
    },
    {
     "name": "stderr",
     "output_type": "stream",
     "text": [
      "I0211 12:07:41.488911 4439444928 basic_session_run_hooks.py:700] global_step/sec: 425.256\n"
     ]
    },
    {
     "name": "stdout",
     "output_type": "stream",
     "text": [
      "INFO:tensorflow:loss = 0.32233214, step = 21577 (0.235 sec)\n"
     ]
    },
    {
     "name": "stderr",
     "output_type": "stream",
     "text": [
      "I0211 12:07:41.490191 4439444928 basic_session_run_hooks.py:260] loss = 0.32233214, step = 21577 (0.235 sec)\n"
     ]
    },
    {
     "name": "stdout",
     "output_type": "stream",
     "text": [
      "INFO:tensorflow:global_step/sec: 499.341\n"
     ]
    },
    {
     "name": "stderr",
     "output_type": "stream",
     "text": [
      "I0211 12:07:41.689159 4439444928 basic_session_run_hooks.py:700] global_step/sec: 499.341\n"
     ]
    },
    {
     "name": "stdout",
     "output_type": "stream",
     "text": [
      "INFO:tensorflow:loss = 0.34378093, step = 21677 (0.200 sec)\n"
     ]
    },
    {
     "name": "stderr",
     "output_type": "stream",
     "text": [
      "I0211 12:07:41.690426 4439444928 basic_session_run_hooks.py:260] loss = 0.34378093, step = 21677 (0.200 sec)\n"
     ]
    },
    {
     "name": "stdout",
     "output_type": "stream",
     "text": [
      "INFO:tensorflow:global_step/sec: 474.025\n"
     ]
    },
    {
     "name": "stderr",
     "output_type": "stream",
     "text": [
      "I0211 12:07:41.900120 4439444928 basic_session_run_hooks.py:700] global_step/sec: 474.025\n"
     ]
    },
    {
     "name": "stdout",
     "output_type": "stream",
     "text": [
      "INFO:tensorflow:loss = 0.51744735, step = 21777 (0.211 sec)\n"
     ]
    },
    {
     "name": "stderr",
     "output_type": "stream",
     "text": [
      "I0211 12:07:41.901403 4439444928 basic_session_run_hooks.py:260] loss = 0.51744735, step = 21777 (0.211 sec)\n"
     ]
    },
    {
     "name": "stdout",
     "output_type": "stream",
     "text": [
      "INFO:tensorflow:global_step/sec: 493.969\n"
     ]
    },
    {
     "name": "stderr",
     "output_type": "stream",
     "text": [
      "I0211 12:07:42.102559 4439444928 basic_session_run_hooks.py:700] global_step/sec: 493.969\n"
     ]
    },
    {
     "name": "stdout",
     "output_type": "stream",
     "text": [
      "INFO:tensorflow:loss = 0.26778802, step = 21877 (0.202 sec)\n"
     ]
    },
    {
     "name": "stderr",
     "output_type": "stream",
     "text": [
      "I0211 12:07:42.103790 4439444928 basic_session_run_hooks.py:260] loss = 0.26778802, step = 21877 (0.202 sec)\n"
     ]
    },
    {
     "name": "stdout",
     "output_type": "stream",
     "text": [
      "INFO:tensorflow:global_step/sec: 488.68\n"
     ]
    },
    {
     "name": "stderr",
     "output_type": "stream",
     "text": [
      "I0211 12:07:42.307193 4439444928 basic_session_run_hooks.py:700] global_step/sec: 488.68\n"
     ]
    },
    {
     "name": "stdout",
     "output_type": "stream",
     "text": [
      "INFO:tensorflow:loss = 0.20074025, step = 21977 (0.205 sec)\n"
     ]
    },
    {
     "name": "stderr",
     "output_type": "stream",
     "text": [
      "I0211 12:07:42.308536 4439444928 basic_session_run_hooks.py:260] loss = 0.20074025, step = 21977 (0.205 sec)\n"
     ]
    },
    {
     "name": "stdout",
     "output_type": "stream",
     "text": [
      "INFO:tensorflow:global_step/sec: 356.256\n"
     ]
    },
    {
     "name": "stderr",
     "output_type": "stream",
     "text": [
      "I0211 12:07:42.587920 4439444928 basic_session_run_hooks.py:700] global_step/sec: 356.256\n"
     ]
    },
    {
     "name": "stdout",
     "output_type": "stream",
     "text": [
      "INFO:tensorflow:loss = 0.35017046, step = 22077 (0.281 sec)\n"
     ]
    },
    {
     "name": "stderr",
     "output_type": "stream",
     "text": [
      "I0211 12:07:42.589286 4439444928 basic_session_run_hooks.py:260] loss = 0.35017046, step = 22077 (0.281 sec)\n"
     ]
    },
    {
     "name": "stdout",
     "output_type": "stream",
     "text": [
      "INFO:tensorflow:global_step/sec: 444.723\n"
     ]
    },
    {
     "name": "stderr",
     "output_type": "stream",
     "text": [
      "I0211 12:07:42.812819 4439444928 basic_session_run_hooks.py:700] global_step/sec: 444.723\n"
     ]
    },
    {
     "name": "stdout",
     "output_type": "stream",
     "text": [
      "INFO:tensorflow:loss = 0.3654397, step = 22177 (0.225 sec)\n"
     ]
    },
    {
     "name": "stderr",
     "output_type": "stream",
     "text": [
      "I0211 12:07:42.814597 4439444928 basic_session_run_hooks.py:260] loss = 0.3654397, step = 22177 (0.225 sec)\n"
     ]
    },
    {
     "name": "stdout",
     "output_type": "stream",
     "text": [
      "INFO:tensorflow:global_step/sec: 443.16\n"
     ]
    },
    {
     "name": "stderr",
     "output_type": "stream",
     "text": [
      "I0211 12:07:43.038433 4439444928 basic_session_run_hooks.py:700] global_step/sec: 443.16\n"
     ]
    },
    {
     "name": "stdout",
     "output_type": "stream",
     "text": [
      "INFO:tensorflow:loss = 0.29027307, step = 22277 (0.225 sec)\n"
     ]
    },
    {
     "name": "stderr",
     "output_type": "stream",
     "text": [
      "I0211 12:07:43.039887 4439444928 basic_session_run_hooks.py:260] loss = 0.29027307, step = 22277 (0.225 sec)\n"
     ]
    },
    {
     "name": "stdout",
     "output_type": "stream",
     "text": [
      "INFO:tensorflow:global_step/sec: 442.589\n"
     ]
    },
    {
     "name": "stderr",
     "output_type": "stream",
     "text": [
      "I0211 12:07:43.264376 4439444928 basic_session_run_hooks.py:700] global_step/sec: 442.589\n"
     ]
    },
    {
     "name": "stdout",
     "output_type": "stream",
     "text": [
      "INFO:tensorflow:loss = 0.33880457, step = 22377 (0.226 sec)\n"
     ]
    },
    {
     "name": "stderr",
     "output_type": "stream",
     "text": [
      "I0211 12:07:43.265770 4439444928 basic_session_run_hooks.py:260] loss = 0.33880457, step = 22377 (0.226 sec)\n"
     ]
    },
    {
     "name": "stdout",
     "output_type": "stream",
     "text": [
      "INFO:tensorflow:global_step/sec: 444.619\n"
     ]
    },
    {
     "name": "stderr",
     "output_type": "stream",
     "text": [
      "I0211 12:07:43.489264 4439444928 basic_session_run_hooks.py:700] global_step/sec: 444.619\n"
     ]
    },
    {
     "name": "stdout",
     "output_type": "stream",
     "text": [
      "INFO:tensorflow:loss = 0.37875026, step = 22477 (0.225 sec)\n"
     ]
    },
    {
     "name": "stderr",
     "output_type": "stream",
     "text": [
      "I0211 12:07:43.490622 4439444928 basic_session_run_hooks.py:260] loss = 0.37875026, step = 22477 (0.225 sec)\n"
     ]
    },
    {
     "name": "stdout",
     "output_type": "stream",
     "text": [
      "INFO:tensorflow:global_step/sec: 451.771\n"
     ]
    },
    {
     "name": "stderr",
     "output_type": "stream",
     "text": [
      "I0211 12:07:43.710612 4439444928 basic_session_run_hooks.py:700] global_step/sec: 451.771\n"
     ]
    },
    {
     "name": "stdout",
     "output_type": "stream",
     "text": [
      "INFO:tensorflow:loss = 0.34076872, step = 22577 (0.221 sec)\n"
     ]
    },
    {
     "name": "stderr",
     "output_type": "stream",
     "text": [
      "I0211 12:07:43.712005 4439444928 basic_session_run_hooks.py:260] loss = 0.34076872, step = 22577 (0.221 sec)\n"
     ]
    },
    {
     "name": "stdout",
     "output_type": "stream",
     "text": [
      "INFO:tensorflow:global_step/sec: 483.861\n"
     ]
    },
    {
     "name": "stderr",
     "output_type": "stream",
     "text": [
      "I0211 12:07:43.917293 4439444928 basic_session_run_hooks.py:700] global_step/sec: 483.861\n"
     ]
    },
    {
     "name": "stdout",
     "output_type": "stream",
     "text": [
      "INFO:tensorflow:loss = 0.2693223, step = 22677 (0.207 sec)\n"
     ]
    },
    {
     "name": "stderr",
     "output_type": "stream",
     "text": [
      "I0211 12:07:43.918540 4439444928 basic_session_run_hooks.py:260] loss = 0.2693223, step = 22677 (0.207 sec)\n"
     ]
    },
    {
     "name": "stdout",
     "output_type": "stream",
     "text": [
      "INFO:tensorflow:global_step/sec: 452.734\n"
     ]
    },
    {
     "name": "stderr",
     "output_type": "stream",
     "text": [
      "I0211 12:07:44.138159 4439444928 basic_session_run_hooks.py:700] global_step/sec: 452.734\n"
     ]
    },
    {
     "name": "stdout",
     "output_type": "stream",
     "text": [
      "INFO:tensorflow:loss = 0.33626455, step = 22777 (0.221 sec)\n"
     ]
    },
    {
     "name": "stderr",
     "output_type": "stream",
     "text": [
      "I0211 12:07:44.139463 4439444928 basic_session_run_hooks.py:260] loss = 0.33626455, step = 22777 (0.221 sec)\n"
     ]
    },
    {
     "name": "stdout",
     "output_type": "stream",
     "text": [
      "INFO:tensorflow:Saving checkpoints for 22806 into model/model.ckpt.\n"
     ]
    },
    {
     "name": "stderr",
     "output_type": "stream",
     "text": [
      "I0211 12:07:44.210839 4439444928 basic_session_run_hooks.py:613] Saving checkpoints for 22806 into model/model.ckpt.\n"
     ]
    },
    {
     "name": "stdout",
     "output_type": "stream",
     "text": [
      "INFO:tensorflow:Loss for final step: 0.054117754.\n"
     ]
    },
    {
     "name": "stderr",
     "output_type": "stream",
     "text": [
      "I0211 12:07:44.410793 4439444928 estimator.py:375] Loss for final step: 0.054117754.\n"
     ]
    },
    {
     "name": "stdout",
     "output_type": "stream",
     "text": [
      "INFO:tensorflow:Parsing data/adult.test\n"
     ]
    },
    {
     "name": "stderr",
     "output_type": "stream",
     "text": [
      "I0211 12:07:44.425060 4439444928 api.py:332] Parsing data/adult.test\n"
     ]
    },
    {
     "name": "stdout",
     "output_type": "stream",
     "text": [
      "INFO:tensorflow:Calling model_fn.\n"
     ]
    },
    {
     "name": "stderr",
     "output_type": "stream",
     "text": [
      "I0211 12:07:44.451009 4439444928 estimator.py:1151] Calling model_fn.\n"
     ]
    },
    {
     "name": "stdout",
     "output_type": "stream",
     "text": [
      "INFO:tensorflow:Done calling model_fn.\n"
     ]
    },
    {
     "name": "stderr",
     "output_type": "stream",
     "text": [
      "I0211 12:07:45.562634 4439444928 estimator.py:1153] Done calling model_fn.\n"
     ]
    },
    {
     "name": "stdout",
     "output_type": "stream",
     "text": [
      "INFO:tensorflow:Starting evaluation at 2020-02-11T12:07:45Z\n"
     ]
    },
    {
     "name": "stderr",
     "output_type": "stream",
     "text": [
      "I0211 12:07:45.576560 4439444928 evaluation.py:255] Starting evaluation at 2020-02-11T12:07:45Z\n"
     ]
    },
    {
     "name": "stdout",
     "output_type": "stream",
     "text": [
      "INFO:tensorflow:Graph was finalized.\n"
     ]
    },
    {
     "name": "stderr",
     "output_type": "stream",
     "text": [
      "I0211 12:07:45.630940 4439444928 monitored_session.py:246] Graph was finalized.\n"
     ]
    },
    {
     "name": "stdout",
     "output_type": "stream",
     "text": [
      "INFO:tensorflow:Restoring parameters from model/model.ckpt-22806\n"
     ]
    },
    {
     "name": "stderr",
     "output_type": "stream",
     "text": [
      "I0211 12:07:45.632822 4439444928 saver.py:1284] Restoring parameters from model/model.ckpt-22806\n"
     ]
    },
    {
     "name": "stdout",
     "output_type": "stream",
     "text": [
      "INFO:tensorflow:Running local_init_op.\n"
     ]
    },
    {
     "name": "stderr",
     "output_type": "stream",
     "text": [
      "I0211 12:07:45.875805 4439444928 session_manager.py:504] Running local_init_op.\n"
     ]
    },
    {
     "name": "stdout",
     "output_type": "stream",
     "text": [
      "INFO:tensorflow:Done running local_init_op.\n"
     ]
    },
    {
     "name": "stderr",
     "output_type": "stream",
     "text": [
      "I0211 12:07:45.971481 4439444928 session_manager.py:507] Done running local_init_op.\n"
     ]
    },
    {
     "name": "stdout",
     "output_type": "stream",
     "text": [
      "INFO:tensorflow:Inference Time : 1.87216s\n"
     ]
    },
    {
     "name": "stderr",
     "output_type": "stream",
     "text": [
      "I0211 12:07:47.449517 4439444928 evaluation.py:273] Inference Time : 1.87216s\n"
     ]
    },
    {
     "name": "stdout",
     "output_type": "stream",
     "text": [
      "INFO:tensorflow:Finished evaluation at 2020-02-11-12:07:47\n"
     ]
    },
    {
     "name": "stderr",
     "output_type": "stream",
     "text": [
      "I0211 12:07:47.450511 4439444928 evaluation.py:276] Finished evaluation at 2020-02-11-12:07:47\n"
     ]
    },
    {
     "name": "stdout",
     "output_type": "stream",
     "text": [
      "INFO:tensorflow:Saving dict for global step 22806: accuracy = 0.8534488, accuracy_baseline = 0.76377374, auc = 0.9034077, auc_precision_recall = 0.7674023, average_loss = 0.32353324, global_step = 22806, label/mean = 0.23622628, loss = 0.32331824, precision = 0.75294524, prediction/mean = 0.24379574, recall = 0.5650026\n"
     ]
    },
    {
     "name": "stderr",
     "output_type": "stream",
     "text": [
      "I0211 12:07:47.451414 4439444928 estimator.py:2053] Saving dict for global step 22806: accuracy = 0.8534488, accuracy_baseline = 0.76377374, auc = 0.9034077, auc_precision_recall = 0.7674023, average_loss = 0.32353324, global_step = 22806, label/mean = 0.23622628, loss = 0.32331824, precision = 0.75294524, prediction/mean = 0.24379574, recall = 0.5650026\n"
     ]
    },
    {
     "name": "stdout",
     "output_type": "stream",
     "text": [
      "INFO:tensorflow:Saving 'checkpoint_path' summary for global step 22806: model/model.ckpt-22806\n"
     ]
    },
    {
     "name": "stderr",
     "output_type": "stream",
     "text": [
      "I0211 12:07:47.452355 4439444928 estimator.py:2113] Saving 'checkpoint_path' summary for global step 22806: model/model.ckpt-22806\n"
     ]
    },
    {
     "name": "stdout",
     "output_type": "stream",
     "text": [
      "INFO:tensorflow:Results at epoch 28 / 40\n"
     ]
    },
    {
     "name": "stderr",
     "output_type": "stream",
     "text": [
      "I0211 12:07:47.453578 4439444928 <ipython-input-7-b40c302cf839>:76] Results at epoch 28 / 40\n"
     ]
    },
    {
     "name": "stdout",
     "output_type": "stream",
     "text": [
      "INFO:tensorflow:------------------------------------------------------------\n"
     ]
    },
    {
     "name": "stderr",
     "output_type": "stream",
     "text": [
      "I0211 12:07:47.454351 4439444928 <ipython-input-7-b40c302cf839>:77] ------------------------------------------------------------\n"
     ]
    },
    {
     "name": "stdout",
     "output_type": "stream",
     "text": [
      "INFO:tensorflow:accuracy: 0.8534488\n"
     ]
    },
    {
     "name": "stderr",
     "output_type": "stream",
     "text": [
      "I0211 12:07:47.455035 4439444928 <ipython-input-7-b40c302cf839>:80] accuracy: 0.8534488\n"
     ]
    },
    {
     "name": "stdout",
     "output_type": "stream",
     "text": [
      "INFO:tensorflow:accuracy_baseline: 0.76377374\n"
     ]
    },
    {
     "name": "stderr",
     "output_type": "stream",
     "text": [
      "I0211 12:07:47.455885 4439444928 <ipython-input-7-b40c302cf839>:80] accuracy_baseline: 0.76377374\n"
     ]
    },
    {
     "name": "stdout",
     "output_type": "stream",
     "text": [
      "INFO:tensorflow:auc: 0.9034077\n"
     ]
    },
    {
     "name": "stderr",
     "output_type": "stream",
     "text": [
      "I0211 12:07:47.456517 4439444928 <ipython-input-7-b40c302cf839>:80] auc: 0.9034077\n"
     ]
    },
    {
     "name": "stdout",
     "output_type": "stream",
     "text": [
      "INFO:tensorflow:auc_precision_recall: 0.7674023\n"
     ]
    },
    {
     "name": "stderr",
     "output_type": "stream",
     "text": [
      "I0211 12:07:47.457240 4439444928 <ipython-input-7-b40c302cf839>:80] auc_precision_recall: 0.7674023\n"
     ]
    },
    {
     "name": "stdout",
     "output_type": "stream",
     "text": [
      "INFO:tensorflow:average_loss: 0.32353324\n"
     ]
    },
    {
     "name": "stderr",
     "output_type": "stream",
     "text": [
      "I0211 12:07:47.458034 4439444928 <ipython-input-7-b40c302cf839>:80] average_loss: 0.32353324\n"
     ]
    },
    {
     "name": "stdout",
     "output_type": "stream",
     "text": [
      "INFO:tensorflow:global_step: 22806\n"
     ]
    },
    {
     "name": "stderr",
     "output_type": "stream",
     "text": [
      "I0211 12:07:47.458842 4439444928 <ipython-input-7-b40c302cf839>:80] global_step: 22806\n"
     ]
    },
    {
     "name": "stdout",
     "output_type": "stream",
     "text": [
      "INFO:tensorflow:label/mean: 0.23622628\n"
     ]
    },
    {
     "name": "stderr",
     "output_type": "stream",
     "text": [
      "I0211 12:07:47.459595 4439444928 <ipython-input-7-b40c302cf839>:80] label/mean: 0.23622628\n"
     ]
    },
    {
     "name": "stdout",
     "output_type": "stream",
     "text": [
      "INFO:tensorflow:loss: 0.32331824\n"
     ]
    },
    {
     "name": "stderr",
     "output_type": "stream",
     "text": [
      "I0211 12:07:47.460191 4439444928 <ipython-input-7-b40c302cf839>:80] loss: 0.32331824\n"
     ]
    },
    {
     "name": "stdout",
     "output_type": "stream",
     "text": [
      "INFO:tensorflow:precision: 0.75294524\n"
     ]
    },
    {
     "name": "stderr",
     "output_type": "stream",
     "text": [
      "I0211 12:07:47.460978 4439444928 <ipython-input-7-b40c302cf839>:80] precision: 0.75294524\n"
     ]
    },
    {
     "name": "stdout",
     "output_type": "stream",
     "text": [
      "INFO:tensorflow:prediction/mean: 0.24379574\n"
     ]
    },
    {
     "name": "stderr",
     "output_type": "stream",
     "text": [
      "I0211 12:07:47.461580 4439444928 <ipython-input-7-b40c302cf839>:80] prediction/mean: 0.24379574\n"
     ]
    },
    {
     "name": "stdout",
     "output_type": "stream",
     "text": [
      "INFO:tensorflow:recall: 0.5650026\n"
     ]
    },
    {
     "name": "stderr",
     "output_type": "stream",
     "text": [
      "I0211 12:07:47.462381 4439444928 <ipython-input-7-b40c302cf839>:80] recall: 0.5650026\n"
     ]
    },
    {
     "name": "stdout",
     "output_type": "stream",
     "text": [
      "INFO:tensorflow:Benchmark metric: {'name': 'accuracy', 'value': 0.8534488081932068, 'unit': None, 'global_step': 22806, 'timestamp': '2020-02-11T05:07:47.462966Z', 'extras': []}\n"
     ]
    },
    {
     "name": "stderr",
     "output_type": "stream",
     "text": [
      "I0211 12:07:47.462990 4439444928 logger.py:147] Benchmark metric: {'name': 'accuracy', 'value': 0.8534488081932068, 'unit': None, 'global_step': 22806, 'timestamp': '2020-02-11T05:07:47.462966Z', 'extras': []}\n"
     ]
    },
    {
     "name": "stdout",
     "output_type": "stream",
     "text": [
      "INFO:tensorflow:Benchmark metric: {'name': 'accuracy_baseline', 'value': 0.7637737393379211, 'unit': None, 'global_step': 22806, 'timestamp': '2020-02-11T05:07:47.463789Z', 'extras': []}\n"
     ]
    },
    {
     "name": "stderr",
     "output_type": "stream",
     "text": [
      "I0211 12:07:47.463812 4439444928 logger.py:147] Benchmark metric: {'name': 'accuracy_baseline', 'value': 0.7637737393379211, 'unit': None, 'global_step': 22806, 'timestamp': '2020-02-11T05:07:47.463789Z', 'extras': []}\n"
     ]
    },
    {
     "name": "stdout",
     "output_type": "stream",
     "text": [
      "INFO:tensorflow:Benchmark metric: {'name': 'auc', 'value': 0.9034076929092407, 'unit': None, 'global_step': 22806, 'timestamp': '2020-02-11T05:07:47.464422Z', 'extras': []}\n"
     ]
    },
    {
     "name": "stderr",
     "output_type": "stream",
     "text": [
      "I0211 12:07:47.464440 4439444928 logger.py:147] Benchmark metric: {'name': 'auc', 'value': 0.9034076929092407, 'unit': None, 'global_step': 22806, 'timestamp': '2020-02-11T05:07:47.464422Z', 'extras': []}\n"
     ]
    },
    {
     "name": "stdout",
     "output_type": "stream",
     "text": [
      "INFO:tensorflow:Benchmark metric: {'name': 'auc_precision_recall', 'value': 0.7674022912979126, 'unit': None, 'global_step': 22806, 'timestamp': '2020-02-11T05:07:47.465242Z', 'extras': []}\n"
     ]
    },
    {
     "name": "stderr",
     "output_type": "stream",
     "text": [
      "I0211 12:07:47.465260 4439444928 logger.py:147] Benchmark metric: {'name': 'auc_precision_recall', 'value': 0.7674022912979126, 'unit': None, 'global_step': 22806, 'timestamp': '2020-02-11T05:07:47.465242Z', 'extras': []}\n"
     ]
    },
    {
     "name": "stdout",
     "output_type": "stream",
     "text": [
      "INFO:tensorflow:Benchmark metric: {'name': 'average_loss', 'value': 0.32353323698043823, 'unit': None, 'global_step': 22806, 'timestamp': '2020-02-11T05:07:47.465915Z', 'extras': []}\n"
     ]
    },
    {
     "name": "stderr",
     "output_type": "stream",
     "text": [
      "I0211 12:07:47.465934 4439444928 logger.py:147] Benchmark metric: {'name': 'average_loss', 'value': 0.32353323698043823, 'unit': None, 'global_step': 22806, 'timestamp': '2020-02-11T05:07:47.465915Z', 'extras': []}\n"
     ]
    },
    {
     "name": "stdout",
     "output_type": "stream",
     "text": [
      "INFO:tensorflow:Benchmark metric: {'name': 'label/mean', 'value': 0.23622627556324005, 'unit': None, 'global_step': 22806, 'timestamp': '2020-02-11T05:07:47.466677Z', 'extras': []}\n"
     ]
    },
    {
     "name": "stderr",
     "output_type": "stream",
     "text": [
      "I0211 12:07:47.466694 4439444928 logger.py:147] Benchmark metric: {'name': 'label/mean', 'value': 0.23622627556324005, 'unit': None, 'global_step': 22806, 'timestamp': '2020-02-11T05:07:47.466677Z', 'extras': []}\n"
     ]
    },
    {
     "name": "stdout",
     "output_type": "stream",
     "text": [
      "INFO:tensorflow:Benchmark metric: {'name': 'loss', 'value': 0.3233182430267334, 'unit': None, 'global_step': 22806, 'timestamp': '2020-02-11T05:07:47.467309Z', 'extras': []}\n"
     ]
    },
    {
     "name": "stderr",
     "output_type": "stream",
     "text": [
      "I0211 12:07:47.467329 4439444928 logger.py:147] Benchmark metric: {'name': 'loss', 'value': 0.3233182430267334, 'unit': None, 'global_step': 22806, 'timestamp': '2020-02-11T05:07:47.467309Z', 'extras': []}\n"
     ]
    },
    {
     "name": "stdout",
     "output_type": "stream",
     "text": [
      "INFO:tensorflow:Benchmark metric: {'name': 'precision', 'value': 0.7529452443122864, 'unit': None, 'global_step': 22806, 'timestamp': '2020-02-11T05:07:47.468123Z', 'extras': []}\n"
     ]
    },
    {
     "name": "stderr",
     "output_type": "stream",
     "text": [
      "I0211 12:07:47.468142 4439444928 logger.py:147] Benchmark metric: {'name': 'precision', 'value': 0.7529452443122864, 'unit': None, 'global_step': 22806, 'timestamp': '2020-02-11T05:07:47.468123Z', 'extras': []}\n"
     ]
    },
    {
     "name": "stdout",
     "output_type": "stream",
     "text": [
      "INFO:tensorflow:Benchmark metric: {'name': 'prediction/mean', 'value': 0.2437957376241684, 'unit': None, 'global_step': 22806, 'timestamp': '2020-02-11T05:07:47.469084Z', 'extras': []}\n"
     ]
    },
    {
     "name": "stderr",
     "output_type": "stream",
     "text": [
      "I0211 12:07:47.469103 4439444928 logger.py:147] Benchmark metric: {'name': 'prediction/mean', 'value': 0.2437957376241684, 'unit': None, 'global_step': 22806, 'timestamp': '2020-02-11T05:07:47.469084Z', 'extras': []}\n"
     ]
    },
    {
     "name": "stdout",
     "output_type": "stream",
     "text": [
      "INFO:tensorflow:Benchmark metric: {'name': 'recall', 'value': 0.5650026202201843, 'unit': None, 'global_step': 22806, 'timestamp': '2020-02-11T05:07:47.470030Z', 'extras': []}\n"
     ]
    },
    {
     "name": "stderr",
     "output_type": "stream",
     "text": [
      "I0211 12:07:47.470052 4439444928 logger.py:147] Benchmark metric: {'name': 'recall', 'value': 0.5650026202201843, 'unit': None, 'global_step': 22806, 'timestamp': '2020-02-11T05:07:47.470030Z', 'extras': []}\n"
     ]
    },
    {
     "name": "stdout",
     "output_type": "stream",
     "text": [
      "INFO:tensorflow:Parsing data/adult.data\n"
     ]
    },
    {
     "name": "stderr",
     "output_type": "stream",
     "text": [
      "I0211 12:07:47.498355 4439444928 api.py:332] Parsing data/adult.data\n"
     ]
    },
    {
     "name": "stdout",
     "output_type": "stream",
     "text": [
      "INFO:tensorflow:Calling model_fn.\n"
     ]
    },
    {
     "name": "stderr",
     "output_type": "stream",
     "text": [
      "I0211 12:07:47.528212 4439444928 estimator.py:1151] Calling model_fn.\n"
     ]
    },
    {
     "name": "stdout",
     "output_type": "stream",
     "text": [
      "INFO:tensorflow:Done calling model_fn.\n"
     ]
    },
    {
     "name": "stderr",
     "output_type": "stream",
     "text": [
      "I0211 12:07:48.316346 4439444928 estimator.py:1153] Done calling model_fn.\n"
     ]
    },
    {
     "name": "stdout",
     "output_type": "stream",
     "text": [
      "INFO:tensorflow:Create CheckpointSaverHook.\n"
     ]
    },
    {
     "name": "stderr",
     "output_type": "stream",
     "text": [
      "I0211 12:07:48.317488 4439444928 basic_session_run_hooks.py:546] Create CheckpointSaverHook.\n"
     ]
    },
    {
     "name": "stdout",
     "output_type": "stream",
     "text": [
      "INFO:tensorflow:Graph was finalized.\n"
     ]
    },
    {
     "name": "stderr",
     "output_type": "stream",
     "text": [
      "I0211 12:07:48.518573 4439444928 monitored_session.py:246] Graph was finalized.\n"
     ]
    },
    {
     "name": "stdout",
     "output_type": "stream",
     "text": [
      "INFO:tensorflow:Restoring parameters from model/model.ckpt-22806\n"
     ]
    },
    {
     "name": "stderr",
     "output_type": "stream",
     "text": [
      "I0211 12:07:48.522088 4439444928 saver.py:1284] Restoring parameters from model/model.ckpt-22806\n"
     ]
    },
    {
     "name": "stdout",
     "output_type": "stream",
     "text": [
      "INFO:tensorflow:Running local_init_op.\n"
     ]
    },
    {
     "name": "stderr",
     "output_type": "stream",
     "text": [
      "I0211 12:07:48.738719 4439444928 session_manager.py:504] Running local_init_op.\n"
     ]
    },
    {
     "name": "stdout",
     "output_type": "stream",
     "text": [
      "INFO:tensorflow:Done running local_init_op.\n"
     ]
    },
    {
     "name": "stderr",
     "output_type": "stream",
     "text": [
      "I0211 12:07:48.795041 4439444928 session_manager.py:507] Done running local_init_op.\n"
     ]
    },
    {
     "name": "stdout",
     "output_type": "stream",
     "text": [
      "INFO:tensorflow:Saving checkpoints for 22806 into model/model.ckpt.\n"
     ]
    },
    {
     "name": "stderr",
     "output_type": "stream",
     "text": [
      "I0211 12:07:49.700112 4439444928 basic_session_run_hooks.py:613] Saving checkpoints for 22806 into model/model.ckpt.\n"
     ]
    },
    {
     "name": "stdout",
     "output_type": "stream",
     "text": [
      "INFO:tensorflow:loss = 0.4157198, step = 22806\n"
     ]
    },
    {
     "name": "stderr",
     "output_type": "stream",
     "text": [
      "I0211 12:07:50.837954 4439444928 basic_session_run_hooks.py:262] loss = 0.4157198, step = 22806\n"
     ]
    },
    {
     "name": "stdout",
     "output_type": "stream",
     "text": [
      "INFO:tensorflow:global_step/sec: 139.579\n"
     ]
    },
    {
     "name": "stderr",
     "output_type": "stream",
     "text": [
      "I0211 12:07:51.554055 4439444928 basic_session_run_hooks.py:700] global_step/sec: 139.579\n"
     ]
    },
    {
     "name": "stdout",
     "output_type": "stream",
     "text": [
      "INFO:tensorflow:loss = 0.29270884, step = 22906 (0.717 sec)\n"
     ]
    },
    {
     "name": "stderr",
     "output_type": "stream",
     "text": [
      "I0211 12:07:51.555325 4439444928 basic_session_run_hooks.py:260] loss = 0.29270884, step = 22906 (0.717 sec)\n"
     ]
    },
    {
     "name": "stdout",
     "output_type": "stream",
     "text": [
      "INFO:tensorflow:global_step/sec: 480.359\n"
     ]
    },
    {
     "name": "stderr",
     "output_type": "stream",
     "text": [
      "I0211 12:07:51.762228 4439444928 basic_session_run_hooks.py:700] global_step/sec: 480.359\n"
     ]
    },
    {
     "name": "stdout",
     "output_type": "stream",
     "text": [
      "INFO:tensorflow:loss = 0.27201372, step = 23006 (0.208 sec)\n"
     ]
    },
    {
     "name": "stderr",
     "output_type": "stream",
     "text": [
      "I0211 12:07:51.763514 4439444928 basic_session_run_hooks.py:260] loss = 0.27201372, step = 23006 (0.208 sec)\n"
     ]
    },
    {
     "name": "stdout",
     "output_type": "stream",
     "text": [
      "INFO:tensorflow:global_step/sec: 509.523\n"
     ]
    },
    {
     "name": "stderr",
     "output_type": "stream",
     "text": [
      "I0211 12:07:51.958490 4439444928 basic_session_run_hooks.py:700] global_step/sec: 509.523\n"
     ]
    },
    {
     "name": "stdout",
     "output_type": "stream",
     "text": [
      "INFO:tensorflow:loss = 0.32623017, step = 23106 (0.196 sec)\n"
     ]
    },
    {
     "name": "stderr",
     "output_type": "stream",
     "text": [
      "I0211 12:07:51.959722 4439444928 basic_session_run_hooks.py:260] loss = 0.32623017, step = 23106 (0.196 sec)\n"
     ]
    },
    {
     "name": "stdout",
     "output_type": "stream",
     "text": [
      "INFO:tensorflow:global_step/sec: 514.732\n"
     ]
    },
    {
     "name": "stderr",
     "output_type": "stream",
     "text": [
      "I0211 12:07:52.152767 4439444928 basic_session_run_hooks.py:700] global_step/sec: 514.732\n"
     ]
    },
    {
     "name": "stdout",
     "output_type": "stream",
     "text": [
      "INFO:tensorflow:loss = 0.28057176, step = 23206 (0.194 sec)\n"
     ]
    },
    {
     "name": "stderr",
     "output_type": "stream",
     "text": [
      "I0211 12:07:52.154052 4439444928 basic_session_run_hooks.py:260] loss = 0.28057176, step = 23206 (0.194 sec)\n"
     ]
    },
    {
     "name": "stdout",
     "output_type": "stream",
     "text": [
      "INFO:tensorflow:global_step/sec: 503.134\n"
     ]
    },
    {
     "name": "stderr",
     "output_type": "stream",
     "text": [
      "I0211 12:07:52.351517 4439444928 basic_session_run_hooks.py:700] global_step/sec: 503.134\n"
     ]
    },
    {
     "name": "stdout",
     "output_type": "stream",
     "text": [
      "INFO:tensorflow:loss = 0.2935922, step = 23306 (0.199 sec)\n"
     ]
    },
    {
     "name": "stderr",
     "output_type": "stream",
     "text": [
      "I0211 12:07:52.352745 4439444928 basic_session_run_hooks.py:260] loss = 0.2935922, step = 23306 (0.199 sec)\n"
     ]
    },
    {
     "name": "stdout",
     "output_type": "stream",
     "text": [
      "INFO:tensorflow:global_step/sec: 500.521\n"
     ]
    },
    {
     "name": "stderr",
     "output_type": "stream",
     "text": [
      "I0211 12:07:52.551330 4439444928 basic_session_run_hooks.py:700] global_step/sec: 500.521\n"
     ]
    },
    {
     "name": "stdout",
     "output_type": "stream",
     "text": [
      "INFO:tensorflow:loss = 0.33517513, step = 23406 (0.200 sec)\n"
     ]
    },
    {
     "name": "stderr",
     "output_type": "stream",
     "text": [
      "I0211 12:07:52.552623 4439444928 basic_session_run_hooks.py:260] loss = 0.33517513, step = 23406 (0.200 sec)\n"
     ]
    },
    {
     "name": "stdout",
     "output_type": "stream",
     "text": [
      "INFO:tensorflow:global_step/sec: 499.41\n"
     ]
    },
    {
     "name": "stderr",
     "output_type": "stream",
     "text": [
      "I0211 12:07:52.751549 4439444928 basic_session_run_hooks.py:700] global_step/sec: 499.41\n"
     ]
    },
    {
     "name": "stdout",
     "output_type": "stream",
     "text": [
      "INFO:tensorflow:loss = 0.28517956, step = 23506 (0.200 sec)\n"
     ]
    },
    {
     "name": "stderr",
     "output_type": "stream",
     "text": [
      "I0211 12:07:52.752810 4439444928 basic_session_run_hooks.py:260] loss = 0.28517956, step = 23506 (0.200 sec)\n"
     ]
    },
    {
     "name": "stdout",
     "output_type": "stream",
     "text": [
      "INFO:tensorflow:global_step/sec: 495.04\n"
     ]
    },
    {
     "name": "stderr",
     "output_type": "stream",
     "text": [
      "I0211 12:07:52.953570 4439444928 basic_session_run_hooks.py:700] global_step/sec: 495.04\n"
     ]
    },
    {
     "name": "stdout",
     "output_type": "stream",
     "text": [
      "INFO:tensorflow:loss = 0.43865985, step = 23606 (0.202 sec)\n"
     ]
    },
    {
     "name": "stderr",
     "output_type": "stream",
     "text": [
      "I0211 12:07:52.954918 4439444928 basic_session_run_hooks.py:260] loss = 0.43865985, step = 23606 (0.202 sec)\n"
     ]
    },
    {
     "name": "stdout",
     "output_type": "stream",
     "text": [
      "INFO:tensorflow:global_step/sec: 393.716\n"
     ]
    },
    {
     "name": "stderr",
     "output_type": "stream",
     "text": [
      "I0211 12:07:53.207546 4439444928 basic_session_run_hooks.py:700] global_step/sec: 393.716\n"
     ]
    },
    {
     "name": "stdout",
     "output_type": "stream",
     "text": [
      "INFO:tensorflow:loss = 0.3330845, step = 23706 (0.254 sec)\n"
     ]
    },
    {
     "name": "stderr",
     "output_type": "stream",
     "text": [
      "I0211 12:07:53.208831 4439444928 basic_session_run_hooks.py:260] loss = 0.3330845, step = 23706 (0.254 sec)\n"
     ]
    },
    {
     "name": "stdout",
     "output_type": "stream",
     "text": [
      "INFO:tensorflow:global_step/sec: 511.266\n"
     ]
    },
    {
     "name": "stderr",
     "output_type": "stream",
     "text": [
      "I0211 12:07:53.403136 4439444928 basic_session_run_hooks.py:700] global_step/sec: 511.266\n"
     ]
    },
    {
     "name": "stdout",
     "output_type": "stream",
     "text": [
      "INFO:tensorflow:loss = 0.29044628, step = 23806 (0.196 sec)\n"
     ]
    },
    {
     "name": "stderr",
     "output_type": "stream",
     "text": [
      "I0211 12:07:53.404430 4439444928 basic_session_run_hooks.py:260] loss = 0.29044628, step = 23806 (0.196 sec)\n"
     ]
    },
    {
     "name": "stdout",
     "output_type": "stream",
     "text": [
      "INFO:tensorflow:global_step/sec: 503.717\n"
     ]
    },
    {
     "name": "stderr",
     "output_type": "stream",
     "text": [
      "I0211 12:07:53.601658 4439444928 basic_session_run_hooks.py:700] global_step/sec: 503.717\n"
     ]
    },
    {
     "name": "stdout",
     "output_type": "stream",
     "text": [
      "INFO:tensorflow:loss = 0.38220206, step = 23906 (0.199 sec)\n"
     ]
    },
    {
     "name": "stderr",
     "output_type": "stream",
     "text": [
      "I0211 12:07:53.603081 4439444928 basic_session_run_hooks.py:260] loss = 0.38220206, step = 23906 (0.199 sec)\n"
     ]
    },
    {
     "name": "stdout",
     "output_type": "stream",
     "text": [
      "INFO:tensorflow:global_step/sec: 439.904\n"
     ]
    },
    {
     "name": "stderr",
     "output_type": "stream",
     "text": [
      "I0211 12:07:53.828984 4439444928 basic_session_run_hooks.py:700] global_step/sec: 439.904\n"
     ]
    },
    {
     "name": "stdout",
     "output_type": "stream",
     "text": [
      "INFO:tensorflow:loss = 0.22273083, step = 24006 (0.227 sec)\n"
     ]
    },
    {
     "name": "stderr",
     "output_type": "stream",
     "text": [
      "I0211 12:07:53.830434 4439444928 basic_session_run_hooks.py:260] loss = 0.22273083, step = 24006 (0.227 sec)\n"
     ]
    },
    {
     "name": "stdout",
     "output_type": "stream",
     "text": [
      "INFO:tensorflow:global_step/sec: 456.667\n"
     ]
    },
    {
     "name": "stderr",
     "output_type": "stream",
     "text": [
      "I0211 12:07:54.047960 4439444928 basic_session_run_hooks.py:700] global_step/sec: 456.667\n"
     ]
    },
    {
     "name": "stdout",
     "output_type": "stream",
     "text": [
      "INFO:tensorflow:loss = 0.39570993, step = 24106 (0.219 sec)\n"
     ]
    },
    {
     "name": "stderr",
     "output_type": "stream",
     "text": [
      "I0211 12:07:54.049358 4439444928 basic_session_run_hooks.py:260] loss = 0.39570993, step = 24106 (0.219 sec)\n"
     ]
    },
    {
     "name": "stdout",
     "output_type": "stream",
     "text": [
      "INFO:tensorflow:global_step/sec: 441.627\n"
     ]
    },
    {
     "name": "stderr",
     "output_type": "stream",
     "text": [
      "I0211 12:07:54.274449 4439444928 basic_session_run_hooks.py:700] global_step/sec: 441.627\n"
     ]
    },
    {
     "name": "stdout",
     "output_type": "stream",
     "text": [
      "INFO:tensorflow:loss = 0.28436273, step = 24206 (0.227 sec)\n"
     ]
    },
    {
     "name": "stderr",
     "output_type": "stream",
     "text": [
      "I0211 12:07:54.276122 4439444928 basic_session_run_hooks.py:260] loss = 0.28436273, step = 24206 (0.227 sec)\n"
     ]
    },
    {
     "name": "stdout",
     "output_type": "stream",
     "text": [
      "INFO:tensorflow:global_step/sec: 456.384\n"
     ]
    },
    {
     "name": "stderr",
     "output_type": "stream",
     "text": [
      "I0211 12:07:54.493573 4439444928 basic_session_run_hooks.py:700] global_step/sec: 456.384\n"
     ]
    },
    {
     "name": "stdout",
     "output_type": "stream",
     "text": [
      "INFO:tensorflow:loss = 0.35585278, step = 24306 (0.219 sec)\n"
     ]
    },
    {
     "name": "stderr",
     "output_type": "stream",
     "text": [
      "I0211 12:07:54.495018 4439444928 basic_session_run_hooks.py:260] loss = 0.35585278, step = 24306 (0.219 sec)\n"
     ]
    },
    {
     "name": "stdout",
     "output_type": "stream",
     "text": [
      "INFO:tensorflow:global_step/sec: 448.668\n"
     ]
    },
    {
     "name": "stderr",
     "output_type": "stream",
     "text": [
      "I0211 12:07:54.716431 4439444928 basic_session_run_hooks.py:700] global_step/sec: 448.668\n"
     ]
    },
    {
     "name": "stdout",
     "output_type": "stream",
     "text": [
      "INFO:tensorflow:loss = 0.35435423, step = 24406 (0.223 sec)\n"
     ]
    },
    {
     "name": "stderr",
     "output_type": "stream",
     "text": [
      "I0211 12:07:54.717786 4439444928 basic_session_run_hooks.py:260] loss = 0.35435423, step = 24406 (0.223 sec)\n"
     ]
    },
    {
     "name": "stdout",
     "output_type": "stream",
     "text": [
      "INFO:tensorflow:Saving checkpoints for 24435 into model/model.ckpt.\n"
     ]
    },
    {
     "name": "stderr",
     "output_type": "stream",
     "text": [
      "I0211 12:07:54.782100 4439444928 basic_session_run_hooks.py:613] Saving checkpoints for 24435 into model/model.ckpt.\n"
     ]
    },
    {
     "name": "stdout",
     "output_type": "stream",
     "text": [
      "INFO:tensorflow:Loss for final step: 0.03657828.\n"
     ]
    },
    {
     "name": "stderr",
     "output_type": "stream",
     "text": [
      "I0211 12:07:54.963922 4439444928 estimator.py:375] Loss for final step: 0.03657828.\n"
     ]
    },
    {
     "name": "stdout",
     "output_type": "stream",
     "text": [
      "INFO:tensorflow:Parsing data/adult.test\n"
     ]
    },
    {
     "name": "stderr",
     "output_type": "stream",
     "text": [
      "I0211 12:07:54.974946 4439444928 api.py:332] Parsing data/adult.test\n"
     ]
    },
    {
     "name": "stdout",
     "output_type": "stream",
     "text": [
      "INFO:tensorflow:Calling model_fn.\n"
     ]
    },
    {
     "name": "stderr",
     "output_type": "stream",
     "text": [
      "I0211 12:07:54.996583 4439444928 estimator.py:1151] Calling model_fn.\n"
     ]
    },
    {
     "name": "stdout",
     "output_type": "stream",
     "text": [
      "INFO:tensorflow:Done calling model_fn.\n"
     ]
    },
    {
     "name": "stderr",
     "output_type": "stream",
     "text": [
      "I0211 12:07:56.018934 4439444928 estimator.py:1153] Done calling model_fn.\n"
     ]
    },
    {
     "name": "stdout",
     "output_type": "stream",
     "text": [
      "INFO:tensorflow:Starting evaluation at 2020-02-11T12:07:56Z\n"
     ]
    },
    {
     "name": "stderr",
     "output_type": "stream",
     "text": [
      "I0211 12:07:56.034935 4439444928 evaluation.py:255] Starting evaluation at 2020-02-11T12:07:56Z\n"
     ]
    },
    {
     "name": "stdout",
     "output_type": "stream",
     "text": [
      "INFO:tensorflow:Graph was finalized.\n"
     ]
    },
    {
     "name": "stderr",
     "output_type": "stream",
     "text": [
      "I0211 12:07:56.097357 4439444928 monitored_session.py:246] Graph was finalized.\n"
     ]
    },
    {
     "name": "stdout",
     "output_type": "stream",
     "text": [
      "INFO:tensorflow:Restoring parameters from model/model.ckpt-24435\n"
     ]
    },
    {
     "name": "stderr",
     "output_type": "stream",
     "text": [
      "I0211 12:07:56.099286 4439444928 saver.py:1284] Restoring parameters from model/model.ckpt-24435\n"
     ]
    },
    {
     "name": "stdout",
     "output_type": "stream",
     "text": [
      "INFO:tensorflow:Running local_init_op.\n"
     ]
    },
    {
     "name": "stderr",
     "output_type": "stream",
     "text": [
      "I0211 12:07:56.330671 4439444928 session_manager.py:504] Running local_init_op.\n"
     ]
    },
    {
     "name": "stdout",
     "output_type": "stream",
     "text": [
      "INFO:tensorflow:Done running local_init_op.\n"
     ]
    },
    {
     "name": "stderr",
     "output_type": "stream",
     "text": [
      "I0211 12:07:56.417199 4439444928 session_manager.py:507] Done running local_init_op.\n"
     ]
    },
    {
     "name": "stdout",
     "output_type": "stream",
     "text": [
      "INFO:tensorflow:Inference Time : 1.90283s\n"
     ]
    },
    {
     "name": "stderr",
     "output_type": "stream",
     "text": [
      "I0211 12:07:57.938729 4439444928 evaluation.py:273] Inference Time : 1.90283s\n"
     ]
    },
    {
     "name": "stdout",
     "output_type": "stream",
     "text": [
      "INFO:tensorflow:Finished evaluation at 2020-02-11-12:07:57\n"
     ]
    },
    {
     "name": "stderr",
     "output_type": "stream",
     "text": [
      "I0211 12:07:57.939702 4439444928 evaluation.py:276] Finished evaluation at 2020-02-11-12:07:57\n"
     ]
    },
    {
     "name": "stdout",
     "output_type": "stream",
     "text": [
      "INFO:tensorflow:Saving dict for global step 24435: accuracy = 0.85449296, accuracy_baseline = 0.76377374, auc = 0.9029546, auc_precision_recall = 0.7629763, average_loss = 0.3263514, global_step = 24435, label/mean = 0.23622628, loss = 0.3261088, precision = 0.78154784, prediction/mean = 0.2299623, recall = 0.53302133\n"
     ]
    },
    {
     "name": "stderr",
     "output_type": "stream",
     "text": [
      "I0211 12:07:57.941195 4439444928 estimator.py:2053] Saving dict for global step 24435: accuracy = 0.85449296, accuracy_baseline = 0.76377374, auc = 0.9029546, auc_precision_recall = 0.7629763, average_loss = 0.3263514, global_step = 24435, label/mean = 0.23622628, loss = 0.3261088, precision = 0.78154784, prediction/mean = 0.2299623, recall = 0.53302133\n"
     ]
    },
    {
     "name": "stdout",
     "output_type": "stream",
     "text": [
      "INFO:tensorflow:Saving 'checkpoint_path' summary for global step 24435: model/model.ckpt-24435\n"
     ]
    },
    {
     "name": "stderr",
     "output_type": "stream",
     "text": [
      "I0211 12:07:57.942543 4439444928 estimator.py:2113] Saving 'checkpoint_path' summary for global step 24435: model/model.ckpt-24435\n"
     ]
    },
    {
     "name": "stdout",
     "output_type": "stream",
     "text": [
      "INFO:tensorflow:Results at epoch 30 / 40\n"
     ]
    },
    {
     "name": "stderr",
     "output_type": "stream",
     "text": [
      "I0211 12:07:57.943735 4439444928 <ipython-input-7-b40c302cf839>:76] Results at epoch 30 / 40\n"
     ]
    },
    {
     "name": "stdout",
     "output_type": "stream",
     "text": [
      "INFO:tensorflow:------------------------------------------------------------\n"
     ]
    },
    {
     "name": "stderr",
     "output_type": "stream",
     "text": [
      "I0211 12:07:57.944447 4439444928 <ipython-input-7-b40c302cf839>:77] ------------------------------------------------------------\n"
     ]
    },
    {
     "name": "stdout",
     "output_type": "stream",
     "text": [
      "INFO:tensorflow:accuracy: 0.85449296\n"
     ]
    },
    {
     "name": "stderr",
     "output_type": "stream",
     "text": [
      "I0211 12:07:57.945358 4439444928 <ipython-input-7-b40c302cf839>:80] accuracy: 0.85449296\n"
     ]
    },
    {
     "name": "stdout",
     "output_type": "stream",
     "text": [
      "INFO:tensorflow:accuracy_baseline: 0.76377374\n"
     ]
    },
    {
     "name": "stderr",
     "output_type": "stream",
     "text": [
      "I0211 12:07:57.946335 4439444928 <ipython-input-7-b40c302cf839>:80] accuracy_baseline: 0.76377374\n"
     ]
    },
    {
     "name": "stdout",
     "output_type": "stream",
     "text": [
      "INFO:tensorflow:auc: 0.9029546\n"
     ]
    },
    {
     "name": "stderr",
     "output_type": "stream",
     "text": [
      "I0211 12:07:57.947120 4439444928 <ipython-input-7-b40c302cf839>:80] auc: 0.9029546\n"
     ]
    },
    {
     "name": "stdout",
     "output_type": "stream",
     "text": [
      "INFO:tensorflow:auc_precision_recall: 0.7629763\n"
     ]
    },
    {
     "name": "stderr",
     "output_type": "stream",
     "text": [
      "I0211 12:07:57.948161 4439444928 <ipython-input-7-b40c302cf839>:80] auc_precision_recall: 0.7629763\n"
     ]
    },
    {
     "name": "stdout",
     "output_type": "stream",
     "text": [
      "INFO:tensorflow:average_loss: 0.3263514\n"
     ]
    },
    {
     "name": "stderr",
     "output_type": "stream",
     "text": [
      "I0211 12:07:57.949349 4439444928 <ipython-input-7-b40c302cf839>:80] average_loss: 0.3263514\n"
     ]
    },
    {
     "name": "stdout",
     "output_type": "stream",
     "text": [
      "INFO:tensorflow:global_step: 24435\n"
     ]
    },
    {
     "name": "stderr",
     "output_type": "stream",
     "text": [
      "I0211 12:07:57.950284 4439444928 <ipython-input-7-b40c302cf839>:80] global_step: 24435\n"
     ]
    },
    {
     "name": "stdout",
     "output_type": "stream",
     "text": [
      "INFO:tensorflow:label/mean: 0.23622628\n"
     ]
    },
    {
     "name": "stderr",
     "output_type": "stream",
     "text": [
      "I0211 12:07:57.951066 4439444928 <ipython-input-7-b40c302cf839>:80] label/mean: 0.23622628\n"
     ]
    },
    {
     "name": "stdout",
     "output_type": "stream",
     "text": [
      "INFO:tensorflow:loss: 0.3261088\n"
     ]
    },
    {
     "name": "stderr",
     "output_type": "stream",
     "text": [
      "I0211 12:07:57.951985 4439444928 <ipython-input-7-b40c302cf839>:80] loss: 0.3261088\n"
     ]
    },
    {
     "name": "stdout",
     "output_type": "stream",
     "text": [
      "INFO:tensorflow:precision: 0.78154784\n"
     ]
    },
    {
     "name": "stderr",
     "output_type": "stream",
     "text": [
      "I0211 12:07:57.952796 4439444928 <ipython-input-7-b40c302cf839>:80] precision: 0.78154784\n"
     ]
    },
    {
     "name": "stdout",
     "output_type": "stream",
     "text": [
      "INFO:tensorflow:prediction/mean: 0.2299623\n"
     ]
    },
    {
     "name": "stderr",
     "output_type": "stream",
     "text": [
      "I0211 12:07:57.953498 4439444928 <ipython-input-7-b40c302cf839>:80] prediction/mean: 0.2299623\n"
     ]
    },
    {
     "name": "stdout",
     "output_type": "stream",
     "text": [
      "INFO:tensorflow:recall: 0.53302133\n"
     ]
    },
    {
     "name": "stderr",
     "output_type": "stream",
     "text": [
      "I0211 12:07:57.954266 4439444928 <ipython-input-7-b40c302cf839>:80] recall: 0.53302133\n"
     ]
    },
    {
     "name": "stdout",
     "output_type": "stream",
     "text": [
      "INFO:tensorflow:Benchmark metric: {'name': 'accuracy', 'value': 0.8544929623603821, 'unit': None, 'global_step': 24435, 'timestamp': '2020-02-11T05:07:57.954895Z', 'extras': []}\n"
     ]
    },
    {
     "name": "stderr",
     "output_type": "stream",
     "text": [
      "I0211 12:07:57.954921 4439444928 logger.py:147] Benchmark metric: {'name': 'accuracy', 'value': 0.8544929623603821, 'unit': None, 'global_step': 24435, 'timestamp': '2020-02-11T05:07:57.954895Z', 'extras': []}\n"
     ]
    },
    {
     "name": "stdout",
     "output_type": "stream",
     "text": [
      "INFO:tensorflow:Benchmark metric: {'name': 'accuracy_baseline', 'value': 0.7637737393379211, 'unit': None, 'global_step': 24435, 'timestamp': '2020-02-11T05:07:57.956043Z', 'extras': []}\n"
     ]
    },
    {
     "name": "stderr",
     "output_type": "stream",
     "text": [
      "I0211 12:07:57.956068 4439444928 logger.py:147] Benchmark metric: {'name': 'accuracy_baseline', 'value': 0.7637737393379211, 'unit': None, 'global_step': 24435, 'timestamp': '2020-02-11T05:07:57.956043Z', 'extras': []}\n"
     ]
    },
    {
     "name": "stdout",
     "output_type": "stream",
     "text": [
      "INFO:tensorflow:Benchmark metric: {'name': 'auc', 'value': 0.9029545783996582, 'unit': None, 'global_step': 24435, 'timestamp': '2020-02-11T05:07:57.957101Z', 'extras': []}\n"
     ]
    },
    {
     "name": "stderr",
     "output_type": "stream",
     "text": [
      "I0211 12:07:57.957129 4439444928 logger.py:147] Benchmark metric: {'name': 'auc', 'value': 0.9029545783996582, 'unit': None, 'global_step': 24435, 'timestamp': '2020-02-11T05:07:57.957101Z', 'extras': []}\n"
     ]
    },
    {
     "name": "stdout",
     "output_type": "stream",
     "text": [
      "INFO:tensorflow:Benchmark metric: {'name': 'auc_precision_recall', 'value': 0.7629762887954712, 'unit': None, 'global_step': 24435, 'timestamp': '2020-02-11T05:07:57.958102Z', 'extras': []}\n"
     ]
    },
    {
     "name": "stderr",
     "output_type": "stream",
     "text": [
      "I0211 12:07:57.958130 4439444928 logger.py:147] Benchmark metric: {'name': 'auc_precision_recall', 'value': 0.7629762887954712, 'unit': None, 'global_step': 24435, 'timestamp': '2020-02-11T05:07:57.958102Z', 'extras': []}\n"
     ]
    },
    {
     "name": "stdout",
     "output_type": "stream",
     "text": [
      "INFO:tensorflow:Benchmark metric: {'name': 'average_loss', 'value': 0.3263514041900635, 'unit': None, 'global_step': 24435, 'timestamp': '2020-02-11T05:07:57.958880Z', 'extras': []}\n"
     ]
    },
    {
     "name": "stderr",
     "output_type": "stream",
     "text": [
      "I0211 12:07:57.958904 4439444928 logger.py:147] Benchmark metric: {'name': 'average_loss', 'value': 0.3263514041900635, 'unit': None, 'global_step': 24435, 'timestamp': '2020-02-11T05:07:57.958880Z', 'extras': []}\n"
     ]
    },
    {
     "name": "stdout",
     "output_type": "stream",
     "text": [
      "INFO:tensorflow:Benchmark metric: {'name': 'label/mean', 'value': 0.23622627556324005, 'unit': None, 'global_step': 24435, 'timestamp': '2020-02-11T05:07:57.959697Z', 'extras': []}\n"
     ]
    },
    {
     "name": "stderr",
     "output_type": "stream",
     "text": [
      "I0211 12:07:57.959717 4439444928 logger.py:147] Benchmark metric: {'name': 'label/mean', 'value': 0.23622627556324005, 'unit': None, 'global_step': 24435, 'timestamp': '2020-02-11T05:07:57.959697Z', 'extras': []}\n"
     ]
    },
    {
     "name": "stdout",
     "output_type": "stream",
     "text": [
      "INFO:tensorflow:Benchmark metric: {'name': 'loss', 'value': 0.32610881328582764, 'unit': None, 'global_step': 24435, 'timestamp': '2020-02-11T05:07:57.960562Z', 'extras': []}\n"
     ]
    },
    {
     "name": "stderr",
     "output_type": "stream",
     "text": [
      "I0211 12:07:57.960584 4439444928 logger.py:147] Benchmark metric: {'name': 'loss', 'value': 0.32610881328582764, 'unit': None, 'global_step': 24435, 'timestamp': '2020-02-11T05:07:57.960562Z', 'extras': []}\n"
     ]
    },
    {
     "name": "stdout",
     "output_type": "stream",
     "text": [
      "INFO:tensorflow:Benchmark metric: {'name': 'precision', 'value': 0.7815478444099426, 'unit': None, 'global_step': 24435, 'timestamp': '2020-02-11T05:07:57.961246Z', 'extras': []}\n"
     ]
    },
    {
     "name": "stderr",
     "output_type": "stream",
     "text": [
      "I0211 12:07:57.961265 4439444928 logger.py:147] Benchmark metric: {'name': 'precision', 'value': 0.7815478444099426, 'unit': None, 'global_step': 24435, 'timestamp': '2020-02-11T05:07:57.961246Z', 'extras': []}\n"
     ]
    },
    {
     "name": "stdout",
     "output_type": "stream",
     "text": [
      "INFO:tensorflow:Benchmark metric: {'name': 'prediction/mean', 'value': 0.2299623042345047, 'unit': None, 'global_step': 24435, 'timestamp': '2020-02-11T05:07:57.962029Z', 'extras': []}\n"
     ]
    },
    {
     "name": "stderr",
     "output_type": "stream",
     "text": [
      "I0211 12:07:57.962051 4439444928 logger.py:147] Benchmark metric: {'name': 'prediction/mean', 'value': 0.2299623042345047, 'unit': None, 'global_step': 24435, 'timestamp': '2020-02-11T05:07:57.962029Z', 'extras': []}\n"
     ]
    },
    {
     "name": "stdout",
     "output_type": "stream",
     "text": [
      "INFO:tensorflow:Benchmark metric: {'name': 'recall', 'value': 0.5330213308334351, 'unit': None, 'global_step': 24435, 'timestamp': '2020-02-11T05:07:57.962717Z', 'extras': []}\n"
     ]
    },
    {
     "name": "stderr",
     "output_type": "stream",
     "text": [
      "I0211 12:07:57.962736 4439444928 logger.py:147] Benchmark metric: {'name': 'recall', 'value': 0.5330213308334351, 'unit': None, 'global_step': 24435, 'timestamp': '2020-02-11T05:07:57.962717Z', 'extras': []}\n"
     ]
    },
    {
     "name": "stdout",
     "output_type": "stream",
     "text": [
      "INFO:tensorflow:Parsing data/adult.data\n"
     ]
    },
    {
     "name": "stderr",
     "output_type": "stream",
     "text": [
      "I0211 12:07:57.987223 4439444928 api.py:332] Parsing data/adult.data\n"
     ]
    },
    {
     "name": "stdout",
     "output_type": "stream",
     "text": [
      "INFO:tensorflow:Calling model_fn.\n"
     ]
    },
    {
     "name": "stderr",
     "output_type": "stream",
     "text": [
      "I0211 12:07:58.014990 4439444928 estimator.py:1151] Calling model_fn.\n"
     ]
    },
    {
     "name": "stdout",
     "output_type": "stream",
     "text": [
      "INFO:tensorflow:Done calling model_fn.\n"
     ]
    },
    {
     "name": "stderr",
     "output_type": "stream",
     "text": [
      "I0211 12:07:59.005512 4439444928 estimator.py:1153] Done calling model_fn.\n"
     ]
    },
    {
     "name": "stdout",
     "output_type": "stream",
     "text": [
      "INFO:tensorflow:Create CheckpointSaverHook.\n"
     ]
    },
    {
     "name": "stderr",
     "output_type": "stream",
     "text": [
      "I0211 12:07:59.006641 4439444928 basic_session_run_hooks.py:546] Create CheckpointSaverHook.\n"
     ]
    },
    {
     "name": "stdout",
     "output_type": "stream",
     "text": [
      "INFO:tensorflow:Graph was finalized.\n"
     ]
    },
    {
     "name": "stderr",
     "output_type": "stream",
     "text": [
      "I0211 12:07:59.093084 4439444928 monitored_session.py:246] Graph was finalized.\n"
     ]
    },
    {
     "name": "stdout",
     "output_type": "stream",
     "text": [
      "INFO:tensorflow:Restoring parameters from model/model.ckpt-24435\n"
     ]
    },
    {
     "name": "stderr",
     "output_type": "stream",
     "text": [
      "I0211 12:07:59.095937 4439444928 saver.py:1284] Restoring parameters from model/model.ckpt-24435\n"
     ]
    },
    {
     "name": "stdout",
     "output_type": "stream",
     "text": [
      "INFO:tensorflow:Running local_init_op.\n"
     ]
    },
    {
     "name": "stderr",
     "output_type": "stream",
     "text": [
      "I0211 12:07:59.309234 4439444928 session_manager.py:504] Running local_init_op.\n"
     ]
    },
    {
     "name": "stdout",
     "output_type": "stream",
     "text": [
      "INFO:tensorflow:Done running local_init_op.\n"
     ]
    },
    {
     "name": "stderr",
     "output_type": "stream",
     "text": [
      "I0211 12:07:59.359658 4439444928 session_manager.py:507] Done running local_init_op.\n"
     ]
    },
    {
     "name": "stdout",
     "output_type": "stream",
     "text": [
      "INFO:tensorflow:Saving checkpoints for 24435 into model/model.ckpt.\n"
     ]
    },
    {
     "name": "stderr",
     "output_type": "stream",
     "text": [
      "I0211 12:08:00.288325 4439444928 basic_session_run_hooks.py:613] Saving checkpoints for 24435 into model/model.ckpt.\n"
     ]
    },
    {
     "name": "stdout",
     "output_type": "stream",
     "text": [
      "INFO:tensorflow:loss = 0.4014988, step = 24435\n"
     ]
    },
    {
     "name": "stderr",
     "output_type": "stream",
     "text": [
      "I0211 12:08:01.261263 4439444928 basic_session_run_hooks.py:262] loss = 0.4014988, step = 24435\n"
     ]
    },
    {
     "name": "stdout",
     "output_type": "stream",
     "text": [
      "INFO:tensorflow:global_step/sec: 143.934\n"
     ]
    },
    {
     "name": "stderr",
     "output_type": "stream",
     "text": [
      "I0211 12:08:01.955687 4439444928 basic_session_run_hooks.py:700] global_step/sec: 143.934\n"
     ]
    },
    {
     "name": "stdout",
     "output_type": "stream",
     "text": [
      "INFO:tensorflow:loss = 0.35942572, step = 24535 (0.696 sec)\n"
     ]
    },
    {
     "name": "stderr",
     "output_type": "stream",
     "text": [
      "I0211 12:08:01.957319 4439444928 basic_session_run_hooks.py:260] loss = 0.35942572, step = 24535 (0.696 sec)\n"
     ]
    },
    {
     "name": "stdout",
     "output_type": "stream",
     "text": [
      "INFO:tensorflow:global_step/sec: 488.979\n"
     ]
    },
    {
     "name": "stderr",
     "output_type": "stream",
     "text": [
      "I0211 12:08:02.160195 4439444928 basic_session_run_hooks.py:700] global_step/sec: 488.979\n"
     ]
    },
    {
     "name": "stdout",
     "output_type": "stream",
     "text": [
      "INFO:tensorflow:loss = 0.2780572, step = 24635 (0.204 sec)\n"
     ]
    },
    {
     "name": "stderr",
     "output_type": "stream",
     "text": [
      "I0211 12:08:02.161489 4439444928 basic_session_run_hooks.py:260] loss = 0.2780572, step = 24635 (0.204 sec)\n"
     ]
    },
    {
     "name": "stdout",
     "output_type": "stream",
     "text": [
      "INFO:tensorflow:global_step/sec: 507.536\n"
     ]
    },
    {
     "name": "stderr",
     "output_type": "stream",
     "text": [
      "I0211 12:08:02.357211 4439444928 basic_session_run_hooks.py:700] global_step/sec: 507.536\n"
     ]
    },
    {
     "name": "stdout",
     "output_type": "stream",
     "text": [
      "INFO:tensorflow:loss = 0.33913305, step = 24735 (0.197 sec)\n"
     ]
    },
    {
     "name": "stderr",
     "output_type": "stream",
     "text": [
      "I0211 12:08:02.358652 4439444928 basic_session_run_hooks.py:260] loss = 0.33913305, step = 24735 (0.197 sec)\n"
     ]
    },
    {
     "name": "stdout",
     "output_type": "stream",
     "text": [
      "INFO:tensorflow:global_step/sec: 480.864\n"
     ]
    },
    {
     "name": "stderr",
     "output_type": "stream",
     "text": [
      "I0211 12:08:02.565168 4439444928 basic_session_run_hooks.py:700] global_step/sec: 480.864\n"
     ]
    },
    {
     "name": "stdout",
     "output_type": "stream",
     "text": [
      "INFO:tensorflow:loss = 0.24579553, step = 24835 (0.208 sec)\n"
     ]
    },
    {
     "name": "stderr",
     "output_type": "stream",
     "text": [
      "I0211 12:08:02.566407 4439444928 basic_session_run_hooks.py:260] loss = 0.24579553, step = 24835 (0.208 sec)\n"
     ]
    },
    {
     "name": "stdout",
     "output_type": "stream",
     "text": [
      "INFO:tensorflow:global_step/sec: 514.063\n"
     ]
    },
    {
     "name": "stderr",
     "output_type": "stream",
     "text": [
      "I0211 12:08:02.759696 4439444928 basic_session_run_hooks.py:700] global_step/sec: 514.063\n"
     ]
    },
    {
     "name": "stdout",
     "output_type": "stream",
     "text": [
      "INFO:tensorflow:loss = 0.34104118, step = 24935 (0.195 sec)\n"
     ]
    },
    {
     "name": "stderr",
     "output_type": "stream",
     "text": [
      "I0211 12:08:02.760951 4439444928 basic_session_run_hooks.py:260] loss = 0.34104118, step = 24935 (0.195 sec)\n"
     ]
    },
    {
     "name": "stdout",
     "output_type": "stream",
     "text": [
      "INFO:tensorflow:global_step/sec: 515.527\n"
     ]
    },
    {
     "name": "stderr",
     "output_type": "stream",
     "text": [
      "I0211 12:08:02.953675 4439444928 basic_session_run_hooks.py:700] global_step/sec: 515.527\n"
     ]
    },
    {
     "name": "stdout",
     "output_type": "stream",
     "text": [
      "INFO:tensorflow:loss = 0.43214434, step = 25035 (0.194 sec)\n"
     ]
    },
    {
     "name": "stderr",
     "output_type": "stream",
     "text": [
      "I0211 12:08:02.954962 4439444928 basic_session_run_hooks.py:260] loss = 0.43214434, step = 25035 (0.194 sec)\n"
     ]
    },
    {
     "name": "stdout",
     "output_type": "stream",
     "text": [
      "INFO:tensorflow:global_step/sec: 515.754\n"
     ]
    },
    {
     "name": "stderr",
     "output_type": "stream",
     "text": [
      "I0211 12:08:03.147562 4439444928 basic_session_run_hooks.py:700] global_step/sec: 515.754\n"
     ]
    },
    {
     "name": "stdout",
     "output_type": "stream",
     "text": [
      "INFO:tensorflow:loss = 0.37304494, step = 25135 (0.194 sec)\n"
     ]
    },
    {
     "name": "stderr",
     "output_type": "stream",
     "text": [
      "I0211 12:08:03.148864 4439444928 basic_session_run_hooks.py:260] loss = 0.37304494, step = 25135 (0.194 sec)\n"
     ]
    },
    {
     "name": "stdout",
     "output_type": "stream",
     "text": [
      "INFO:tensorflow:global_step/sec: 457.4\n"
     ]
    },
    {
     "name": "stderr",
     "output_type": "stream",
     "text": [
      "I0211 12:08:03.366194 4439444928 basic_session_run_hooks.py:700] global_step/sec: 457.4\n"
     ]
    },
    {
     "name": "stdout",
     "output_type": "stream",
     "text": [
      "INFO:tensorflow:loss = 0.3127859, step = 25235 (0.219 sec)\n"
     ]
    },
    {
     "name": "stderr",
     "output_type": "stream",
     "text": [
      "I0211 12:08:03.367478 4439444928 basic_session_run_hooks.py:260] loss = 0.3127859, step = 25235 (0.219 sec)\n"
     ]
    },
    {
     "name": "stdout",
     "output_type": "stream",
     "text": [
      "INFO:tensorflow:global_step/sec: 405.915\n"
     ]
    },
    {
     "name": "stderr",
     "output_type": "stream",
     "text": [
      "I0211 12:08:03.612548 4439444928 basic_session_run_hooks.py:700] global_step/sec: 405.915\n"
     ]
    },
    {
     "name": "stdout",
     "output_type": "stream",
     "text": [
      "INFO:tensorflow:loss = 0.51419026, step = 25335 (0.246 sec)\n"
     ]
    },
    {
     "name": "stderr",
     "output_type": "stream",
     "text": [
      "I0211 12:08:03.613878 4439444928 basic_session_run_hooks.py:260] loss = 0.51419026, step = 25335 (0.246 sec)\n"
     ]
    },
    {
     "name": "stdout",
     "output_type": "stream",
     "text": [
      "INFO:tensorflow:global_step/sec: 482.098\n"
     ]
    },
    {
     "name": "stderr",
     "output_type": "stream",
     "text": [
      "I0211 12:08:03.819991 4439444928 basic_session_run_hooks.py:700] global_step/sec: 482.098\n"
     ]
    },
    {
     "name": "stdout",
     "output_type": "stream",
     "text": [
      "INFO:tensorflow:loss = 0.3086625, step = 25435 (0.207 sec)\n"
     ]
    },
    {
     "name": "stderr",
     "output_type": "stream",
     "text": [
      "I0211 12:08:03.821220 4439444928 basic_session_run_hooks.py:260] loss = 0.3086625, step = 25435 (0.207 sec)\n"
     ]
    },
    {
     "name": "stdout",
     "output_type": "stream",
     "text": [
      "INFO:tensorflow:global_step/sec: 503.418\n"
     ]
    },
    {
     "name": "stderr",
     "output_type": "stream",
     "text": [
      "I0211 12:08:04.018618 4439444928 basic_session_run_hooks.py:700] global_step/sec: 503.418\n"
     ]
    },
    {
     "name": "stdout",
     "output_type": "stream",
     "text": [
      "INFO:tensorflow:loss = 0.25808167, step = 25535 (0.199 sec)\n"
     ]
    },
    {
     "name": "stderr",
     "output_type": "stream",
     "text": [
      "I0211 12:08:04.019899 4439444928 basic_session_run_hooks.py:260] loss = 0.25808167, step = 25535 (0.199 sec)\n"
     ]
    },
    {
     "name": "stdout",
     "output_type": "stream",
     "text": [
      "INFO:tensorflow:global_step/sec: 509.56\n"
     ]
    },
    {
     "name": "stderr",
     "output_type": "stream",
     "text": [
      "I0211 12:08:04.214864 4439444928 basic_session_run_hooks.py:700] global_step/sec: 509.56\n"
     ]
    },
    {
     "name": "stdout",
     "output_type": "stream",
     "text": [
      "INFO:tensorflow:loss = 0.19310033, step = 25635 (0.196 sec)\n"
     ]
    },
    {
     "name": "stderr",
     "output_type": "stream",
     "text": [
      "I0211 12:08:04.216215 4439444928 basic_session_run_hooks.py:260] loss = 0.19310033, step = 25635 (0.196 sec)\n"
     ]
    },
    {
     "name": "stdout",
     "output_type": "stream",
     "text": [
      "INFO:tensorflow:global_step/sec: 509.543\n"
     ]
    },
    {
     "name": "stderr",
     "output_type": "stream",
     "text": [
      "I0211 12:08:04.411120 4439444928 basic_session_run_hooks.py:700] global_step/sec: 509.543\n"
     ]
    },
    {
     "name": "stdout",
     "output_type": "stream",
     "text": [
      "INFO:tensorflow:loss = 0.33154362, step = 25735 (0.196 sec)\n"
     ]
    },
    {
     "name": "stderr",
     "output_type": "stream",
     "text": [
      "I0211 12:08:04.412377 4439444928 basic_session_run_hooks.py:260] loss = 0.33154362, step = 25735 (0.196 sec)\n"
     ]
    },
    {
     "name": "stdout",
     "output_type": "stream",
     "text": [
      "INFO:tensorflow:global_step/sec: 501.915\n"
     ]
    },
    {
     "name": "stderr",
     "output_type": "stream",
     "text": [
      "I0211 12:08:04.610357 4439444928 basic_session_run_hooks.py:700] global_step/sec: 501.915\n"
     ]
    },
    {
     "name": "stdout",
     "output_type": "stream",
     "text": [
      "INFO:tensorflow:loss = 0.3893938, step = 25835 (0.199 sec)\n"
     ]
    },
    {
     "name": "stderr",
     "output_type": "stream",
     "text": [
      "I0211 12:08:04.611670 4439444928 basic_session_run_hooks.py:260] loss = 0.3893938, step = 25835 (0.199 sec)\n"
     ]
    },
    {
     "name": "stdout",
     "output_type": "stream",
     "text": [
      "INFO:tensorflow:global_step/sec: 498.515\n"
     ]
    },
    {
     "name": "stderr",
     "output_type": "stream",
     "text": [
      "I0211 12:08:04.810955 4439444928 basic_session_run_hooks.py:700] global_step/sec: 498.515\n"
     ]
    },
    {
     "name": "stdout",
     "output_type": "stream",
     "text": [
      "INFO:tensorflow:loss = 0.32643405, step = 25935 (0.201 sec)\n"
     ]
    },
    {
     "name": "stderr",
     "output_type": "stream",
     "text": [
      "I0211 12:08:04.812232 4439444928 basic_session_run_hooks.py:260] loss = 0.32643405, step = 25935 (0.201 sec)\n"
     ]
    },
    {
     "name": "stdout",
     "output_type": "stream",
     "text": [
      "INFO:tensorflow:global_step/sec: 498.268\n"
     ]
    },
    {
     "name": "stderr",
     "output_type": "stream",
     "text": [
      "I0211 12:08:05.011662 4439444928 basic_session_run_hooks.py:700] global_step/sec: 498.268\n"
     ]
    },
    {
     "name": "stdout",
     "output_type": "stream",
     "text": [
      "INFO:tensorflow:loss = 0.4494472, step = 26035 (0.201 sec)\n"
     ]
    },
    {
     "name": "stderr",
     "output_type": "stream",
     "text": [
      "I0211 12:08:05.012876 4439444928 basic_session_run_hooks.py:260] loss = 0.4494472, step = 26035 (0.201 sec)\n"
     ]
    },
    {
     "name": "stdout",
     "output_type": "stream",
     "text": [
      "INFO:tensorflow:Saving checkpoints for 26064 into model/model.ckpt.\n"
     ]
    },
    {
     "name": "stderr",
     "output_type": "stream",
     "text": [
      "I0211 12:08:05.072365 4439444928 basic_session_run_hooks.py:613] Saving checkpoints for 26064 into model/model.ckpt.\n"
     ]
    },
    {
     "name": "stdout",
     "output_type": "stream",
     "text": [
      "INFO:tensorflow:Loss for final step: 0.39406195.\n"
     ]
    },
    {
     "name": "stderr",
     "output_type": "stream",
     "text": [
      "I0211 12:08:05.253265 4439444928 estimator.py:375] Loss for final step: 0.39406195.\n"
     ]
    },
    {
     "name": "stdout",
     "output_type": "stream",
     "text": [
      "INFO:tensorflow:Parsing data/adult.test\n"
     ]
    },
    {
     "name": "stderr",
     "output_type": "stream",
     "text": [
      "I0211 12:08:05.264307 4439444928 api.py:332] Parsing data/adult.test\n"
     ]
    },
    {
     "name": "stdout",
     "output_type": "stream",
     "text": [
      "INFO:tensorflow:Calling model_fn.\n"
     ]
    },
    {
     "name": "stderr",
     "output_type": "stream",
     "text": [
      "I0211 12:08:05.283866 4439444928 estimator.py:1151] Calling model_fn.\n"
     ]
    },
    {
     "name": "stdout",
     "output_type": "stream",
     "text": [
      "INFO:tensorflow:Done calling model_fn.\n"
     ]
    },
    {
     "name": "stderr",
     "output_type": "stream",
     "text": [
      "I0211 12:08:06.197439 4439444928 estimator.py:1153] Done calling model_fn.\n"
     ]
    },
    {
     "name": "stdout",
     "output_type": "stream",
     "text": [
      "INFO:tensorflow:Starting evaluation at 2020-02-11T12:08:06Z\n"
     ]
    },
    {
     "name": "stderr",
     "output_type": "stream",
     "text": [
      "I0211 12:08:06.212157 4439444928 evaluation.py:255] Starting evaluation at 2020-02-11T12:08:06Z\n"
     ]
    },
    {
     "name": "stdout",
     "output_type": "stream",
     "text": [
      "INFO:tensorflow:Graph was finalized.\n"
     ]
    },
    {
     "name": "stderr",
     "output_type": "stream",
     "text": [
      "I0211 12:08:06.261621 4439444928 monitored_session.py:246] Graph was finalized.\n"
     ]
    },
    {
     "name": "stdout",
     "output_type": "stream",
     "text": [
      "INFO:tensorflow:Restoring parameters from model/model.ckpt-26064\n"
     ]
    },
    {
     "name": "stderr",
     "output_type": "stream",
     "text": [
      "I0211 12:08:06.263988 4439444928 saver.py:1284] Restoring parameters from model/model.ckpt-26064\n"
     ]
    },
    {
     "name": "stdout",
     "output_type": "stream",
     "text": [
      "INFO:tensorflow:Running local_init_op.\n"
     ]
    },
    {
     "name": "stderr",
     "output_type": "stream",
     "text": [
      "I0211 12:08:06.465021 4439444928 session_manager.py:504] Running local_init_op.\n"
     ]
    },
    {
     "name": "stdout",
     "output_type": "stream",
     "text": [
      "INFO:tensorflow:Done running local_init_op.\n"
     ]
    },
    {
     "name": "stderr",
     "output_type": "stream",
     "text": [
      "I0211 12:08:06.541392 4439444928 session_manager.py:507] Done running local_init_op.\n"
     ]
    },
    {
     "name": "stdout",
     "output_type": "stream",
     "text": [
      "INFO:tensorflow:Inference Time : 1.66669s\n"
     ]
    },
    {
     "name": "stderr",
     "output_type": "stream",
     "text": [
      "I0211 12:08:07.879835 4439444928 evaluation.py:273] Inference Time : 1.66669s\n"
     ]
    },
    {
     "name": "stdout",
     "output_type": "stream",
     "text": [
      "INFO:tensorflow:Finished evaluation at 2020-02-11-12:08:07\n"
     ]
    },
    {
     "name": "stderr",
     "output_type": "stream",
     "text": [
      "I0211 12:08:07.880805 4439444928 evaluation.py:276] Finished evaluation at 2020-02-11-12:08:07\n"
     ]
    },
    {
     "name": "stdout",
     "output_type": "stream",
     "text": [
      "INFO:tensorflow:Saving dict for global step 26064: accuracy = 0.8543701, accuracy_baseline = 0.76377374, auc = 0.90522337, auc_precision_recall = 0.77224874, average_loss = 0.32155716, global_step = 26064, label/mean = 0.23622628, loss = 0.321261, precision = 0.7399935, prediction/mean = 0.25380233, recall = 0.59126365\n"
     ]
    },
    {
     "name": "stderr",
     "output_type": "stream",
     "text": [
      "I0211 12:08:07.881591 4439444928 estimator.py:2053] Saving dict for global step 26064: accuracy = 0.8543701, accuracy_baseline = 0.76377374, auc = 0.90522337, auc_precision_recall = 0.77224874, average_loss = 0.32155716, global_step = 26064, label/mean = 0.23622628, loss = 0.321261, precision = 0.7399935, prediction/mean = 0.25380233, recall = 0.59126365\n"
     ]
    },
    {
     "name": "stdout",
     "output_type": "stream",
     "text": [
      "INFO:tensorflow:Saving 'checkpoint_path' summary for global step 26064: model/model.ckpt-26064\n"
     ]
    },
    {
     "name": "stderr",
     "output_type": "stream",
     "text": [
      "I0211 12:08:07.882447 4439444928 estimator.py:2113] Saving 'checkpoint_path' summary for global step 26064: model/model.ckpt-26064\n"
     ]
    },
    {
     "name": "stdout",
     "output_type": "stream",
     "text": [
      "INFO:tensorflow:Results at epoch 32 / 40\n"
     ]
    },
    {
     "name": "stderr",
     "output_type": "stream",
     "text": [
      "I0211 12:08:07.883615 4439444928 <ipython-input-7-b40c302cf839>:76] Results at epoch 32 / 40\n"
     ]
    },
    {
     "name": "stdout",
     "output_type": "stream",
     "text": [
      "INFO:tensorflow:------------------------------------------------------------\n"
     ]
    },
    {
     "name": "stderr",
     "output_type": "stream",
     "text": [
      "I0211 12:08:07.884302 4439444928 <ipython-input-7-b40c302cf839>:77] ------------------------------------------------------------\n"
     ]
    },
    {
     "name": "stdout",
     "output_type": "stream",
     "text": [
      "INFO:tensorflow:accuracy: 0.8543701\n"
     ]
    },
    {
     "name": "stderr",
     "output_type": "stream",
     "text": [
      "I0211 12:08:07.884979 4439444928 <ipython-input-7-b40c302cf839>:80] accuracy: 0.8543701\n"
     ]
    },
    {
     "name": "stdout",
     "output_type": "stream",
     "text": [
      "INFO:tensorflow:accuracy_baseline: 0.76377374\n"
     ]
    },
    {
     "name": "stderr",
     "output_type": "stream",
     "text": [
      "I0211 12:08:07.885725 4439444928 <ipython-input-7-b40c302cf839>:80] accuracy_baseline: 0.76377374\n"
     ]
    },
    {
     "name": "stdout",
     "output_type": "stream",
     "text": [
      "INFO:tensorflow:auc: 0.90522337\n"
     ]
    },
    {
     "name": "stderr",
     "output_type": "stream",
     "text": [
      "I0211 12:08:07.886339 4439444928 <ipython-input-7-b40c302cf839>:80] auc: 0.90522337\n"
     ]
    },
    {
     "name": "stdout",
     "output_type": "stream",
     "text": [
      "INFO:tensorflow:auc_precision_recall: 0.77224874\n"
     ]
    },
    {
     "name": "stderr",
     "output_type": "stream",
     "text": [
      "I0211 12:08:07.887118 4439444928 <ipython-input-7-b40c302cf839>:80] auc_precision_recall: 0.77224874\n"
     ]
    },
    {
     "name": "stdout",
     "output_type": "stream",
     "text": [
      "INFO:tensorflow:average_loss: 0.32155716\n"
     ]
    },
    {
     "name": "stderr",
     "output_type": "stream",
     "text": [
      "I0211 12:08:07.887837 4439444928 <ipython-input-7-b40c302cf839>:80] average_loss: 0.32155716\n"
     ]
    },
    {
     "name": "stdout",
     "output_type": "stream",
     "text": [
      "INFO:tensorflow:global_step: 26064\n"
     ]
    },
    {
     "name": "stderr",
     "output_type": "stream",
     "text": [
      "I0211 12:08:07.888620 4439444928 <ipython-input-7-b40c302cf839>:80] global_step: 26064\n"
     ]
    },
    {
     "name": "stdout",
     "output_type": "stream",
     "text": [
      "INFO:tensorflow:label/mean: 0.23622628\n"
     ]
    },
    {
     "name": "stderr",
     "output_type": "stream",
     "text": [
      "I0211 12:08:07.889200 4439444928 <ipython-input-7-b40c302cf839>:80] label/mean: 0.23622628\n"
     ]
    },
    {
     "name": "stdout",
     "output_type": "stream",
     "text": [
      "INFO:tensorflow:loss: 0.321261\n"
     ]
    },
    {
     "name": "stderr",
     "output_type": "stream",
     "text": [
      "I0211 12:08:07.890058 4439444928 <ipython-input-7-b40c302cf839>:80] loss: 0.321261\n"
     ]
    },
    {
     "name": "stdout",
     "output_type": "stream",
     "text": [
      "INFO:tensorflow:precision: 0.7399935\n"
     ]
    },
    {
     "name": "stderr",
     "output_type": "stream",
     "text": [
      "I0211 12:08:07.890787 4439444928 <ipython-input-7-b40c302cf839>:80] precision: 0.7399935\n"
     ]
    },
    {
     "name": "stdout",
     "output_type": "stream",
     "text": [
      "INFO:tensorflow:prediction/mean: 0.25380233\n"
     ]
    },
    {
     "name": "stderr",
     "output_type": "stream",
     "text": [
      "I0211 12:08:07.891438 4439444928 <ipython-input-7-b40c302cf839>:80] prediction/mean: 0.25380233\n"
     ]
    },
    {
     "name": "stdout",
     "output_type": "stream",
     "text": [
      "INFO:tensorflow:recall: 0.59126365\n"
     ]
    },
    {
     "name": "stderr",
     "output_type": "stream",
     "text": [
      "I0211 12:08:07.892121 4439444928 <ipython-input-7-b40c302cf839>:80] recall: 0.59126365\n"
     ]
    },
    {
     "name": "stdout",
     "output_type": "stream",
     "text": [
      "INFO:tensorflow:Benchmark metric: {'name': 'accuracy', 'value': 0.8543701171875, 'unit': None, 'global_step': 26064, 'timestamp': '2020-02-11T05:08:07.892705Z', 'extras': []}\n"
     ]
    },
    {
     "name": "stderr",
     "output_type": "stream",
     "text": [
      "I0211 12:08:07.892729 4439444928 logger.py:147] Benchmark metric: {'name': 'accuracy', 'value': 0.8543701171875, 'unit': None, 'global_step': 26064, 'timestamp': '2020-02-11T05:08:07.892705Z', 'extras': []}\n"
     ]
    },
    {
     "name": "stdout",
     "output_type": "stream",
     "text": [
      "INFO:tensorflow:Benchmark metric: {'name': 'accuracy_baseline', 'value': 0.7637737393379211, 'unit': None, 'global_step': 26064, 'timestamp': '2020-02-11T05:08:07.893417Z', 'extras': []}\n"
     ]
    },
    {
     "name": "stderr",
     "output_type": "stream",
     "text": [
      "I0211 12:08:07.893439 4439444928 logger.py:147] Benchmark metric: {'name': 'accuracy_baseline', 'value': 0.7637737393379211, 'unit': None, 'global_step': 26064, 'timestamp': '2020-02-11T05:08:07.893417Z', 'extras': []}\n"
     ]
    },
    {
     "name": "stdout",
     "output_type": "stream",
     "text": [
      "INFO:tensorflow:Benchmark metric: {'name': 'auc', 'value': 0.9052233695983887, 'unit': None, 'global_step': 26064, 'timestamp': '2020-02-11T05:08:07.894107Z', 'extras': []}\n"
     ]
    },
    {
     "name": "stderr",
     "output_type": "stream",
     "text": [
      "I0211 12:08:07.894127 4439444928 logger.py:147] Benchmark metric: {'name': 'auc', 'value': 0.9052233695983887, 'unit': None, 'global_step': 26064, 'timestamp': '2020-02-11T05:08:07.894107Z', 'extras': []}\n"
     ]
    },
    {
     "name": "stdout",
     "output_type": "stream",
     "text": [
      "INFO:tensorflow:Benchmark metric: {'name': 'auc_precision_recall', 'value': 0.7722487449645996, 'unit': None, 'global_step': 26064, 'timestamp': '2020-02-11T05:08:07.894829Z', 'extras': []}\n"
     ]
    },
    {
     "name": "stderr",
     "output_type": "stream",
     "text": [
      "I0211 12:08:07.894850 4439444928 logger.py:147] Benchmark metric: {'name': 'auc_precision_recall', 'value': 0.7722487449645996, 'unit': None, 'global_step': 26064, 'timestamp': '2020-02-11T05:08:07.894829Z', 'extras': []}\n"
     ]
    },
    {
     "name": "stdout",
     "output_type": "stream",
     "text": [
      "INFO:tensorflow:Benchmark metric: {'name': 'average_loss', 'value': 0.3215571641921997, 'unit': None, 'global_step': 26064, 'timestamp': '2020-02-11T05:08:07.895498Z', 'extras': []}\n"
     ]
    },
    {
     "name": "stderr",
     "output_type": "stream",
     "text": [
      "I0211 12:08:07.895518 4439444928 logger.py:147] Benchmark metric: {'name': 'average_loss', 'value': 0.3215571641921997, 'unit': None, 'global_step': 26064, 'timestamp': '2020-02-11T05:08:07.895498Z', 'extras': []}\n"
     ]
    },
    {
     "name": "stdout",
     "output_type": "stream",
     "text": [
      "INFO:tensorflow:Benchmark metric: {'name': 'label/mean', 'value': 0.23622627556324005, 'unit': None, 'global_step': 26064, 'timestamp': '2020-02-11T05:08:07.896274Z', 'extras': []}\n"
     ]
    },
    {
     "name": "stderr",
     "output_type": "stream",
     "text": [
      "I0211 12:08:07.896293 4439444928 logger.py:147] Benchmark metric: {'name': 'label/mean', 'value': 0.23622627556324005, 'unit': None, 'global_step': 26064, 'timestamp': '2020-02-11T05:08:07.896274Z', 'extras': []}\n"
     ]
    },
    {
     "name": "stdout",
     "output_type": "stream",
     "text": [
      "INFO:tensorflow:Benchmark metric: {'name': 'loss', 'value': 0.3212609887123108, 'unit': None, 'global_step': 26064, 'timestamp': '2020-02-11T05:08:07.896942Z', 'extras': []}\n"
     ]
    },
    {
     "name": "stderr",
     "output_type": "stream",
     "text": [
      "I0211 12:08:07.896962 4439444928 logger.py:147] Benchmark metric: {'name': 'loss', 'value': 0.3212609887123108, 'unit': None, 'global_step': 26064, 'timestamp': '2020-02-11T05:08:07.896942Z', 'extras': []}\n"
     ]
    },
    {
     "name": "stdout",
     "output_type": "stream",
     "text": [
      "INFO:tensorflow:Benchmark metric: {'name': 'precision', 'value': 0.7399935126304626, 'unit': None, 'global_step': 26064, 'timestamp': '2020-02-11T05:08:07.897803Z', 'extras': []}\n"
     ]
    },
    {
     "name": "stderr",
     "output_type": "stream",
     "text": [
      "I0211 12:08:07.897822 4439444928 logger.py:147] Benchmark metric: {'name': 'precision', 'value': 0.7399935126304626, 'unit': None, 'global_step': 26064, 'timestamp': '2020-02-11T05:08:07.897803Z', 'extras': []}\n"
     ]
    },
    {
     "name": "stdout",
     "output_type": "stream",
     "text": [
      "INFO:tensorflow:Benchmark metric: {'name': 'prediction/mean', 'value': 0.2538023293018341, 'unit': None, 'global_step': 26064, 'timestamp': '2020-02-11T05:08:07.898594Z', 'extras': []}\n"
     ]
    },
    {
     "name": "stderr",
     "output_type": "stream",
     "text": [
      "I0211 12:08:07.898612 4439444928 logger.py:147] Benchmark metric: {'name': 'prediction/mean', 'value': 0.2538023293018341, 'unit': None, 'global_step': 26064, 'timestamp': '2020-02-11T05:08:07.898594Z', 'extras': []}\n"
     ]
    },
    {
     "name": "stdout",
     "output_type": "stream",
     "text": [
      "INFO:tensorflow:Benchmark metric: {'name': 'recall', 'value': 0.5912636518478394, 'unit': None, 'global_step': 26064, 'timestamp': '2020-02-11T05:08:07.899211Z', 'extras': []}\n"
     ]
    },
    {
     "name": "stderr",
     "output_type": "stream",
     "text": [
      "I0211 12:08:07.899231 4439444928 logger.py:147] Benchmark metric: {'name': 'recall', 'value': 0.5912636518478394, 'unit': None, 'global_step': 26064, 'timestamp': '2020-02-11T05:08:07.899211Z', 'extras': []}\n"
     ]
    },
    {
     "name": "stdout",
     "output_type": "stream",
     "text": [
      "INFO:tensorflow:Parsing data/adult.data\n"
     ]
    },
    {
     "name": "stderr",
     "output_type": "stream",
     "text": [
      "I0211 12:08:07.922616 4439444928 api.py:332] Parsing data/adult.data\n"
     ]
    },
    {
     "name": "stdout",
     "output_type": "stream",
     "text": [
      "INFO:tensorflow:Calling model_fn.\n"
     ]
    },
    {
     "name": "stderr",
     "output_type": "stream",
     "text": [
      "I0211 12:08:07.945996 4439444928 estimator.py:1151] Calling model_fn.\n"
     ]
    },
    {
     "name": "stdout",
     "output_type": "stream",
     "text": [
      "INFO:tensorflow:Done calling model_fn.\n"
     ]
    },
    {
     "name": "stderr",
     "output_type": "stream",
     "text": [
      "I0211 12:08:08.862128 4439444928 estimator.py:1153] Done calling model_fn.\n"
     ]
    },
    {
     "name": "stdout",
     "output_type": "stream",
     "text": [
      "INFO:tensorflow:Create CheckpointSaverHook.\n"
     ]
    },
    {
     "name": "stderr",
     "output_type": "stream",
     "text": [
      "I0211 12:08:08.863136 4439444928 basic_session_run_hooks.py:546] Create CheckpointSaverHook.\n"
     ]
    },
    {
     "name": "stdout",
     "output_type": "stream",
     "text": [
      "INFO:tensorflow:Graph was finalized.\n"
     ]
    },
    {
     "name": "stderr",
     "output_type": "stream",
     "text": [
      "I0211 12:08:08.945976 4439444928 monitored_session.py:246] Graph was finalized.\n"
     ]
    },
    {
     "name": "stdout",
     "output_type": "stream",
     "text": [
      "INFO:tensorflow:Restoring parameters from model/model.ckpt-26064\n"
     ]
    },
    {
     "name": "stderr",
     "output_type": "stream",
     "text": [
      "I0211 12:08:08.950001 4439444928 saver.py:1284] Restoring parameters from model/model.ckpt-26064\n"
     ]
    },
    {
     "name": "stdout",
     "output_type": "stream",
     "text": [
      "INFO:tensorflow:Running local_init_op.\n"
     ]
    },
    {
     "name": "stderr",
     "output_type": "stream",
     "text": [
      "I0211 12:08:09.151124 4439444928 session_manager.py:504] Running local_init_op.\n"
     ]
    },
    {
     "name": "stdout",
     "output_type": "stream",
     "text": [
      "INFO:tensorflow:Done running local_init_op.\n"
     ]
    },
    {
     "name": "stderr",
     "output_type": "stream",
     "text": [
      "I0211 12:08:09.198496 4439444928 session_manager.py:507] Done running local_init_op.\n"
     ]
    },
    {
     "name": "stdout",
     "output_type": "stream",
     "text": [
      "INFO:tensorflow:Saving checkpoints for 26064 into model/model.ckpt.\n"
     ]
    },
    {
     "name": "stderr",
     "output_type": "stream",
     "text": [
      "I0211 12:08:10.049782 4439444928 basic_session_run_hooks.py:613] Saving checkpoints for 26064 into model/model.ckpt.\n"
     ]
    },
    {
     "name": "stdout",
     "output_type": "stream",
     "text": [
      "INFO:tensorflow:loss = 0.28532255, step = 26064\n"
     ]
    },
    {
     "name": "stderr",
     "output_type": "stream",
     "text": [
      "I0211 12:08:10.943046 4439444928 basic_session_run_hooks.py:262] loss = 0.28532255, step = 26064\n"
     ]
    },
    {
     "name": "stdout",
     "output_type": "stream",
     "text": [
      "INFO:tensorflow:global_step/sec: 154.219\n"
     ]
    },
    {
     "name": "stderr",
     "output_type": "stream",
     "text": [
      "I0211 12:08:11.591145 4439444928 basic_session_run_hooks.py:700] global_step/sec: 154.219\n"
     ]
    },
    {
     "name": "stdout",
     "output_type": "stream",
     "text": [
      "INFO:tensorflow:loss = 0.27567258, step = 26164 (0.649 sec)\n"
     ]
    },
    {
     "name": "stderr",
     "output_type": "stream",
     "text": [
      "I0211 12:08:11.592403 4439444928 basic_session_run_hooks.py:260] loss = 0.27567258, step = 26164 (0.649 sec)\n"
     ]
    },
    {
     "name": "stdout",
     "output_type": "stream",
     "text": [
      "INFO:tensorflow:global_step/sec: 523.832\n"
     ]
    },
    {
     "name": "stderr",
     "output_type": "stream",
     "text": [
      "I0211 12:08:11.782045 4439444928 basic_session_run_hooks.py:700] global_step/sec: 523.832\n"
     ]
    },
    {
     "name": "stdout",
     "output_type": "stream",
     "text": [
      "INFO:tensorflow:loss = 0.4708199, step = 26264 (0.191 sec)\n"
     ]
    },
    {
     "name": "stderr",
     "output_type": "stream",
     "text": [
      "I0211 12:08:11.783276 4439444928 basic_session_run_hooks.py:260] loss = 0.4708199, step = 26264 (0.191 sec)\n"
     ]
    },
    {
     "name": "stdout",
     "output_type": "stream",
     "text": [
      "INFO:tensorflow:global_step/sec: 519.211\n"
     ]
    },
    {
     "name": "stderr",
     "output_type": "stream",
     "text": [
      "I0211 12:08:11.974657 4439444928 basic_session_run_hooks.py:700] global_step/sec: 519.211\n"
     ]
    },
    {
     "name": "stdout",
     "output_type": "stream",
     "text": [
      "INFO:tensorflow:loss = 0.21084242, step = 26364 (0.193 sec)\n"
     ]
    },
    {
     "name": "stderr",
     "output_type": "stream",
     "text": [
      "I0211 12:08:11.975909 4439444928 basic_session_run_hooks.py:260] loss = 0.21084242, step = 26364 (0.193 sec)\n"
     ]
    },
    {
     "name": "stdout",
     "output_type": "stream",
     "text": [
      "INFO:tensorflow:global_step/sec: 520.326\n"
     ]
    },
    {
     "name": "stderr",
     "output_type": "stream",
     "text": [
      "I0211 12:08:12.166827 4439444928 basic_session_run_hooks.py:700] global_step/sec: 520.326\n"
     ]
    },
    {
     "name": "stdout",
     "output_type": "stream",
     "text": [
      "INFO:tensorflow:loss = 0.28323036, step = 26464 (0.192 sec)\n"
     ]
    },
    {
     "name": "stderr",
     "output_type": "stream",
     "text": [
      "I0211 12:08:12.168103 4439444928 basic_session_run_hooks.py:260] loss = 0.28323036, step = 26464 (0.192 sec)\n"
     ]
    },
    {
     "name": "stdout",
     "output_type": "stream",
     "text": [
      "INFO:tensorflow:global_step/sec: 520.812\n"
     ]
    },
    {
     "name": "stderr",
     "output_type": "stream",
     "text": [
      "I0211 12:08:12.358835 4439444928 basic_session_run_hooks.py:700] global_step/sec: 520.812\n"
     ]
    },
    {
     "name": "stdout",
     "output_type": "stream",
     "text": [
      "INFO:tensorflow:loss = 0.3273899, step = 26564 (0.192 sec)\n"
     ]
    },
    {
     "name": "stderr",
     "output_type": "stream",
     "text": [
      "I0211 12:08:12.360079 4439444928 basic_session_run_hooks.py:260] loss = 0.3273899, step = 26564 (0.192 sec)\n"
     ]
    },
    {
     "name": "stdout",
     "output_type": "stream",
     "text": [
      "INFO:tensorflow:global_step/sec: 516.02\n"
     ]
    },
    {
     "name": "stderr",
     "output_type": "stream",
     "text": [
      "I0211 12:08:12.552628 4439444928 basic_session_run_hooks.py:700] global_step/sec: 516.02\n"
     ]
    },
    {
     "name": "stdout",
     "output_type": "stream",
     "text": [
      "INFO:tensorflow:loss = 0.26422048, step = 26664 (0.194 sec)\n"
     ]
    },
    {
     "name": "stderr",
     "output_type": "stream",
     "text": [
      "I0211 12:08:12.553895 4439444928 basic_session_run_hooks.py:260] loss = 0.26422048, step = 26664 (0.194 sec)\n"
     ]
    },
    {
     "name": "stdout",
     "output_type": "stream",
     "text": [
      "INFO:tensorflow:global_step/sec: 512.507\n"
     ]
    },
    {
     "name": "stderr",
     "output_type": "stream",
     "text": [
      "I0211 12:08:12.747751 4439444928 basic_session_run_hooks.py:700] global_step/sec: 512.507\n"
     ]
    },
    {
     "name": "stdout",
     "output_type": "stream",
     "text": [
      "INFO:tensorflow:loss = 0.31347874, step = 26764 (0.195 sec)\n"
     ]
    },
    {
     "name": "stderr",
     "output_type": "stream",
     "text": [
      "I0211 12:08:12.748985 4439444928 basic_session_run_hooks.py:260] loss = 0.31347874, step = 26764 (0.195 sec)\n"
     ]
    },
    {
     "name": "stdout",
     "output_type": "stream",
     "text": [
      "INFO:tensorflow:global_step/sec: 503.581\n"
     ]
    },
    {
     "name": "stderr",
     "output_type": "stream",
     "text": [
      "I0211 12:08:12.946337 4439444928 basic_session_run_hooks.py:700] global_step/sec: 503.581\n"
     ]
    },
    {
     "name": "stdout",
     "output_type": "stream",
     "text": [
      "INFO:tensorflow:loss = 0.31398192, step = 26864 (0.199 sec)\n"
     ]
    },
    {
     "name": "stderr",
     "output_type": "stream",
     "text": [
      "I0211 12:08:12.947579 4439444928 basic_session_run_hooks.py:260] loss = 0.31398192, step = 26864 (0.199 sec)\n"
     ]
    },
    {
     "name": "stdout",
     "output_type": "stream",
     "text": [
      "INFO:tensorflow:global_step/sec: 403.233\n"
     ]
    },
    {
     "name": "stderr",
     "output_type": "stream",
     "text": [
      "I0211 12:08:13.194319 4439444928 basic_session_run_hooks.py:700] global_step/sec: 403.233\n"
     ]
    },
    {
     "name": "stdout",
     "output_type": "stream",
     "text": [
      "INFO:tensorflow:loss = 0.42338347, step = 26964 (0.248 sec)\n"
     ]
    },
    {
     "name": "stderr",
     "output_type": "stream",
     "text": [
      "I0211 12:08:13.195582 4439444928 basic_session_run_hooks.py:260] loss = 0.42338347, step = 26964 (0.248 sec)\n"
     ]
    },
    {
     "name": "stdout",
     "output_type": "stream",
     "text": [
      "INFO:tensorflow:global_step/sec: 511.844\n"
     ]
    },
    {
     "name": "stderr",
     "output_type": "stream",
     "text": [
      "I0211 12:08:13.389705 4439444928 basic_session_run_hooks.py:700] global_step/sec: 511.844\n"
     ]
    },
    {
     "name": "stdout",
     "output_type": "stream",
     "text": [
      "INFO:tensorflow:loss = 0.29609033, step = 27064 (0.195 sec)\n"
     ]
    },
    {
     "name": "stderr",
     "output_type": "stream",
     "text": [
      "I0211 12:08:13.390995 4439444928 basic_session_run_hooks.py:260] loss = 0.29609033, step = 27064 (0.195 sec)\n"
     ]
    },
    {
     "name": "stdout",
     "output_type": "stream",
     "text": [
      "INFO:tensorflow:global_step/sec: 503.903\n"
     ]
    },
    {
     "name": "stderr",
     "output_type": "stream",
     "text": [
      "I0211 12:08:13.588155 4439444928 basic_session_run_hooks.py:700] global_step/sec: 503.903\n"
     ]
    },
    {
     "name": "stdout",
     "output_type": "stream",
     "text": [
      "INFO:tensorflow:loss = 0.29126522, step = 27164 (0.199 sec)\n"
     ]
    },
    {
     "name": "stderr",
     "output_type": "stream",
     "text": [
      "I0211 12:08:13.589604 4439444928 basic_session_run_hooks.py:260] loss = 0.29126522, step = 27164 (0.199 sec)\n"
     ]
    },
    {
     "name": "stdout",
     "output_type": "stream",
     "text": [
      "INFO:tensorflow:global_step/sec: 459.999\n"
     ]
    },
    {
     "name": "stderr",
     "output_type": "stream",
     "text": [
      "I0211 12:08:13.805536 4439444928 basic_session_run_hooks.py:700] global_step/sec: 459.999\n"
     ]
    },
    {
     "name": "stdout",
     "output_type": "stream",
     "text": [
      "INFO:tensorflow:loss = 0.2968034, step = 27264 (0.217 sec)\n"
     ]
    },
    {
     "name": "stderr",
     "output_type": "stream",
     "text": [
      "I0211 12:08:13.806807 4439444928 basic_session_run_hooks.py:260] loss = 0.2968034, step = 27264 (0.217 sec)\n"
     ]
    },
    {
     "name": "stdout",
     "output_type": "stream",
     "text": [
      "INFO:tensorflow:global_step/sec: 507.123\n"
     ]
    },
    {
     "name": "stderr",
     "output_type": "stream",
     "text": [
      "I0211 12:08:14.002725 4439444928 basic_session_run_hooks.py:700] global_step/sec: 507.123\n"
     ]
    },
    {
     "name": "stdout",
     "output_type": "stream",
     "text": [
      "INFO:tensorflow:loss = 0.37110668, step = 27364 (0.197 sec)\n"
     ]
    },
    {
     "name": "stderr",
     "output_type": "stream",
     "text": [
      "I0211 12:08:14.003994 4439444928 basic_session_run_hooks.py:260] loss = 0.37110668, step = 27364 (0.197 sec)\n"
     ]
    },
    {
     "name": "stdout",
     "output_type": "stream",
     "text": [
      "INFO:tensorflow:global_step/sec: 500.025\n"
     ]
    },
    {
     "name": "stderr",
     "output_type": "stream",
     "text": [
      "I0211 12:08:14.202740 4439444928 basic_session_run_hooks.py:700] global_step/sec: 500.025\n"
     ]
    },
    {
     "name": "stdout",
     "output_type": "stream",
     "text": [
      "INFO:tensorflow:loss = 0.2670251, step = 27464 (0.200 sec)\n"
     ]
    },
    {
     "name": "stderr",
     "output_type": "stream",
     "text": [
      "I0211 12:08:14.204455 4439444928 basic_session_run_hooks.py:260] loss = 0.2670251, step = 27464 (0.200 sec)\n"
     ]
    },
    {
     "name": "stdout",
     "output_type": "stream",
     "text": [
      "INFO:tensorflow:global_step/sec: 502.331\n"
     ]
    },
    {
     "name": "stderr",
     "output_type": "stream",
     "text": [
      "I0211 12:08:14.401790 4439444928 basic_session_run_hooks.py:700] global_step/sec: 502.331\n"
     ]
    },
    {
     "name": "stdout",
     "output_type": "stream",
     "text": [
      "INFO:tensorflow:loss = 0.38924733, step = 27564 (0.199 sec)\n"
     ]
    },
    {
     "name": "stderr",
     "output_type": "stream",
     "text": [
      "I0211 12:08:14.403140 4439444928 basic_session_run_hooks.py:260] loss = 0.38924733, step = 27564 (0.199 sec)\n"
     ]
    },
    {
     "name": "stdout",
     "output_type": "stream",
     "text": [
      "INFO:tensorflow:global_step/sec: 498.507\n"
     ]
    },
    {
     "name": "stderr",
     "output_type": "stream",
     "text": [
      "I0211 12:08:14.602387 4439444928 basic_session_run_hooks.py:700] global_step/sec: 498.507\n"
     ]
    },
    {
     "name": "stdout",
     "output_type": "stream",
     "text": [
      "INFO:tensorflow:loss = 0.38621846, step = 27664 (0.201 sec)\n"
     ]
    },
    {
     "name": "stderr",
     "output_type": "stream",
     "text": [
      "I0211 12:08:14.603661 4439444928 basic_session_run_hooks.py:260] loss = 0.38621846, step = 27664 (0.201 sec)\n"
     ]
    },
    {
     "name": "stdout",
     "output_type": "stream",
     "text": [
      "INFO:tensorflow:Saving checkpoints for 27693 into model/model.ckpt.\n"
     ]
    },
    {
     "name": "stderr",
     "output_type": "stream",
     "text": [
      "I0211 12:08:14.662337 4439444928 basic_session_run_hooks.py:613] Saving checkpoints for 27693 into model/model.ckpt.\n"
     ]
    },
    {
     "name": "stdout",
     "output_type": "stream",
     "text": [
      "INFO:tensorflow:Loss for final step: 0.13948268.\n"
     ]
    },
    {
     "name": "stderr",
     "output_type": "stream",
     "text": [
      "I0211 12:08:14.832905 4439444928 estimator.py:375] Loss for final step: 0.13948268.\n"
     ]
    },
    {
     "name": "stdout",
     "output_type": "stream",
     "text": [
      "INFO:tensorflow:Parsing data/adult.test\n"
     ]
    },
    {
     "name": "stderr",
     "output_type": "stream",
     "text": [
      "I0211 12:08:14.843212 4439444928 api.py:332] Parsing data/adult.test\n"
     ]
    },
    {
     "name": "stdout",
     "output_type": "stream",
     "text": [
      "INFO:tensorflow:Calling model_fn.\n"
     ]
    },
    {
     "name": "stderr",
     "output_type": "stream",
     "text": [
      "I0211 12:08:14.861269 4439444928 estimator.py:1151] Calling model_fn.\n"
     ]
    },
    {
     "name": "stdout",
     "output_type": "stream",
     "text": [
      "INFO:tensorflow:Done calling model_fn.\n"
     ]
    },
    {
     "name": "stderr",
     "output_type": "stream",
     "text": [
      "I0211 12:08:15.745711 4439444928 estimator.py:1153] Done calling model_fn.\n"
     ]
    },
    {
     "name": "stdout",
     "output_type": "stream",
     "text": [
      "INFO:tensorflow:Starting evaluation at 2020-02-11T12:08:15Z\n"
     ]
    },
    {
     "name": "stderr",
     "output_type": "stream",
     "text": [
      "I0211 12:08:15.759232 4439444928 evaluation.py:255] Starting evaluation at 2020-02-11T12:08:15Z\n"
     ]
    },
    {
     "name": "stdout",
     "output_type": "stream",
     "text": [
      "INFO:tensorflow:Graph was finalized.\n"
     ]
    },
    {
     "name": "stderr",
     "output_type": "stream",
     "text": [
      "I0211 12:08:15.807452 4439444928 monitored_session.py:246] Graph was finalized.\n"
     ]
    },
    {
     "name": "stdout",
     "output_type": "stream",
     "text": [
      "INFO:tensorflow:Restoring parameters from model/model.ckpt-27693\n"
     ]
    },
    {
     "name": "stderr",
     "output_type": "stream",
     "text": [
      "I0211 12:08:15.809930 4439444928 saver.py:1284] Restoring parameters from model/model.ckpt-27693\n"
     ]
    },
    {
     "name": "stdout",
     "output_type": "stream",
     "text": [
      "INFO:tensorflow:Running local_init_op.\n"
     ]
    },
    {
     "name": "stderr",
     "output_type": "stream",
     "text": [
      "I0211 12:08:16.008068 4439444928 session_manager.py:504] Running local_init_op.\n"
     ]
    },
    {
     "name": "stdout",
     "output_type": "stream",
     "text": [
      "INFO:tensorflow:Done running local_init_op.\n"
     ]
    },
    {
     "name": "stderr",
     "output_type": "stream",
     "text": [
      "I0211 12:08:16.087920 4439444928 session_manager.py:507] Done running local_init_op.\n"
     ]
    },
    {
     "name": "stdout",
     "output_type": "stream",
     "text": [
      "INFO:tensorflow:Inference Time : 1.66190s\n"
     ]
    },
    {
     "name": "stderr",
     "output_type": "stream",
     "text": [
      "I0211 12:08:17.421921 4439444928 evaluation.py:273] Inference Time : 1.66190s\n"
     ]
    },
    {
     "name": "stdout",
     "output_type": "stream",
     "text": [
      "INFO:tensorflow:Finished evaluation at 2020-02-11-12:08:17\n"
     ]
    },
    {
     "name": "stderr",
     "output_type": "stream",
     "text": [
      "I0211 12:08:17.422863 4439444928 evaluation.py:276] Finished evaluation at 2020-02-11-12:08:17\n"
     ]
    },
    {
     "name": "stdout",
     "output_type": "stream",
     "text": [
      "INFO:tensorflow:Saving dict for global step 27693: accuracy = 0.85381734, accuracy_baseline = 0.76377374, auc = 0.90324336, auc_precision_recall = 0.76358986, average_loss = 0.32386953, global_step = 27693, label/mean = 0.23622628, loss = 0.3236482, precision = 0.76596516, prediction/mean = 0.23277129, recall = 0.54888195\n"
     ]
    },
    {
     "name": "stderr",
     "output_type": "stream",
     "text": [
      "I0211 12:08:17.423865 4439444928 estimator.py:2053] Saving dict for global step 27693: accuracy = 0.85381734, accuracy_baseline = 0.76377374, auc = 0.90324336, auc_precision_recall = 0.76358986, average_loss = 0.32386953, global_step = 27693, label/mean = 0.23622628, loss = 0.3236482, precision = 0.76596516, prediction/mean = 0.23277129, recall = 0.54888195\n"
     ]
    },
    {
     "name": "stdout",
     "output_type": "stream",
     "text": [
      "INFO:tensorflow:Saving 'checkpoint_path' summary for global step 27693: model/model.ckpt-27693\n"
     ]
    },
    {
     "name": "stderr",
     "output_type": "stream",
     "text": [
      "I0211 12:08:17.424851 4439444928 estimator.py:2113] Saving 'checkpoint_path' summary for global step 27693: model/model.ckpt-27693\n"
     ]
    },
    {
     "name": "stdout",
     "output_type": "stream",
     "text": [
      "INFO:tensorflow:Results at epoch 34 / 40\n"
     ]
    },
    {
     "name": "stderr",
     "output_type": "stream",
     "text": [
      "I0211 12:08:17.425937 4439444928 <ipython-input-7-b40c302cf839>:76] Results at epoch 34 / 40\n"
     ]
    },
    {
     "name": "stdout",
     "output_type": "stream",
     "text": [
      "INFO:tensorflow:------------------------------------------------------------\n"
     ]
    },
    {
     "name": "stderr",
     "output_type": "stream",
     "text": [
      "I0211 12:08:17.426752 4439444928 <ipython-input-7-b40c302cf839>:77] ------------------------------------------------------------\n"
     ]
    },
    {
     "name": "stdout",
     "output_type": "stream",
     "text": [
      "INFO:tensorflow:accuracy: 0.85381734\n"
     ]
    },
    {
     "name": "stderr",
     "output_type": "stream",
     "text": [
      "I0211 12:08:17.427416 4439444928 <ipython-input-7-b40c302cf839>:80] accuracy: 0.85381734\n"
     ]
    },
    {
     "name": "stdout",
     "output_type": "stream",
     "text": [
      "INFO:tensorflow:accuracy_baseline: 0.76377374\n"
     ]
    },
    {
     "name": "stderr",
     "output_type": "stream",
     "text": [
      "I0211 12:08:17.428146 4439444928 <ipython-input-7-b40c302cf839>:80] accuracy_baseline: 0.76377374\n"
     ]
    },
    {
     "name": "stdout",
     "output_type": "stream",
     "text": [
      "INFO:tensorflow:auc: 0.90324336\n"
     ]
    },
    {
     "name": "stderr",
     "output_type": "stream",
     "text": [
      "I0211 12:08:17.428784 4439444928 <ipython-input-7-b40c302cf839>:80] auc: 0.90324336\n"
     ]
    },
    {
     "name": "stdout",
     "output_type": "stream",
     "text": [
      "INFO:tensorflow:auc_precision_recall: 0.76358986\n"
     ]
    },
    {
     "name": "stderr",
     "output_type": "stream",
     "text": [
      "I0211 12:08:17.429498 4439444928 <ipython-input-7-b40c302cf839>:80] auc_precision_recall: 0.76358986\n"
     ]
    },
    {
     "name": "stdout",
     "output_type": "stream",
     "text": [
      "INFO:tensorflow:average_loss: 0.32386953\n"
     ]
    },
    {
     "name": "stderr",
     "output_type": "stream",
     "text": [
      "I0211 12:08:17.430163 4439444928 <ipython-input-7-b40c302cf839>:80] average_loss: 0.32386953\n"
     ]
    },
    {
     "name": "stdout",
     "output_type": "stream",
     "text": [
      "INFO:tensorflow:global_step: 27693\n"
     ]
    },
    {
     "name": "stderr",
     "output_type": "stream",
     "text": [
      "I0211 12:08:17.430863 4439444928 <ipython-input-7-b40c302cf839>:80] global_step: 27693\n"
     ]
    },
    {
     "name": "stdout",
     "output_type": "stream",
     "text": [
      "INFO:tensorflow:label/mean: 0.23622628\n"
     ]
    },
    {
     "name": "stderr",
     "output_type": "stream",
     "text": [
      "I0211 12:08:17.431506 4439444928 <ipython-input-7-b40c302cf839>:80] label/mean: 0.23622628\n"
     ]
    },
    {
     "name": "stdout",
     "output_type": "stream",
     "text": [
      "INFO:tensorflow:loss: 0.3236482\n"
     ]
    },
    {
     "name": "stderr",
     "output_type": "stream",
     "text": [
      "I0211 12:08:17.432197 4439444928 <ipython-input-7-b40c302cf839>:80] loss: 0.3236482\n"
     ]
    },
    {
     "name": "stdout",
     "output_type": "stream",
     "text": [
      "INFO:tensorflow:precision: 0.76596516\n"
     ]
    },
    {
     "name": "stderr",
     "output_type": "stream",
     "text": [
      "I0211 12:08:17.432773 4439444928 <ipython-input-7-b40c302cf839>:80] precision: 0.76596516\n"
     ]
    },
    {
     "name": "stdout",
     "output_type": "stream",
     "text": [
      "INFO:tensorflow:prediction/mean: 0.23277129\n"
     ]
    },
    {
     "name": "stderr",
     "output_type": "stream",
     "text": [
      "I0211 12:08:17.433523 4439444928 <ipython-input-7-b40c302cf839>:80] prediction/mean: 0.23277129\n"
     ]
    },
    {
     "name": "stdout",
     "output_type": "stream",
     "text": [
      "INFO:tensorflow:recall: 0.54888195\n"
     ]
    },
    {
     "name": "stderr",
     "output_type": "stream",
     "text": [
      "I0211 12:08:17.434113 4439444928 <ipython-input-7-b40c302cf839>:80] recall: 0.54888195\n"
     ]
    },
    {
     "name": "stdout",
     "output_type": "stream",
     "text": [
      "INFO:tensorflow:Benchmark metric: {'name': 'accuracy', 'value': 0.853817343711853, 'unit': None, 'global_step': 27693, 'timestamp': '2020-02-11T05:08:17.434840Z', 'extras': []}\n"
     ]
    },
    {
     "name": "stderr",
     "output_type": "stream",
     "text": [
      "I0211 12:08:17.434864 4439444928 logger.py:147] Benchmark metric: {'name': 'accuracy', 'value': 0.853817343711853, 'unit': None, 'global_step': 27693, 'timestamp': '2020-02-11T05:08:17.434840Z', 'extras': []}\n"
     ]
    },
    {
     "name": "stdout",
     "output_type": "stream",
     "text": [
      "INFO:tensorflow:Benchmark metric: {'name': 'accuracy_baseline', 'value': 0.7637737393379211, 'unit': None, 'global_step': 27693, 'timestamp': '2020-02-11T05:08:17.435474Z', 'extras': []}\n"
     ]
    },
    {
     "name": "stderr",
     "output_type": "stream",
     "text": [
      "I0211 12:08:17.435493 4439444928 logger.py:147] Benchmark metric: {'name': 'accuracy_baseline', 'value': 0.7637737393379211, 'unit': None, 'global_step': 27693, 'timestamp': '2020-02-11T05:08:17.435474Z', 'extras': []}\n"
     ]
    },
    {
     "name": "stdout",
     "output_type": "stream",
     "text": [
      "INFO:tensorflow:Benchmark metric: {'name': 'auc', 'value': 0.903243362903595, 'unit': None, 'global_step': 27693, 'timestamp': '2020-02-11T05:08:17.436154Z', 'extras': []}\n"
     ]
    },
    {
     "name": "stderr",
     "output_type": "stream",
     "text": [
      "I0211 12:08:17.436172 4439444928 logger.py:147] Benchmark metric: {'name': 'auc', 'value': 0.903243362903595, 'unit': None, 'global_step': 27693, 'timestamp': '2020-02-11T05:08:17.436154Z', 'extras': []}\n"
     ]
    },
    {
     "name": "stdout",
     "output_type": "stream",
     "text": [
      "INFO:tensorflow:Benchmark metric: {'name': 'auc_precision_recall', 'value': 0.7635898590087891, 'unit': None, 'global_step': 27693, 'timestamp': '2020-02-11T05:08:17.436824Z', 'extras': []}\n"
     ]
    },
    {
     "name": "stderr",
     "output_type": "stream",
     "text": [
      "I0211 12:08:17.436844 4439444928 logger.py:147] Benchmark metric: {'name': 'auc_precision_recall', 'value': 0.7635898590087891, 'unit': None, 'global_step': 27693, 'timestamp': '2020-02-11T05:08:17.436824Z', 'extras': []}\n"
     ]
    },
    {
     "name": "stdout",
     "output_type": "stream",
     "text": [
      "INFO:tensorflow:Benchmark metric: {'name': 'average_loss', 'value': 0.323869526386261, 'unit': None, 'global_step': 27693, 'timestamp': '2020-02-11T05:08:17.437581Z', 'extras': []}\n"
     ]
    },
    {
     "name": "stderr",
     "output_type": "stream",
     "text": [
      "I0211 12:08:17.437599 4439444928 logger.py:147] Benchmark metric: {'name': 'average_loss', 'value': 0.323869526386261, 'unit': None, 'global_step': 27693, 'timestamp': '2020-02-11T05:08:17.437581Z', 'extras': []}\n"
     ]
    },
    {
     "name": "stdout",
     "output_type": "stream",
     "text": [
      "INFO:tensorflow:Benchmark metric: {'name': 'label/mean', 'value': 0.23622627556324005, 'unit': None, 'global_step': 27693, 'timestamp': '2020-02-11T05:08:17.438222Z', 'extras': []}\n"
     ]
    },
    {
     "name": "stderr",
     "output_type": "stream",
     "text": [
      "I0211 12:08:17.438241 4439444928 logger.py:147] Benchmark metric: {'name': 'label/mean', 'value': 0.23622627556324005, 'unit': None, 'global_step': 27693, 'timestamp': '2020-02-11T05:08:17.438222Z', 'extras': []}\n"
     ]
    },
    {
     "name": "stdout",
     "output_type": "stream",
     "text": [
      "INFO:tensorflow:Benchmark metric: {'name': 'loss', 'value': 0.32364821434020996, 'unit': None, 'global_step': 27693, 'timestamp': '2020-02-11T05:08:17.438998Z', 'extras': []}\n"
     ]
    },
    {
     "name": "stderr",
     "output_type": "stream",
     "text": [
      "I0211 12:08:17.439018 4439444928 logger.py:147] Benchmark metric: {'name': 'loss', 'value': 0.32364821434020996, 'unit': None, 'global_step': 27693, 'timestamp': '2020-02-11T05:08:17.438998Z', 'extras': []}\n"
     ]
    },
    {
     "name": "stdout",
     "output_type": "stream",
     "text": [
      "INFO:tensorflow:Benchmark metric: {'name': 'precision', 'value': 0.7659651637077332, 'unit': None, 'global_step': 27693, 'timestamp': '2020-02-11T05:08:17.439607Z', 'extras': []}\n"
     ]
    },
    {
     "name": "stderr",
     "output_type": "stream",
     "text": [
      "I0211 12:08:17.439630 4439444928 logger.py:147] Benchmark metric: {'name': 'precision', 'value': 0.7659651637077332, 'unit': None, 'global_step': 27693, 'timestamp': '2020-02-11T05:08:17.439607Z', 'extras': []}\n"
     ]
    },
    {
     "name": "stdout",
     "output_type": "stream",
     "text": [
      "INFO:tensorflow:Benchmark metric: {'name': 'prediction/mean', 'value': 0.23277129232883453, 'unit': None, 'global_step': 27693, 'timestamp': '2020-02-11T05:08:17.440339Z', 'extras': []}\n"
     ]
    },
    {
     "name": "stderr",
     "output_type": "stream",
     "text": [
      "I0211 12:08:17.440357 4439444928 logger.py:147] Benchmark metric: {'name': 'prediction/mean', 'value': 0.23277129232883453, 'unit': None, 'global_step': 27693, 'timestamp': '2020-02-11T05:08:17.440339Z', 'extras': []}\n"
     ]
    },
    {
     "name": "stdout",
     "output_type": "stream",
     "text": [
      "INFO:tensorflow:Benchmark metric: {'name': 'recall', 'value': 0.5488819479942322, 'unit': None, 'global_step': 27693, 'timestamp': '2020-02-11T05:08:17.440944Z', 'extras': []}\n"
     ]
    },
    {
     "name": "stderr",
     "output_type": "stream",
     "text": [
      "I0211 12:08:17.440962 4439444928 logger.py:147] Benchmark metric: {'name': 'recall', 'value': 0.5488819479942322, 'unit': None, 'global_step': 27693, 'timestamp': '2020-02-11T05:08:17.440944Z', 'extras': []}\n"
     ]
    },
    {
     "name": "stdout",
     "output_type": "stream",
     "text": [
      "INFO:tensorflow:Parsing data/adult.data\n"
     ]
    },
    {
     "name": "stderr",
     "output_type": "stream",
     "text": [
      "I0211 12:08:17.464111 4439444928 api.py:332] Parsing data/adult.data\n"
     ]
    },
    {
     "name": "stdout",
     "output_type": "stream",
     "text": [
      "INFO:tensorflow:Calling model_fn.\n"
     ]
    },
    {
     "name": "stderr",
     "output_type": "stream",
     "text": [
      "I0211 12:08:17.486742 4439444928 estimator.py:1151] Calling model_fn.\n"
     ]
    },
    {
     "name": "stdout",
     "output_type": "stream",
     "text": [
      "INFO:tensorflow:Done calling model_fn.\n"
     ]
    },
    {
     "name": "stderr",
     "output_type": "stream",
     "text": [
      "I0211 12:08:18.387496 4439444928 estimator.py:1153] Done calling model_fn.\n"
     ]
    },
    {
     "name": "stdout",
     "output_type": "stream",
     "text": [
      "INFO:tensorflow:Create CheckpointSaverHook.\n"
     ]
    },
    {
     "name": "stderr",
     "output_type": "stream",
     "text": [
      "I0211 12:08:18.388476 4439444928 basic_session_run_hooks.py:546] Create CheckpointSaverHook.\n"
     ]
    },
    {
     "name": "stdout",
     "output_type": "stream",
     "text": [
      "INFO:tensorflow:Graph was finalized.\n"
     ]
    },
    {
     "name": "stderr",
     "output_type": "stream",
     "text": [
      "I0211 12:08:18.469196 4439444928 monitored_session.py:246] Graph was finalized.\n"
     ]
    },
    {
     "name": "stdout",
     "output_type": "stream",
     "text": [
      "INFO:tensorflow:Restoring parameters from model/model.ckpt-27693\n"
     ]
    },
    {
     "name": "stderr",
     "output_type": "stream",
     "text": [
      "I0211 12:08:18.472214 4439444928 saver.py:1284] Restoring parameters from model/model.ckpt-27693\n"
     ]
    },
    {
     "name": "stdout",
     "output_type": "stream",
     "text": [
      "INFO:tensorflow:Running local_init_op.\n"
     ]
    },
    {
     "name": "stderr",
     "output_type": "stream",
     "text": [
      "I0211 12:08:18.667738 4439444928 session_manager.py:504] Running local_init_op.\n"
     ]
    },
    {
     "name": "stdout",
     "output_type": "stream",
     "text": [
      "INFO:tensorflow:Done running local_init_op.\n"
     ]
    },
    {
     "name": "stderr",
     "output_type": "stream",
     "text": [
      "I0211 12:08:18.713771 4439444928 session_manager.py:507] Done running local_init_op.\n"
     ]
    },
    {
     "name": "stdout",
     "output_type": "stream",
     "text": [
      "INFO:tensorflow:Saving checkpoints for 27693 into model/model.ckpt.\n"
     ]
    },
    {
     "name": "stderr",
     "output_type": "stream",
     "text": [
      "I0211 12:08:19.557617 4439444928 basic_session_run_hooks.py:613] Saving checkpoints for 27693 into model/model.ckpt.\n"
     ]
    },
    {
     "name": "stdout",
     "output_type": "stream",
     "text": [
      "INFO:tensorflow:loss = 0.37339634, step = 27693\n"
     ]
    },
    {
     "name": "stderr",
     "output_type": "stream",
     "text": [
      "I0211 12:08:20.447764 4439444928 basic_session_run_hooks.py:262] loss = 0.37339634, step = 27693\n"
     ]
    },
    {
     "name": "stdout",
     "output_type": "stream",
     "text": [
      "INFO:tensorflow:global_step/sec: 155.566\n"
     ]
    },
    {
     "name": "stderr",
     "output_type": "stream",
     "text": [
      "I0211 12:08:21.090215 4439444928 basic_session_run_hooks.py:700] global_step/sec: 155.566\n"
     ]
    },
    {
     "name": "stdout",
     "output_type": "stream",
     "text": [
      "INFO:tensorflow:loss = 0.42014113, step = 27793 (0.644 sec)\n"
     ]
    },
    {
     "name": "stderr",
     "output_type": "stream",
     "text": [
      "I0211 12:08:21.091531 4439444928 basic_session_run_hooks.py:260] loss = 0.42014113, step = 27793 (0.644 sec)\n"
     ]
    },
    {
     "name": "stdout",
     "output_type": "stream",
     "text": [
      "INFO:tensorflow:global_step/sec: 515.866\n"
     ]
    },
    {
     "name": "stderr",
     "output_type": "stream",
     "text": [
      "I0211 12:08:21.284062 4439444928 basic_session_run_hooks.py:700] global_step/sec: 515.866\n"
     ]
    },
    {
     "name": "stdout",
     "output_type": "stream",
     "text": [
      "INFO:tensorflow:loss = 0.39711085, step = 27893 (0.194 sec)\n"
     ]
    },
    {
     "name": "stderr",
     "output_type": "stream",
     "text": [
      "I0211 12:08:21.285286 4439444928 basic_session_run_hooks.py:260] loss = 0.39711085, step = 27893 (0.194 sec)\n"
     ]
    },
    {
     "name": "stdout",
     "output_type": "stream",
     "text": [
      "INFO:tensorflow:global_step/sec: 511.031\n"
     ]
    },
    {
     "name": "stderr",
     "output_type": "stream",
     "text": [
      "I0211 12:08:21.479748 4439444928 basic_session_run_hooks.py:700] global_step/sec: 511.031\n"
     ]
    },
    {
     "name": "stdout",
     "output_type": "stream",
     "text": [
      "INFO:tensorflow:loss = 0.34234095, step = 27993 (0.196 sec)\n"
     ]
    },
    {
     "name": "stderr",
     "output_type": "stream",
     "text": [
      "I0211 12:08:21.481002 4439444928 basic_session_run_hooks.py:260] loss = 0.34234095, step = 27993 (0.196 sec)\n"
     ]
    },
    {
     "name": "stdout",
     "output_type": "stream",
     "text": [
      "INFO:tensorflow:global_step/sec: 397.575\n"
     ]
    },
    {
     "name": "stderr",
     "output_type": "stream",
     "text": [
      "I0211 12:08:21.731307 4439444928 basic_session_run_hooks.py:700] global_step/sec: 397.575\n"
     ]
    },
    {
     "name": "stdout",
     "output_type": "stream",
     "text": [
      "INFO:tensorflow:loss = 0.38390708, step = 28093 (0.252 sec)\n"
     ]
    },
    {
     "name": "stderr",
     "output_type": "stream",
     "text": [
      "I0211 12:08:21.732560 4439444928 basic_session_run_hooks.py:260] loss = 0.38390708, step = 28093 (0.252 sec)\n"
     ]
    },
    {
     "name": "stdout",
     "output_type": "stream",
     "text": [
      "INFO:tensorflow:global_step/sec: 498.716\n"
     ]
    },
    {
     "name": "stderr",
     "output_type": "stream",
     "text": [
      "I0211 12:08:21.931783 4439444928 basic_session_run_hooks.py:700] global_step/sec: 498.716\n"
     ]
    },
    {
     "name": "stdout",
     "output_type": "stream",
     "text": [
      "INFO:tensorflow:loss = 0.3847212, step = 28193 (0.200 sec)\n"
     ]
    },
    {
     "name": "stderr",
     "output_type": "stream",
     "text": [
      "I0211 12:08:21.933056 4439444928 basic_session_run_hooks.py:260] loss = 0.3847212, step = 28193 (0.200 sec)\n"
     ]
    },
    {
     "name": "stdout",
     "output_type": "stream",
     "text": [
      "INFO:tensorflow:global_step/sec: 490.867\n"
     ]
    },
    {
     "name": "stderr",
     "output_type": "stream",
     "text": [
      "I0211 12:08:22.135509 4439444928 basic_session_run_hooks.py:700] global_step/sec: 490.867\n"
     ]
    },
    {
     "name": "stdout",
     "output_type": "stream",
     "text": [
      "INFO:tensorflow:loss = 0.41651925, step = 28293 (0.204 sec)\n"
     ]
    },
    {
     "name": "stderr",
     "output_type": "stream",
     "text": [
      "I0211 12:08:22.136792 4439444928 basic_session_run_hooks.py:260] loss = 0.41651925, step = 28293 (0.204 sec)\n"
     ]
    },
    {
     "name": "stdout",
     "output_type": "stream",
     "text": [
      "INFO:tensorflow:global_step/sec: 506.077\n"
     ]
    },
    {
     "name": "stderr",
     "output_type": "stream",
     "text": [
      "I0211 12:08:22.333104 4439444928 basic_session_run_hooks.py:700] global_step/sec: 506.077\n"
     ]
    },
    {
     "name": "stdout",
     "output_type": "stream",
     "text": [
      "INFO:tensorflow:loss = 0.3709883, step = 28393 (0.198 sec)\n"
     ]
    },
    {
     "name": "stderr",
     "output_type": "stream",
     "text": [
      "I0211 12:08:22.334394 4439444928 basic_session_run_hooks.py:260] loss = 0.3709883, step = 28393 (0.198 sec)\n"
     ]
    },
    {
     "name": "stdout",
     "output_type": "stream",
     "text": [
      "INFO:tensorflow:global_step/sec: 500.931\n"
     ]
    },
    {
     "name": "stderr",
     "output_type": "stream",
     "text": [
      "I0211 12:08:22.532730 4439444928 basic_session_run_hooks.py:700] global_step/sec: 500.931\n"
     ]
    },
    {
     "name": "stdout",
     "output_type": "stream",
     "text": [
      "INFO:tensorflow:loss = 0.33964825, step = 28493 (0.200 sec)\n"
     ]
    },
    {
     "name": "stderr",
     "output_type": "stream",
     "text": [
      "I0211 12:08:22.534015 4439444928 basic_session_run_hooks.py:260] loss = 0.33964825, step = 28493 (0.200 sec)\n"
     ]
    },
    {
     "name": "stdout",
     "output_type": "stream",
     "text": [
      "INFO:tensorflow:global_step/sec: 381.515\n"
     ]
    },
    {
     "name": "stderr",
     "output_type": "stream",
     "text": [
      "I0211 12:08:22.794903 4439444928 basic_session_run_hooks.py:700] global_step/sec: 381.515\n"
     ]
    },
    {
     "name": "stdout",
     "output_type": "stream",
     "text": [
      "INFO:tensorflow:loss = 0.39300057, step = 28593 (0.263 sec)\n"
     ]
    },
    {
     "name": "stderr",
     "output_type": "stream",
     "text": [
      "I0211 12:08:22.796854 4439444928 basic_session_run_hooks.py:260] loss = 0.39300057, step = 28593 (0.263 sec)\n"
     ]
    },
    {
     "name": "stdout",
     "output_type": "stream",
     "text": [
      "INFO:tensorflow:global_step/sec: 422.042\n"
     ]
    },
    {
     "name": "stderr",
     "output_type": "stream",
     "text": [
      "I0211 12:08:23.031791 4439444928 basic_session_run_hooks.py:700] global_step/sec: 422.042\n"
     ]
    },
    {
     "name": "stdout",
     "output_type": "stream",
     "text": [
      "INFO:tensorflow:loss = 0.40045935, step = 28693 (0.236 sec)\n"
     ]
    },
    {
     "name": "stderr",
     "output_type": "stream",
     "text": [
      "I0211 12:08:23.033051 4439444928 basic_session_run_hooks.py:260] loss = 0.40045935, step = 28693 (0.236 sec)\n"
     ]
    },
    {
     "name": "stdout",
     "output_type": "stream",
     "text": [
      "INFO:tensorflow:global_step/sec: 497.278\n"
     ]
    },
    {
     "name": "stderr",
     "output_type": "stream",
     "text": [
      "I0211 12:08:23.232883 4439444928 basic_session_run_hooks.py:700] global_step/sec: 497.278\n"
     ]
    },
    {
     "name": "stdout",
     "output_type": "stream",
     "text": [
      "INFO:tensorflow:loss = 0.46970123, step = 28793 (0.201 sec)\n"
     ]
    },
    {
     "name": "stderr",
     "output_type": "stream",
     "text": [
      "I0211 12:08:23.234180 4439444928 basic_session_run_hooks.py:260] loss = 0.46970123, step = 28793 (0.201 sec)\n"
     ]
    },
    {
     "name": "stdout",
     "output_type": "stream",
     "text": [
      "INFO:tensorflow:global_step/sec: 502.725\n"
     ]
    },
    {
     "name": "stderr",
     "output_type": "stream",
     "text": [
      "I0211 12:08:23.431807 4439444928 basic_session_run_hooks.py:700] global_step/sec: 502.725\n"
     ]
    },
    {
     "name": "stdout",
     "output_type": "stream",
     "text": [
      "INFO:tensorflow:loss = 0.17248483, step = 28893 (0.199 sec)\n"
     ]
    },
    {
     "name": "stderr",
     "output_type": "stream",
     "text": [
      "I0211 12:08:23.433119 4439444928 basic_session_run_hooks.py:260] loss = 0.17248483, step = 28893 (0.199 sec)\n"
     ]
    },
    {
     "name": "stdout",
     "output_type": "stream",
     "text": [
      "INFO:tensorflow:global_step/sec: 503.137\n"
     ]
    },
    {
     "name": "stderr",
     "output_type": "stream",
     "text": [
      "I0211 12:08:23.630548 4439444928 basic_session_run_hooks.py:700] global_step/sec: 503.137\n"
     ]
    },
    {
     "name": "stdout",
     "output_type": "stream",
     "text": [
      "INFO:tensorflow:loss = 0.31669846, step = 28993 (0.199 sec)\n"
     ]
    },
    {
     "name": "stderr",
     "output_type": "stream",
     "text": [
      "I0211 12:08:23.631808 4439444928 basic_session_run_hooks.py:260] loss = 0.31669846, step = 28993 (0.199 sec)\n"
     ]
    },
    {
     "name": "stdout",
     "output_type": "stream",
     "text": [
      "INFO:tensorflow:global_step/sec: 478.753\n"
     ]
    },
    {
     "name": "stderr",
     "output_type": "stream",
     "text": [
      "I0211 12:08:23.839425 4439444928 basic_session_run_hooks.py:700] global_step/sec: 478.753\n"
     ]
    },
    {
     "name": "stdout",
     "output_type": "stream",
     "text": [
      "INFO:tensorflow:loss = 0.48237753, step = 29093 (0.209 sec)\n"
     ]
    },
    {
     "name": "stderr",
     "output_type": "stream",
     "text": [
      "I0211 12:08:23.840668 4439444928 basic_session_run_hooks.py:260] loss = 0.48237753, step = 29093 (0.209 sec)\n"
     ]
    },
    {
     "name": "stdout",
     "output_type": "stream",
     "text": [
      "INFO:tensorflow:global_step/sec: 510.207\n"
     ]
    },
    {
     "name": "stderr",
     "output_type": "stream",
     "text": [
      "I0211 12:08:24.035440 4439444928 basic_session_run_hooks.py:700] global_step/sec: 510.207\n"
     ]
    },
    {
     "name": "stdout",
     "output_type": "stream",
     "text": [
      "INFO:tensorflow:loss = 0.3762657, step = 29193 (0.196 sec)\n"
     ]
    },
    {
     "name": "stderr",
     "output_type": "stream",
     "text": [
      "I0211 12:08:24.036718 4439444928 basic_session_run_hooks.py:260] loss = 0.3762657, step = 29193 (0.196 sec)\n"
     ]
    },
    {
     "name": "stdout",
     "output_type": "stream",
     "text": [
      "INFO:tensorflow:global_step/sec: 504.381\n"
     ]
    },
    {
     "name": "stderr",
     "output_type": "stream",
     "text": [
      "I0211 12:08:24.233689 4439444928 basic_session_run_hooks.py:700] global_step/sec: 504.381\n"
     ]
    },
    {
     "name": "stdout",
     "output_type": "stream",
     "text": [
      "INFO:tensorflow:loss = 0.37953264, step = 29293 (0.198 sec)\n"
     ]
    },
    {
     "name": "stderr",
     "output_type": "stream",
     "text": [
      "I0211 12:08:24.234956 4439444928 basic_session_run_hooks.py:260] loss = 0.37953264, step = 29293 (0.198 sec)\n"
     ]
    },
    {
     "name": "stdout",
     "output_type": "stream",
     "text": [
      "INFO:tensorflow:Saving checkpoints for 29322 into model/model.ckpt.\n"
     ]
    },
    {
     "name": "stderr",
     "output_type": "stream",
     "text": [
      "I0211 12:08:24.296549 4439444928 basic_session_run_hooks.py:613] Saving checkpoints for 29322 into model/model.ckpt.\n"
     ]
    },
    {
     "name": "stdout",
     "output_type": "stream",
     "text": [
      "INFO:tensorflow:Loss for final step: 0.090234846.\n"
     ]
    },
    {
     "name": "stderr",
     "output_type": "stream",
     "text": [
      "I0211 12:08:24.468336 4439444928 estimator.py:375] Loss for final step: 0.090234846.\n"
     ]
    },
    {
     "name": "stdout",
     "output_type": "stream",
     "text": [
      "INFO:tensorflow:Parsing data/adult.test\n"
     ]
    },
    {
     "name": "stderr",
     "output_type": "stream",
     "text": [
      "I0211 12:08:24.479322 4439444928 api.py:332] Parsing data/adult.test\n"
     ]
    },
    {
     "name": "stdout",
     "output_type": "stream",
     "text": [
      "INFO:tensorflow:Calling model_fn.\n"
     ]
    },
    {
     "name": "stderr",
     "output_type": "stream",
     "text": [
      "I0211 12:08:24.499618 4439444928 estimator.py:1151] Calling model_fn.\n"
     ]
    },
    {
     "name": "stdout",
     "output_type": "stream",
     "text": [
      "INFO:tensorflow:Done calling model_fn.\n"
     ]
    },
    {
     "name": "stderr",
     "output_type": "stream",
     "text": [
      "I0211 12:08:25.430310 4439444928 estimator.py:1153] Done calling model_fn.\n"
     ]
    },
    {
     "name": "stdout",
     "output_type": "stream",
     "text": [
      "INFO:tensorflow:Starting evaluation at 2020-02-11T12:08:25Z\n"
     ]
    },
    {
     "name": "stderr",
     "output_type": "stream",
     "text": [
      "I0211 12:08:25.445384 4439444928 evaluation.py:255] Starting evaluation at 2020-02-11T12:08:25Z\n"
     ]
    },
    {
     "name": "stdout",
     "output_type": "stream",
     "text": [
      "INFO:tensorflow:Graph was finalized.\n"
     ]
    },
    {
     "name": "stderr",
     "output_type": "stream",
     "text": [
      "I0211 12:08:25.496256 4439444928 monitored_session.py:246] Graph was finalized.\n"
     ]
    },
    {
     "name": "stdout",
     "output_type": "stream",
     "text": [
      "INFO:tensorflow:Restoring parameters from model/model.ckpt-29322\n"
     ]
    },
    {
     "name": "stderr",
     "output_type": "stream",
     "text": [
      "I0211 12:08:25.498365 4439444928 saver.py:1284] Restoring parameters from model/model.ckpt-29322\n"
     ]
    },
    {
     "name": "stdout",
     "output_type": "stream",
     "text": [
      "INFO:tensorflow:Running local_init_op.\n"
     ]
    },
    {
     "name": "stderr",
     "output_type": "stream",
     "text": [
      "I0211 12:08:25.700097 4439444928 session_manager.py:504] Running local_init_op.\n"
     ]
    },
    {
     "name": "stdout",
     "output_type": "stream",
     "text": [
      "INFO:tensorflow:Done running local_init_op.\n"
     ]
    },
    {
     "name": "stderr",
     "output_type": "stream",
     "text": [
      "I0211 12:08:25.780100 4439444928 session_manager.py:507] Done running local_init_op.\n"
     ]
    },
    {
     "name": "stdout",
     "output_type": "stream",
     "text": [
      "INFO:tensorflow:Inference Time : 1.68099s\n"
     ]
    },
    {
     "name": "stderr",
     "output_type": "stream",
     "text": [
      "I0211 12:08:27.127347 4439444928 evaluation.py:273] Inference Time : 1.68099s\n"
     ]
    },
    {
     "name": "stdout",
     "output_type": "stream",
     "text": [
      "INFO:tensorflow:Finished evaluation at 2020-02-11-12:08:27\n"
     ]
    },
    {
     "name": "stderr",
     "output_type": "stream",
     "text": [
      "I0211 12:08:27.128277 4439444928 evaluation.py:276] Finished evaluation at 2020-02-11-12:08:27\n"
     ]
    },
    {
     "name": "stdout",
     "output_type": "stream",
     "text": [
      "INFO:tensorflow:Saving dict for global step 29322: accuracy = 0.8549229, accuracy_baseline = 0.76377374, auc = 0.9052611, auc_precision_recall = 0.770878, average_loss = 0.32094252, global_step = 29322, label/mean = 0.23622628, loss = 0.32065403, precision = 0.73920053, prediction/mean = 0.25265673, recall = 0.59620386\n"
     ]
    },
    {
     "name": "stderr",
     "output_type": "stream",
     "text": [
      "I0211 12:08:27.129030 4439444928 estimator.py:2053] Saving dict for global step 29322: accuracy = 0.8549229, accuracy_baseline = 0.76377374, auc = 0.9052611, auc_precision_recall = 0.770878, average_loss = 0.32094252, global_step = 29322, label/mean = 0.23622628, loss = 0.32065403, precision = 0.73920053, prediction/mean = 0.25265673, recall = 0.59620386\n"
     ]
    },
    {
     "name": "stdout",
     "output_type": "stream",
     "text": [
      "INFO:tensorflow:Saving 'checkpoint_path' summary for global step 29322: model/model.ckpt-29322\n"
     ]
    },
    {
     "name": "stderr",
     "output_type": "stream",
     "text": [
      "I0211 12:08:27.129946 4439444928 estimator.py:2113] Saving 'checkpoint_path' summary for global step 29322: model/model.ckpt-29322\n"
     ]
    },
    {
     "name": "stdout",
     "output_type": "stream",
     "text": [
      "INFO:tensorflow:Results at epoch 36 / 40\n"
     ]
    },
    {
     "name": "stderr",
     "output_type": "stream",
     "text": [
      "I0211 12:08:27.131145 4439444928 <ipython-input-7-b40c302cf839>:76] Results at epoch 36 / 40\n"
     ]
    },
    {
     "name": "stdout",
     "output_type": "stream",
     "text": [
      "INFO:tensorflow:------------------------------------------------------------\n"
     ]
    },
    {
     "name": "stderr",
     "output_type": "stream",
     "text": [
      "I0211 12:08:27.131968 4439444928 <ipython-input-7-b40c302cf839>:77] ------------------------------------------------------------\n"
     ]
    },
    {
     "name": "stdout",
     "output_type": "stream",
     "text": [
      "INFO:tensorflow:accuracy: 0.8549229\n"
     ]
    },
    {
     "name": "stderr",
     "output_type": "stream",
     "text": [
      "I0211 12:08:27.132581 4439444928 <ipython-input-7-b40c302cf839>:80] accuracy: 0.8549229\n"
     ]
    },
    {
     "name": "stdout",
     "output_type": "stream",
     "text": [
      "INFO:tensorflow:accuracy_baseline: 0.76377374\n"
     ]
    },
    {
     "name": "stderr",
     "output_type": "stream",
     "text": [
      "I0211 12:08:27.133375 4439444928 <ipython-input-7-b40c302cf839>:80] accuracy_baseline: 0.76377374\n"
     ]
    },
    {
     "name": "stdout",
     "output_type": "stream",
     "text": [
      "INFO:tensorflow:auc: 0.9052611\n"
     ]
    },
    {
     "name": "stderr",
     "output_type": "stream",
     "text": [
      "I0211 12:08:27.134012 4439444928 <ipython-input-7-b40c302cf839>:80] auc: 0.9052611\n"
     ]
    },
    {
     "name": "stdout",
     "output_type": "stream",
     "text": [
      "INFO:tensorflow:auc_precision_recall: 0.770878\n"
     ]
    },
    {
     "name": "stderr",
     "output_type": "stream",
     "text": [
      "I0211 12:08:27.134682 4439444928 <ipython-input-7-b40c302cf839>:80] auc_precision_recall: 0.770878\n"
     ]
    },
    {
     "name": "stdout",
     "output_type": "stream",
     "text": [
      "INFO:tensorflow:average_loss: 0.32094252\n"
     ]
    },
    {
     "name": "stderr",
     "output_type": "stream",
     "text": [
      "I0211 12:08:27.135339 4439444928 <ipython-input-7-b40c302cf839>:80] average_loss: 0.32094252\n"
     ]
    },
    {
     "name": "stdout",
     "output_type": "stream",
     "text": [
      "INFO:tensorflow:global_step: 29322\n"
     ]
    },
    {
     "name": "stderr",
     "output_type": "stream",
     "text": [
      "I0211 12:08:27.136075 4439444928 <ipython-input-7-b40c302cf839>:80] global_step: 29322\n"
     ]
    },
    {
     "name": "stdout",
     "output_type": "stream",
     "text": [
      "INFO:tensorflow:label/mean: 0.23622628\n"
     ]
    },
    {
     "name": "stderr",
     "output_type": "stream",
     "text": [
      "I0211 12:08:27.136661 4439444928 <ipython-input-7-b40c302cf839>:80] label/mean: 0.23622628\n"
     ]
    },
    {
     "name": "stdout",
     "output_type": "stream",
     "text": [
      "INFO:tensorflow:loss: 0.32065403\n"
     ]
    },
    {
     "name": "stderr",
     "output_type": "stream",
     "text": [
      "I0211 12:08:27.137328 4439444928 <ipython-input-7-b40c302cf839>:80] loss: 0.32065403\n"
     ]
    },
    {
     "name": "stdout",
     "output_type": "stream",
     "text": [
      "INFO:tensorflow:precision: 0.73920053\n"
     ]
    },
    {
     "name": "stderr",
     "output_type": "stream",
     "text": [
      "I0211 12:08:27.137923 4439444928 <ipython-input-7-b40c302cf839>:80] precision: 0.73920053\n"
     ]
    },
    {
     "name": "stdout",
     "output_type": "stream",
     "text": [
      "INFO:tensorflow:prediction/mean: 0.25265673\n"
     ]
    },
    {
     "name": "stderr",
     "output_type": "stream",
     "text": [
      "I0211 12:08:27.138616 4439444928 <ipython-input-7-b40c302cf839>:80] prediction/mean: 0.25265673\n"
     ]
    },
    {
     "name": "stdout",
     "output_type": "stream",
     "text": [
      "INFO:tensorflow:recall: 0.59620386\n"
     ]
    },
    {
     "name": "stderr",
     "output_type": "stream",
     "text": [
      "I0211 12:08:27.139203 4439444928 <ipython-input-7-b40c302cf839>:80] recall: 0.59620386\n"
     ]
    },
    {
     "name": "stdout",
     "output_type": "stream",
     "text": [
      "INFO:tensorflow:Benchmark metric: {'name': 'accuracy', 'value': 0.854922890663147, 'unit': None, 'global_step': 29322, 'timestamp': '2020-02-11T05:08:27.139889Z', 'extras': []}\n"
     ]
    },
    {
     "name": "stderr",
     "output_type": "stream",
     "text": [
      "I0211 12:08:27.139912 4439444928 logger.py:147] Benchmark metric: {'name': 'accuracy', 'value': 0.854922890663147, 'unit': None, 'global_step': 29322, 'timestamp': '2020-02-11T05:08:27.139889Z', 'extras': []}\n"
     ]
    },
    {
     "name": "stdout",
     "output_type": "stream",
     "text": [
      "INFO:tensorflow:Benchmark metric: {'name': 'accuracy_baseline', 'value': 0.7637737393379211, 'unit': None, 'global_step': 29322, 'timestamp': '2020-02-11T05:08:27.140492Z', 'extras': []}\n"
     ]
    },
    {
     "name": "stderr",
     "output_type": "stream",
     "text": [
      "I0211 12:08:27.140511 4439444928 logger.py:147] Benchmark metric: {'name': 'accuracy_baseline', 'value': 0.7637737393379211, 'unit': None, 'global_step': 29322, 'timestamp': '2020-02-11T05:08:27.140492Z', 'extras': []}\n"
     ]
    },
    {
     "name": "stdout",
     "output_type": "stream",
     "text": [
      "INFO:tensorflow:Benchmark metric: {'name': 'auc', 'value': 0.9052610993385315, 'unit': None, 'global_step': 29322, 'timestamp': '2020-02-11T05:08:27.141228Z', 'extras': []}\n"
     ]
    },
    {
     "name": "stderr",
     "output_type": "stream",
     "text": [
      "I0211 12:08:27.141245 4439444928 logger.py:147] Benchmark metric: {'name': 'auc', 'value': 0.9052610993385315, 'unit': None, 'global_step': 29322, 'timestamp': '2020-02-11T05:08:27.141228Z', 'extras': []}\n"
     ]
    },
    {
     "name": "stdout",
     "output_type": "stream",
     "text": [
      "INFO:tensorflow:Benchmark metric: {'name': 'auc_precision_recall', 'value': 0.7708780169487, 'unit': None, 'global_step': 29322, 'timestamp': '2020-02-11T05:08:27.141858Z', 'extras': []}\n"
     ]
    },
    {
     "name": "stderr",
     "output_type": "stream",
     "text": [
      "I0211 12:08:27.141875 4439444928 logger.py:147] Benchmark metric: {'name': 'auc_precision_recall', 'value': 0.7708780169487, 'unit': None, 'global_step': 29322, 'timestamp': '2020-02-11T05:08:27.141858Z', 'extras': []}\n"
     ]
    },
    {
     "name": "stdout",
     "output_type": "stream",
     "text": [
      "INFO:tensorflow:Benchmark metric: {'name': 'average_loss', 'value': 0.3209425210952759, 'unit': None, 'global_step': 29322, 'timestamp': '2020-02-11T05:08:27.142565Z', 'extras': []}\n"
     ]
    },
    {
     "name": "stderr",
     "output_type": "stream",
     "text": [
      "I0211 12:08:27.142583 4439444928 logger.py:147] Benchmark metric: {'name': 'average_loss', 'value': 0.3209425210952759, 'unit': None, 'global_step': 29322, 'timestamp': '2020-02-11T05:08:27.142565Z', 'extras': []}\n"
     ]
    },
    {
     "name": "stdout",
     "output_type": "stream",
     "text": [
      "INFO:tensorflow:Benchmark metric: {'name': 'label/mean', 'value': 0.23622627556324005, 'unit': None, 'global_step': 29322, 'timestamp': '2020-02-11T05:08:27.143201Z', 'extras': []}\n"
     ]
    },
    {
     "name": "stderr",
     "output_type": "stream",
     "text": [
      "I0211 12:08:27.143222 4439444928 logger.py:147] Benchmark metric: {'name': 'label/mean', 'value': 0.23622627556324005, 'unit': None, 'global_step': 29322, 'timestamp': '2020-02-11T05:08:27.143201Z', 'extras': []}\n"
     ]
    },
    {
     "name": "stdout",
     "output_type": "stream",
     "text": [
      "INFO:tensorflow:Benchmark metric: {'name': 'loss', 'value': 0.320654034614563, 'unit': None, 'global_step': 29322, 'timestamp': '2020-02-11T05:08:27.143963Z', 'extras': []}\n"
     ]
    },
    {
     "name": "stderr",
     "output_type": "stream",
     "text": [
      "I0211 12:08:27.143982 4439444928 logger.py:147] Benchmark metric: {'name': 'loss', 'value': 0.320654034614563, 'unit': None, 'global_step': 29322, 'timestamp': '2020-02-11T05:08:27.143963Z', 'extras': []}\n"
     ]
    },
    {
     "name": "stdout",
     "output_type": "stream",
     "text": [
      "INFO:tensorflow:Benchmark metric: {'name': 'precision', 'value': 0.7392005324363708, 'unit': None, 'global_step': 29322, 'timestamp': '2020-02-11T05:08:27.144634Z', 'extras': []}\n"
     ]
    },
    {
     "name": "stderr",
     "output_type": "stream",
     "text": [
      "I0211 12:08:27.144653 4439444928 logger.py:147] Benchmark metric: {'name': 'precision', 'value': 0.7392005324363708, 'unit': None, 'global_step': 29322, 'timestamp': '2020-02-11T05:08:27.144634Z', 'extras': []}\n"
     ]
    },
    {
     "name": "stdout",
     "output_type": "stream",
     "text": [
      "INFO:tensorflow:Benchmark metric: {'name': 'prediction/mean', 'value': 0.2526567280292511, 'unit': None, 'global_step': 29322, 'timestamp': '2020-02-11T05:08:27.145349Z', 'extras': []}\n"
     ]
    },
    {
     "name": "stderr",
     "output_type": "stream",
     "text": [
      "I0211 12:08:27.145369 4439444928 logger.py:147] Benchmark metric: {'name': 'prediction/mean', 'value': 0.2526567280292511, 'unit': None, 'global_step': 29322, 'timestamp': '2020-02-11T05:08:27.145349Z', 'extras': []}\n"
     ]
    },
    {
     "name": "stdout",
     "output_type": "stream",
     "text": [
      "INFO:tensorflow:Benchmark metric: {'name': 'recall', 'value': 0.5962038636207581, 'unit': None, 'global_step': 29322, 'timestamp': '2020-02-11T05:08:27.146004Z', 'extras': []}\n"
     ]
    },
    {
     "name": "stderr",
     "output_type": "stream",
     "text": [
      "I0211 12:08:27.146022 4439444928 logger.py:147] Benchmark metric: {'name': 'recall', 'value': 0.5962038636207581, 'unit': None, 'global_step': 29322, 'timestamp': '2020-02-11T05:08:27.146004Z', 'extras': []}\n"
     ]
    },
    {
     "name": "stdout",
     "output_type": "stream",
     "text": [
      "INFO:tensorflow:Parsing data/adult.data\n"
     ]
    },
    {
     "name": "stderr",
     "output_type": "stream",
     "text": [
      "I0211 12:08:27.167785 4439444928 api.py:332] Parsing data/adult.data\n"
     ]
    },
    {
     "name": "stdout",
     "output_type": "stream",
     "text": [
      "INFO:tensorflow:Calling model_fn.\n"
     ]
    },
    {
     "name": "stderr",
     "output_type": "stream",
     "text": [
      "I0211 12:08:27.192713 4439444928 estimator.py:1151] Calling model_fn.\n"
     ]
    },
    {
     "name": "stdout",
     "output_type": "stream",
     "text": [
      "INFO:tensorflow:Done calling model_fn.\n"
     ]
    },
    {
     "name": "stderr",
     "output_type": "stream",
     "text": [
      "I0211 12:08:28.096762 4439444928 estimator.py:1153] Done calling model_fn.\n"
     ]
    },
    {
     "name": "stdout",
     "output_type": "stream",
     "text": [
      "INFO:tensorflow:Create CheckpointSaverHook.\n"
     ]
    },
    {
     "name": "stderr",
     "output_type": "stream",
     "text": [
      "I0211 12:08:28.097732 4439444928 basic_session_run_hooks.py:546] Create CheckpointSaverHook.\n"
     ]
    },
    {
     "name": "stdout",
     "output_type": "stream",
     "text": [
      "INFO:tensorflow:Graph was finalized.\n"
     ]
    },
    {
     "name": "stderr",
     "output_type": "stream",
     "text": [
      "I0211 12:08:28.175879 4439444928 monitored_session.py:246] Graph was finalized.\n"
     ]
    },
    {
     "name": "stdout",
     "output_type": "stream",
     "text": [
      "INFO:tensorflow:Restoring parameters from model/model.ckpt-29322\n"
     ]
    },
    {
     "name": "stderr",
     "output_type": "stream",
     "text": [
      "I0211 12:08:28.178858 4439444928 saver.py:1284] Restoring parameters from model/model.ckpt-29322\n"
     ]
    },
    {
     "name": "stdout",
     "output_type": "stream",
     "text": [
      "INFO:tensorflow:Running local_init_op.\n"
     ]
    },
    {
     "name": "stderr",
     "output_type": "stream",
     "text": [
      "I0211 12:08:28.375738 4439444928 session_manager.py:504] Running local_init_op.\n"
     ]
    },
    {
     "name": "stdout",
     "output_type": "stream",
     "text": [
      "INFO:tensorflow:Done running local_init_op.\n"
     ]
    },
    {
     "name": "stderr",
     "output_type": "stream",
     "text": [
      "I0211 12:08:28.421636 4439444928 session_manager.py:507] Done running local_init_op.\n"
     ]
    },
    {
     "name": "stdout",
     "output_type": "stream",
     "text": [
      "INFO:tensorflow:Saving checkpoints for 29322 into model/model.ckpt.\n"
     ]
    },
    {
     "name": "stderr",
     "output_type": "stream",
     "text": [
      "I0211 12:08:29.264477 4439444928 basic_session_run_hooks.py:613] Saving checkpoints for 29322 into model/model.ckpt.\n"
     ]
    },
    {
     "name": "stdout",
     "output_type": "stream",
     "text": [
      "INFO:tensorflow:loss = 0.2589461, step = 29322\n"
     ]
    },
    {
     "name": "stderr",
     "output_type": "stream",
     "text": [
      "I0211 12:08:30.235431 4439444928 basic_session_run_hooks.py:262] loss = 0.2589461, step = 29322\n"
     ]
    },
    {
     "name": "stdout",
     "output_type": "stream",
     "text": [
      "INFO:tensorflow:global_step/sec: 155.683\n"
     ]
    },
    {
     "name": "stderr",
     "output_type": "stream",
     "text": [
      "I0211 12:08:30.877454 4439444928 basic_session_run_hooks.py:700] global_step/sec: 155.683\n"
     ]
    },
    {
     "name": "stdout",
     "output_type": "stream",
     "text": [
      "INFO:tensorflow:loss = 0.25091732, step = 29422 (0.643 sec)\n"
     ]
    },
    {
     "name": "stderr",
     "output_type": "stream",
     "text": [
      "I0211 12:08:30.878674 4439444928 basic_session_run_hooks.py:260] loss = 0.25091732, step = 29422 (0.643 sec)\n"
     ]
    },
    {
     "name": "stdout",
     "output_type": "stream",
     "text": [
      "INFO:tensorflow:global_step/sec: 515.259\n"
     ]
    },
    {
     "name": "stderr",
     "output_type": "stream",
     "text": [
      "I0211 12:08:31.071532 4439444928 basic_session_run_hooks.py:700] global_step/sec: 515.259\n"
     ]
    },
    {
     "name": "stdout",
     "output_type": "stream",
     "text": [
      "INFO:tensorflow:loss = 0.21872425, step = 29522 (0.194 sec)\n"
     ]
    },
    {
     "name": "stderr",
     "output_type": "stream",
     "text": [
      "I0211 12:08:31.072796 4439444928 basic_session_run_hooks.py:260] loss = 0.21872425, step = 29522 (0.194 sec)\n"
     ]
    },
    {
     "name": "stdout",
     "output_type": "stream",
     "text": [
      "INFO:tensorflow:global_step/sec: 523.588\n"
     ]
    },
    {
     "name": "stderr",
     "output_type": "stream",
     "text": [
      "I0211 12:08:31.262516 4439444928 basic_session_run_hooks.py:700] global_step/sec: 523.588\n"
     ]
    },
    {
     "name": "stdout",
     "output_type": "stream",
     "text": [
      "INFO:tensorflow:loss = 0.3484003, step = 29622 (0.191 sec)\n"
     ]
    },
    {
     "name": "stderr",
     "output_type": "stream",
     "text": [
      "I0211 12:08:31.263732 4439444928 basic_session_run_hooks.py:260] loss = 0.3484003, step = 29622 (0.191 sec)\n"
     ]
    },
    {
     "name": "stdout",
     "output_type": "stream",
     "text": [
      "INFO:tensorflow:global_step/sec: 523.906\n"
     ]
    },
    {
     "name": "stderr",
     "output_type": "stream",
     "text": [
      "I0211 12:08:31.453392 4439444928 basic_session_run_hooks.py:700] global_step/sec: 523.906\n"
     ]
    },
    {
     "name": "stdout",
     "output_type": "stream",
     "text": [
      "INFO:tensorflow:loss = 0.17277768, step = 29722 (0.191 sec)\n"
     ]
    },
    {
     "name": "stderr",
     "output_type": "stream",
     "text": [
      "I0211 12:08:31.454640 4439444928 basic_session_run_hooks.py:260] loss = 0.17277768, step = 29722 (0.191 sec)\n"
     ]
    },
    {
     "name": "stdout",
     "output_type": "stream",
     "text": [
      "INFO:tensorflow:global_step/sec: 522.618\n"
     ]
    },
    {
     "name": "stderr",
     "output_type": "stream",
     "text": [
      "I0211 12:08:31.644739 4439444928 basic_session_run_hooks.py:700] global_step/sec: 522.618\n"
     ]
    },
    {
     "name": "stdout",
     "output_type": "stream",
     "text": [
      "INFO:tensorflow:loss = 0.32078153, step = 29822 (0.191 sec)\n"
     ]
    },
    {
     "name": "stderr",
     "output_type": "stream",
     "text": [
      "I0211 12:08:31.646011 4439444928 basic_session_run_hooks.py:260] loss = 0.32078153, step = 29822 (0.191 sec)\n"
     ]
    },
    {
     "name": "stdout",
     "output_type": "stream",
     "text": [
      "INFO:tensorflow:global_step/sec: 525.014\n"
     ]
    },
    {
     "name": "stderr",
     "output_type": "stream",
     "text": [
      "I0211 12:08:31.835205 4439444928 basic_session_run_hooks.py:700] global_step/sec: 525.014\n"
     ]
    },
    {
     "name": "stdout",
     "output_type": "stream",
     "text": [
      "INFO:tensorflow:loss = 0.3088841, step = 29922 (0.190 sec)\n"
     ]
    },
    {
     "name": "stderr",
     "output_type": "stream",
     "text": [
      "I0211 12:08:31.836472 4439444928 basic_session_run_hooks.py:260] loss = 0.3088841, step = 29922 (0.190 sec)\n"
     ]
    },
    {
     "name": "stdout",
     "output_type": "stream",
     "text": [
      "INFO:tensorflow:global_step/sec: 519.724\n"
     ]
    },
    {
     "name": "stderr",
     "output_type": "stream",
     "text": [
      "I0211 12:08:32.027634 4439444928 basic_session_run_hooks.py:700] global_step/sec: 519.724\n"
     ]
    },
    {
     "name": "stdout",
     "output_type": "stream",
     "text": [
      "INFO:tensorflow:loss = 0.28464565, step = 30022 (0.192 sec)\n"
     ]
    },
    {
     "name": "stderr",
     "output_type": "stream",
     "text": [
      "I0211 12:08:32.028914 4439444928 basic_session_run_hooks.py:260] loss = 0.28464565, step = 30022 (0.192 sec)\n"
     ]
    },
    {
     "name": "stdout",
     "output_type": "stream",
     "text": [
      "INFO:tensorflow:global_step/sec: 511.878\n"
     ]
    },
    {
     "name": "stderr",
     "output_type": "stream",
     "text": [
      "I0211 12:08:32.222976 4439444928 basic_session_run_hooks.py:700] global_step/sec: 511.878\n"
     ]
    },
    {
     "name": "stdout",
     "output_type": "stream",
     "text": [
      "INFO:tensorflow:loss = 0.2874735, step = 30122 (0.195 sec)\n"
     ]
    },
    {
     "name": "stderr",
     "output_type": "stream",
     "text": [
      "I0211 12:08:32.224250 4439444928 basic_session_run_hooks.py:260] loss = 0.2874735, step = 30122 (0.195 sec)\n"
     ]
    },
    {
     "name": "stdout",
     "output_type": "stream",
     "text": [
      "INFO:tensorflow:global_step/sec: 406.361\n"
     ]
    },
    {
     "name": "stderr",
     "output_type": "stream",
     "text": [
      "I0211 12:08:32.469081 4439444928 basic_session_run_hooks.py:700] global_step/sec: 406.361\n"
     ]
    },
    {
     "name": "stdout",
     "output_type": "stream",
     "text": [
      "INFO:tensorflow:loss = 0.4656156, step = 30222 (0.246 sec)\n"
     ]
    },
    {
     "name": "stderr",
     "output_type": "stream",
     "text": [
      "I0211 12:08:32.470372 4439444928 basic_session_run_hooks.py:260] loss = 0.4656156, step = 30222 (0.246 sec)\n"
     ]
    },
    {
     "name": "stdout",
     "output_type": "stream",
     "text": [
      "INFO:tensorflow:global_step/sec: 519.006\n"
     ]
    },
    {
     "name": "stderr",
     "output_type": "stream",
     "text": [
      "I0211 12:08:32.661771 4439444928 basic_session_run_hooks.py:700] global_step/sec: 519.006\n"
     ]
    },
    {
     "name": "stdout",
     "output_type": "stream",
     "text": [
      "INFO:tensorflow:loss = 0.21887545, step = 30322 (0.193 sec)\n"
     ]
    },
    {
     "name": "stderr",
     "output_type": "stream",
     "text": [
      "I0211 12:08:32.663041 4439444928 basic_session_run_hooks.py:260] loss = 0.21887545, step = 30322 (0.193 sec)\n"
     ]
    },
    {
     "name": "stdout",
     "output_type": "stream",
     "text": [
      "INFO:tensorflow:global_step/sec: 521.153\n"
     ]
    },
    {
     "name": "stderr",
     "output_type": "stream",
     "text": [
      "I0211 12:08:32.853652 4439444928 basic_session_run_hooks.py:700] global_step/sec: 521.153\n"
     ]
    },
    {
     "name": "stdout",
     "output_type": "stream",
     "text": [
      "INFO:tensorflow:loss = 0.32020167, step = 30422 (0.192 sec)\n"
     ]
    },
    {
     "name": "stderr",
     "output_type": "stream",
     "text": [
      "I0211 12:08:32.854922 4439444928 basic_session_run_hooks.py:260] loss = 0.32020167, step = 30422 (0.192 sec)\n"
     ]
    },
    {
     "name": "stdout",
     "output_type": "stream",
     "text": [
      "INFO:tensorflow:global_step/sec: 519.025\n"
     ]
    },
    {
     "name": "stderr",
     "output_type": "stream",
     "text": [
      "I0211 12:08:33.046306 4439444928 basic_session_run_hooks.py:700] global_step/sec: 519.025\n"
     ]
    },
    {
     "name": "stdout",
     "output_type": "stream",
     "text": [
      "INFO:tensorflow:loss = 0.32584614, step = 30522 (0.193 sec)\n"
     ]
    },
    {
     "name": "stderr",
     "output_type": "stream",
     "text": [
      "I0211 12:08:33.047569 4439444928 basic_session_run_hooks.py:260] loss = 0.32584614, step = 30522 (0.193 sec)\n"
     ]
    },
    {
     "name": "stdout",
     "output_type": "stream",
     "text": [
      "INFO:tensorflow:global_step/sec: 521.023\n"
     ]
    },
    {
     "name": "stderr",
     "output_type": "stream",
     "text": [
      "I0211 12:08:33.238223 4439444928 basic_session_run_hooks.py:700] global_step/sec: 521.023\n"
     ]
    },
    {
     "name": "stdout",
     "output_type": "stream",
     "text": [
      "INFO:tensorflow:loss = 0.30671793, step = 30622 (0.192 sec)\n"
     ]
    },
    {
     "name": "stderr",
     "output_type": "stream",
     "text": [
      "I0211 12:08:33.239499 4439444928 basic_session_run_hooks.py:260] loss = 0.30671793, step = 30622 (0.192 sec)\n"
     ]
    },
    {
     "name": "stdout",
     "output_type": "stream",
     "text": [
      "INFO:tensorflow:global_step/sec: 520.113\n"
     ]
    },
    {
     "name": "stderr",
     "output_type": "stream",
     "text": [
      "I0211 12:08:33.430484 4439444928 basic_session_run_hooks.py:700] global_step/sec: 520.113\n"
     ]
    },
    {
     "name": "stdout",
     "output_type": "stream",
     "text": [
      "INFO:tensorflow:loss = 0.38639918, step = 30722 (0.192 sec)\n"
     ]
    },
    {
     "name": "stderr",
     "output_type": "stream",
     "text": [
      "I0211 12:08:33.431763 4439444928 basic_session_run_hooks.py:260] loss = 0.38639918, step = 30722 (0.192 sec)\n"
     ]
    },
    {
     "name": "stdout",
     "output_type": "stream",
     "text": [
      "INFO:tensorflow:global_step/sec: 520.426\n"
     ]
    },
    {
     "name": "stderr",
     "output_type": "stream",
     "text": [
      "I0211 12:08:33.622650 4439444928 basic_session_run_hooks.py:700] global_step/sec: 520.426\n"
     ]
    },
    {
     "name": "stdout",
     "output_type": "stream",
     "text": [
      "INFO:tensorflow:loss = 0.2087332, step = 30822 (0.192 sec)\n"
     ]
    },
    {
     "name": "stderr",
     "output_type": "stream",
     "text": [
      "I0211 12:08:33.623886 4439444928 basic_session_run_hooks.py:260] loss = 0.2087332, step = 30822 (0.192 sec)\n"
     ]
    },
    {
     "name": "stdout",
     "output_type": "stream",
     "text": [
      "INFO:tensorflow:global_step/sec: 462.087\n"
     ]
    },
    {
     "name": "stderr",
     "output_type": "stream",
     "text": [
      "I0211 12:08:33.839088 4439444928 basic_session_run_hooks.py:700] global_step/sec: 462.087\n"
     ]
    },
    {
     "name": "stdout",
     "output_type": "stream",
     "text": [
      "INFO:tensorflow:loss = 0.34354347, step = 30922 (0.217 sec)\n"
     ]
    },
    {
     "name": "stderr",
     "output_type": "stream",
     "text": [
      "I0211 12:08:33.840538 4439444928 basic_session_run_hooks.py:260] loss = 0.34354347, step = 30922 (0.217 sec)\n"
     ]
    },
    {
     "name": "stdout",
     "output_type": "stream",
     "text": [
      "INFO:tensorflow:Saving checkpoints for 30951 into model/model.ckpt.\n"
     ]
    },
    {
     "name": "stderr",
     "output_type": "stream",
     "text": [
      "I0211 12:08:33.901775 4439444928 basic_session_run_hooks.py:613] Saving checkpoints for 30951 into model/model.ckpt.\n"
     ]
    },
    {
     "name": "stdout",
     "output_type": "stream",
     "text": [
      "INFO:tensorflow:Loss for final step: 0.5368765.\n"
     ]
    },
    {
     "name": "stderr",
     "output_type": "stream",
     "text": [
      "I0211 12:08:34.067919 4439444928 estimator.py:375] Loss for final step: 0.5368765.\n"
     ]
    },
    {
     "name": "stdout",
     "output_type": "stream",
     "text": [
      "INFO:tensorflow:Parsing data/adult.test\n"
     ]
    },
    {
     "name": "stderr",
     "output_type": "stream",
     "text": [
      "I0211 12:08:34.078541 4439444928 api.py:332] Parsing data/adult.test\n"
     ]
    },
    {
     "name": "stdout",
     "output_type": "stream",
     "text": [
      "INFO:tensorflow:Calling model_fn.\n"
     ]
    },
    {
     "name": "stderr",
     "output_type": "stream",
     "text": [
      "I0211 12:08:34.097413 4439444928 estimator.py:1151] Calling model_fn.\n"
     ]
    },
    {
     "name": "stdout",
     "output_type": "stream",
     "text": [
      "INFO:tensorflow:Done calling model_fn.\n"
     ]
    },
    {
     "name": "stderr",
     "output_type": "stream",
     "text": [
      "I0211 12:08:34.979919 4439444928 estimator.py:1153] Done calling model_fn.\n"
     ]
    },
    {
     "name": "stdout",
     "output_type": "stream",
     "text": [
      "INFO:tensorflow:Starting evaluation at 2020-02-11T12:08:34Z\n"
     ]
    },
    {
     "name": "stderr",
     "output_type": "stream",
     "text": [
      "I0211 12:08:34.994062 4439444928 evaluation.py:255] Starting evaluation at 2020-02-11T12:08:34Z\n"
     ]
    },
    {
     "name": "stdout",
     "output_type": "stream",
     "text": [
      "INFO:tensorflow:Graph was finalized.\n"
     ]
    },
    {
     "name": "stderr",
     "output_type": "stream",
     "text": [
      "I0211 12:08:35.044727 4439444928 monitored_session.py:246] Graph was finalized.\n"
     ]
    },
    {
     "name": "stdout",
     "output_type": "stream",
     "text": [
      "INFO:tensorflow:Restoring parameters from model/model.ckpt-30951\n"
     ]
    },
    {
     "name": "stderr",
     "output_type": "stream",
     "text": [
      "I0211 12:08:35.047472 4439444928 saver.py:1284] Restoring parameters from model/model.ckpt-30951\n"
     ]
    },
    {
     "name": "stdout",
     "output_type": "stream",
     "text": [
      "INFO:tensorflow:Running local_init_op.\n"
     ]
    },
    {
     "name": "stderr",
     "output_type": "stream",
     "text": [
      "I0211 12:08:35.247013 4439444928 session_manager.py:504] Running local_init_op.\n"
     ]
    },
    {
     "name": "stdout",
     "output_type": "stream",
     "text": [
      "INFO:tensorflow:Done running local_init_op.\n"
     ]
    },
    {
     "name": "stderr",
     "output_type": "stream",
     "text": [
      "I0211 12:08:35.326539 4439444928 session_manager.py:507] Done running local_init_op.\n"
     ]
    },
    {
     "name": "stdout",
     "output_type": "stream",
     "text": [
      "INFO:tensorflow:Inference Time : 1.66624s\n"
     ]
    },
    {
     "name": "stderr",
     "output_type": "stream",
     "text": [
      "I0211 12:08:36.661159 4439444928 evaluation.py:273] Inference Time : 1.66624s\n"
     ]
    },
    {
     "name": "stdout",
     "output_type": "stream",
     "text": [
      "INFO:tensorflow:Finished evaluation at 2020-02-11-12:08:36\n"
     ]
    },
    {
     "name": "stderr",
     "output_type": "stream",
     "text": [
      "I0211 12:08:36.662161 4439444928 evaluation.py:276] Finished evaluation at 2020-02-11-12:08:36\n"
     ]
    },
    {
     "name": "stdout",
     "output_type": "stream",
     "text": [
      "INFO:tensorflow:Saving dict for global step 30951: accuracy = 0.84927213, accuracy_baseline = 0.76377374, auc = 0.89975053, auc_precision_recall = 0.7428615, average_loss = 0.3467735, global_step = 30951, label/mean = 0.23622628, loss = 0.34638682, precision = 0.7085081, prediction/mean = 0.2669837, recall = 0.6149246\n"
     ]
    },
    {
     "name": "stderr",
     "output_type": "stream",
     "text": [
      "I0211 12:08:36.663228 4439444928 estimator.py:2053] Saving dict for global step 30951: accuracy = 0.84927213, accuracy_baseline = 0.76377374, auc = 0.89975053, auc_precision_recall = 0.7428615, average_loss = 0.3467735, global_step = 30951, label/mean = 0.23622628, loss = 0.34638682, precision = 0.7085081, prediction/mean = 0.2669837, recall = 0.6149246\n"
     ]
    },
    {
     "name": "stdout",
     "output_type": "stream",
     "text": [
      "INFO:tensorflow:Saving 'checkpoint_path' summary for global step 30951: model/model.ckpt-30951\n"
     ]
    },
    {
     "name": "stderr",
     "output_type": "stream",
     "text": [
      "I0211 12:08:36.664173 4439444928 estimator.py:2113] Saving 'checkpoint_path' summary for global step 30951: model/model.ckpt-30951\n"
     ]
    },
    {
     "name": "stdout",
     "output_type": "stream",
     "text": [
      "INFO:tensorflow:Results at epoch 38 / 40\n"
     ]
    },
    {
     "name": "stderr",
     "output_type": "stream",
     "text": [
      "I0211 12:08:36.665233 4439444928 <ipython-input-7-b40c302cf839>:76] Results at epoch 38 / 40\n"
     ]
    },
    {
     "name": "stdout",
     "output_type": "stream",
     "text": [
      "INFO:tensorflow:------------------------------------------------------------\n"
     ]
    },
    {
     "name": "stderr",
     "output_type": "stream",
     "text": [
      "I0211 12:08:36.666032 4439444928 <ipython-input-7-b40c302cf839>:77] ------------------------------------------------------------\n"
     ]
    },
    {
     "name": "stdout",
     "output_type": "stream",
     "text": [
      "INFO:tensorflow:accuracy: 0.84927213\n"
     ]
    },
    {
     "name": "stderr",
     "output_type": "stream",
     "text": [
      "I0211 12:08:36.666666 4439444928 <ipython-input-7-b40c302cf839>:80] accuracy: 0.84927213\n"
     ]
    },
    {
     "name": "stdout",
     "output_type": "stream",
     "text": [
      "INFO:tensorflow:accuracy_baseline: 0.76377374\n"
     ]
    },
    {
     "name": "stderr",
     "output_type": "stream",
     "text": [
      "I0211 12:08:36.667438 4439444928 <ipython-input-7-b40c302cf839>:80] accuracy_baseline: 0.76377374\n"
     ]
    },
    {
     "name": "stdout",
     "output_type": "stream",
     "text": [
      "INFO:tensorflow:auc: 0.89975053\n"
     ]
    },
    {
     "name": "stderr",
     "output_type": "stream",
     "text": [
      "I0211 12:08:36.668071 4439444928 <ipython-input-7-b40c302cf839>:80] auc: 0.89975053\n"
     ]
    },
    {
     "name": "stdout",
     "output_type": "stream",
     "text": [
      "INFO:tensorflow:auc_precision_recall: 0.7428615\n"
     ]
    },
    {
     "name": "stderr",
     "output_type": "stream",
     "text": [
      "I0211 12:08:36.668729 4439444928 <ipython-input-7-b40c302cf839>:80] auc_precision_recall: 0.7428615\n"
     ]
    },
    {
     "name": "stdout",
     "output_type": "stream",
     "text": [
      "INFO:tensorflow:average_loss: 0.3467735\n"
     ]
    },
    {
     "name": "stderr",
     "output_type": "stream",
     "text": [
      "I0211 12:08:36.669363 4439444928 <ipython-input-7-b40c302cf839>:80] average_loss: 0.3467735\n"
     ]
    },
    {
     "name": "stdout",
     "output_type": "stream",
     "text": [
      "INFO:tensorflow:global_step: 30951\n"
     ]
    },
    {
     "name": "stderr",
     "output_type": "stream",
     "text": [
      "I0211 12:08:36.670140 4439444928 <ipython-input-7-b40c302cf839>:80] global_step: 30951\n"
     ]
    },
    {
     "name": "stdout",
     "output_type": "stream",
     "text": [
      "INFO:tensorflow:label/mean: 0.23622628\n"
     ]
    },
    {
     "name": "stderr",
     "output_type": "stream",
     "text": [
      "I0211 12:08:36.670779 4439444928 <ipython-input-7-b40c302cf839>:80] label/mean: 0.23622628\n"
     ]
    },
    {
     "name": "stdout",
     "output_type": "stream",
     "text": [
      "INFO:tensorflow:loss: 0.34638682\n"
     ]
    },
    {
     "name": "stderr",
     "output_type": "stream",
     "text": [
      "I0211 12:08:36.671458 4439444928 <ipython-input-7-b40c302cf839>:80] loss: 0.34638682\n"
     ]
    },
    {
     "name": "stdout",
     "output_type": "stream",
     "text": [
      "INFO:tensorflow:precision: 0.7085081\n"
     ]
    },
    {
     "name": "stderr",
     "output_type": "stream",
     "text": [
      "I0211 12:08:36.672121 4439444928 <ipython-input-7-b40c302cf839>:80] precision: 0.7085081\n"
     ]
    },
    {
     "name": "stdout",
     "output_type": "stream",
     "text": [
      "INFO:tensorflow:prediction/mean: 0.2669837\n"
     ]
    },
    {
     "name": "stderr",
     "output_type": "stream",
     "text": [
      "I0211 12:08:36.672915 4439444928 <ipython-input-7-b40c302cf839>:80] prediction/mean: 0.2669837\n"
     ]
    },
    {
     "name": "stdout",
     "output_type": "stream",
     "text": [
      "INFO:tensorflow:recall: 0.6149246\n"
     ]
    },
    {
     "name": "stderr",
     "output_type": "stream",
     "text": [
      "I0211 12:08:36.673456 4439444928 <ipython-input-7-b40c302cf839>:80] recall: 0.6149246\n"
     ]
    },
    {
     "name": "stdout",
     "output_type": "stream",
     "text": [
      "INFO:tensorflow:Benchmark metric: {'name': 'accuracy', 'value': 0.8492721319198608, 'unit': None, 'global_step': 30951, 'timestamp': '2020-02-11T05:08:36.674160Z', 'extras': []}\n"
     ]
    },
    {
     "name": "stderr",
     "output_type": "stream",
     "text": [
      "I0211 12:08:36.674182 4439444928 logger.py:147] Benchmark metric: {'name': 'accuracy', 'value': 0.8492721319198608, 'unit': None, 'global_step': 30951, 'timestamp': '2020-02-11T05:08:36.674160Z', 'extras': []}\n"
     ]
    },
    {
     "name": "stdout",
     "output_type": "stream",
     "text": [
      "INFO:tensorflow:Benchmark metric: {'name': 'accuracy_baseline', 'value': 0.7637737393379211, 'unit': None, 'global_step': 30951, 'timestamp': '2020-02-11T05:08:36.674753Z', 'extras': []}\n"
     ]
    },
    {
     "name": "stderr",
     "output_type": "stream",
     "text": [
      "I0211 12:08:36.674772 4439444928 logger.py:147] Benchmark metric: {'name': 'accuracy_baseline', 'value': 0.7637737393379211, 'unit': None, 'global_step': 30951, 'timestamp': '2020-02-11T05:08:36.674753Z', 'extras': []}\n"
     ]
    },
    {
     "name": "stdout",
     "output_type": "stream",
     "text": [
      "INFO:tensorflow:Benchmark metric: {'name': 'auc', 'value': 0.8997505307197571, 'unit': None, 'global_step': 30951, 'timestamp': '2020-02-11T05:08:36.675519Z', 'extras': []}\n"
     ]
    },
    {
     "name": "stderr",
     "output_type": "stream",
     "text": [
      "I0211 12:08:36.675537 4439444928 logger.py:147] Benchmark metric: {'name': 'auc', 'value': 0.8997505307197571, 'unit': None, 'global_step': 30951, 'timestamp': '2020-02-11T05:08:36.675519Z', 'extras': []}\n"
     ]
    },
    {
     "name": "stdout",
     "output_type": "stream",
     "text": [
      "INFO:tensorflow:Benchmark metric: {'name': 'auc_precision_recall', 'value': 0.7428615093231201, 'unit': None, 'global_step': 30951, 'timestamp': '2020-02-11T05:08:36.676121Z', 'extras': []}\n"
     ]
    },
    {
     "name": "stderr",
     "output_type": "stream",
     "text": [
      "I0211 12:08:36.676139 4439444928 logger.py:147] Benchmark metric: {'name': 'auc_precision_recall', 'value': 0.7428615093231201, 'unit': None, 'global_step': 30951, 'timestamp': '2020-02-11T05:08:36.676121Z', 'extras': []}\n"
     ]
    },
    {
     "name": "stdout",
     "output_type": "stream",
     "text": [
      "INFO:tensorflow:Benchmark metric: {'name': 'average_loss', 'value': 0.34677350521087646, 'unit': None, 'global_step': 30951, 'timestamp': '2020-02-11T05:08:36.676872Z', 'extras': []}\n"
     ]
    },
    {
     "name": "stderr",
     "output_type": "stream",
     "text": [
      "I0211 12:08:36.676892 4439444928 logger.py:147] Benchmark metric: {'name': 'average_loss', 'value': 0.34677350521087646, 'unit': None, 'global_step': 30951, 'timestamp': '2020-02-11T05:08:36.676872Z', 'extras': []}\n"
     ]
    },
    {
     "name": "stdout",
     "output_type": "stream",
     "text": [
      "INFO:tensorflow:Benchmark metric: {'name': 'label/mean', 'value': 0.23622627556324005, 'unit': None, 'global_step': 30951, 'timestamp': '2020-02-11T05:08:36.677526Z', 'extras': []}\n"
     ]
    },
    {
     "name": "stderr",
     "output_type": "stream",
     "text": [
      "I0211 12:08:36.677545 4439444928 logger.py:147] Benchmark metric: {'name': 'label/mean', 'value': 0.23622627556324005, 'unit': None, 'global_step': 30951, 'timestamp': '2020-02-11T05:08:36.677526Z', 'extras': []}\n"
     ]
    },
    {
     "name": "stdout",
     "output_type": "stream",
     "text": [
      "INFO:tensorflow:Benchmark metric: {'name': 'loss', 'value': 0.3463868200778961, 'unit': None, 'global_step': 30951, 'timestamp': '2020-02-11T05:08:36.678316Z', 'extras': []}\n"
     ]
    },
    {
     "name": "stderr",
     "output_type": "stream",
     "text": [
      "I0211 12:08:36.678334 4439444928 logger.py:147] Benchmark metric: {'name': 'loss', 'value': 0.3463868200778961, 'unit': None, 'global_step': 30951, 'timestamp': '2020-02-11T05:08:36.678316Z', 'extras': []}\n"
     ]
    },
    {
     "name": "stdout",
     "output_type": "stream",
     "text": [
      "INFO:tensorflow:Benchmark metric: {'name': 'precision', 'value': 0.7085080742835999, 'unit': None, 'global_step': 30951, 'timestamp': '2020-02-11T05:08:36.679005Z', 'extras': []}\n"
     ]
    },
    {
     "name": "stderr",
     "output_type": "stream",
     "text": [
      "I0211 12:08:36.679024 4439444928 logger.py:147] Benchmark metric: {'name': 'precision', 'value': 0.7085080742835999, 'unit': None, 'global_step': 30951, 'timestamp': '2020-02-11T05:08:36.679005Z', 'extras': []}\n"
     ]
    },
    {
     "name": "stdout",
     "output_type": "stream",
     "text": [
      "INFO:tensorflow:Benchmark metric: {'name': 'prediction/mean', 'value': 0.26698368787765503, 'unit': None, 'global_step': 30951, 'timestamp': '2020-02-11T05:08:36.679639Z', 'extras': []}\n"
     ]
    },
    {
     "name": "stderr",
     "output_type": "stream",
     "text": [
      "I0211 12:08:36.679656 4439444928 logger.py:147] Benchmark metric: {'name': 'prediction/mean', 'value': 0.26698368787765503, 'unit': None, 'global_step': 30951, 'timestamp': '2020-02-11T05:08:36.679639Z', 'extras': []}\n"
     ]
    },
    {
     "name": "stdout",
     "output_type": "stream",
     "text": [
      "INFO:tensorflow:Benchmark metric: {'name': 'recall', 'value': 0.6149246096611023, 'unit': None, 'global_step': 30951, 'timestamp': '2020-02-11T05:08:36.680306Z', 'extras': []}\n"
     ]
    },
    {
     "name": "stderr",
     "output_type": "stream",
     "text": [
      "I0211 12:08:36.680323 4439444928 logger.py:147] Benchmark metric: {'name': 'recall', 'value': 0.6149246096611023, 'unit': None, 'global_step': 30951, 'timestamp': '2020-02-11T05:08:36.680306Z', 'extras': []}\n"
     ]
    },
    {
     "name": "stdout",
     "output_type": "stream",
     "text": [
      "INFO:tensorflow:Parsing data/adult.data\n"
     ]
    },
    {
     "name": "stderr",
     "output_type": "stream",
     "text": [
      "I0211 12:08:36.703152 4439444928 api.py:332] Parsing data/adult.data\n"
     ]
    },
    {
     "name": "stdout",
     "output_type": "stream",
     "text": [
      "INFO:tensorflow:Calling model_fn.\n"
     ]
    },
    {
     "name": "stderr",
     "output_type": "stream",
     "text": [
      "I0211 12:08:36.881978 4439444928 estimator.py:1151] Calling model_fn.\n"
     ]
    },
    {
     "name": "stdout",
     "output_type": "stream",
     "text": [
      "INFO:tensorflow:Done calling model_fn.\n"
     ]
    },
    {
     "name": "stderr",
     "output_type": "stream",
     "text": [
      "I0211 12:08:37.628767 4439444928 estimator.py:1153] Done calling model_fn.\n"
     ]
    },
    {
     "name": "stdout",
     "output_type": "stream",
     "text": [
      "INFO:tensorflow:Create CheckpointSaverHook.\n"
     ]
    },
    {
     "name": "stderr",
     "output_type": "stream",
     "text": [
      "I0211 12:08:37.629823 4439444928 basic_session_run_hooks.py:546] Create CheckpointSaverHook.\n"
     ]
    },
    {
     "name": "stdout",
     "output_type": "stream",
     "text": [
      "INFO:tensorflow:Graph was finalized.\n"
     ]
    },
    {
     "name": "stderr",
     "output_type": "stream",
     "text": [
      "I0211 12:08:37.708295 4439444928 monitored_session.py:246] Graph was finalized.\n"
     ]
    },
    {
     "name": "stdout",
     "output_type": "stream",
     "text": [
      "INFO:tensorflow:Restoring parameters from model/model.ckpt-30951\n"
     ]
    },
    {
     "name": "stderr",
     "output_type": "stream",
     "text": [
      "I0211 12:08:37.711760 4439444928 saver.py:1284] Restoring parameters from model/model.ckpt-30951\n"
     ]
    },
    {
     "name": "stdout",
     "output_type": "stream",
     "text": [
      "INFO:tensorflow:Running local_init_op.\n"
     ]
    },
    {
     "name": "stderr",
     "output_type": "stream",
     "text": [
      "I0211 12:08:37.908666 4439444928 session_manager.py:504] Running local_init_op.\n"
     ]
    },
    {
     "name": "stdout",
     "output_type": "stream",
     "text": [
      "INFO:tensorflow:Done running local_init_op.\n"
     ]
    },
    {
     "name": "stderr",
     "output_type": "stream",
     "text": [
      "I0211 12:08:37.953876 4439444928 session_manager.py:507] Done running local_init_op.\n"
     ]
    },
    {
     "name": "stdout",
     "output_type": "stream",
     "text": [
      "INFO:tensorflow:Saving checkpoints for 30951 into model/model.ckpt.\n"
     ]
    },
    {
     "name": "stderr",
     "output_type": "stream",
     "text": [
      "I0211 12:08:38.794118 4439444928 basic_session_run_hooks.py:613] Saving checkpoints for 30951 into model/model.ckpt.\n"
     ]
    },
    {
     "name": "stdout",
     "output_type": "stream",
     "text": [
      "INFO:tensorflow:loss = 0.33763435, step = 30951\n"
     ]
    },
    {
     "name": "stderr",
     "output_type": "stream",
     "text": [
      "I0211 12:08:39.695408 4439444928 basic_session_run_hooks.py:262] loss = 0.33763435, step = 30951\n"
     ]
    },
    {
     "name": "stdout",
     "output_type": "stream",
     "text": [
      "INFO:tensorflow:global_step/sec: 157.257\n"
     ]
    },
    {
     "name": "stderr",
     "output_type": "stream",
     "text": [
      "I0211 12:08:40.330976 4439444928 basic_session_run_hooks.py:700] global_step/sec: 157.257\n"
     ]
    },
    {
     "name": "stdout",
     "output_type": "stream",
     "text": [
      "INFO:tensorflow:loss = 0.27354896, step = 31051 (0.637 sec)\n"
     ]
    },
    {
     "name": "stderr",
     "output_type": "stream",
     "text": [
      "I0211 12:08:40.332221 4439444928 basic_session_run_hooks.py:260] loss = 0.27354896, step = 31051 (0.637 sec)\n"
     ]
    },
    {
     "name": "stdout",
     "output_type": "stream",
     "text": [
      "INFO:tensorflow:global_step/sec: 484.86\n"
     ]
    },
    {
     "name": "stderr",
     "output_type": "stream",
     "text": [
      "I0211 12:08:40.537221 4439444928 basic_session_run_hooks.py:700] global_step/sec: 484.86\n"
     ]
    },
    {
     "name": "stdout",
     "output_type": "stream",
     "text": [
      "INFO:tensorflow:loss = 0.32470527, step = 31151 (0.206 sec)\n"
     ]
    },
    {
     "name": "stderr",
     "output_type": "stream",
     "text": [
      "I0211 12:08:40.538453 4439444928 basic_session_run_hooks.py:260] loss = 0.32470527, step = 31151 (0.206 sec)\n"
     ]
    },
    {
     "name": "stdout",
     "output_type": "stream",
     "text": [
      "INFO:tensorflow:global_step/sec: 513.181\n"
     ]
    },
    {
     "name": "stderr",
     "output_type": "stream",
     "text": [
      "I0211 12:08:40.732082 4439444928 basic_session_run_hooks.py:700] global_step/sec: 513.181\n"
     ]
    },
    {
     "name": "stdout",
     "output_type": "stream",
     "text": [
      "INFO:tensorflow:loss = 0.22180183, step = 31251 (0.195 sec)\n"
     ]
    },
    {
     "name": "stderr",
     "output_type": "stream",
     "text": [
      "I0211 12:08:40.733340 4439444928 basic_session_run_hooks.py:260] loss = 0.22180183, step = 31251 (0.195 sec)\n"
     ]
    },
    {
     "name": "stdout",
     "output_type": "stream",
     "text": [
      "INFO:tensorflow:global_step/sec: 512.135\n"
     ]
    },
    {
     "name": "stderr",
     "output_type": "stream",
     "text": [
      "I0211 12:08:40.927360 4439444928 basic_session_run_hooks.py:700] global_step/sec: 512.135\n"
     ]
    },
    {
     "name": "stdout",
     "output_type": "stream",
     "text": [
      "INFO:tensorflow:loss = 0.35134965, step = 31351 (0.195 sec)\n"
     ]
    },
    {
     "name": "stderr",
     "output_type": "stream",
     "text": [
      "I0211 12:08:40.928649 4439444928 basic_session_run_hooks.py:260] loss = 0.35134965, step = 31351 (0.195 sec)\n"
     ]
    },
    {
     "name": "stdout",
     "output_type": "stream",
     "text": [
      "INFO:tensorflow:global_step/sec: 508.14\n"
     ]
    },
    {
     "name": "stderr",
     "output_type": "stream",
     "text": [
      "I0211 12:08:41.124135 4439444928 basic_session_run_hooks.py:700] global_step/sec: 508.14\n"
     ]
    },
    {
     "name": "stdout",
     "output_type": "stream",
     "text": [
      "INFO:tensorflow:loss = 0.41567332, step = 31451 (0.197 sec)\n"
     ]
    },
    {
     "name": "stderr",
     "output_type": "stream",
     "text": [
      "I0211 12:08:41.125413 4439444928 basic_session_run_hooks.py:260] loss = 0.41567332, step = 31451 (0.197 sec)\n"
     ]
    },
    {
     "name": "stdout",
     "output_type": "stream",
     "text": [
      "INFO:tensorflow:global_step/sec: 509.742\n"
     ]
    },
    {
     "name": "stderr",
     "output_type": "stream",
     "text": [
      "I0211 12:08:41.320317 4439444928 basic_session_run_hooks.py:700] global_step/sec: 509.742\n"
     ]
    },
    {
     "name": "stdout",
     "output_type": "stream",
     "text": [
      "INFO:tensorflow:loss = 0.39724714, step = 31551 (0.196 sec)\n"
     ]
    },
    {
     "name": "stderr",
     "output_type": "stream",
     "text": [
      "I0211 12:08:41.321546 4439444928 basic_session_run_hooks.py:260] loss = 0.39724714, step = 31551 (0.196 sec)\n"
     ]
    },
    {
     "name": "stdout",
     "output_type": "stream",
     "text": [
      "INFO:tensorflow:global_step/sec: 512.402\n"
     ]
    },
    {
     "name": "stderr",
     "output_type": "stream",
     "text": [
      "I0211 12:08:41.515489 4439444928 basic_session_run_hooks.py:700] global_step/sec: 512.402\n"
     ]
    },
    {
     "name": "stdout",
     "output_type": "stream",
     "text": [
      "INFO:tensorflow:loss = 0.2813098, step = 31651 (0.195 sec)\n"
     ]
    },
    {
     "name": "stderr",
     "output_type": "stream",
     "text": [
      "I0211 12:08:41.516757 4439444928 basic_session_run_hooks.py:260] loss = 0.2813098, step = 31651 (0.195 sec)\n"
     ]
    },
    {
     "name": "stdout",
     "output_type": "stream",
     "text": [
      "INFO:tensorflow:global_step/sec: 504.004\n"
     ]
    },
    {
     "name": "stderr",
     "output_type": "stream",
     "text": [
      "I0211 12:08:41.713886 4439444928 basic_session_run_hooks.py:700] global_step/sec: 504.004\n"
     ]
    },
    {
     "name": "stdout",
     "output_type": "stream",
     "text": [
      "INFO:tensorflow:loss = 0.46462592, step = 31751 (0.198 sec)\n"
     ]
    },
    {
     "name": "stderr",
     "output_type": "stream",
     "text": [
      "I0211 12:08:41.715184 4439444928 basic_session_run_hooks.py:260] loss = 0.46462592, step = 31751 (0.198 sec)\n"
     ]
    },
    {
     "name": "stdout",
     "output_type": "stream",
     "text": [
      "INFO:tensorflow:global_step/sec: 401.897\n"
     ]
    },
    {
     "name": "stderr",
     "output_type": "stream",
     "text": [
      "I0211 12:08:41.962704 4439444928 basic_session_run_hooks.py:700] global_step/sec: 401.897\n"
     ]
    },
    {
     "name": "stdout",
     "output_type": "stream",
     "text": [
      "INFO:tensorflow:loss = 0.23419464, step = 31851 (0.249 sec)\n"
     ]
    },
    {
     "name": "stderr",
     "output_type": "stream",
     "text": [
      "I0211 12:08:41.963974 4439444928 basic_session_run_hooks.py:260] loss = 0.23419464, step = 31851 (0.249 sec)\n"
     ]
    },
    {
     "name": "stdout",
     "output_type": "stream",
     "text": [
      "INFO:tensorflow:global_step/sec: 508.202\n"
     ]
    },
    {
     "name": "stderr",
     "output_type": "stream",
     "text": [
      "I0211 12:08:42.159511 4439444928 basic_session_run_hooks.py:700] global_step/sec: 508.202\n"
     ]
    },
    {
     "name": "stdout",
     "output_type": "stream",
     "text": [
      "INFO:tensorflow:loss = 0.49768347, step = 31951 (0.197 sec)\n"
     ]
    },
    {
     "name": "stderr",
     "output_type": "stream",
     "text": [
      "I0211 12:08:42.160805 4439444928 basic_session_run_hooks.py:260] loss = 0.49768347, step = 31951 (0.197 sec)\n"
     ]
    },
    {
     "name": "stdout",
     "output_type": "stream",
     "text": [
      "INFO:tensorflow:global_step/sec: 514.422\n"
     ]
    },
    {
     "name": "stderr",
     "output_type": "stream",
     "text": [
      "I0211 12:08:42.353874 4439444928 basic_session_run_hooks.py:700] global_step/sec: 514.422\n"
     ]
    },
    {
     "name": "stdout",
     "output_type": "stream",
     "text": [
      "INFO:tensorflow:loss = 0.3101572, step = 32051 (0.194 sec)\n"
     ]
    },
    {
     "name": "stderr",
     "output_type": "stream",
     "text": [
      "I0211 12:08:42.355139 4439444928 basic_session_run_hooks.py:260] loss = 0.3101572, step = 32051 (0.194 sec)\n"
     ]
    },
    {
     "name": "stdout",
     "output_type": "stream",
     "text": [
      "INFO:tensorflow:global_step/sec: 515.164\n"
     ]
    },
    {
     "name": "stderr",
     "output_type": "stream",
     "text": [
      "I0211 12:08:42.547986 4439444928 basic_session_run_hooks.py:700] global_step/sec: 515.164\n"
     ]
    },
    {
     "name": "stdout",
     "output_type": "stream",
     "text": [
      "INFO:tensorflow:loss = 0.33983427, step = 32151 (0.194 sec)\n"
     ]
    },
    {
     "name": "stderr",
     "output_type": "stream",
     "text": [
      "I0211 12:08:42.549248 4439444928 basic_session_run_hooks.py:260] loss = 0.33983427, step = 32151 (0.194 sec)\n"
     ]
    },
    {
     "name": "stdout",
     "output_type": "stream",
     "text": [
      "INFO:tensorflow:global_step/sec: 512.581\n"
     ]
    },
    {
     "name": "stderr",
     "output_type": "stream",
     "text": [
      "I0211 12:08:42.743075 4439444928 basic_session_run_hooks.py:700] global_step/sec: 512.581\n"
     ]
    },
    {
     "name": "stdout",
     "output_type": "stream",
     "text": [
      "INFO:tensorflow:loss = 0.28443462, step = 32251 (0.195 sec)\n"
     ]
    },
    {
     "name": "stderr",
     "output_type": "stream",
     "text": [
      "I0211 12:08:42.744349 4439444928 basic_session_run_hooks.py:260] loss = 0.28443462, step = 32251 (0.195 sec)\n"
     ]
    },
    {
     "name": "stdout",
     "output_type": "stream",
     "text": [
      "INFO:tensorflow:global_step/sec: 515.156\n"
     ]
    },
    {
     "name": "stderr",
     "output_type": "stream",
     "text": [
      "I0211 12:08:42.937191 4439444928 basic_session_run_hooks.py:700] global_step/sec: 515.156\n"
     ]
    },
    {
     "name": "stdout",
     "output_type": "stream",
     "text": [
      "INFO:tensorflow:loss = 0.3000682, step = 32351 (0.194 sec)\n"
     ]
    },
    {
     "name": "stderr",
     "output_type": "stream",
     "text": [
      "I0211 12:08:42.938453 4439444928 basic_session_run_hooks.py:260] loss = 0.3000682, step = 32351 (0.194 sec)\n"
     ]
    },
    {
     "name": "stdout",
     "output_type": "stream",
     "text": [
      "INFO:tensorflow:global_step/sec: 509.046\n"
     ]
    },
    {
     "name": "stderr",
     "output_type": "stream",
     "text": [
      "I0211 12:08:43.133640 4439444928 basic_session_run_hooks.py:700] global_step/sec: 509.046\n"
     ]
    },
    {
     "name": "stdout",
     "output_type": "stream",
     "text": [
      "INFO:tensorflow:loss = 0.2867539, step = 32451 (0.196 sec)\n"
     ]
    },
    {
     "name": "stderr",
     "output_type": "stream",
     "text": [
      "I0211 12:08:43.134943 4439444928 basic_session_run_hooks.py:260] loss = 0.2867539, step = 32451 (0.196 sec)\n"
     ]
    },
    {
     "name": "stdout",
     "output_type": "stream",
     "text": [
      "INFO:tensorflow:global_step/sec: 505.255\n"
     ]
    },
    {
     "name": "stderr",
     "output_type": "stream",
     "text": [
      "I0211 12:08:43.331560 4439444928 basic_session_run_hooks.py:700] global_step/sec: 505.255\n"
     ]
    },
    {
     "name": "stdout",
     "output_type": "stream",
     "text": [
      "INFO:tensorflow:loss = 0.33294004, step = 32551 (0.198 sec)\n"
     ]
    },
    {
     "name": "stderr",
     "output_type": "stream",
     "text": [
      "I0211 12:08:43.332863 4439444928 basic_session_run_hooks.py:260] loss = 0.33294004, step = 32551 (0.198 sec)\n"
     ]
    },
    {
     "name": "stdout",
     "output_type": "stream",
     "text": [
      "INFO:tensorflow:Saving checkpoints for 32580 into model/model.ckpt.\n"
     ]
    },
    {
     "name": "stderr",
     "output_type": "stream",
     "text": [
      "I0211 12:08:43.391920 4439444928 basic_session_run_hooks.py:613] Saving checkpoints for 32580 into model/model.ckpt.\n"
     ]
    },
    {
     "name": "stdout",
     "output_type": "stream",
     "text": [
      "INFO:tensorflow:Loss for final step: 0.083817095.\n"
     ]
    },
    {
     "name": "stderr",
     "output_type": "stream",
     "text": [
      "I0211 12:08:43.559962 4439444928 estimator.py:375] Loss for final step: 0.083817095.\n"
     ]
    },
    {
     "name": "stdout",
     "output_type": "stream",
     "text": [
      "INFO:tensorflow:Parsing data/adult.test\n"
     ]
    },
    {
     "name": "stderr",
     "output_type": "stream",
     "text": [
      "I0211 12:08:43.571334 4439444928 api.py:332] Parsing data/adult.test\n"
     ]
    },
    {
     "name": "stdout",
     "output_type": "stream",
     "text": [
      "INFO:tensorflow:Calling model_fn.\n"
     ]
    },
    {
     "name": "stderr",
     "output_type": "stream",
     "text": [
      "I0211 12:08:43.591439 4439444928 estimator.py:1151] Calling model_fn.\n"
     ]
    },
    {
     "name": "stdout",
     "output_type": "stream",
     "text": [
      "INFO:tensorflow:Done calling model_fn.\n"
     ]
    },
    {
     "name": "stderr",
     "output_type": "stream",
     "text": [
      "I0211 12:08:44.611978 4439444928 estimator.py:1153] Done calling model_fn.\n"
     ]
    },
    {
     "name": "stdout",
     "output_type": "stream",
     "text": [
      "INFO:tensorflow:Starting evaluation at 2020-02-11T12:08:44Z\n"
     ]
    },
    {
     "name": "stderr",
     "output_type": "stream",
     "text": [
      "I0211 12:08:44.626237 4439444928 evaluation.py:255] Starting evaluation at 2020-02-11T12:08:44Z\n"
     ]
    },
    {
     "name": "stdout",
     "output_type": "stream",
     "text": [
      "INFO:tensorflow:Graph was finalized.\n"
     ]
    },
    {
     "name": "stderr",
     "output_type": "stream",
     "text": [
      "I0211 12:08:44.675012 4439444928 monitored_session.py:246] Graph was finalized.\n"
     ]
    },
    {
     "name": "stdout",
     "output_type": "stream",
     "text": [
      "INFO:tensorflow:Restoring parameters from model/model.ckpt-32580\n"
     ]
    },
    {
     "name": "stderr",
     "output_type": "stream",
     "text": [
      "I0211 12:08:44.676623 4439444928 saver.py:1284] Restoring parameters from model/model.ckpt-32580\n"
     ]
    },
    {
     "name": "stdout",
     "output_type": "stream",
     "text": [
      "INFO:tensorflow:Running local_init_op.\n"
     ]
    },
    {
     "name": "stderr",
     "output_type": "stream",
     "text": [
      "I0211 12:08:44.876689 4439444928 session_manager.py:504] Running local_init_op.\n"
     ]
    },
    {
     "name": "stdout",
     "output_type": "stream",
     "text": [
      "INFO:tensorflow:Done running local_init_op.\n"
     ]
    },
    {
     "name": "stderr",
     "output_type": "stream",
     "text": [
      "I0211 12:08:44.953313 4439444928 session_manager.py:507] Done running local_init_op.\n"
     ]
    },
    {
     "name": "stdout",
     "output_type": "stream",
     "text": [
      "INFO:tensorflow:Inference Time : 1.66621s\n"
     ]
    },
    {
     "name": "stderr",
     "output_type": "stream",
     "text": [
      "I0211 12:08:46.293157 4439444928 evaluation.py:273] Inference Time : 1.66621s\n"
     ]
    },
    {
     "name": "stdout",
     "output_type": "stream",
     "text": [
      "INFO:tensorflow:Finished evaluation at 2020-02-11-12:08:46\n"
     ]
    },
    {
     "name": "stderr",
     "output_type": "stream",
     "text": [
      "I0211 12:08:46.294089 4439444928 evaluation.py:276] Finished evaluation at 2020-02-11-12:08:46\n"
     ]
    },
    {
     "name": "stdout",
     "output_type": "stream",
     "text": [
      "INFO:tensorflow:Saving dict for global step 32580: accuracy = 0.85615134, accuracy_baseline = 0.76377374, auc = 0.9051652, auc_precision_recall = 0.7691735, average_loss = 0.32067895, global_step = 32580, label/mean = 0.23622628, loss = 0.32039213, precision = 0.76293707, prediction/mean = 0.23807418, recall = 0.5673427\n"
     ]
    },
    {
     "name": "stderr",
     "output_type": "stream",
     "text": [
      "I0211 12:08:46.294954 4439444928 estimator.py:2053] Saving dict for global step 32580: accuracy = 0.85615134, accuracy_baseline = 0.76377374, auc = 0.9051652, auc_precision_recall = 0.7691735, average_loss = 0.32067895, global_step = 32580, label/mean = 0.23622628, loss = 0.32039213, precision = 0.76293707, prediction/mean = 0.23807418, recall = 0.5673427\n"
     ]
    },
    {
     "name": "stdout",
     "output_type": "stream",
     "text": [
      "INFO:tensorflow:Saving 'checkpoint_path' summary for global step 32580: model/model.ckpt-32580\n"
     ]
    },
    {
     "name": "stderr",
     "output_type": "stream",
     "text": [
      "I0211 12:08:46.295948 4439444928 estimator.py:2113] Saving 'checkpoint_path' summary for global step 32580: model/model.ckpt-32580\n"
     ]
    },
    {
     "name": "stdout",
     "output_type": "stream",
     "text": [
      "INFO:tensorflow:Results at epoch 40 / 40\n"
     ]
    },
    {
     "name": "stderr",
     "output_type": "stream",
     "text": [
      "I0211 12:08:46.297085 4439444928 <ipython-input-7-b40c302cf839>:76] Results at epoch 40 / 40\n"
     ]
    },
    {
     "name": "stdout",
     "output_type": "stream",
     "text": [
      "INFO:tensorflow:------------------------------------------------------------\n"
     ]
    },
    {
     "name": "stderr",
     "output_type": "stream",
     "text": [
      "I0211 12:08:46.297877 4439444928 <ipython-input-7-b40c302cf839>:77] ------------------------------------------------------------\n"
     ]
    },
    {
     "name": "stdout",
     "output_type": "stream",
     "text": [
      "INFO:tensorflow:accuracy: 0.85615134\n"
     ]
    },
    {
     "name": "stderr",
     "output_type": "stream",
     "text": [
      "I0211 12:08:46.298537 4439444928 <ipython-input-7-b40c302cf839>:80] accuracy: 0.85615134\n"
     ]
    },
    {
     "name": "stdout",
     "output_type": "stream",
     "text": [
      "INFO:tensorflow:accuracy_baseline: 0.76377374\n"
     ]
    },
    {
     "name": "stderr",
     "output_type": "stream",
     "text": [
      "I0211 12:08:46.299301 4439444928 <ipython-input-7-b40c302cf839>:80] accuracy_baseline: 0.76377374\n"
     ]
    },
    {
     "name": "stdout",
     "output_type": "stream",
     "text": [
      "INFO:tensorflow:auc: 0.9051652\n"
     ]
    },
    {
     "name": "stderr",
     "output_type": "stream",
     "text": [
      "I0211 12:08:46.299933 4439444928 <ipython-input-7-b40c302cf839>:80] auc: 0.9051652\n"
     ]
    },
    {
     "name": "stdout",
     "output_type": "stream",
     "text": [
      "INFO:tensorflow:auc_precision_recall: 0.7691735\n"
     ]
    },
    {
     "name": "stderr",
     "output_type": "stream",
     "text": [
      "I0211 12:08:46.300717 4439444928 <ipython-input-7-b40c302cf839>:80] auc_precision_recall: 0.7691735\n"
     ]
    },
    {
     "name": "stdout",
     "output_type": "stream",
     "text": [
      "INFO:tensorflow:average_loss: 0.32067895\n"
     ]
    },
    {
     "name": "stderr",
     "output_type": "stream",
     "text": [
      "I0211 12:08:46.301328 4439444928 <ipython-input-7-b40c302cf839>:80] average_loss: 0.32067895\n"
     ]
    },
    {
     "name": "stdout",
     "output_type": "stream",
     "text": [
      "INFO:tensorflow:global_step: 32580\n"
     ]
    },
    {
     "name": "stderr",
     "output_type": "stream",
     "text": [
      "I0211 12:08:46.302119 4439444928 <ipython-input-7-b40c302cf839>:80] global_step: 32580\n"
     ]
    },
    {
     "name": "stdout",
     "output_type": "stream",
     "text": [
      "INFO:tensorflow:label/mean: 0.23622628\n"
     ]
    },
    {
     "name": "stderr",
     "output_type": "stream",
     "text": [
      "I0211 12:08:46.302749 4439444928 <ipython-input-7-b40c302cf839>:80] label/mean: 0.23622628\n"
     ]
    },
    {
     "name": "stdout",
     "output_type": "stream",
     "text": [
      "INFO:tensorflow:loss: 0.32039213\n"
     ]
    },
    {
     "name": "stderr",
     "output_type": "stream",
     "text": [
      "I0211 12:08:46.303533 4439444928 <ipython-input-7-b40c302cf839>:80] loss: 0.32039213\n"
     ]
    },
    {
     "name": "stdout",
     "output_type": "stream",
     "text": [
      "INFO:tensorflow:precision: 0.76293707\n"
     ]
    },
    {
     "name": "stderr",
     "output_type": "stream",
     "text": [
      "I0211 12:08:46.304109 4439444928 <ipython-input-7-b40c302cf839>:80] precision: 0.76293707\n"
     ]
    },
    {
     "name": "stdout",
     "output_type": "stream",
     "text": [
      "INFO:tensorflow:prediction/mean: 0.23807418\n"
     ]
    },
    {
     "name": "stderr",
     "output_type": "stream",
     "text": [
      "I0211 12:08:46.304860 4439444928 <ipython-input-7-b40c302cf839>:80] prediction/mean: 0.23807418\n"
     ]
    },
    {
     "name": "stdout",
     "output_type": "stream",
     "text": [
      "INFO:tensorflow:recall: 0.5673427\n"
     ]
    },
    {
     "name": "stderr",
     "output_type": "stream",
     "text": [
      "I0211 12:08:46.305499 4439444928 <ipython-input-7-b40c302cf839>:80] recall: 0.5673427\n"
     ]
    },
    {
     "name": "stdout",
     "output_type": "stream",
     "text": [
      "INFO:tensorflow:Benchmark metric: {'name': 'accuracy', 'value': 0.8561513423919678, 'unit': None, 'global_step': 32580, 'timestamp': '2020-02-11T05:08:46.306223Z', 'extras': []}\n"
     ]
    },
    {
     "name": "stderr",
     "output_type": "stream",
     "text": [
      "I0211 12:08:46.306247 4439444928 logger.py:147] Benchmark metric: {'name': 'accuracy', 'value': 0.8561513423919678, 'unit': None, 'global_step': 32580, 'timestamp': '2020-02-11T05:08:46.306223Z', 'extras': []}\n"
     ]
    },
    {
     "name": "stdout",
     "output_type": "stream",
     "text": [
      "INFO:tensorflow:Benchmark metric: {'name': 'accuracy_baseline', 'value': 0.7637737393379211, 'unit': None, 'global_step': 32580, 'timestamp': '2020-02-11T05:08:46.306881Z', 'extras': []}\n"
     ]
    },
    {
     "name": "stderr",
     "output_type": "stream",
     "text": [
      "I0211 12:08:46.306900 4439444928 logger.py:147] Benchmark metric: {'name': 'accuracy_baseline', 'value': 0.7637737393379211, 'unit': None, 'global_step': 32580, 'timestamp': '2020-02-11T05:08:46.306881Z', 'extras': []}\n"
     ]
    },
    {
     "name": "stdout",
     "output_type": "stream",
     "text": [
      "INFO:tensorflow:Benchmark metric: {'name': 'auc', 'value': 0.9051651954650879, 'unit': None, 'global_step': 32580, 'timestamp': '2020-02-11T05:08:46.307662Z', 'extras': []}\n"
     ]
    },
    {
     "name": "stderr",
     "output_type": "stream",
     "text": [
      "I0211 12:08:46.307682 4439444928 logger.py:147] Benchmark metric: {'name': 'auc', 'value': 0.9051651954650879, 'unit': None, 'global_step': 32580, 'timestamp': '2020-02-11T05:08:46.307662Z', 'extras': []}\n"
     ]
    },
    {
     "name": "stdout",
     "output_type": "stream",
     "text": [
      "INFO:tensorflow:Benchmark metric: {'name': 'auc_precision_recall', 'value': 0.7691735029220581, 'unit': None, 'global_step': 32580, 'timestamp': '2020-02-11T05:08:46.308328Z', 'extras': []}\n"
     ]
    },
    {
     "name": "stderr",
     "output_type": "stream",
     "text": [
      "I0211 12:08:46.308346 4439444928 logger.py:147] Benchmark metric: {'name': 'auc_precision_recall', 'value': 0.7691735029220581, 'unit': None, 'global_step': 32580, 'timestamp': '2020-02-11T05:08:46.308328Z', 'extras': []}\n"
     ]
    },
    {
     "name": "stdout",
     "output_type": "stream",
     "text": [
      "INFO:tensorflow:Benchmark metric: {'name': 'average_loss', 'value': 0.3206789493560791, 'unit': None, 'global_step': 32580, 'timestamp': '2020-02-11T05:08:46.309097Z', 'extras': []}\n"
     ]
    },
    {
     "name": "stderr",
     "output_type": "stream",
     "text": [
      "I0211 12:08:46.309115 4439444928 logger.py:147] Benchmark metric: {'name': 'average_loss', 'value': 0.3206789493560791, 'unit': None, 'global_step': 32580, 'timestamp': '2020-02-11T05:08:46.309097Z', 'extras': []}\n"
     ]
    },
    {
     "name": "stdout",
     "output_type": "stream",
     "text": [
      "INFO:tensorflow:Benchmark metric: {'name': 'label/mean', 'value': 0.23622627556324005, 'unit': None, 'global_step': 32580, 'timestamp': '2020-02-11T05:08:46.309749Z', 'extras': []}\n"
     ]
    },
    {
     "name": "stderr",
     "output_type": "stream",
     "text": [
      "I0211 12:08:46.309765 4439444928 logger.py:147] Benchmark metric: {'name': 'label/mean', 'value': 0.23622627556324005, 'unit': None, 'global_step': 32580, 'timestamp': '2020-02-11T05:08:46.309749Z', 'extras': []}\n"
     ]
    },
    {
     "name": "stdout",
     "output_type": "stream",
     "text": [
      "INFO:tensorflow:Benchmark metric: {'name': 'loss', 'value': 0.3203921318054199, 'unit': None, 'global_step': 32580, 'timestamp': '2020-02-11T05:08:46.310488Z', 'extras': []}\n"
     ]
    },
    {
     "name": "stderr",
     "output_type": "stream",
     "text": [
      "I0211 12:08:46.310508 4439444928 logger.py:147] Benchmark metric: {'name': 'loss', 'value': 0.3203921318054199, 'unit': None, 'global_step': 32580, 'timestamp': '2020-02-11T05:08:46.310488Z', 'extras': []}\n"
     ]
    },
    {
     "name": "stdout",
     "output_type": "stream",
     "text": [
      "INFO:tensorflow:Benchmark metric: {'name': 'precision', 'value': 0.762937068939209, 'unit': None, 'global_step': 32580, 'timestamp': '2020-02-11T05:08:46.311087Z', 'extras': []}\n"
     ]
    },
    {
     "name": "stderr",
     "output_type": "stream",
     "text": [
      "I0211 12:08:46.311107 4439444928 logger.py:147] Benchmark metric: {'name': 'precision', 'value': 0.762937068939209, 'unit': None, 'global_step': 32580, 'timestamp': '2020-02-11T05:08:46.311087Z', 'extras': []}\n"
     ]
    },
    {
     "name": "stdout",
     "output_type": "stream",
     "text": [
      "INFO:tensorflow:Benchmark metric: {'name': 'prediction/mean', 'value': 0.2380741834640503, 'unit': None, 'global_step': 32580, 'timestamp': '2020-02-11T05:08:46.311976Z', 'extras': []}\n"
     ]
    },
    {
     "name": "stderr",
     "output_type": "stream",
     "text": [
      "I0211 12:08:46.311995 4439444928 logger.py:147] Benchmark metric: {'name': 'prediction/mean', 'value': 0.2380741834640503, 'unit': None, 'global_step': 32580, 'timestamp': '2020-02-11T05:08:46.311976Z', 'extras': []}\n"
     ]
    },
    {
     "name": "stdout",
     "output_type": "stream",
     "text": [
      "INFO:tensorflow:Benchmark metric: {'name': 'recall', 'value': 0.5673426985740662, 'unit': None, 'global_step': 32580, 'timestamp': '2020-02-11T05:08:46.312870Z', 'extras': []}\n"
     ]
    },
    {
     "name": "stderr",
     "output_type": "stream",
     "text": [
      "I0211 12:08:46.312889 4439444928 logger.py:147] Benchmark metric: {'name': 'recall', 'value': 0.5673426985740662, 'unit': None, 'global_step': 32580, 'timestamp': '2020-02-11T05:08:46.312870Z', 'extras': []}\n"
     ]
    },
    {
     "name": "stdout",
     "output_type": "stream",
     "text": [
      "INFO:tensorflow:Calling model_fn.\n"
     ]
    },
    {
     "name": "stderr",
     "output_type": "stream",
     "text": [
      "I0211 12:08:46.325818 4439444928 estimator.py:1151] Calling model_fn.\n"
     ]
    },
    {
     "name": "stdout",
     "output_type": "stream",
     "text": [
      "INFO:tensorflow:Done calling model_fn.\n"
     ]
    },
    {
     "name": "stderr",
     "output_type": "stream",
     "text": [
      "I0211 12:08:46.802204 4439444928 estimator.py:1153] Done calling model_fn.\n"
     ]
    },
    {
     "name": "stdout",
     "output_type": "stream",
     "text": [
      "WARNING:tensorflow:From /Users/kadriansyah/anaconda3/envs/recommender/lib/python3.7/site-packages/tensorflow_core/python/saved_model/signature_def_utils_impl.py:145: build_tensor_info (from tensorflow.python.saved_model.utils_impl) is deprecated and will be removed in a future version.\n",
      "Instructions for updating:\n",
      "This function will only be available through the v1 compatibility library as tf.compat.v1.saved_model.utils.build_tensor_info or tf.compat.v1.saved_model.build_tensor_info.\n"
     ]
    },
    {
     "name": "stderr",
     "output_type": "stream",
     "text": [
      "W0211 12:08:46.803178 4439444928 deprecation.py:323] From /Users/kadriansyah/anaconda3/envs/recommender/lib/python3.7/site-packages/tensorflow_core/python/saved_model/signature_def_utils_impl.py:145: build_tensor_info (from tensorflow.python.saved_model.utils_impl) is deprecated and will be removed in a future version.\n",
      "Instructions for updating:\n",
      "This function will only be available through the v1 compatibility library as tf.compat.v1.saved_model.utils.build_tensor_info or tf.compat.v1.saved_model.build_tensor_info.\n"
     ]
    },
    {
     "name": "stdout",
     "output_type": "stream",
     "text": [
      "INFO:tensorflow:Signatures INCLUDED in export for Classify: ['serving_default', 'classification']\n"
     ]
    },
    {
     "name": "stderr",
     "output_type": "stream",
     "text": [
      "I0211 12:08:46.804560 4439444928 export_utils.py:170] Signatures INCLUDED in export for Classify: ['serving_default', 'classification']\n"
     ]
    },
    {
     "name": "stdout",
     "output_type": "stream",
     "text": [
      "INFO:tensorflow:Signatures INCLUDED in export for Regress: ['regression']\n"
     ]
    },
    {
     "name": "stderr",
     "output_type": "stream",
     "text": [
      "I0211 12:08:46.805721 4439444928 export_utils.py:170] Signatures INCLUDED in export for Regress: ['regression']\n"
     ]
    },
    {
     "name": "stdout",
     "output_type": "stream",
     "text": [
      "INFO:tensorflow:Signatures INCLUDED in export for Predict: ['predict']\n"
     ]
    },
    {
     "name": "stderr",
     "output_type": "stream",
     "text": [
      "I0211 12:08:46.806889 4439444928 export_utils.py:170] Signatures INCLUDED in export for Predict: ['predict']\n"
     ]
    },
    {
     "name": "stdout",
     "output_type": "stream",
     "text": [
      "INFO:tensorflow:Signatures INCLUDED in export for Train: None\n"
     ]
    },
    {
     "name": "stderr",
     "output_type": "stream",
     "text": [
      "I0211 12:08:46.807855 4439444928 export_utils.py:170] Signatures INCLUDED in export for Train: None\n"
     ]
    },
    {
     "name": "stdout",
     "output_type": "stream",
     "text": [
      "INFO:tensorflow:Signatures INCLUDED in export for Eval: None\n"
     ]
    },
    {
     "name": "stderr",
     "output_type": "stream",
     "text": [
      "I0211 12:08:46.808645 4439444928 export_utils.py:170] Signatures INCLUDED in export for Eval: None\n"
     ]
    },
    {
     "name": "stdout",
     "output_type": "stream",
     "text": [
      "INFO:tensorflow:Restoring parameters from model/model.ckpt-32580\n"
     ]
    },
    {
     "name": "stderr",
     "output_type": "stream",
     "text": [
      "I0211 12:08:46.834370 4439444928 saver.py:1284] Restoring parameters from model/model.ckpt-32580\n"
     ]
    },
    {
     "name": "stdout",
     "output_type": "stream",
     "text": [
      "INFO:tensorflow:Assets added to graph.\n"
     ]
    },
    {
     "name": "stderr",
     "output_type": "stream",
     "text": [
      "I0211 12:08:46.911857 4439444928 builder_impl.py:666] Assets added to graph.\n"
     ]
    },
    {
     "name": "stdout",
     "output_type": "stream",
     "text": [
      "INFO:tensorflow:No assets to write.\n"
     ]
    },
    {
     "name": "stderr",
     "output_type": "stream",
     "text": [
      "I0211 12:08:46.912679 4439444928 builder_impl.py:461] No assets to write.\n"
     ]
    },
    {
     "name": "stdout",
     "output_type": "stream",
     "text": [
      "INFO:tensorflow:SavedModel written to: saved_model/temp-b'1581397726'/saved_model.pb\n"
     ]
    },
    {
     "name": "stderr",
     "output_type": "stream",
     "text": [
      "I0211 12:08:47.079602 4439444928 builder_impl.py:426] SavedModel written to: saved_model/temp-b'1581397726'/saved_model.pb\n"
     ]
    },
    {
     "name": "stdout",
     "output_type": "stream",
     "text": [
      "It works!\n"
     ]
    }
   ],
   "source": [
    "def main(_):\n",
    "    with logger.benchmark_context(flags.FLAGS):\n",
    "        run_census(flags.FLAGS)\n",
    "\n",
    "try:\n",
    "    # prevent from \"FATAL Flags parsing error: Unknown command line flag 'f'\"\n",
    "    import sys\n",
    "    sys.argv = sys.argv[:1]\n",
    "\n",
    "    tf.compat.v1.logging.set_verbosity(tf.compat.v1.logging.INFO)\n",
    "    define_census_flags()\n",
    "    absl_app.run(main)\n",
    "except SystemExit:\n",
    "    print(\"It works!\")"
   ]
  }
 ],
 "metadata": {
  "kernelspec": {
   "display_name": "Python 3",
   "language": "python",
   "name": "python3"
  },
  "language_info": {
   "codemirror_mode": {
    "name": "ipython",
    "version": 3
   },
   "file_extension": ".py",
   "mimetype": "text/x-python",
   "name": "python",
   "nbconvert_exporter": "python",
   "pygments_lexer": "ipython3",
   "version": "3.7.6"
  }
 },
 "nbformat": 4,
 "nbformat_minor": 4
}
