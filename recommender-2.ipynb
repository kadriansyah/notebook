{
 "cells": [
  {
   "cell_type": "markdown",
   "metadata": {},
   "source": [
    "### source: https://www.onceupondata.com/2019/02/10/nn-collaborative-filtering/"
   ]
  },
  {
   "cell_type": "code",
   "execution_count": 11,
   "metadata": {},
   "outputs": [
    {
     "name": "stdout",
     "output_type": "stream",
     "text": [
      "Defaulting to user installation because normal site-packages is not writeable\n",
      "Requirement already satisfied: numpy in /usr/local/lib/python3.5/site-packages (1.15.1)\n",
      "Requirement already satisfied: pandas in /usr/local/lib/python3.5/dist-packages (0.25.3)\n",
      "Requirement already satisfied: matplotlib in /usr/local/lib/python3.5/dist-packages (3.0.3)\n",
      "Requirement already satisfied: sklearn in /home/jupyter/.local/lib/python3.5/site-packages (0.0)\n",
      "Requirement already satisfied: seaborn in /usr/local/lib/python3.5/dist-packages (0.9.1)\n",
      "Requirement already satisfied: mkl-random in /usr/local/lib/python3.5/dist-packages (from numpy) (1.0.1.1)\n",
      "Requirement already satisfied: mkl-fft in /usr/local/lib/python3.5/dist-packages (from numpy) (1.0.6)\n",
      "Requirement already satisfied: icc-rt in /usr/local/lib/python3.5/dist-packages (from numpy) (2020.0.133)\n",
      "Requirement already satisfied: tbb4py in /usr/local/lib/python3.5/dist-packages (from numpy) (2019.0)\n",
      "Requirement already satisfied: mkl in /usr/local/lib/python3.5/dist-packages (from numpy) (2019.0)\n",
      "Requirement already satisfied: python-dateutil>=2.6.1 in /usr/local/lib/python3.5/dist-packages (from pandas) (2.8.1)\n",
      "Requirement already satisfied: pytz>=2017.2 in /usr/local/lib/python3.5/dist-packages (from pandas) (2019.3)\n",
      "Requirement already satisfied: kiwisolver>=1.0.1 in /usr/local/lib/python3.5/dist-packages (from matplotlib) (1.1.0)\n",
      "Requirement already satisfied: pyparsing!=2.0.4,!=2.1.2,!=2.1.6,>=2.0.1 in /usr/local/lib/python3.5/dist-packages (from matplotlib) (2.4.6)\n",
      "Requirement already satisfied: cycler>=0.10 in /usr/local/lib/python3.5/dist-packages (from matplotlib) (0.10.0)\n",
      "Requirement already satisfied: scikit-learn in /usr/local/lib/python3.5/site-packages (from sklearn) (0.19.2)\n",
      "Requirement already satisfied: scipy>=0.17.1 in /usr/local/lib/python3.5/site-packages (from seaborn) (1.1.0)\n",
      "Requirement already satisfied: intel-numpy in /usr/local/lib/python3.5/dist-packages (from mkl-random->numpy) (1.15.1)\n",
      "Requirement already satisfied: intel-openmp==2020.* in /usr/local/lib/python3.5/dist-packages (from icc-rt->numpy) (2020.0.133)\n",
      "Requirement already satisfied: tbb==2019.* in /usr/local/lib/python3.5/dist-packages (from tbb4py->numpy) (2019.0)\n",
      "Requirement already satisfied: six>=1.5 in /usr/local/lib/python3.5/dist-packages (from python-dateutil>=2.6.1->pandas) (1.14.0)\n",
      "Requirement already satisfied: setuptools in /usr/local/lib/python3.5/dist-packages (from kiwisolver>=1.0.1->matplotlib) (45.1.0)\n",
      "Requirement already satisfied: pydaal in /usr/local/lib/python3.5/dist-packages (from scikit-learn->sklearn) (2019.0.0.20180713)\n",
      "Requirement already satisfied: intel-scipy in /usr/local/lib/python3.5/dist-packages (from scikit-learn->sklearn) (1.1.0)\n",
      "Requirement already satisfied: daal==2019.* in /usr/local/lib/python3.5/dist-packages (from pydaal->scikit-learn->sklearn) (2019.0)\n"
     ]
    }
   ],
   "source": [
    "import sys\n",
    "!{sys.executable} -m pip install numpy pandas matplotlib sklearn seaborn"
   ]
  },
  {
   "cell_type": "code",
   "execution_count": 1,
   "metadata": {
    "colab": {
     "base_uri": "https://localhost:8080/",
     "height": 88
    },
    "colab_type": "code",
    "executionInfo": {
     "elapsed": 959,
     "status": "ok",
     "timestamp": 1580703940216,
     "user": {
      "displayName": "Kiagus Arief Adriansyah",
      "photoUrl": "https://lh3.googleusercontent.com/a-/AAuE7mDgNof4X_p29AVNSbm_npSTtGqp1GtqPb5UuwPF4Q=s64",
      "userId": "15196441721339582267"
     },
     "user_tz": -420
    },
    "id": "N1aCcKLFQTMW",
    "outputId": "d4d32871-1f71-4ab8-bf31-b140dbb70991"
   },
   "outputs": [],
   "source": [
    "from __future__ import absolute_import, division, print_function, unicode_literals\n",
    "\n",
    "import numpy as np\n",
    "import pandas as pd\n",
    "import matplotlib.pyplot as plt\n",
    "import os\n",
    "import warnings\n",
    "\n",
    "from tensorflow.keras.layers import Input, Embedding, Flatten, Dot, Dense, Concatenate, Dropout, Multiply\n",
    "from tensorflow.keras.models import Model\n",
    "from tensorflow.keras.optimizers import Adam\n",
    "\n",
    "# import tensorflow as tf\n",
    "# tf.debugging.set_log_device_placement(True)\n",
    "\n",
    "warnings.filterwarnings('ignore')\n",
    "%matplotlib inline"
   ]
  },
  {
   "cell_type": "markdown",
   "metadata": {
    "colab_type": "text",
    "id": "PkdjhXwdQTMd"
   },
   "source": [
    "## Loading in data"
   ]
  },
  {
   "cell_type": "code",
   "execution_count": 3,
   "metadata": {
    "colab": {},
    "colab_type": "code",
    "id": "_Rk-GzjyQTMe"
   },
   "outputs": [],
   "source": [
    "dataset = pd.read_csv('ratings.csv')"
   ]
  },
  {
   "cell_type": "code",
   "execution_count": 4,
   "metadata": {
    "colab": {
     "base_uri": "https://localhost:8080/",
     "height": 204
    },
    "colab_type": "code",
    "executionInfo": {
     "elapsed": 1060,
     "status": "ok",
     "timestamp": 1580703968325,
     "user": {
      "displayName": "Kiagus Arief Adriansyah",
      "photoUrl": "https://lh3.googleusercontent.com/a-/AAuE7mDgNof4X_p29AVNSbm_npSTtGqp1GtqPb5UuwPF4Q=s64",
      "userId": "15196441721339582267"
     },
     "user_tz": -420
    },
    "id": "Kq9kmUUJQTMi",
    "outputId": "5335716a-9e34-44f0-f85d-740266777c99"
   },
   "outputs": [
    {
     "data": {
      "text/html": [
       "<div>\n",
       "<style scoped>\n",
       "    .dataframe tbody tr th:only-of-type {\n",
       "        vertical-align: middle;\n",
       "    }\n",
       "\n",
       "    .dataframe tbody tr th {\n",
       "        vertical-align: top;\n",
       "    }\n",
       "\n",
       "    .dataframe thead th {\n",
       "        text-align: right;\n",
       "    }\n",
       "</style>\n",
       "<table border=\"1\" class=\"dataframe\">\n",
       "  <thead>\n",
       "    <tr style=\"text-align: right;\">\n",
       "      <th></th>\n",
       "      <th>book_id</th>\n",
       "      <th>user_id</th>\n",
       "      <th>rating</th>\n",
       "    </tr>\n",
       "  </thead>\n",
       "  <tbody>\n",
       "    <tr>\n",
       "      <th>0</th>\n",
       "      <td>1</td>\n",
       "      <td>314</td>\n",
       "      <td>5</td>\n",
       "    </tr>\n",
       "    <tr>\n",
       "      <th>1</th>\n",
       "      <td>1</td>\n",
       "      <td>439</td>\n",
       "      <td>3</td>\n",
       "    </tr>\n",
       "    <tr>\n",
       "      <th>2</th>\n",
       "      <td>1</td>\n",
       "      <td>588</td>\n",
       "      <td>5</td>\n",
       "    </tr>\n",
       "    <tr>\n",
       "      <th>3</th>\n",
       "      <td>1</td>\n",
       "      <td>1169</td>\n",
       "      <td>4</td>\n",
       "    </tr>\n",
       "    <tr>\n",
       "      <th>4</th>\n",
       "      <td>1</td>\n",
       "      <td>1185</td>\n",
       "      <td>4</td>\n",
       "    </tr>\n",
       "  </tbody>\n",
       "</table>\n",
       "</div>"
      ],
      "text/plain": [
       "   book_id  user_id  rating\n",
       "0        1      314       5\n",
       "1        1      439       3\n",
       "2        1      588       5\n",
       "3        1     1169       4\n",
       "4        1     1185       4"
      ]
     },
     "execution_count": 4,
     "metadata": {},
     "output_type": "execute_result"
    }
   ],
   "source": [
    "dataset.head()"
   ]
  },
  {
   "cell_type": "code",
   "execution_count": 5,
   "metadata": {
    "colab": {
     "base_uri": "https://localhost:8080/",
     "height": 34
    },
    "colab_type": "code",
    "executionInfo": {
     "elapsed": 1191,
     "status": "ok",
     "timestamp": 1580703980173,
     "user": {
      "displayName": "Kiagus Arief Adriansyah",
      "photoUrl": "https://lh3.googleusercontent.com/a-/AAuE7mDgNof4X_p29AVNSbm_npSTtGqp1GtqPb5UuwPF4Q=s64",
      "userId": "15196441721339582267"
     },
     "user_tz": -420
    },
    "id": "hlCLsnjpQTMm",
    "outputId": "093bdf20-4045-4813-a570-14c00919b70e"
   },
   "outputs": [
    {
     "data": {
      "text/plain": [
       "(981756, 3)"
      ]
     },
     "execution_count": 5,
     "metadata": {},
     "output_type": "execute_result"
    }
   ],
   "source": [
    "dataset.shape"
   ]
  },
  {
   "cell_type": "code",
   "execution_count": 6,
   "metadata": {
    "colab": {},
    "colab_type": "code",
    "id": "hqdfscRgQTMq"
   },
   "outputs": [],
   "source": [
    "from sklearn.model_selection import train_test_split\n",
    "train, test = train_test_split(dataset, test_size=0.2, random_state=42)"
   ]
  },
  {
   "cell_type": "code",
   "execution_count": 7,
   "metadata": {
    "colab": {
     "base_uri": "https://localhost:8080/",
     "height": 204
    },
    "colab_type": "code",
    "executionInfo": {
     "elapsed": 934,
     "status": "ok",
     "timestamp": 1580703993384,
     "user": {
      "displayName": "Kiagus Arief Adriansyah",
      "photoUrl": "https://lh3.googleusercontent.com/a-/AAuE7mDgNof4X_p29AVNSbm_npSTtGqp1GtqPb5UuwPF4Q=s64",
      "userId": "15196441721339582267"
     },
     "user_tz": -420
    },
    "id": "ChHnhXp4QTMu",
    "outputId": "88d9cb77-4d36-4e7a-a851-8b34601fd071"
   },
   "outputs": [
    {
     "data": {
      "text/html": [
       "<div>\n",
       "<style scoped>\n",
       "    .dataframe tbody tr th:only-of-type {\n",
       "        vertical-align: middle;\n",
       "    }\n",
       "\n",
       "    .dataframe tbody tr th {\n",
       "        vertical-align: top;\n",
       "    }\n",
       "\n",
       "    .dataframe thead th {\n",
       "        text-align: right;\n",
       "    }\n",
       "</style>\n",
       "<table border=\"1\" class=\"dataframe\">\n",
       "  <thead>\n",
       "    <tr style=\"text-align: right;\">\n",
       "      <th></th>\n",
       "      <th>book_id</th>\n",
       "      <th>user_id</th>\n",
       "      <th>rating</th>\n",
       "    </tr>\n",
       "  </thead>\n",
       "  <tbody>\n",
       "    <tr>\n",
       "      <th>341848</th>\n",
       "      <td>3423</td>\n",
       "      <td>4608</td>\n",
       "      <td>2</td>\n",
       "    </tr>\n",
       "    <tr>\n",
       "      <th>964349</th>\n",
       "      <td>9811</td>\n",
       "      <td>36373</td>\n",
       "      <td>5</td>\n",
       "    </tr>\n",
       "    <tr>\n",
       "      <th>645459</th>\n",
       "      <td>6485</td>\n",
       "      <td>2957</td>\n",
       "      <td>4</td>\n",
       "    </tr>\n",
       "    <tr>\n",
       "      <th>74960</th>\n",
       "      <td>750</td>\n",
       "      <td>42400</td>\n",
       "      <td>3</td>\n",
       "    </tr>\n",
       "    <tr>\n",
       "      <th>358670</th>\n",
       "      <td>3591</td>\n",
       "      <td>36886</td>\n",
       "      <td>5</td>\n",
       "    </tr>\n",
       "  </tbody>\n",
       "</table>\n",
       "</div>"
      ],
      "text/plain": [
       "        book_id  user_id  rating\n",
       "341848     3423     4608       2\n",
       "964349     9811    36373       5\n",
       "645459     6485     2957       4\n",
       "74960       750    42400       3\n",
       "358670     3591    36886       5"
      ]
     },
     "execution_count": 7,
     "metadata": {},
     "output_type": "execute_result"
    }
   ],
   "source": [
    "train.head()"
   ]
  },
  {
   "cell_type": "code",
   "execution_count": 8,
   "metadata": {
    "colab": {
     "base_uri": "https://localhost:8080/",
     "height": 204
    },
    "colab_type": "code",
    "executionInfo": {
     "elapsed": 919,
     "status": "ok",
     "timestamp": 1580703999948,
     "user": {
      "displayName": "Kiagus Arief Adriansyah",
      "photoUrl": "https://lh3.googleusercontent.com/a-/AAuE7mDgNof4X_p29AVNSbm_npSTtGqp1GtqPb5UuwPF4Q=s64",
      "userId": "15196441721339582267"
     },
     "user_tz": -420
    },
    "id": "PtoIDSItQTMx",
    "outputId": "4ca07121-1107-4d88-97fc-c740a69fa33b"
   },
   "outputs": [
    {
     "data": {
      "text/html": [
       "<div>\n",
       "<style scoped>\n",
       "    .dataframe tbody tr th:only-of-type {\n",
       "        vertical-align: middle;\n",
       "    }\n",
       "\n",
       "    .dataframe tbody tr th {\n",
       "        vertical-align: top;\n",
       "    }\n",
       "\n",
       "    .dataframe thead th {\n",
       "        text-align: right;\n",
       "    }\n",
       "</style>\n",
       "<table border=\"1\" class=\"dataframe\">\n",
       "  <thead>\n",
       "    <tr style=\"text-align: right;\">\n",
       "      <th></th>\n",
       "      <th>book_id</th>\n",
       "      <th>user_id</th>\n",
       "      <th>rating</th>\n",
       "    </tr>\n",
       "  </thead>\n",
       "  <tbody>\n",
       "    <tr>\n",
       "      <th>646451</th>\n",
       "      <td>6495</td>\n",
       "      <td>19643</td>\n",
       "      <td>5</td>\n",
       "    </tr>\n",
       "    <tr>\n",
       "      <th>614851</th>\n",
       "      <td>6175</td>\n",
       "      <td>8563</td>\n",
       "      <td>4</td>\n",
       "    </tr>\n",
       "    <tr>\n",
       "      <th>974393</th>\n",
       "      <td>9920</td>\n",
       "      <td>52110</td>\n",
       "      <td>3</td>\n",
       "    </tr>\n",
       "    <tr>\n",
       "      <th>21471</th>\n",
       "      <td>215</td>\n",
       "      <td>33864</td>\n",
       "      <td>5</td>\n",
       "    </tr>\n",
       "    <tr>\n",
       "      <th>272540</th>\n",
       "      <td>2728</td>\n",
       "      <td>16587</td>\n",
       "      <td>3</td>\n",
       "    </tr>\n",
       "  </tbody>\n",
       "</table>\n",
       "</div>"
      ],
      "text/plain": [
       "        book_id  user_id  rating\n",
       "646451     6495    19643       5\n",
       "614851     6175     8563       4\n",
       "974393     9920    52110       3\n",
       "21471       215    33864       5\n",
       "272540     2728    16587       3"
      ]
     },
     "execution_count": 8,
     "metadata": {},
     "output_type": "execute_result"
    }
   ],
   "source": [
    "test.head()"
   ]
  },
  {
   "cell_type": "code",
   "execution_count": 9,
   "metadata": {
    "colab": {
     "base_uri": "https://localhost:8080/",
     "height": 34
    },
    "colab_type": "code",
    "executionInfo": {
     "elapsed": 940,
     "status": "ok",
     "timestamp": 1580704004716,
     "user": {
      "displayName": "Kiagus Arief Adriansyah",
      "photoUrl": "https://lh3.googleusercontent.com/a-/AAuE7mDgNof4X_p29AVNSbm_npSTtGqp1GtqPb5UuwPF4Q=s64",
      "userId": "15196441721339582267"
     },
     "user_tz": -420
    },
    "id": "Lfn6UuBPQTM0",
    "outputId": "a02c84e9-83b6-4ec9-9ba3-e0d94e35ec39"
   },
   "outputs": [
    {
     "data": {
      "text/plain": [
       "53424"
      ]
     },
     "execution_count": 9,
     "metadata": {},
     "output_type": "execute_result"
    }
   ],
   "source": [
    "n_users = len(dataset.user_id.unique())\n",
    "n_users"
   ]
  },
  {
   "cell_type": "code",
   "execution_count": 10,
   "metadata": {
    "colab": {
     "base_uri": "https://localhost:8080/",
     "height": 34
    },
    "colab_type": "code",
    "executionInfo": {
     "elapsed": 1549,
     "status": "ok",
     "timestamp": 1580704008666,
     "user": {
      "displayName": "Kiagus Arief Adriansyah",
      "photoUrl": "https://lh3.googleusercontent.com/a-/AAuE7mDgNof4X_p29AVNSbm_npSTtGqp1GtqPb5UuwPF4Q=s64",
      "userId": "15196441721339582267"
     },
     "user_tz": -420
    },
    "id": "wejVpBPEQTM3",
    "outputId": "674f59a4-23ec-4385-bc2a-83fd76450210"
   },
   "outputs": [
    {
     "data": {
      "text/plain": [
       "10000"
      ]
     },
     "execution_count": 10,
     "metadata": {},
     "output_type": "execute_result"
    }
   ],
   "source": [
    "n_books = len(dataset.book_id.unique())\n",
    "n_books"
   ]
  },
  {
   "cell_type": "markdown",
   "metadata": {
    "colab_type": "text",
    "id": "DpQDWmvnQTNJ"
   },
   "source": [
    "## Creating Neural Network\n",
    "Neural Networks proved there effectivness for almost every machine learning problem as of now and they also perform exceptionally well for recommendation systems."
   ]
  },
  {
   "cell_type": "code",
   "execution_count": 11,
   "metadata": {
    "colab": {},
    "colab_type": "code",
    "id": "s1CWMESgQTNK"
   },
   "outputs": [
    {
     "name": "stdout",
     "output_type": "stream",
     "text": [
      "Model: \"model\"\n",
      "__________________________________________________________________________________________________\n",
      "Layer (type)                    Output Shape         Param #     Connected to                     \n",
      "==================================================================================================\n",
      "Book-Input (InputLayer)         [(None, 1)]          0                                            \n",
      "__________________________________________________________________________________________________\n",
      "User-Input (InputLayer)         [(None, 1)]          0                                            \n",
      "__________________________________________________________________________________________________\n",
      "Book-Embedding (Embedding)      (None, 1, 50)        500050      Book-Input[0][0]                 \n",
      "__________________________________________________________________________________________________\n",
      "User-Embedding (Embedding)      (None, 1, 50)        2671250     User-Input[0][0]                 \n",
      "__________________________________________________________________________________________________\n",
      "multiply (Multiply)             (None, 1, 50)        0           Book-Embedding[0][0]             \n",
      "                                                                 User-Embedding[0][0]             \n",
      "__________________________________________________________________________________________________\n",
      "dropout (Dropout)               (None, 1, 50)        0           multiply[0][0]                   \n",
      "__________________________________________________________________________________________________\n",
      "User-Bias (Embedding)           (None, 1, 1)         53425       User-Input[0][0]                 \n",
      "__________________________________________________________________________________________________\n",
      "Book-Bias (Embedding)           (None, 1, 1)         10001       Book-Input[0][0]                 \n",
      "__________________________________________________________________________________________________\n",
      "concatenate (Concatenate)       (None, 1, 52)        0           dropout[0][0]                    \n",
      "                                                                 User-Bias[0][0]                  \n",
      "                                                                 Book-Bias[0][0]                  \n",
      "__________________________________________________________________________________________________\n",
      "flatten (Flatten)               (None, 52)           0           concatenate[0][0]                \n",
      "__________________________________________________________________________________________________\n",
      "Dense1 (Dense)                  (None, 50)           2650        flatten[0][0]                    \n",
      "__________________________________________________________________________________________________\n",
      "dropout_1 (Dropout)             (None, 50)           0           Dense1[0][0]                     \n",
      "__________________________________________________________________________________________________\n",
      "Dense2 (Dense)                  (None, 20)           1020        dropout_1[0][0]                  \n",
      "__________________________________________________________________________________________________\n",
      "dropout_2 (Dropout)             (None, 20)           0           Dense2[0][0]                     \n",
      "__________________________________________________________________________________________________\n",
      "Activation (Dense)              (None, 1)            21          dropout_2[0][0]                  \n",
      "==================================================================================================\n",
      "Total params: 3,238,417\n",
      "Trainable params: 3,238,417\n",
      "Non-trainable params: 0\n",
      "__________________________________________________________________________________________________\n"
     ]
    }
   ],
   "source": [
    "# define embeddingg size (similar for both users and books)\n",
    "dim_embedddings = 50\n",
    "bias = 1\n",
    "\n",
    "# creating book embedding path\n",
    "book_input = Input(shape=[1], name=\"Book-Input\")\n",
    "book_embedding = Embedding(n_books + 1, dim_embedddings, name=\"Book-Embedding\")(book_input)\n",
    "book_bias = Embedding(n_books + 1, bias, name=\"Book-Bias\")(book_input)\n",
    "\n",
    "# creating user embedding path\n",
    "user_input = Input(shape=[1], name=\"User-Input\")\n",
    "user_embedding = Embedding(n_users + 1, dim_embedddings, name=\"User-Embedding\")(user_input)\n",
    "user_bias = Embedding(n_users + 1, bias, name=\"User-Bias\")(user_input)\n",
    "\n",
    "matrix_product = Multiply()([book_embedding, user_embedding])\n",
    "matrix_product = Dropout(0.2)(matrix_product)\n",
    "\n",
    "input_terms = Concatenate()([matrix_product, user_bias, book_bias])\n",
    "input_terms = Flatten()(input_terms)\n",
    "\n",
    "# add fully-connected-layers\n",
    "dense_1 = Dense(50, activation=\"relu\", name = \"Dense1\")(input_terms)\n",
    "dense_1 = Dropout(0.2)(dense_1)\n",
    "dense_2 = Dense(20, activation=\"relu\", name = \"Dense2\")(dense_1)\n",
    "dense_2 = Dropout(0.2)(dense_2)\n",
    "result = Dense(1, activation='relu', name='Activation')(dense_2)\n",
    "\n",
    "# define model with 2 inputs and 1 output\n",
    "model_mf = Model(inputs=[user_input, book_input], outputs=result)\n",
    "\n",
    "# show model summary\n",
    "model_mf.summary()"
   ]
  },
  {
   "cell_type": "code",
   "execution_count": 13,
   "metadata": {},
   "outputs": [
    {
     "name": "stdout",
     "output_type": "stream",
     "text": [
      "Num GPUs Available:  0\n",
      "['/device:CPU:0', '/device:XLA_CPU:0']\n",
      "Train on 781476 samples, validate on 3928 samples\n",
      "Epoch 1/5\n",
      "781476/781476 [==============================] - 75s 96us/sample - loss: 1.3668 - mean_absolute_error: 0.9043 - val_loss: 0.7320 - val_mean_absolute_error: 0.6728\n",
      "Epoch 2/5\n",
      "781476/781476 [==============================] - 77s 99us/sample - loss: 0.7232 - mean_absolute_error: 0.6693 - val_loss: 0.7121 - val_mean_absolute_error: 0.6535\n",
      "Epoch 3/5\n",
      "781476/781476 [==============================] - 75s 97us/sample - loss: 0.4402 - mean_absolute_error: 0.5074 - val_loss: 0.7714 - val_mean_absolute_error: 0.6747\n",
      "Epoch 4/5\n",
      "781476/781476 [==============================] - 80s 103us/sample - loss: 0.3062 - mean_absolute_error: 0.4151 - val_loss: 0.7897 - val_mean_absolute_error: 0.6771\n",
      "Epoch 5/5\n",
      "781476/781476 [==============================] - 78s 100us/sample - loss: 0.2528 - mean_absolute_error: 0.3715 - val_loss: 0.8029 - val_mean_absolute_error: 0.6780\n"
     ]
    },
    {
     "data": {
      "image/png": "[encoded data removed]",
      "text/plain": [
       "<Figure size 432x288 with 1 Axes>"
      ]
     },
     "metadata": {
      "needs_background": "light"
     },
     "output_type": "display_data"
    }
   ],
   "source": [
    "import tensorflow as tf\n",
    "from tensorflow.python.client import device_lib\n",
    "def get_available_devices():\n",
    "    local_device_protos = device_lib.list_local_devices()\n",
    "    return [x.name for x in local_device_protos]\n",
    "\n",
    "print(\"Num GPUs Available: \", len(tf.config.experimental.list_physical_devices('GPU')))\n",
    "print(get_available_devices())\n",
    "\n",
    "from tensorflow.keras.models import load_model\n",
    "training = True\n",
    "\n",
    "if not training and os.path.exists('regression_model_mf.h5'):\n",
    "    model_mf = load_model('regression_model_mf.h5')\n",
    "else:\n",
    "    with tf.device('/device:CPU:0'):\n",
    "        # specify learning rate (or use the default)\n",
    "        opt_adam = Adam(lr = 0.002)\n",
    "\n",
    "        # compile model\n",
    "        model_mf.compile(optimizer = opt_adam, loss = ['mse'], metrics = ['mean_absolute_error'])\n",
    "\n",
    "        # fit model\n",
    "        history_mf = model_mf.fit([train.user_id, train.book_id],\n",
    "                                  train.rating,\n",
    "                                  batch_size = 256,\n",
    "                                  validation_split = 0.005,\n",
    "                                  epochs = 5,\n",
    "                                  verbose = 1)\n",
    "        model_mf.save('regression_model_mf.h5')\n",
    "        plt.plot(history_mf.history['loss'])\n",
    "        plt.xlabel(\"Epochs\")\n",
    "        plt.ylabel(\"Training Error\")"
   ]
  },
  {
   "cell_type": "code",
   "execution_count": 14,
   "metadata": {
    "colab": {
     "base_uri": "https://localhost:8080/",
     "height": 51
    },
    "colab_type": "code",
    "executionInfo": {
     "elapsed": 5080,
     "status": "ok",
     "timestamp": 1580705525899,
     "user": {
      "displayName": "Kiagus Arief Adriansyah",
      "photoUrl": "https://lh3.googleusercontent.com/a-/AAuE7mDgNof4X_p29AVNSbm_npSTtGqp1GtqPb5UuwPF4Q=s64",
      "userId": "15196441721339582267"
     },
     "user_tz": -420
    },
    "id": "kBR59LmqQTNY",
    "outputId": "ccaf9e25-9966-4c33-83d2-5936d5d357c9"
   },
   "outputs": [
    {
     "name": "stdout",
     "output_type": "stream",
     "text": [
      "196352/196352 [==============================] - 3s 18us/sample - loss: 0.8167 - mean_absolute_error: 0.6858\n",
      "[0.8166563535228157, 0.685829]\n"
     ]
    }
   ],
   "source": [
    "with tf.device('/device:CPU:0'):\n",
    "    print(model_mf.evaluate([test.user_id, test.book_id], test.rating))"
   ]
  },
  {
   "cell_type": "code",
   "execution_count": 33,
   "metadata": {
    "colab": {
     "base_uri": "https://localhost:8080/",
     "height": 204
    },
    "colab_type": "code",
    "executionInfo": {
     "elapsed": 948,
     "status": "ok",
     "timestamp": 1580705621680,
     "user": {
      "displayName": "Kiagus Arief Adriansyah",
      "photoUrl": "https://lh3.googleusercontent.com/a-/AAuE7mDgNof4X_p29AVNSbm_npSTtGqp1GtqPb5UuwPF4Q=s64",
      "userId": "15196441721339582267"
     },
     "user_tz": -420
    },
    "id": "wr8iYyBfQTNc",
    "outputId": "97f6dd14-55e1-4533-ffdf-d920c04b69c8"
   },
   "outputs": [
    {
     "name": "stdout",
     "output_type": "stream",
     "text": [
      "[4.907997] 5\n",
      "[3.722946] 4\n",
      "[4.2238035] 3\n",
      "[3.964994] 5\n",
      "[3.7542875] 3\n",
      "[3.9106045] 3\n",
      "[3.5167894] 3\n",
      "[4.347043] 4\n",
      "[4.151887] 3\n",
      "[3.702667] 5\n"
     ]
    },
    {
     "data": {
      "text/plain": [
       "[None, None, None, None, None, None, None, None, None, None]"
      ]
     },
     "execution_count": 33,
     "metadata": {},
     "output_type": "execute_result"
    }
   ],
   "source": [
    "predictions = model_mf.predict([test.user_id.head(10), test.book_id.head(10)])\n",
    "\n",
    "[print(predictions[i], test.rating.iloc[i]) for i in range(0,10)]"
   ]
  },
  {
   "cell_type": "markdown",
   "metadata": {
    "colab_type": "text",
    "id": "-1AII8emQTNf"
   },
   "source": [
    "## Visualizing Embeddings\n",
    "Embeddings are weights that are learned to represent some specific variable like books and user in our case and therefore we can not only use them to get good results on our problem but also to extract inside about our data."
   ]
  },
  {
   "cell_type": "code",
   "execution_count": null,
   "metadata": {
    "colab": {},
    "colab_type": "code",
    "id": "4-Xtv1LkQTNg"
   },
   "outputs": [],
   "source": [
    "# Extract embeddings\n",
    "book_em = model.get_layer('Book-Embedding')\n",
    "book_em_weights = book_em.get_weights()[0]"
   ]
  },
  {
   "cell_type": "code",
   "execution_count": null,
   "metadata": {
    "colab": {
     "base_uri": "https://localhost:8080/",
     "height": 187
    },
    "colab_type": "code",
    "executionInfo": {
     "elapsed": 988,
     "status": "ok",
     "timestamp": 1580705628969,
     "user": {
      "displayName": "Kiagus Arief Adriansyah",
      "photoUrl": "https://lh3.googleusercontent.com/a-/AAuE7mDgNof4X_p29AVNSbm_npSTtGqp1GtqPb5UuwPF4Q=s64",
      "userId": "15196441721339582267"
     },
     "user_tz": -420
    },
    "id": "un2vvN8jQTNj",
    "outputId": "1b13517e-c2ff-478d-8a9c-fcc312c5c31e"
   },
   "outputs": [],
   "source": [
    "book_em_weights[:5]"
   ]
  },
  {
   "cell_type": "code",
   "execution_count": null,
   "metadata": {
    "colab": {
     "base_uri": "https://localhost:8080/",
     "height": 282
    },
    "colab_type": "code",
    "executionInfo": {
     "elapsed": 1555,
     "status": "ok",
     "timestamp": 1580705633182,
     "user": {
      "displayName": "Kiagus Arief Adriansyah",
      "photoUrl": "https://lh3.googleusercontent.com/a-/AAuE7mDgNof4X_p29AVNSbm_npSTtGqp1GtqPb5UuwPF4Q=s64",
      "userId": "15196441721339582267"
     },
     "user_tz": -420
    },
    "id": "Arfu8KZEQTNm",
    "outputId": "f528ba1b-7bf6-4889-925f-f40a96dc9bbf"
   },
   "outputs": [],
   "source": [
    "from sklearn.decomposition import PCA\n",
    "import seaborn as sns\n",
    "\n",
    "pca = PCA(n_components=2)\n",
    "pca_result = pca.fit_transform(book_em_weights)\n",
    "sns.scatterplot(x=pca_result[:,0], y=pca_result[:,1])"
   ]
  },
  {
   "cell_type": "code",
   "execution_count": null,
   "metadata": {
    "colab": {
     "base_uri": "https://localhost:8080/",
     "height": 34
    },
    "colab_type": "code",
    "executionInfo": {
     "elapsed": 1033,
     "status": "ok",
     "timestamp": 1580705638205,
     "user": {
      "displayName": "Kiagus Arief Adriansyah",
      "photoUrl": "https://lh3.googleusercontent.com/a-/AAuE7mDgNof4X_p29AVNSbm_npSTtGqp1GtqPb5UuwPF4Q=s64",
      "userId": "15196441721339582267"
     },
     "user_tz": -420
    },
    "id": "zU1x7b8EQTNp",
    "outputId": "6f6eeaa8-2b67-48b3-886e-a2cb2d53c730"
   },
   "outputs": [],
   "source": [
    "book_em_weights = book_em_weights / np.linalg.norm(book_em_weights, axis = 1).reshape((-1, 1))\n",
    "book_em_weights[0][:10]\n",
    "np.sum(np.square(book_em_weights[0]))"
   ]
  },
  {
   "cell_type": "code",
   "execution_count": null,
   "metadata": {
    "colab": {
     "base_uri": "https://localhost:8080/",
     "height": 282
    },
    "colab_type": "code",
    "executionInfo": {
     "elapsed": 1155,
     "status": "ok",
     "timestamp": 1580705642331,
     "user": {
      "displayName": "Kiagus Arief Adriansyah",
      "photoUrl": "https://lh3.googleusercontent.com/a-/AAuE7mDgNof4X_p29AVNSbm_npSTtGqp1GtqPb5UuwPF4Q=s64",
      "userId": "15196441721339582267"
     },
     "user_tz": -420
    },
    "id": "WZ25lLXSQTNs",
    "outputId": "2d24b4bb-e950-46df-f85f-bc8ed006343f"
   },
   "outputs": [],
   "source": [
    "pca = PCA(n_components=2)\n",
    "pca_result = pca.fit_transform(book_em_weights)\n",
    "sns.scatterplot(x=pca_result[:,0], y=pca_result[:,1])"
   ]
  },
  {
   "cell_type": "code",
   "execution_count": null,
   "metadata": {
    "colab": {
     "base_uri": "https://localhost:8080/",
     "height": 306
    },
    "colab_type": "code",
    "executionInfo": {
     "elapsed": 35565,
     "status": "ok",
     "timestamp": 1580705680923,
     "user": {
      "displayName": "Kiagus Arief Adriansyah",
      "photoUrl": "https://lh3.googleusercontent.com/a-/AAuE7mDgNof4X_p29AVNSbm_npSTtGqp1GtqPb5UuwPF4Q=s64",
      "userId": "15196441721339582267"
     },
     "user_tz": -420
    },
    "id": "ICOlEhpSQTNu",
    "outputId": "1f6a466a-4c33-491f-d752-5399cc72c2a9"
   },
   "outputs": [],
   "source": [
    "from sklearn.manifold import TSNE\n",
    "\n",
    "tsne = TSNE(n_components=2, verbose=1, perplexity=40, n_iter=300)\n",
    "tnse_results = tsne.fit_transform(book_em_weights)"
   ]
  },
  {
   "cell_type": "code",
   "execution_count": null,
   "metadata": {
    "colab": {
     "base_uri": "https://localhost:8080/",
     "height": 282
    },
    "colab_type": "code",
    "executionInfo": {
     "elapsed": 29612,
     "status": "ok",
     "timestamp": 1580705680924,
     "user": {
      "displayName": "Kiagus Arief Adriansyah",
      "photoUrl": "https://lh3.googleusercontent.com/a-/AAuE7mDgNof4X_p29AVNSbm_npSTtGqp1GtqPb5UuwPF4Q=s64",
      "userId": "15196441721339582267"
     },
     "user_tz": -420
    },
    "id": "-xF5vo18QTNx",
    "outputId": "97bce61c-d810-48df-94fb-fc80dd686b00"
   },
   "outputs": [],
   "source": [
    "sns.scatterplot(x=tnse_results[:,0], y=tnse_results[:,1])"
   ]
  },
  {
   "cell_type": "markdown",
   "metadata": {
    "colab_type": "text",
    "id": "oX0xIsZuQTN1"
   },
   "source": [
    "## Making Recommendations"
   ]
  },
  {
   "cell_type": "code",
   "execution_count": null,
   "metadata": {
    "colab": {
     "base_uri": "https://localhost:8080/",
     "height": 34
    },
    "colab_type": "code",
    "executionInfo": {
     "elapsed": 1497,
     "status": "ok",
     "timestamp": 1580706805796,
     "user": {
      "displayName": "Kiagus Arief Adriansyah",
      "photoUrl": "https://lh3.googleusercontent.com/a-/AAuE7mDgNof4X_p29AVNSbm_npSTtGqp1GtqPb5UuwPF4Q=s64",
      "userId": "15196441721339582267"
     },
     "user_tz": -420
    },
    "id": "mye77esaQTN1",
    "outputId": "e79dba14-5766-43e4-ca19-80f67aac568d"
   },
   "outputs": [],
   "source": [
    "# Creating dataset for making recommendations for the first user\n",
    "book_data = np.array(list(set(dataset.book_id)))\n",
    "book_data[:5]"
   ]
  },
  {
   "cell_type": "code",
   "execution_count": null,
   "metadata": {
    "colab": {
     "base_uri": "https://localhost:8080/",
     "height": 34
    },
    "colab_type": "code",
    "executionInfo": {
     "elapsed": 1227,
     "status": "ok",
     "timestamp": 1580706809273,
     "user": {
      "displayName": "Kiagus Arief Adriansyah",
      "photoUrl": "https://lh3.googleusercontent.com/a-/AAuE7mDgNof4X_p29AVNSbm_npSTtGqp1GtqPb5UuwPF4Q=s64",
      "userId": "15196441721339582267"
     },
     "user_tz": -420
    },
    "id": "A9pqjTJfQTN3",
    "outputId": "b8d1052f-eed8-46de-8855-229d6f559a6e"
   },
   "outputs": [],
   "source": [
    "user = np.array([1 for i in range(len(book_data))])\n",
    "user[:5]"
   ]
  },
  {
   "cell_type": "code",
   "execution_count": null,
   "metadata": {
    "colab": {
     "base_uri": "https://localhost:8080/",
     "height": 34
    },
    "colab_type": "code",
    "executionInfo": {
     "elapsed": 1875,
     "status": "ok",
     "timestamp": 1580706813345,
     "user": {
      "displayName": "Kiagus Arief Adriansyah",
      "photoUrl": "https://lh3.googleusercontent.com/a-/AAuE7mDgNof4X_p29AVNSbm_npSTtGqp1GtqPb5UuwPF4Q=s64",
      "userId": "15196441721339582267"
     },
     "user_tz": -420
    },
    "id": "3BJfXbHEQTN6",
    "outputId": "60d6a86a-32e3-4a4b-f78e-ba54543d23b6"
   },
   "outputs": [],
   "source": [
    "predictions = model.predict([user, book_data])\n",
    "\n",
    "predictions = np.array([a[0] for a in predictions])\n",
    "\n",
    "recommended_book_ids = (-predictions).argsort()[:5]\n",
    "\n",
    "recommended_book_ids"
   ]
  },
  {
   "cell_type": "code",
   "execution_count": null,
   "metadata": {
    "colab": {
     "base_uri": "https://localhost:8080/",
     "height": 51
    },
    "colab_type": "code",
    "executionInfo": {
     "elapsed": 1167,
     "status": "ok",
     "timestamp": 1580706818305,
     "user": {
      "displayName": "Kiagus Arief Adriansyah",
      "photoUrl": "https://lh3.googleusercontent.com/a-/AAuE7mDgNof4X_p29AVNSbm_npSTtGqp1GtqPb5UuwPF4Q=s64",
      "userId": "15196441721339582267"
     },
     "user_tz": -420
    },
    "id": "M_vSkOdiQTN9",
    "outputId": "15dd94c6-225e-4684-b93a-2507d92e2d67"
   },
   "outputs": [],
   "source": [
    "# print predicted scores\n",
    "predictions[recommended_book_ids]"
   ]
  },
  {
   "cell_type": "code",
   "execution_count": null,
   "metadata": {
    "colab": {
     "base_uri": "https://localhost:8080/",
     "height": 428
    },
    "colab_type": "code",
    "executionInfo": {
     "elapsed": 1162,
     "status": "ok",
     "timestamp": 1580707199998,
     "user": {
      "displayName": "Kiagus Arief Adriansyah",
      "photoUrl": "https://lh3.googleusercontent.com/a-/AAuE7mDgNof4X_p29AVNSbm_npSTtGqp1GtqPb5UuwPF4Q=s64",
      "userId": "15196441721339582267"
     },
     "user_tz": -420
    },
    "id": "-95pKmnUQTOA",
    "outputId": "2cde5d1e-d766-43ab-9e5a-03af5a60d6e6"
   },
   "outputs": [],
   "source": [
    "books = pd.read_csv('books.csv')\n",
    "books.head()"
   ]
  },
  {
   "cell_type": "code",
   "execution_count": null,
   "metadata": {
    "colab": {
     "base_uri": "https://localhost:8080/",
     "height": 377
    },
    "colab_type": "code",
    "executionInfo": {
     "elapsed": 1260,
     "status": "ok",
     "timestamp": 1580707204691,
     "user": {
      "displayName": "Kiagus Arief Adriansyah",
      "photoUrl": "https://lh3.googleusercontent.com/a-/AAuE7mDgNof4X_p29AVNSbm_npSTtGqp1GtqPb5UuwPF4Q=s64",
      "userId": "15196441721339582267"
     },
     "user_tz": -420
    },
    "id": "4PxeJqHaQTOE",
    "outputId": "e4ff4c97-20c1-4e99-a07b-1e66423a07cb"
   },
   "outputs": [],
   "source": [
    "books[books['id'].isin(recommended_book_ids)]"
   ]
  },
  {
   "cell_type": "code",
   "execution_count": null,
   "metadata": {},
   "outputs": [],
   "source": []
  }
 ],
 "metadata": {
  "colab": {
   "collapsed_sections": [],
   "name": "Recommendation System.ipynb",
   "provenance": [
    {
     "file_id": "https://github.com/TannerGilbert/Tutorials/blob/master/Recommendation%20System/Recommendation%20System.ipynb",
     "timestamp": 1580703722029
    }
   ]
  },
  "kernelspec": {
   "display_name": "Python 3",
   "language": "python",
   "name": "python3"
  },
  "language_info": {
   "codemirror_mode": {
    "name": "ipython",
    "version": 3
   },
   "file_extension": ".py",
   "mimetype": "text/x-python",
   "name": "python",
   "nbconvert_exporter": "python",
   "pygments_lexer": "ipython3",
   "version": "3.7.6"
  }
 },
 "nbformat": 4,
 "nbformat_minor": 4
}
