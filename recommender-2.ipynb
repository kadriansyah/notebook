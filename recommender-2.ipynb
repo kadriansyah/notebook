{
 "cells": [
  {
   "cell_type": "markdown",
   "metadata": {},
   "source": [
    "### source: https://www.onceupondata.com/2019/02/10/nn-collaborative-filtering/"
   ]
  },
  {
   "cell_type": "code",
   "execution_count": null,
   "metadata": {},
   "outputs": [],
   "source": [
    "import sys\n",
    "!{sys.executable} -m pip install numpy pandas matplotlib sklearn seaborn"
   ]
  },
  {
   "cell_type": "code",
   "execution_count": 1,
   "metadata": {
    "colab": {
     "base_uri": "https://localhost:8080/",
     "height": 88
    },
    "colab_type": "code",
    "executionInfo": {
     "elapsed": 959,
     "status": "ok",
     "timestamp": 1580703940216,
     "user": {
      "displayName": "Kiagus Arief Adriansyah",
      "photoUrl": "https://lh3.googleusercontent.com/a-/AAuE7mDgNof4X_p29AVNSbm_npSTtGqp1GtqPb5UuwPF4Q=s64",
      "userId": "15196441721339582267"
     },
     "user_tz": -420
    },
    "id": "N1aCcKLFQTMW",
    "outputId": "d4d32871-1f71-4ab8-bf31-b140dbb70991"
   },
   "outputs": [],
   "source": [
    "from __future__ import absolute_import, division, print_function, unicode_literals\n",
    "\n",
    "import numpy as np\n",
    "import pandas as pd\n",
    "import matplotlib.pyplot as plt\n",
    "import os\n",
    "import warnings\n",
    "\n",
    "from tensorflow.keras.layers import Input, Embedding, Flatten, Dot, Dense, Concatenate, Dropout, Multiply\n",
    "from tensorflow.keras.models import Model\n",
    "from tensorflow.keras.optimizers import Adam\n",
    "\n",
    "# import tensorflow as tf\n",
    "# tf.debugging.set_log_device_placement(True)\n",
    "\n",
    "warnings.filterwarnings('ignore')\n",
    "%matplotlib inline"
   ]
  },
  {
   "cell_type": "markdown",
   "metadata": {
    "colab_type": "text",
    "id": "PkdjhXwdQTMd"
   },
   "source": [
    "## Loading in data"
   ]
  },
  {
   "cell_type": "code",
   "execution_count": 2,
   "metadata": {
    "colab": {},
    "colab_type": "code",
    "id": "_Rk-GzjyQTMe"
   },
   "outputs": [],
   "source": [
    "dataset = pd.read_csv('ratings.csv')"
   ]
  },
  {
   "cell_type": "code",
   "execution_count": 3,
   "metadata": {
    "colab": {
     "base_uri": "https://localhost:8080/",
     "height": 204
    },
    "colab_type": "code",
    "executionInfo": {
     "elapsed": 1060,
     "status": "ok",
     "timestamp": 1580703968325,
     "user": {
      "displayName": "Kiagus Arief Adriansyah",
      "photoUrl": "https://lh3.googleusercontent.com/a-/AAuE7mDgNof4X_p29AVNSbm_npSTtGqp1GtqPb5UuwPF4Q=s64",
      "userId": "15196441721339582267"
     },
     "user_tz": -420
    },
    "id": "Kq9kmUUJQTMi",
    "outputId": "5335716a-9e34-44f0-f85d-740266777c99"
   },
   "outputs": [
    {
     "data": {
      "text/html": [
       "<div>\n",
       "<style scoped>\n",
       "    .dataframe tbody tr th:only-of-type {\n",
       "        vertical-align: middle;\n",
       "    }\n",
       "\n",
       "    .dataframe tbody tr th {\n",
       "        vertical-align: top;\n",
       "    }\n",
       "\n",
       "    .dataframe thead th {\n",
       "        text-align: right;\n",
       "    }\n",
       "</style>\n",
       "<table border=\"1\" class=\"dataframe\">\n",
       "  <thead>\n",
       "    <tr style=\"text-align: right;\">\n",
       "      <th></th>\n",
       "      <th>book_id</th>\n",
       "      <th>user_id</th>\n",
       "      <th>rating</th>\n",
       "    </tr>\n",
       "  </thead>\n",
       "  <tbody>\n",
       "    <tr>\n",
       "      <th>0</th>\n",
       "      <td>1</td>\n",
       "      <td>314</td>\n",
       "      <td>5</td>\n",
       "    </tr>\n",
       "    <tr>\n",
       "      <th>1</th>\n",
       "      <td>1</td>\n",
       "      <td>439</td>\n",
       "      <td>3</td>\n",
       "    </tr>\n",
       "    <tr>\n",
       "      <th>2</th>\n",
       "      <td>1</td>\n",
       "      <td>588</td>\n",
       "      <td>5</td>\n",
       "    </tr>\n",
       "    <tr>\n",
       "      <th>3</th>\n",
       "      <td>1</td>\n",
       "      <td>1169</td>\n",
       "      <td>4</td>\n",
       "    </tr>\n",
       "    <tr>\n",
       "      <th>4</th>\n",
       "      <td>1</td>\n",
       "      <td>1185</td>\n",
       "      <td>4</td>\n",
       "    </tr>\n",
       "  </tbody>\n",
       "</table>\n",
       "</div>"
      ],
      "text/plain": [
       "   book_id  user_id  rating\n",
       "0        1      314       5\n",
       "1        1      439       3\n",
       "2        1      588       5\n",
       "3        1     1169       4\n",
       "4        1     1185       4"
      ]
     },
     "execution_count": 3,
     "metadata": {},
     "output_type": "execute_result"
    }
   ],
   "source": [
    "dataset.head()"
   ]
  },
  {
   "cell_type": "code",
   "execution_count": 4,
   "metadata": {
    "colab": {
     "base_uri": "https://localhost:8080/",
     "height": 34
    },
    "colab_type": "code",
    "executionInfo": {
     "elapsed": 1191,
     "status": "ok",
     "timestamp": 1580703980173,
     "user": {
      "displayName": "Kiagus Arief Adriansyah",
      "photoUrl": "https://lh3.googleusercontent.com/a-/AAuE7mDgNof4X_p29AVNSbm_npSTtGqp1GtqPb5UuwPF4Q=s64",
      "userId": "15196441721339582267"
     },
     "user_tz": -420
    },
    "id": "hlCLsnjpQTMm",
    "outputId": "093bdf20-4045-4813-a570-14c00919b70e"
   },
   "outputs": [
    {
     "data": {
      "text/plain": [
       "(981756, 3)"
      ]
     },
     "execution_count": 4,
     "metadata": {},
     "output_type": "execute_result"
    }
   ],
   "source": [
    "dataset.shape"
   ]
  },
  {
   "cell_type": "code",
   "execution_count": 5,
   "metadata": {
    "colab": {},
    "colab_type": "code",
    "id": "hqdfscRgQTMq"
   },
   "outputs": [],
   "source": [
    "from sklearn.model_selection import train_test_split\n",
    "train, test = train_test_split(dataset, test_size=0.2, random_state=42)"
   ]
  },
  {
   "cell_type": "code",
   "execution_count": 6,
   "metadata": {
    "colab": {
     "base_uri": "https://localhost:8080/",
     "height": 204
    },
    "colab_type": "code",
    "executionInfo": {
     "elapsed": 934,
     "status": "ok",
     "timestamp": 1580703993384,
     "user": {
      "displayName": "Kiagus Arief Adriansyah",
      "photoUrl": "https://lh3.googleusercontent.com/a-/AAuE7mDgNof4X_p29AVNSbm_npSTtGqp1GtqPb5UuwPF4Q=s64",
      "userId": "15196441721339582267"
     },
     "user_tz": -420
    },
    "id": "ChHnhXp4QTMu",
    "outputId": "88d9cb77-4d36-4e7a-a851-8b34601fd071"
   },
   "outputs": [
    {
     "data": {
      "text/html": [
       "<div>\n",
       "<style scoped>\n",
       "    .dataframe tbody tr th:only-of-type {\n",
       "        vertical-align: middle;\n",
       "    }\n",
       "\n",
       "    .dataframe tbody tr th {\n",
       "        vertical-align: top;\n",
       "    }\n",
       "\n",
       "    .dataframe thead th {\n",
       "        text-align: right;\n",
       "    }\n",
       "</style>\n",
       "<table border=\"1\" class=\"dataframe\">\n",
       "  <thead>\n",
       "    <tr style=\"text-align: right;\">\n",
       "      <th></th>\n",
       "      <th>book_id</th>\n",
       "      <th>user_id</th>\n",
       "      <th>rating</th>\n",
       "    </tr>\n",
       "  </thead>\n",
       "  <tbody>\n",
       "    <tr>\n",
       "      <th>341848</th>\n",
       "      <td>3423</td>\n",
       "      <td>4608</td>\n",
       "      <td>2</td>\n",
       "    </tr>\n",
       "    <tr>\n",
       "      <th>964349</th>\n",
       "      <td>9811</td>\n",
       "      <td>36373</td>\n",
       "      <td>5</td>\n",
       "    </tr>\n",
       "    <tr>\n",
       "      <th>645459</th>\n",
       "      <td>6485</td>\n",
       "      <td>2957</td>\n",
       "      <td>4</td>\n",
       "    </tr>\n",
       "    <tr>\n",
       "      <th>74960</th>\n",
       "      <td>750</td>\n",
       "      <td>42400</td>\n",
       "      <td>3</td>\n",
       "    </tr>\n",
       "    <tr>\n",
       "      <th>358670</th>\n",
       "      <td>3591</td>\n",
       "      <td>36886</td>\n",
       "      <td>5</td>\n",
       "    </tr>\n",
       "  </tbody>\n",
       "</table>\n",
       "</div>"
      ],
      "text/plain": [
       "        book_id  user_id  rating\n",
       "341848     3423     4608       2\n",
       "964349     9811    36373       5\n",
       "645459     6485     2957       4\n",
       "74960       750    42400       3\n",
       "358670     3591    36886       5"
      ]
     },
     "execution_count": 6,
     "metadata": {},
     "output_type": "execute_result"
    }
   ],
   "source": [
    "train.head()"
   ]
  },
  {
   "cell_type": "code",
   "execution_count": 7,
   "metadata": {
    "colab": {
     "base_uri": "https://localhost:8080/",
     "height": 204
    },
    "colab_type": "code",
    "executionInfo": {
     "elapsed": 919,
     "status": "ok",
     "timestamp": 1580703999948,
     "user": {
      "displayName": "Kiagus Arief Adriansyah",
      "photoUrl": "https://lh3.googleusercontent.com/a-/AAuE7mDgNof4X_p29AVNSbm_npSTtGqp1GtqPb5UuwPF4Q=s64",
      "userId": "15196441721339582267"
     },
     "user_tz": -420
    },
    "id": "PtoIDSItQTMx",
    "outputId": "4ca07121-1107-4d88-97fc-c740a69fa33b"
   },
   "outputs": [
    {
     "data": {
      "text/html": [
       "<div>\n",
       "<style scoped>\n",
       "    .dataframe tbody tr th:only-of-type {\n",
       "        vertical-align: middle;\n",
       "    }\n",
       "\n",
       "    .dataframe tbody tr th {\n",
       "        vertical-align: top;\n",
       "    }\n",
       "\n",
       "    .dataframe thead th {\n",
       "        text-align: right;\n",
       "    }\n",
       "</style>\n",
       "<table border=\"1\" class=\"dataframe\">\n",
       "  <thead>\n",
       "    <tr style=\"text-align: right;\">\n",
       "      <th></th>\n",
       "      <th>book_id</th>\n",
       "      <th>user_id</th>\n",
       "      <th>rating</th>\n",
       "    </tr>\n",
       "  </thead>\n",
       "  <tbody>\n",
       "    <tr>\n",
       "      <th>646451</th>\n",
       "      <td>6495</td>\n",
       "      <td>19643</td>\n",
       "      <td>5</td>\n",
       "    </tr>\n",
       "    <tr>\n",
       "      <th>614851</th>\n",
       "      <td>6175</td>\n",
       "      <td>8563</td>\n",
       "      <td>4</td>\n",
       "    </tr>\n",
       "    <tr>\n",
       "      <th>974393</th>\n",
       "      <td>9920</td>\n",
       "      <td>52110</td>\n",
       "      <td>3</td>\n",
       "    </tr>\n",
       "    <tr>\n",
       "      <th>21471</th>\n",
       "      <td>215</td>\n",
       "      <td>33864</td>\n",
       "      <td>5</td>\n",
       "    </tr>\n",
       "    <tr>\n",
       "      <th>272540</th>\n",
       "      <td>2728</td>\n",
       "      <td>16587</td>\n",
       "      <td>3</td>\n",
       "    </tr>\n",
       "  </tbody>\n",
       "</table>\n",
       "</div>"
      ],
      "text/plain": [
       "        book_id  user_id  rating\n",
       "646451     6495    19643       5\n",
       "614851     6175     8563       4\n",
       "974393     9920    52110       3\n",
       "21471       215    33864       5\n",
       "272540     2728    16587       3"
      ]
     },
     "execution_count": 7,
     "metadata": {},
     "output_type": "execute_result"
    }
   ],
   "source": [
    "test.head()"
   ]
  },
  {
   "cell_type": "code",
   "execution_count": 8,
   "metadata": {
    "colab": {
     "base_uri": "https://localhost:8080/",
     "height": 34
    },
    "colab_type": "code",
    "executionInfo": {
     "elapsed": 940,
     "status": "ok",
     "timestamp": 1580704004716,
     "user": {
      "displayName": "Kiagus Arief Adriansyah",
      "photoUrl": "https://lh3.googleusercontent.com/a-/AAuE7mDgNof4X_p29AVNSbm_npSTtGqp1GtqPb5UuwPF4Q=s64",
      "userId": "15196441721339582267"
     },
     "user_tz": -420
    },
    "id": "Lfn6UuBPQTM0",
    "outputId": "a02c84e9-83b6-4ec9-9ba3-e0d94e35ec39"
   },
   "outputs": [
    {
     "data": {
      "text/plain": [
       "53424"
      ]
     },
     "execution_count": 8,
     "metadata": {},
     "output_type": "execute_result"
    }
   ],
   "source": [
    "n_users = len(dataset.user_id.unique())\n",
    "n_users"
   ]
  },
  {
   "cell_type": "code",
   "execution_count": 9,
   "metadata": {
    "colab": {
     "base_uri": "https://localhost:8080/",
     "height": 34
    },
    "colab_type": "code",
    "executionInfo": {
     "elapsed": 1549,
     "status": "ok",
     "timestamp": 1580704008666,
     "user": {
      "displayName": "Kiagus Arief Adriansyah",
      "photoUrl": "https://lh3.googleusercontent.com/a-/AAuE7mDgNof4X_p29AVNSbm_npSTtGqp1GtqPb5UuwPF4Q=s64",
      "userId": "15196441721339582267"
     },
     "user_tz": -420
    },
    "id": "wejVpBPEQTM3",
    "outputId": "674f59a4-23ec-4385-bc2a-83fd76450210"
   },
   "outputs": [
    {
     "data": {
      "text/plain": [
       "10000"
      ]
     },
     "execution_count": 9,
     "metadata": {},
     "output_type": "execute_result"
    }
   ],
   "source": [
    "n_books = len(dataset.book_id.unique())\n",
    "n_books"
   ]
  },
  {
   "cell_type": "markdown",
   "metadata": {
    "colab_type": "text",
    "id": "DpQDWmvnQTNJ"
   },
   "source": [
    "## Creating Neural Network\n",
    "Neural Networks proved there effectivness for almost every machine learning problem as of now and they also perform exceptionally well for recommendation systems."
   ]
  },
  {
   "cell_type": "code",
   "execution_count": 10,
   "metadata": {
    "colab": {},
    "colab_type": "code",
    "id": "s1CWMESgQTNK"
   },
   "outputs": [
    {
     "name": "stdout",
     "output_type": "stream",
     "text": [
      "Model: \"model\"\n",
      "__________________________________________________________________________________________________\n",
      "Layer (type)                    Output Shape         Param #     Connected to                     \n",
      "==================================================================================================\n",
      "Book-Input (InputLayer)         [(None, 1)]          0                                            \n",
      "__________________________________________________________________________________________________\n",
      "User-Input (InputLayer)         [(None, 1)]          0                                            \n",
      "__________________________________________________________________________________________________\n",
      "Book-Embedding (Embedding)      (None, 1, 50)        500050      Book-Input[0][0]                 \n",
      "__________________________________________________________________________________________________\n",
      "User-Embedding (Embedding)      (None, 1, 50)        2671250     User-Input[0][0]                 \n",
      "__________________________________________________________________________________________________\n",
      "multiply (Multiply)             (None, 1, 50)        0           Book-Embedding[0][0]             \n",
      "                                                                 User-Embedding[0][0]             \n",
      "__________________________________________________________________________________________________\n",
      "dropout (Dropout)               (None, 1, 50)        0           multiply[0][0]                   \n",
      "__________________________________________________________________________________________________\n",
      "User-Bias (Embedding)           (None, 1, 1)         53425       User-Input[0][0]                 \n",
      "__________________________________________________________________________________________________\n",
      "Book-Bias (Embedding)           (None, 1, 1)         10001       Book-Input[0][0]                 \n",
      "__________________________________________________________________________________________________\n",
      "concatenate (Concatenate)       (None, 1, 52)        0           dropout[0][0]                    \n",
      "                                                                 User-Bias[0][0]                  \n",
      "                                                                 Book-Bias[0][0]                  \n",
      "__________________________________________________________________________________________________\n",
      "flatten (Flatten)               (None, 52)           0           concatenate[0][0]                \n",
      "__________________________________________________________________________________________________\n",
      "Dense1 (Dense)                  (None, 50)           2650        flatten[0][0]                    \n",
      "__________________________________________________________________________________________________\n",
      "dropout_1 (Dropout)             (None, 50)           0           Dense1[0][0]                     \n",
      "__________________________________________________________________________________________________\n",
      "Dense2 (Dense)                  (None, 20)           1020        dropout_1[0][0]                  \n",
      "__________________________________________________________________________________________________\n",
      "dropout_2 (Dropout)             (None, 20)           0           Dense2[0][0]                     \n",
      "__________________________________________________________________________________________________\n",
      "Activation (Dense)              (None, 1)            21          dropout_2[0][0]                  \n",
      "==================================================================================================\n",
      "Total params: 3,238,417\n",
      "Trainable params: 3,238,417\n",
      "Non-trainable params: 0\n",
      "__________________________________________________________________________________________________\n"
     ]
    }
   ],
   "source": [
    "# define embeddingg size (similar for both users and books)\n",
    "dim_embedddings = 50\n",
    "bias = 1\n",
    "\n",
    "# creating book embedding path\n",
    "book_input = Input(shape=[1], name=\"Book-Input\")\n",
    "book_embedding = Embedding(n_books + 1, dim_embedddings, name=\"Book-Embedding\")(book_input)\n",
    "book_bias = Embedding(n_books + 1, bias, name=\"Book-Bias\")(book_input)\n",
    "\n",
    "# creating user embedding path\n",
    "user_input = Input(shape=[1], name=\"User-Input\")\n",
    "user_embedding = Embedding(n_users + 1, dim_embedddings, name=\"User-Embedding\")(user_input)\n",
    "user_bias = Embedding(n_users + 1, bias, name=\"User-Bias\")(user_input)\n",
    "\n",
    "matrix_product = Multiply()([book_embedding, user_embedding])\n",
    "matrix_product = Dropout(0.2)(matrix_product)\n",
    "\n",
    "input_terms = Concatenate()([matrix_product, user_bias, book_bias])\n",
    "input_terms = Flatten()(input_terms)\n",
    "\n",
    "# add fully-connected-layers\n",
    "dense_1 = Dense(50, activation=\"relu\", name = \"Dense1\")(input_terms)\n",
    "dense_1 = Dropout(0.2)(dense_1)\n",
    "dense_2 = Dense(20, activation=\"relu\", name = \"Dense2\")(dense_1)\n",
    "dense_2 = Dropout(0.2)(dense_2)\n",
    "result = Dense(1, activation='relu', name='Activation')(dense_2)\n",
    "\n",
    "# define model with 2 inputs and 1 output\n",
    "model_mf = Model(inputs=[user_input, book_input], outputs=result)\n",
    "\n",
    "# show model summary\n",
    "model_mf.summary()"
   ]
  },
  {
   "cell_type": "code",
   "execution_count": 11,
   "metadata": {},
   "outputs": [
    {
     "name": "stdout",
     "output_type": "stream",
     "text": [
      "Num GPUs Available:  0\n",
      "['/device:CPU:0', '/device:XLA_CPU:0']\n",
      "Train on 781476 samples, validate on 3928 samples\n",
      "Epoch 1/5\n",
      "781476/781476 [==============================] - 74s 94us/sample - loss: 1.2162 - mean_absolute_error: 0.8584 - val_loss: 0.7234 - val_mean_absolute_error: 0.6659\n",
      "Epoch 2/5\n",
      "781476/781476 [==============================] - 73s 93us/sample - loss: 0.7219 - mean_absolute_error: 0.6682 - val_loss: 0.7132 - val_mean_absolute_error: 0.6526\n",
      "Epoch 3/5\n",
      "781476/781476 [==============================] - 75s 96us/sample - loss: 0.4640 - mean_absolute_error: 0.5226 - val_loss: 0.7707 - val_mean_absolute_error: 0.6747\n",
      "Epoch 4/5\n",
      "781476/781476 [==============================] - 75s 96us/sample - loss: 0.3192 - mean_absolute_error: 0.4275 - val_loss: 0.8097 - val_mean_absolute_error: 0.6859\n",
      "Epoch 5/5\n",
      "781476/781476 [==============================] - 76s 98us/sample - loss: 0.2626 - mean_absolute_error: 0.3828 - val_loss: 0.8126 - val_mean_absolute_error: 0.6909\n"
     ]
    },
    {
     "data": {
      "image/png": "[encoded data removed]",
      "text/plain": [
       "<Figure size 432x288 with 1 Axes>"
      ]
     },
     "metadata": {
      "needs_background": "light"
     },
     "output_type": "display_data"
    }
   ],
   "source": [
    "import tensorflow as tf\n",
    "from tensorflow.python.client import device_lib\n",
    "def get_available_devices():\n",
    "    local_device_protos = device_lib.list_local_devices()\n",
    "    return [x.name for x in local_device_protos]\n",
    "\n",
    "print(\"Num GPUs Available: \", len(tf.config.experimental.list_physical_devices('GPU')))\n",
    "print(get_available_devices())\n",
    "\n",
    "from tensorflow.keras.models import load_model\n",
    "training = True\n",
    "\n",
    "if not training and os.path.exists('regression_model_mf.h5'):\n",
    "    model_mf = load_model('regression_model_mf.h5')\n",
    "else:\n",
    "    with tf.device('/device:CPU:0'):\n",
    "        # specify learning rate (or use the default)\n",
    "        opt_adam = Adam(lr = 0.002)\n",
    "\n",
    "        # compile model\n",
    "        model_mf.compile(optimizer = opt_adam, loss = ['mse'], metrics = ['mean_absolute_error'])\n",
    "\n",
    "        # fit model\n",
    "        history_mf = model_mf.fit([train.user_id, train.book_id],\n",
    "                                  train.rating,\n",
    "                                  batch_size = 256,\n",
    "                                  validation_split = 0.005,\n",
    "                                  epochs = 5,\n",
    "                                  verbose = 1)\n",
    "        model_mf.save('regression_model_mf.h5')\n",
    "        plt.plot(history_mf.history['loss'])\n",
    "        plt.xlabel(\"Epochs\")\n",
    "        plt.ylabel(\"Training Error\")"
   ]
  },
  {
   "cell_type": "code",
   "execution_count": 12,
   "metadata": {
    "colab": {
     "base_uri": "https://localhost:8080/",
     "height": 51
    },
    "colab_type": "code",
    "executionInfo": {
     "elapsed": 5080,
     "status": "ok",
     "timestamp": 1580705525899,
     "user": {
      "displayName": "Kiagus Arief Adriansyah",
      "photoUrl": "https://lh3.googleusercontent.com/a-/AAuE7mDgNof4X_p29AVNSbm_npSTtGqp1GtqPb5UuwPF4Q=s64",
      "userId": "15196441721339582267"
     },
     "user_tz": -420
    },
    "id": "kBR59LmqQTNY",
    "outputId": "ccaf9e25-9966-4c33-83d2-5936d5d357c9"
   },
   "outputs": [
    {
     "name": "stdout",
     "output_type": "stream",
     "text": [
      "196352/196352 [==============================] - 3s 17us/sample - loss: 0.8202 - mean_absolute_error: 0.6972\n",
      "[0.8202156027514279, 0.69724303]\n"
     ]
    }
   ],
   "source": [
    "with tf.device('/device:CPU:0'):\n",
    "    print(model_mf.evaluate([test.user_id, test.book_id], test.rating))"
   ]
  },
  {
   "cell_type": "code",
   "execution_count": 13,
   "metadata": {
    "colab": {
     "base_uri": "https://localhost:8080/",
     "height": 204
    },
    "colab_type": "code",
    "executionInfo": {
     "elapsed": 948,
     "status": "ok",
     "timestamp": 1580705621680,
     "user": {
      "displayName": "Kiagus Arief Adriansyah",
      "photoUrl": "https://lh3.googleusercontent.com/a-/AAuE7mDgNof4X_p29AVNSbm_npSTtGqp1GtqPb5UuwPF4Q=s64",
      "userId": "15196441721339582267"
     },
     "user_tz": -420
    },
    "id": "wr8iYyBfQTNc",
    "outputId": "97f6dd14-55e1-4533-ffdf-d920c04b69c8"
   },
   "outputs": [
    {
     "name": "stdout",
     "output_type": "stream",
     "text": [
      "[4.8534503] 5\n",
      "[3.8890433] 4\n",
      "[3.4774358] 3\n",
      "[3.6478062] 5\n",
      "[3.2974663] 3\n",
      "[4.1752725] 3\n",
      "[3.2365608] 3\n",
      "[4.4115815] 4\n",
      "[4.28392] 3\n",
      "[3.8061762] 5\n"
     ]
    },
    {
     "data": {
      "text/plain": [
       "[None, None, None, None, None, None, None, None, None, None]"
      ]
     },
     "execution_count": 13,
     "metadata": {},
     "output_type": "execute_result"
    }
   ],
   "source": [
    "predictions = model_mf.predict([test.user_id.head(10), test.book_id.head(10)])\n",
    "\n",
    "[print(predictions[i], test.rating.iloc[i]) for i in range(0,10)]"
   ]
  },
  {
   "cell_type": "markdown",
   "metadata": {
    "colab_type": "text",
    "id": "-1AII8emQTNf"
   },
   "source": [
    "## Visualizing Embeddings\n",
    "Embeddings are weights that are learned to represent some specific variable like books and user in our case and therefore we can not only use them to get good results on our problem but also to extract inside about our data."
   ]
  },
  {
   "cell_type": "code",
   "execution_count": 15,
   "metadata": {
    "colab": {},
    "colab_type": "code",
    "id": "4-Xtv1LkQTNg"
   },
   "outputs": [],
   "source": [
    "# Extract embeddings\n",
    "book_em = model_mf.get_layer('Book-Embedding')\n",
    "book_em_weights = book_em.get_weights()[0]"
   ]
  },
  {
   "cell_type": "code",
   "execution_count": 16,
   "metadata": {
    "colab": {
     "base_uri": "https://localhost:8080/",
     "height": 187
    },
    "colab_type": "code",
    "executionInfo": {
     "elapsed": 988,
     "status": "ok",
     "timestamp": 1580705628969,
     "user": {
      "displayName": "Kiagus Arief Adriansyah",
      "photoUrl": "https://lh3.googleusercontent.com/a-/AAuE7mDgNof4X_p29AVNSbm_npSTtGqp1GtqPb5UuwPF4Q=s64",
      "userId": "15196441721339582267"
     },
     "user_tz": -420
    },
    "id": "un2vvN8jQTNj",
    "outputId": "1b13517e-c2ff-478d-8a9c-fcc312c5c31e"
   },
   "outputs": [
    {
     "data": {
      "text/plain": [
       "array([[ 1.77818276e-02,  2.83188857e-02, -1.86010115e-02,\n",
       "        -1.16406903e-02, -1.72842257e-02, -1.19963065e-02,\n",
       "        -2.03814358e-03,  4.16733287e-02, -2.48421673e-02,\n",
       "         4.59447242e-02, -1.81332231e-02,  5.40512800e-03,\n",
       "         2.22119205e-02, -4.50099371e-02, -2.55554672e-02,\n",
       "         2.33397223e-02,  2.82986499e-02, -3.25367823e-02,\n",
       "         4.57887389e-02, -2.65136845e-02,  3.00967582e-02,\n",
       "         6.90566376e-03,  4.78732474e-02, -3.90501991e-02,\n",
       "        -1.65048018e-02,  8.81205872e-03, -1.94562078e-02,\n",
       "         3.36494297e-03, -6.05892390e-04, -2.49305014e-02,\n",
       "         9.14692879e-03,  2.85950787e-02, -2.87428033e-02,\n",
       "        -2.55135540e-02, -1.92458518e-02,  1.27032511e-02,\n",
       "        -3.22101936e-02,  4.29857895e-03,  2.08631903e-03,\n",
       "         1.28787421e-02,  4.21237946e-03,  4.84009646e-02,\n",
       "         3.26495208e-02,  2.70915963e-02, -3.17263231e-02,\n",
       "         2.30730437e-02, -4.87314463e-02, -1.79160014e-02,\n",
       "         4.03913297e-02,  8.35169107e-04],\n",
       "       [-9.18690339e-02,  9.05988067e-02, -4.03827965e-01,\n",
       "        -1.77356482e-01, -1.66187838e-01,  2.30916902e-01,\n",
       "         1.27981842e-01,  3.41893464e-01, -3.21581364e-01,\n",
       "        -2.54636228e-01, -2.13322446e-01, -1.19669355e-01,\n",
       "        -2.02173460e-02, -4.18916941e-02, -1.31360754e-01,\n",
       "         1.96395993e-01, -9.27160606e-02,  2.10260868e-01,\n",
       "         2.21008539e-01,  5.00797153e-01,  1.46346651e-02,\n",
       "         6.08602958e-03,  7.18220174e-02,  3.57230678e-02,\n",
       "         2.94082642e-01, -4.38692793e-03, -3.82665843e-01,\n",
       "         1.33016452e-01,  3.64468485e-01,  3.10835600e-01,\n",
       "        -4.62942347e-02,  4.65633541e-01, -6.59538209e-01,\n",
       "        -2.08266318e-01,  1.15566999e-01, -2.37831563e-01,\n",
       "        -7.58097460e-03,  2.73226872e-02, -1.19181409e-01,\n",
       "         1.84525967e-01,  2.97202677e-01,  4.55240995e-01,\n",
       "        -1.35833502e-01,  3.53782624e-01,  2.88678408e-01,\n",
       "        -3.44795525e-01, -3.27987850e-01,  2.37189561e-01,\n",
       "        -5.53165935e-02, -3.96050334e-01],\n",
       "       [-2.35433392e-02, -6.34309575e-02, -5.15264153e-01,\n",
       "        -7.46707559e-01, -2.25795329e-01,  3.92097950e-01,\n",
       "        -1.28708750e-01,  2.27132186e-01,  1.04457237e-01,\n",
       "        -1.63116202e-01, -6.37857765e-02, -4.25259113e-01,\n",
       "        -4.86713201e-01,  2.82303542e-01,  3.55315581e-03,\n",
       "         2.59410828e-01, -1.97228298e-01, -1.17207421e-02,\n",
       "        -6.53038248e-02,  1.42667145e-01,  2.15370223e-01,\n",
       "         3.67054969e-01,  7.67176747e-02, -2.89806247e-01,\n",
       "        -1.78370431e-01, -1.47957787e-01,  2.43907392e-01,\n",
       "         3.27748060e-01, -1.76713184e-01, -4.17083642e-03,\n",
       "        -2.42490053e-01, -1.11842684e-01, -2.66326368e-01,\n",
       "        -4.52577710e-01,  3.99678916e-01, -3.51944447e-01,\n",
       "         3.45386744e-01,  4.56202552e-02, -3.07613283e-01,\n",
       "        -2.42550194e-01, -4.28997874e-02,  2.81990528e-01,\n",
       "         6.42187670e-02, -1.41222462e-01,  3.70581955e-01,\n",
       "         7.08651543e-02, -3.82928520e-01,  1.89385608e-01,\n",
       "        -1.47614047e-01, -3.10249567e-01],\n",
       "       [ 3.10179740e-01, -2.38819659e-01, -1.51176184e-01,\n",
       "         2.90114552e-01, -2.60471880e-01,  1.64652660e-01,\n",
       "         3.68666172e-01,  5.89924395e-01, -2.64477253e-01,\n",
       "        -1.46931425e-01, -4.07650888e-01,  8.94490629e-02,\n",
       "        -2.34981120e-01,  4.21747625e-01,  4.42354195e-02,\n",
       "        -2.12113187e-03,  2.86296830e-02, -4.43860888e-01,\n",
       "        -2.17705488e-01,  4.51298505e-01,  1.66526988e-01,\n",
       "         1.97340563e-01, -5.69754362e-01,  4.99723196e-01,\n",
       "         1.69179693e-01, -2.60647416e-01,  1.16829768e-01,\n",
       "        -3.17788571e-01, -6.14078999e-01,  4.89034444e-01,\n",
       "        -2.17216745e-01, -1.38277337e-01,  2.79996693e-01,\n",
       "        -2.84275115e-01, -1.96261883e-01,  8.09198245e-02,\n",
       "         1.53331801e-01, -1.34296477e-01,  1.21858902e-01,\n",
       "        -2.44678229e-01,  6.17337925e-03,  1.61063731e-01,\n",
       "        -3.44362825e-01,  1.33176968e-01,  8.03625584e-02,\n",
       "         6.10124826e-01,  1.79451462e-02,  4.73825634e-01,\n",
       "        -1.78442508e-01,  2.10636154e-01],\n",
       "       [ 4.67473000e-01,  4.46711518e-02, -3.78606729e-02,\n",
       "        -3.39920074e-01, -8.96372274e-02, -4.76669073e-01,\n",
       "        -5.23529202e-02, -2.42118716e-01, -1.26574673e-02,\n",
       "         2.53225621e-02,  3.67740020e-02, -3.73430513e-02,\n",
       "        -2.23213658e-02,  8.56125876e-02, -1.38812855e-01,\n",
       "         1.62226871e-01, -1.59027815e-01,  1.04957409e-01,\n",
       "         5.70468642e-02, -2.82382131e-01,  2.13919692e-02,\n",
       "         4.62994218e-01,  8.33974481e-02, -1.01343682e-02,\n",
       "        -1.21698277e-02,  3.36608201e-01, -5.57428062e-01,\n",
       "         3.60774249e-03, -1.03792302e-01,  1.24955941e-02,\n",
       "        -3.45821790e-02,  2.95388520e-01, -2.81860501e-01,\n",
       "        -3.74875665e-01, -1.89479813e-02, -1.17596209e-01,\n",
       "        -9.98550653e-03,  2.51916587e-01, -1.40780443e-02,\n",
       "        -1.72510426e-02, -1.11445919e-01, -2.04022497e-01,\n",
       "        -3.12290192e-01, -2.96954572e-01,  4.38697636e-02,\n",
       "         1.25823483e-01,  3.92994098e-02,  3.12948436e-01,\n",
       "        -2.43268199e-02,  1.98441535e-01]], dtype=float32)"
      ]
     },
     "execution_count": 16,
     "metadata": {},
     "output_type": "execute_result"
    }
   ],
   "source": [
    "book_em_weights[:5]"
   ]
  },
  {
   "cell_type": "code",
   "execution_count": 17,
   "metadata": {
    "colab": {
     "base_uri": "https://localhost:8080/",
     "height": 282
    },
    "colab_type": "code",
    "executionInfo": {
     "elapsed": 1555,
     "status": "ok",
     "timestamp": 1580705633182,
     "user": {
      "displayName": "Kiagus Arief Adriansyah",
      "photoUrl": "https://lh3.googleusercontent.com/a-/AAuE7mDgNof4X_p29AVNSbm_npSTtGqp1GtqPb5UuwPF4Q=s64",
      "userId": "15196441721339582267"
     },
     "user_tz": -420
    },
    "id": "Arfu8KZEQTNm",
    "outputId": "f528ba1b-7bf6-4889-925f-f40a96dc9bbf"
   },
   "outputs": [
    {
     "data": {
      "text/plain": [
       "<matplotlib.axes._subplots.AxesSubplot at 0x6373e9210>"
      ]
     },
     "execution_count": 17,
     "metadata": {},
     "output_type": "execute_result"
    },
    {
     "data": {
      "image/png": "[encoded data removed]",
      "text/plain": [
       "<Figure size 432x288 with 1 Axes>"
      ]
     },
     "metadata": {
      "needs_background": "light"
     },
     "output_type": "display_data"
    }
   ],
   "source": [
    "from sklearn.decomposition import PCA\n",
    "import seaborn as sns\n",
    "\n",
    "pca = PCA(n_components=2)\n",
    "pca_result = pca.fit_transform(book_em_weights)\n",
    "sns.scatterplot(x=pca_result[:,0], y=pca_result[:,1])"
   ]
  },
  {
   "cell_type": "code",
   "execution_count": 18,
   "metadata": {
    "colab": {
     "base_uri": "https://localhost:8080/",
     "height": 34
    },
    "colab_type": "code",
    "executionInfo": {
     "elapsed": 1033,
     "status": "ok",
     "timestamp": 1580705638205,
     "user": {
      "displayName": "Kiagus Arief Adriansyah",
      "photoUrl": "https://lh3.googleusercontent.com/a-/AAuE7mDgNof4X_p29AVNSbm_npSTtGqp1GtqPb5UuwPF4Q=s64",
      "userId": "15196441721339582267"
     },
     "user_tz": -420
    },
    "id": "zU1x7b8EQTNp",
    "outputId": "6f6eeaa8-2b67-48b3-886e-a2cb2d53c730"
   },
   "outputs": [
    {
     "data": {
      "text/plain": [
       "1.0000001"
      ]
     },
     "execution_count": 18,
     "metadata": {},
     "output_type": "execute_result"
    }
   ],
   "source": [
    "book_em_weights = book_em_weights / np.linalg.norm(book_em_weights, axis = 1).reshape((-1, 1))\n",
    "book_em_weights[0][:10]\n",
    "np.sum(np.square(book_em_weights[0]))"
   ]
  },
  {
   "cell_type": "code",
   "execution_count": 19,
   "metadata": {
    "colab": {
     "base_uri": "https://localhost:8080/",
     "height": 282
    },
    "colab_type": "code",
    "executionInfo": {
     "elapsed": 1155,
     "status": "ok",
     "timestamp": 1580705642331,
     "user": {
      "displayName": "Kiagus Arief Adriansyah",
      "photoUrl": "https://lh3.googleusercontent.com/a-/AAuE7mDgNof4X_p29AVNSbm_npSTtGqp1GtqPb5UuwPF4Q=s64",
      "userId": "15196441721339582267"
     },
     "user_tz": -420
    },
    "id": "WZ25lLXSQTNs",
    "outputId": "2d24b4bb-e950-46df-f85f-bc8ed006343f"
   },
   "outputs": [
    {
     "data": {
      "text/plain": [
       "<matplotlib.axes._subplots.AxesSubplot at 0x6366bae10>"
      ]
     },
     "execution_count": 19,
     "metadata": {},
     "output_type": "execute_result"
    },
    {
     "data": {
      "image/png": "[encoded data removed]",
      "text/plain": [
       "<Figure size 432x288 with 1 Axes>"
      ]
     },
     "metadata": {
      "needs_background": "light"
     },
     "output_type": "display_data"
    }
   ],
   "source": [
    "pca = PCA(n_components=2)\n",
    "pca_result = pca.fit_transform(book_em_weights)\n",
    "sns.scatterplot(x=pca_result[:,0], y=pca_result[:,1])"
   ]
  },
  {
   "cell_type": "code",
   "execution_count": 20,
   "metadata": {
    "colab": {
     "base_uri": "https://localhost:8080/",
     "height": 306
    },
    "colab_type": "code",
    "executionInfo": {
     "elapsed": 35565,
     "status": "ok",
     "timestamp": 1580705680923,
     "user": {
      "displayName": "Kiagus Arief Adriansyah",
      "photoUrl": "https://lh3.googleusercontent.com/a-/AAuE7mDgNof4X_p29AVNSbm_npSTtGqp1GtqPb5UuwPF4Q=s64",
      "userId": "15196441721339582267"
     },
     "user_tz": -420
    },
    "id": "ICOlEhpSQTNu",
    "outputId": "1f6a466a-4c33-491f-d752-5399cc72c2a9"
   },
   "outputs": [
    {
     "name": "stdout",
     "output_type": "stream",
     "text": [
      "[t-SNE] Computing 121 nearest neighbors...\n",
      "[t-SNE] Indexed 10001 samples in 0.021s...\n",
      "[t-SNE] Computed neighbors for 10001 samples in 7.165s...\n",
      "[t-SNE] Computed conditional probabilities for sample 1000 / 10001\n",
      "[t-SNE] Computed conditional probabilities for sample 2000 / 10001\n",
      "[t-SNE] Computed conditional probabilities for sample 3000 / 10001\n",
      "[t-SNE] Computed conditional probabilities for sample 4000 / 10001\n",
      "[t-SNE] Computed conditional probabilities for sample 5000 / 10001\n",
      "[t-SNE] Computed conditional probabilities for sample 6000 / 10001\n",
      "[t-SNE] Computed conditional probabilities for sample 7000 / 10001\n",
      "[t-SNE] Computed conditional probabilities for sample 8000 / 10001\n",
      "[t-SNE] Computed conditional probabilities for sample 9000 / 10001\n",
      "[t-SNE] Computed conditional probabilities for sample 10000 / 10001\n",
      "[t-SNE] Computed conditional probabilities for sample 10001 / 10001\n",
      "[t-SNE] Mean sigma: 0.275569\n",
      "[t-SNE] KL divergence after 50 iterations with early exaggeration: 95.674980\n",
      "[t-SNE] KL divergence after 300 iterations: 4.847647\n"
     ]
    }
   ],
   "source": [
    "from sklearn.manifold import TSNE\n",
    "\n",
    "tsne = TSNE(n_components=2, verbose=1, perplexity=40, n_iter=300)\n",
    "tnse_results = tsne.fit_transform(book_em_weights)"
   ]
  },
  {
   "cell_type": "code",
   "execution_count": 21,
   "metadata": {
    "colab": {
     "base_uri": "https://localhost:8080/",
     "height": 282
    },
    "colab_type": "code",
    "executionInfo": {
     "elapsed": 29612,
     "status": "ok",
     "timestamp": 1580705680924,
     "user": {
      "displayName": "Kiagus Arief Adriansyah",
      "photoUrl": "https://lh3.googleusercontent.com/a-/AAuE7mDgNof4X_p29AVNSbm_npSTtGqp1GtqPb5UuwPF4Q=s64",
      "userId": "15196441721339582267"
     },
     "user_tz": -420
    },
    "id": "-xF5vo18QTNx",
    "outputId": "97bce61c-d810-48df-94fb-fc80dd686b00"
   },
   "outputs": [
    {
     "data": {
      "text/plain": [
       "<matplotlib.axes._subplots.AxesSubplot at 0x1a3de2cad0>"
      ]
     },
     "execution_count": 21,
     "metadata": {},
     "output_type": "execute_result"
    },
    {
     "data": {
      "image/png": "[encoded data removed]",
      "text/plain": [
       "<Figure size 432x288 with 1 Axes>"
      ]
     },
     "metadata": {
      "needs_background": "light"
     },
     "output_type": "display_data"
    }
   ],
   "source": [
    "sns.scatterplot(x=tnse_results[:,0], y=tnse_results[:,1])"
   ]
  },
  {
   "cell_type": "markdown",
   "metadata": {
    "colab_type": "text",
    "id": "oX0xIsZuQTN1"
   },
   "source": [
    "## Making Recommendations"
   ]
  },
  {
   "cell_type": "code",
   "execution_count": 22,
   "metadata": {
    "colab": {
     "base_uri": "https://localhost:8080/",
     "height": 34
    },
    "colab_type": "code",
    "executionInfo": {
     "elapsed": 1497,
     "status": "ok",
     "timestamp": 1580706805796,
     "user": {
      "displayName": "Kiagus Arief Adriansyah",
      "photoUrl": "https://lh3.googleusercontent.com/a-/AAuE7mDgNof4X_p29AVNSbm_npSTtGqp1GtqPb5UuwPF4Q=s64",
      "userId": "15196441721339582267"
     },
     "user_tz": -420
    },
    "id": "mye77esaQTN1",
    "outputId": "e79dba14-5766-43e4-ca19-80f67aac568d"
   },
   "outputs": [
    {
     "data": {
      "text/plain": [
       "array([1, 2, 3, 4, 5])"
      ]
     },
     "execution_count": 22,
     "metadata": {},
     "output_type": "execute_result"
    }
   ],
   "source": [
    "# Creating dataset for making recommendations for the first user\n",
    "book_data = np.array(list(set(dataset.book_id)))\n",
    "book_data[:5]"
   ]
  },
  {
   "cell_type": "code",
   "execution_count": 23,
   "metadata": {
    "colab": {
     "base_uri": "https://localhost:8080/",
     "height": 34
    },
    "colab_type": "code",
    "executionInfo": {
     "elapsed": 1227,
     "status": "ok",
     "timestamp": 1580706809273,
     "user": {
      "displayName": "Kiagus Arief Adriansyah",
      "photoUrl": "https://lh3.googleusercontent.com/a-/AAuE7mDgNof4X_p29AVNSbm_npSTtGqp1GtqPb5UuwPF4Q=s64",
      "userId": "15196441721339582267"
     },
     "user_tz": -420
    },
    "id": "A9pqjTJfQTN3",
    "outputId": "b8d1052f-eed8-46de-8855-229d6f559a6e"
   },
   "outputs": [
    {
     "data": {
      "text/plain": [
       "array([1, 1, 1, 1, 1])"
      ]
     },
     "execution_count": 23,
     "metadata": {},
     "output_type": "execute_result"
    }
   ],
   "source": [
    "user = np.array([1 for i in range(len(book_data))])\n",
    "user[:5]"
   ]
  },
  {
   "cell_type": "code",
   "execution_count": 25,
   "metadata": {
    "colab": {
     "base_uri": "https://localhost:8080/",
     "height": 34
    },
    "colab_type": "code",
    "executionInfo": {
     "elapsed": 1875,
     "status": "ok",
     "timestamp": 1580706813345,
     "user": {
      "displayName": "Kiagus Arief Adriansyah",
      "photoUrl": "https://lh3.googleusercontent.com/a-/AAuE7mDgNof4X_p29AVNSbm_npSTtGqp1GtqPb5UuwPF4Q=s64",
      "userId": "15196441721339582267"
     },
     "user_tz": -420
    },
    "id": "3BJfXbHEQTN6",
    "outputId": "60d6a86a-32e3-4a4b-f78e-ba54543d23b6"
   },
   "outputs": [
    {
     "data": {
      "text/plain": [
       "array([9075, 4720, 7946, 7439, 3952])"
      ]
     },
     "execution_count": 25,
     "metadata": {},
     "output_type": "execute_result"
    }
   ],
   "source": [
    "predictions = model_mf.predict([user, book_data])\n",
    "\n",
    "predictions = np.array([a[0] for a in predictions])\n",
    "\n",
    "recommended_book_ids = (-predictions).argsort()[:5]\n",
    "\n",
    "recommended_book_ids"
   ]
  },
  {
   "cell_type": "code",
   "execution_count": 26,
   "metadata": {
    "colab": {
     "base_uri": "https://localhost:8080/",
     "height": 51
    },
    "colab_type": "code",
    "executionInfo": {
     "elapsed": 1167,
     "status": "ok",
     "timestamp": 1580706818305,
     "user": {
      "displayName": "Kiagus Arief Adriansyah",
      "photoUrl": "https://lh3.googleusercontent.com/a-/AAuE7mDgNof4X_p29AVNSbm_npSTtGqp1GtqPb5UuwPF4Q=s64",
      "userId": "15196441721339582267"
     },
     "user_tz": -420
    },
    "id": "M_vSkOdiQTN9",
    "outputId": "15dd94c6-225e-4684-b93a-2507d92e2d67"
   },
   "outputs": [
    {
     "data": {
      "text/plain": [
       "array([4.8454957, 4.8158736, 4.7801833, 4.7585697, 4.7529526],\n",
       "      dtype=float32)"
      ]
     },
     "execution_count": 26,
     "metadata": {},
     "output_type": "execute_result"
    }
   ],
   "source": [
    "# print predicted scores\n",
    "predictions[recommended_book_ids]"
   ]
  },
  {
   "cell_type": "code",
   "execution_count": 27,
   "metadata": {
    "colab": {
     "base_uri": "https://localhost:8080/",
     "height": 428
    },
    "colab_type": "code",
    "executionInfo": {
     "elapsed": 1162,
     "status": "ok",
     "timestamp": 1580707199998,
     "user": {
      "displayName": "Kiagus Arief Adriansyah",
      "photoUrl": "https://lh3.googleusercontent.com/a-/AAuE7mDgNof4X_p29AVNSbm_npSTtGqp1GtqPb5UuwPF4Q=s64",
      "userId": "15196441721339582267"
     },
     "user_tz": -420
    },
    "id": "-95pKmnUQTOA",
    "outputId": "2cde5d1e-d766-43ab-9e5a-03af5a60d6e6"
   },
   "outputs": [
    {
     "data": {
      "text/html": [
       "<div>\n",
       "<style scoped>\n",
       "    .dataframe tbody tr th:only-of-type {\n",
       "        vertical-align: middle;\n",
       "    }\n",
       "\n",
       "    .dataframe tbody tr th {\n",
       "        vertical-align: top;\n",
       "    }\n",
       "\n",
       "    .dataframe thead th {\n",
       "        text-align: right;\n",
       "    }\n",
       "</style>\n",
       "<table border=\"1\" class=\"dataframe\">\n",
       "  <thead>\n",
       "    <tr style=\"text-align: right;\">\n",
       "      <th></th>\n",
       "      <th>id</th>\n",
       "      <th>book_id</th>\n",
       "      <th>best_book_id</th>\n",
       "      <th>work_id</th>\n",
       "      <th>books_count</th>\n",
       "      <th>isbn</th>\n",
       "      <th>isbn13</th>\n",
       "      <th>authors</th>\n",
       "      <th>original_publication_year</th>\n",
       "      <th>original_title</th>\n",
       "      <th>...</th>\n",
       "      <th>ratings_count</th>\n",
       "      <th>work_ratings_count</th>\n",
       "      <th>work_text_reviews_count</th>\n",
       "      <th>ratings_1</th>\n",
       "      <th>ratings_2</th>\n",
       "      <th>ratings_3</th>\n",
       "      <th>ratings_4</th>\n",
       "      <th>ratings_5</th>\n",
       "      <th>image_url</th>\n",
       "      <th>small_image_url</th>\n",
       "    </tr>\n",
       "  </thead>\n",
       "  <tbody>\n",
       "    <tr>\n",
       "      <th>0</th>\n",
       "      <td>1</td>\n",
       "      <td>2767052</td>\n",
       "      <td>2767052</td>\n",
       "      <td>2792775</td>\n",
       "      <td>272</td>\n",
       "      <td>439023483</td>\n",
       "      <td>9.780439e+12</td>\n",
       "      <td>Suzanne Collins</td>\n",
       "      <td>2008.0</td>\n",
       "      <td>The Hunger Games</td>\n",
       "      <td>...</td>\n",
       "      <td>4780653</td>\n",
       "      <td>4942365</td>\n",
       "      <td>155254</td>\n",
       "      <td>66715</td>\n",
       "      <td>127936</td>\n",
       "      <td>560092</td>\n",
       "      <td>1481305</td>\n",
       "      <td>2706317</td>\n",
       "      <td>https://images.gr-assets.com/books/1447303603m...</td>\n",
       "      <td>https://images.gr-assets.com/books/1447303603s...</td>\n",
       "    </tr>\n",
       "    <tr>\n",
       "      <th>1</th>\n",
       "      <td>2</td>\n",
       "      <td>3</td>\n",
       "      <td>3</td>\n",
       "      <td>4640799</td>\n",
       "      <td>491</td>\n",
       "      <td>439554934</td>\n",
       "      <td>9.780440e+12</td>\n",
       "      <td>J.K. Rowling, Mary GrandPré</td>\n",
       "      <td>1997.0</td>\n",
       "      <td>Harry Potter and the Philosopher's Stone</td>\n",
       "      <td>...</td>\n",
       "      <td>4602479</td>\n",
       "      <td>4800065</td>\n",
       "      <td>75867</td>\n",
       "      <td>75504</td>\n",
       "      <td>101676</td>\n",
       "      <td>455024</td>\n",
       "      <td>1156318</td>\n",
       "      <td>3011543</td>\n",
       "      <td>https://images.gr-assets.com/books/1474154022m...</td>\n",
       "      <td>https://images.gr-assets.com/books/1474154022s...</td>\n",
       "    </tr>\n",
       "    <tr>\n",
       "      <th>2</th>\n",
       "      <td>3</td>\n",
       "      <td>41865</td>\n",
       "      <td>41865</td>\n",
       "      <td>3212258</td>\n",
       "      <td>226</td>\n",
       "      <td>316015849</td>\n",
       "      <td>9.780316e+12</td>\n",
       "      <td>Stephenie Meyer</td>\n",
       "      <td>2005.0</td>\n",
       "      <td>Twilight</td>\n",
       "      <td>...</td>\n",
       "      <td>3866839</td>\n",
       "      <td>3916824</td>\n",
       "      <td>95009</td>\n",
       "      <td>456191</td>\n",
       "      <td>436802</td>\n",
       "      <td>793319</td>\n",
       "      <td>875073</td>\n",
       "      <td>1355439</td>\n",
       "      <td>https://images.gr-assets.com/books/1361039443m...</td>\n",
       "      <td>https://images.gr-assets.com/books/1361039443s...</td>\n",
       "    </tr>\n",
       "    <tr>\n",
       "      <th>3</th>\n",
       "      <td>4</td>\n",
       "      <td>2657</td>\n",
       "      <td>2657</td>\n",
       "      <td>3275794</td>\n",
       "      <td>487</td>\n",
       "      <td>61120081</td>\n",
       "      <td>9.780061e+12</td>\n",
       "      <td>Harper Lee</td>\n",
       "      <td>1960.0</td>\n",
       "      <td>To Kill a Mockingbird</td>\n",
       "      <td>...</td>\n",
       "      <td>3198671</td>\n",
       "      <td>3340896</td>\n",
       "      <td>72586</td>\n",
       "      <td>60427</td>\n",
       "      <td>117415</td>\n",
       "      <td>446835</td>\n",
       "      <td>1001952</td>\n",
       "      <td>1714267</td>\n",
       "      <td>https://images.gr-assets.com/books/1361975680m...</td>\n",
       "      <td>https://images.gr-assets.com/books/1361975680s...</td>\n",
       "    </tr>\n",
       "    <tr>\n",
       "      <th>4</th>\n",
       "      <td>5</td>\n",
       "      <td>4671</td>\n",
       "      <td>4671</td>\n",
       "      <td>245494</td>\n",
       "      <td>1356</td>\n",
       "      <td>743273567</td>\n",
       "      <td>9.780743e+12</td>\n",
       "      <td>F. Scott Fitzgerald</td>\n",
       "      <td>1925.0</td>\n",
       "      <td>The Great Gatsby</td>\n",
       "      <td>...</td>\n",
       "      <td>2683664</td>\n",
       "      <td>2773745</td>\n",
       "      <td>51992</td>\n",
       "      <td>86236</td>\n",
       "      <td>197621</td>\n",
       "      <td>606158</td>\n",
       "      <td>936012</td>\n",
       "      <td>947718</td>\n",
       "      <td>https://images.gr-assets.com/books/1490528560m...</td>\n",
       "      <td>https://images.gr-assets.com/books/1490528560s...</td>\n",
       "    </tr>\n",
       "  </tbody>\n",
       "</table>\n",
       "<p>5 rows × 23 columns</p>\n",
       "</div>"
      ],
      "text/plain": [
       "   id  book_id  best_book_id  work_id  books_count       isbn        isbn13  \\\n",
       "0   1  2767052       2767052  2792775          272  439023483  9.780439e+12   \n",
       "1   2        3             3  4640799          491  439554934  9.780440e+12   \n",
       "2   3    41865         41865  3212258          226  316015849  9.780316e+12   \n",
       "3   4     2657          2657  3275794          487   61120081  9.780061e+12   \n",
       "4   5     4671          4671   245494         1356  743273567  9.780743e+12   \n",
       "\n",
       "                       authors  original_publication_year  \\\n",
       "0              Suzanne Collins                     2008.0   \n",
       "1  J.K. Rowling, Mary GrandPré                     1997.0   \n",
       "2              Stephenie Meyer                     2005.0   \n",
       "3                   Harper Lee                     1960.0   \n",
       "4          F. Scott Fitzgerald                     1925.0   \n",
       "\n",
       "                             original_title  ... ratings_count  \\\n",
       "0                          The Hunger Games  ...       4780653   \n",
       "1  Harry Potter and the Philosopher's Stone  ...       4602479   \n",
       "2                                  Twilight  ...       3866839   \n",
       "3                     To Kill a Mockingbird  ...       3198671   \n",
       "4                          The Great Gatsby  ...       2683664   \n",
       "\n",
       "  work_ratings_count  work_text_reviews_count  ratings_1  ratings_2  \\\n",
       "0            4942365                   155254      66715     127936   \n",
       "1            4800065                    75867      75504     101676   \n",
       "2            3916824                    95009     456191     436802   \n",
       "3            3340896                    72586      60427     117415   \n",
       "4            2773745                    51992      86236     197621   \n",
       "\n",
       "   ratings_3  ratings_4  ratings_5  \\\n",
       "0     560092    1481305    2706317   \n",
       "1     455024    1156318    3011543   \n",
       "2     793319     875073    1355439   \n",
       "3     446835    1001952    1714267   \n",
       "4     606158     936012     947718   \n",
       "\n",
       "                                           image_url  \\\n",
       "0  https://images.gr-assets.com/books/1447303603m...   \n",
       "1  https://images.gr-assets.com/books/1474154022m...   \n",
       "2  https://images.gr-assets.com/books/1361039443m...   \n",
       "3  https://images.gr-assets.com/books/1361975680m...   \n",
       "4  https://images.gr-assets.com/books/1490528560m...   \n",
       "\n",
       "                                     small_image_url  \n",
       "0  https://images.gr-assets.com/books/1447303603s...  \n",
       "1  https://images.gr-assets.com/books/1474154022s...  \n",
       "2  https://images.gr-assets.com/books/1361039443s...  \n",
       "3  https://images.gr-assets.com/books/1361975680s...  \n",
       "4  https://images.gr-assets.com/books/1490528560s...  \n",
       "\n",
       "[5 rows x 23 columns]"
      ]
     },
     "execution_count": 27,
     "metadata": {},
     "output_type": "execute_result"
    }
   ],
   "source": [
    "books = pd.read_csv('books.csv')\n",
    "books.head()"
   ]
  },
  {
   "cell_type": "code",
   "execution_count": 28,
   "metadata": {
    "colab": {
     "base_uri": "https://localhost:8080/",
     "height": 377
    },
    "colab_type": "code",
    "executionInfo": {
     "elapsed": 1260,
     "status": "ok",
     "timestamp": 1580707204691,
     "user": {
      "displayName": "Kiagus Arief Adriansyah",
      "photoUrl": "https://lh3.googleusercontent.com/a-/AAuE7mDgNof4X_p29AVNSbm_npSTtGqp1GtqPb5UuwPF4Q=s64",
      "userId": "15196441721339582267"
     },
     "user_tz": -420
    },
    "id": "4PxeJqHaQTOE",
    "outputId": "e4ff4c97-20c1-4e99-a07b-1e66423a07cb"
   },
   "outputs": [
    {
     "data": {
      "text/html": [
       "<div>\n",
       "<style scoped>\n",
       "    .dataframe tbody tr th:only-of-type {\n",
       "        vertical-align: middle;\n",
       "    }\n",
       "\n",
       "    .dataframe tbody tr th {\n",
       "        vertical-align: top;\n",
       "    }\n",
       "\n",
       "    .dataframe thead th {\n",
       "        text-align: right;\n",
       "    }\n",
       "</style>\n",
       "<table border=\"1\" class=\"dataframe\">\n",
       "  <thead>\n",
       "    <tr style=\"text-align: right;\">\n",
       "      <th></th>\n",
       "      <th>id</th>\n",
       "      <th>book_id</th>\n",
       "      <th>best_book_id</th>\n",
       "      <th>work_id</th>\n",
       "      <th>books_count</th>\n",
       "      <th>isbn</th>\n",
       "      <th>isbn13</th>\n",
       "      <th>authors</th>\n",
       "      <th>original_publication_year</th>\n",
       "      <th>original_title</th>\n",
       "      <th>...</th>\n",
       "      <th>ratings_count</th>\n",
       "      <th>work_ratings_count</th>\n",
       "      <th>work_text_reviews_count</th>\n",
       "      <th>ratings_1</th>\n",
       "      <th>ratings_2</th>\n",
       "      <th>ratings_3</th>\n",
       "      <th>ratings_4</th>\n",
       "      <th>ratings_5</th>\n",
       "      <th>image_url</th>\n",
       "      <th>small_image_url</th>\n",
       "    </tr>\n",
       "  </thead>\n",
       "  <tbody>\n",
       "    <tr>\n",
       "      <th>3951</th>\n",
       "      <td>3952</td>\n",
       "      <td>29430012</td>\n",
       "      <td>29430012</td>\n",
       "      <td>45743836</td>\n",
       "      <td>29</td>\n",
       "      <td>670026190</td>\n",
       "      <td>9.780670e+12</td>\n",
       "      <td>Amor Towles</td>\n",
       "      <td>2016.0</td>\n",
       "      <td>A Gentleman in Moscow</td>\n",
       "      <td>...</td>\n",
       "      <td>33394</td>\n",
       "      <td>46320</td>\n",
       "      <td>7226</td>\n",
       "      <td>517</td>\n",
       "      <td>1244</td>\n",
       "      <td>4654</td>\n",
       "      <td>14274</td>\n",
       "      <td>25631</td>\n",
       "      <td>https://images.gr-assets.com/books/1459524472m...</td>\n",
       "      <td>https://images.gr-assets.com/books/1459524472s...</td>\n",
       "    </tr>\n",
       "    <tr>\n",
       "      <th>4719</th>\n",
       "      <td>4720</td>\n",
       "      <td>319644</td>\n",
       "      <td>319644</td>\n",
       "      <td>7792859</td>\n",
       "      <td>49</td>\n",
       "      <td>439791464</td>\n",
       "      <td>9.780440e+12</td>\n",
       "      <td>Suzanne Collins</td>\n",
       "      <td>2006.0</td>\n",
       "      <td>Gregor and the Marks of Secret</td>\n",
       "      <td>...</td>\n",
       "      <td>23727</td>\n",
       "      <td>25671</td>\n",
       "      <td>1041</td>\n",
       "      <td>178</td>\n",
       "      <td>557</td>\n",
       "      <td>4117</td>\n",
       "      <td>9617</td>\n",
       "      <td>11202</td>\n",
       "      <td>https://images.gr-assets.com/books/1397854344m...</td>\n",
       "      <td>https://images.gr-assets.com/books/1397854344s...</td>\n",
       "    </tr>\n",
       "    <tr>\n",
       "      <th>7438</th>\n",
       "      <td>7439</td>\n",
       "      <td>820480</td>\n",
       "      <td>820480</td>\n",
       "      <td>2831944</td>\n",
       "      <td>46</td>\n",
       "      <td>1405092726</td>\n",
       "      <td>9.781405e+12</td>\n",
       "      <td>C.J. Sansom</td>\n",
       "      <td>2008.0</td>\n",
       "      <td>Revelation</td>\n",
       "      <td>...</td>\n",
       "      <td>11868</td>\n",
       "      <td>14266</td>\n",
       "      <td>752</td>\n",
       "      <td>48</td>\n",
       "      <td>209</td>\n",
       "      <td>1613</td>\n",
       "      <td>5696</td>\n",
       "      <td>6700</td>\n",
       "      <td>https://images.gr-assets.com/books/1327170369m...</td>\n",
       "      <td>https://images.gr-assets.com/books/1327170369s...</td>\n",
       "    </tr>\n",
       "    <tr>\n",
       "      <th>7945</th>\n",
       "      <td>7946</td>\n",
       "      <td>39926</td>\n",
       "      <td>39926</td>\n",
       "      <td>836516</td>\n",
       "      <td>43</td>\n",
       "      <td>60512180</td>\n",
       "      <td>9.780061e+12</td>\n",
       "      <td>Naomi Wolf</td>\n",
       "      <td>1990.0</td>\n",
       "      <td>The Beauty Myth: How Images of Beauty Are Used...</td>\n",
       "      <td>...</td>\n",
       "      <td>13037</td>\n",
       "      <td>14266</td>\n",
       "      <td>790</td>\n",
       "      <td>234</td>\n",
       "      <td>790</td>\n",
       "      <td>3493</td>\n",
       "      <td>5552</td>\n",
       "      <td>4197</td>\n",
       "      <td>https://s.gr-assets.com/assets/nophoto/book/11...</td>\n",
       "      <td>https://s.gr-assets.com/assets/nophoto/book/50...</td>\n",
       "    </tr>\n",
       "    <tr>\n",
       "      <th>9074</th>\n",
       "      <td>9075</td>\n",
       "      <td>7199667</td>\n",
       "      <td>7199667</td>\n",
       "      <td>7867989</td>\n",
       "      <td>7</td>\n",
       "      <td>1599904780</td>\n",
       "      <td>9.781600e+12</td>\n",
       "      <td>Jessica Day George</td>\n",
       "      <td>2010.0</td>\n",
       "      <td>Princess of Glass</td>\n",
       "      <td>...</td>\n",
       "      <td>17052</td>\n",
       "      <td>17729</td>\n",
       "      <td>1669</td>\n",
       "      <td>145</td>\n",
       "      <td>694</td>\n",
       "      <td>3966</td>\n",
       "      <td>6525</td>\n",
       "      <td>6399</td>\n",
       "      <td>https://images.gr-assets.com/books/1397878579m...</td>\n",
       "      <td>https://images.gr-assets.com/books/1397878579s...</td>\n",
       "    </tr>\n",
       "  </tbody>\n",
       "</table>\n",
       "<p>5 rows × 23 columns</p>\n",
       "</div>"
      ],
      "text/plain": [
       "        id   book_id  best_book_id   work_id  books_count        isbn  \\\n",
       "3951  3952  29430012      29430012  45743836           29   670026190   \n",
       "4719  4720    319644        319644   7792859           49   439791464   \n",
       "7438  7439    820480        820480   2831944           46  1405092726   \n",
       "7945  7946     39926         39926    836516           43    60512180   \n",
       "9074  9075   7199667       7199667   7867989            7  1599904780   \n",
       "\n",
       "            isbn13             authors  original_publication_year  \\\n",
       "3951  9.780670e+12         Amor Towles                     2016.0   \n",
       "4719  9.780440e+12     Suzanne Collins                     2006.0   \n",
       "7438  9.781405e+12         C.J. Sansom                     2008.0   \n",
       "7945  9.780061e+12          Naomi Wolf                     1990.0   \n",
       "9074  9.781600e+12  Jessica Day George                     2010.0   \n",
       "\n",
       "                                         original_title  ... ratings_count  \\\n",
       "3951                              A Gentleman in Moscow  ...         33394   \n",
       "4719                     Gregor and the Marks of Secret  ...         23727   \n",
       "7438                                         Revelation  ...         11868   \n",
       "7945  The Beauty Myth: How Images of Beauty Are Used...  ...         13037   \n",
       "9074                                  Princess of Glass  ...         17052   \n",
       "\n",
       "     work_ratings_count  work_text_reviews_count  ratings_1  ratings_2  \\\n",
       "3951              46320                     7226        517       1244   \n",
       "4719              25671                     1041        178        557   \n",
       "7438              14266                      752         48        209   \n",
       "7945              14266                      790        234        790   \n",
       "9074              17729                     1669        145        694   \n",
       "\n",
       "      ratings_3  ratings_4  ratings_5  \\\n",
       "3951       4654      14274      25631   \n",
       "4719       4117       9617      11202   \n",
       "7438       1613       5696       6700   \n",
       "7945       3493       5552       4197   \n",
       "9074       3966       6525       6399   \n",
       "\n",
       "                                              image_url  \\\n",
       "3951  https://images.gr-assets.com/books/1459524472m...   \n",
       "4719  https://images.gr-assets.com/books/1397854344m...   \n",
       "7438  https://images.gr-assets.com/books/1327170369m...   \n",
       "7945  https://s.gr-assets.com/assets/nophoto/book/11...   \n",
       "9074  https://images.gr-assets.com/books/1397878579m...   \n",
       "\n",
       "                                        small_image_url  \n",
       "3951  https://images.gr-assets.com/books/1459524472s...  \n",
       "4719  https://images.gr-assets.com/books/1397854344s...  \n",
       "7438  https://images.gr-assets.com/books/1327170369s...  \n",
       "7945  https://s.gr-assets.com/assets/nophoto/book/50...  \n",
       "9074  https://images.gr-assets.com/books/1397878579s...  \n",
       "\n",
       "[5 rows x 23 columns]"
      ]
     },
     "execution_count": 28,
     "metadata": {},
     "output_type": "execute_result"
    }
   ],
   "source": [
    "books[books['id'].isin(recommended_book_ids)]"
   ]
  },
  {
   "cell_type": "code",
   "execution_count": null,
   "metadata": {},
   "outputs": [],
   "source": []
  }
 ],
 "metadata": {
  "colab": {
   "collapsed_sections": [],
   "name": "Recommendation System.ipynb",
   "provenance": [
    {
     "file_id": "https://github.com/TannerGilbert/Tutorials/blob/master/Recommendation%20System/Recommendation%20System.ipynb",
     "timestamp": 1580703722029
    }
   ]
  },
  "kernelspec": {
   "display_name": "Python 3",
   "language": "python",
   "name": "python3"
  },
  "language_info": {
   "codemirror_mode": {
    "name": "ipython",
    "version": 3
   },
   "file_extension": ".py",
   "mimetype": "text/x-python",
   "name": "python",
   "nbconvert_exporter": "python",
   "pygments_lexer": "ipython3",
   "version": "3.7.6"
  }
 },
 "nbformat": 4,
 "nbformat_minor": 4
}
