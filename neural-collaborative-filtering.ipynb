{
 "cells": [
  {
   "cell_type": "markdown",
   "metadata": {},
   "source": [
    "##### source: https://github.com/KevinLiao159/MyDataSciencePortfolio/blob/master/movie_recommender/movie_recommendation_using_NeuMF.ipynb"
   ]
  },
  {
   "cell_type": "code",
   "execution_count": 1,
   "metadata": {},
   "outputs": [],
   "source": [
    "import os\n",
    "\n",
    "# data science imports\n",
    "import numpy as np\n",
    "import pandas as pd\n",
    "\n",
    "import tensorflow as tf\n",
    "import tensorflow.keras.backend as K\n",
    "\n",
    "# sklearn imports\n",
    "from sklearn.model_selection import train_test_split\n",
    "\n",
    "# keras/tensorflow imports\n",
    "from tensorflow.keras.layers import Input, Embedding, Flatten, Dense, Multiply, Concatenate\n",
    "from tensorflow.keras.regularizers import l2\n",
    "from tensorflow.keras.models import Model\n",
    "\n",
    "# from tensorflow.keras.optimizers import Adagrad, Adam, SGD, RMSprop\n",
    "from tensorflow.keras.callbacks import EarlyStopping, ModelCheckpoint\n",
    "from tensorflow.keras.models import load_model\n",
    "\n",
    "# visualization imports\n",
    "import matplotlib.pyplot as plt\n",
    "%matplotlib inline"
   ]
  },
  {
   "cell_type": "code",
   "execution_count": 13,
   "metadata": {},
   "outputs": [],
   "source": [
    "def load_ratings():\n",
    "    COL_NAME = ['uid','mid','rating','timestamp']\n",
    "    df = pd.read_csv('data/movie-ratings.dat', sep='::', header=1, engine='python', names=COL_NAME)\n",
    "    return df\n",
    "\n",
    "def load_movies():\n",
    "    COL_NAME = ['mid','movie_name','movie_genre']\n",
    "    df = pd.read_csv('data/movie-movies.dat', sep='::', header=1, engine='python', names=COL_NAME)\n",
    "    return df\n",
    "\n",
    "def load_users():\n",
    "    COL_NAME = ['uid','user_fea1','user_fea2','user_fea3','user_fea4']\n",
    "    df = pd.read_csv('data/movie-users.dat', sep='::', header=1, engine='python', names=COL_NAME)\n",
    "    return df"
   ]
  },
  {
   "cell_type": "code",
   "execution_count": 14,
   "metadata": {},
   "outputs": [
    {
     "data": {
      "text/html": [
       "<div>\n",
       "<style scoped>\n",
       "    .dataframe tbody tr th:only-of-type {\n",
       "        vertical-align: middle;\n",
       "    }\n",
       "\n",
       "    .dataframe tbody tr th {\n",
       "        vertical-align: top;\n",
       "    }\n",
       "\n",
       "    .dataframe thead th {\n",
       "        text-align: right;\n",
       "    }\n",
       "</style>\n",
       "<table border=\"1\" class=\"dataframe\">\n",
       "  <thead>\n",
       "    <tr style=\"text-align: right;\">\n",
       "      <th></th>\n",
       "      <th>uid</th>\n",
       "      <th>mid</th>\n",
       "      <th>rating</th>\n",
       "      <th>timestamp</th>\n",
       "    </tr>\n",
       "  </thead>\n",
       "  <tbody>\n",
       "    <tr>\n",
       "      <th>0</th>\n",
       "      <td>1</td>\n",
       "      <td>914</td>\n",
       "      <td>3</td>\n",
       "      <td>978301968</td>\n",
       "    </tr>\n",
       "    <tr>\n",
       "      <th>1</th>\n",
       "      <td>1</td>\n",
       "      <td>3408</td>\n",
       "      <td>4</td>\n",
       "      <td>978300275</td>\n",
       "    </tr>\n",
       "    <tr>\n",
       "      <th>2</th>\n",
       "      <td>1</td>\n",
       "      <td>2355</td>\n",
       "      <td>5</td>\n",
       "      <td>978824291</td>\n",
       "    </tr>\n",
       "    <tr>\n",
       "      <th>3</th>\n",
       "      <td>1</td>\n",
       "      <td>1197</td>\n",
       "      <td>3</td>\n",
       "      <td>978302268</td>\n",
       "    </tr>\n",
       "    <tr>\n",
       "      <th>4</th>\n",
       "      <td>1</td>\n",
       "      <td>1287</td>\n",
       "      <td>5</td>\n",
       "      <td>978302039</td>\n",
       "    </tr>\n",
       "  </tbody>\n",
       "</table>\n",
       "</div>"
      ],
      "text/plain": [
       "   uid   mid  rating  timestamp\n",
       "0    1   914       3  978301968\n",
       "1    1  3408       4  978300275\n",
       "2    1  2355       5  978824291\n",
       "3    1  1197       3  978302268\n",
       "4    1  1287       5  978302039"
      ]
     },
     "execution_count": 14,
     "metadata": {},
     "output_type": "execute_result"
    }
   ],
   "source": [
    "ratings = load_ratings()\n",
    "ratings.head()"
   ]
  },
  {
   "cell_type": "code",
   "execution_count": 15,
   "metadata": {},
   "outputs": [
    {
     "name": "stdout",
     "output_type": "stream",
     "text": [
      "There are 6040 unique users and 3706 unique movies in this data set\n"
     ]
    }
   ],
   "source": [
    "num_users = len(ratings.uid.unique())\n",
    "num_items = len(ratings.mid.unique())\n",
    "print('There are {} unique users and {} unique movies in this data set'.format(num_users, num_items))"
   ]
  },
  {
   "cell_type": "code",
   "execution_count": 16,
   "metadata": {},
   "outputs": [
    {
     "name": "stdout",
     "output_type": "stream",
     "text": [
      "There are 6040 distinct users and the max of uid is also 6040\n",
      "There are 3706 distinct movies, however, the max of mid is 3952\n",
      "In the context of matrix factorization, the current item vector is in unnecessarily high dimensional space\n",
      "So we need to do some data cleaning to reduce the dimension of item vector back to 3706\n"
     ]
    }
   ],
   "source": [
    "user_max_id = ratings.uid.max()\n",
    "item_max_id = ratings.mid.max()\n",
    "print('There are {} distinct users and the max of uid is also {}'.format(num_users, user_max_id))\n",
    "print('There are {} distinct movies, however, the max of mid is {}'.format(num_items, item_max_id))\n",
    "print('In the context of matrix factorization, the current item vector is in unnecessarily high dimensional space')\n",
    "print('So we need to do some data cleaning to reduce the dimension of item vector back to {}'.format(num_items))"
   ]
  },
  {
   "cell_type": "code",
   "execution_count": 17,
   "metadata": {},
   "outputs": [],
   "source": [
    "def reduce_item_dim(ratings):\n",
    "    \"\"\"\n",
    "    Reduce item vector dimension to the number of distinct items in our data sets\n",
    "    \n",
    "    input : pd.DataFrame, ratings should have columns ['uid', 'mid', 'rating']\n",
    "    output: pd.DataFrame, ratings with new 'mid' that is compressed\n",
    "    \"\"\"\n",
    "    # pivot\n",
    "    user_item = ratings.pivot(index='uid', columns='mid', values='rating')\n",
    "    \n",
    "    # reset mid\n",
    "    user_item = user_item.T.reset_index(drop=True).T\n",
    "    \n",
    "    # undo pivot/melt - compress data frame\n",
    "    ratings_new = user_item.reset_index('uid').melt(id_vars='uid', value_vars=user_item.columns, var_name='mid', value_name='rating')\n",
    "\n",
    "    # drop nan and final clean up\n",
    "    ratings_new = ratings_new.dropna().sort_values(['uid', 'mid']).reset_index(drop=True)\n",
    "    \n",
    "#     return ratings_new\n",
    "    return ratings_new.astype(int)\n",
    "    \"\"\"\n",
    "    note:\n",
    "    Your sample data may not show it, but the results of your pivot operation possibly contain NaNs,\n",
    "    which are of float type, so the rest of the column is also upcasted to float automatically by pandas for efficient computation.\n",
    "    Note that the NaNs are filled by zeros (fill_value=0), so you don't get to see them.\n",
    "    For example, there is no row with objectid = 32233 and value = 0, so that corresponding entry in your pivot result shows up as NaN,\n",
    "    which then gets filled with 0.\n",
    "    Now that it's clear why the columns are upcasted, you can reset the datatype using astype:\n",
    "    p = p.astype(int)\n",
    "    \"\"\""
   ]
  },
  {
   "cell_type": "code",
   "execution_count": 18,
   "metadata": {},
   "outputs": [
    {
     "name": "stdout",
     "output_type": "stream",
     "text": [
      "reduce item dimension before:\n"
     ]
    },
    {
     "data": {
      "text/html": [
       "<div>\n",
       "<style scoped>\n",
       "    .dataframe tbody tr th:only-of-type {\n",
       "        vertical-align: middle;\n",
       "    }\n",
       "\n",
       "    .dataframe tbody tr th {\n",
       "        vertical-align: top;\n",
       "    }\n",
       "\n",
       "    .dataframe thead th {\n",
       "        text-align: right;\n",
       "    }\n",
       "</style>\n",
       "<table border=\"1\" class=\"dataframe\">\n",
       "  <thead>\n",
       "    <tr style=\"text-align: right;\">\n",
       "      <th></th>\n",
       "      <th>uid</th>\n",
       "      <th>mid</th>\n",
       "      <th>rating</th>\n",
       "      <th>timestamp</th>\n",
       "    </tr>\n",
       "  </thead>\n",
       "  <tbody>\n",
       "    <tr>\n",
       "      <th>0</th>\n",
       "      <td>1</td>\n",
       "      <td>914</td>\n",
       "      <td>3</td>\n",
       "      <td>978301968</td>\n",
       "    </tr>\n",
       "    <tr>\n",
       "      <th>1</th>\n",
       "      <td>1</td>\n",
       "      <td>3408</td>\n",
       "      <td>4</td>\n",
       "      <td>978300275</td>\n",
       "    </tr>\n",
       "    <tr>\n",
       "      <th>2</th>\n",
       "      <td>1</td>\n",
       "      <td>2355</td>\n",
       "      <td>5</td>\n",
       "      <td>978824291</td>\n",
       "    </tr>\n",
       "    <tr>\n",
       "      <th>3</th>\n",
       "      <td>1</td>\n",
       "      <td>1197</td>\n",
       "      <td>3</td>\n",
       "      <td>978302268</td>\n",
       "    </tr>\n",
       "    <tr>\n",
       "      <th>4</th>\n",
       "      <td>1</td>\n",
       "      <td>1287</td>\n",
       "      <td>5</td>\n",
       "      <td>978302039</td>\n",
       "    </tr>\n",
       "  </tbody>\n",
       "</table>\n",
       "</div>"
      ],
      "text/plain": [
       "   uid   mid  rating  timestamp\n",
       "0    1   914       3  978301968\n",
       "1    1  3408       4  978300275\n",
       "2    1  2355       5  978824291\n",
       "3    1  1197       3  978302268\n",
       "4    1  1287       5  978302039"
      ]
     },
     "execution_count": 18,
     "metadata": {},
     "output_type": "execute_result"
    }
   ],
   "source": [
    "print('reduce item dimension before:')\n",
    "ratings.head()"
   ]
  },
  {
   "cell_type": "code",
   "execution_count": 19,
   "metadata": {},
   "outputs": [
    {
     "name": "stdout",
     "output_type": "stream",
     "text": [
      "reduce item dimension after:\n"
     ]
    },
    {
     "data": {
      "text/html": [
       "<div>\n",
       "<style scoped>\n",
       "    .dataframe tbody tr th:only-of-type {\n",
       "        vertical-align: middle;\n",
       "    }\n",
       "\n",
       "    .dataframe tbody tr th {\n",
       "        vertical-align: top;\n",
       "    }\n",
       "\n",
       "    .dataframe thead th {\n",
       "        text-align: right;\n",
       "    }\n",
       "</style>\n",
       "<table border=\"1\" class=\"dataframe\">\n",
       "  <thead>\n",
       "    <tr style=\"text-align: right;\">\n",
       "      <th></th>\n",
       "      <th>uid</th>\n",
       "      <th>mid</th>\n",
       "      <th>rating</th>\n",
       "    </tr>\n",
       "  </thead>\n",
       "  <tbody>\n",
       "    <tr>\n",
       "      <th>0</th>\n",
       "      <td>1</td>\n",
       "      <td>0</td>\n",
       "      <td>5</td>\n",
       "    </tr>\n",
       "    <tr>\n",
       "      <th>1</th>\n",
       "      <td>1</td>\n",
       "      <td>47</td>\n",
       "      <td>5</td>\n",
       "    </tr>\n",
       "    <tr>\n",
       "      <th>2</th>\n",
       "      <td>1</td>\n",
       "      <td>144</td>\n",
       "      <td>5</td>\n",
       "    </tr>\n",
       "    <tr>\n",
       "      <th>3</th>\n",
       "      <td>1</td>\n",
       "      <td>253</td>\n",
       "      <td>4</td>\n",
       "    </tr>\n",
       "    <tr>\n",
       "      <th>4</th>\n",
       "      <td>1</td>\n",
       "      <td>513</td>\n",
       "      <td>5</td>\n",
       "    </tr>\n",
       "  </tbody>\n",
       "</table>\n",
       "</div>"
      ],
      "text/plain": [
       "   uid  mid  rating\n",
       "0    1    0       5\n",
       "1    1   47       5\n",
       "2    1  144       5\n",
       "3    1  253       4\n",
       "4    1  513       5"
      ]
     },
     "execution_count": 19,
     "metadata": {},
     "output_type": "execute_result"
    }
   ],
   "source": [
    "ratings = reduce_item_dim(ratings)\n",
    "print('reduce item dimension after:')\n",
    "ratings.head()"
   ]
  },
  {
   "cell_type": "markdown",
   "metadata": {},
   "source": [
    "##### Split Data Into Train/Test"
   ]
  },
  {
   "cell_type": "code",
   "execution_count": 20,
   "metadata": {},
   "outputs": [
    {
     "name": "stdout",
     "output_type": "stream",
     "text": [
      "shape of training data set:\n",
      "(800165, 3)\n",
      "shape of test data set:\n",
      "(200042, 3)\n"
     ]
    }
   ],
   "source": [
    "train, test = train_test_split(ratings, test_size=0.2, shuffle=True, random_state=99)\n",
    "print('shape of training data set:')\n",
    "print(train.shape)\n",
    "print('shape of test data set:')\n",
    "print(test.shape)"
   ]
  },
  {
   "cell_type": "markdown",
   "metadata": {},
   "source": [
    "##### Train Generalized Matrix Factorization and Test Model"
   ]
  },
  {
   "cell_type": "markdown",
   "metadata": {},
   "source": [
    "##### define GMF model architeture and train routine"
   ]
  },
  {
   "cell_type": "code",
   "execution_count": 21,
   "metadata": {},
   "outputs": [],
   "source": [
    "def get_GMF_model(num_users, num_items, latent_dim, vu_reg, vi_reg):\n",
    "    \"\"\"\n",
    "    Build Generalized Matrix Factorization Model Topology\n",
    "    \n",
    "    Parameters\n",
    "    ----------\n",
    "    num_users: int, total number of users\n",
    "    num_iterms: int, total number of items\n",
    "    latent_dim: int, embedded dimension for user vector and item vector\n",
    "    vu_reg: float, L2 regularization of user embedded layer\n",
    "    vi_reg: float, L2 regularization of item embedded layer\n",
    "\n",
    "    Return\n",
    "    ------\n",
    "    A Keras Model with GMF model architeture\n",
    "    \"\"\"\n",
    "    # Input variables\n",
    "    user_input = Input(shape=(1,), dtype='int32', name='user_input')\n",
    "    item_input = Input(shape=(1,), dtype='int32', name='item_input')\n",
    "\n",
    "    mf_embedding_user = Embedding(\n",
    "        input_dim = num_users + 1,\n",
    "        output_dim = latent_dim,\n",
    "        embeddings_initializer = 'uniform',\n",
    "        name = 'user_embedding',\n",
    "        embeddings_regularizer = l2(vu_reg),\n",
    "        input_length = 1\n",
    "    )\n",
    "    \n",
    "    mf_embedding_item = Embedding(\n",
    "        input_dim = num_items + 1,\n",
    "        output_dim = latent_dim,\n",
    "        embeddings_initializer = 'uniform',\n",
    "        name = 'item_embedding',\n",
    "        embeddings_regularizer = l2(vi_reg),\n",
    "        input_length = 1\n",
    "    ) \n",
    "    \n",
    "    # Crucial to flatten an embedding vector!\n",
    "    user_latent = Flatten()(mf_embedding_user(user_input))\n",
    "    item_latent = Flatten()(mf_embedding_item(item_input))\n",
    "\n",
    "    # Element-wise product of user and item embeddings \n",
    "    predict_vector = Multiply()([user_latent, item_latent])\n",
    "    \n",
    "    # Final prediction layer\n",
    "    prediction = Dense(1, kernel_initializer='glorot_uniform', name='prediction')(predict_vector)\n",
    "    \n",
    "    # Stitch input and output\n",
    "    model = Model([user_input, item_input], prediction)\n",
    "    \n",
    "    return model\n",
    "\n",
    "def train_model(model, learner, batch_size, epochs, val_split, inputs, outputs, filepath):\n",
    "    \"\"\"\n",
    "    define training routine, train models and save best model\n",
    "    \n",
    "    Parameters\n",
    "    ----------\n",
    "    model: a Keras model\n",
    "    learner: str, one of ['sgd', 'adam', 'rmsprop', 'adagrad']\n",
    "    batch_size: num samples per update\n",
    "    epochs: num iterations\n",
    "    val_split: split ratio for validation data\n",
    "    inputs: inputs data\n",
    "    outputs: outputs data\n",
    "    \"\"\"\n",
    "    # add customized metric\n",
    "    def rmse(y_true, y_pred):\n",
    "        return K.sqrt(K.mean(K.square(y_true - y_pred)))\n",
    "    \n",
    "    # compile model\n",
    "    model.compile(optimizer=learner.lower(), loss='mean_squared_error', metrics=['mean_squared_error', rmse])\n",
    "    \n",
    "    # add call backs\n",
    "    early_stopper = EarlyStopping(monitor='val_rmse', patience=10, verbose=1)\n",
    "    model_saver = ModelCheckpoint(filepath=filepath, monitor='val_rmse', save_best_only=True, save_weights_only=True)\n",
    "    \n",
    "    # train model\n",
    "    history = model.fit(inputs, outputs, batch_size=batch_size, epochs=epochs, validation_split=val_split, callbacks=[early_stopper, model_saver])\n",
    "    \n",
    "    return history\n",
    "\n",
    "def load_trained_model(model, weights_path):\n",
    "    model.load_weights(weights_path)\n",
    "    return model"
   ]
  },
  {
   "cell_type": "markdown",
   "metadata": {},
   "source": [
    "##### create GMF model"
   ]
  },
  {
   "cell_type": "code",
   "execution_count": 22,
   "metadata": {},
   "outputs": [
    {
     "name": "stdout",
     "output_type": "stream",
     "text": [
      "Model: \"model_1\"\n",
      "__________________________________________________________________________________________________\n",
      "Layer (type)                    Output Shape         Param #     Connected to                     \n",
      "==================================================================================================\n",
      "user_input (InputLayer)         [(None, 1)]          0                                            \n",
      "__________________________________________________________________________________________________\n",
      "item_input (InputLayer)         [(None, 1)]          0                                            \n",
      "__________________________________________________________________________________________________\n",
      "user_embedding (Embedding)      (None, 1, 10)        60410       user_input[0][0]                 \n",
      "__________________________________________________________________________________________________\n",
      "item_embedding (Embedding)      (None, 1, 10)        37070       item_input[0][0]                 \n",
      "__________________________________________________________________________________________________\n",
      "flatten_2 (Flatten)             (None, 10)           0           user_embedding[0][0]             \n",
      "__________________________________________________________________________________________________\n",
      "flatten_3 (Flatten)             (None, 10)           0           item_embedding[0][0]             \n",
      "__________________________________________________________________________________________________\n",
      "multiply_1 (Multiply)           (None, 10)           0           flatten_2[0][0]                  \n",
      "                                                                 flatten_3[0][0]                  \n",
      "__________________________________________________________________________________________________\n",
      "prediction (Dense)              (None, 1)            11          multiply_1[0][0]                 \n",
      "==================================================================================================\n",
      "Total params: 97,491\n",
      "Trainable params: 97,491\n",
      "Non-trainable params: 0\n",
      "__________________________________________________________________________________________________\n"
     ]
    }
   ],
   "source": [
    "GMF_model = get_GMF_model(num_users, num_items, 10, 0, 0)\n",
    "GMF_model.summary()"
   ]
  },
  {
   "cell_type": "markdown",
   "metadata": {},
   "source": [
    "##### train GMF model"
   ]
  },
  {
   "cell_type": "code",
   "execution_count": 23,
   "metadata": {},
   "outputs": [
    {
     "name": "stdout",
     "output_type": "stream",
     "text": [
      "Train on 600123 samples, validate on 200042 samples\n",
      "Epoch 1/30\n",
      "600123/600123 [==============================] - 13s 22us/sample - loss: 2.4467 - mean_squared_error: 2.4467 - rmse: 1.3546 - val_loss: 0.8510 - val_mean_squared_error: 0.8510 - val_rmse: 0.9186\n",
      "Epoch 2/30\n",
      "600123/600123 [==============================] - 13s 21us/sample - loss: 0.8142 - mean_squared_error: 0.8142 - rmse: 0.8984 - val_loss: 0.8211 - val_mean_squared_error: 0.8211 - val_rmse: 0.9020\n",
      "Epoch 3/30\n",
      "600123/600123 [==============================] - 13s 22us/sample - loss: 0.7834 - mean_squared_error: 0.7834 - rmse: 0.8811 - val_loss: 0.8076 - val_mean_squared_error: 0.8076 - val_rmse: 0.8945\n",
      "Epoch 4/30\n",
      "600123/600123 [==============================] - 12s 20us/sample - loss: 0.7530 - mean_squared_error: 0.7530 - rmse: 0.8637 - val_loss: 0.7922 - val_mean_squared_error: 0.7922 - val_rmse: 0.8859\n",
      "Epoch 5/30\n",
      "600123/600123 [==============================] - 12s 20us/sample - loss: 0.7190 - mean_squared_error: 0.7190 - rmse: 0.8439 - val_loss: 0.7832 - val_mean_squared_error: 0.7832 - val_rmse: 0.8808\n",
      "Epoch 6/30\n",
      "600123/600123 [==============================] - 12s 20us/sample - loss: 0.6907 - mean_squared_error: 0.6907 - rmse: 0.8272 - val_loss: 0.7802 - val_mean_squared_error: 0.7802 - val_rmse: 0.8790\n",
      "Epoch 7/30\n",
      "600123/600123 [==============================] - 12s 20us/sample - loss: 0.6698 - mean_squared_error: 0.6698 - rmse: 0.8145 - val_loss: 0.7795 - val_mean_squared_error: 0.7795 - val_rmse: 0.8786\n",
      "Epoch 8/30\n",
      "600123/600123 [==============================] - 13s 21us/sample - loss: 0.6545 - mean_squared_error: 0.6545 - rmse: 0.8050 - val_loss: 0.7806 - val_mean_squared_error: 0.7806 - val_rmse: 0.8791\n",
      "Epoch 9/30\n",
      "600123/600123 [==============================] - 12s 20us/sample - loss: 0.6430 - mean_squared_error: 0.6430 - rmse: 0.7979 - val_loss: 0.7807 - val_mean_squared_error: 0.7807 - val_rmse: 0.8792\n",
      "Epoch 10/30\n",
      "600123/600123 [==============================] - 12s 20us/sample - loss: 0.6341 - mean_squared_error: 0.6341 - rmse: 0.7923 - val_loss: 0.7822 - val_mean_squared_error: 0.7822 - val_rmse: 0.8800\n",
      "Epoch 11/30\n",
      "600123/600123 [==============================] - 12s 20us/sample - loss: 0.6271 - mean_squared_error: 0.6271 - rmse: 0.7879 - val_loss: 0.7842 - val_mean_squared_error: 0.7842 - val_rmse: 0.8811\n",
      "Epoch 12/30\n",
      "600123/600123 [==============================] - 12s 20us/sample - loss: 0.6208 - mean_squared_error: 0.6208 - rmse: 0.7839 - val_loss: 0.7852 - val_mean_squared_error: 0.7852 - val_rmse: 0.8816\n",
      "Epoch 13/30\n",
      "600123/600123 [==============================] - 12s 20us/sample - loss: 0.6157 - mean_squared_error: 0.6157 - rmse: 0.7807 - val_loss: 0.7868 - val_mean_squared_error: 0.7868 - val_rmse: 0.8825\n",
      "Epoch 14/30\n",
      "600123/600123 [==============================] - 12s 20us/sample - loss: 0.6115 - mean_squared_error: 0.6115 - rmse: 0.7780 - val_loss: 0.7865 - val_mean_squared_error: 0.7865 - val_rmse: 0.8823\n",
      "Epoch 15/30\n",
      "600123/600123 [==============================] - 13s 21us/sample - loss: 0.6075 - mean_squared_error: 0.6075 - rmse: 0.7753 - val_loss: 0.7885 - val_mean_squared_error: 0.7885 - val_rmse: 0.8834\n",
      "Epoch 16/30\n",
      "600123/600123 [==============================] - 12s 20us/sample - loss: 0.6041 - mean_squared_error: 0.6041 - rmse: 0.7733 - val_loss: 0.7890 - val_mean_squared_error: 0.7890 - val_rmse: 0.8837\n",
      "Epoch 17/30\n",
      "600123/600123 [==============================] - 11s 19us/sample - loss: 0.6013 - mean_squared_error: 0.6013 - rmse: 0.7714 - val_loss: 0.7902 - val_mean_squared_error: 0.7902 - val_rmse: 0.8843\n",
      "Epoch 00017: early stopping\n"
     ]
    }
   ],
   "source": [
    "# model config\n",
    "BATCH_SIZE = 64\n",
    "EPOCHS = 30\n",
    "VAL_SPLIT = 0.25\n",
    "\n",
    "# train model\n",
    "history = train_model(\n",
    "    GMF_model,\n",
    "    'adam',\n",
    "    BATCH_SIZE,\n",
    "    EPOCHS,\n",
    "    VAL_SPLIT,\n",
    "    inputs=[train.uid.values, train.mid.values],\n",
    "    outputs=train.rating.values,\n",
    "    filepath='model/neural-gmf-weights.hdf5')"
   ]
  },
  {
   "cell_type": "code",
   "execution_count": 24,
   "metadata": {},
   "outputs": [],
   "source": [
    "def plot_learning_curve(history, metric):\n",
    "    \"\"\"\n",
    "    Plot learning curve to compare training error vs. validation error\n",
    "    \"\"\"\n",
    "    # get training error\n",
    "    errors = history.history[metric]\n",
    "    \n",
    "    # get validation error\n",
    "    val_errors = history.history['val_{}'.format(metric)]\n",
    "    \n",
    "    # get epochs\n",
    "    epochs = range(1, len(errors) + 1)\n",
    "\n",
    "    # plot\n",
    "    plt.figure(figsize=(12, 7))\n",
    "    plt.plot(epochs, errors, 'bo', label='training {}'.format(metric))\n",
    "    plt.plot(epochs, val_errors, 'b', label='validation {}'.format(metric))\n",
    "    plt.xlabel('number of epochs')\n",
    "    plt.ylabel(metric)\n",
    "    plt.title('Model Learning Curve')\n",
    "    plt.grid(True)\n",
    "    plt.legend()\n",
    "    plt.show()"
   ]
  },
  {
   "cell_type": "code",
   "execution_count": 25,
   "metadata": {},
   "outputs": [
    {
     "data": {
      "image/png": "[encoded data removed]",
      "text/plain": [
       "<Figure size 864x504 with 1 Axes>"
      ]
     },
     "metadata": {
      "needs_background": "light"
     },
     "output_type": "display_data"
    }
   ],
   "source": [
    "plot_learning_curve(history, 'rmse')"
   ]
  },
  {
   "cell_type": "markdown",
   "metadata": {},
   "source": [
    "##### GMF model testing"
   ]
  },
  {
   "cell_type": "code",
   "execution_count": 26,
   "metadata": {},
   "outputs": [],
   "source": [
    "# define rmse function\n",
    "rmse = lambda true, pred: np.sqrt(np.mean(np.square(np.squeeze(predictions) - np.squeeze(test.rating.values))))"
   ]
  },
  {
   "cell_type": "code",
   "execution_count": 27,
   "metadata": {},
   "outputs": [
    {
     "name": "stdout",
     "output_type": "stream",
     "text": [
      "The out-of-sample RMSE of rating predictions is 0.8821\n"
     ]
    }
   ],
   "source": [
    "# load best model\n",
    "GMF_model = get_GMF_model(num_users, num_items, 10, 0, 0)\n",
    "GMF_model = load_trained_model(GMF_model, 'model/neural-gmf-weights.hdf5')\n",
    "\n",
    "# make prediction using test data\n",
    "predictions = GMF_model.predict([test.uid.values, test.mid.values])\n",
    "\n",
    "# get the RMSE\n",
    "error = rmse(test.rating.values, predictions)\n",
    "print('The out-of-sample RMSE of rating predictions is', round(error, 4))"
   ]
  },
  {
   "cell_type": "markdown",
   "metadata": {},
   "source": [
    "#### Train Multi-Layer Perceptron Model and Test Model"
   ]
  },
  {
   "cell_type": "markdown",
   "metadata": {},
   "source": [
    "##### define MLP model architeture"
   ]
  },
  {
   "cell_type": "code",
   "execution_count": 28,
   "metadata": {},
   "outputs": [],
   "source": [
    "def get_MLP_model(num_users, num_items, layers, reg_layers):\n",
    "    \"\"\"\n",
    "    Build Multi-Layer Perceptron Model Topology\n",
    "    \n",
    "    Parameters\n",
    "    ----------\n",
    "    num_users: int, total number of users\n",
    "    num_iterms: int, total number of items\n",
    "    layers: list of int, each element is the number of hidden units for each layer,\n",
    "        with the exception of first element. First element is the sum of dims of\n",
    "        user latent vector and item latent vector\n",
    "    reg_layers: list of int, each element is the L2 regularization parameter for\n",
    "        each layer in MLP\n",
    "\n",
    "    Return\n",
    "    ------\n",
    "    A Keras Model with MLP model architeture\n",
    "    \"\"\"\n",
    "    assert len(layers) == len(reg_layers)\n",
    "    num_layer = len(layers) # Number of layers in the MLP\n",
    "    \n",
    "    # Input variables\n",
    "    user_input = Input(shape=(1,), dtype='int32', name='user_input')\n",
    "    item_input = Input(shape=(1,), dtype='int32', name='item_input')\n",
    "\n",
    "    mlp_embedding_user = Embedding(\n",
    "        input_dim=num_users + 1,\n",
    "        output_dim=layers[0] // 2,\n",
    "        embeddings_initializer='uniform',\n",
    "        name='user_embedding',\n",
    "        embeddings_regularizer=l2(reg_layers[0]),\n",
    "        input_length=1)\n",
    "    \n",
    "    mlp_embedding_item = Embedding(\n",
    "        input_dim=num_items + 1,\n",
    "        output_dim=layers[0] // 2,\n",
    "        embeddings_initializer='uniform',\n",
    "        name='item_embedding',\n",
    "        embeddings_regularizer=l2(reg_layers[0]),\n",
    "        input_length=1) \n",
    "    \n",
    "    # Crucial to flatten an embedding vector!\n",
    "    user_latent = Flatten()(mlp_embedding_user(user_input))\n",
    "    item_latent = Flatten()(mlp_embedding_item(item_input))\n",
    "\n",
    "    # The 0-th layer is the concatenation of embedding layers\n",
    "    vector = Concatenate(axis=-1)([user_latent, item_latent])\n",
    "\n",
    "    # MLP layers\n",
    "    for idx in range(1, num_layer):\n",
    "        layer = Dense(\n",
    "            units=layers[idx],\n",
    "            activation='relu',\n",
    "            kernel_initializer='glorot_uniform',\n",
    "            kernel_regularizer=l2(reg_layers[idx]),\n",
    "            name = 'layer%d' %idx)\n",
    "        vector = layer(vector)\n",
    "    \n",
    "    # Final prediction layer\n",
    "    prediction = Dense(1, kernel_initializer='glorot_uniform', name='prediction')(vector)\n",
    "    \n",
    "    # Stitch input and output\n",
    "    model = Model([user_input, item_input], prediction)\n",
    "    \n",
    "    return model"
   ]
  },
  {
   "cell_type": "markdown",
   "metadata": {},
   "source": [
    "##### create MLP model"
   ]
  },
  {
   "cell_type": "code",
   "execution_count": 29,
   "metadata": {},
   "outputs": [
    {
     "name": "stdout",
     "output_type": "stream",
     "text": [
      "Model: \"model_3\"\n",
      "__________________________________________________________________________________________________\n",
      "Layer (type)                    Output Shape         Param #     Connected to                     \n",
      "==================================================================================================\n",
      "user_input (InputLayer)         [(None, 1)]          0                                            \n",
      "__________________________________________________________________________________________________\n",
      "item_input (InputLayer)         [(None, 1)]          0                                            \n",
      "__________________________________________________________________________________________________\n",
      "user_embedding (Embedding)      (None, 1, 32)        193312      user_input[0][0]                 \n",
      "__________________________________________________________________________________________________\n",
      "item_embedding (Embedding)      (None, 1, 32)        118624      item_input[0][0]                 \n",
      "__________________________________________________________________________________________________\n",
      "flatten_6 (Flatten)             (None, 32)           0           user_embedding[0][0]             \n",
      "__________________________________________________________________________________________________\n",
      "flatten_7 (Flatten)             (None, 32)           0           item_embedding[0][0]             \n",
      "__________________________________________________________________________________________________\n",
      "concatenate (Concatenate)       (None, 64)           0           flatten_6[0][0]                  \n",
      "                                                                 flatten_7[0][0]                  \n",
      "__________________________________________________________________________________________________\n",
      "layer1 (Dense)                  (None, 32)           2080        concatenate[0][0]                \n",
      "__________________________________________________________________________________________________\n",
      "layer2 (Dense)                  (None, 16)           528         layer1[0][0]                     \n",
      "__________________________________________________________________________________________________\n",
      "layer3 (Dense)                  (None, 8)            136         layer2[0][0]                     \n",
      "__________________________________________________________________________________________________\n",
      "prediction (Dense)              (None, 1)            9           layer3[0][0]                     \n",
      "==================================================================================================\n",
      "Total params: 314,689\n",
      "Trainable params: 314,689\n",
      "Non-trainable params: 0\n",
      "__________________________________________________________________________________________________\n"
     ]
    }
   ],
   "source": [
    "MLP_model = get_MLP_model(num_users, num_items, [64, 32, 16, 8], [0, 0, 0, 0])\n",
    "MLP_model.summary()"
   ]
  },
  {
   "cell_type": "markdown",
   "metadata": {},
   "source": [
    "##### train MLP model"
   ]
  },
  {
   "cell_type": "code",
   "execution_count": 30,
   "metadata": {},
   "outputs": [
    {
     "name": "stdout",
     "output_type": "stream",
     "text": [
      "Train on 600123 samples, validate on 200042 samples\n",
      "Epoch 1/30\n",
      "600123/600123 [==============================] - 18s 30us/sample - loss: 0.9851 - mean_squared_error: 0.9851 - rmse: 0.9560 - val_loss: 0.8285 - val_mean_squared_error: 0.8285 - val_rmse: 0.9064\n",
      "Epoch 2/30\n",
      "600123/600123 [==============================] - 18s 29us/sample - loss: 0.8008 - mean_squared_error: 0.8008 - rmse: 0.8908 - val_loss: 0.8154 - val_mean_squared_error: 0.8154 - val_rmse: 0.8993\n",
      "Epoch 3/30\n",
      "600123/600123 [==============================] - 18s 29us/sample - loss: 0.7678 - mean_squared_error: 0.7678 - rmse: 0.8722 - val_loss: 0.7927 - val_mean_squared_error: 0.7927 - val_rmse: 0.8862\n",
      "Epoch 4/30\n",
      "600123/600123 [==============================] - 18s 30us/sample - loss: 0.7446 - mean_squared_error: 0.7446 - rmse: 0.8586 - val_loss: 0.7968 - val_mean_squared_error: 0.7968 - val_rmse: 0.8882\n",
      "Epoch 5/30\n",
      "600123/600123 [==============================] - 19s 31us/sample - loss: 0.7251 - mean_squared_error: 0.7251 - rmse: 0.8474 - val_loss: 0.7986 - val_mean_squared_error: 0.7986 - val_rmse: 0.8897\n",
      "Epoch 6/30\n",
      "600123/600123 [==============================] - 19s 31us/sample - loss: 0.7047 - mean_squared_error: 0.7047 - rmse: 0.8353 - val_loss: 0.7916 - val_mean_squared_error: 0.7916 - val_rmse: 0.8855\n",
      "Epoch 7/30\n",
      "600123/600123 [==============================] - 19s 31us/sample - loss: 0.6840 - mean_squared_error: 0.6840 - rmse: 0.8229 - val_loss: 0.7975 - val_mean_squared_error: 0.7975 - val_rmse: 0.8889\n",
      "Epoch 8/30\n",
      "600123/600123 [==============================] - 19s 31us/sample - loss: 0.6634 - mean_squared_error: 0.6634 - rmse: 0.8104 - val_loss: 0.8035 - val_mean_squared_error: 0.8035 - val_rmse: 0.8923\n",
      "Epoch 9/30\n",
      "600123/600123 [==============================] - 19s 31us/sample - loss: 0.6436 - mean_squared_error: 0.6436 - rmse: 0.7982 - val_loss: 0.8105 - val_mean_squared_error: 0.8105 - val_rmse: 0.8958\n",
      "Epoch 10/30\n",
      "600123/600123 [==============================] - 19s 31us/sample - loss: 0.6247 - mean_squared_error: 0.6247 - rmse: 0.7863 - val_loss: 0.8143 - val_mean_squared_error: 0.8143 - val_rmse: 0.8979\n",
      "Epoch 11/30\n",
      "600123/600123 [==============================] - 18s 31us/sample - loss: 0.6071 - mean_squared_error: 0.6071 - rmse: 0.7750 - val_loss: 0.8250 - val_mean_squared_error: 0.8250 - val_rmse: 0.9037\n",
      "Epoch 12/30\n",
      "600123/600123 [==============================] - 20s 33us/sample - loss: 0.5907 - mean_squared_error: 0.5907 - rmse: 0.7644 - val_loss: 0.8301 - val_mean_squared_error: 0.8301 - val_rmse: 0.9065\n",
      "Epoch 13/30\n",
      "600123/600123 [==============================] - 18s 30us/sample - loss: 0.5760 - mean_squared_error: 0.5760 - rmse: 0.7548 - val_loss: 0.8408 - val_mean_squared_error: 0.8408 - val_rmse: 0.9122\n",
      "Epoch 14/30\n",
      "600123/600123 [==============================] - 18s 30us/sample - loss: 0.5619 - mean_squared_error: 0.5619 - rmse: 0.7454 - val_loss: 0.8462 - val_mean_squared_error: 0.8462 - val_rmse: 0.9153\n",
      "Epoch 15/30\n",
      "600123/600123 [==============================] - 18s 30us/sample - loss: 0.5492 - mean_squared_error: 0.5492 - rmse: 0.7370 - val_loss: 0.8539 - val_mean_squared_error: 0.8539 - val_rmse: 0.9193\n",
      "Epoch 16/30\n",
      "600123/600123 [==============================] - 18s 30us/sample - loss: 0.5371 - mean_squared_error: 0.5371 - rmse: 0.7287 - val_loss: 0.8572 - val_mean_squared_error: 0.8572 - val_rmse: 0.9212\n",
      "Epoch 00016: early stopping\n"
     ]
    }
   ],
   "source": [
    "# model config\n",
    "BATCH_SIZE = 64\n",
    "EPOCHS = 30\n",
    "VAL_SPLIT = 0.25\n",
    "\n",
    "# train model\n",
    "history = train_model(\n",
    "    MLP_model,\n",
    "    'adam',\n",
    "    BATCH_SIZE,\n",
    "    EPOCHS,\n",
    "    VAL_SPLIT,\n",
    "    inputs=[train.uid.values, train.mid.values],\n",
    "    outputs=train.rating.values,\n",
    "    filepath='model/neural-mlp-weights.hdf5')"
   ]
  },
  {
   "cell_type": "markdown",
   "metadata": {},
   "source": [
    "##### MLP learning curve"
   ]
  },
  {
   "cell_type": "code",
   "execution_count": 31,
   "metadata": {},
   "outputs": [
    {
     "data": {
      "image/png": "[encoded data removed]",
      "text/plain": [
       "<Figure size 864x504 with 1 Axes>"
      ]
     },
     "metadata": {
      "needs_background": "light"
     },
     "output_type": "display_data"
    }
   ],
   "source": [
    "plot_learning_curve(history, 'rmse')"
   ]
  },
  {
   "cell_type": "markdown",
   "metadata": {},
   "source": [
    "#### MLP model testing"
   ]
  },
  {
   "cell_type": "markdown",
   "metadata": {},
   "source": [
    "##### And finally, make a prediction and check the testing error using out-of-sample data"
   ]
  },
  {
   "cell_type": "code",
   "execution_count": 32,
   "metadata": {},
   "outputs": [
    {
     "name": "stdout",
     "output_type": "stream",
     "text": [
      "The out-of-sample RMSE of rating predictions is 0.8864\n"
     ]
    }
   ],
   "source": [
    "# load best model\n",
    "MLP_model = get_MLP_model(num_users, num_items, [64, 32, 16, 8], [0, 0, 0, 0])\n",
    "MLP_model = load_trained_model(MLP_model, 'model/neural-mlp-weights.hdf5')\n",
    "\n",
    "# make prediction using test data\n",
    "predictions = MLP_model.predict([test.uid.values, test.mid.values])\n",
    "\n",
    "# get the RMSE\n",
    "error = rmse(test.rating.values, predictions)\n",
    "print('The out-of-sample RMSE of rating predictions is', round(error, 4))"
   ]
  },
  {
   "cell_type": "markdown",
   "metadata": {},
   "source": [
    "#### Train Neural Matrix Factorization (NeuralMF) and Test Model"
   ]
  },
  {
   "cell_type": "markdown",
   "metadata": {},
   "source": [
    "##### define NeuralMF model architeture"
   ]
  },
  {
   "cell_type": "code",
   "execution_count": 33,
   "metadata": {},
   "outputs": [],
   "source": [
    "def get_NeuralMF_model(num_users, num_items, MF_dim, MF_reg, MLP_layers, MLP_regs):\n",
    "    \"\"\"\n",
    "    Build Neural Matrix Factorization (NeuralMF) Model Topology.\n",
    "    This is stack version of both GMF and MLP\n",
    "    \n",
    "    Parameters\n",
    "    ----------\n",
    "    num_users: int, total number of users\n",
    "    num_iterms: int, total number of items\n",
    "    MF_dim: int, embedded dimension for user vector and item vector in MF\n",
    "    MF_reg: tuple of float, L2 regularization of MF embedded layer\n",
    "    MLP_layers: list of int, each element is the number of hidden units for each MLP layer,\n",
    "        with the exception of first element. First element is the sum of dims of\n",
    "        user latent vector and item latent vector\n",
    "    MLP_regs: list of int, each element is the L2 regularization parameter for\n",
    "        each layer in MLP\n",
    "\n",
    "    Return\n",
    "    ------\n",
    "    A Keras Model with MLP model architeture\n",
    "    \"\"\"\n",
    "    assert len(MLP_layers) == len(MLP_regs)\n",
    "    num_MLP_layer = len(MLP_layers) # Number of layers in the MLP\n",
    "    \n",
    "    # Input variables\n",
    "    user_input = Input(shape=(1,), dtype='int32', name='user_input')\n",
    "    item_input = Input(shape=(1,), dtype='int32', name='item_input')\n",
    "\n",
    "    # MF Embedding layer\n",
    "    mf_embedding_user = Embedding(\n",
    "        input_dim=num_users + 1,\n",
    "        output_dim=MF_dim,\n",
    "        embeddings_initializer='uniform',\n",
    "        name='mf_user_embedding',\n",
    "        embeddings_regularizer=l2(MF_reg[0]),\n",
    "        input_length=1)\n",
    "    \n",
    "    mf_embedding_item = Embedding(\n",
    "        input_dim=num_items + 1,\n",
    "        output_dim=MF_dim,\n",
    "        embeddings_initializer='uniform',\n",
    "        name='mf_item_embedding',\n",
    "        embeddings_regularizer=l2(MF_reg[1]),\n",
    "        input_length=1)\n",
    "    \n",
    "    # MLP\n",
    "    mlp_embedding_user = Embedding(\n",
    "        input_dim=num_users + 1,\n",
    "        output_dim=MLP_layers[0] // 2,\n",
    "        embeddings_initializer='uniform',\n",
    "        name='mlp_user_embedding',\n",
    "        embeddings_regularizer=l2(MLP_regs[0]),\n",
    "        input_length=1)\n",
    "    \n",
    "    mlp_embedding_Item = Embedding(\n",
    "        input_dim=num_items + 1,\n",
    "        output_dim=MLP_layers[0] // 2,\n",
    "        embeddings_initializer='uniform',\n",
    "        name='mlp_item_embedding',\n",
    "        embeddings_regularizer=l2(MLP_regs[0]),\n",
    "        input_length=1) \n",
    "    \n",
    "    # MF part\n",
    "    mf_user_latent = Flatten()(mf_embedding_user(user_input))\n",
    "    mf_item_latent = Flatten()(mf_embedding_item(item_input))\n",
    "    mf_vector = Multiply()([mf_user_latent, mf_item_latent])\n",
    "\n",
    "    # MLP part\n",
    "    mlp_user_latent = Flatten()(mlp_embedding_user(user_input))\n",
    "    mlp_item_latent = Flatten()(mlp_embedding_Item(item_input))\n",
    "    mlp_vector = Concatenate(axis=-1)([mlp_user_latent, mlp_item_latent])\n",
    "\n",
    "    for idx in range(1, num_MLP_layer):\n",
    "        layer = Dense(\n",
    "            units=MLP_layers[idx],\n",
    "            activation='relu',\n",
    "            kernel_initializer='glorot_uniform',\n",
    "            kernel_regularizer=l2(MLP_regs[idx]),\n",
    "            name = 'layer%d' %idx)\n",
    "        mlp_vector = layer(mlp_vector)\n",
    "    \n",
    "    # Concatenate MF and MLP parts\n",
    "    predict_vector = Concatenate(axis=-1)([mf_vector, mlp_vector])\n",
    "\n",
    "    # Final prediction layer\n",
    "    prediction = Dense(1, kernel_initializer='glorot_uniform', name='prediction')(predict_vector)\n",
    "    \n",
    "    # Stitch input and output\n",
    "    model = Model([user_input, item_input], prediction)\n",
    "    \n",
    "    return model"
   ]
  },
  {
   "cell_type": "markdown",
   "metadata": {},
   "source": [
    "##### create NeuralMF model"
   ]
  },
  {
   "cell_type": "code",
   "execution_count": 34,
   "metadata": {},
   "outputs": [
    {
     "name": "stdout",
     "output_type": "stream",
     "text": [
      "Model: \"model_5\"\n",
      "__________________________________________________________________________________________________\n",
      "Layer (type)                    Output Shape         Param #     Connected to                     \n",
      "==================================================================================================\n",
      "user_input (InputLayer)         [(None, 1)]          0                                            \n",
      "__________________________________________________________________________________________________\n",
      "item_input (InputLayer)         [(None, 1)]          0                                            \n",
      "__________________________________________________________________________________________________\n",
      "mlp_user_embedding (Embedding)  (None, 1, 32)        193312      user_input[0][0]                 \n",
      "__________________________________________________________________________________________________\n",
      "mlp_item_embedding (Embedding)  (None, 1, 32)        118624      item_input[0][0]                 \n",
      "__________________________________________________________________________________________________\n",
      "flatten_12 (Flatten)            (None, 32)           0           mlp_user_embedding[0][0]         \n",
      "__________________________________________________________________________________________________\n",
      "flatten_13 (Flatten)            (None, 32)           0           mlp_item_embedding[0][0]         \n",
      "__________________________________________________________________________________________________\n",
      "concatenate_2 (Concatenate)     (None, 64)           0           flatten_12[0][0]                 \n",
      "                                                                 flatten_13[0][0]                 \n",
      "__________________________________________________________________________________________________\n",
      "mf_user_embedding (Embedding)   (None, 1, 10)        60410       user_input[0][0]                 \n",
      "__________________________________________________________________________________________________\n",
      "mf_item_embedding (Embedding)   (None, 1, 10)        37070       item_input[0][0]                 \n",
      "__________________________________________________________________________________________________\n",
      "layer1 (Dense)                  (None, 32)           2080        concatenate_2[0][0]              \n",
      "__________________________________________________________________________________________________\n",
      "flatten_10 (Flatten)            (None, 10)           0           mf_user_embedding[0][0]          \n",
      "__________________________________________________________________________________________________\n",
      "flatten_11 (Flatten)            (None, 10)           0           mf_item_embedding[0][0]          \n",
      "__________________________________________________________________________________________________\n",
      "layer2 (Dense)                  (None, 16)           528         layer1[0][0]                     \n",
      "__________________________________________________________________________________________________\n",
      "multiply_3 (Multiply)           (None, 10)           0           flatten_10[0][0]                 \n",
      "                                                                 flatten_11[0][0]                 \n",
      "__________________________________________________________________________________________________\n",
      "layer3 (Dense)                  (None, 8)            136         layer2[0][0]                     \n",
      "__________________________________________________________________________________________________\n",
      "concatenate_3 (Concatenate)     (None, 18)           0           multiply_3[0][0]                 \n",
      "                                                                 layer3[0][0]                     \n",
      "__________________________________________________________________________________________________\n",
      "prediction (Dense)              (None, 1)            19          concatenate_3[0][0]              \n",
      "==================================================================================================\n",
      "Total params: 412,179\n",
      "Trainable params: 412,179\n",
      "Non-trainable params: 0\n",
      "__________________________________________________________________________________________________\n"
     ]
    }
   ],
   "source": [
    "NeuralMF_model = get_NeuralMF_model(\n",
    "    num_users=num_users,\n",
    "    num_items=num_items,\n",
    "    MF_dim=10,\n",
    "    MF_reg=(0, 0),\n",
    "    MLP_layers=[64, 32, 16, 8],\n",
    "    MLP_regs=[0, 0, 0, 0])\n",
    "NeuralMF_model.summary()"
   ]
  },
  {
   "cell_type": "markdown",
   "metadata": {},
   "source": [
    "##### train NeuralMF model"
   ]
  },
  {
   "cell_type": "code",
   "execution_count": 35,
   "metadata": {},
   "outputs": [
    {
     "name": "stdout",
     "output_type": "stream",
     "text": [
      "Train on 600123 samples, validate on 200042 samples\n",
      "Epoch 1/30\n",
      "600123/600123 [==============================] - 23s 38us/sample - loss: 0.9596 - mean_squared_error: 0.9596 - rmse: 0.9492 - val_loss: 0.8193 - val_mean_squared_error: 0.8193 - val_rmse: 0.9011\n",
      "Epoch 2/30\n",
      "600123/600123 [==============================] - 22s 37us/sample - loss: 0.7560 - mean_squared_error: 0.7560 - rmse: 0.8654 - val_loss: 0.7960 - val_mean_squared_error: 0.7960 - val_rmse: 0.8882\n",
      "Epoch 3/30\n",
      "600123/600123 [==============================] - 22s 36us/sample - loss: 0.6841 - mean_squared_error: 0.6841 - rmse: 0.8231 - val_loss: 0.7951 - val_mean_squared_error: 0.7951 - val_rmse: 0.8875\n",
      "Epoch 4/30\n",
      "600123/600123 [==============================] - 20s 33us/sample - loss: 0.6441 - mean_squared_error: 0.6441 - rmse: 0.7985 - val_loss: 0.8026 - val_mean_squared_error: 0.8026 - val_rmse: 0.8917\n",
      "Epoch 5/30\n",
      "600123/600123 [==============================] - 22s 37us/sample - loss: 0.6151 - mean_squared_error: 0.6151 - rmse: 0.7802 - val_loss: 0.8187 - val_mean_squared_error: 0.8187 - val_rmse: 0.9008\n",
      "Epoch 6/30\n",
      "600123/600123 [==============================] - 23s 39us/sample - loss: 0.5905 - mean_squared_error: 0.5905 - rmse: 0.7642 - val_loss: 0.8136 - val_mean_squared_error: 0.8136 - val_rmse: 0.8975\n",
      "Epoch 7/30\n",
      "600123/600123 [==============================] - 23s 39us/sample - loss: 0.5676 - mean_squared_error: 0.5676 - rmse: 0.7493 - val_loss: 0.8269 - val_mean_squared_error: 0.8269 - val_rmse: 0.9049\n",
      "Epoch 8/30\n",
      "600123/600123 [==============================] - 23s 39us/sample - loss: 0.5471 - mean_squared_error: 0.5471 - rmse: 0.7355 - val_loss: 0.8378 - val_mean_squared_error: 0.8378 - val_rmse: 0.9108\n",
      "Epoch 9/30\n",
      "600123/600123 [==============================] - 24s 39us/sample - loss: 0.5281 - mean_squared_error: 0.5281 - rmse: 0.7226 - val_loss: 0.8486 - val_mean_squared_error: 0.8486 - val_rmse: 0.9166\n",
      "Epoch 10/30\n",
      "600123/600123 [==============================] - 24s 39us/sample - loss: 0.5109 - mean_squared_error: 0.5109 - rmse: 0.7107 - val_loss: 0.8628 - val_mean_squared_error: 0.8628 - val_rmse: 0.9243\n",
      "Epoch 11/30\n",
      "600123/600123 [==============================] - 24s 40us/sample - loss: 0.4949 - mean_squared_error: 0.4949 - rmse: 0.6994 - val_loss: 0.8688 - val_mean_squared_error: 0.8689 - val_rmse: 0.9275\n",
      "Epoch 12/30\n",
      "600123/600123 [==============================] - 23s 38us/sample - loss: 0.4808 - mean_squared_error: 0.4808 - rmse: 0.6892 - val_loss: 0.8876 - val_mean_squared_error: 0.8876 - val_rmse: 0.9373\n",
      "Epoch 13/30\n",
      "600123/600123 [==============================] - 21s 35us/sample - loss: 0.4680 - mean_squared_error: 0.4680 - rmse: 0.6799 - val_loss: 0.8945 - val_mean_squared_error: 0.8945 - val_rmse: 0.9409\n",
      "Epoch 00013: early stopping\n"
     ]
    }
   ],
   "source": [
    "# model config\n",
    "BATCH_SIZE = 64\n",
    "EPOCHS = 30\n",
    "VAL_SPLIT = 0.25\n",
    "\n",
    "# train model\n",
    "history = train_model(\n",
    "    NeuralMF_model,\n",
    "    'adam',\n",
    "    BATCH_SIZE,\n",
    "    EPOCHS,\n",
    "    VAL_SPLIT,\n",
    "    inputs=[train.uid.values, train.mid.values],\n",
    "    outputs=train.rating.values,\n",
    "    filepath='model/neural-nmf-weights.hdf5')"
   ]
  },
  {
   "cell_type": "markdown",
   "metadata": {},
   "source": [
    "##### Neural Matrix Factorization (NeuralMF) learning curve"
   ]
  },
  {
   "cell_type": "code",
   "execution_count": 36,
   "metadata": {},
   "outputs": [
    {
     "data": {
      "image/png": "[encoded data removed]",
      "text/plain": [
       "<Figure size 864x504 with 1 Axes>"
      ]
     },
     "metadata": {
      "needs_background": "light"
     },
     "output_type": "display_data"
    }
   ],
   "source": [
    "plot_learning_curve(history, 'rmse')"
   ]
  },
  {
   "cell_type": "markdown",
   "metadata": {},
   "source": [
    "##### Neural Matrix Factorization (NeuralMF) model testing"
   ]
  },
  {
   "cell_type": "markdown",
   "metadata": {},
   "source": [
    "##### And finally, make a prediction and check the testing error using out-of-sample data"
   ]
  },
  {
   "cell_type": "code",
   "execution_count": 37,
   "metadata": {},
   "outputs": [
    {
     "name": "stdout",
     "output_type": "stream",
     "text": [
      "The out-of-sample RMSE of rating predictions is 0.8916\n"
     ]
    }
   ],
   "source": [
    "# load best model\n",
    "NeuralMF_model = get_NeuralMF_model(\n",
    "    num_users=num_users,\n",
    "    num_items=num_items,\n",
    "    MF_dim=10,\n",
    "    MF_reg=(0, 0),\n",
    "    MLP_layers=[64, 32, 16, 8],\n",
    "    MLP_regs=[0, 0, 0, 0])\n",
    "NeuralMF_model = load_trained_model(NeuralMF_model, 'model/neural-nmf-weights.hdf5')\n",
    "\n",
    "# make prediction using test data\n",
    "predictions = NeuralMF_model.predict([test.uid.values, test.mid.values])\n",
    "\n",
    "# get the RMSE\n",
    "error = rmse(test.rating.values, predictions)\n",
    "print('The out-of-sample RMSE of rating predictions is', round(error, 4))"
   ]
  },
  {
   "cell_type": "markdown",
   "metadata": {},
   "source": [
    "##### Recommendation"
   ]
  },
  {
   "cell_type": "code",
   "execution_count": 38,
   "metadata": {},
   "outputs": [],
   "source": [
    "ratings = load_ratings()\n",
    "ratings = reduce_item_dim(ratings)"
   ]
  },
  {
   "cell_type": "code",
   "execution_count": 39,
   "metadata": {},
   "outputs": [],
   "source": [
    "# Creating dataset for making recommendations for the user\n",
    "uid = 1998\n",
    "movie_data = np.array(list(set(ratings.mid)))\n",
    "user_data = np.array([uid for i in range(len(movie_data))])"
   ]
  },
  {
   "cell_type": "code",
   "execution_count": 40,
   "metadata": {},
   "outputs": [
    {
     "data": {
      "text/html": [
       "<div>\n",
       "<style scoped>\n",
       "    .dataframe tbody tr th:only-of-type {\n",
       "        vertical-align: middle;\n",
       "    }\n",
       "\n",
       "    .dataframe tbody tr th {\n",
       "        vertical-align: top;\n",
       "    }\n",
       "\n",
       "    .dataframe thead th {\n",
       "        text-align: right;\n",
       "    }\n",
       "</style>\n",
       "<table border=\"1\" class=\"dataframe\">\n",
       "  <thead>\n",
       "    <tr style=\"text-align: right;\">\n",
       "      <th></th>\n",
       "      <th>uid</th>\n",
       "      <th>mid</th>\n",
       "      <th>rating</th>\n",
       "      <th>movie_name</th>\n",
       "      <th>movie_genre</th>\n",
       "    </tr>\n",
       "  </thead>\n",
       "  <tbody>\n",
       "    <tr>\n",
       "      <th>339145</th>\n",
       "      <td>1998</td>\n",
       "      <td>1177</td>\n",
       "      <td>5</td>\n",
       "      <td>Enchanted April (1991)</td>\n",
       "      <td>Drama</td>\n",
       "    </tr>\n",
       "    <tr>\n",
       "      <th>339273</th>\n",
       "      <td>1998</td>\n",
       "      <td>2825</td>\n",
       "      <td>5</td>\n",
       "      <td>Rosie (1998)</td>\n",
       "      <td>Drama</td>\n",
       "    </tr>\n",
       "    <tr>\n",
       "      <th>339123</th>\n",
       "      <td>1998</td>\n",
       "      <td>1130</td>\n",
       "      <td>5</td>\n",
       "      <td>Howling, The (1980)</td>\n",
       "      <td>Horror</td>\n",
       "    </tr>\n",
       "    <tr>\n",
       "      <th>339125</th>\n",
       "      <td>1998</td>\n",
       "      <td>1133</td>\n",
       "      <td>5</td>\n",
       "      <td>Talking About Sex (1994)</td>\n",
       "      <td>Comedy|Drama</td>\n",
       "    </tr>\n",
       "    <tr>\n",
       "      <th>339278</th>\n",
       "      <td>1998</td>\n",
       "      <td>2872</td>\n",
       "      <td>5</td>\n",
       "      <td>Excalibur (1981)</td>\n",
       "      <td>Action|Drama|Fantasy|Romance</td>\n",
       "    </tr>\n",
       "    <tr>\n",
       "      <th>339126</th>\n",
       "      <td>1998</td>\n",
       "      <td>1135</td>\n",
       "      <td>5</td>\n",
       "      <td>Private Benjamin (1980)</td>\n",
       "      <td>Comedy</td>\n",
       "    </tr>\n",
       "    <tr>\n",
       "      <th>339286</th>\n",
       "      <td>1998</td>\n",
       "      <td>2898</td>\n",
       "      <td>5</td>\n",
       "      <td>Dark Half, The (1993)</td>\n",
       "      <td>Horror|Mystery</td>\n",
       "    </tr>\n",
       "    <tr>\n",
       "      <th>339130</th>\n",
       "      <td>1998</td>\n",
       "      <td>1143</td>\n",
       "      <td>5</td>\n",
       "      <td>Three Lives and Only One Death (1996)</td>\n",
       "      <td>Comedy</td>\n",
       "    </tr>\n",
       "    <tr>\n",
       "      <th>339061</th>\n",
       "      <td>1998</td>\n",
       "      <td>858</td>\n",
       "      <td>5</td>\n",
       "      <td>Godfather, The (1972)</td>\n",
       "      <td>Action|Crime|Drama</td>\n",
       "    </tr>\n",
       "    <tr>\n",
       "      <th>339056</th>\n",
       "      <td>1998</td>\n",
       "      <td>851</td>\n",
       "      <td>5</td>\n",
       "      <td>Basquiat (1996)</td>\n",
       "      <td>Drama</td>\n",
       "    </tr>\n",
       "  </tbody>\n",
       "</table>\n",
       "</div>"
      ],
      "text/plain": [
       "         uid   mid  rating                             movie_name  \\\n",
       "339145  1998  1177       5                 Enchanted April (1991)   \n",
       "339273  1998  2825       5                           Rosie (1998)   \n",
       "339123  1998  1130       5                    Howling, The (1980)   \n",
       "339125  1998  1133       5               Talking About Sex (1994)   \n",
       "339278  1998  2872       5                       Excalibur (1981)   \n",
       "339126  1998  1135       5                Private Benjamin (1980)   \n",
       "339286  1998  2898       5                  Dark Half, The (1993)   \n",
       "339130  1998  1143       5  Three Lives and Only One Death (1996)   \n",
       "339061  1998   858       5                  Godfather, The (1972)   \n",
       "339056  1998   851       5                        Basquiat (1996)   \n",
       "\n",
       "                         movie_genre  \n",
       "339145                         Drama  \n",
       "339273                         Drama  \n",
       "339123                        Horror  \n",
       "339125                  Comedy|Drama  \n",
       "339278  Action|Drama|Fantasy|Romance  \n",
       "339126                        Comedy  \n",
       "339286                Horror|Mystery  \n",
       "339130                        Comedy  \n",
       "339061            Action|Crime|Drama  \n",
       "339056                         Drama  "
      ]
     },
     "execution_count": 40,
     "metadata": {},
     "output_type": "execute_result"
    }
   ],
   "source": [
    "users = load_users()\n",
    "movies = load_movies()\n",
    "users_movies_ratings = ratings.join(movies.set_index('mid'), on = 'mid', how = 'left')\n",
    "users_movies_ratings = users_movies_ratings.join(users.set_index('uid'), on = 'uid', how = 'left')\n",
    "\n",
    "user_preferences = users_movies_ratings[(users_movies_ratings.uid == uid)].sort_values(['rating'], ascending=[0])\n",
    "user_preferences = user_preferences[user_preferences['movie_name'].notnull()]\n",
    "user_preferences[['uid','mid','rating','movie_name','movie_genre']].head(10)"
   ]
  },
  {
   "cell_type": "code",
   "execution_count": 41,
   "metadata": {},
   "outputs": [
    {
     "data": {
      "text/html": [
       "<div>\n",
       "<style scoped>\n",
       "    .dataframe tbody tr th:only-of-type {\n",
       "        vertical-align: middle;\n",
       "    }\n",
       "\n",
       "    .dataframe tbody tr th {\n",
       "        vertical-align: top;\n",
       "    }\n",
       "\n",
       "    .dataframe thead th {\n",
       "        text-align: right;\n",
       "    }\n",
       "</style>\n",
       "<table border=\"1\" class=\"dataframe\">\n",
       "  <thead>\n",
       "    <tr style=\"text-align: right;\">\n",
       "      <th></th>\n",
       "      <th>uid</th>\n",
       "      <th>mid</th>\n",
       "      <th>rating</th>\n",
       "      <th>movie_name</th>\n",
       "      <th>movie_genre</th>\n",
       "    </tr>\n",
       "  </thead>\n",
       "  <tbody>\n",
       "    <tr>\n",
       "      <th>997100</th>\n",
       "      <td>6020</td>\n",
       "      <td>2021</td>\n",
       "      <td>5</td>\n",
       "      <td>Dune (1984)</td>\n",
       "      <td>Fantasy|Sci-Fi</td>\n",
       "    </tr>\n",
       "    <tr>\n",
       "      <th>999583</th>\n",
       "      <td>6037</td>\n",
       "      <td>1117</td>\n",
       "      <td>5</td>\n",
       "      <td>Eighth Day, The (Le Huitième jour ) (1996)</td>\n",
       "      <td>Drama</td>\n",
       "    </tr>\n",
       "    <tr>\n",
       "      <th>999767</th>\n",
       "      <td>6039</td>\n",
       "      <td>853</td>\n",
       "      <td>4</td>\n",
       "      <td>Dingo (1992)</td>\n",
       "      <td>Drama</td>\n",
       "    </tr>\n",
       "    <tr>\n",
       "      <th>999799</th>\n",
       "      <td>6039</td>\n",
       "      <td>1066</td>\n",
       "      <td>4</td>\n",
       "      <td>Shall We Dance? (1937)</td>\n",
       "      <td>Comedy|Musical|Romance</td>\n",
       "    </tr>\n",
       "    <tr>\n",
       "      <th>999801</th>\n",
       "      <td>6039</td>\n",
       "      <td>1107</td>\n",
       "      <td>4</td>\n",
       "      <td>Loser (1991)</td>\n",
       "      <td>Comedy</td>\n",
       "    </tr>\n",
       "    <tr>\n",
       "      <th>999889</th>\n",
       "      <td>6040</td>\n",
       "      <td>253</td>\n",
       "      <td>4</td>\n",
       "      <td>Interview with the Vampire (1994)</td>\n",
       "      <td>Drama|Horror</td>\n",
       "    </tr>\n",
       "    <tr>\n",
       "      <th>999921</th>\n",
       "      <td>6040</td>\n",
       "      <td>721</td>\n",
       "      <td>5</td>\n",
       "      <td>Halfmoon (Paul Bowles - Halbmond) (1995)</td>\n",
       "      <td>Drama</td>\n",
       "    </tr>\n",
       "    <tr>\n",
       "      <th>999934</th>\n",
       "      <td>6040</td>\n",
       "      <td>858</td>\n",
       "      <td>5</td>\n",
       "      <td>Godfather, The (1972)</td>\n",
       "      <td>Action|Crime|Drama</td>\n",
       "    </tr>\n",
       "    <tr>\n",
       "      <th>1000059</th>\n",
       "      <td>6040</td>\n",
       "      <td>1767</td>\n",
       "      <td>4</td>\n",
       "      <td>Music From Another Room (1998)</td>\n",
       "      <td>Drama|Romance</td>\n",
       "    </tr>\n",
       "  </tbody>\n",
       "</table>\n",
       "</div>"
      ],
      "text/plain": [
       "          uid   mid  rating                                  movie_name  \\\n",
       "997100   6020  2021       5                                 Dune (1984)   \n",
       "999583   6037  1117       5  Eighth Day, The (Le Huitième jour ) (1996)   \n",
       "999767   6039   853       4                                Dingo (1992)   \n",
       "999799   6039  1066       4                      Shall We Dance? (1937)   \n",
       "999801   6039  1107       4                                Loser (1991)   \n",
       "999889   6040   253       4           Interview with the Vampire (1994)   \n",
       "999921   6040   721       5    Halfmoon (Paul Bowles - Halbmond) (1995)   \n",
       "999934   6040   858       5                       Godfather, The (1972)   \n",
       "1000059  6040  1767       4              Music From Another Room (1998)   \n",
       "\n",
       "                    movie_genre  \n",
       "997100           Fantasy|Sci-Fi  \n",
       "999583                    Drama  \n",
       "999767                    Drama  \n",
       "999799   Comedy|Musical|Romance  \n",
       "999801                   Comedy  \n",
       "999889             Drama|Horror  \n",
       "999921                    Drama  \n",
       "999934       Action|Crime|Drama  \n",
       "1000059           Drama|Romance  "
      ]
     },
     "execution_count": 41,
     "metadata": {},
     "output_type": "execute_result"
    }
   ],
   "source": [
    "predictions = NeuralMF_model.predict([user_data, movie_data])\n",
    "predictions = np.array([a[0] for a in predictions])\n",
    "recommended_movie_ids = (-predictions).argsort()[:10]\n",
    "\n",
    "recommendations = users_movies_ratings[users_movies_ratings['mid'].isin(recommended_movie_ids)]\n",
    "recommendations = recommendations[recommendations['movie_name'].notnull()]\n",
    "recommendations = recommendations.drop_duplicates(subset='movie_name', keep=\"last\")\n",
    "recommendations[['uid','mid','rating','movie_name','movie_genre']].head(10)"
   ]
  },
  {
   "cell_type": "code",
   "execution_count": null,
   "metadata": {},
   "outputs": [],
   "source": []
  }
 ],
 "metadata": {
  "kernelspec": {
   "display_name": "Python 3",
   "language": "python",
   "name": "python3"
  },
  "language_info": {
   "codemirror_mode": {
    "name": "ipython",
    "version": 3
   },
   "file_extension": ".py",
   "mimetype": "text/x-python",
   "name": "python",
   "nbconvert_exporter": "python",
   "pygments_lexer": "ipython3",
   "version": "3.7.6"
  }
 },
 "nbformat": 4,
 "nbformat_minor": 4
}
