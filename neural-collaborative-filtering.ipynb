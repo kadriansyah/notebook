{
 "cells": [
  {
   "cell_type": "markdown",
   "metadata": {},
   "source": [
    "##### source: https://github.com/KevinLiao159/MyDataSciencePortfolio/blob/master/movie_recommender/movie_recommendation_using_NeuMF.ipynb"
   ]
  },
  {
   "cell_type": "code",
   "execution_count": 172,
   "metadata": {},
   "outputs": [],
   "source": [
    "import os\n",
    "\n",
    "# data science imports\n",
    "import numpy as np\n",
    "import pandas as pd\n",
    "\n",
    "import tensorflow as tf\n",
    "import tensorflow.keras.backend as K\n",
    "\n",
    "# sklearn imports\n",
    "from sklearn.model_selection import train_test_split\n",
    "\n",
    "# keras/tensorflow imports\n",
    "from tensorflow.keras.layers import Input, Embedding, Flatten, Dense, Multiply, Concatenate\n",
    "from tensorflow.keras.regularizers import l2\n",
    "from tensorflow.keras.models import Model\n",
    "\n",
    "# from tensorflow.keras.optimizers import Adagrad, Adam, SGD, RMSprop\n",
    "from tensorflow.keras.callbacks import EarlyStopping, ModelCheckpoint\n",
    "from tensorflow.keras.models import load_model\n",
    "\n",
    "# visualization imports\n",
    "import matplotlib.pyplot as plt\n",
    "%matplotlib inline"
   ]
  },
  {
   "cell_type": "code",
   "execution_count": 215,
   "metadata": {},
   "outputs": [],
   "source": [
    "def load_ratings():\n",
    "    COL_NAME = ['uid','mid','rating','timestamp']\n",
    "    df = pd.read_csv('data/movie-ratings.dat',sep='::', header=None, engine='python', names=COL_NAME)\n",
    "    return df\n",
    "\n",
    "def load_movies():\n",
    "    COL_NAME = ['mid','movie_name','movie_genre']\n",
    "    df = pd.read_csv('data/movie-movies.dat',sep='::', header=None, engine='python', names=COL_NAME)\n",
    "    return df\n",
    "\n",
    "def load_users():\n",
    "    COL_NAME = ['uid','user_fea1','user_fea2','user_fea3','user_fea4']\n",
    "    df = pd.read_csv('data/movie-users.dat',sep='::', header=None, engine='python', names=COL_NAME)\n",
    "    return df"
   ]
  },
  {
   "cell_type": "code",
   "execution_count": 174,
   "metadata": {},
   "outputs": [
    {
     "data": {
      "text/html": [
       "<div>\n",
       "<style scoped>\n",
       "    .dataframe tbody tr th:only-of-type {\n",
       "        vertical-align: middle;\n",
       "    }\n",
       "\n",
       "    .dataframe tbody tr th {\n",
       "        vertical-align: top;\n",
       "    }\n",
       "\n",
       "    .dataframe thead th {\n",
       "        text-align: right;\n",
       "    }\n",
       "</style>\n",
       "<table border=\"1\" class=\"dataframe\">\n",
       "  <thead>\n",
       "    <tr style=\"text-align: right;\">\n",
       "      <th></th>\n",
       "      <th>uid</th>\n",
       "      <th>mid</th>\n",
       "      <th>rating</th>\n",
       "      <th>timestamp</th>\n",
       "    </tr>\n",
       "  </thead>\n",
       "  <tbody>\n",
       "    <tr>\n",
       "      <th>0</th>\n",
       "      <td>1</td>\n",
       "      <td>1193</td>\n",
       "      <td>5</td>\n",
       "      <td>978300760</td>\n",
       "    </tr>\n",
       "    <tr>\n",
       "      <th>1</th>\n",
       "      <td>1</td>\n",
       "      <td>661</td>\n",
       "      <td>3</td>\n",
       "      <td>978302109</td>\n",
       "    </tr>\n",
       "    <tr>\n",
       "      <th>2</th>\n",
       "      <td>1</td>\n",
       "      <td>914</td>\n",
       "      <td>3</td>\n",
       "      <td>978301968</td>\n",
       "    </tr>\n",
       "    <tr>\n",
       "      <th>3</th>\n",
       "      <td>1</td>\n",
       "      <td>3408</td>\n",
       "      <td>4</td>\n",
       "      <td>978300275</td>\n",
       "    </tr>\n",
       "    <tr>\n",
       "      <th>4</th>\n",
       "      <td>1</td>\n",
       "      <td>2355</td>\n",
       "      <td>5</td>\n",
       "      <td>978824291</td>\n",
       "    </tr>\n",
       "  </tbody>\n",
       "</table>\n",
       "</div>"
      ],
      "text/plain": [
       "   uid   mid  rating  timestamp\n",
       "0    1  1193       5  978300760\n",
       "1    1   661       3  978302109\n",
       "2    1   914       3  978301968\n",
       "3    1  3408       4  978300275\n",
       "4    1  2355       5  978824291"
      ]
     },
     "execution_count": 174,
     "metadata": {},
     "output_type": "execute_result"
    }
   ],
   "source": [
    "ratings = load_ratings()\n",
    "ratings.head()"
   ]
  },
  {
   "cell_type": "code",
   "execution_count": 175,
   "metadata": {},
   "outputs": [
    {
     "name": "stdout",
     "output_type": "stream",
     "text": [
      "There are 6040 unique users and 3706 unique movies in this data set\n"
     ]
    }
   ],
   "source": [
    "num_users = len(ratings.uid.unique())\n",
    "num_items = len(ratings.mid.unique())\n",
    "print('There are {} unique users and {} unique movies in this data set'.format(num_users, num_items))"
   ]
  },
  {
   "cell_type": "code",
   "execution_count": 176,
   "metadata": {},
   "outputs": [
    {
     "name": "stdout",
     "output_type": "stream",
     "text": [
      "There are 6040 distinct users and the max of uid is also 6040\n",
      "There are 3706 distinct movies, however, the max of mid is 3952\n",
      "In the context of matrix factorization, the current item vector is in unnecessarily high dimensional space\n",
      "So we need to do some data cleaning to reduce the dimension of item vector back to 3706\n"
     ]
    }
   ],
   "source": [
    "user_max_id = ratings.uid.max()\n",
    "item_max_id = ratings.mid.max()\n",
    "print('There are {} distinct users and the max of uid is also {}'.format(num_users, user_max_id))\n",
    "print('There are {} distinct movies, however, the max of mid is {}'.format(num_items, item_max_id))\n",
    "print('In the context of matrix factorization, the current item vector is in unnecessarily high dimensional space')\n",
    "print('So we need to do some data cleaning to reduce the dimension of item vector back to {}'.format(num_items))"
   ]
  },
  {
   "cell_type": "code",
   "execution_count": 177,
   "metadata": {},
   "outputs": [],
   "source": [
    "def reduce_item_dim(ratings):\n",
    "    \"\"\"\n",
    "    Reduce item vector dimension to the number of distinct items in our data sets\n",
    "    \n",
    "    input : pd.DataFrame, ratings should have columns ['uid', 'mid', 'rating']\n",
    "    output: pd.DataFrame, ratings with new 'mid' that is compressed\n",
    "    \"\"\"\n",
    "    # pivot\n",
    "    user_item = ratings.pivot(index='uid', columns='mid', values='rating')\n",
    "    \n",
    "    # reset mid\n",
    "    user_item = user_item.T.reset_index(drop=True).T\n",
    "    \n",
    "    # undo pivot/melt - compress data frame\n",
    "    ratings_new = user_item.reset_index('uid').melt(id_vars='uid', value_vars=user_item.columns, var_name='mid', value_name='rating')\n",
    "\n",
    "    # drop nan and final clean up\n",
    "    ratings_new = ratings_new.dropna().sort_values(['uid', 'mid']).reset_index(drop=True)\n",
    "    \n",
    "#     return ratings_new\n",
    "    return ratings_new.astype(int)\n",
    "    \"\"\"\n",
    "    note:\n",
    "    Your sample data may not show it, but the results of your pivot operation possibly contain NaNs,\n",
    "    which are of float type, so the rest of the column is also upcasted to float automatically by pandas for efficient computation.\n",
    "    Note that the NaNs are filled by zeros (fill_value=0), so you don't get to see them.\n",
    "    For example, there is no row with objectid = 32233 and value = 0, so that corresponding entry in your pivot result shows up as NaN,\n",
    "    which then gets filled with 0.\n",
    "    Now that it's clear why the columns are upcasted, you can reset the datatype using astype:\n",
    "    p = p.astype(int)\n",
    "    \"\"\""
   ]
  },
  {
   "cell_type": "code",
   "execution_count": 178,
   "metadata": {},
   "outputs": [
    {
     "name": "stdout",
     "output_type": "stream",
     "text": [
      "reduce item dimension before:\n"
     ]
    },
    {
     "data": {
      "text/html": [
       "<div>\n",
       "<style scoped>\n",
       "    .dataframe tbody tr th:only-of-type {\n",
       "        vertical-align: middle;\n",
       "    }\n",
       "\n",
       "    .dataframe tbody tr th {\n",
       "        vertical-align: top;\n",
       "    }\n",
       "\n",
       "    .dataframe thead th {\n",
       "        text-align: right;\n",
       "    }\n",
       "</style>\n",
       "<table border=\"1\" class=\"dataframe\">\n",
       "  <thead>\n",
       "    <tr style=\"text-align: right;\">\n",
       "      <th></th>\n",
       "      <th>uid</th>\n",
       "      <th>mid</th>\n",
       "      <th>rating</th>\n",
       "      <th>timestamp</th>\n",
       "    </tr>\n",
       "  </thead>\n",
       "  <tbody>\n",
       "    <tr>\n",
       "      <th>0</th>\n",
       "      <td>1</td>\n",
       "      <td>1193</td>\n",
       "      <td>5</td>\n",
       "      <td>978300760</td>\n",
       "    </tr>\n",
       "    <tr>\n",
       "      <th>1</th>\n",
       "      <td>1</td>\n",
       "      <td>661</td>\n",
       "      <td>3</td>\n",
       "      <td>978302109</td>\n",
       "    </tr>\n",
       "    <tr>\n",
       "      <th>2</th>\n",
       "      <td>1</td>\n",
       "      <td>914</td>\n",
       "      <td>3</td>\n",
       "      <td>978301968</td>\n",
       "    </tr>\n",
       "    <tr>\n",
       "      <th>3</th>\n",
       "      <td>1</td>\n",
       "      <td>3408</td>\n",
       "      <td>4</td>\n",
       "      <td>978300275</td>\n",
       "    </tr>\n",
       "    <tr>\n",
       "      <th>4</th>\n",
       "      <td>1</td>\n",
       "      <td>2355</td>\n",
       "      <td>5</td>\n",
       "      <td>978824291</td>\n",
       "    </tr>\n",
       "  </tbody>\n",
       "</table>\n",
       "</div>"
      ],
      "text/plain": [
       "   uid   mid  rating  timestamp\n",
       "0    1  1193       5  978300760\n",
       "1    1   661       3  978302109\n",
       "2    1   914       3  978301968\n",
       "3    1  3408       4  978300275\n",
       "4    1  2355       5  978824291"
      ]
     },
     "execution_count": 178,
     "metadata": {},
     "output_type": "execute_result"
    }
   ],
   "source": [
    "print('reduce item dimension before:')\n",
    "ratings.head()"
   ]
  },
  {
   "cell_type": "code",
   "execution_count": 179,
   "metadata": {},
   "outputs": [
    {
     "name": "stdout",
     "output_type": "stream",
     "text": [
      "reduce item dimension after:\n"
     ]
    },
    {
     "data": {
      "text/html": [
       "<div>\n",
       "<style scoped>\n",
       "    .dataframe tbody tr th:only-of-type {\n",
       "        vertical-align: middle;\n",
       "    }\n",
       "\n",
       "    .dataframe tbody tr th {\n",
       "        vertical-align: top;\n",
       "    }\n",
       "\n",
       "    .dataframe thead th {\n",
       "        text-align: right;\n",
       "    }\n",
       "</style>\n",
       "<table border=\"1\" class=\"dataframe\">\n",
       "  <thead>\n",
       "    <tr style=\"text-align: right;\">\n",
       "      <th></th>\n",
       "      <th>uid</th>\n",
       "      <th>mid</th>\n",
       "      <th>rating</th>\n",
       "    </tr>\n",
       "  </thead>\n",
       "  <tbody>\n",
       "    <tr>\n",
       "      <th>0</th>\n",
       "      <td>1</td>\n",
       "      <td>0</td>\n",
       "      <td>5</td>\n",
       "    </tr>\n",
       "    <tr>\n",
       "      <th>1</th>\n",
       "      <td>1</td>\n",
       "      <td>47</td>\n",
       "      <td>5</td>\n",
       "    </tr>\n",
       "    <tr>\n",
       "      <th>2</th>\n",
       "      <td>1</td>\n",
       "      <td>144</td>\n",
       "      <td>5</td>\n",
       "    </tr>\n",
       "    <tr>\n",
       "      <th>3</th>\n",
       "      <td>1</td>\n",
       "      <td>253</td>\n",
       "      <td>4</td>\n",
       "    </tr>\n",
       "    <tr>\n",
       "      <th>4</th>\n",
       "      <td>1</td>\n",
       "      <td>513</td>\n",
       "      <td>5</td>\n",
       "    </tr>\n",
       "  </tbody>\n",
       "</table>\n",
       "</div>"
      ],
      "text/plain": [
       "   uid  mid  rating\n",
       "0    1    0       5\n",
       "1    1   47       5\n",
       "2    1  144       5\n",
       "3    1  253       4\n",
       "4    1  513       5"
      ]
     },
     "execution_count": 179,
     "metadata": {},
     "output_type": "execute_result"
    }
   ],
   "source": [
    "ratings = reduce_item_dim(ratings)\n",
    "print('reduce item dimension after:')\n",
    "ratings.head()"
   ]
  },
  {
   "cell_type": "markdown",
   "metadata": {},
   "source": [
    "##### Split Data Into Train/Test"
   ]
  },
  {
   "cell_type": "code",
   "execution_count": 180,
   "metadata": {},
   "outputs": [
    {
     "name": "stdout",
     "output_type": "stream",
     "text": [
      "shape of training data set:\n",
      "(800167, 3)\n",
      "shape of test data set:\n",
      "(200042, 3)\n"
     ]
    }
   ],
   "source": [
    "train, test = train_test_split(ratings, test_size=0.2, shuffle=True, random_state=99)\n",
    "print('shape of training data set:')\n",
    "print(train.shape)\n",
    "print('shape of test data set:')\n",
    "print(test.shape)"
   ]
  },
  {
   "cell_type": "markdown",
   "metadata": {},
   "source": [
    "##### Train Generalized Matrix Factorization and Test Model"
   ]
  },
  {
   "cell_type": "markdown",
   "metadata": {},
   "source": [
    "##### define GMF model architeture and train routine"
   ]
  },
  {
   "cell_type": "code",
   "execution_count": 181,
   "metadata": {},
   "outputs": [],
   "source": [
    "def get_GMF_model(num_users, num_items, latent_dim, vu_reg, vi_reg):\n",
    "    \"\"\"\n",
    "    Build Generalized Matrix Factorization Model Topology\n",
    "    \n",
    "    Parameters\n",
    "    ----------\n",
    "    num_users: int, total number of users\n",
    "    num_iterms: int, total number of items\n",
    "    latent_dim: int, embedded dimension for user vector and item vector\n",
    "    vu_reg: float, L2 regularization of user embedded layer\n",
    "    vi_reg: float, L2 regularization of item embedded layer\n",
    "\n",
    "    Return\n",
    "    ------\n",
    "    A Keras Model with GMF model architeture\n",
    "    \"\"\"\n",
    "    # Input variables\n",
    "    user_input = Input(shape=(1,), dtype='int32', name='user_input')\n",
    "    item_input = Input(shape=(1,), dtype='int32', name='item_input')\n",
    "\n",
    "    mf_embedding_user = Embedding(\n",
    "        input_dim = num_users + 1,\n",
    "        output_dim = latent_dim,\n",
    "        embeddings_initializer = 'uniform',\n",
    "        name = 'user_embedding',\n",
    "        embeddings_regularizer = l2(vu_reg),\n",
    "        input_length = 1\n",
    "    )\n",
    "    \n",
    "    mf_embedding_item = Embedding(\n",
    "        input_dim = num_items + 1,\n",
    "        output_dim = latent_dim,\n",
    "        embeddings_initializer = 'uniform',\n",
    "        name = 'item_embedding',\n",
    "        embeddings_regularizer = l2(vi_reg),\n",
    "        input_length = 1\n",
    "    ) \n",
    "    \n",
    "    # Crucial to flatten an embedding vector!\n",
    "    user_latent = Flatten()(mf_embedding_user(user_input))\n",
    "    item_latent = Flatten()(mf_embedding_item(item_input))\n",
    "\n",
    "    # Element-wise product of user and item embeddings \n",
    "    predict_vector = Multiply()([user_latent, item_latent])\n",
    "    \n",
    "    # Final prediction layer\n",
    "    prediction = Dense(1, kernel_initializer='glorot_uniform', name='prediction')(predict_vector)\n",
    "    \n",
    "    # Stitch input and output\n",
    "    model = Model([user_input, item_input], prediction)\n",
    "    \n",
    "    return model\n",
    "\n",
    "def train_model(model, learner, batch_size, epochs, val_split, inputs, outputs, filepath):\n",
    "    \"\"\"\n",
    "    define training routine, train models and save best model\n",
    "    \n",
    "    Parameters\n",
    "    ----------\n",
    "    model: a Keras model\n",
    "    learner: str, one of ['sgd', 'adam', 'rmsprop', 'adagrad']\n",
    "    batch_size: num samples per update\n",
    "    epochs: num iterations\n",
    "    val_split: split ratio for validation data\n",
    "    inputs: inputs data\n",
    "    outputs: outputs data\n",
    "    \"\"\"\n",
    "    # add customized metric\n",
    "    def rmse(y_true, y_pred):\n",
    "        return K.sqrt(K.mean(K.square(y_true - y_pred)))\n",
    "    \n",
    "    # compile model\n",
    "    model.compile(optimizer=learner.lower(), loss='mean_squared_error', metrics=['mean_squared_error', rmse])\n",
    "    \n",
    "    # add call backs\n",
    "    early_stopper = EarlyStopping(monitor='val_rmse', patience=10, verbose=1)\n",
    "    model_saver = ModelCheckpoint(filepath=filepath, monitor='val_rmse', save_best_only=True, save_weights_only=True)\n",
    "    \n",
    "    # train model\n",
    "    history = model.fit(inputs, outputs, batch_size=batch_size, epochs=epochs, validation_split=val_split, callbacks=[early_stopper, model_saver])\n",
    "    \n",
    "    return history\n",
    "\n",
    "def load_trained_model(model, weights_path):\n",
    "    model.load_weights(weights_path)\n",
    "    return model"
   ]
  },
  {
   "cell_type": "markdown",
   "metadata": {},
   "source": [
    "##### create GMF model"
   ]
  },
  {
   "cell_type": "code",
   "execution_count": 182,
   "metadata": {},
   "outputs": [
    {
     "name": "stdout",
     "output_type": "stream",
     "text": [
      "Model: \"model_14\"\n",
      "__________________________________________________________________________________________________\n",
      "Layer (type)                    Output Shape         Param #     Connected to                     \n",
      "==================================================================================================\n",
      "user_input (InputLayer)         [(None, 1)]          0                                            \n",
      "__________________________________________________________________________________________________\n",
      "item_input (InputLayer)         [(None, 1)]          0                                            \n",
      "__________________________________________________________________________________________________\n",
      "user_embedding (Embedding)      (None, 1, 10)        60410       user_input[0][0]                 \n",
      "__________________________________________________________________________________________________\n",
      "item_embedding (Embedding)      (None, 1, 10)        37070       item_input[0][0]                 \n",
      "__________________________________________________________________________________________________\n",
      "flatten_36 (Flatten)            (None, 10)           0           user_embedding[0][0]             \n",
      "__________________________________________________________________________________________________\n",
      "flatten_37 (Flatten)            (None, 10)           0           item_embedding[0][0]             \n",
      "__________________________________________________________________________________________________\n",
      "multiply_12 (Multiply)          (None, 10)           0           flatten_36[0][0]                 \n",
      "                                                                 flatten_37[0][0]                 \n",
      "__________________________________________________________________________________________________\n",
      "prediction (Dense)              (None, 1)            11          multiply_12[0][0]                \n",
      "==================================================================================================\n",
      "Total params: 97,491\n",
      "Trainable params: 97,491\n",
      "Non-trainable params: 0\n",
      "__________________________________________________________________________________________________\n"
     ]
    }
   ],
   "source": [
    "GMF_model = get_GMF_model(num_users, num_items, 10, 0, 0)\n",
    "GMF_model.summary()"
   ]
  },
  {
   "cell_type": "markdown",
   "metadata": {},
   "source": [
    "##### train GMF model"
   ]
  },
  {
   "cell_type": "code",
   "execution_count": 183,
   "metadata": {},
   "outputs": [
    {
     "name": "stdout",
     "output_type": "stream",
     "text": [
      "Train on 600125 samples, validate on 200042 samples\n",
      "Epoch 1/30\n",
      "600125/600125 [==============================] - 13s 21us/sample - loss: 2.5135 - mean_squared_error: 2.5136 - rmse: 1.3748 - val_loss: 0.8807 - val_mean_squared_error: 0.8807 - val_rmse: 0.9347\n",
      "Epoch 2/30\n",
      "600125/600125 [==============================] - 13s 21us/sample - loss: 0.8402 - mean_squared_error: 0.8402 - rmse: 0.9126 - val_loss: 0.8236 - val_mean_squared_error: 0.8236 - val_rmse: 0.9036\n",
      "Epoch 3/30\n",
      "600125/600125 [==============================] - 13s 22us/sample - loss: 0.7762 - mean_squared_error: 0.7762 - rmse: 0.8771 - val_loss: 0.7959 - val_mean_squared_error: 0.7959 - val_rmse: 0.8882\n",
      "Epoch 4/30\n",
      "600125/600125 [==============================] - 13s 21us/sample - loss: 0.7331 - mean_squared_error: 0.7331 - rmse: 0.8522 - val_loss: 0.7801 - val_mean_squared_error: 0.7801 - val_rmse: 0.8794\n",
      "Epoch 5/30\n",
      "600125/600125 [==============================] - 13s 21us/sample - loss: 0.6995 - mean_squared_error: 0.6995 - rmse: 0.8323 - val_loss: 0.7767 - val_mean_squared_error: 0.7767 - val_rmse: 0.8775\n",
      "Epoch 6/30\n",
      "600125/600125 [==============================] - 13s 21us/sample - loss: 0.6765 - mean_squared_error: 0.6765 - rmse: 0.8184 - val_loss: 0.7744 - val_mean_squared_error: 0.7744 - val_rmse: 0.8761\n",
      "Epoch 7/30\n",
      "600125/600125 [==============================] - 13s 21us/sample - loss: 0.6605 - mean_squared_error: 0.6605 - rmse: 0.8089 - val_loss: 0.7747 - val_mean_squared_error: 0.7747 - val_rmse: 0.8762\n",
      "Epoch 8/30\n",
      "600125/600125 [==============================] - 12s 21us/sample - loss: 0.6480 - mean_squared_error: 0.6480 - rmse: 0.8011 - val_loss: 0.7759 - val_mean_squared_error: 0.7759 - val_rmse: 0.8768\n",
      "Epoch 9/30\n",
      "600125/600125 [==============================] - 12s 21us/sample - loss: 0.6384 - mean_squared_error: 0.6384 - rmse: 0.7950 - val_loss: 0.7767 - val_mean_squared_error: 0.7767 - val_rmse: 0.8773\n",
      "Epoch 10/30\n",
      "600125/600125 [==============================] - 12s 21us/sample - loss: 0.6308 - mean_squared_error: 0.6308 - rmse: 0.7902 - val_loss: 0.7786 - val_mean_squared_error: 0.7786 - val_rmse: 0.8784\n",
      "Epoch 11/30\n",
      "600125/600125 [==============================] - 12s 20us/sample - loss: 0.6246 - mean_squared_error: 0.6246 - rmse: 0.7863 - val_loss: 0.7792 - val_mean_squared_error: 0.7792 - val_rmse: 0.8786\n",
      "Epoch 12/30\n",
      "600125/600125 [==============================] - 12s 20us/sample - loss: 0.6192 - mean_squared_error: 0.6192 - rmse: 0.7829 - val_loss: 0.7808 - val_mean_squared_error: 0.7808 - val_rmse: 0.8795\n",
      "Epoch 13/30\n",
      "600125/600125 [==============================] - 13s 21us/sample - loss: 0.6146 - mean_squared_error: 0.6146 - rmse: 0.7800 - val_loss: 0.7826 - val_mean_squared_error: 0.7826 - val_rmse: 0.8805\n",
      "Epoch 14/30\n",
      "600125/600125 [==============================] - 12s 20us/sample - loss: 0.6106 - mean_squared_error: 0.6106 - rmse: 0.7774 - val_loss: 0.7837 - val_mean_squared_error: 0.7837 - val_rmse: 0.8810\n",
      "Epoch 15/30\n",
      "600125/600125 [==============================] - 12s 20us/sample - loss: 0.6073 - mean_squared_error: 0.6073 - rmse: 0.7752 - val_loss: 0.7846 - val_mean_squared_error: 0.7846 - val_rmse: 0.8815\n",
      "Epoch 16/30\n",
      "600125/600125 [==============================] - 13s 21us/sample - loss: 0.6041 - mean_squared_error: 0.6041 - rmse: 0.7732 - val_loss: 0.7878 - val_mean_squared_error: 0.7878 - val_rmse: 0.8833\n",
      "Epoch 00016: early stopping\n"
     ]
    }
   ],
   "source": [
    "# model config\n",
    "BATCH_SIZE = 64\n",
    "EPOCHS = 30\n",
    "VAL_SPLIT = 0.25\n",
    "\n",
    "# train model\n",
    "history = train_model(\n",
    "    GMF_model,\n",
    "    'adam',\n",
    "    BATCH_SIZE,\n",
    "    EPOCHS,\n",
    "    VAL_SPLIT,\n",
    "    inputs=[train.uid.values, train.mid.values],\n",
    "    outputs=train.rating.values,\n",
    "    filepath='model/neural-gmf-weights.hdf5')"
   ]
  },
  {
   "cell_type": "code",
   "execution_count": 184,
   "metadata": {},
   "outputs": [],
   "source": [
    "def plot_learning_curve(history, metric):\n",
    "    \"\"\"\n",
    "    Plot learning curve to compare training error vs. validation error\n",
    "    \"\"\"\n",
    "    # get training error\n",
    "    errors = history.history[metric]\n",
    "    \n",
    "    # get validation error\n",
    "    val_errors = history.history['val_{}'.format(metric)]\n",
    "    \n",
    "    # get epochs\n",
    "    epochs = range(1, len(errors) + 1)\n",
    "\n",
    "    # plot\n",
    "    plt.figure(figsize=(12, 7))\n",
    "    plt.plot(epochs, errors, 'bo', label='training {}'.format(metric))\n",
    "    plt.plot(epochs, val_errors, 'b', label='validation {}'.format(metric))\n",
    "    plt.xlabel('number of epochs')\n",
    "    plt.ylabel(metric)\n",
    "    plt.title('Model Learning Curve')\n",
    "    plt.grid(True)\n",
    "    plt.legend()\n",
    "    plt.show()"
   ]
  },
  {
   "cell_type": "code",
   "execution_count": 185,
   "metadata": {},
   "outputs": [
    {
     "data": {
      "image/png": "[encoded data removed]",
      "text/plain": [
       "<Figure size 864x504 with 1 Axes>"
      ]
     },
     "metadata": {
      "needs_background": "light"
     },
     "output_type": "display_data"
    }
   ],
   "source": [
    "plot_learning_curve(history, 'rmse')"
   ]
  },
  {
   "cell_type": "markdown",
   "metadata": {},
   "source": [
    "##### GMF model testing"
   ]
  },
  {
   "cell_type": "code",
   "execution_count": 186,
   "metadata": {},
   "outputs": [],
   "source": [
    "# define rmse function\n",
    "rmse = lambda true, pred: np.sqrt(np.mean(np.square(np.squeeze(predictions) - np.squeeze(test.rating.values))))"
   ]
  },
  {
   "cell_type": "code",
   "execution_count": 187,
   "metadata": {},
   "outputs": [
    {
     "name": "stdout",
     "output_type": "stream",
     "text": [
      "The out-of-sample RMSE of rating predictions is 0.8812\n"
     ]
    }
   ],
   "source": [
    "# load best model\n",
    "GMF_model = get_GMF_model(num_users, num_items, 10, 0, 0)\n",
    "GMF_model = load_trained_model(GMF_model, 'model/neural-gmf-weights.hdf5')\n",
    "\n",
    "# make prediction using test data\n",
    "predictions = GMF_model.predict([test.uid.values, test.mid.values])\n",
    "\n",
    "# get the RMSE\n",
    "error = rmse(test.rating.values, predictions)\n",
    "print('The out-of-sample RMSE of rating predictions is', round(error, 4))"
   ]
  },
  {
   "cell_type": "markdown",
   "metadata": {},
   "source": [
    "#### Train Multi-Layer Perceptron Model and Test Model"
   ]
  },
  {
   "cell_type": "markdown",
   "metadata": {},
   "source": [
    "##### define MLP model architeture"
   ]
  },
  {
   "cell_type": "code",
   "execution_count": 188,
   "metadata": {},
   "outputs": [],
   "source": [
    "def get_MLP_model(num_users, num_items, layers, reg_layers):\n",
    "    \"\"\"\n",
    "    Build Multi-Layer Perceptron Model Topology\n",
    "    \n",
    "    Parameters\n",
    "    ----------\n",
    "    num_users: int, total number of users\n",
    "    num_iterms: int, total number of items\n",
    "    layers: list of int, each element is the number of hidden units for each layer,\n",
    "        with the exception of first element. First element is the sum of dims of\n",
    "        user latent vector and item latent vector\n",
    "    reg_layers: list of int, each element is the L2 regularization parameter for\n",
    "        each layer in MLP\n",
    "\n",
    "    Return\n",
    "    ------\n",
    "    A Keras Model with MLP model architeture\n",
    "    \"\"\"\n",
    "    assert len(layers) == len(reg_layers)\n",
    "    num_layer = len(layers) # Number of layers in the MLP\n",
    "    \n",
    "    # Input variables\n",
    "    user_input = Input(shape=(1,), dtype='int32', name='user_input')\n",
    "    item_input = Input(shape=(1,), dtype='int32', name='item_input')\n",
    "\n",
    "    mlp_embedding_user = Embedding(\n",
    "        input_dim=num_users + 1,\n",
    "        output_dim=layers[0] // 2,\n",
    "        embeddings_initializer='uniform',\n",
    "        name='user_embedding',\n",
    "        embeddings_regularizer=l2(reg_layers[0]),\n",
    "        input_length=1)\n",
    "    \n",
    "    mlp_embedding_item = Embedding(\n",
    "        input_dim=num_items + 1,\n",
    "        output_dim=layers[0] // 2,\n",
    "        embeddings_initializer='uniform',\n",
    "        name='item_embedding',\n",
    "        embeddings_regularizer=l2(reg_layers[0]),\n",
    "        input_length=1) \n",
    "    \n",
    "    # Crucial to flatten an embedding vector!\n",
    "    user_latent = Flatten()(mlp_embedding_user(user_input))\n",
    "    item_latent = Flatten()(mlp_embedding_item(item_input))\n",
    "\n",
    "    # The 0-th layer is the concatenation of embedding layers\n",
    "    vector = Concatenate(axis=-1)([user_latent, item_latent])\n",
    "\n",
    "    # MLP layers\n",
    "    for idx in range(1, num_layer):\n",
    "        layer = Dense(\n",
    "            units=layers[idx],\n",
    "            activation='relu',\n",
    "            kernel_initializer='glorot_uniform',\n",
    "            kernel_regularizer=l2(reg_layers[idx]),\n",
    "            name = 'layer%d' %idx)\n",
    "        vector = layer(vector)\n",
    "    \n",
    "    # Final prediction layer\n",
    "    prediction = Dense(1, kernel_initializer='glorot_uniform', name='prediction')(vector)\n",
    "    \n",
    "    # Stitch input and output\n",
    "    model = Model([user_input, item_input], prediction)\n",
    "    \n",
    "    return model"
   ]
  },
  {
   "cell_type": "markdown",
   "metadata": {},
   "source": [
    "##### create MLP model"
   ]
  },
  {
   "cell_type": "code",
   "execution_count": 189,
   "metadata": {},
   "outputs": [
    {
     "name": "stdout",
     "output_type": "stream",
     "text": [
      "Model: \"model_16\"\n",
      "__________________________________________________________________________________________________\n",
      "Layer (type)                    Output Shape         Param #     Connected to                     \n",
      "==================================================================================================\n",
      "user_input (InputLayer)         [(None, 1)]          0                                            \n",
      "__________________________________________________________________________________________________\n",
      "item_input (InputLayer)         [(None, 1)]          0                                            \n",
      "__________________________________________________________________________________________________\n",
      "user_embedding (Embedding)      (None, 1, 32)        193312      user_input[0][0]                 \n",
      "__________________________________________________________________________________________________\n",
      "item_embedding (Embedding)      (None, 1, 32)        118624      item_input[0][0]                 \n",
      "__________________________________________________________________________________________________\n",
      "flatten_40 (Flatten)            (None, 32)           0           user_embedding[0][0]             \n",
      "__________________________________________________________________________________________________\n",
      "flatten_41 (Flatten)            (None, 32)           0           item_embedding[0][0]             \n",
      "__________________________________________________________________________________________________\n",
      "concatenate_10 (Concatenate)    (None, 64)           0           flatten_40[0][0]                 \n",
      "                                                                 flatten_41[0][0]                 \n",
      "__________________________________________________________________________________________________\n",
      "layer1 (Dense)                  (None, 32)           2080        concatenate_10[0][0]             \n",
      "__________________________________________________________________________________________________\n",
      "layer2 (Dense)                  (None, 16)           528         layer1[0][0]                     \n",
      "__________________________________________________________________________________________________\n",
      "layer3 (Dense)                  (None, 8)            136         layer2[0][0]                     \n",
      "__________________________________________________________________________________________________\n",
      "prediction (Dense)              (None, 1)            9           layer3[0][0]                     \n",
      "==================================================================================================\n",
      "Total params: 314,689\n",
      "Trainable params: 314,689\n",
      "Non-trainable params: 0\n",
      "__________________________________________________________________________________________________\n"
     ]
    }
   ],
   "source": [
    "MLP_model = get_MLP_model(num_users, num_items, [64, 32, 16, 8], [0, 0, 0, 0])\n",
    "MLP_model.summary()"
   ]
  },
  {
   "cell_type": "markdown",
   "metadata": {},
   "source": [
    "##### train MLP model"
   ]
  },
  {
   "cell_type": "code",
   "execution_count": 190,
   "metadata": {},
   "outputs": [
    {
     "name": "stdout",
     "output_type": "stream",
     "text": [
      "Train on 600125 samples, validate on 200042 samples\n",
      "Epoch 1/30\n",
      "600125/600125 [==============================] - 19s 31us/sample - loss: 0.9362 - mean_squared_error: 0.9362 - rmse: 0.9451 - val_loss: 0.8230 - val_mean_squared_error: 0.8230 - val_rmse: 0.9033\n",
      "Epoch 2/30\n",
      "600125/600125 [==============================] - 18s 30us/sample - loss: 0.8011 - mean_squared_error: 0.8011 - rmse: 0.8910 - val_loss: 0.7960 - val_mean_squared_error: 0.7960 - val_rmse: 0.8884\n",
      "Epoch 3/30\n",
      "600125/600125 [==============================] - 18s 31us/sample - loss: 0.7665 - mean_squared_error: 0.7665 - rmse: 0.8714 - val_loss: 0.7856 - val_mean_squared_error: 0.7856 - val_rmse: 0.8824\n",
      "Epoch 4/30\n",
      "600125/600125 [==============================] - 18s 31us/sample - loss: 0.7409 - mean_squared_error: 0.7409 - rmse: 0.8566 - val_loss: 0.7864 - val_mean_squared_error: 0.7864 - val_rmse: 0.8827\n",
      "Epoch 5/30\n",
      "600125/600125 [==============================] - 19s 31us/sample - loss: 0.7149 - mean_squared_error: 0.7149 - rmse: 0.8414 - val_loss: 0.7868 - val_mean_squared_error: 0.7868 - val_rmse: 0.8831\n",
      "Epoch 6/30\n",
      "600125/600125 [==============================] - 19s 31us/sample - loss: 0.6881 - mean_squared_error: 0.6881 - rmse: 0.8254 - val_loss: 0.7912 - val_mean_squared_error: 0.7912 - val_rmse: 0.8856\n",
      "Epoch 7/30\n",
      "600125/600125 [==============================] - 19s 32us/sample - loss: 0.6618 - mean_squared_error: 0.6618 - rmse: 0.8094 - val_loss: 0.7951 - val_mean_squared_error: 0.7951 - val_rmse: 0.8874\n",
      "Epoch 8/30\n",
      "600125/600125 [==============================] - 19s 32us/sample - loss: 0.6381 - mean_squared_error: 0.6381 - rmse: 0.7947 - val_loss: 0.8072 - val_mean_squared_error: 0.8072 - val_rmse: 0.8942\n",
      "Epoch 9/30\n",
      "600125/600125 [==============================] - 19s 32us/sample - loss: 0.6168 - mean_squared_error: 0.6168 - rmse: 0.7812 - val_loss: 0.8183 - val_mean_squared_error: 0.8183 - val_rmse: 0.9005\n",
      "Epoch 10/30\n",
      "600125/600125 [==============================] - 20s 33us/sample - loss: 0.5968 - mean_squared_error: 0.5968 - rmse: 0.7684 - val_loss: 0.8269 - val_mean_squared_error: 0.8269 - val_rmse: 0.9051\n",
      "Epoch 11/30\n",
      "600125/600125 [==============================] - 20s 33us/sample - loss: 0.5791 - mean_squared_error: 0.5791 - rmse: 0.7570 - val_loss: 0.8320 - val_mean_squared_error: 0.8320 - val_rmse: 0.9080\n",
      "Epoch 12/30\n",
      "600125/600125 [==============================] - 19s 32us/sample - loss: 0.5628 - mean_squared_error: 0.5628 - rmse: 0.7461 - val_loss: 0.8464 - val_mean_squared_error: 0.8464 - val_rmse: 0.9157\n",
      "Epoch 13/30\n",
      "600125/600125 [==============================] - 21s 35us/sample - loss: 0.5481 - mean_squared_error: 0.5481 - rmse: 0.7363 - val_loss: 0.8587 - val_mean_squared_error: 0.8587 - val_rmse: 0.9224\n",
      "Epoch 00013: early stopping\n"
     ]
    }
   ],
   "source": [
    "# model config\n",
    "BATCH_SIZE = 64\n",
    "EPOCHS = 30\n",
    "VAL_SPLIT = 0.25\n",
    "\n",
    "# train model\n",
    "history = train_model(\n",
    "    MLP_model,\n",
    "    'adam',\n",
    "    BATCH_SIZE,\n",
    "    EPOCHS,\n",
    "    VAL_SPLIT,\n",
    "    inputs=[train.uid.values, train.mid.values],\n",
    "    outputs=train.rating.values,\n",
    "    filepath='model/neural-mlp-weights.hdf5')"
   ]
  },
  {
   "cell_type": "markdown",
   "metadata": {},
   "source": [
    "##### MLP learning curve"
   ]
  },
  {
   "cell_type": "code",
   "execution_count": 191,
   "metadata": {},
   "outputs": [
    {
     "data": {
      "image/png": "[encoded data removed]",
      "text/plain": [
       "<Figure size 864x504 with 1 Axes>"
      ]
     },
     "metadata": {
      "needs_background": "light"
     },
     "output_type": "display_data"
    }
   ],
   "source": [
    "plot_learning_curve(history, 'rmse')"
   ]
  },
  {
   "cell_type": "markdown",
   "metadata": {},
   "source": [
    "#### MLP model testing"
   ]
  },
  {
   "cell_type": "markdown",
   "metadata": {},
   "source": [
    "##### And finally, make a prediction and check the testing error using out-of-sample data"
   ]
  },
  {
   "cell_type": "code",
   "execution_count": 192,
   "metadata": {},
   "outputs": [
    {
     "name": "stdout",
     "output_type": "stream",
     "text": [
      "The out-of-sample RMSE of rating predictions is 0.8869\n"
     ]
    }
   ],
   "source": [
    "# load best model\n",
    "MLP_model = get_MLP_model(num_users, num_items, [64, 32, 16, 8], [0, 0, 0, 0])\n",
    "MLP_model = load_trained_model(MLP_model, 'model/neural-mlp-weights.hdf5')\n",
    "\n",
    "# make prediction using test data\n",
    "predictions = MLP_model.predict([test.uid.values, test.mid.values])\n",
    "\n",
    "# get the RMSE\n",
    "error = rmse(test.rating.values, predictions)\n",
    "print('The out-of-sample RMSE of rating predictions is', round(error, 4))"
   ]
  },
  {
   "cell_type": "markdown",
   "metadata": {},
   "source": [
    "#### Train Neural Matrix Factorization (NeuralMF) and Test Model"
   ]
  },
  {
   "cell_type": "markdown",
   "metadata": {},
   "source": [
    "##### define NeuralMF model architeture"
   ]
  },
  {
   "cell_type": "code",
   "execution_count": 193,
   "metadata": {},
   "outputs": [],
   "source": [
    "def get_NeuralMF_model(num_users, num_items, MF_dim, MF_reg, MLP_layers, MLP_regs):\n",
    "    \"\"\"\n",
    "    Build Neural Matrix Factorization (NeuralMF) Model Topology.\n",
    "    This is stack version of both GMF and MLP\n",
    "    \n",
    "    Parameters\n",
    "    ----------\n",
    "    num_users: int, total number of users\n",
    "    num_iterms: int, total number of items\n",
    "    MF_dim: int, embedded dimension for user vector and item vector in MF\n",
    "    MF_reg: tuple of float, L2 regularization of MF embedded layer\n",
    "    MLP_layers: list of int, each element is the number of hidden units for each MLP layer,\n",
    "        with the exception of first element. First element is the sum of dims of\n",
    "        user latent vector and item latent vector\n",
    "    MLP_regs: list of int, each element is the L2 regularization parameter for\n",
    "        each layer in MLP\n",
    "\n",
    "    Return\n",
    "    ------\n",
    "    A Keras Model with MLP model architeture\n",
    "    \"\"\"\n",
    "    assert len(MLP_layers) == len(MLP_regs)\n",
    "    num_MLP_layer = len(MLP_layers) # Number of layers in the MLP\n",
    "    \n",
    "    # Input variables\n",
    "    user_input = Input(shape=(1,), dtype='int32', name='user_input')\n",
    "    item_input = Input(shape=(1,), dtype='int32', name='item_input')\n",
    "\n",
    "    # MF Embedding layer\n",
    "    mf_embedding_user = Embedding(\n",
    "        input_dim=num_users + 1,\n",
    "        output_dim=MF_dim,\n",
    "        embeddings_initializer='uniform',\n",
    "        name='mf_user_embedding',\n",
    "        embeddings_regularizer=l2(MF_reg[0]),\n",
    "        input_length=1)\n",
    "    \n",
    "    mf_embedding_item = Embedding(\n",
    "        input_dim=num_items + 1,\n",
    "        output_dim=MF_dim,\n",
    "        embeddings_initializer='uniform',\n",
    "        name='mf_item_embedding',\n",
    "        embeddings_regularizer=l2(MF_reg[1]),\n",
    "        input_length=1)\n",
    "    \n",
    "    # MLP\n",
    "    mlp_embedding_user = Embedding(\n",
    "        input_dim=num_users + 1,\n",
    "        output_dim=MLP_layers[0] // 2,\n",
    "        embeddings_initializer='uniform',\n",
    "        name='mlp_user_embedding',\n",
    "        embeddings_regularizer=l2(MLP_regs[0]),\n",
    "        input_length=1)\n",
    "    \n",
    "    mlp_embedding_Item = Embedding(\n",
    "        input_dim=num_items + 1,\n",
    "        output_dim=MLP_layers[0] // 2,\n",
    "        embeddings_initializer='uniform',\n",
    "        name='mlp_item_embedding',\n",
    "        embeddings_regularizer=l2(MLP_regs[0]),\n",
    "        input_length=1) \n",
    "    \n",
    "    # MF part\n",
    "    mf_user_latent = Flatten()(mf_embedding_user(user_input))\n",
    "    mf_item_latent = Flatten()(mf_embedding_item(item_input))\n",
    "    mf_vector = Multiply()([mf_user_latent, mf_item_latent])\n",
    "\n",
    "    # MLP part\n",
    "    mlp_user_latent = Flatten()(mlp_embedding_user(user_input))\n",
    "    mlp_item_latent = Flatten()(mlp_embedding_Item(item_input))\n",
    "    mlp_vector = Concatenate(axis=-1)([mlp_user_latent, mlp_item_latent])\n",
    "\n",
    "    for idx in range(1, num_MLP_layer):\n",
    "        layer = Dense(\n",
    "            units=MLP_layers[idx],\n",
    "            activation='relu',\n",
    "            kernel_initializer='glorot_uniform',\n",
    "            kernel_regularizer=l2(MLP_regs[idx]),\n",
    "            name = 'layer%d' %idx)\n",
    "        mlp_vector = layer(mlp_vector)\n",
    "    \n",
    "    # Concatenate MF and MLP parts\n",
    "    predict_vector = Concatenate(axis=-1)([mf_vector, mlp_vector])\n",
    "\n",
    "    # Final prediction layer\n",
    "    prediction = Dense(1, kernel_initializer='glorot_uniform', name='prediction')(predict_vector)\n",
    "    \n",
    "    # Stitch input and output\n",
    "    model = Model([user_input, item_input], prediction)\n",
    "    \n",
    "    return model"
   ]
  },
  {
   "cell_type": "markdown",
   "metadata": {},
   "source": [
    "##### create NeuralMF model"
   ]
  },
  {
   "cell_type": "code",
   "execution_count": 194,
   "metadata": {},
   "outputs": [
    {
     "name": "stdout",
     "output_type": "stream",
     "text": [
      "Model: \"model_18\"\n",
      "__________________________________________________________________________________________________\n",
      "Layer (type)                    Output Shape         Param #     Connected to                     \n",
      "==================================================================================================\n",
      "user_input (InputLayer)         [(None, 1)]          0                                            \n",
      "__________________________________________________________________________________________________\n",
      "item_input (InputLayer)         [(None, 1)]          0                                            \n",
      "__________________________________________________________________________________________________\n",
      "mlp_user_embedding (Embedding)  (None, 1, 32)        193312      user_input[0][0]                 \n",
      "__________________________________________________________________________________________________\n",
      "mlp_item_embedding (Embedding)  (None, 1, 32)        118624      item_input[0][0]                 \n",
      "__________________________________________________________________________________________________\n",
      "flatten_46 (Flatten)            (None, 32)           0           mlp_user_embedding[0][0]         \n",
      "__________________________________________________________________________________________________\n",
      "flatten_47 (Flatten)            (None, 32)           0           mlp_item_embedding[0][0]         \n",
      "__________________________________________________________________________________________________\n",
      "concatenate_12 (Concatenate)    (None, 64)           0           flatten_46[0][0]                 \n",
      "                                                                 flatten_47[0][0]                 \n",
      "__________________________________________________________________________________________________\n",
      "mf_user_embedding (Embedding)   (None, 1, 10)        60410       user_input[0][0]                 \n",
      "__________________________________________________________________________________________________\n",
      "mf_item_embedding (Embedding)   (None, 1, 10)        37070       item_input[0][0]                 \n",
      "__________________________________________________________________________________________________\n",
      "layer1 (Dense)                  (None, 32)           2080        concatenate_12[0][0]             \n",
      "__________________________________________________________________________________________________\n",
      "flatten_44 (Flatten)            (None, 10)           0           mf_user_embedding[0][0]          \n",
      "__________________________________________________________________________________________________\n",
      "flatten_45 (Flatten)            (None, 10)           0           mf_item_embedding[0][0]          \n",
      "__________________________________________________________________________________________________\n",
      "layer2 (Dense)                  (None, 16)           528         layer1[0][0]                     \n",
      "__________________________________________________________________________________________________\n",
      "multiply_14 (Multiply)          (None, 10)           0           flatten_44[0][0]                 \n",
      "                                                                 flatten_45[0][0]                 \n",
      "__________________________________________________________________________________________________\n",
      "layer3 (Dense)                  (None, 8)            136         layer2[0][0]                     \n",
      "__________________________________________________________________________________________________\n",
      "concatenate_13 (Concatenate)    (None, 18)           0           multiply_14[0][0]                \n",
      "                                                                 layer3[0][0]                     \n",
      "__________________________________________________________________________________________________\n",
      "prediction (Dense)              (None, 1)            19          concatenate_13[0][0]             \n",
      "==================================================================================================\n",
      "Total params: 412,179\n",
      "Trainable params: 412,179\n",
      "Non-trainable params: 0\n",
      "__________________________________________________________________________________________________\n"
     ]
    }
   ],
   "source": [
    "NeuralMF_model = get_NeuralMF_model(\n",
    "    num_users=num_users,\n",
    "    num_items=num_items,\n",
    "    MF_dim=10,\n",
    "    MF_reg=(0, 0),\n",
    "    MLP_layers=[64, 32, 16, 8],\n",
    "    MLP_regs=[0, 0, 0, 0])\n",
    "NeuralMF_model.summary()"
   ]
  },
  {
   "cell_type": "markdown",
   "metadata": {},
   "source": [
    "##### train NeuralMF model"
   ]
  },
  {
   "cell_type": "code",
   "execution_count": 195,
   "metadata": {},
   "outputs": [
    {
     "name": "stdout",
     "output_type": "stream",
     "text": [
      "Train on 600125 samples, validate on 200042 samples\n",
      "Epoch 1/30\n",
      "600125/600125 [==============================] - 26s 43us/sample - loss: 0.9615 - mean_squared_error: 0.9615 - rmse: 0.9511 - val_loss: 0.8217 - val_mean_squared_error: 0.8217 - val_rmse: 0.9028\n",
      "Epoch 2/30\n",
      "600125/600125 [==============================] - 23s 38us/sample - loss: 0.7613 - mean_squared_error: 0.7613 - rmse: 0.8685 - val_loss: 0.7914 - val_mean_squared_error: 0.7914 - val_rmse: 0.8855\n",
      "Epoch 3/30\n",
      "600125/600125 [==============================] - 23s 38us/sample - loss: 0.6889 - mean_squared_error: 0.6889 - rmse: 0.8259 - val_loss: 0.7975 - val_mean_squared_error: 0.7975 - val_rmse: 0.8887\n",
      "Epoch 4/30\n",
      "600125/600125 [==============================] - 23s 38us/sample - loss: 0.6485 - mean_squared_error: 0.6485 - rmse: 0.8012 - val_loss: 0.7980 - val_mean_squared_error: 0.7980 - val_rmse: 0.8891\n",
      "Epoch 5/30\n",
      "600125/600125 [==============================] - 23s 39us/sample - loss: 0.6194 - mean_squared_error: 0.6194 - rmse: 0.7830 - val_loss: 0.8013 - val_mean_squared_error: 0.8013 - val_rmse: 0.8910\n",
      "Epoch 6/30\n",
      "600125/600125 [==============================] - 23s 39us/sample - loss: 0.5956 - mean_squared_error: 0.5956 - rmse: 0.7676 - val_loss: 0.8154 - val_mean_squared_error: 0.8154 - val_rmse: 0.8985\n",
      "Epoch 7/30\n",
      "600125/600125 [==============================] - 24s 39us/sample - loss: 0.5737 - mean_squared_error: 0.5737 - rmse: 0.7534 - val_loss: 0.8209 - val_mean_squared_error: 0.8209 - val_rmse: 0.9019\n",
      "Epoch 8/30\n",
      "600125/600125 [==============================] - 24s 39us/sample - loss: 0.5537 - mean_squared_error: 0.5537 - rmse: 0.7401 - val_loss: 0.8347 - val_mean_squared_error: 0.8347 - val_rmse: 0.9091\n",
      "Epoch 9/30\n",
      "600125/600125 [==============================] - 24s 39us/sample - loss: 0.5349 - mean_squared_error: 0.5349 - rmse: 0.7274 - val_loss: 0.8388 - val_mean_squared_error: 0.8388 - val_rmse: 0.9115\n",
      "Epoch 10/30\n",
      "600125/600125 [==============================] - 24s 40us/sample - loss: 0.5172 - mean_squared_error: 0.5172 - rmse: 0.7152 - val_loss: 0.8543 - val_mean_squared_error: 0.8543 - val_rmse: 0.9200\n",
      "Epoch 11/30\n",
      "600125/600125 [==============================] - 24s 40us/sample - loss: 0.5013 - mean_squared_error: 0.5013 - rmse: 0.7040 - val_loss: 0.8649 - val_mean_squared_error: 0.8649 - val_rmse: 0.9256\n",
      "Epoch 12/30\n",
      "600125/600125 [==============================] - 24s 40us/sample - loss: 0.4860 - mean_squared_error: 0.4860 - rmse: 0.6931 - val_loss: 0.8804 - val_mean_squared_error: 0.8804 - val_rmse: 0.9340\n",
      "Epoch 00012: early stopping\n"
     ]
    }
   ],
   "source": [
    "# model config\n",
    "BATCH_SIZE = 64\n",
    "EPOCHS = 30\n",
    "VAL_SPLIT = 0.25\n",
    "\n",
    "# train model\n",
    "history = train_model(\n",
    "    NeuralMF_model,\n",
    "    'adam',\n",
    "    BATCH_SIZE,\n",
    "    EPOCHS,\n",
    "    VAL_SPLIT,\n",
    "    inputs=[train.uid.values, train.mid.values],\n",
    "    outputs=train.rating.values,\n",
    "    filepath='model/neural-nmf-weights.hdf5')"
   ]
  },
  {
   "cell_type": "markdown",
   "metadata": {},
   "source": [
    "##### Neural Matrix Factorization (NeuralMF) learning curve"
   ]
  },
  {
   "cell_type": "code",
   "execution_count": 196,
   "metadata": {},
   "outputs": [
    {
     "data": {
      "image/png": "[encoded data removed]",
      "text/plain": [
       "<Figure size 864x504 with 1 Axes>"
      ]
     },
     "metadata": {
      "needs_background": "light"
     },
     "output_type": "display_data"
    }
   ],
   "source": [
    "plot_learning_curve(history, 'rmse')"
   ]
  },
  {
   "cell_type": "markdown",
   "metadata": {},
   "source": [
    "##### Neural Matrix Factorization (NeuralMF) model testing"
   ]
  },
  {
   "cell_type": "markdown",
   "metadata": {},
   "source": [
    "##### And finally, make a prediction and check the testing error using out-of-sample data"
   ]
  },
  {
   "cell_type": "code",
   "execution_count": 197,
   "metadata": {},
   "outputs": [
    {
     "name": "stdout",
     "output_type": "stream",
     "text": [
      "The out-of-sample RMSE of rating predictions is 0.8901\n"
     ]
    }
   ],
   "source": [
    "# load best model\n",
    "NeuralMF_model = get_NeuralMF_model(\n",
    "    num_users=num_users,\n",
    "    num_items=num_items,\n",
    "    MF_dim=10,\n",
    "    MF_reg=(0, 0),\n",
    "    MLP_layers=[64, 32, 16, 8],\n",
    "    MLP_regs=[0, 0, 0, 0])\n",
    "NeuralMF_model = load_trained_model(NeuralMF_model, 'model/neural-nmf-weights.hdf5')\n",
    "\n",
    "# make prediction using test data\n",
    "predictions = NeuralMF_model.predict([test.uid.values, test.mid.values])\n",
    "\n",
    "# get the RMSE\n",
    "error = rmse(test.rating.values, predictions)\n",
    "print('The out-of-sample RMSE of rating predictions is', round(error, 4))"
   ]
  },
  {
   "cell_type": "markdown",
   "metadata": {},
   "source": [
    "##### Recomendation"
   ]
  },
  {
   "cell_type": "code",
   "execution_count": 300,
   "metadata": {},
   "outputs": [],
   "source": [
    "ratings = load_ratings()\n",
    "ratings = reduce_item_dim(ratings)"
   ]
  },
  {
   "cell_type": "code",
   "execution_count": 371,
   "metadata": {},
   "outputs": [],
   "source": [
    "# Creating dataset for making recommendations for the user\n",
    "uid = 1975\n",
    "movie_data = np.array(list(set(ratings.mid)))\n",
    "user_data = np.array([uid for i in range(len(movie_data))])"
   ]
  },
  {
   "cell_type": "code",
   "execution_count": 372,
   "metadata": {},
   "outputs": [
    {
     "data": {
      "text/html": [
       "<div>\n",
       "<style scoped>\n",
       "    .dataframe tbody tr th:only-of-type {\n",
       "        vertical-align: middle;\n",
       "    }\n",
       "\n",
       "    .dataframe tbody tr th {\n",
       "        vertical-align: top;\n",
       "    }\n",
       "\n",
       "    .dataframe thead th {\n",
       "        text-align: right;\n",
       "    }\n",
       "</style>\n",
       "<table border=\"1\" class=\"dataframe\">\n",
       "  <thead>\n",
       "    <tr style=\"text-align: right;\">\n",
       "      <th></th>\n",
       "      <th>uid</th>\n",
       "      <th>mid</th>\n",
       "      <th>rating</th>\n",
       "      <th>movie_name</th>\n",
       "      <th>movie_genre</th>\n",
       "    </tr>\n",
       "  </thead>\n",
       "  <tbody>\n",
       "    <tr>\n",
       "      <th>344300</th>\n",
       "      <td>2020</td>\n",
       "      <td>3266</td>\n",
       "      <td>5</td>\n",
       "      <td>Man Bites Dog (C'est arrivé près de chez vous)...</td>\n",
       "      <td>Action|Comedy|Crime|Drama</td>\n",
       "    </tr>\n",
       "    <tr>\n",
       "      <th>343993</th>\n",
       "      <td>2020</td>\n",
       "      <td>1025</td>\n",
       "      <td>5</td>\n",
       "      <td>Sword in the Stone, The (1963)</td>\n",
       "      <td>Animation|Children's</td>\n",
       "    </tr>\n",
       "    <tr>\n",
       "      <th>344301</th>\n",
       "      <td>2020</td>\n",
       "      <td>3272</td>\n",
       "      <td>5</td>\n",
       "      <td>Bad Lieutenant (1992)</td>\n",
       "      <td>Crime|Drama</td>\n",
       "    </tr>\n",
       "    <tr>\n",
       "      <th>344254</th>\n",
       "      <td>2020</td>\n",
       "      <td>2888</td>\n",
       "      <td>5</td>\n",
       "      <td>Drive Me Crazy (1999)</td>\n",
       "      <td>Comedy|Romance</td>\n",
       "    </tr>\n",
       "    <tr>\n",
       "      <th>344303</th>\n",
       "      <td>2020</td>\n",
       "      <td>3275</td>\n",
       "      <td>5</td>\n",
       "      <td>Boondock Saints, The (1999)</td>\n",
       "      <td>Action|Comedy</td>\n",
       "    </tr>\n",
       "    <tr>\n",
       "      <th>344253</th>\n",
       "      <td>2020</td>\n",
       "      <td>2873</td>\n",
       "      <td>5</td>\n",
       "      <td>Lulu on the Bridge (1998)</td>\n",
       "      <td>Drama|Mystery|Romance</td>\n",
       "    </tr>\n",
       "    <tr>\n",
       "      <th>344249</th>\n",
       "      <td>2020</td>\n",
       "      <td>2851</td>\n",
       "      <td>5</td>\n",
       "      <td>Saturn 3 (1979)</td>\n",
       "      <td>Adventure|Sci-Fi|Thriller</td>\n",
       "    </tr>\n",
       "    <tr>\n",
       "      <th>344306</th>\n",
       "      <td>2020</td>\n",
       "      <td>3291</td>\n",
       "      <td>5</td>\n",
       "      <td>Trois (2000)</td>\n",
       "      <td>Thriller</td>\n",
       "    </tr>\n",
       "    <tr>\n",
       "      <th>343984</th>\n",
       "      <td>2020</td>\n",
       "      <td>1003</td>\n",
       "      <td>5</td>\n",
       "      <td>Extreme Measures (1996)</td>\n",
       "      <td>Drama|Thriller</td>\n",
       "    </tr>\n",
       "    <tr>\n",
       "      <th>343982</th>\n",
       "      <td>2020</td>\n",
       "      <td>971</td>\n",
       "      <td>5</td>\n",
       "      <td>Cat on a Hot Tin Roof (1958)</td>\n",
       "      <td>Drama</td>\n",
       "    </tr>\n",
       "  </tbody>\n",
       "</table>\n",
       "</div>"
      ],
      "text/plain": [
       "         uid   mid  rating                                         movie_name  \\\n",
       "344300  2020  3266       5  Man Bites Dog (C'est arrivé près de chez vous)...   \n",
       "343993  2020  1025       5                     Sword in the Stone, The (1963)   \n",
       "344301  2020  3272       5                              Bad Lieutenant (1992)   \n",
       "344254  2020  2888       5                              Drive Me Crazy (1999)   \n",
       "344303  2020  3275       5                        Boondock Saints, The (1999)   \n",
       "344253  2020  2873       5                          Lulu on the Bridge (1998)   \n",
       "344249  2020  2851       5                                    Saturn 3 (1979)   \n",
       "344306  2020  3291       5                                       Trois (2000)   \n",
       "343984  2020  1003       5                            Extreme Measures (1996)   \n",
       "343982  2020   971       5                       Cat on a Hot Tin Roof (1958)   \n",
       "\n",
       "                      movie_genre  \n",
       "344300  Action|Comedy|Crime|Drama  \n",
       "343993       Animation|Children's  \n",
       "344301                Crime|Drama  \n",
       "344254             Comedy|Romance  \n",
       "344303              Action|Comedy  \n",
       "344253      Drama|Mystery|Romance  \n",
       "344249  Adventure|Sci-Fi|Thriller  \n",
       "344306                   Thriller  \n",
       "343984             Drama|Thriller  \n",
       "343982                      Drama  "
      ]
     },
     "execution_count": 372,
     "metadata": {},
     "output_type": "execute_result"
    }
   ],
   "source": [
    "users = load_users()\n",
    "movies = load_movies()\n",
    "users_movies_ratings = ratings.join(movies.set_index('mid'), on = 'mid', how = 'left')\n",
    "users_movies_ratings = users_movies_ratings.join(users.set_index('uid'), on = 'uid', how = 'left')\n",
    "\n",
    "user_preferences = users_movies_ratings[(users_movies_ratings.uid == uid)].sort_values(['rating'], ascending=[0])\n",
    "user_preferences = user_preferences[user_preferences['movie_name'].notnull()]\n",
    "user_preferences[['uid','mid','rating','movie_name','movie_genre']].head(10)"
   ]
  },
  {
   "cell_type": "code",
   "execution_count": 373,
   "metadata": {},
   "outputs": [
    {
     "data": {
      "text/html": [
       "<div>\n",
       "<style scoped>\n",
       "    .dataframe tbody tr th:only-of-type {\n",
       "        vertical-align: middle;\n",
       "    }\n",
       "\n",
       "    .dataframe tbody tr th {\n",
       "        vertical-align: top;\n",
       "    }\n",
       "\n",
       "    .dataframe thead th {\n",
       "        text-align: right;\n",
       "    }\n",
       "</style>\n",
       "<table border=\"1\" class=\"dataframe\">\n",
       "  <thead>\n",
       "    <tr style=\"text-align: right;\">\n",
       "      <th></th>\n",
       "      <th>uid</th>\n",
       "      <th>mid</th>\n",
       "      <th>rating</th>\n",
       "      <th>movie_name</th>\n",
       "      <th>movie_genre</th>\n",
       "    </tr>\n",
       "  </thead>\n",
       "  <tbody>\n",
       "    <tr>\n",
       "      <th>999737</th>\n",
       "      <td>6038</td>\n",
       "      <td>1288</td>\n",
       "      <td>2</td>\n",
       "      <td>This Is Spinal Tap (1984)</td>\n",
       "      <td>Comedy|Drama|Musical</td>\n",
       "    </tr>\n",
       "    <tr>\n",
       "      <th>999891</th>\n",
       "      <td>6040</td>\n",
       "      <td>253</td>\n",
       "      <td>4</td>\n",
       "      <td>Interview with the Vampire (1994)</td>\n",
       "      <td>Drama|Horror</td>\n",
       "    </tr>\n",
       "    <tr>\n",
       "      <th>999898</th>\n",
       "      <td>6040</td>\n",
       "      <td>309</td>\n",
       "      <td>4</td>\n",
       "      <td>Red Firecracker, Green Firecracker (1994)</td>\n",
       "      <td>Drama</td>\n",
       "    </tr>\n",
       "    <tr>\n",
       "      <th>999944</th>\n",
       "      <td>6040</td>\n",
       "      <td>971</td>\n",
       "      <td>3</td>\n",
       "      <td>Cat on a Hot Tin Roof (1958)</td>\n",
       "      <td>Drama</td>\n",
       "    </tr>\n",
       "    <tr>\n",
       "      <th>999969</th>\n",
       "      <td>6040</td>\n",
       "      <td>1106</td>\n",
       "      <td>3</td>\n",
       "      <td>Leopard Son, The (1996)</td>\n",
       "      <td>Documentary</td>\n",
       "    </tr>\n",
       "    <tr>\n",
       "      <th>999970</th>\n",
       "      <td>6040</td>\n",
       "      <td>1108</td>\n",
       "      <td>3</td>\n",
       "      <td>Prerokbe Ognja (1995)</td>\n",
       "      <td>Documentary</td>\n",
       "    </tr>\n",
       "    <tr>\n",
       "      <th>999972</th>\n",
       "      <td>6040</td>\n",
       "      <td>1110</td>\n",
       "      <td>3</td>\n",
       "      <td>Bird of Prey (1996)</td>\n",
       "      <td>Action</td>\n",
       "    </tr>\n",
       "    <tr>\n",
       "      <th>999992</th>\n",
       "      <td>6040</td>\n",
       "      <td>1148</td>\n",
       "      <td>3</td>\n",
       "      <td>Wrong Trousers, The (1993)</td>\n",
       "      <td>Animation|Comedy</td>\n",
       "    </tr>\n",
       "    <tr>\n",
       "      <th>1000009</th>\n",
       "      <td>6040</td>\n",
       "      <td>1178</td>\n",
       "      <td>3</td>\n",
       "      <td>Paths of Glory (1957)</td>\n",
       "      <td>Drama|War</td>\n",
       "    </tr>\n",
       "    <tr>\n",
       "      <th>1000144</th>\n",
       "      <td>6040</td>\n",
       "      <td>2557</td>\n",
       "      <td>4</td>\n",
       "      <td>I Stand Alone (Seul contre tous) (1998)</td>\n",
       "      <td>Drama</td>\n",
       "    </tr>\n",
       "  </tbody>\n",
       "</table>\n",
       "</div>"
      ],
      "text/plain": [
       "          uid   mid  rating                                 movie_name  \\\n",
       "999737   6038  1288       2                  This Is Spinal Tap (1984)   \n",
       "999891   6040   253       4          Interview with the Vampire (1994)   \n",
       "999898   6040   309       4  Red Firecracker, Green Firecracker (1994)   \n",
       "999944   6040   971       3               Cat on a Hot Tin Roof (1958)   \n",
       "999969   6040  1106       3                    Leopard Son, The (1996)   \n",
       "999970   6040  1108       3                      Prerokbe Ognja (1995)   \n",
       "999972   6040  1110       3                        Bird of Prey (1996)   \n",
       "999992   6040  1148       3                 Wrong Trousers, The (1993)   \n",
       "1000009  6040  1178       3                      Paths of Glory (1957)   \n",
       "1000144  6040  2557       4    I Stand Alone (Seul contre tous) (1998)   \n",
       "\n",
       "                  movie_genre  \n",
       "999737   Comedy|Drama|Musical  \n",
       "999891           Drama|Horror  \n",
       "999898                  Drama  \n",
       "999944                  Drama  \n",
       "999969            Documentary  \n",
       "999970            Documentary  \n",
       "999972                 Action  \n",
       "999992       Animation|Comedy  \n",
       "1000009             Drama|War  \n",
       "1000144                 Drama  "
      ]
     },
     "execution_count": 373,
     "metadata": {},
     "output_type": "execute_result"
    }
   ],
   "source": [
    "predictions = NeuralMF_model.predict([user_data, movie_data])\n",
    "predictions = np.array([a[0] for a in predictions])\n",
    "recommended_movie_ids = (-predictions).argsort()[:10]\n",
    "\n",
    "recomendations = users_movies_ratings[users_movies_ratings['mid'].isin(recommended_movie_ids)]\n",
    "recomendations = recomendations[recomendations['movie_name'].notnull()]\n",
    "recomendations = recomendations.drop_duplicates(subset='movie_name', keep=\"last\")\n",
    "recomendations[['uid','mid','rating','movie_name','movie_genre']].head(10)"
   ]
  },
  {
   "cell_type": "code",
   "execution_count": null,
   "metadata": {},
   "outputs": [],
   "source": []
  }
 ],
 "metadata": {
  "kernelspec": {
   "display_name": "Python 3",
   "language": "python",
   "name": "python3"
  },
  "language_info": {
   "codemirror_mode": {
    "name": "ipython",
    "version": 3
   },
   "file_extension": ".py",
   "mimetype": "text/x-python",
   "name": "python",
   "nbconvert_exporter": "python",
   "pygments_lexer": "ipython3",
   "version": "3.7.6"
  }
 },
 "nbformat": 4,
 "nbformat_minor": 4
}
