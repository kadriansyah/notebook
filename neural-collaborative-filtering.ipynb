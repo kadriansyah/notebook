{
 "cells": [
  {
   "cell_type": "markdown",
   "metadata": {},
   "source": [
    "##### source: https://github.com/KevinLiao159/MyDataSciencePortfolio/blob/master/movie_recommender/movie_recommendation_using_NeuMF.ipynb"
   ]
  },
  {
   "cell_type": "code",
   "execution_count": 1,
   "metadata": {},
   "outputs": [],
   "source": [
    "import os\n",
    "\n",
    "# data science imports\n",
    "import numpy as np\n",
    "import pandas as pd\n",
    "\n",
    "import tensorflow.keras.backend as K\n",
    "\n",
    "# sklearn imports\n",
    "from sklearn.model_selection import train_test_split\n",
    "\n",
    "# keras/tensorflow imports\n",
    "from tensorflow.keras.layers import Input, Embedding, Flatten, Dense, Multiply, Concatenate\n",
    "from tensorflow.keras.regularizers import l2\n",
    "from tensorflow.keras.models import Model\n",
    "\n",
    "# from tensorflow.keras.optimizers import Adagrad, Adam, SGD, RMSprop\n",
    "from tensorflow.keras.callbacks import EarlyStopping, ModelCheckpoint\n",
    "from tensorflow.keras.models import load_model\n",
    "\n",
    "# visualization imports\n",
    "import matplotlib.pyplot as plt\n",
    "%matplotlib inline"
   ]
  },
  {
   "cell_type": "code",
   "execution_count": 32,
   "metadata": {},
   "outputs": [],
   "source": [
    "def load_ratings():\n",
    "    COL_NAME = ['uid','mid','rating','timestamp']\n",
    "    df = pd.read_csv('data/movie-ratings.dat',sep='::', header=None, engine='python', names=COL_NAME)\n",
    "    return df"
   ]
  },
  {
   "cell_type": "code",
   "execution_count": 33,
   "metadata": {},
   "outputs": [
    {
     "data": {
      "text/html": [
       "<div>\n",
       "<style scoped>\n",
       "    .dataframe tbody tr th:only-of-type {\n",
       "        vertical-align: middle;\n",
       "    }\n",
       "\n",
       "    .dataframe tbody tr th {\n",
       "        vertical-align: top;\n",
       "    }\n",
       "\n",
       "    .dataframe thead th {\n",
       "        text-align: right;\n",
       "    }\n",
       "</style>\n",
       "<table border=\"1\" class=\"dataframe\">\n",
       "  <thead>\n",
       "    <tr style=\"text-align: right;\">\n",
       "      <th></th>\n",
       "      <th>uid</th>\n",
       "      <th>mid</th>\n",
       "      <th>rating</th>\n",
       "      <th>timestamp</th>\n",
       "    </tr>\n",
       "  </thead>\n",
       "  <tbody>\n",
       "    <tr>\n",
       "      <th>0</th>\n",
       "      <td>1</td>\n",
       "      <td>1193</td>\n",
       "      <td>5</td>\n",
       "      <td>978300760</td>\n",
       "    </tr>\n",
       "    <tr>\n",
       "      <th>1</th>\n",
       "      <td>1</td>\n",
       "      <td>661</td>\n",
       "      <td>3</td>\n",
       "      <td>978302109</td>\n",
       "    </tr>\n",
       "    <tr>\n",
       "      <th>2</th>\n",
       "      <td>1</td>\n",
       "      <td>914</td>\n",
       "      <td>3</td>\n",
       "      <td>978301968</td>\n",
       "    </tr>\n",
       "    <tr>\n",
       "      <th>3</th>\n",
       "      <td>1</td>\n",
       "      <td>3408</td>\n",
       "      <td>4</td>\n",
       "      <td>978300275</td>\n",
       "    </tr>\n",
       "    <tr>\n",
       "      <th>4</th>\n",
       "      <td>1</td>\n",
       "      <td>2355</td>\n",
       "      <td>5</td>\n",
       "      <td>978824291</td>\n",
       "    </tr>\n",
       "  </tbody>\n",
       "</table>\n",
       "</div>"
      ],
      "text/plain": [
       "   uid   mid  rating  timestamp\n",
       "0    1  1193       5  978300760\n",
       "1    1   661       3  978302109\n",
       "2    1   914       3  978301968\n",
       "3    1  3408       4  978300275\n",
       "4    1  2355       5  978824291"
      ]
     },
     "execution_count": 33,
     "metadata": {},
     "output_type": "execute_result"
    }
   ],
   "source": [
    "ratings = load_ratings()\n",
    "ratings.head()"
   ]
  },
  {
   "cell_type": "code",
   "execution_count": 4,
   "metadata": {},
   "outputs": [
    {
     "name": "stdout",
     "output_type": "stream",
     "text": [
      "There are 6040 unique users and 3952 unique movies in this data set\n"
     ]
    }
   ],
   "source": [
    "## error here!!!\n",
    "# num_users = len(ratings.uid.unique())\n",
    "# num_items = len(ratings.mid.unique())\n",
    "num_users = ratings.uid.max()\n",
    "num_items = ratings.mid.max()\n",
    "print('There are {} unique users and {} unique movies in this data set'.format(num_users, num_items))"
   ]
  },
  {
   "cell_type": "code",
   "execution_count": 5,
   "metadata": {},
   "outputs": [
    {
     "name": "stdout",
     "output_type": "stream",
     "text": [
      "There are 6040 distinct users and the max of uid is also 6040\n",
      "There are 3952 distinct movies, however, the max of mid is 3952\n",
      "In the context of matrix factorization, the current item vector is in unnecessarily high dimensional space\n",
      "So we need to do some data cleaning to reduce the dimension of item vector back to 3952\n"
     ]
    }
   ],
   "source": [
    "user_max_id = ratings.uid.max()\n",
    "item_max_id = ratings.mid.max()\n",
    "print('There are {} distinct users and the max of uid is also {}'.format(num_users, user_max_id))\n",
    "print('There are {} distinct movies, however, the max of mid is {}'.format(num_items, item_max_id))\n",
    "print('In the context of matrix factorization, the current item vector is in unnecessarily high dimensional space')\n",
    "print('So we need to do some data cleaning to reduce the dimension of item vector back to {}'.format(num_items))"
   ]
  },
  {
   "cell_type": "code",
   "execution_count": 6,
   "metadata": {},
   "outputs": [],
   "source": [
    "def reduce_item_dim(df_ratings):\n",
    "    \"\"\"\n",
    "    Reduce item vector dimension to the number of distinct items in our data sets\n",
    "    \n",
    "    input: pd.DataFrame, ratings should have columns ['uid', 'mid', 'rating']\n",
    "    output: pd.DataFrame, ratings with new 'mid' that is compressed\n",
    "    \"\"\"\n",
    "    # pivot\n",
    "    user_item = ratings.pivot(index='uid', columns='mid', values='rating')\n",
    "    \n",
    "    # reset movieId\n",
    "    user_item = user_item.T.reset_index(drop=True).T\n",
    "    \n",
    "    # undo pivot/melt - compress data frame\n",
    "    ratings_new = user_item.reset_index('uid').melt(id_vars='uid', value_vars=user_item.columns, var_name='mid', value_name='rating')\n",
    "\n",
    "    # drop nan and final clean up\n",
    "    return ratings_new.dropna().sort_values(['uid', 'mid']).reset_index(drop=True)"
   ]
  },
  {
   "cell_type": "code",
   "execution_count": 7,
   "metadata": {},
   "outputs": [
    {
     "name": "stdout",
     "output_type": "stream",
     "text": [
      "reduce item dimension before:\n"
     ]
    },
    {
     "data": {
      "text/html": [
       "<div>\n",
       "<style scoped>\n",
       "    .dataframe tbody tr th:only-of-type {\n",
       "        vertical-align: middle;\n",
       "    }\n",
       "\n",
       "    .dataframe tbody tr th {\n",
       "        vertical-align: top;\n",
       "    }\n",
       "\n",
       "    .dataframe thead th {\n",
       "        text-align: right;\n",
       "    }\n",
       "</style>\n",
       "<table border=\"1\" class=\"dataframe\">\n",
       "  <thead>\n",
       "    <tr style=\"text-align: right;\">\n",
       "      <th></th>\n",
       "      <th>uid</th>\n",
       "      <th>mid</th>\n",
       "      <th>rating</th>\n",
       "      <th>timestamp</th>\n",
       "    </tr>\n",
       "  </thead>\n",
       "  <tbody>\n",
       "    <tr>\n",
       "      <th>0</th>\n",
       "      <td>1</td>\n",
       "      <td>1193</td>\n",
       "      <td>5</td>\n",
       "      <td>978300760</td>\n",
       "    </tr>\n",
       "    <tr>\n",
       "      <th>1</th>\n",
       "      <td>1</td>\n",
       "      <td>661</td>\n",
       "      <td>3</td>\n",
       "      <td>978302109</td>\n",
       "    </tr>\n",
       "    <tr>\n",
       "      <th>2</th>\n",
       "      <td>1</td>\n",
       "      <td>914</td>\n",
       "      <td>3</td>\n",
       "      <td>978301968</td>\n",
       "    </tr>\n",
       "    <tr>\n",
       "      <th>3</th>\n",
       "      <td>1</td>\n",
       "      <td>3408</td>\n",
       "      <td>4</td>\n",
       "      <td>978300275</td>\n",
       "    </tr>\n",
       "    <tr>\n",
       "      <th>4</th>\n",
       "      <td>1</td>\n",
       "      <td>2355</td>\n",
       "      <td>5</td>\n",
       "      <td>978824291</td>\n",
       "    </tr>\n",
       "  </tbody>\n",
       "</table>\n",
       "</div>"
      ],
      "text/plain": [
       "   uid   mid  rating  timestamp\n",
       "0    1  1193       5  978300760\n",
       "1    1   661       3  978302109\n",
       "2    1   914       3  978301968\n",
       "3    1  3408       4  978300275\n",
       "4    1  2355       5  978824291"
      ]
     },
     "execution_count": 7,
     "metadata": {},
     "output_type": "execute_result"
    }
   ],
   "source": [
    "print('reduce item dimension before:')\n",
    "ratings.head()"
   ]
  },
  {
   "cell_type": "code",
   "execution_count": 8,
   "metadata": {},
   "outputs": [],
   "source": [
    "## error here!!!\n",
    "# ratings = reduce_item_dim(ratings)\n",
    "# print('reduce item dimension after:')\n",
    "# ratings.head()"
   ]
  },
  {
   "cell_type": "markdown",
   "metadata": {},
   "source": [
    "##### Split Data Into Train/Test"
   ]
  },
  {
   "cell_type": "code",
   "execution_count": 9,
   "metadata": {},
   "outputs": [
    {
     "name": "stdout",
     "output_type": "stream",
     "text": [
      "shape of training data set:\n",
      "(800167, 4)\n",
      "shape of test data set:\n",
      "(200042, 4)\n"
     ]
    }
   ],
   "source": [
    "train, test = train_test_split(ratings, test_size=0.2, shuffle=True, random_state=99)\n",
    "print('shape of training data set:')\n",
    "print(train.shape)\n",
    "print('shape of test data set:')\n",
    "print(test.shape)"
   ]
  },
  {
   "cell_type": "markdown",
   "metadata": {},
   "source": [
    "##### Train Generalized Matrix Factorization and Test Model"
   ]
  },
  {
   "cell_type": "markdown",
   "metadata": {},
   "source": [
    "##### define GMF model architeture and train routine"
   ]
  },
  {
   "cell_type": "code",
   "execution_count": 10,
   "metadata": {},
   "outputs": [],
   "source": [
    "def get_GMF_model(num_users, num_items, latent_dim, vu_reg, vi_reg):\n",
    "    \"\"\"\n",
    "    Build Generalized Matrix Factorization Model Topology\n",
    "    \n",
    "    Parameters\n",
    "    ----------\n",
    "    num_users: int, total number of users\n",
    "    num_iterms: int, total number of items\n",
    "    latent_dim: int, embedded dimension for user vector and item vector\n",
    "    vu_reg: float, L2 regularization of user embedded layer\n",
    "    vi_reg: float, L2 regularization of item embedded layer\n",
    "\n",
    "    Return\n",
    "    ------\n",
    "    A Keras Model with GMF model architeture\n",
    "    \"\"\"\n",
    "    # Input variables\n",
    "    user_input = Input(shape=(1,), dtype='int32', name='user_input')\n",
    "    item_input = Input(shape=(1,), dtype='int32', name='item_input')\n",
    "\n",
    "    mf_embedding_user = Embedding(\n",
    "        input_dim = num_users + 1,\n",
    "        output_dim = latent_dim,\n",
    "        embeddings_initializer = 'uniform',\n",
    "        name = 'user_embedding',\n",
    "        embeddings_regularizer = l2(vu_reg),\n",
    "        input_length = 1\n",
    "    )\n",
    "    \n",
    "    mf_embedding_item = Embedding(\n",
    "        input_dim = num_items + 1,\n",
    "        output_dim = latent_dim,\n",
    "        embeddings_initializer = 'uniform',\n",
    "        name = 'item_embedding',\n",
    "        embeddings_regularizer = l2(vi_reg),\n",
    "        input_length = 1\n",
    "    ) \n",
    "    \n",
    "    # Crucial to flatten an embedding vector!\n",
    "    user_latent = Flatten()(mf_embedding_user(user_input))\n",
    "    item_latent = Flatten()(mf_embedding_item(item_input))\n",
    "\n",
    "    # Element-wise product of user and item embeddings \n",
    "    predict_vector = Multiply()([user_latent, item_latent])\n",
    "    \n",
    "    # Final prediction layer\n",
    "    prediction = Dense(1, kernel_initializer='glorot_uniform', name='prediction')(predict_vector)\n",
    "    \n",
    "    # Stitch input and output\n",
    "    model = Model([user_input, item_input], prediction)\n",
    "    \n",
    "    return model\n",
    "\n",
    "def train_model(model, learner, batch_size, epochs, val_split, inputs, outputs, filepath):\n",
    "    \"\"\"\n",
    "    define training routine, train models and save best model\n",
    "    \n",
    "    Parameters\n",
    "    ----------\n",
    "    model: a Keras model\n",
    "    learner: str, one of ['sgd', 'adam', 'rmsprop', 'adagrad']\n",
    "    batch_size: num samples per update\n",
    "    epochs: num iterations\n",
    "    val_split: split ratio for validation data\n",
    "    inputs: inputs data\n",
    "    outputs: outputs data\n",
    "    \"\"\"\n",
    "    # add customized metric\n",
    "    def rmse(y_true, y_pred):\n",
    "        return K.sqrt(K.mean(K.square(y_true - y_pred)))\n",
    "    \n",
    "    # compile model\n",
    "    model.compile(optimizer=learner.lower(), loss='mean_squared_error', metrics=['mean_squared_error', rmse])\n",
    "    \n",
    "    # add call backs\n",
    "    early_stopper = EarlyStopping(monitor='val_rmse', patience=10, verbose=1)\n",
    "    model_saver = ModelCheckpoint(filepath=filepath, monitor='val_rmse', save_best_only=True, save_weights_only=True)\n",
    "    \n",
    "    # train model\n",
    "    history = model.fit(inputs, outputs, batch_size=batch_size, epochs=epochs, validation_split=val_split, callbacks=[early_stopper, model_saver])\n",
    "    \n",
    "    return history\n",
    "\n",
    "def load_trained_model(model, weights_path):\n",
    "    model.load_weights(weights_path)\n",
    "    return model"
   ]
  },
  {
   "cell_type": "markdown",
   "metadata": {},
   "source": [
    "##### create GMF model"
   ]
  },
  {
   "cell_type": "code",
   "execution_count": 11,
   "metadata": {},
   "outputs": [
    {
     "name": "stdout",
     "output_type": "stream",
     "text": [
      "Model: \"model\"\n",
      "__________________________________________________________________________________________________\n",
      "Layer (type)                    Output Shape         Param #     Connected to                     \n",
      "==================================================================================================\n",
      "user_input (InputLayer)         [(None, 1)]          0                                            \n",
      "__________________________________________________________________________________________________\n",
      "item_input (InputLayer)         [(None, 1)]          0                                            \n",
      "__________________________________________________________________________________________________\n",
      "user_embedding (Embedding)      (None, 1, 10)        60410       user_input[0][0]                 \n",
      "__________________________________________________________________________________________________\n",
      "item_embedding (Embedding)      (None, 1, 10)        39530       item_input[0][0]                 \n",
      "__________________________________________________________________________________________________\n",
      "flatten (Flatten)               (None, 10)           0           user_embedding[0][0]             \n",
      "__________________________________________________________________________________________________\n",
      "flatten_1 (Flatten)             (None, 10)           0           item_embedding[0][0]             \n",
      "__________________________________________________________________________________________________\n",
      "multiply (Multiply)             (None, 10)           0           flatten[0][0]                    \n",
      "                                                                 flatten_1[0][0]                  \n",
      "__________________________________________________________________________________________________\n",
      "prediction (Dense)              (None, 1)            11          multiply[0][0]                   \n",
      "==================================================================================================\n",
      "Total params: 99,951\n",
      "Trainable params: 99,951\n",
      "Non-trainable params: 0\n",
      "__________________________________________________________________________________________________\n"
     ]
    }
   ],
   "source": [
    "GMF_model = get_GMF_model(num_users, num_items, 10, 0, 0)\n",
    "GMF_model.summary()"
   ]
  },
  {
   "cell_type": "markdown",
   "metadata": {},
   "source": [
    "##### train GMF model"
   ]
  },
  {
   "cell_type": "code",
   "execution_count": 12,
   "metadata": {},
   "outputs": [
    {
     "name": "stdout",
     "output_type": "stream",
     "text": [
      "Train on 600125 samples, validate on 200042 samples\n",
      "Epoch 1/30\n",
      "600125/600125 [==============================] - 13s 22us/sample - loss: 2.4348 - mean_squared_error: 2.4348 - rmse: 1.3533 - val_loss: 0.8883 - val_mean_squared_error: 0.8883 - val_rmse: 0.9384\n",
      "Epoch 2/30\n",
      "600125/600125 [==============================] - 13s 21us/sample - loss: 0.8546 - mean_squared_error: 0.8546 - rmse: 0.9205 - val_loss: 0.8393 - val_mean_squared_error: 0.8393 - val_rmse: 0.9121\n",
      "Epoch 3/30\n",
      "600125/600125 [==============================] - 13s 21us/sample - loss: 0.7913 - mean_squared_error: 0.7913 - rmse: 0.8856 - val_loss: 0.8087 - val_mean_squared_error: 0.8087 - val_rmse: 0.8953\n",
      "Epoch 4/30\n",
      "600125/600125 [==============================] - 13s 21us/sample - loss: 0.7554 - mean_squared_error: 0.7554 - rmse: 0.8651 - val_loss: 0.7970 - val_mean_squared_error: 0.7970 - val_rmse: 0.8887\n",
      "Epoch 5/30\n",
      "600125/600125 [==============================] - 12s 21us/sample - loss: 0.7287 - mean_squared_error: 0.7287 - rmse: 0.8496 - val_loss: 0.7890 - val_mean_squared_error: 0.7890 - val_rmse: 0.8842\n",
      "Epoch 6/30\n",
      "600125/600125 [==============================] - 12s 21us/sample - loss: 0.7025 - mean_squared_error: 0.7025 - rmse: 0.8341 - val_loss: 0.7852 - val_mean_squared_error: 0.7852 - val_rmse: 0.8820\n",
      "Epoch 7/30\n",
      "600125/600125 [==============================] - 12s 20us/sample - loss: 0.6798 - mean_squared_error: 0.6798 - rmse: 0.8205 - val_loss: 0.7850 - val_mean_squared_error: 0.7850 - val_rmse: 0.8819\n",
      "Epoch 8/30\n",
      "600125/600125 [==============================] - 12s 21us/sample - loss: 0.6631 - mean_squared_error: 0.6631 - rmse: 0.8103 - val_loss: 0.7869 - val_mean_squared_error: 0.7869 - val_rmse: 0.8829\n",
      "Epoch 9/30\n",
      "600125/600125 [==============================] - 12s 20us/sample - loss: 0.6505 - mean_squared_error: 0.6505 - rmse: 0.8025 - val_loss: 0.7869 - val_mean_squared_error: 0.7869 - val_rmse: 0.8829\n",
      "Epoch 10/30\n",
      "600125/600125 [==============================] - 12s 20us/sample - loss: 0.6410 - mean_squared_error: 0.6410 - rmse: 0.7966 - val_loss: 0.7895 - val_mean_squared_error: 0.7895 - val_rmse: 0.8843\n",
      "Epoch 11/30\n",
      "600125/600125 [==============================] - 12s 21us/sample - loss: 0.6333 - mean_squared_error: 0.6333 - rmse: 0.7917 - val_loss: 0.7901 - val_mean_squared_error: 0.7901 - val_rmse: 0.8846\n",
      "Epoch 12/30\n",
      "600125/600125 [==============================] - 12s 21us/sample - loss: 0.6267 - mean_squared_error: 0.6267 - rmse: 0.7876 - val_loss: 0.7903 - val_mean_squared_error: 0.7903 - val_rmse: 0.8847\n",
      "Epoch 13/30\n",
      "600125/600125 [==============================] - 12s 20us/sample - loss: 0.6214 - mean_squared_error: 0.6214 - rmse: 0.7843 - val_loss: 0.7937 - val_mean_squared_error: 0.7937 - val_rmse: 0.8866\n",
      "Epoch 14/30\n",
      "600125/600125 [==============================] - 12s 20us/sample - loss: 0.6167 - mean_squared_error: 0.6167 - rmse: 0.7814 - val_loss: 0.7939 - val_mean_squared_error: 0.7939 - val_rmse: 0.8867\n",
      "Epoch 15/30\n",
      "600125/600125 [==============================] - 12s 21us/sample - loss: 0.6125 - mean_squared_error: 0.6125 - rmse: 0.7786 - val_loss: 0.7958 - val_mean_squared_error: 0.7958 - val_rmse: 0.8877\n",
      "Epoch 16/30\n",
      "600125/600125 [==============================] - 12s 21us/sample - loss: 0.6090 - mean_squared_error: 0.6090 - rmse: 0.7764 - val_loss: 0.7963 - val_mean_squared_error: 0.7963 - val_rmse: 0.8880\n",
      "Epoch 17/30\n",
      "600125/600125 [==============================] - 12s 21us/sample - loss: 0.6058 - mean_squared_error: 0.6058 - rmse: 0.7743 - val_loss: 0.7967 - val_mean_squared_error: 0.7967 - val_rmse: 0.8882\n",
      "Epoch 00017: early stopping\n"
     ]
    }
   ],
   "source": [
    "# model config\n",
    "BATCH_SIZE = 64\n",
    "EPOCHS = 30\n",
    "VAL_SPLIT = 0.25\n",
    "\n",
    "# train model\n",
    "history = train_model(\n",
    "    GMF_model,\n",
    "    'adam',\n",
    "    BATCH_SIZE,\n",
    "    EPOCHS,\n",
    "    VAL_SPLIT,\n",
    "    inputs=[train.uid.values, train.mid.values],\n",
    "    outputs=train.rating.values,\n",
    "    filepath='model/neural-gmf-weights.hdf5')"
   ]
  },
  {
   "cell_type": "code",
   "execution_count": 13,
   "metadata": {},
   "outputs": [],
   "source": [
    "def plot_learning_curve(history, metric):\n",
    "    \"\"\"\n",
    "    Plot learning curve to compare training error vs. validation error\n",
    "    \"\"\"\n",
    "    # get training error\n",
    "    errors = history.history[metric]\n",
    "    \n",
    "    # get validation error\n",
    "    val_errors = history.history['val_{}'.format(metric)]\n",
    "    \n",
    "    # get epochs\n",
    "    epochs = range(1, len(errors) + 1)\n",
    "\n",
    "    # plot\n",
    "    plt.figure(figsize=(12, 7))\n",
    "    plt.plot(epochs, errors, 'bo', label='training {}'.format(metric))\n",
    "    plt.plot(epochs, val_errors, 'b', label='validation {}'.format(metric))\n",
    "    plt.xlabel('number of epochs')\n",
    "    plt.ylabel(metric)\n",
    "    plt.title('Model Learning Curve')\n",
    "    plt.grid(True)\n",
    "    plt.legend()\n",
    "    plt.show()"
   ]
  },
  {
   "cell_type": "code",
   "execution_count": 14,
   "metadata": {},
   "outputs": [
    {
     "data": {
      "image/png": "[encoded data removed]",
      "text/plain": [
       "<Figure size 864x504 with 1 Axes>"
      ]
     },
     "metadata": {
      "needs_background": "light"
     },
     "output_type": "display_data"
    }
   ],
   "source": [
    "plot_learning_curve(history, 'rmse')"
   ]
  },
  {
   "cell_type": "markdown",
   "metadata": {},
   "source": [
    "##### GMF model testing"
   ]
  },
  {
   "cell_type": "code",
   "execution_count": 15,
   "metadata": {},
   "outputs": [],
   "source": [
    "# define rmse function\n",
    "rmse = lambda true, pred: np.sqrt(np.mean(np.square(np.squeeze(predictions) - np.squeeze(test.rating.values))))"
   ]
  },
  {
   "cell_type": "code",
   "execution_count": 16,
   "metadata": {},
   "outputs": [
    {
     "name": "stdout",
     "output_type": "stream",
     "text": [
      "The out-of-sample RMSE of rating predictions is 0.8852\n"
     ]
    }
   ],
   "source": [
    "# load best model\n",
    "GMF_model = get_GMF_model(num_users, num_items, 10, 0, 0)\n",
    "GMF_model = load_trained_model(GMF_model, 'model/neural-gmf-weights.hdf5')\n",
    "\n",
    "# make prediction using test data\n",
    "predictions = GMF_model.predict([test.uid.values, test.mid.values])\n",
    "\n",
    "# get the RMSE\n",
    "error = rmse(test.rating.values, predictions)\n",
    "print('The out-of-sample RMSE of rating predictions is', round(error, 4))"
   ]
  },
  {
   "cell_type": "markdown",
   "metadata": {},
   "source": [
    "#### Train Multi-Layer Perceptron Model and Test Model"
   ]
  },
  {
   "cell_type": "markdown",
   "metadata": {},
   "source": [
    "##### define MLP model architeture"
   ]
  },
  {
   "cell_type": "code",
   "execution_count": 17,
   "metadata": {},
   "outputs": [],
   "source": [
    "def get_MLP_model(num_users, num_items, layers, reg_layers):\n",
    "    \"\"\"\n",
    "    Build Multi-Layer Perceptron Model Topology\n",
    "    \n",
    "    Parameters\n",
    "    ----------\n",
    "    num_users: int, total number of users\n",
    "    num_iterms: int, total number of items\n",
    "    layers: list of int, each element is the number of hidden units for each layer,\n",
    "        with the exception of first element. First element is the sum of dims of\n",
    "        user latent vector and item latent vector\n",
    "    reg_layers: list of int, each element is the L2 regularization parameter for\n",
    "        each layer in MLP\n",
    "\n",
    "    Return\n",
    "    ------\n",
    "    A Keras Model with MLP model architeture\n",
    "    \"\"\"\n",
    "    assert len(layers) == len(reg_layers)\n",
    "    num_layer = len(layers) # Number of layers in the MLP\n",
    "    \n",
    "    # Input variables\n",
    "    user_input = Input(shape=(1,), dtype='int32', name='user_input')\n",
    "    item_input = Input(shape=(1,), dtype='int32', name='item_input')\n",
    "\n",
    "    mlp_embedding_user = Embedding(\n",
    "        input_dim=num_users + 1,\n",
    "        output_dim=layers[0] // 2,\n",
    "        embeddings_initializer='uniform',\n",
    "        name='user_embedding',\n",
    "        embeddings_regularizer=l2(reg_layers[0]),\n",
    "        input_length=1)\n",
    "    \n",
    "    mlp_embedding_item = Embedding(\n",
    "        input_dim=num_items + 1,\n",
    "        output_dim=layers[0] // 2,\n",
    "        embeddings_initializer='uniform',\n",
    "        name='item_embedding',\n",
    "        embeddings_regularizer=l2(reg_layers[0]),\n",
    "        input_length=1) \n",
    "    \n",
    "    # Crucial to flatten an embedding vector!\n",
    "    user_latent = Flatten()(mlp_embedding_user(user_input))\n",
    "    item_latent = Flatten()(mlp_embedding_item(item_input))\n",
    "\n",
    "    # The 0-th layer is the concatenation of embedding layers\n",
    "    vector = Concatenate(axis=-1)([user_latent, item_latent])\n",
    "\n",
    "    # MLP layers\n",
    "    for idx in range(1, num_layer):\n",
    "        layer = Dense(\n",
    "            units=layers[idx],\n",
    "            activation='relu',\n",
    "            kernel_initializer='glorot_uniform',\n",
    "            kernel_regularizer=l2(reg_layers[idx]),\n",
    "            name = 'layer%d' %idx)\n",
    "        vector = layer(vector)\n",
    "    \n",
    "    # Final prediction layer\n",
    "    prediction = Dense(1, kernel_initializer='glorot_uniform', name='prediction')(vector)\n",
    "    \n",
    "    # Stitch input and output\n",
    "    model = Model([user_input, item_input], prediction)\n",
    "    \n",
    "    return model"
   ]
  },
  {
   "cell_type": "markdown",
   "metadata": {},
   "source": [
    "##### create MLP model"
   ]
  },
  {
   "cell_type": "code",
   "execution_count": 18,
   "metadata": {},
   "outputs": [
    {
     "name": "stdout",
     "output_type": "stream",
     "text": [
      "Model: \"model_2\"\n",
      "__________________________________________________________________________________________________\n",
      "Layer (type)                    Output Shape         Param #     Connected to                     \n",
      "==================================================================================================\n",
      "user_input (InputLayer)         [(None, 1)]          0                                            \n",
      "__________________________________________________________________________________________________\n",
      "item_input (InputLayer)         [(None, 1)]          0                                            \n",
      "__________________________________________________________________________________________________\n",
      "user_embedding (Embedding)      (None, 1, 32)        193312      user_input[0][0]                 \n",
      "__________________________________________________________________________________________________\n",
      "item_embedding (Embedding)      (None, 1, 32)        126496      item_input[0][0]                 \n",
      "__________________________________________________________________________________________________\n",
      "flatten_4 (Flatten)             (None, 32)           0           user_embedding[0][0]             \n",
      "__________________________________________________________________________________________________\n",
      "flatten_5 (Flatten)             (None, 32)           0           item_embedding[0][0]             \n",
      "__________________________________________________________________________________________________\n",
      "concatenate (Concatenate)       (None, 64)           0           flatten_4[0][0]                  \n",
      "                                                                 flatten_5[0][0]                  \n",
      "__________________________________________________________________________________________________\n",
      "layer1 (Dense)                  (None, 32)           2080        concatenate[0][0]                \n",
      "__________________________________________________________________________________________________\n",
      "layer2 (Dense)                  (None, 16)           528         layer1[0][0]                     \n",
      "__________________________________________________________________________________________________\n",
      "layer3 (Dense)                  (None, 8)            136         layer2[0][0]                     \n",
      "__________________________________________________________________________________________________\n",
      "prediction (Dense)              (None, 1)            9           layer3[0][0]                     \n",
      "==================================================================================================\n",
      "Total params: 322,561\n",
      "Trainable params: 322,561\n",
      "Non-trainable params: 0\n",
      "__________________________________________________________________________________________________\n"
     ]
    }
   ],
   "source": [
    "MLP_model = get_MLP_model(num_users, num_items, [64, 32, 16, 8], [0, 0, 0, 0])\n",
    "MLP_model.summary()"
   ]
  },
  {
   "cell_type": "markdown",
   "metadata": {},
   "source": [
    "##### train MLP model"
   ]
  },
  {
   "cell_type": "code",
   "execution_count": 19,
   "metadata": {},
   "outputs": [
    {
     "name": "stdout",
     "output_type": "stream",
     "text": [
      "Train on 600125 samples, validate on 200042 samples\n",
      "Epoch 1/30\n",
      "600125/600125 [==============================] - 19s 31us/sample - loss: 0.9846 - mean_squared_error: 0.9846 - rmse: 0.9564 - val_loss: 0.8252 - val_mean_squared_error: 0.8252 - val_rmse: 0.9041\n",
      "Epoch 2/30\n",
      "600125/600125 [==============================] - 18s 30us/sample - loss: 0.8007 - mean_squared_error: 0.8007 - rmse: 0.8908 - val_loss: 0.8014 - val_mean_squared_error: 0.8014 - val_rmse: 0.8912\n",
      "Epoch 3/30\n",
      "600125/600125 [==============================] - 18s 31us/sample - loss: 0.7681 - mean_squared_error: 0.7681 - rmse: 0.8723 - val_loss: 0.7901 - val_mean_squared_error: 0.7901 - val_rmse: 0.8848\n",
      "Epoch 4/30\n",
      "600125/600125 [==============================] - 18s 31us/sample - loss: 0.7462 - mean_squared_error: 0.7462 - rmse: 0.8596 - val_loss: 0.8004 - val_mean_squared_error: 0.8004 - val_rmse: 0.8901\n",
      "Epoch 5/30\n",
      "600125/600125 [==============================] - 19s 31us/sample - loss: 0.7271 - mean_squared_error: 0.7271 - rmse: 0.8486 - val_loss: 0.7877 - val_mean_squared_error: 0.7877 - val_rmse: 0.8834\n",
      "Epoch 6/30\n",
      "600125/600125 [==============================] - 19s 31us/sample - loss: 0.7067 - mean_squared_error: 0.7067 - rmse: 0.8365 - val_loss: 0.7954 - val_mean_squared_error: 0.7954 - val_rmse: 0.8875\n",
      "Epoch 7/30\n",
      "600125/600125 [==============================] - 19s 32us/sample - loss: 0.6853 - mean_squared_error: 0.6853 - rmse: 0.8236 - val_loss: 0.7956 - val_mean_squared_error: 0.7956 - val_rmse: 0.8879\n",
      "Epoch 8/30\n",
      "600125/600125 [==============================] - 19s 32us/sample - loss: 0.6645 - mean_squared_error: 0.6645 - rmse: 0.8109 - val_loss: 0.8065 - val_mean_squared_error: 0.8065 - val_rmse: 0.8938\n",
      "Epoch 9/30\n",
      "600125/600125 [==============================] - 20s 33us/sample - loss: 0.6450 - mean_squared_error: 0.6450 - rmse: 0.7991 - val_loss: 0.8070 - val_mean_squared_error: 0.8070 - val_rmse: 0.8940\n",
      "Epoch 10/30\n",
      "600125/600125 [==============================] - 20s 33us/sample - loss: 0.6265 - mean_squared_error: 0.6265 - rmse: 0.7874 - val_loss: 0.8140 - val_mean_squared_error: 0.8140 - val_rmse: 0.8979\n",
      "Epoch 11/30\n",
      "600125/600125 [==============================] - 20s 33us/sample - loss: 0.6095 - mean_squared_error: 0.6095 - rmse: 0.7766 - val_loss: 0.8193 - val_mean_squared_error: 0.8193 - val_rmse: 0.9007\n",
      "Epoch 12/30\n",
      "600125/600125 [==============================] - 20s 34us/sample - loss: 0.5937 - mean_squared_error: 0.5937 - rmse: 0.7663 - val_loss: 0.8365 - val_mean_squared_error: 0.8365 - val_rmse: 0.9103\n",
      "Epoch 13/30\n",
      "600125/600125 [==============================] - 20s 34us/sample - loss: 0.5786 - mean_squared_error: 0.5786 - rmse: 0.7564 - val_loss: 0.8382 - val_mean_squared_error: 0.8382 - val_rmse: 0.9112\n",
      "Epoch 14/30\n",
      "600125/600125 [==============================] - 21s 34us/sample - loss: 0.5649 - mean_squared_error: 0.5649 - rmse: 0.7475 - val_loss: 0.8518 - val_mean_squared_error: 0.8518 - val_rmse: 0.9185\n",
      "Epoch 15/30\n",
      "600125/600125 [==============================] - 21s 35us/sample - loss: 0.5525 - mean_squared_error: 0.5525 - rmse: 0.7391 - val_loss: 0.8554 - val_mean_squared_error: 0.8554 - val_rmse: 0.9203\n",
      "Epoch 00015: early stopping\n"
     ]
    }
   ],
   "source": [
    "# model config\n",
    "BATCH_SIZE = 64\n",
    "EPOCHS = 30\n",
    "VAL_SPLIT = 0.25\n",
    "\n",
    "# train model\n",
    "history = train_model(\n",
    "    MLP_model,\n",
    "    'adam',\n",
    "    BATCH_SIZE,\n",
    "    EPOCHS,\n",
    "    VAL_SPLIT,\n",
    "    inputs=[train.uid.values, train.mid.values],\n",
    "    outputs=train.rating.values,\n",
    "    filepath='model/neural-mlp-weights.hdf5')"
   ]
  },
  {
   "cell_type": "markdown",
   "metadata": {},
   "source": [
    "##### MLP learning curve"
   ]
  },
  {
   "cell_type": "code",
   "execution_count": 20,
   "metadata": {},
   "outputs": [
    {
     "data": {
      "image/png": "[encoded data removed]",
      "text/plain": [
       "<Figure size 864x504 with 1 Axes>"
      ]
     },
     "metadata": {
      "needs_background": "light"
     },
     "output_type": "display_data"
    }
   ],
   "source": [
    "plot_learning_curve(history, 'rmse')"
   ]
  },
  {
   "cell_type": "markdown",
   "metadata": {},
   "source": [
    "#### MLP model testing"
   ]
  },
  {
   "cell_type": "markdown",
   "metadata": {},
   "source": [
    "##### And finally, make a prediction and check the testing error using out-of-sample data"
   ]
  },
  {
   "cell_type": "code",
   "execution_count": 22,
   "metadata": {},
   "outputs": [
    {
     "name": "stdout",
     "output_type": "stream",
     "text": [
      "The out-of-sample RMSE of rating predictions is 0.8855\n"
     ]
    }
   ],
   "source": [
    "# load best model\n",
    "MLP_model = get_MLP_model(num_users, num_items, [64, 32, 16, 8], [0, 0, 0, 0])\n",
    "MLP_model = load_trained_model(MLP_model, 'model/neural-mlp-weights.hdf5')\n",
    "\n",
    "# make prediction using test data\n",
    "predictions = MLP_model.predict([test.uid.values, test.mid.values])\n",
    "\n",
    "# get the RMSE\n",
    "error = rmse(test.rating.values, predictions)\n",
    "print('The out-of-sample RMSE of rating predictions is', round(error, 4))"
   ]
  },
  {
   "cell_type": "markdown",
   "metadata": {},
   "source": [
    "#### Train Neural Matrix Factorization (NeuralMF) and Test Model"
   ]
  },
  {
   "cell_type": "markdown",
   "metadata": {},
   "source": [
    "##### define NeuralMF model architeture"
   ]
  },
  {
   "cell_type": "code",
   "execution_count": 24,
   "metadata": {},
   "outputs": [],
   "source": [
    "def get_NeuralMF_model(num_users, num_items, MF_dim, MF_reg, MLP_layers, MLP_regs):\n",
    "    \"\"\"\n",
    "    Build Neural Matrix Factorization (NeuralMF) Model Topology.\n",
    "    This is stack version of both GMF and MLP\n",
    "    \n",
    "    Parameters\n",
    "    ----------\n",
    "    num_users: int, total number of users\n",
    "    num_iterms: int, total number of items\n",
    "    MF_dim: int, embedded dimension for user vector and item vector in MF\n",
    "    MF_reg: tuple of float, L2 regularization of MF embedded layer\n",
    "    MLP_layers: list of int, each element is the number of hidden units for each MLP layer,\n",
    "        with the exception of first element. First element is the sum of dims of\n",
    "        user latent vector and item latent vector\n",
    "    MLP_regs: list of int, each element is the L2 regularization parameter for\n",
    "        each layer in MLP\n",
    "\n",
    "    Return\n",
    "    ------\n",
    "    A Keras Model with MLP model architeture\n",
    "    \"\"\"\n",
    "    assert len(MLP_layers) == len(MLP_regs)\n",
    "    num_MLP_layer = len(MLP_layers) # Number of layers in the MLP\n",
    "    \n",
    "    # Input variables\n",
    "    user_input = Input(shape=(1,), dtype='int32', name='user_input')\n",
    "    item_input = Input(shape=(1,), dtype='int32', name='item_input')\n",
    "\n",
    "    # MF Embedding layer\n",
    "    mf_embedding_user = Embedding(\n",
    "        input_dim=num_users + 1,\n",
    "        output_dim=MF_dim,\n",
    "        embeddings_initializer='uniform',\n",
    "        name='mf_user_embedding',\n",
    "        embeddings_regularizer=l2(MF_reg[0]),\n",
    "        input_length=1)\n",
    "    \n",
    "    mf_embedding_item = Embedding(\n",
    "        input_dim=num_items + 1,\n",
    "        output_dim=MF_dim,\n",
    "        embeddings_initializer='uniform',\n",
    "        name='mf_item_embedding',\n",
    "        embeddings_regularizer=l2(MF_reg[1]),\n",
    "        input_length=1)\n",
    "    \n",
    "    # MLP\n",
    "    mlp_embedding_user = Embedding(\n",
    "        input_dim=num_users + 1,\n",
    "        output_dim=MLP_layers[0] // 2,\n",
    "        embeddings_initializer='uniform',\n",
    "        name='mlp_user_embedding',\n",
    "        embeddings_regularizer=l2(MLP_regs[0]),\n",
    "        input_length=1)\n",
    "    \n",
    "    mlp_embedding_Item = Embedding(\n",
    "        input_dim=num_items + 1,\n",
    "        output_dim=MLP_layers[0] // 2,\n",
    "        embeddings_initializer='uniform',\n",
    "        name='mlp_item_embedding',\n",
    "        embeddings_regularizer=l2(MLP_regs[0]),\n",
    "        input_length=1) \n",
    "    \n",
    "    # MF part\n",
    "    mf_user_latent = Flatten()(mf_embedding_user(user_input))\n",
    "    mf_item_latent = Flatten()(mf_embedding_item(item_input))\n",
    "    mf_vector = Multiply()([mf_user_latent, mf_item_latent])\n",
    "\n",
    "    # MLP part\n",
    "    mlp_user_latent = Flatten()(mlp_embedding_user(user_input))\n",
    "    mlp_item_latent = Flatten()(mlp_embedding_Item(item_input))\n",
    "    mlp_vector = Concatenate(axis=-1)([mlp_user_latent, mlp_item_latent])\n",
    "\n",
    "    for idx in range(1, num_MLP_layer):\n",
    "        layer = Dense(\n",
    "            units=MLP_layers[idx],\n",
    "            activation='relu',\n",
    "            kernel_initializer='glorot_uniform',\n",
    "            kernel_regularizer=l2(MLP_regs[idx]),\n",
    "            name = 'layer%d' %idx)\n",
    "        mlp_vector = layer(mlp_vector)\n",
    "    \n",
    "    # Concatenate MF and MLP parts\n",
    "    predict_vector = Concatenate(axis=-1)([mf_vector, mlp_vector])\n",
    "\n",
    "    # Final prediction layer\n",
    "    prediction = Dense(1, kernel_initializer='glorot_uniform', name='prediction')(predict_vector)\n",
    "    \n",
    "    # Stitch input and output\n",
    "    model = Model([user_input, item_input], prediction)\n",
    "    \n",
    "    return model"
   ]
  },
  {
   "cell_type": "markdown",
   "metadata": {},
   "source": [
    "##### create NeuralMF model"
   ]
  },
  {
   "cell_type": "code",
   "execution_count": 25,
   "metadata": {},
   "outputs": [
    {
     "name": "stdout",
     "output_type": "stream",
     "text": [
      "Model: \"model_4\"\n",
      "__________________________________________________________________________________________________\n",
      "Layer (type)                    Output Shape         Param #     Connected to                     \n",
      "==================================================================================================\n",
      "user_input (InputLayer)         [(None, 1)]          0                                            \n",
      "__________________________________________________________________________________________________\n",
      "item_input (InputLayer)         [(None, 1)]          0                                            \n",
      "__________________________________________________________________________________________________\n",
      "mlp_user_embedding (Embedding)  (None, 1, 32)        193312      user_input[0][0]                 \n",
      "__________________________________________________________________________________________________\n",
      "mlp_item_embedding (Embedding)  (None, 1, 32)        126496      item_input[0][0]                 \n",
      "__________________________________________________________________________________________________\n",
      "flatten_10 (Flatten)            (None, 32)           0           mlp_user_embedding[0][0]         \n",
      "__________________________________________________________________________________________________\n",
      "flatten_11 (Flatten)            (None, 32)           0           mlp_item_embedding[0][0]         \n",
      "__________________________________________________________________________________________________\n",
      "concatenate_2 (Concatenate)     (None, 64)           0           flatten_10[0][0]                 \n",
      "                                                                 flatten_11[0][0]                 \n",
      "__________________________________________________________________________________________________\n",
      "mf_user_embedding (Embedding)   (None, 1, 10)        60410       user_input[0][0]                 \n",
      "__________________________________________________________________________________________________\n",
      "mf_item_embedding (Embedding)   (None, 1, 10)        39530       item_input[0][0]                 \n",
      "__________________________________________________________________________________________________\n",
      "layer1 (Dense)                  (None, 32)           2080        concatenate_2[0][0]              \n",
      "__________________________________________________________________________________________________\n",
      "flatten_8 (Flatten)             (None, 10)           0           mf_user_embedding[0][0]          \n",
      "__________________________________________________________________________________________________\n",
      "flatten_9 (Flatten)             (None, 10)           0           mf_item_embedding[0][0]          \n",
      "__________________________________________________________________________________________________\n",
      "layer2 (Dense)                  (None, 16)           528         layer1[0][0]                     \n",
      "__________________________________________________________________________________________________\n",
      "multiply_2 (Multiply)           (None, 10)           0           flatten_8[0][0]                  \n",
      "                                                                 flatten_9[0][0]                  \n",
      "__________________________________________________________________________________________________\n",
      "layer3 (Dense)                  (None, 8)            136         layer2[0][0]                     \n",
      "__________________________________________________________________________________________________\n",
      "concatenate_3 (Concatenate)     (None, 18)           0           multiply_2[0][0]                 \n",
      "                                                                 layer3[0][0]                     \n",
      "__________________________________________________________________________________________________\n",
      "prediction (Dense)              (None, 1)            19          concatenate_3[0][0]              \n",
      "==================================================================================================\n",
      "Total params: 422,511\n",
      "Trainable params: 422,511\n",
      "Non-trainable params: 0\n",
      "__________________________________________________________________________________________________\n"
     ]
    }
   ],
   "source": [
    "NeuralMF_model = get_NeuralMF_model(\n",
    "    num_users=num_users,\n",
    "    num_items=num_items,\n",
    "    MF_dim=10,\n",
    "    MF_reg=(0, 0),\n",
    "    MLP_layers=[64, 32, 16, 8],\n",
    "    MLP_regs=[0, 0, 0, 0])\n",
    "NeuralMF_model.summary()"
   ]
  },
  {
   "cell_type": "markdown",
   "metadata": {},
   "source": [
    "##### train NeuralMF model"
   ]
  },
  {
   "cell_type": "code",
   "execution_count": 29,
   "metadata": {},
   "outputs": [
    {
     "name": "stdout",
     "output_type": "stream",
     "text": [
      "Train on 600125 samples, validate on 200042 samples\n",
      "Epoch 1/30\n",
      "600125/600125 [==============================] - 22s 37us/sample - loss: 0.6754 - mean_squared_error: 0.6754 - rmse: 0.8177 - val_loss: 0.7938 - val_mean_squared_error: 0.7938 - val_rmse: 0.8869\n",
      "Epoch 2/30\n",
      "600125/600125 [==============================] - 22s 37us/sample - loss: 0.6355 - mean_squared_error: 0.6355 - rmse: 0.7931 - val_loss: 0.8053 - val_mean_squared_error: 0.8053 - val_rmse: 0.8928\n",
      "Epoch 3/30\n",
      "600125/600125 [==============================] - 22s 37us/sample - loss: 0.6046 - mean_squared_error: 0.6046 - rmse: 0.7735 - val_loss: 0.8041 - val_mean_squared_error: 0.8041 - val_rmse: 0.8924\n",
      "Epoch 4/30\n",
      "600125/600125 [==============================] - 23s 38us/sample - loss: 0.5777 - mean_squared_error: 0.5777 - rmse: 0.7560 - val_loss: 0.8149 - val_mean_squared_error: 0.8149 - val_rmse: 0.8982\n",
      "Epoch 5/30\n",
      "600125/600125 [==============================] - 26s 43us/sample - loss: 0.5539 - mean_squared_error: 0.5539 - rmse: 0.7401 - val_loss: 0.8293 - val_mean_squared_error: 0.8293 - val_rmse: 0.9060\n",
      "Epoch 6/30\n",
      "600125/600125 [==============================] - 24s 40us/sample - loss: 0.5326 - mean_squared_error: 0.5326 - rmse: 0.7258 - val_loss: 0.8342 - val_mean_squared_error: 0.8342 - val_rmse: 0.9089\n",
      "Epoch 7/30\n",
      "600125/600125 [==============================] - 22s 37us/sample - loss: 0.5133 - mean_squared_error: 0.5133 - rmse: 0.7124 - val_loss: 0.8470 - val_mean_squared_error: 0.8470 - val_rmse: 0.9159\n",
      "Epoch 8/30\n",
      "600125/600125 [==============================] - 24s 40us/sample - loss: 0.4960 - mean_squared_error: 0.4960 - rmse: 0.7002 - val_loss: 0.8624 - val_mean_squared_error: 0.8624 - val_rmse: 0.9241\n",
      "Epoch 9/30\n",
      "600125/600125 [==============================] - 24s 40us/sample - loss: 0.4794 - mean_squared_error: 0.4794 - rmse: 0.6883 - val_loss: 0.8976 - val_mean_squared_error: 0.8976 - val_rmse: 0.9426\n",
      "Epoch 10/30\n",
      "600125/600125 [==============================] - 24s 40us/sample - loss: 0.4654 - mean_squared_error: 0.4654 - rmse: 0.6780 - val_loss: 0.8859 - val_mean_squared_error: 0.8859 - val_rmse: 0.9367\n",
      "Epoch 11/30\n",
      "600125/600125 [==============================] - 24s 40us/sample - loss: 0.4516 - mean_squared_error: 0.4516 - rmse: 0.6679 - val_loss: 0.8918 - val_mean_squared_error: 0.8918 - val_rmse: 0.9397\n",
      "Epoch 00011: early stopping\n"
     ]
    }
   ],
   "source": [
    "# model config\n",
    "BATCH_SIZE = 64\n",
    "EPOCHS = 30\n",
    "VAL_SPLIT = 0.25\n",
    "\n",
    "# train model\n",
    "history = train_model(\n",
    "    NeuralMF_model,\n",
    "    'adam',\n",
    "    BATCH_SIZE,\n",
    "    EPOCHS,\n",
    "    VAL_SPLIT,\n",
    "    inputs=[train.uid.values, train.mid.values],\n",
    "    outputs=train.rating.values,\n",
    "    filepath='model/neural-nmf-weights.hdf5')"
   ]
  },
  {
   "cell_type": "markdown",
   "metadata": {},
   "source": [
    "##### Neural Matrix Factorization (NeuralMF) learning curve"
   ]
  },
  {
   "cell_type": "code",
   "execution_count": 27,
   "metadata": {},
   "outputs": [
    {
     "data": {
      "image/png": "[encoded data removed]",
      "text/plain": [
       "<Figure size 864x504 with 1 Axes>"
      ]
     },
     "metadata": {
      "needs_background": "light"
     },
     "output_type": "display_data"
    }
   ],
   "source": [
    "plot_learning_curve(history, 'rmse')"
   ]
  },
  {
   "cell_type": "markdown",
   "metadata": {},
   "source": [
    "##### Neural Matrix Factorization (NeuralMF) model testing"
   ]
  },
  {
   "cell_type": "markdown",
   "metadata": {},
   "source": [
    "##### And finally, make a prediction and check the testing error using out-of-sample data"
   ]
  },
  {
   "cell_type": "code",
   "execution_count": 31,
   "metadata": {},
   "outputs": [
    {
     "name": "stdout",
     "output_type": "stream",
     "text": [
      "The out-of-sample RMSE of rating predictions is 0.8897\n"
     ]
    }
   ],
   "source": [
    "# load best model\n",
    "NeuralMF_model = get_NeuralMF_model(\n",
    "    num_users=num_users,\n",
    "    num_items=num_items,\n",
    "    MF_dim=10,\n",
    "    MF_reg=(0, 0),\n",
    "    MLP_layers=[64, 32, 16, 8],\n",
    "    MLP_regs=[0, 0, 0, 0])\n",
    "NeuralMF_model = load_trained_model(NeuralMF_model, 'model/neural-nmf-weights.hdf5')\n",
    "\n",
    "# make prediction using test data\n",
    "predictions = NeuralMF_model.predict([test.uid.values, test.mid.values])\n",
    "\n",
    "# get the RMSE\n",
    "error = rmse(test.rating.values, predictions)\n",
    "print('The out-of-sample RMSE of rating predictions is', round(error, 4))"
   ]
  },
  {
   "cell_type": "code",
   "execution_count": null,
   "metadata": {},
   "outputs": [],
   "source": []
  }
 ],
 "metadata": {
  "kernelspec": {
   "display_name": "Python 3",
   "language": "python",
   "name": "python3"
  },
  "language_info": {
   "codemirror_mode": {
    "name": "ipython",
    "version": 3
   },
   "file_extension": ".py",
   "mimetype": "text/x-python",
   "name": "python",
   "nbconvert_exporter": "python",
   "pygments_lexer": "ipython3",
   "version": "3.7.6"
  }
 },
 "nbformat": 4,
 "nbformat_minor": 4
}
