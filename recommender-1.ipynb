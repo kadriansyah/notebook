{
 "cells": [
  {
   "cell_type": "markdown",
   "metadata": {},
   "source": [
    "#### source: https://towardsdatascience.com/building-a-book-recommendation-system-using-keras"
   ]
  },
  {
   "cell_type": "code",
   "execution_count": 3,
   "metadata": {
    "colab": {
     "base_uri": "https://localhost:8080/",
     "height": 88
    },
    "colab_type": "code",
    "executionInfo": {
     "elapsed": 959,
     "status": "ok",
     "timestamp": 1580703940216,
     "user": {
      "displayName": "Kiagus Arief Adriansyah",
      "photoUrl": "https://lh3.googleusercontent.com/a-/AAuE7mDgNof4X_p29AVNSbm_npSTtGqp1GtqPb5UuwPF4Q=s64",
      "userId": "15196441721339582267"
     },
     "user_tz": -420
    },
    "id": "N1aCcKLFQTMW",
    "outputId": "d4d32871-1f71-4ab8-bf31-b140dbb70991"
   },
   "outputs": [],
   "source": [
    "from __future__ import absolute_import, division, print_function, unicode_literals\n",
    "import tensorflow as tf\n",
    "\n",
    "import numpy as np\n",
    "import pandas as pd\n",
    "import matplotlib.pyplot as plt\n",
    "import os\n",
    "import warnings\n",
    "\n",
    "from tensorflow.keras.layers import Input, Embedding, Flatten, Dot, Dense, Concatenate\n",
    "from tensorflow.keras.models import Model\n",
    "\n",
    "warnings.filterwarnings('ignore')\n",
    "%matplotlib inline"
   ]
  },
  {
   "cell_type": "markdown",
   "metadata": {
    "colab_type": "text",
    "id": "PkdjhXwdQTMd"
   },
   "source": [
    "#### Loading in data"
   ]
  },
  {
   "cell_type": "code",
   "execution_count": 4,
   "metadata": {
    "colab": {},
    "colab_type": "code",
    "id": "_Rk-GzjyQTMe"
   },
   "outputs": [],
   "source": [
    "dataset = pd.read_csv('data/ratings.csv')"
   ]
  },
  {
   "cell_type": "code",
   "execution_count": 5,
   "metadata": {
    "colab": {
     "base_uri": "https://localhost:8080/",
     "height": 204
    },
    "colab_type": "code",
    "executionInfo": {
     "elapsed": 1060,
     "status": "ok",
     "timestamp": 1580703968325,
     "user": {
      "displayName": "Kiagus Arief Adriansyah",
      "photoUrl": "https://lh3.googleusercontent.com/a-/AAuE7mDgNof4X_p29AVNSbm_npSTtGqp1GtqPb5UuwPF4Q=s64",
      "userId": "15196441721339582267"
     },
     "user_tz": -420
    },
    "id": "Kq9kmUUJQTMi",
    "outputId": "5335716a-9e34-44f0-f85d-740266777c99"
   },
   "outputs": [
    {
     "data": {
      "text/html": [
       "<div>\n",
       "<style scoped>\n",
       "    .dataframe tbody tr th:only-of-type {\n",
       "        vertical-align: middle;\n",
       "    }\n",
       "\n",
       "    .dataframe tbody tr th {\n",
       "        vertical-align: top;\n",
       "    }\n",
       "\n",
       "    .dataframe thead th {\n",
       "        text-align: right;\n",
       "    }\n",
       "</style>\n",
       "<table border=\"1\" class=\"dataframe\">\n",
       "  <thead>\n",
       "    <tr style=\"text-align: right;\">\n",
       "      <th></th>\n",
       "      <th>book_id</th>\n",
       "      <th>user_id</th>\n",
       "      <th>rating</th>\n",
       "    </tr>\n",
       "  </thead>\n",
       "  <tbody>\n",
       "    <tr>\n",
       "      <th>0</th>\n",
       "      <td>1</td>\n",
       "      <td>314</td>\n",
       "      <td>5</td>\n",
       "    </tr>\n",
       "    <tr>\n",
       "      <th>1</th>\n",
       "      <td>1</td>\n",
       "      <td>439</td>\n",
       "      <td>3</td>\n",
       "    </tr>\n",
       "    <tr>\n",
       "      <th>2</th>\n",
       "      <td>1</td>\n",
       "      <td>588</td>\n",
       "      <td>5</td>\n",
       "    </tr>\n",
       "    <tr>\n",
       "      <th>3</th>\n",
       "      <td>1</td>\n",
       "      <td>1169</td>\n",
       "      <td>4</td>\n",
       "    </tr>\n",
       "    <tr>\n",
       "      <th>4</th>\n",
       "      <td>1</td>\n",
       "      <td>1185</td>\n",
       "      <td>4</td>\n",
       "    </tr>\n",
       "  </tbody>\n",
       "</table>\n",
       "</div>"
      ],
      "text/plain": [
       "   book_id  user_id  rating\n",
       "0        1      314       5\n",
       "1        1      439       3\n",
       "2        1      588       5\n",
       "3        1     1169       4\n",
       "4        1     1185       4"
      ]
     },
     "execution_count": 5,
     "metadata": {},
     "output_type": "execute_result"
    }
   ],
   "source": [
    "dataset.head()"
   ]
  },
  {
   "cell_type": "code",
   "execution_count": 6,
   "metadata": {
    "colab": {
     "base_uri": "https://localhost:8080/",
     "height": 34
    },
    "colab_type": "code",
    "executionInfo": {
     "elapsed": 1191,
     "status": "ok",
     "timestamp": 1580703980173,
     "user": {
      "displayName": "Kiagus Arief Adriansyah",
      "photoUrl": "https://lh3.googleusercontent.com/a-/AAuE7mDgNof4X_p29AVNSbm_npSTtGqp1GtqPb5UuwPF4Q=s64",
      "userId": "15196441721339582267"
     },
     "user_tz": -420
    },
    "id": "hlCLsnjpQTMm",
    "outputId": "093bdf20-4045-4813-a570-14c00919b70e"
   },
   "outputs": [
    {
     "data": {
      "text/plain": [
       "(981756, 3)"
      ]
     },
     "execution_count": 6,
     "metadata": {},
     "output_type": "execute_result"
    }
   ],
   "source": [
    "dataset.shape"
   ]
  },
  {
   "cell_type": "code",
   "execution_count": 7,
   "metadata": {
    "colab": {},
    "colab_type": "code",
    "id": "hqdfscRgQTMq"
   },
   "outputs": [],
   "source": [
    "from sklearn.model_selection import train_test_split\n",
    "train, test = train_test_split(dataset, test_size=0.2, random_state=42)"
   ]
  },
  {
   "cell_type": "code",
   "execution_count": 8,
   "metadata": {
    "colab": {
     "base_uri": "https://localhost:8080/",
     "height": 204
    },
    "colab_type": "code",
    "executionInfo": {
     "elapsed": 934,
     "status": "ok",
     "timestamp": 1580703993384,
     "user": {
      "displayName": "Kiagus Arief Adriansyah",
      "photoUrl": "https://lh3.googleusercontent.com/a-/AAuE7mDgNof4X_p29AVNSbm_npSTtGqp1GtqPb5UuwPF4Q=s64",
      "userId": "15196441721339582267"
     },
     "user_tz": -420
    },
    "id": "ChHnhXp4QTMu",
    "outputId": "88d9cb77-4d36-4e7a-a851-8b34601fd071"
   },
   "outputs": [
    {
     "data": {
      "text/html": [
       "<div>\n",
       "<style scoped>\n",
       "    .dataframe tbody tr th:only-of-type {\n",
       "        vertical-align: middle;\n",
       "    }\n",
       "\n",
       "    .dataframe tbody tr th {\n",
       "        vertical-align: top;\n",
       "    }\n",
       "\n",
       "    .dataframe thead th {\n",
       "        text-align: right;\n",
       "    }\n",
       "</style>\n",
       "<table border=\"1\" class=\"dataframe\">\n",
       "  <thead>\n",
       "    <tr style=\"text-align: right;\">\n",
       "      <th></th>\n",
       "      <th>book_id</th>\n",
       "      <th>user_id</th>\n",
       "      <th>rating</th>\n",
       "    </tr>\n",
       "  </thead>\n",
       "  <tbody>\n",
       "    <tr>\n",
       "      <th>341848</th>\n",
       "      <td>3423</td>\n",
       "      <td>4608</td>\n",
       "      <td>2</td>\n",
       "    </tr>\n",
       "    <tr>\n",
       "      <th>964349</th>\n",
       "      <td>9811</td>\n",
       "      <td>36373</td>\n",
       "      <td>5</td>\n",
       "    </tr>\n",
       "    <tr>\n",
       "      <th>645459</th>\n",
       "      <td>6485</td>\n",
       "      <td>2957</td>\n",
       "      <td>4</td>\n",
       "    </tr>\n",
       "    <tr>\n",
       "      <th>74960</th>\n",
       "      <td>750</td>\n",
       "      <td>42400</td>\n",
       "      <td>3</td>\n",
       "    </tr>\n",
       "    <tr>\n",
       "      <th>358670</th>\n",
       "      <td>3591</td>\n",
       "      <td>36886</td>\n",
       "      <td>5</td>\n",
       "    </tr>\n",
       "  </tbody>\n",
       "</table>\n",
       "</div>"
      ],
      "text/plain": [
       "        book_id  user_id  rating\n",
       "341848     3423     4608       2\n",
       "964349     9811    36373       5\n",
       "645459     6485     2957       4\n",
       "74960       750    42400       3\n",
       "358670     3591    36886       5"
      ]
     },
     "execution_count": 8,
     "metadata": {},
     "output_type": "execute_result"
    }
   ],
   "source": [
    "train.head()"
   ]
  },
  {
   "cell_type": "code",
   "execution_count": 9,
   "metadata": {
    "colab": {
     "base_uri": "https://localhost:8080/",
     "height": 204
    },
    "colab_type": "code",
    "executionInfo": {
     "elapsed": 919,
     "status": "ok",
     "timestamp": 1580703999948,
     "user": {
      "displayName": "Kiagus Arief Adriansyah",
      "photoUrl": "https://lh3.googleusercontent.com/a-/AAuE7mDgNof4X_p29AVNSbm_npSTtGqp1GtqPb5UuwPF4Q=s64",
      "userId": "15196441721339582267"
     },
     "user_tz": -420
    },
    "id": "PtoIDSItQTMx",
    "outputId": "4ca07121-1107-4d88-97fc-c740a69fa33b"
   },
   "outputs": [
    {
     "data": {
      "text/html": [
       "<div>\n",
       "<style scoped>\n",
       "    .dataframe tbody tr th:only-of-type {\n",
       "        vertical-align: middle;\n",
       "    }\n",
       "\n",
       "    .dataframe tbody tr th {\n",
       "        vertical-align: top;\n",
       "    }\n",
       "\n",
       "    .dataframe thead th {\n",
       "        text-align: right;\n",
       "    }\n",
       "</style>\n",
       "<table border=\"1\" class=\"dataframe\">\n",
       "  <thead>\n",
       "    <tr style=\"text-align: right;\">\n",
       "      <th></th>\n",
       "      <th>book_id</th>\n",
       "      <th>user_id</th>\n",
       "      <th>rating</th>\n",
       "    </tr>\n",
       "  </thead>\n",
       "  <tbody>\n",
       "    <tr>\n",
       "      <th>646451</th>\n",
       "      <td>6495</td>\n",
       "      <td>19643</td>\n",
       "      <td>5</td>\n",
       "    </tr>\n",
       "    <tr>\n",
       "      <th>614851</th>\n",
       "      <td>6175</td>\n",
       "      <td>8563</td>\n",
       "      <td>4</td>\n",
       "    </tr>\n",
       "    <tr>\n",
       "      <th>974393</th>\n",
       "      <td>9920</td>\n",
       "      <td>52110</td>\n",
       "      <td>3</td>\n",
       "    </tr>\n",
       "    <tr>\n",
       "      <th>21471</th>\n",
       "      <td>215</td>\n",
       "      <td>33864</td>\n",
       "      <td>5</td>\n",
       "    </tr>\n",
       "    <tr>\n",
       "      <th>272540</th>\n",
       "      <td>2728</td>\n",
       "      <td>16587</td>\n",
       "      <td>3</td>\n",
       "    </tr>\n",
       "  </tbody>\n",
       "</table>\n",
       "</div>"
      ],
      "text/plain": [
       "        book_id  user_id  rating\n",
       "646451     6495    19643       5\n",
       "614851     6175     8563       4\n",
       "974393     9920    52110       3\n",
       "21471       215    33864       5\n",
       "272540     2728    16587       3"
      ]
     },
     "execution_count": 9,
     "metadata": {},
     "output_type": "execute_result"
    }
   ],
   "source": [
    "test.head()"
   ]
  },
  {
   "cell_type": "code",
   "execution_count": 10,
   "metadata": {
    "colab": {
     "base_uri": "https://localhost:8080/",
     "height": 34
    },
    "colab_type": "code",
    "executionInfo": {
     "elapsed": 940,
     "status": "ok",
     "timestamp": 1580704004716,
     "user": {
      "displayName": "Kiagus Arief Adriansyah",
      "photoUrl": "https://lh3.googleusercontent.com/a-/AAuE7mDgNof4X_p29AVNSbm_npSTtGqp1GtqPb5UuwPF4Q=s64",
      "userId": "15196441721339582267"
     },
     "user_tz": -420
    },
    "id": "Lfn6UuBPQTM0",
    "outputId": "a02c84e9-83b6-4ec9-9ba3-e0d94e35ec39"
   },
   "outputs": [
    {
     "data": {
      "text/plain": [
       "53424"
      ]
     },
     "execution_count": 10,
     "metadata": {},
     "output_type": "execute_result"
    }
   ],
   "source": [
    "n_users = len(dataset.user_id.unique())\n",
    "n_users"
   ]
  },
  {
   "cell_type": "code",
   "execution_count": 11,
   "metadata": {
    "colab": {
     "base_uri": "https://localhost:8080/",
     "height": 34
    },
    "colab_type": "code",
    "executionInfo": {
     "elapsed": 1549,
     "status": "ok",
     "timestamp": 1580704008666,
     "user": {
      "displayName": "Kiagus Arief Adriansyah",
      "photoUrl": "https://lh3.googleusercontent.com/a-/AAuE7mDgNof4X_p29AVNSbm_npSTtGqp1GtqPb5UuwPF4Q=s64",
      "userId": "15196441721339582267"
     },
     "user_tz": -420
    },
    "id": "wejVpBPEQTM3",
    "outputId": "674f59a4-23ec-4385-bc2a-83fd76450210"
   },
   "outputs": [
    {
     "data": {
      "text/plain": [
       "10000"
      ]
     },
     "execution_count": 11,
     "metadata": {},
     "output_type": "execute_result"
    }
   ],
   "source": [
    "n_books = len(dataset.book_id.unique())\n",
    "n_books"
   ]
  },
  {
   "cell_type": "markdown",
   "metadata": {
    "colab_type": "text",
    "id": "OVLlokf3QTM6"
   },
   "source": [
    "#### Creating dot product model\n",
    "<font size=\"3\">Most recommendation systems are build using a simple dot product as shown below but newer ones are now implementing a neural network instead of the simple dot product.</font>"
   ]
  },
  {
   "cell_type": "code",
   "execution_count": 13,
   "metadata": {
    "colab": {
     "base_uri": "https://localhost:8080/",
     "height": 173
    },
    "colab_type": "code",
    "executionInfo": {
     "elapsed": 912,
     "status": "ok",
     "timestamp": 1580704012423,
     "user": {
      "displayName": "Kiagus Arief Adriansyah",
      "photoUrl": "https://lh3.googleusercontent.com/a-/AAuE7mDgNof4X_p29AVNSbm_npSTtGqp1GtqPb5UuwPF4Q=s64",
      "userId": "15196441721339582267"
     },
     "user_tz": -420
    },
    "id": "LbvNe0g-QTM7",
    "outputId": "14a4c401-4086-4441-98b7-6c1161f23abd"
   },
   "outputs": [],
   "source": [
    "# creating book embedding path\n",
    "book_input = Input(shape=[1], name=\"Book-Input\")\n",
    "book_embedding = Embedding(n_books+1, 5, name=\"Book-Embedding\")(book_input)\n",
    "book_vec = Flatten(name=\"Flatten-Books\")(book_embedding)\n",
    "\n",
    "# creating user embedding path\n",
    "user_input = Input(shape=[1], name=\"User-Input\")\n",
    "user_embedding = Embedding(n_users+1, 5, name=\"User-Embedding\")(user_input)\n",
    "user_vec = Flatten(name=\"Flatten-Users\")(user_embedding)\n",
    "\n",
    "# performing dot product and creating model\n",
    "prod = Dot(name=\"Dot-Product\", axes=1)([book_vec, user_vec])\n",
    "model = Model([user_input, book_input], prod)\n",
    "model.compile('adam', 'mean_squared_error')"
   ]
  },
  {
   "cell_type": "code",
   "execution_count": 14,
   "metadata": {
    "colab": {
     "base_uri": "https://localhost:8080/",
     "height": 741
    },
    "colab_type": "code",
    "executionInfo": {
     "elapsed": 594993,
     "status": "ok",
     "timestamp": 1580704615252,
     "user": {
      "displayName": "Kiagus Arief Adriansyah",
      "photoUrl": "https://lh3.googleusercontent.com/a-/AAuE7mDgNof4X_p29AVNSbm_npSTtGqp1GtqPb5UuwPF4Q=s64",
      "userId": "15196441721339582267"
     },
     "user_tz": -420
    },
    "id": "s03p7PIfQTM9",
    "outputId": "0ef4393e-fc66-46f0-aac7-a92a9daa84f2",
    "scrolled": true
   },
   "outputs": [
    {
     "name": "stdout",
     "output_type": "stream",
     "text": [
      "Train on 785404 samples\n",
      "Epoch 1/5\n",
      "785404/785404 [==============================] - 36s 46us/sample - loss: 14.2962\n",
      "Epoch 2/5\n",
      "785404/785404 [==============================] - 36s 46us/sample - loss: 5.1450\n",
      "Epoch 3/5\n",
      "785404/785404 [==============================] - 37s 47us/sample - loss: 1.8489\n",
      "Epoch 4/5\n",
      "785404/785404 [==============================] - 37s 47us/sample - loss: 1.2046\n",
      "Epoch 5/5\n",
      "785404/785404 [==============================] - 37s 47us/sample - loss: 0.9602\n"
     ]
    },
    {
     "data": {
      "image/png": "[encoded data removed]",
      "text/plain": [
       "<Figure size 432x288 with 1 Axes>"
      ]
     },
     "metadata": {
      "needs_background": "light"
     },
     "output_type": "display_data"
    }
   ],
   "source": [
    "from tensorflow.keras.models import load_model\n",
    "\n",
    "training = True\n",
    "if not training and os.path.exists('model/regression_model.h5'):\n",
    "    model = load_model('model/regression_model.h5')\n",
    "else:\n",
    "    history = model.fit([train.user_id, train.book_id], train.rating, epochs=5, verbose=1)\n",
    "    model.save('model/regression_model.h5')\n",
    "    plt.plot(history.history['loss'])\n",
    "    plt.xlabel(\"Epochs\")\n",
    "    plt.ylabel(\"Training Error\")"
   ]
  },
  {
   "cell_type": "code",
   "execution_count": 15,
   "metadata": {
    "colab": {
     "base_uri": "https://localhost:8080/",
     "height": 51
    },
    "colab_type": "code",
    "executionInfo": {
     "elapsed": 3932,
     "status": "ok",
     "timestamp": 1580704624953,
     "user": {
      "displayName": "Kiagus Arief Adriansyah",
      "photoUrl": "https://lh3.googleusercontent.com/a-/AAuE7mDgNof4X_p29AVNSbm_npSTtGqp1GtqPb5UuwPF4Q=s64",
      "userId": "15196441721339582267"
     },
     "user_tz": -420
    },
    "id": "WsCaJkiQQTNB",
    "outputId": "38a50d25-1d5e-4ab4-d391-9eb5246fa055"
   },
   "outputs": [
    {
     "name": "stdout",
     "output_type": "stream",
     "text": [
      "196352/196352 [==============================] - 3s 13us/sample - loss: 1.1833\n"
     ]
    },
    {
     "data": {
      "text/plain": [
       "1.183326464486363"
      ]
     },
     "execution_count": 15,
     "metadata": {},
     "output_type": "execute_result"
    }
   ],
   "source": [
    "model.evaluate([test.user_id, test.book_id], test.rating)"
   ]
  },
  {
   "cell_type": "code",
   "execution_count": 16,
   "metadata": {
    "colab": {
     "base_uri": "https://localhost:8080/",
     "height": 204
    },
    "colab_type": "code",
    "executionInfo": {
     "elapsed": 1186,
     "status": "ok",
     "timestamp": 1580704632738,
     "user": {
      "displayName": "Kiagus Arief Adriansyah",
      "photoUrl": "https://lh3.googleusercontent.com/a-/AAuE7mDgNof4X_p29AVNSbm_npSTtGqp1GtqPb5UuwPF4Q=s64",
      "userId": "15196441721339582267"
     },
     "user_tz": -420
    },
    "id": "c6amBeMjQTND",
    "outputId": "2f6524ec-6c25-40a1-8ecb-a836c3acf174"
   },
   "outputs": [
    {
     "name": "stdout",
     "output_type": "stream",
     "text": [
      "[5.3505244] 5\n",
      "[3.5619454] 4\n",
      "[3.1916742] 3\n",
      "[4.2762346] 5\n",
      "[3.4195797] 3\n",
      "[3.5269186] 3\n",
      "[4.64038] 3\n",
      "[5.012166] 4\n",
      "[4.7268953] 3\n",
      "[4.234318] 5\n"
     ]
    }
   ],
   "source": [
    "predictions = model.predict([test.user_id.head(10), test.book_id.head(10)])\n",
    "\n",
    "for i in range(0,10):\n",
    "    print(predictions[i], test.rating.iloc[i])"
   ]
  },
  {
   "cell_type": "markdown",
   "metadata": {
    "colab_type": "text",
    "id": "DpQDWmvnQTNJ"
   },
   "source": [
    "#### Creating Neural Network\n",
    "<font size=\"3\">Neural Networks proved there effectivness for almost every machine learning problem as of now and they also perform exceptionally well for recommendation systems.</font>"
   ]
  },
  {
   "cell_type": "code",
   "execution_count": 17,
   "metadata": {
    "colab": {},
    "colab_type": "code",
    "id": "s1CWMESgQTNK"
   },
   "outputs": [],
   "source": [
    "# creating book embedding path\n",
    "book_input = Input(shape=[1], name=\"Book-Input\")\n",
    "book_embedding = Embedding(n_books+1, 5, name=\"Book-Embedding\")(book_input)\n",
    "book_vec = Flatten(name=\"Flatten-Books\")(book_embedding)\n",
    "\n",
    "# creating user embedding path\n",
    "user_input = Input(shape=[1], name=\"User-Input\")\n",
    "user_embedding = Embedding(n_users+1, 5, name=\"User-Embedding\")(user_input)\n",
    "user_vec = Flatten(name=\"Flatten-Users\")(user_embedding)\n",
    "\n",
    "# concatenate features\n",
    "conc = Concatenate()([book_vec, user_vec])\n",
    "\n",
    "# add fully-connected-layers\n",
    "fc1 = Dense(128, activation='relu')(conc)\n",
    "fc2 = Dense(32, activation='relu')(fc1)\n",
    "out = Dense(1)(fc2)\n",
    "\n",
    "# Create model and compile it\n",
    "model2 = Model([user_input, book_input], out)\n",
    "model2.compile('adam', 'mean_squared_error')"
   ]
  },
  {
   "cell_type": "code",
   "execution_count": 19,
   "metadata": {
    "colab": {
     "base_uri": "https://localhost:8080/",
     "height": 449
    },
    "colab_type": "code",
    "executionInfo": {
     "elapsed": 679164,
     "status": "ok",
     "timestamp": 1580705336874,
     "user": {
      "displayName": "Kiagus Arief Adriansyah",
      "photoUrl": "https://lh3.googleusercontent.com/a-/AAuE7mDgNof4X_p29AVNSbm_npSTtGqp1GtqPb5UuwPF4Q=s64",
      "userId": "15196441721339582267"
     },
     "user_tz": -420
    },
    "id": "zBpe8-iMQTNO",
    "outputId": "e035c17f-b61a-4fbb-b3d3-8a81223b0d9d"
   },
   "outputs": [
    {
     "name": "stdout",
     "output_type": "stream",
     "text": [
      "Train on 785404 samples\n",
      "Epoch 1/5\n",
      "785404/785404 [==============================] - 41s 52us/sample - loss: 0.7289\n",
      "Epoch 2/5\n",
      "785404/785404 [==============================] - 41s 52us/sample - loss: 0.6817\n",
      "Epoch 3/5\n",
      "785404/785404 [==============================] - 41s 52us/sample - loss: 0.6578\n",
      "Epoch 4/5\n",
      "785404/785404 [==============================] - 41s 52us/sample - loss: 0.6352\n",
      "Epoch 5/5\n",
      "785404/785404 [==============================] - 42s 53us/sample - loss: 0.6128\n"
     ]
    },
    {
     "data": {
      "image/png": "[encoded data removed]",
      "text/plain": [
       "<Figure size 432x288 with 1 Axes>"
      ]
     },
     "metadata": {
      "needs_background": "light"
     },
     "output_type": "display_data"
    }
   ],
   "source": [
    "from tensorflow.keras.models import load_model\n",
    "\n",
    "training = True\n",
    "if not training and os.path.exists('model/regression_model2.h5'):\n",
    "    model2 = load_model('model/regression_model2.h5')\n",
    "else:\n",
    "    history = model2.fit([train.user_id, train.book_id], train.rating, epochs=5, verbose=1)\n",
    "    model2.save('model/regression_model2.h5')\n",
    "    plt.plot(history.history['loss'])\n",
    "    plt.xlabel(\"Epochs\")\n",
    "    plt.ylabel(\"Training Error\")"
   ]
  },
  {
   "cell_type": "code",
   "execution_count": 20,
   "metadata": {
    "colab": {
     "base_uri": "https://localhost:8080/",
     "height": 51
    },
    "colab_type": "code",
    "executionInfo": {
     "elapsed": 5080,
     "status": "ok",
     "timestamp": 1580705525899,
     "user": {
      "displayName": "Kiagus Arief Adriansyah",
      "photoUrl": "https://lh3.googleusercontent.com/a-/AAuE7mDgNof4X_p29AVNSbm_npSTtGqp1GtqPb5UuwPF4Q=s64",
      "userId": "15196441721339582267"
     },
     "user_tz": -420
    },
    "id": "kBR59LmqQTNY",
    "outputId": "ccaf9e25-9966-4c33-83d2-5936d5d357c9"
   },
   "outputs": [
    {
     "name": "stdout",
     "output_type": "stream",
     "text": [
      "196352/196352 [==============================] - 3s 16us/sample - loss: 0.7080\n"
     ]
    },
    {
     "data": {
      "text/plain": [
       "0.7080266931139156"
      ]
     },
     "execution_count": 20,
     "metadata": {},
     "output_type": "execute_result"
    }
   ],
   "source": [
    "model2.evaluate([test.user_id, test.book_id], test.rating)"
   ]
  },
  {
   "cell_type": "code",
   "execution_count": 21,
   "metadata": {
    "colab": {
     "base_uri": "https://localhost:8080/",
     "height": 204
    },
    "colab_type": "code",
    "executionInfo": {
     "elapsed": 948,
     "status": "ok",
     "timestamp": 1580705621680,
     "user": {
      "displayName": "Kiagus Arief Adriansyah",
      "photoUrl": "https://lh3.googleusercontent.com/a-/AAuE7mDgNof4X_p29AVNSbm_npSTtGqp1GtqPb5UuwPF4Q=s64",
      "userId": "15196441721339582267"
     },
     "user_tz": -420
    },
    "id": "wr8iYyBfQTNc",
    "outputId": "97f6dd14-55e1-4533-ffdf-d920c04b69c8"
   },
   "outputs": [
    {
     "name": "stdout",
     "output_type": "stream",
     "text": [
      "[5.064437] 5\n",
      "[3.8119206] 4\n",
      "[3.419963] 3\n",
      "[3.9715729] 5\n",
      "[3.3526182] 3\n",
      "[4.129182] 3\n",
      "[3.7006087] 3\n",
      "[4.8022265] 4\n",
      "[4.062069] 3\n",
      "[3.9441462] 5\n"
     ]
    },
    {
     "data": {
      "text/plain": [
       "[None, None, None, None, None, None, None, None, None, None]"
      ]
     },
     "execution_count": 21,
     "metadata": {},
     "output_type": "execute_result"
    }
   ],
   "source": [
    "predictions = model2.predict([test.user_id.head(10), test.book_id.head(10)])\n",
    "\n",
    "[print(predictions[i], test.rating.iloc[i]) for i in range(0,10)]"
   ]
  },
  {
   "cell_type": "markdown",
   "metadata": {
    "colab_type": "text",
    "id": "-1AII8emQTNf"
   },
   "source": [
    "#### Visualizing Embeddings\n",
    "<font size=\"3\">Embeddings are weights that are learned to represent some specific variable like books and user in our case and therefore we can not only use them to get good results on our problem but also to extract inside about our data.</font>"
   ]
  },
  {
   "cell_type": "code",
   "execution_count": null,
   "metadata": {
    "colab": {},
    "colab_type": "code",
    "id": "4-Xtv1LkQTNg"
   },
   "outputs": [],
   "source": [
    "# Extract embeddings\n",
    "book_em = model.get_layer('Book-Embedding')\n",
    "book_em_weights = book_em.get_weights()[0]"
   ]
  },
  {
   "cell_type": "code",
   "execution_count": null,
   "metadata": {
    "colab": {
     "base_uri": "https://localhost:8080/",
     "height": 187
    },
    "colab_type": "code",
    "executionInfo": {
     "elapsed": 988,
     "status": "ok",
     "timestamp": 1580705628969,
     "user": {
      "displayName": "Kiagus Arief Adriansyah",
      "photoUrl": "https://lh3.googleusercontent.com/a-/AAuE7mDgNof4X_p29AVNSbm_npSTtGqp1GtqPb5UuwPF4Q=s64",
      "userId": "15196441721339582267"
     },
     "user_tz": -420
    },
    "id": "un2vvN8jQTNj",
    "outputId": "1b13517e-c2ff-478d-8a9c-fcc312c5c31e"
   },
   "outputs": [],
   "source": [
    "book_em_weights[:5]"
   ]
  },
  {
   "cell_type": "code",
   "execution_count": null,
   "metadata": {
    "colab": {
     "base_uri": "https://localhost:8080/",
     "height": 282
    },
    "colab_type": "code",
    "executionInfo": {
     "elapsed": 1555,
     "status": "ok",
     "timestamp": 1580705633182,
     "user": {
      "displayName": "Kiagus Arief Adriansyah",
      "photoUrl": "https://lh3.googleusercontent.com/a-/AAuE7mDgNof4X_p29AVNSbm_npSTtGqp1GtqPb5UuwPF4Q=s64",
      "userId": "15196441721339582267"
     },
     "user_tz": -420
    },
    "id": "Arfu8KZEQTNm",
    "outputId": "f528ba1b-7bf6-4889-925f-f40a96dc9bbf"
   },
   "outputs": [],
   "source": [
    "from sklearn.decomposition import PCA\n",
    "import seaborn as sns\n",
    "\n",
    "pca = PCA(n_components=2)\n",
    "pca_result = pca.fit_transform(book_em_weights)\n",
    "sns.scatterplot(x=pca_result[:,0], y=pca_result[:,1])"
   ]
  },
  {
   "cell_type": "code",
   "execution_count": null,
   "metadata": {
    "colab": {
     "base_uri": "https://localhost:8080/",
     "height": 34
    },
    "colab_type": "code",
    "executionInfo": {
     "elapsed": 1033,
     "status": "ok",
     "timestamp": 1580705638205,
     "user": {
      "displayName": "Kiagus Arief Adriansyah",
      "photoUrl": "https://lh3.googleusercontent.com/a-/AAuE7mDgNof4X_p29AVNSbm_npSTtGqp1GtqPb5UuwPF4Q=s64",
      "userId": "15196441721339582267"
     },
     "user_tz": -420
    },
    "id": "zU1x7b8EQTNp",
    "outputId": "6f6eeaa8-2b67-48b3-886e-a2cb2d53c730"
   },
   "outputs": [],
   "source": [
    "book_em_weights = book_em_weights / np.linalg.norm(book_em_weights, axis = 1).reshape((-1, 1))\n",
    "book_em_weights[0][:10]\n",
    "np.sum(np.square(book_em_weights[0]))"
   ]
  },
  {
   "cell_type": "code",
   "execution_count": null,
   "metadata": {
    "colab": {
     "base_uri": "https://localhost:8080/",
     "height": 282
    },
    "colab_type": "code",
    "executionInfo": {
     "elapsed": 1155,
     "status": "ok",
     "timestamp": 1580705642331,
     "user": {
      "displayName": "Kiagus Arief Adriansyah",
      "photoUrl": "https://lh3.googleusercontent.com/a-/AAuE7mDgNof4X_p29AVNSbm_npSTtGqp1GtqPb5UuwPF4Q=s64",
      "userId": "15196441721339582267"
     },
     "user_tz": -420
    },
    "id": "WZ25lLXSQTNs",
    "outputId": "2d24b4bb-e950-46df-f85f-bc8ed006343f"
   },
   "outputs": [],
   "source": [
    "pca = PCA(n_components=2)\n",
    "pca_result = pca.fit_transform(book_em_weights)\n",
    "sns.scatterplot(x=pca_result[:,0], y=pca_result[:,1])"
   ]
  },
  {
   "cell_type": "code",
   "execution_count": null,
   "metadata": {
    "colab": {
     "base_uri": "https://localhost:8080/",
     "height": 306
    },
    "colab_type": "code",
    "executionInfo": {
     "elapsed": 35565,
     "status": "ok",
     "timestamp": 1580705680923,
     "user": {
      "displayName": "Kiagus Arief Adriansyah",
      "photoUrl": "https://lh3.googleusercontent.com/a-/AAuE7mDgNof4X_p29AVNSbm_npSTtGqp1GtqPb5UuwPF4Q=s64",
      "userId": "15196441721339582267"
     },
     "user_tz": -420
    },
    "id": "ICOlEhpSQTNu",
    "outputId": "1f6a466a-4c33-491f-d752-5399cc72c2a9"
   },
   "outputs": [],
   "source": [
    "from sklearn.manifold import TSNE\n",
    "\n",
    "tsne = TSNE(n_components=2, verbose=1, perplexity=40, n_iter=300)\n",
    "tnse_results = tsne.fit_transform(book_em_weights)"
   ]
  },
  {
   "cell_type": "code",
   "execution_count": null,
   "metadata": {
    "colab": {
     "base_uri": "https://localhost:8080/",
     "height": 282
    },
    "colab_type": "code",
    "executionInfo": {
     "elapsed": 29612,
     "status": "ok",
     "timestamp": 1580705680924,
     "user": {
      "displayName": "Kiagus Arief Adriansyah",
      "photoUrl": "https://lh3.googleusercontent.com/a-/AAuE7mDgNof4X_p29AVNSbm_npSTtGqp1GtqPb5UuwPF4Q=s64",
      "userId": "15196441721339582267"
     },
     "user_tz": -420
    },
    "id": "-xF5vo18QTNx",
    "outputId": "97bce61c-d810-48df-94fb-fc80dd686b00"
   },
   "outputs": [],
   "source": [
    "sns.scatterplot(x=tnse_results[:,0], y=tnse_results[:,1])"
   ]
  },
  {
   "cell_type": "markdown",
   "metadata": {
    "colab_type": "text",
    "id": "oX0xIsZuQTN1"
   },
   "source": [
    "#### Making Recommendations\n",
    "<font size=\"3\">Making recommendations using our trained model is simple. We only need to feed in a user and all books and then select the books which have the highest predicted ratings for that specific user.</font>"
   ]
  },
  {
   "cell_type": "code",
   "execution_count": 45,
   "metadata": {
    "colab": {
     "base_uri": "https://localhost:8080/",
     "height": 34
    },
    "colab_type": "code",
    "executionInfo": {
     "elapsed": 1497,
     "status": "ok",
     "timestamp": 1580706805796,
     "user": {
      "displayName": "Kiagus Arief Adriansyah",
      "photoUrl": "https://lh3.googleusercontent.com/a-/AAuE7mDgNof4X_p29AVNSbm_npSTtGqp1GtqPb5UuwPF4Q=s64",
      "userId": "15196441721339582267"
     },
     "user_tz": -420
    },
    "id": "mye77esaQTN1",
    "outputId": "e79dba14-5766-43e4-ca19-80f67aac568d"
   },
   "outputs": [],
   "source": [
    "# Creating dataset for making recommendations for the first user\n",
    "book_data = np.array(list(set(dataset.book_id)))\n",
    "\n",
    "# user id 1185\n",
    "user = np.array([1185 for i in range(len(book_data))])"
   ]
  },
  {
   "cell_type": "code",
   "execution_count": 49,
   "metadata": {
    "colab": {
     "base_uri": "https://localhost:8080/",
     "height": 34
    },
    "colab_type": "code",
    "executionInfo": {
     "elapsed": 1875,
     "status": "ok",
     "timestamp": 1580706813345,
     "user": {
      "displayName": "Kiagus Arief Adriansyah",
      "photoUrl": "https://lh3.googleusercontent.com/a-/AAuE7mDgNof4X_p29AVNSbm_npSTtGqp1GtqPb5UuwPF4Q=s64",
      "userId": "15196441721339582267"
     },
     "user_tz": -420
    },
    "id": "3BJfXbHEQTN6",
    "outputId": "60d6a86a-32e3-4a4b-f78e-ba54543d23b6"
   },
   "outputs": [
    {
     "data": {
      "text/plain": [
       "array([7.777305 , 7.1098013, 6.553552 , 6.1622057, 6.1544085, 5.984081 ,\n",
       "       5.8992615, 5.883105 , 5.693368 , 5.690825 ], dtype=float32)"
      ]
     },
     "execution_count": 49,
     "metadata": {},
     "output_type": "execute_result"
    }
   ],
   "source": [
    "predictions = model.predict([user, book_data])\n",
    "predictions = np.array([a[0] for a in predictions])\n",
    "recommended_book_ids = (-predictions).argsort()[:10]\n",
    "\n",
    "# print predicted scores\n",
    "predictions[recommended_book_ids]"
   ]
  },
  {
   "cell_type": "code",
   "execution_count": 50,
   "metadata": {
    "colab": {
     "base_uri": "https://localhost:8080/",
     "height": 377
    },
    "colab_type": "code",
    "executionInfo": {
     "elapsed": 1260,
     "status": "ok",
     "timestamp": 1580707204691,
     "user": {
      "displayName": "Kiagus Arief Adriansyah",
      "photoUrl": "https://lh3.googleusercontent.com/a-/AAuE7mDgNof4X_p29AVNSbm_npSTtGqp1GtqPb5UuwPF4Q=s64",
      "userId": "15196441721339582267"
     },
     "user_tz": -420
    },
    "id": "4PxeJqHaQTOE",
    "outputId": "e4ff4c97-20c1-4e99-a07b-1e66423a07cb"
   },
   "outputs": [
    {
     "data": {
      "text/html": [
       "<div>\n",
       "<style scoped>\n",
       "    .dataframe tbody tr th:only-of-type {\n",
       "        vertical-align: middle;\n",
       "    }\n",
       "\n",
       "    .dataframe tbody tr th {\n",
       "        vertical-align: top;\n",
       "    }\n",
       "\n",
       "    .dataframe thead th {\n",
       "        text-align: right;\n",
       "    }\n",
       "</style>\n",
       "<table border=\"1\" class=\"dataframe\">\n",
       "  <thead>\n",
       "    <tr style=\"text-align: right;\">\n",
       "      <th></th>\n",
       "      <th>id</th>\n",
       "      <th>book_id</th>\n",
       "      <th>best_book_id</th>\n",
       "      <th>work_id</th>\n",
       "      <th>books_count</th>\n",
       "      <th>isbn</th>\n",
       "      <th>isbn13</th>\n",
       "      <th>authors</th>\n",
       "      <th>original_publication_year</th>\n",
       "      <th>original_title</th>\n",
       "      <th>...</th>\n",
       "      <th>ratings_count</th>\n",
       "      <th>work_ratings_count</th>\n",
       "      <th>work_text_reviews_count</th>\n",
       "      <th>ratings_1</th>\n",
       "      <th>ratings_2</th>\n",
       "      <th>ratings_3</th>\n",
       "      <th>ratings_4</th>\n",
       "      <th>ratings_5</th>\n",
       "      <th>image_url</th>\n",
       "      <th>small_image_url</th>\n",
       "    </tr>\n",
       "  </thead>\n",
       "  <tbody>\n",
       "    <tr>\n",
       "      <th>4776</th>\n",
       "      <td>4777</td>\n",
       "      <td>426025</td>\n",
       "      <td>426025</td>\n",
       "      <td>2902834</td>\n",
       "      <td>20</td>\n",
       "      <td>675093244</td>\n",
       "      <td>9.780675e+12</td>\n",
       "      <td>William Faulkner</td>\n",
       "      <td>1930.0</td>\n",
       "      <td>A Rose for Emily</td>\n",
       "      <td>...</td>\n",
       "      <td>22629</td>\n",
       "      <td>23045</td>\n",
       "      <td>419</td>\n",
       "      <td>287</td>\n",
       "      <td>1072</td>\n",
       "      <td>4609</td>\n",
       "      <td>8091</td>\n",
       "      <td>8986</td>\n",
       "      <td>https://images.gr-assets.com/books/1487468453m...</td>\n",
       "      <td>https://images.gr-assets.com/books/1487468453s...</td>\n",
       "    </tr>\n",
       "    <tr>\n",
       "      <th>5433</th>\n",
       "      <td>5434</td>\n",
       "      <td>199687</td>\n",
       "      <td>199687</td>\n",
       "      <td>2975812</td>\n",
       "      <td>14</td>\n",
       "      <td>609807919</td>\n",
       "      <td>9.780610e+12</td>\n",
       "      <td>Megan McCafferty</td>\n",
       "      <td>2003.0</td>\n",
       "      <td>Second Helpings (Jessica Darling, #2)</td>\n",
       "      <td>...</td>\n",
       "      <td>23180</td>\n",
       "      <td>23834</td>\n",
       "      <td>831</td>\n",
       "      <td>290</td>\n",
       "      <td>960</td>\n",
       "      <td>4680</td>\n",
       "      <td>8457</td>\n",
       "      <td>9447</td>\n",
       "      <td>https://images.gr-assets.com/books/1388707744m...</td>\n",
       "      <td>https://images.gr-assets.com/books/1388707744s...</td>\n",
       "    </tr>\n",
       "    <tr>\n",
       "      <th>5604</th>\n",
       "      <td>5605</td>\n",
       "      <td>12924261</td>\n",
       "      <td>12924261</td>\n",
       "      <td>18079704</td>\n",
       "      <td>23</td>\n",
       "      <td>312546343</td>\n",
       "      <td>9.780313e+12</td>\n",
       "      <td>David Wong</td>\n",
       "      <td>2012.0</td>\n",
       "      <td>NaN</td>\n",
       "      <td>...</td>\n",
       "      <td>15031</td>\n",
       "      <td>18053</td>\n",
       "      <td>1702</td>\n",
       "      <td>94</td>\n",
       "      <td>381</td>\n",
       "      <td>2466</td>\n",
       "      <td>6967</td>\n",
       "      <td>8145</td>\n",
       "      <td>https://images.gr-assets.com/books/1365496944m...</td>\n",
       "      <td>https://images.gr-assets.com/books/1365496944s...</td>\n",
       "    </tr>\n",
       "    <tr>\n",
       "      <th>5857</th>\n",
       "      <td>5858</td>\n",
       "      <td>16297</td>\n",
       "      <td>16297</td>\n",
       "      <td>894955</td>\n",
       "      <td>171</td>\n",
       "      <td>425205959</td>\n",
       "      <td>9.780425e+12</td>\n",
       "      <td>Agatha Christie</td>\n",
       "      <td>1936.0</td>\n",
       "      <td>Cards on the Table</td>\n",
       "      <td>...</td>\n",
       "      <td>19577</td>\n",
       "      <td>23004</td>\n",
       "      <td>1031</td>\n",
       "      <td>112</td>\n",
       "      <td>857</td>\n",
       "      <td>6468</td>\n",
       "      <td>9372</td>\n",
       "      <td>6195</td>\n",
       "      <td>https://s.gr-assets.com/assets/nophoto/book/11...</td>\n",
       "      <td>https://s.gr-assets.com/assets/nophoto/book/50...</td>\n",
       "    </tr>\n",
       "    <tr>\n",
       "      <th>6245</th>\n",
       "      <td>6246</td>\n",
       "      <td>8447255</td>\n",
       "      <td>8447255</td>\n",
       "      <td>13311158</td>\n",
       "      <td>25</td>\n",
       "      <td>593046358</td>\n",
       "      <td>9.780593e+12</td>\n",
       "      <td>Steven Erikson</td>\n",
       "      <td>2011.0</td>\n",
       "      <td>The Crippled God</td>\n",
       "      <td>...</td>\n",
       "      <td>14472</td>\n",
       "      <td>16590</td>\n",
       "      <td>720</td>\n",
       "      <td>133</td>\n",
       "      <td>392</td>\n",
       "      <td>1553</td>\n",
       "      <td>4461</td>\n",
       "      <td>10051</td>\n",
       "      <td>https://images.gr-assets.com/books/1320388198m...</td>\n",
       "      <td>https://images.gr-assets.com/books/1320388198s...</td>\n",
       "    </tr>\n",
       "    <tr>\n",
       "      <th>7738</th>\n",
       "      <td>7739</td>\n",
       "      <td>3268926</td>\n",
       "      <td>3268926</td>\n",
       "      <td>3132696</td>\n",
       "      <td>22</td>\n",
       "      <td>141659485X</td>\n",
       "      <td>9.781417e+12</td>\n",
       "      <td>Glenn Beck</td>\n",
       "      <td>2008.0</td>\n",
       "      <td>The Christmas Sweater</td>\n",
       "      <td>...</td>\n",
       "      <td>12916</td>\n",
       "      <td>13413</td>\n",
       "      <td>2361</td>\n",
       "      <td>417</td>\n",
       "      <td>1064</td>\n",
       "      <td>3409</td>\n",
       "      <td>4573</td>\n",
       "      <td>3950</td>\n",
       "      <td>https://s.gr-assets.com/assets/nophoto/book/11...</td>\n",
       "      <td>https://s.gr-assets.com/assets/nophoto/book/50...</td>\n",
       "    </tr>\n",
       "    <tr>\n",
       "      <th>7859</th>\n",
       "      <td>7860</td>\n",
       "      <td>132688</td>\n",
       "      <td>132688</td>\n",
       "      <td>758985</td>\n",
       "      <td>6</td>\n",
       "      <td>679747656</td>\n",
       "      <td>9.780680e+12</td>\n",
       "      <td>Julia Child</td>\n",
       "      <td>1989.0</td>\n",
       "      <td>The Way to Cook</td>\n",
       "      <td>...</td>\n",
       "      <td>11500</td>\n",
       "      <td>11656</td>\n",
       "      <td>102</td>\n",
       "      <td>185</td>\n",
       "      <td>288</td>\n",
       "      <td>1512</td>\n",
       "      <td>3447</td>\n",
       "      <td>6224</td>\n",
       "      <td>https://s.gr-assets.com/assets/nophoto/book/11...</td>\n",
       "      <td>https://s.gr-assets.com/assets/nophoto/book/50...</td>\n",
       "    </tr>\n",
       "    <tr>\n",
       "      <th>8257</th>\n",
       "      <td>8258</td>\n",
       "      <td>18594594</td>\n",
       "      <td>18594594</td>\n",
       "      <td>26341000</td>\n",
       "      <td>41</td>\n",
       "      <td>345547497</td>\n",
       "      <td>9.780346e+12</td>\n",
       "      <td>Karin Slaughter</td>\n",
       "      <td>2014.0</td>\n",
       "      <td>Cop Town</td>\n",
       "      <td>...</td>\n",
       "      <td>10660</td>\n",
       "      <td>13997</td>\n",
       "      <td>1704</td>\n",
       "      <td>274</td>\n",
       "      <td>780</td>\n",
       "      <td>3299</td>\n",
       "      <td>5612</td>\n",
       "      <td>4032</td>\n",
       "      <td>https://images.gr-assets.com/books/1384822680m...</td>\n",
       "      <td>https://images.gr-assets.com/books/1384822680s...</td>\n",
       "    </tr>\n",
       "    <tr>\n",
       "      <th>9121</th>\n",
       "      <td>9122</td>\n",
       "      <td>15768536</td>\n",
       "      <td>15768536</td>\n",
       "      <td>21474681</td>\n",
       "      <td>3</td>\n",
       "      <td>NaN</td>\n",
       "      <td>NaN</td>\n",
       "      <td>Christine Zolendz</td>\n",
       "      <td>2012.0</td>\n",
       "      <td>NaN</td>\n",
       "      <td>...</td>\n",
       "      <td>20488</td>\n",
       "      <td>20547</td>\n",
       "      <td>1387</td>\n",
       "      <td>514</td>\n",
       "      <td>1088</td>\n",
       "      <td>3565</td>\n",
       "      <td>7451</td>\n",
       "      <td>7929</td>\n",
       "      <td>https://images.gr-assets.com/books/1349538226m...</td>\n",
       "      <td>https://images.gr-assets.com/books/1349538226s...</td>\n",
       "    </tr>\n",
       "    <tr>\n",
       "      <th>9688</th>\n",
       "      <td>9689</td>\n",
       "      <td>113091</td>\n",
       "      <td>113091</td>\n",
       "      <td>2115367</td>\n",
       "      <td>66</td>\n",
       "      <td>375701230</td>\n",
       "      <td>9.780376e+12</td>\n",
       "      <td>James Agee</td>\n",
       "      <td>1957.0</td>\n",
       "      <td>A Death in the Family</td>\n",
       "      <td>...</td>\n",
       "      <td>10900</td>\n",
       "      <td>11678</td>\n",
       "      <td>843</td>\n",
       "      <td>257</td>\n",
       "      <td>759</td>\n",
       "      <td>2634</td>\n",
       "      <td>4060</td>\n",
       "      <td>3968</td>\n",
       "      <td>https://images.gr-assets.com/books/1327885315m...</td>\n",
       "      <td>https://images.gr-assets.com/books/1327885315s...</td>\n",
       "    </tr>\n",
       "  </tbody>\n",
       "</table>\n",
       "<p>10 rows × 23 columns</p>\n",
       "</div>"
      ],
      "text/plain": [
       "        id   book_id  best_book_id   work_id  books_count        isbn  \\\n",
       "4776  4777    426025        426025   2902834           20   675093244   \n",
       "5433  5434    199687        199687   2975812           14   609807919   \n",
       "5604  5605  12924261      12924261  18079704           23   312546343   \n",
       "5857  5858     16297         16297    894955          171   425205959   \n",
       "6245  6246   8447255       8447255  13311158           25   593046358   \n",
       "7738  7739   3268926       3268926   3132696           22  141659485X   \n",
       "7859  7860    132688        132688    758985            6   679747656   \n",
       "8257  8258  18594594      18594594  26341000           41   345547497   \n",
       "9121  9122  15768536      15768536  21474681            3         NaN   \n",
       "9688  9689    113091        113091   2115367           66   375701230   \n",
       "\n",
       "            isbn13            authors  original_publication_year  \\\n",
       "4776  9.780675e+12   William Faulkner                     1930.0   \n",
       "5433  9.780610e+12   Megan McCafferty                     2003.0   \n",
       "5604  9.780313e+12         David Wong                     2012.0   \n",
       "5857  9.780425e+12    Agatha Christie                     1936.0   \n",
       "6245  9.780593e+12     Steven Erikson                     2011.0   \n",
       "7738  9.781417e+12         Glenn Beck                     2008.0   \n",
       "7859  9.780680e+12        Julia Child                     1989.0   \n",
       "8257  9.780346e+12    Karin Slaughter                     2014.0   \n",
       "9121           NaN  Christine Zolendz                     2012.0   \n",
       "9688  9.780376e+12         James Agee                     1957.0   \n",
       "\n",
       "                             original_title  ... ratings_count  \\\n",
       "4776                       A Rose for Emily  ...         22629   \n",
       "5433  Second Helpings (Jessica Darling, #2)  ...         23180   \n",
       "5604                                    NaN  ...         15031   \n",
       "5857                     Cards on the Table  ...         19577   \n",
       "6245                       The Crippled God  ...         14472   \n",
       "7738                  The Christmas Sweater  ...         12916   \n",
       "7859                        The Way to Cook  ...         11500   \n",
       "8257                               Cop Town  ...         10660   \n",
       "9121                                    NaN  ...         20488   \n",
       "9688                  A Death in the Family  ...         10900   \n",
       "\n",
       "     work_ratings_count  work_text_reviews_count  ratings_1  ratings_2  \\\n",
       "4776              23045                      419        287       1072   \n",
       "5433              23834                      831        290        960   \n",
       "5604              18053                     1702         94        381   \n",
       "5857              23004                     1031        112        857   \n",
       "6245              16590                      720        133        392   \n",
       "7738              13413                     2361        417       1064   \n",
       "7859              11656                      102        185        288   \n",
       "8257              13997                     1704        274        780   \n",
       "9121              20547                     1387        514       1088   \n",
       "9688              11678                      843        257        759   \n",
       "\n",
       "      ratings_3  ratings_4  ratings_5  \\\n",
       "4776       4609       8091       8986   \n",
       "5433       4680       8457       9447   \n",
       "5604       2466       6967       8145   \n",
       "5857       6468       9372       6195   \n",
       "6245       1553       4461      10051   \n",
       "7738       3409       4573       3950   \n",
       "7859       1512       3447       6224   \n",
       "8257       3299       5612       4032   \n",
       "9121       3565       7451       7929   \n",
       "9688       2634       4060       3968   \n",
       "\n",
       "                                              image_url  \\\n",
       "4776  https://images.gr-assets.com/books/1487468453m...   \n",
       "5433  https://images.gr-assets.com/books/1388707744m...   \n",
       "5604  https://images.gr-assets.com/books/1365496944m...   \n",
       "5857  https://s.gr-assets.com/assets/nophoto/book/11...   \n",
       "6245  https://images.gr-assets.com/books/1320388198m...   \n",
       "7738  https://s.gr-assets.com/assets/nophoto/book/11...   \n",
       "7859  https://s.gr-assets.com/assets/nophoto/book/11...   \n",
       "8257  https://images.gr-assets.com/books/1384822680m...   \n",
       "9121  https://images.gr-assets.com/books/1349538226m...   \n",
       "9688  https://images.gr-assets.com/books/1327885315m...   \n",
       "\n",
       "                                        small_image_url  \n",
       "4776  https://images.gr-assets.com/books/1487468453s...  \n",
       "5433  https://images.gr-assets.com/books/1388707744s...  \n",
       "5604  https://images.gr-assets.com/books/1365496944s...  \n",
       "5857  https://s.gr-assets.com/assets/nophoto/book/50...  \n",
       "6245  https://images.gr-assets.com/books/1320388198s...  \n",
       "7738  https://s.gr-assets.com/assets/nophoto/book/50...  \n",
       "7859  https://s.gr-assets.com/assets/nophoto/book/50...  \n",
       "8257  https://images.gr-assets.com/books/1384822680s...  \n",
       "9121  https://images.gr-assets.com/books/1349538226s...  \n",
       "9688  https://images.gr-assets.com/books/1327885315s...  \n",
       "\n",
       "[10 rows x 23 columns]"
      ]
     },
     "execution_count": 50,
     "metadata": {},
     "output_type": "execute_result"
    }
   ],
   "source": [
    "books[books['id'].isin(recommended_book_ids)]"
   ]
  },
  {
   "cell_type": "code",
   "execution_count": null,
   "metadata": {},
   "outputs": [],
   "source": []
  }
 ],
 "metadata": {
  "colab": {
   "collapsed_sections": [],
   "name": "Recommendation System.ipynb",
   "provenance": [
    {
     "file_id": "https://github.com/TannerGilbert/Tutorials/blob/master/Recommendation%20System/Recommendation%20System.ipynb",
     "timestamp": 1580703722029
    }
   ]
  },
  "kernelspec": {
   "display_name": "Python 3",
   "language": "python",
   "name": "python3"
  },
  "language_info": {
   "codemirror_mode": {
    "name": "ipython",
    "version": 3
   },
   "file_extension": ".py",
   "mimetype": "text/x-python",
   "name": "python",
   "nbconvert_exporter": "python",
   "pygments_lexer": "ipython3",
   "version": "3.7.6"
  }
 },
 "nbformat": 4,
 "nbformat_minor": 1
}
