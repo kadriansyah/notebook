{
 "cells": [
  {
   "cell_type": "code",
   "execution_count": 6,
   "metadata": {
    "colab": {
     "base_uri": "https://localhost:8080/",
     "height": 88
    },
    "colab_type": "code",
    "executionInfo": {
     "elapsed": 959,
     "status": "ok",
     "timestamp": 1580703940216,
     "user": {
      "displayName": "Kiagus Arief Adriansyah",
      "photoUrl": "https://lh3.googleusercontent.com/a-/AAuE7mDgNof4X_p29AVNSbm_npSTtGqp1GtqPb5UuwPF4Q=s64",
      "userId": "15196441721339582267"
     },
     "user_tz": -420
    },
    "id": "N1aCcKLFQTMW",
    "outputId": "d4d32871-1f71-4ab8-bf31-b140dbb70991"
   },
   "outputs": [],
   "source": [
    "from __future__ import absolute_import, division, print_function, unicode_literals\n",
    "import tensorflow as tf\n",
    "\n",
    "import numpy as np\n",
    "import pandas as pd\n",
    "import matplotlib.pyplot as plt\n",
    "import os\n",
    "import warnings\n",
    "\n",
    "from tensorflow.keras.layers import Input, Embedding, Flatten, Dot, Dense, Concatenate\n",
    "from tensorflow.keras.models import Model\n",
    "\n",
    "warnings.filterwarnings('ignore')\n",
    "%matplotlib inline"
   ]
  },
  {
   "cell_type": "markdown",
   "metadata": {
    "colab_type": "text",
    "id": "PkdjhXwdQTMd"
   },
   "source": [
    "## Loading in data"
   ]
  },
  {
   "cell_type": "code",
   "execution_count": 7,
   "metadata": {
    "colab": {},
    "colab_type": "code",
    "id": "_Rk-GzjyQTMe"
   },
   "outputs": [],
   "source": [
    "dataset = pd.read_csv('ratings.csv')"
   ]
  },
  {
   "cell_type": "code",
   "execution_count": 8,
   "metadata": {
    "colab": {
     "base_uri": "https://localhost:8080/",
     "height": 204
    },
    "colab_type": "code",
    "executionInfo": {
     "elapsed": 1060,
     "status": "ok",
     "timestamp": 1580703968325,
     "user": {
      "displayName": "Kiagus Arief Adriansyah",
      "photoUrl": "https://lh3.googleusercontent.com/a-/AAuE7mDgNof4X_p29AVNSbm_npSTtGqp1GtqPb5UuwPF4Q=s64",
      "userId": "15196441721339582267"
     },
     "user_tz": -420
    },
    "id": "Kq9kmUUJQTMi",
    "outputId": "5335716a-9e34-44f0-f85d-740266777c99"
   },
   "outputs": [
    {
     "data": {
      "text/html": [
       "<div>\n",
       "<style scoped>\n",
       "    .dataframe tbody tr th:only-of-type {\n",
       "        vertical-align: middle;\n",
       "    }\n",
       "\n",
       "    .dataframe tbody tr th {\n",
       "        vertical-align: top;\n",
       "    }\n",
       "\n",
       "    .dataframe thead th {\n",
       "        text-align: right;\n",
       "    }\n",
       "</style>\n",
       "<table border=\"1\" class=\"dataframe\">\n",
       "  <thead>\n",
       "    <tr style=\"text-align: right;\">\n",
       "      <th></th>\n",
       "      <th>book_id</th>\n",
       "      <th>user_id</th>\n",
       "      <th>rating</th>\n",
       "    </tr>\n",
       "  </thead>\n",
       "  <tbody>\n",
       "    <tr>\n",
       "      <th>0</th>\n",
       "      <td>1</td>\n",
       "      <td>314</td>\n",
       "      <td>5</td>\n",
       "    </tr>\n",
       "    <tr>\n",
       "      <th>1</th>\n",
       "      <td>1</td>\n",
       "      <td>439</td>\n",
       "      <td>3</td>\n",
       "    </tr>\n",
       "    <tr>\n",
       "      <th>2</th>\n",
       "      <td>1</td>\n",
       "      <td>588</td>\n",
       "      <td>5</td>\n",
       "    </tr>\n",
       "    <tr>\n",
       "      <th>3</th>\n",
       "      <td>1</td>\n",
       "      <td>1169</td>\n",
       "      <td>4</td>\n",
       "    </tr>\n",
       "    <tr>\n",
       "      <th>4</th>\n",
       "      <td>1</td>\n",
       "      <td>1185</td>\n",
       "      <td>4</td>\n",
       "    </tr>\n",
       "  </tbody>\n",
       "</table>\n",
       "</div>"
      ],
      "text/plain": [
       "   book_id  user_id  rating\n",
       "0        1      314       5\n",
       "1        1      439       3\n",
       "2        1      588       5\n",
       "3        1     1169       4\n",
       "4        1     1185       4"
      ]
     },
     "execution_count": 8,
     "metadata": {},
     "output_type": "execute_result"
    }
   ],
   "source": [
    "dataset.head()"
   ]
  },
  {
   "cell_type": "code",
   "execution_count": 9,
   "metadata": {
    "colab": {
     "base_uri": "https://localhost:8080/",
     "height": 34
    },
    "colab_type": "code",
    "executionInfo": {
     "elapsed": 1191,
     "status": "ok",
     "timestamp": 1580703980173,
     "user": {
      "displayName": "Kiagus Arief Adriansyah",
      "photoUrl": "https://lh3.googleusercontent.com/a-/AAuE7mDgNof4X_p29AVNSbm_npSTtGqp1GtqPb5UuwPF4Q=s64",
      "userId": "15196441721339582267"
     },
     "user_tz": -420
    },
    "id": "hlCLsnjpQTMm",
    "outputId": "093bdf20-4045-4813-a570-14c00919b70e"
   },
   "outputs": [
    {
     "data": {
      "text/plain": [
       "(981756, 3)"
      ]
     },
     "execution_count": 9,
     "metadata": {},
     "output_type": "execute_result"
    }
   ],
   "source": [
    "dataset.shape"
   ]
  },
  {
   "cell_type": "code",
   "execution_count": 11,
   "metadata": {
    "colab": {},
    "colab_type": "code",
    "id": "hqdfscRgQTMq"
   },
   "outputs": [],
   "source": [
    "from sklearn.model_selection import train_test_split\n",
    "train, test = train_test_split(dataset, test_size=0.2, random_state=42)"
   ]
  },
  {
   "cell_type": "code",
   "execution_count": 12,
   "metadata": {
    "colab": {
     "base_uri": "https://localhost:8080/",
     "height": 204
    },
    "colab_type": "code",
    "executionInfo": {
     "elapsed": 934,
     "status": "ok",
     "timestamp": 1580703993384,
     "user": {
      "displayName": "Kiagus Arief Adriansyah",
      "photoUrl": "https://lh3.googleusercontent.com/a-/AAuE7mDgNof4X_p29AVNSbm_npSTtGqp1GtqPb5UuwPF4Q=s64",
      "userId": "15196441721339582267"
     },
     "user_tz": -420
    },
    "id": "ChHnhXp4QTMu",
    "outputId": "88d9cb77-4d36-4e7a-a851-8b34601fd071"
   },
   "outputs": [
    {
     "data": {
      "text/html": [
       "<div>\n",
       "<style scoped>\n",
       "    .dataframe tbody tr th:only-of-type {\n",
       "        vertical-align: middle;\n",
       "    }\n",
       "\n",
       "    .dataframe tbody tr th {\n",
       "        vertical-align: top;\n",
       "    }\n",
       "\n",
       "    .dataframe thead th {\n",
       "        text-align: right;\n",
       "    }\n",
       "</style>\n",
       "<table border=\"1\" class=\"dataframe\">\n",
       "  <thead>\n",
       "    <tr style=\"text-align: right;\">\n",
       "      <th></th>\n",
       "      <th>book_id</th>\n",
       "      <th>user_id</th>\n",
       "      <th>rating</th>\n",
       "    </tr>\n",
       "  </thead>\n",
       "  <tbody>\n",
       "    <tr>\n",
       "      <th>341848</th>\n",
       "      <td>3423</td>\n",
       "      <td>4608</td>\n",
       "      <td>2</td>\n",
       "    </tr>\n",
       "    <tr>\n",
       "      <th>964349</th>\n",
       "      <td>9811</td>\n",
       "      <td>36373</td>\n",
       "      <td>5</td>\n",
       "    </tr>\n",
       "    <tr>\n",
       "      <th>645459</th>\n",
       "      <td>6485</td>\n",
       "      <td>2957</td>\n",
       "      <td>4</td>\n",
       "    </tr>\n",
       "    <tr>\n",
       "      <th>74960</th>\n",
       "      <td>750</td>\n",
       "      <td>42400</td>\n",
       "      <td>3</td>\n",
       "    </tr>\n",
       "    <tr>\n",
       "      <th>358670</th>\n",
       "      <td>3591</td>\n",
       "      <td>36886</td>\n",
       "      <td>5</td>\n",
       "    </tr>\n",
       "  </tbody>\n",
       "</table>\n",
       "</div>"
      ],
      "text/plain": [
       "        book_id  user_id  rating\n",
       "341848     3423     4608       2\n",
       "964349     9811    36373       5\n",
       "645459     6485     2957       4\n",
       "74960       750    42400       3\n",
       "358670     3591    36886       5"
      ]
     },
     "execution_count": 12,
     "metadata": {},
     "output_type": "execute_result"
    }
   ],
   "source": [
    "train.head()"
   ]
  },
  {
   "cell_type": "code",
   "execution_count": 13,
   "metadata": {
    "colab": {
     "base_uri": "https://localhost:8080/",
     "height": 204
    },
    "colab_type": "code",
    "executionInfo": {
     "elapsed": 919,
     "status": "ok",
     "timestamp": 1580703999948,
     "user": {
      "displayName": "Kiagus Arief Adriansyah",
      "photoUrl": "https://lh3.googleusercontent.com/a-/AAuE7mDgNof4X_p29AVNSbm_npSTtGqp1GtqPb5UuwPF4Q=s64",
      "userId": "15196441721339582267"
     },
     "user_tz": -420
    },
    "id": "PtoIDSItQTMx",
    "outputId": "4ca07121-1107-4d88-97fc-c740a69fa33b"
   },
   "outputs": [
    {
     "data": {
      "text/html": [
       "<div>\n",
       "<style scoped>\n",
       "    .dataframe tbody tr th:only-of-type {\n",
       "        vertical-align: middle;\n",
       "    }\n",
       "\n",
       "    .dataframe tbody tr th {\n",
       "        vertical-align: top;\n",
       "    }\n",
       "\n",
       "    .dataframe thead th {\n",
       "        text-align: right;\n",
       "    }\n",
       "</style>\n",
       "<table border=\"1\" class=\"dataframe\">\n",
       "  <thead>\n",
       "    <tr style=\"text-align: right;\">\n",
       "      <th></th>\n",
       "      <th>book_id</th>\n",
       "      <th>user_id</th>\n",
       "      <th>rating</th>\n",
       "    </tr>\n",
       "  </thead>\n",
       "  <tbody>\n",
       "    <tr>\n",
       "      <th>646451</th>\n",
       "      <td>6495</td>\n",
       "      <td>19643</td>\n",
       "      <td>5</td>\n",
       "    </tr>\n",
       "    <tr>\n",
       "      <th>614851</th>\n",
       "      <td>6175</td>\n",
       "      <td>8563</td>\n",
       "      <td>4</td>\n",
       "    </tr>\n",
       "    <tr>\n",
       "      <th>974393</th>\n",
       "      <td>9920</td>\n",
       "      <td>52110</td>\n",
       "      <td>3</td>\n",
       "    </tr>\n",
       "    <tr>\n",
       "      <th>21471</th>\n",
       "      <td>215</td>\n",
       "      <td>33864</td>\n",
       "      <td>5</td>\n",
       "    </tr>\n",
       "    <tr>\n",
       "      <th>272540</th>\n",
       "      <td>2728</td>\n",
       "      <td>16587</td>\n",
       "      <td>3</td>\n",
       "    </tr>\n",
       "  </tbody>\n",
       "</table>\n",
       "</div>"
      ],
      "text/plain": [
       "        book_id  user_id  rating\n",
       "646451     6495    19643       5\n",
       "614851     6175     8563       4\n",
       "974393     9920    52110       3\n",
       "21471       215    33864       5\n",
       "272540     2728    16587       3"
      ]
     },
     "execution_count": 13,
     "metadata": {},
     "output_type": "execute_result"
    }
   ],
   "source": [
    "test.head()"
   ]
  },
  {
   "cell_type": "code",
   "execution_count": 14,
   "metadata": {
    "colab": {
     "base_uri": "https://localhost:8080/",
     "height": 34
    },
    "colab_type": "code",
    "executionInfo": {
     "elapsed": 940,
     "status": "ok",
     "timestamp": 1580704004716,
     "user": {
      "displayName": "Kiagus Arief Adriansyah",
      "photoUrl": "https://lh3.googleusercontent.com/a-/AAuE7mDgNof4X_p29AVNSbm_npSTtGqp1GtqPb5UuwPF4Q=s64",
      "userId": "15196441721339582267"
     },
     "user_tz": -420
    },
    "id": "Lfn6UuBPQTM0",
    "outputId": "a02c84e9-83b6-4ec9-9ba3-e0d94e35ec39"
   },
   "outputs": [
    {
     "data": {
      "text/plain": [
       "53424"
      ]
     },
     "execution_count": 14,
     "metadata": {},
     "output_type": "execute_result"
    }
   ],
   "source": [
    "n_users = len(dataset.user_id.unique())\n",
    "n_users"
   ]
  },
  {
   "cell_type": "code",
   "execution_count": 15,
   "metadata": {
    "colab": {
     "base_uri": "https://localhost:8080/",
     "height": 34
    },
    "colab_type": "code",
    "executionInfo": {
     "elapsed": 1549,
     "status": "ok",
     "timestamp": 1580704008666,
     "user": {
      "displayName": "Kiagus Arief Adriansyah",
      "photoUrl": "https://lh3.googleusercontent.com/a-/AAuE7mDgNof4X_p29AVNSbm_npSTtGqp1GtqPb5UuwPF4Q=s64",
      "userId": "15196441721339582267"
     },
     "user_tz": -420
    },
    "id": "wejVpBPEQTM3",
    "outputId": "674f59a4-23ec-4385-bc2a-83fd76450210"
   },
   "outputs": [
    {
     "data": {
      "text/plain": [
       "10000"
      ]
     },
     "execution_count": 15,
     "metadata": {},
     "output_type": "execute_result"
    }
   ],
   "source": [
    "n_books = len(dataset.book_id.unique())\n",
    "n_books"
   ]
  },
  {
   "cell_type": "markdown",
   "metadata": {
    "colab_type": "text",
    "id": "OVLlokf3QTM6"
   },
   "source": [
    "## Creating dot product model\n",
    "Most recommendation systems are build using a simple dot product as shown below but newer ones are now implementing a neural network instead of the simple dot product."
   ]
  },
  {
   "cell_type": "code",
   "execution_count": 16,
   "metadata": {
    "colab": {
     "base_uri": "https://localhost:8080/",
     "height": 173
    },
    "colab_type": "code",
    "executionInfo": {
     "elapsed": 912,
     "status": "ok",
     "timestamp": 1580704012423,
     "user": {
      "displayName": "Kiagus Arief Adriansyah",
      "photoUrl": "https://lh3.googleusercontent.com/a-/AAuE7mDgNof4X_p29AVNSbm_npSTtGqp1GtqPb5UuwPF4Q=s64",
      "userId": "15196441721339582267"
     },
     "user_tz": -420
    },
    "id": "LbvNe0g-QTM7",
    "outputId": "14a4c401-4086-4441-98b7-6c1161f23abd"
   },
   "outputs": [
    {
     "name": "stdout",
     "output_type": "stream",
     "text": [
      "WARNING:tensorflow:From /Users/kadriansyah/anaconda3/envs/recommender/lib/python3.7/site-packages/tensorflow_core/python/keras/initializers.py:119: calling RandomUniform.__init__ (from tensorflow.python.ops.init_ops) with dtype is deprecated and will be removed in a future version.\n",
      "Instructions for updating:\n",
      "Call initializer instance with the dtype argument instead of passing it to the constructor\n",
      "WARNING:tensorflow:From /Users/kadriansyah/anaconda3/envs/recommender/lib/python3.7/site-packages/tensorflow_core/python/ops/resource_variable_ops.py:1635: calling BaseResourceVariable.__init__ (from tensorflow.python.ops.resource_variable_ops) with constraint is deprecated and will be removed in a future version.\n",
      "Instructions for updating:\n",
      "If using Keras pass *_constraint arguments to layers.\n"
     ]
    }
   ],
   "source": [
    "# creating book embedding path\n",
    "book_input = Input(shape=[1], name=\"Book-Input\")\n",
    "book_embedding = Embedding(n_books+1, 5, name=\"Book-Embedding\")(book_input)\n",
    "book_vec = Flatten(name=\"Flatten-Books\")(book_embedding)\n",
    "\n",
    "# creating user embedding path\n",
    "user_input = Input(shape=[1], name=\"User-Input\")\n",
    "user_embedding = Embedding(n_users+1, 5, name=\"User-Embedding\")(user_input)\n",
    "user_vec = Flatten(name=\"Flatten-Users\")(user_embedding)\n",
    "\n",
    "# performing dot product and creating model\n",
    "prod = Dot(name=\"Dot-Product\", axes=1)([book_vec, user_vec])\n",
    "model = Model([user_input, book_input], prod)\n",
    "model.compile('adam', 'mean_squared_error')"
   ]
  },
  {
   "cell_type": "code",
   "execution_count": 18,
   "metadata": {
    "colab": {
     "base_uri": "https://localhost:8080/",
     "height": 741
    },
    "colab_type": "code",
    "executionInfo": {
     "elapsed": 594993,
     "status": "ok",
     "timestamp": 1580704615252,
     "user": {
      "displayName": "Kiagus Arief Adriansyah",
      "photoUrl": "https://lh3.googleusercontent.com/a-/AAuE7mDgNof4X_p29AVNSbm_npSTtGqp1GtqPb5UuwPF4Q=s64",
      "userId": "15196441721339582267"
     },
     "user_tz": -420
    },
    "id": "s03p7PIfQTM9",
    "outputId": "0ef4393e-fc66-46f0-aac7-a92a9daa84f2",
    "scrolled": true
   },
   "outputs": [
    {
     "name": "stdout",
     "output_type": "stream",
     "text": [
      "Train on 785404 samples\n",
      "Epoch 1/5\n",
      "785404/785404 [==============================] - 31s 39us/sample - loss: 13.1945\n",
      "Epoch 2/5\n",
      "785404/785404 [==============================] - 31s 39us/sample - loss: 3.9542\n",
      "Epoch 3/5\n",
      "785404/785404 [==============================] - 31s 39us/sample - loss: 1.6800\n",
      "Epoch 4/5\n",
      "785404/785404 [==============================] - 30s 39us/sample - loss: 1.1590\n",
      "Epoch 5/5\n",
      "785404/785404 [==============================] - 31s 39us/sample - loss: 0.9449\n"
     ]
    },
    {
     "data": {
      "image/png": "[encoded data removed]",
      "text/plain": [
       "<Figure size 432x288 with 1 Axes>"
      ]
     },
     "metadata": {
      "needs_background": "light"
     },
     "output_type": "display_data"
    }
   ],
   "source": [
    "from tensorflow.keras.models import load_model\n",
    "\n",
    "if os.path.exists('regression_model.h5'):\n",
    "    model = load_model('regression_model.h5')\n",
    "else:\n",
    "    history = model.fit([train.user_id, train.book_id], train.rating, epochs=5, verbose=1)\n",
    "    model.save('regression_model.h5')\n",
    "    plt.plot(history.history['loss'])\n",
    "    plt.xlabel(\"Epochs\")\n",
    "    plt.ylabel(\"Training Error\")"
   ]
  },
  {
   "cell_type": "code",
   "execution_count": 19,
   "metadata": {
    "colab": {
     "base_uri": "https://localhost:8080/",
     "height": 51
    },
    "colab_type": "code",
    "executionInfo": {
     "elapsed": 3932,
     "status": "ok",
     "timestamp": 1580704624953,
     "user": {
      "displayName": "Kiagus Arief Adriansyah",
      "photoUrl": "https://lh3.googleusercontent.com/a-/AAuE7mDgNof4X_p29AVNSbm_npSTtGqp1GtqPb5UuwPF4Q=s64",
      "userId": "15196441721339582267"
     },
     "user_tz": -420
    },
    "id": "WsCaJkiQQTNB",
    "outputId": "38a50d25-1d5e-4ab4-d391-9eb5246fa055"
   },
   "outputs": [
    {
     "name": "stdout",
     "output_type": "stream",
     "text": [
      "196352/196352 [==============================] - 2s 9us/sample - loss: 1.1377\n"
     ]
    },
    {
     "data": {
      "text/plain": [
       "1.137716979288643"
      ]
     },
     "execution_count": 19,
     "metadata": {},
     "output_type": "execute_result"
    }
   ],
   "source": [
    "model.evaluate([test.user_id, test.book_id], test.rating)"
   ]
  },
  {
   "cell_type": "code",
   "execution_count": 20,
   "metadata": {
    "colab": {
     "base_uri": "https://localhost:8080/",
     "height": 204
    },
    "colab_type": "code",
    "executionInfo": {
     "elapsed": 1186,
     "status": "ok",
     "timestamp": 1580704632738,
     "user": {
      "displayName": "Kiagus Arief Adriansyah",
      "photoUrl": "https://lh3.googleusercontent.com/a-/AAuE7mDgNof4X_p29AVNSbm_npSTtGqp1GtqPb5UuwPF4Q=s64",
      "userId": "15196441721339582267"
     },
     "user_tz": -420
    },
    "id": "c6amBeMjQTND",
    "outputId": "2f6524ec-6c25-40a1-8ecb-a836c3acf174"
   },
   "outputs": [
    {
     "name": "stdout",
     "output_type": "stream",
     "text": [
      "[4.919935] 5\n",
      "[3.7822666] 4\n",
      "[3.5564504] 3\n",
      "[4.2263103] 5\n",
      "[3.2531772] 3\n",
      "[3.9127102] 3\n",
      "[3.1504307] 3\n",
      "[4.6922855] 4\n",
      "[4.1678905] 3\n",
      "[4.1391797] 5\n"
     ]
    },
    {
     "data": {
      "text/plain": [
       "[None, None, None, None, None, None, None, None, None, None]"
      ]
     },
     "execution_count": 20,
     "metadata": {},
     "output_type": "execute_result"
    }
   ],
   "source": [
    "predictions = model.predict([test.user_id.head(10), test.book_id.head(10)])\n",
    "\n",
    "[print(predictions[i], test.rating.iloc[i]) for i in range(0,10)]"
   ]
  },
  {
   "cell_type": "markdown",
   "metadata": {
    "colab_type": "text",
    "id": "DpQDWmvnQTNJ"
   },
   "source": [
    "## Creating Neural Network\n",
    "Neural Networks proved there effectivness for almost every machine learning problem as of now and they also perform exceptionally well for recommendation systems."
   ]
  },
  {
   "cell_type": "code",
   "execution_count": 21,
   "metadata": {
    "colab": {},
    "colab_type": "code",
    "id": "s1CWMESgQTNK"
   },
   "outputs": [],
   "source": [
    "# creating book embedding path\n",
    "book_input = Input(shape=[1], name=\"Book-Input\")\n",
    "book_embedding = Embedding(n_books+1, 5, name=\"Book-Embedding\")(book_input)\n",
    "book_vec = Flatten(name=\"Flatten-Books\")(book_embedding)\n",
    "\n",
    "# creating user embedding path\n",
    "user_input = Input(shape=[1], name=\"User-Input\")\n",
    "user_embedding = Embedding(n_users+1, 5, name=\"User-Embedding\")(user_input)\n",
    "user_vec = Flatten(name=\"Flatten-Users\")(user_embedding)\n",
    "\n",
    "# concatenate features\n",
    "conc = Concatenate()([book_vec, user_vec])\n",
    "\n",
    "# add fully-connected-layers\n",
    "fc1 = Dense(128, activation='relu')(conc)\n",
    "fc2 = Dense(32, activation='relu')(fc1)\n",
    "out = Dense(1)(fc2)\n",
    "\n",
    "# Create model and compile it\n",
    "model2 = Model([user_input, book_input], out)\n",
    "model2.compile('adam', 'mean_squared_error')"
   ]
  },
  {
   "cell_type": "code",
   "execution_count": 22,
   "metadata": {
    "colab": {
     "base_uri": "https://localhost:8080/",
     "height": 449
    },
    "colab_type": "code",
    "executionInfo": {
     "elapsed": 679164,
     "status": "ok",
     "timestamp": 1580705336874,
     "user": {
      "displayName": "Kiagus Arief Adriansyah",
      "photoUrl": "https://lh3.googleusercontent.com/a-/AAuE7mDgNof4X_p29AVNSbm_npSTtGqp1GtqPb5UuwPF4Q=s64",
      "userId": "15196441721339582267"
     },
     "user_tz": -420
    },
    "id": "zBpe8-iMQTNO",
    "outputId": "e035c17f-b61a-4fbb-b3d3-8a81223b0d9d"
   },
   "outputs": [
    {
     "name": "stdout",
     "output_type": "stream",
     "text": [
      "Train on 785404 samples\n",
      "Epoch 1/5\n",
      "785404/785404 [==============================] - 36s 46us/sample - loss: 0.7975\n",
      "Epoch 2/5\n",
      "785404/785404 [==============================] - 36s 45us/sample - loss: 0.6878\n",
      "Epoch 3/5\n",
      "785404/785404 [==============================] - 35s 45us/sample - loss: 0.6581\n",
      "Epoch 4/5\n",
      "785404/785404 [==============================] - 36s 46us/sample - loss: 0.6329\n",
      "Epoch 5/5\n",
      "785404/785404 [==============================] - 35s 45us/sample - loss: 0.6095\n"
     ]
    },
    {
     "data": {
      "image/png": "[encoded data removed]",
      "text/plain": [
       "<Figure size 432x288 with 1 Axes>"
      ]
     },
     "metadata": {
      "needs_background": "light"
     },
     "output_type": "display_data"
    }
   ],
   "source": [
    "from tensorflow.keras.models import load_model\n",
    "\n",
    "if os.path.exists('regression_model2.h5'):\n",
    "    model2 = load_model('regression_model2.h5')\n",
    "else:\n",
    "    history = model2.fit([train.user_id, train.book_id], train.rating, epochs=5, verbose=1)\n",
    "    model2.save('regression_model2.h5')\n",
    "    plt.plot(history.history['loss'])\n",
    "    plt.xlabel(\"Epochs\")\n",
    "    plt.ylabel(\"Training Error\")"
   ]
  },
  {
   "cell_type": "code",
   "execution_count": 23,
   "metadata": {
    "colab": {
     "base_uri": "https://localhost:8080/",
     "height": 51
    },
    "colab_type": "code",
    "executionInfo": {
     "elapsed": 5080,
     "status": "ok",
     "timestamp": 1580705525899,
     "user": {
      "displayName": "Kiagus Arief Adriansyah",
      "photoUrl": "https://lh3.googleusercontent.com/a-/AAuE7mDgNof4X_p29AVNSbm_npSTtGqp1GtqPb5UuwPF4Q=s64",
      "userId": "15196441721339582267"
     },
     "user_tz": -420
    },
    "id": "kBR59LmqQTNY",
    "outputId": "ccaf9e25-9966-4c33-83d2-5936d5d357c9"
   },
   "outputs": [
    {
     "name": "stdout",
     "output_type": "stream",
     "text": [
      "196352/196352 [==============================] - 2s 11us/sample - loss: 0.7083\n"
     ]
    },
    {
     "data": {
      "text/plain": [
       "0.7083413668141993"
      ]
     },
     "execution_count": 23,
     "metadata": {},
     "output_type": "execute_result"
    }
   ],
   "source": [
    "model2.evaluate([test.user_id, test.book_id], test.rating)"
   ]
  },
  {
   "cell_type": "code",
   "execution_count": 24,
   "metadata": {
    "colab": {
     "base_uri": "https://localhost:8080/",
     "height": 204
    },
    "colab_type": "code",
    "executionInfo": {
     "elapsed": 948,
     "status": "ok",
     "timestamp": 1580705621680,
     "user": {
      "displayName": "Kiagus Arief Adriansyah",
      "photoUrl": "https://lh3.googleusercontent.com/a-/AAuE7mDgNof4X_p29AVNSbm_npSTtGqp1GtqPb5UuwPF4Q=s64",
      "userId": "15196441721339582267"
     },
     "user_tz": -420
    },
    "id": "wr8iYyBfQTNc",
    "outputId": "97f6dd14-55e1-4533-ffdf-d920c04b69c8"
   },
   "outputs": [
    {
     "name": "stdout",
     "output_type": "stream",
     "text": [
      "[5.0030613] 5\n",
      "[3.6820464] 4\n",
      "[3.4358633] 3\n",
      "[4.160671] 5\n",
      "[3.400921] 3\n",
      "[3.9471025] 3\n",
      "[3.70791] 3\n",
      "[4.893155] 4\n",
      "[4.178474] 3\n",
      "[4.1158447] 5\n"
     ]
    },
    {
     "data": {
      "text/plain": [
       "[None, None, None, None, None, None, None, None, None, None]"
      ]
     },
     "execution_count": 24,
     "metadata": {},
     "output_type": "execute_result"
    }
   ],
   "source": [
    "predictions = model2.predict([test.user_id.head(10), test.book_id.head(10)])\n",
    "\n",
    "[print(predictions[i], test.rating.iloc[i]) for i in range(0,10)]"
   ]
  },
  {
   "cell_type": "markdown",
   "metadata": {
    "colab_type": "text",
    "id": "-1AII8emQTNf"
   },
   "source": [
    "## Visualizing Embeddings\n",
    "Embeddings are weights that are learned to represent some specific variable like books and user in our case and therefore we can not only use them to get good results on our problem but also to extract inside about our data."
   ]
  },
  {
   "cell_type": "code",
   "execution_count": 25,
   "metadata": {
    "colab": {},
    "colab_type": "code",
    "id": "4-Xtv1LkQTNg"
   },
   "outputs": [],
   "source": [
    "# Extract embeddings\n",
    "book_em = model.get_layer('Book-Embedding')\n",
    "book_em_weights = book_em.get_weights()[0]"
   ]
  },
  {
   "cell_type": "code",
   "execution_count": 26,
   "metadata": {
    "colab": {
     "base_uri": "https://localhost:8080/",
     "height": 187
    },
    "colab_type": "code",
    "executionInfo": {
     "elapsed": 988,
     "status": "ok",
     "timestamp": 1580705628969,
     "user": {
      "displayName": "Kiagus Arief Adriansyah",
      "photoUrl": "https://lh3.googleusercontent.com/a-/AAuE7mDgNof4X_p29AVNSbm_npSTtGqp1GtqPb5UuwPF4Q=s64",
      "userId": "15196441721339582267"
     },
     "user_tz": -420
    },
    "id": "un2vvN8jQTNj",
    "outputId": "1b13517e-c2ff-478d-8a9c-fcc312c5c31e"
   },
   "outputs": [
    {
     "data": {
      "text/plain": [
       "array([[-4.2341590e-02,  8.3854683e-03, -2.6536262e-02, -3.5477802e-04,\n",
       "         4.6994537e-04],\n",
       "       [-1.4726813e+00, -1.3026040e+00, -1.4749960e+00,  1.2672013e+00,\n",
       "        -1.3616579e+00],\n",
       "       [-1.3751668e+00, -1.4014722e+00, -1.3522592e+00,  1.3420908e+00,\n",
       "        -1.4217569e+00],\n",
       "       [-1.1258864e+00, -8.0139703e-01, -1.1356378e+00,  8.3173883e-01,\n",
       "        -1.0460472e+00],\n",
       "       [-1.5052953e+00, -1.5209765e+00, -1.4775127e+00,  1.5162483e+00,\n",
       "        -1.4752189e+00]], dtype=float32)"
      ]
     },
     "execution_count": 26,
     "metadata": {},
     "output_type": "execute_result"
    }
   ],
   "source": [
    "book_em_weights[:5]"
   ]
  },
  {
   "cell_type": "code",
   "execution_count": 28,
   "metadata": {
    "colab": {
     "base_uri": "https://localhost:8080/",
     "height": 282
    },
    "colab_type": "code",
    "executionInfo": {
     "elapsed": 1555,
     "status": "ok",
     "timestamp": 1580705633182,
     "user": {
      "displayName": "Kiagus Arief Adriansyah",
      "photoUrl": "https://lh3.googleusercontent.com/a-/AAuE7mDgNof4X_p29AVNSbm_npSTtGqp1GtqPb5UuwPF4Q=s64",
      "userId": "15196441721339582267"
     },
     "user_tz": -420
    },
    "id": "Arfu8KZEQTNm",
    "outputId": "f528ba1b-7bf6-4889-925f-f40a96dc9bbf"
   },
   "outputs": [
    {
     "data": {
      "text/plain": [
       "<matplotlib.axes._subplots.AxesSubplot at 0x1435d9350>"
      ]
     },
     "execution_count": 28,
     "metadata": {},
     "output_type": "execute_result"
    },
    {
     "data": {
      "image/png": "[encoded data removed]",
      "text/plain": [
       "<Figure size 432x288 with 1 Axes>"
      ]
     },
     "metadata": {
      "needs_background": "light"
     },
     "output_type": "display_data"
    }
   ],
   "source": [
    "from sklearn.decomposition import PCA\n",
    "import seaborn as sns\n",
    "\n",
    "pca = PCA(n_components=2)\n",
    "pca_result = pca.fit_transform(book_em_weights)\n",
    "sns.scatterplot(x=pca_result[:,0], y=pca_result[:,1])"
   ]
  },
  {
   "cell_type": "code",
   "execution_count": 29,
   "metadata": {
    "colab": {
     "base_uri": "https://localhost:8080/",
     "height": 34
    },
    "colab_type": "code",
    "executionInfo": {
     "elapsed": 1033,
     "status": "ok",
     "timestamp": 1580705638205,
     "user": {
      "displayName": "Kiagus Arief Adriansyah",
      "photoUrl": "https://lh3.googleusercontent.com/a-/AAuE7mDgNof4X_p29AVNSbm_npSTtGqp1GtqPb5UuwPF4Q=s64",
      "userId": "15196441721339582267"
     },
     "user_tz": -420
    },
    "id": "zU1x7b8EQTNp",
    "outputId": "6f6eeaa8-2b67-48b3-886e-a2cb2d53c730"
   },
   "outputs": [
    {
     "data": {
      "text/plain": [
       "0.99999994"
      ]
     },
     "execution_count": 29,
     "metadata": {},
     "output_type": "execute_result"
    }
   ],
   "source": [
    "book_em_weights = book_em_weights / np.linalg.norm(book_em_weights, axis = 1).reshape((-1, 1))\n",
    "book_em_weights[0][:10]\n",
    "np.sum(np.square(book_em_weights[0]))"
   ]
  },
  {
   "cell_type": "code",
   "execution_count": 30,
   "metadata": {
    "colab": {
     "base_uri": "https://localhost:8080/",
     "height": 282
    },
    "colab_type": "code",
    "executionInfo": {
     "elapsed": 1155,
     "status": "ok",
     "timestamp": 1580705642331,
     "user": {
      "displayName": "Kiagus Arief Adriansyah",
      "photoUrl": "https://lh3.googleusercontent.com/a-/AAuE7mDgNof4X_p29AVNSbm_npSTtGqp1GtqPb5UuwPF4Q=s64",
      "userId": "15196441721339582267"
     },
     "user_tz": -420
    },
    "id": "WZ25lLXSQTNs",
    "outputId": "2d24b4bb-e950-46df-f85f-bc8ed006343f"
   },
   "outputs": [
    {
     "data": {
      "text/plain": [
       "<matplotlib.axes._subplots.AxesSubplot at 0x154b2a9b50>"
      ]
     },
     "execution_count": 30,
     "metadata": {},
     "output_type": "execute_result"
    },
    {
     "data": {
      "image/png": "[encoded data removed]",
      "text/plain": [
       "<Figure size 432x288 with 1 Axes>"
      ]
     },
     "metadata": {
      "needs_background": "light"
     },
     "output_type": "display_data"
    }
   ],
   "source": [
    "pca = PCA(n_components=2)\n",
    "pca_result = pca.fit_transform(book_em_weights)\n",
    "sns.scatterplot(x=pca_result[:,0], y=pca_result[:,1])"
   ]
  },
  {
   "cell_type": "code",
   "execution_count": null,
   "metadata": {
    "colab": {
     "base_uri": "https://localhost:8080/",
     "height": 306
    },
    "colab_type": "code",
    "executionInfo": {
     "elapsed": 35565,
     "status": "ok",
     "timestamp": 1580705680923,
     "user": {
      "displayName": "Kiagus Arief Adriansyah",
      "photoUrl": "https://lh3.googleusercontent.com/a-/AAuE7mDgNof4X_p29AVNSbm_npSTtGqp1GtqPb5UuwPF4Q=s64",
      "userId": "15196441721339582267"
     },
     "user_tz": -420
    },
    "id": "ICOlEhpSQTNu",
    "outputId": "1f6a466a-4c33-491f-d752-5399cc72c2a9"
   },
   "outputs": [],
   "source": [
    "from sklearn.manifold import TSNE\n",
    "\n",
    "tsne = TSNE(n_components=2, verbose=1, perplexity=40, n_iter=300)\n",
    "tnse_results = tsne.fit_transform(book_em_weights)"
   ]
  },
  {
   "cell_type": "code",
   "execution_count": 28,
   "metadata": {
    "colab": {
     "base_uri": "https://localhost:8080/",
     "height": 282
    },
    "colab_type": "code",
    "executionInfo": {
     "elapsed": 29612,
     "status": "ok",
     "timestamp": 1580705680924,
     "user": {
      "displayName": "Kiagus Arief Adriansyah",
      "photoUrl": "https://lh3.googleusercontent.com/a-/AAuE7mDgNof4X_p29AVNSbm_npSTtGqp1GtqPb5UuwPF4Q=s64",
      "userId": "15196441721339582267"
     },
     "user_tz": -420
    },
    "id": "-xF5vo18QTNx",
    "outputId": "97bce61c-d810-48df-94fb-fc80dd686b00"
   },
   "outputs": [
    {
     "data": {
      "text/plain": [
       "<matplotlib.axes._subplots.AxesSubplot at 0x7fdf34efeef0>"
      ]
     },
     "execution_count": 28,
     "metadata": {
      "tags": []
     },
     "output_type": "execute_result"
    },
    {
     "data": {
      "image/png": "[encoded data removed]",
      "text/plain": [
       "<Figure size 432x288 with 1 Axes>"
      ]
     },
     "metadata": {
      "tags": []
     },
     "output_type": "display_data"
    }
   ],
   "source": [
    "sns.scatterplot(x=tnse_results[:,0], y=tnse_results[:,1])"
   ]
  },
  {
   "cell_type": "markdown",
   "metadata": {
    "colab_type": "text",
    "id": "oX0xIsZuQTN1"
   },
   "source": [
    "## Making Recommendations"
   ]
  },
  {
   "cell_type": "code",
   "execution_count": 29,
   "metadata": {
    "colab": {
     "base_uri": "https://localhost:8080/",
     "height": 34
    },
    "colab_type": "code",
    "executionInfo": {
     "elapsed": 1497,
     "status": "ok",
     "timestamp": 1580706805796,
     "user": {
      "displayName": "Kiagus Arief Adriansyah",
      "photoUrl": "https://lh3.googleusercontent.com/a-/AAuE7mDgNof4X_p29AVNSbm_npSTtGqp1GtqPb5UuwPF4Q=s64",
      "userId": "15196441721339582267"
     },
     "user_tz": -420
    },
    "id": "mye77esaQTN1",
    "outputId": "e79dba14-5766-43e4-ca19-80f67aac568d"
   },
   "outputs": [
    {
     "data": {
      "text/plain": [
       "array([1, 2, 3, 4, 5])"
      ]
     },
     "execution_count": 29,
     "metadata": {
      "tags": []
     },
     "output_type": "execute_result"
    }
   ],
   "source": [
    "# Creating dataset for making recommendations for the first user\n",
    "book_data = np.array(list(set(dataset.book_id)))\n",
    "book_data[:5]"
   ]
  },
  {
   "cell_type": "code",
   "execution_count": 30,
   "metadata": {
    "colab": {
     "base_uri": "https://localhost:8080/",
     "height": 34
    },
    "colab_type": "code",
    "executionInfo": {
     "elapsed": 1227,
     "status": "ok",
     "timestamp": 1580706809273,
     "user": {
      "displayName": "Kiagus Arief Adriansyah",
      "photoUrl": "https://lh3.googleusercontent.com/a-/AAuE7mDgNof4X_p29AVNSbm_npSTtGqp1GtqPb5UuwPF4Q=s64",
      "userId": "15196441721339582267"
     },
     "user_tz": -420
    },
    "id": "A9pqjTJfQTN3",
    "outputId": "b8d1052f-eed8-46de-8855-229d6f559a6e"
   },
   "outputs": [
    {
     "data": {
      "text/plain": [
       "array([1, 1, 1, 1, 1])"
      ]
     },
     "execution_count": 30,
     "metadata": {
      "tags": []
     },
     "output_type": "execute_result"
    }
   ],
   "source": [
    "user = np.array([1 for i in range(len(book_data))])\n",
    "user[:5]"
   ]
  },
  {
   "cell_type": "code",
   "execution_count": 31,
   "metadata": {
    "colab": {
     "base_uri": "https://localhost:8080/",
     "height": 34
    },
    "colab_type": "code",
    "executionInfo": {
     "elapsed": 1875,
     "status": "ok",
     "timestamp": 1580706813345,
     "user": {
      "displayName": "Kiagus Arief Adriansyah",
      "photoUrl": "https://lh3.googleusercontent.com/a-/AAuE7mDgNof4X_p29AVNSbm_npSTtGqp1GtqPb5UuwPF4Q=s64",
      "userId": "15196441721339582267"
     },
     "user_tz": -420
    },
    "id": "3BJfXbHEQTN6",
    "outputId": "60d6a86a-32e3-4a4b-f78e-ba54543d23b6"
   },
   "outputs": [
    {
     "data": {
      "text/plain": [
       "array([7638, 9872, 8258, 8945, 8998])"
      ]
     },
     "execution_count": 31,
     "metadata": {
      "tags": []
     },
     "output_type": "execute_result"
    }
   ],
   "source": [
    "predictions = model.predict([user, book_data])\n",
    "\n",
    "predictions = np.array([a[0] for a in predictions])\n",
    "\n",
    "recommended_book_ids = (-predictions).argsort()[:5]\n",
    "\n",
    "recommended_book_ids"
   ]
  },
  {
   "cell_type": "code",
   "execution_count": 32,
   "metadata": {
    "colab": {
     "base_uri": "https://localhost:8080/",
     "height": 51
    },
    "colab_type": "code",
    "executionInfo": {
     "elapsed": 1167,
     "status": "ok",
     "timestamp": 1580706818305,
     "user": {
      "displayName": "Kiagus Arief Adriansyah",
      "photoUrl": "https://lh3.googleusercontent.com/a-/AAuE7mDgNof4X_p29AVNSbm_npSTtGqp1GtqPb5UuwPF4Q=s64",
      "userId": "15196441721339582267"
     },
     "user_tz": -420
    },
    "id": "M_vSkOdiQTN9",
    "outputId": "15dd94c6-225e-4684-b93a-2507d92e2d67"
   },
   "outputs": [
    {
     "data": {
      "text/plain": [
       "array([4.7565017, 4.691648 , 4.6442943, 4.5989213, 4.5915036],\n",
       "      dtype=float32)"
      ]
     },
     "execution_count": 32,
     "metadata": {
      "tags": []
     },
     "output_type": "execute_result"
    }
   ],
   "source": [
    "# print predicted scores\n",
    "predictions[recommended_book_ids]"
   ]
  },
  {
   "cell_type": "code",
   "execution_count": 34,
   "metadata": {
    "colab": {
     "base_uri": "https://localhost:8080/",
     "height": 428
    },
    "colab_type": "code",
    "executionInfo": {
     "elapsed": 1162,
     "status": "ok",
     "timestamp": 1580707199998,
     "user": {
      "displayName": "Kiagus Arief Adriansyah",
      "photoUrl": "https://lh3.googleusercontent.com/a-/AAuE7mDgNof4X_p29AVNSbm_npSTtGqp1GtqPb5UuwPF4Q=s64",
      "userId": "15196441721339582267"
     },
     "user_tz": -420
    },
    "id": "-95pKmnUQTOA",
    "outputId": "2cde5d1e-d766-43ab-9e5a-03af5a60d6e6"
   },
   "outputs": [
    {
     "data": {
      "text/html": [
       "<div>\n",
       "<style scoped>\n",
       "    .dataframe tbody tr th:only-of-type {\n",
       "        vertical-align: middle;\n",
       "    }\n",
       "\n",
       "    .dataframe tbody tr th {\n",
       "        vertical-align: top;\n",
       "    }\n",
       "\n",
       "    .dataframe thead th {\n",
       "        text-align: right;\n",
       "    }\n",
       "</style>\n",
       "<table border=\"1\" class=\"dataframe\">\n",
       "  <thead>\n",
       "    <tr style=\"text-align: right;\">\n",
       "      <th></th>\n",
       "      <th>id</th>\n",
       "      <th>book_id</th>\n",
       "      <th>best_book_id</th>\n",
       "      <th>work_id</th>\n",
       "      <th>books_count</th>\n",
       "      <th>isbn</th>\n",
       "      <th>isbn13</th>\n",
       "      <th>authors</th>\n",
       "      <th>original_publication_year</th>\n",
       "      <th>original_title</th>\n",
       "      <th>title</th>\n",
       "      <th>language_code</th>\n",
       "      <th>average_rating</th>\n",
       "      <th>ratings_count</th>\n",
       "      <th>work_ratings_count</th>\n",
       "      <th>work_text_reviews_count</th>\n",
       "      <th>ratings_1</th>\n",
       "      <th>ratings_2</th>\n",
       "      <th>ratings_3</th>\n",
       "      <th>ratings_4</th>\n",
       "      <th>ratings_5</th>\n",
       "      <th>image_url</th>\n",
       "      <th>small_image_url</th>\n",
       "    </tr>\n",
       "  </thead>\n",
       "  <tbody>\n",
       "    <tr>\n",
       "      <th>0</th>\n",
       "      <td>1</td>\n",
       "      <td>2767052</td>\n",
       "      <td>2767052</td>\n",
       "      <td>2792775</td>\n",
       "      <td>272</td>\n",
       "      <td>439023483</td>\n",
       "      <td>9.780439e+12</td>\n",
       "      <td>Suzanne Collins</td>\n",
       "      <td>2008.0</td>\n",
       "      <td>The Hunger Games</td>\n",
       "      <td>The Hunger Games (The Hunger Games, #1)</td>\n",
       "      <td>eng</td>\n",
       "      <td>4.34</td>\n",
       "      <td>4780653</td>\n",
       "      <td>4942365</td>\n",
       "      <td>155254</td>\n",
       "      <td>66715</td>\n",
       "      <td>127936</td>\n",
       "      <td>560092</td>\n",
       "      <td>1481305</td>\n",
       "      <td>2706317</td>\n",
       "      <td>https://images.gr-assets.com/books/1447303603m...</td>\n",
       "      <td>https://images.gr-assets.com/books/1447303603s...</td>\n",
       "    </tr>\n",
       "    <tr>\n",
       "      <th>1</th>\n",
       "      <td>2</td>\n",
       "      <td>3</td>\n",
       "      <td>3</td>\n",
       "      <td>4640799</td>\n",
       "      <td>491</td>\n",
       "      <td>439554934</td>\n",
       "      <td>9.780440e+12</td>\n",
       "      <td>J.K. Rowling, Mary GrandPré</td>\n",
       "      <td>1997.0</td>\n",
       "      <td>Harry Potter and the Philosopher's Stone</td>\n",
       "      <td>Harry Potter and the Sorcerer's Stone (Harry P...</td>\n",
       "      <td>eng</td>\n",
       "      <td>4.44</td>\n",
       "      <td>4602479</td>\n",
       "      <td>4800065</td>\n",
       "      <td>75867</td>\n",
       "      <td>75504</td>\n",
       "      <td>101676</td>\n",
       "      <td>455024</td>\n",
       "      <td>1156318</td>\n",
       "      <td>3011543</td>\n",
       "      <td>https://images.gr-assets.com/books/1474154022m...</td>\n",
       "      <td>https://images.gr-assets.com/books/1474154022s...</td>\n",
       "    </tr>\n",
       "    <tr>\n",
       "      <th>2</th>\n",
       "      <td>3</td>\n",
       "      <td>41865</td>\n",
       "      <td>41865</td>\n",
       "      <td>3212258</td>\n",
       "      <td>226</td>\n",
       "      <td>316015849</td>\n",
       "      <td>9.780316e+12</td>\n",
       "      <td>Stephenie Meyer</td>\n",
       "      <td>2005.0</td>\n",
       "      <td>Twilight</td>\n",
       "      <td>Twilight (Twilight, #1)</td>\n",
       "      <td>en-US</td>\n",
       "      <td>3.57</td>\n",
       "      <td>3866839</td>\n",
       "      <td>3916824</td>\n",
       "      <td>95009</td>\n",
       "      <td>456191</td>\n",
       "      <td>436802</td>\n",
       "      <td>793319</td>\n",
       "      <td>875073</td>\n",
       "      <td>1355439</td>\n",
       "      <td>https://images.gr-assets.com/books/1361039443m...</td>\n",
       "      <td>https://images.gr-assets.com/books/1361039443s...</td>\n",
       "    </tr>\n",
       "    <tr>\n",
       "      <th>3</th>\n",
       "      <td>4</td>\n",
       "      <td>2657</td>\n",
       "      <td>2657</td>\n",
       "      <td>3275794</td>\n",
       "      <td>487</td>\n",
       "      <td>61120081</td>\n",
       "      <td>9.780061e+12</td>\n",
       "      <td>Harper Lee</td>\n",
       "      <td>1960.0</td>\n",
       "      <td>To Kill a Mockingbird</td>\n",
       "      <td>To Kill a Mockingbird</td>\n",
       "      <td>eng</td>\n",
       "      <td>4.25</td>\n",
       "      <td>3198671</td>\n",
       "      <td>3340896</td>\n",
       "      <td>72586</td>\n",
       "      <td>60427</td>\n",
       "      <td>117415</td>\n",
       "      <td>446835</td>\n",
       "      <td>1001952</td>\n",
       "      <td>1714267</td>\n",
       "      <td>https://images.gr-assets.com/books/1361975680m...</td>\n",
       "      <td>https://images.gr-assets.com/books/1361975680s...</td>\n",
       "    </tr>\n",
       "    <tr>\n",
       "      <th>4</th>\n",
       "      <td>5</td>\n",
       "      <td>4671</td>\n",
       "      <td>4671</td>\n",
       "      <td>245494</td>\n",
       "      <td>1356</td>\n",
       "      <td>743273567</td>\n",
       "      <td>9.780743e+12</td>\n",
       "      <td>F. Scott Fitzgerald</td>\n",
       "      <td>1925.0</td>\n",
       "      <td>The Great Gatsby</td>\n",
       "      <td>The Great Gatsby</td>\n",
       "      <td>eng</td>\n",
       "      <td>3.89</td>\n",
       "      <td>2683664</td>\n",
       "      <td>2773745</td>\n",
       "      <td>51992</td>\n",
       "      <td>86236</td>\n",
       "      <td>197621</td>\n",
       "      <td>606158</td>\n",
       "      <td>936012</td>\n",
       "      <td>947718</td>\n",
       "      <td>https://images.gr-assets.com/books/1490528560m...</td>\n",
       "      <td>https://images.gr-assets.com/books/1490528560s...</td>\n",
       "    </tr>\n",
       "  </tbody>\n",
       "</table>\n",
       "</div>"
      ],
      "text/plain": [
       "   id  ...                                    small_image_url\n",
       "0   1  ...  https://images.gr-assets.com/books/1447303603s...\n",
       "1   2  ...  https://images.gr-assets.com/books/1474154022s...\n",
       "2   3  ...  https://images.gr-assets.com/books/1361039443s...\n",
       "3   4  ...  https://images.gr-assets.com/books/1361975680s...\n",
       "4   5  ...  https://images.gr-assets.com/books/1490528560s...\n",
       "\n",
       "[5 rows x 23 columns]"
      ]
     },
     "execution_count": 34,
     "metadata": {
      "tags": []
     },
     "output_type": "execute_result"
    }
   ],
   "source": [
    "books = pd.read_csv('books.csv')\n",
    "books.head()"
   ]
  },
  {
   "cell_type": "code",
   "execution_count": 35,
   "metadata": {
    "colab": {
     "base_uri": "https://localhost:8080/",
     "height": 377
    },
    "colab_type": "code",
    "executionInfo": {
     "elapsed": 1260,
     "status": "ok",
     "timestamp": 1580707204691,
     "user": {
      "displayName": "Kiagus Arief Adriansyah",
      "photoUrl": "https://lh3.googleusercontent.com/a-/AAuE7mDgNof4X_p29AVNSbm_npSTtGqp1GtqPb5UuwPF4Q=s64",
      "userId": "15196441721339582267"
     },
     "user_tz": -420
    },
    "id": "4PxeJqHaQTOE",
    "outputId": "e4ff4c97-20c1-4e99-a07b-1e66423a07cb"
   },
   "outputs": [
    {
     "data": {
      "text/html": [
       "<div>\n",
       "<style scoped>\n",
       "    .dataframe tbody tr th:only-of-type {\n",
       "        vertical-align: middle;\n",
       "    }\n",
       "\n",
       "    .dataframe tbody tr th {\n",
       "        vertical-align: top;\n",
       "    }\n",
       "\n",
       "    .dataframe thead th {\n",
       "        text-align: right;\n",
       "    }\n",
       "</style>\n",
       "<table border=\"1\" class=\"dataframe\">\n",
       "  <thead>\n",
       "    <tr style=\"text-align: right;\">\n",
       "      <th></th>\n",
       "      <th>id</th>\n",
       "      <th>book_id</th>\n",
       "      <th>best_book_id</th>\n",
       "      <th>work_id</th>\n",
       "      <th>books_count</th>\n",
       "      <th>isbn</th>\n",
       "      <th>isbn13</th>\n",
       "      <th>authors</th>\n",
       "      <th>original_publication_year</th>\n",
       "      <th>original_title</th>\n",
       "      <th>title</th>\n",
       "      <th>language_code</th>\n",
       "      <th>average_rating</th>\n",
       "      <th>ratings_count</th>\n",
       "      <th>work_ratings_count</th>\n",
       "      <th>work_text_reviews_count</th>\n",
       "      <th>ratings_1</th>\n",
       "      <th>ratings_2</th>\n",
       "      <th>ratings_3</th>\n",
       "      <th>ratings_4</th>\n",
       "      <th>ratings_5</th>\n",
       "      <th>image_url</th>\n",
       "      <th>small_image_url</th>\n",
       "    </tr>\n",
       "  </thead>\n",
       "  <tbody>\n",
       "    <tr>\n",
       "      <th>7637</th>\n",
       "      <td>7638</td>\n",
       "      <td>12009</td>\n",
       "      <td>12009</td>\n",
       "      <td>2465248</td>\n",
       "      <td>28</td>\n",
       "      <td>1597800449</td>\n",
       "      <td>9.781598e+12</td>\n",
       "      <td>Iain M. Banks</td>\n",
       "      <td>2004.0</td>\n",
       "      <td>The Algebraist</td>\n",
       "      <td>The Algebraist</td>\n",
       "      <td>eng</td>\n",
       "      <td>3.99</td>\n",
       "      <td>13210</td>\n",
       "      <td>14793</td>\n",
       "      <td>606</td>\n",
       "      <td>185</td>\n",
       "      <td>684</td>\n",
       "      <td>3067</td>\n",
       "      <td>5984</td>\n",
       "      <td>4873</td>\n",
       "      <td>https://s.gr-assets.com/assets/nophoto/book/11...</td>\n",
       "      <td>https://s.gr-assets.com/assets/nophoto/book/50...</td>\n",
       "    </tr>\n",
       "    <tr>\n",
       "      <th>8257</th>\n",
       "      <td>8258</td>\n",
       "      <td>18594594</td>\n",
       "      <td>18594594</td>\n",
       "      <td>26341000</td>\n",
       "      <td>41</td>\n",
       "      <td>345547497</td>\n",
       "      <td>9.780346e+12</td>\n",
       "      <td>Karin Slaughter</td>\n",
       "      <td>2014.0</td>\n",
       "      <td>Cop Town</td>\n",
       "      <td>Cop Town</td>\n",
       "      <td>eng</td>\n",
       "      <td>3.88</td>\n",
       "      <td>10660</td>\n",
       "      <td>13997</td>\n",
       "      <td>1704</td>\n",
       "      <td>274</td>\n",
       "      <td>780</td>\n",
       "      <td>3299</td>\n",
       "      <td>5612</td>\n",
       "      <td>4032</td>\n",
       "      <td>https://images.gr-assets.com/books/1384822680m...</td>\n",
       "      <td>https://images.gr-assets.com/books/1384822680s...</td>\n",
       "    </tr>\n",
       "    <tr>\n",
       "      <th>8944</th>\n",
       "      <td>8945</td>\n",
       "      <td>32529</td>\n",
       "      <td>32529</td>\n",
       "      <td>3214115</td>\n",
       "      <td>40</td>\n",
       "      <td>752848267</td>\n",
       "      <td>9.780753e+12</td>\n",
       "      <td>Lisa Gardner</td>\n",
       "      <td>2001.0</td>\n",
       "      <td>The Next Accident</td>\n",
       "      <td>The Next Accident (Quincy &amp; Rainie, #3)</td>\n",
       "      <td>en-US</td>\n",
       "      <td>4.16</td>\n",
       "      <td>11261</td>\n",
       "      <td>13328</td>\n",
       "      <td>513</td>\n",
       "      <td>49</td>\n",
       "      <td>231</td>\n",
       "      <td>2323</td>\n",
       "      <td>5612</td>\n",
       "      <td>5113</td>\n",
       "      <td>https://images.gr-assets.com/books/1348816896m...</td>\n",
       "      <td>https://images.gr-assets.com/books/1348816896s...</td>\n",
       "    </tr>\n",
       "    <tr>\n",
       "      <th>8997</th>\n",
       "      <td>8998</td>\n",
       "      <td>292740</td>\n",
       "      <td>292740</td>\n",
       "      <td>2457130</td>\n",
       "      <td>37</td>\n",
       "      <td>2266071289</td>\n",
       "      <td>9.782266e+12</td>\n",
       "      <td>Lorenzo Carcaterra</td>\n",
       "      <td>1995.0</td>\n",
       "      <td>Sleepers</td>\n",
       "      <td>Sleepers</td>\n",
       "      <td>eng</td>\n",
       "      <td>4.18</td>\n",
       "      <td>9560</td>\n",
       "      <td>10772</td>\n",
       "      <td>553</td>\n",
       "      <td>73</td>\n",
       "      <td>304</td>\n",
       "      <td>1775</td>\n",
       "      <td>4088</td>\n",
       "      <td>4532</td>\n",
       "      <td>https://images.gr-assets.com/books/1327871596m...</td>\n",
       "      <td>https://images.gr-assets.com/books/1327871596s...</td>\n",
       "    </tr>\n",
       "    <tr>\n",
       "      <th>9871</th>\n",
       "      <td>9872</td>\n",
       "      <td>24480276</td>\n",
       "      <td>24480276</td>\n",
       "      <td>44074400</td>\n",
       "      <td>45</td>\n",
       "      <td>NaN</td>\n",
       "      <td>9.781475e+12</td>\n",
       "      <td>Laura  Barnett</td>\n",
       "      <td>2015.0</td>\n",
       "      <td>The Versions of Us</td>\n",
       "      <td>The Versions of Us</td>\n",
       "      <td>eng</td>\n",
       "      <td>3.57</td>\n",
       "      <td>8477</td>\n",
       "      <td>11346</td>\n",
       "      <td>1685</td>\n",
       "      <td>382</td>\n",
       "      <td>1170</td>\n",
       "      <td>3457</td>\n",
       "      <td>4250</td>\n",
       "      <td>2087</td>\n",
       "      <td>https://images.gr-assets.com/books/1423155390m...</td>\n",
       "      <td>https://images.gr-assets.com/books/1423155390s...</td>\n",
       "    </tr>\n",
       "  </tbody>\n",
       "</table>\n",
       "</div>"
      ],
      "text/plain": [
       "        id  ...                                    small_image_url\n",
       "7637  7638  ...  https://s.gr-assets.com/assets/nophoto/book/50...\n",
       "8257  8258  ...  https://images.gr-assets.com/books/1384822680s...\n",
       "8944  8945  ...  https://images.gr-assets.com/books/1348816896s...\n",
       "8997  8998  ...  https://images.gr-assets.com/books/1327871596s...\n",
       "9871  9872  ...  https://images.gr-assets.com/books/1423155390s...\n",
       "\n",
       "[5 rows x 23 columns]"
      ]
     },
     "execution_count": 35,
     "metadata": {
      "tags": []
     },
     "output_type": "execute_result"
    }
   ],
   "source": [
    "books[books['id'].isin(recommended_book_ids)]"
   ]
  }
 ],
 "metadata": {
  "colab": {
   "collapsed_sections": [],
   "name": "Recommendation System.ipynb",
   "provenance": [
    {
     "file_id": "https://github.com/TannerGilbert/Tutorials/blob/master/Recommendation%20System/Recommendation%20System.ipynb",
     "timestamp": 1580703722029
    }
   ]
  },
  "kernelspec": {
   "display_name": "Python 3",
   "language": "python",
   "name": "python3"
  },
  "language_info": {
   "codemirror_mode": {
    "name": "ipython",
    "version": 3
   },
   "file_extension": ".py",
   "mimetype": "text/x-python",
   "name": "python",
   "nbconvert_exporter": "python",
   "pygments_lexer": "ipython3",
   "version": "3.7.6"
  }
 },
 "nbformat": 4,
 "nbformat_minor": 1
}
